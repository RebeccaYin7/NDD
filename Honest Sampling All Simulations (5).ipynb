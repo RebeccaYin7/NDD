{
 "cells": [
  {
   "cell_type": "code",
   "execution_count": 1,
   "metadata": {},
   "outputs": [],
   "source": [
    "import numpy as np\n",
    "from numba import njit\n",
    "import pickle\n",
    "from sklearn.ensemble import BaggingClassifier\n",
    "from sklearn.tree._classes import DecisionTreeClassifier\n",
    "from joblib import Parallel, delayed\n",
    "from scipy.stats import entropy, multivariate_normal\n",
    "\n",
    "from hyppo.tools import multimodal_independence, indep_sim\n",
    "from hyppo.ksample._utils import k_sample_transform\n",
    "from hyppo.independence.base import IndependenceTest\n",
    "from tqdm import tqdm\n",
    "\n",
    "import sys\n",
    "import os\n",
    "import multiprocessing as mp\n",
    "from joblib import Parallel, delayed\n",
    "from hyppo.tools import SIMULATIONS\n",
    "from hyppo.tools import power\n",
    "from math import ceil"
   ]
  },
  {
   "cell_type": "code",
   "execution_count": 2,
   "metadata": {},
   "outputs": [],
   "source": [
    "def test_stat_helper(vote_nodes, vote_classes, class_counts, K, kappa=3, base=2):\n",
    "    \"\"\"\n",
    "    est_nodes : list\n",
    "        Leaf indices used for voting\n",
    "    eval_nodes : list\n",
    "        Leaf indices in which a sample from the density subsample falls\n",
    "    est_classes : list\n",
    "        Voter class labels in est_node leaves\n",
    "    \"\"\"\n",
    "    for i in range(len(vote_nodes)):\n",
    "        class_counts[vote_nodes[i], vote_classes[i]] += 1\n",
    "\n",
    "    # Total number of estimation points in each leaf.\n",
    "    row_sums = class_counts.sum(axis=1)\n",
    "    row_sums[row_sums == 0] = 1  # Avoid divide by zero.\n",
    "    class_probs = class_counts / row_sums[:, None]\n",
    "\n",
    "    # Make the nodes that have no estimation indices uniform.\n",
    "    # This includes non-leaf nodes, but tha t will not affect the estimate.\n",
    "    class_probs[np.argwhere(class_probs.sum(axis=1) == 0)] = [1 / K]*K\n",
    "    # Apply finite sample correction and renormalize.\n",
    "    where_0 = np.argwhere(class_probs == 0)\n",
    "    for elem in where_0:\n",
    "        class_probs[elem[0], elem[1]] = 1 / \\\n",
    "            (kappa*class_counts.sum(axis=1)[elem[0]])\n",
    "    row_sums = class_probs.sum(axis=1)\n",
    "    class_probs = class_probs / row_sums[:, None]\n",
    "\n",
    "    # Place evaluation points in their corresponding leaf node.\n",
    "    # Store evaluation posterior in a num_eval-by-num_class matrix.\n",
    "    vote_class_probs = class_probs[vote_nodes]\n",
    "    vote_entropies = [entropy(posterior, base=base)\n",
    "                      for posterior in vote_class_probs]\n",
    "    return np.mean(vote_entropies)\n",
    "\n",
    "def uf(X, y, n_estimators=5, max_samples=.63, base=2, kappa=3, reps=100, n_jobs=None):\n",
    "    # Build forest with default parameters.\n",
    "    model = BaggingClassifier(DecisionTreeClassifier(),\n",
    "                              n_estimators=n_estimators,\n",
    "                              max_samples=max_samples,\n",
    "                              n_jobs=n_jobs,\n",
    "                              bootstrap=False)\n",
    "    model.fit(X, y)\n",
    "    n = X.shape[0]\n",
    "    K = model.n_classes_\n",
    "    _, y = np.unique(y, return_inverse=True)\n",
    "\n",
    "    cond_entropy = 0\n",
    "    final_null_dist = [0] * 100\n",
    "\n",
    "    #tree_est_nodes = []\n",
    "    #tree_eval_nodes = []\n",
    "    tree_vote_nodes = []\n",
    "    tree_unsampled_indices = []\n",
    "\n",
    "    # Get real test statistics\n",
    "    for tree_idx, tree in enumerate(model):\n",
    "        # Find the indices of the training set used for partition.\n",
    "        sampled_indices = model.estimators_samples_[tree_idx]\n",
    "        unsampled_indices = np.delete(np.arange(0, n), sampled_indices)\n",
    "        np.random.shuffle(unsampled_indices)\n",
    "        tree_unsampled_indices.append(unsampled_indices)\n",
    "\n",
    "        # Randomly split the rest into voting and evaluation.\n",
    "        #vote_indices = unsampled_indices[:len(unsampled_indices)//2]\n",
    "        #eval_indices = unsampled_indices[len(unsampled_indices)//2:]\n",
    "\n",
    "        # Store the posterior in a num_nodes-by-num_classes matrix.\n",
    "        # Posteriors in non-leaf cells will be zero everywhere\n",
    "        # and later changed to uniform.\n",
    "        node_counts = tree.tree_.n_node_samples\n",
    "        class_counts = np.zeros((len(node_counts), K))\n",
    "        vote_nodes = tree.apply(X[unsampled_indices])\n",
    "        tree_vote_nodes.append(vote_nodes)\n",
    "        \n",
    "        #est_nodes = tree.apply(X[vote_indices])\n",
    "        #tree_est_nodes.append(est_nodes)\n",
    "        #eval_nodes = tree.apply(X[eval_indices])\n",
    "        #tree_eval_nodes.append(eval_nodes)\n",
    "\n",
    "        cond_entropy += test_stat_helper(\n",
    "            vote_nodes, y[unsampled_indices], class_counts, K)\n",
    "\n",
    "    # Generate null dist\n",
    "    # normally 1000-10,000 reps for null \n",
    "    for j in range(reps):\n",
    "        for tree, unsampled_indices, vote_nodes in zip(\n",
    "            model, tree_unsampled_indices, tree_vote_nodes\n",
    "        ):\n",
    "            node_counts = tree.tree_.n_node_samples\n",
    "            class_counts = np.zeros((len(node_counts), K))\n",
    "            y_vote = y[unsampled_indices]\n",
    "            np.random.shuffle(y_vote)\n",
    "            final_null_dist[j] += test_stat_helper(\n",
    "                vote_nodes, y_vote, class_counts, K)\n",
    "\n",
    "    # note: shuffling y doesn't change these outputs\n",
    "    new_final_null_dist = [entropy([np.mean(\n",
    "        y), 1 - np.mean(y)], base=2) - val / n_estimators for val in final_null_dist]\n",
    "\n",
    "    final_stat = entropy([np.mean(y), 1 - np.mean(y)],\n",
    "                         base=2) - cond_entropy / n_estimators\n",
    "    return final_stat, new_final_null_dist\n",
    "\n",
    "def statistic(X, y): \n",
    "    stat, null_dist = uf(X, y, n_jobs = 4)\n",
    "    #sestat = stat\n",
    "    #self.null_dist = null_dist\n",
    "    return stat, null_dist"
   ]
  },
  {
   "cell_type": "code",
   "execution_count": 20,
   "metadata": {},
   "outputs": [],
   "source": [
    "MAX_SAMPLE_SIZE = 300\n",
    "STEP_SIZE = 50\n",
    "SAMP_SIZES = range(100, MAX_SAMPLE_SIZE + STEP_SIZE, STEP_SIZE)\n",
    "POWER_REPS = 50\n",
    "\n",
    "# simulation titles\n",
    "SIM_TITLES = [\n",
    "    \"Linear\",\n",
    "    \"Exponential\",\n",
    "    \"Cubic\",\n",
    "    \"Joint Normal\",\n",
    "    \"Step\",\n",
    "    \"Quadratic\",\n",
    "    \"W-Shaped\",\n",
    "    \"Spiral\",\n",
    "    \"Bernoulli\",\n",
    "    \"Logarithmic\",\n",
    "    \"Fourth Root\",\n",
    "    \"Sine 4\\u03C0\",\n",
    "    \"Sine 16\\u03C0\",\n",
    "    \"Square\",\n",
    "    \"Two Parabolas\",\n",
    "    \"Circle\",\n",
    "    \"Ellipse\",\n",
    "    \"Diamond\",\n",
    "    \"Noise\",\n",
    "    \"Independence\",\n",
    "]\n",
    "\n",
    "# these tests only make sense for > 1 dimension data\n",
    "#remove = [\"maxmargin\", \"kmerf\"]\n",
    "#INDEP_TESTS = dict([(k, v) for k, v in INDEP_TESTS.items() if k not in remove])\n",
    "\n",
    "#INDEP_TESTS = [\n",
    "    #UF,\n",
    "#]"
   ]
  },
  {
   "cell_type": "code",
   "execution_count": 21,
   "metadata": {},
   "outputs": [],
   "source": [
    "from hyppo.independence import INDEP_TESTS\n",
    "from hyppo.ksample import KSAMP_TESTS, KSample, k_sample_transform\n",
    "from hyppo.tools import indep_sim\n",
    "from hyppo.tools import gaussian_3samp, rot_ksamp\n",
    "\n",
    "\n",
    "_ALL_SIMS = {\n",
    "    \"indep\": indep_sim,\n",
    "    \"ksamp\": rot_ksamp,\n",
    "    \"gauss\": gaussian_3samp,\n",
    "}\n",
    "\n",
    "def _sim_gen(sim_type, sim, n, **kwargs):\n",
    "    \"\"\"\n",
    "    Generate ``sims`` for the desired simulations.\n",
    "    \n",
    "    if sim_type in [\"indep\", \"ksamp\"]:\n",
    "        if (\n",
    "            kwargs[str(sim)] in [\"multiplicative_noise\", \"multimodal_independence\"]\n",
    "            and \"noise\" in kwargs.keys()\n",
    "        ):\n",
    "            kwargs.pop(\"noise\")\n",
    "    \"\"\"\n",
    "    sims = _ALL_SIMS[sim_type](sim, n, **kwargs)\n",
    "\n",
    "    return sims\n",
    "\n",
    "def _indep_perm_stat(test, sim_type, sim, n, **kwargs):\n",
    "    \"\"\"\n",
    "    Generates null and alternate distributions for the independence test.\n",
    "    \"\"\"\n",
    "    #x, y = _sim_gen(sim_type=sim_type, sim = sim, n=n, **kwargs)\n",
    "    #x, y = k_sample_transform([x_matrix, y_matrix])\n",
    "    #y = list(map(int, y))\n",
    "    x, y = rot_ksamp(sim, n=n, p=3, noise=True)\n",
    "    x, y = k_sample_transform([x, y])\n",
    "    #y = y.astype(int)\n",
    "    obs_stat, null_dist = statistic(x, y.ravel())\n",
    "    #stat, null_dist = uf(x, y, n_jobs=n_jobs)\n",
    "    #permy = np.random.permutation(y)\n",
    "    #perm_stat = UF._statistic(x, permy)\n",
    "    pvalue = np.mean(np.asarray(null_dist) >= obs_stat)\n",
    "    #print(pvalue)\n",
    "    return obs_stat, pvalue\n",
    "\n",
    "#changed reps from 1000 to 10 \n",
    "def power2(test, sim_type, sim=None, n=100, alpha=0.05, reps=10, auto=False, **kwargs):\n",
    "    test_stats, pvalues = map(\n",
    "            np.float64,\n",
    "            zip(\n",
    "                *[\n",
    "                    _indep_perm_stat(test=test, sim_type=sim_type, sim = sim, n = n, **kwargs)\n",
    "                    for _ in range(reps)\n",
    "                ]\n",
    "            ),\n",
    "        )\n",
    "    #cutoff = np.sort(null_dist)[ceil(reps * (1 - alpha))]\n",
    "    #empirical_power = (1 + (alt_dist >= cutoff).sum()) / (1 + reps)\n",
    "    empirical_power = (1 + (pvalues <= 0.05).sum()) / (1 + reps) \n",
    "\n",
    "    return empirical_power"
   ]
  },
  {
   "cell_type": "code",
   "execution_count": 22,
   "metadata": {},
   "outputs": [],
   "source": [
    "from statsmodels.distributions.empirical_distribution import ECDF\n",
    "import matplotlib.pyplot as plt\n",
    "\n",
    "def estimate_power(sim, test):\n",
    "    #est_power = np.array([np.mean([power_2samp_sample(test, trans_2samp, sim, n=i) for _ in range(POWER_REPS)])\n",
    "                          #for i in SAMP_SIZES])\n",
    "    print(sim)\n",
    "    \"\"\"\"\n",
    "    save_power = []\n",
    "    est_power = np.array(\n",
    "        [\n",
    "            np.mean(\n",
    "                [\n",
    "                    power2(\n",
    "                        test, sim_type=\"indep\", sim=sim, n=i, p=3, auto=False, noise=True\n",
    "                    )\n",
    "                    for _ in tqdm(range(POWER_REPS))\n",
    "                ]\n",
    "            )\n",
    "            for i in tqdm(SAMP_SIZES)\n",
    "        ]\n",
    "    )\n",
    "    \"\"\"\n",
    "    \n",
    "    est_power = []\n",
    "    for i in tqdm(SAMP_SIZES): \n",
    "        print(\"sample size\" + str(i))\n",
    "        save_power = []\n",
    "        for _ in tqdm(range(POWER_REPS)): \n",
    "            print(\"power rep\" + str(_))\n",
    "            temp_power = power2(test, sim_type=\"indep\", sim=sim, n=i, p=3, auto=False, noise=True) \n",
    "            save_power.append(temp_power)\n",
    "        print(save_power)\n",
    "        est_power.append(np.mean(save_power))\n",
    "                \n",
    "        \n",
    "    \n",
    "    print(sim + \" done\")\n",
    "    np.savetxt('C:/Users/siptest/Desktop/NDD/{}_{}HonestSamplingPower.csv'.format(sim, \"UF\"),\n",
    "            est_power, delimiter=',')\n",
    "    \n",
    "    return est_power\n"
   ]
  },
  {
   "cell_type": "code",
   "execution_count": null,
   "metadata": {},
   "outputs": [
    {
     "name": "stderr",
     "output_type": "stream",
     "text": [
      "  0%|                                                                                                                                                        | 0/5 [00:00<?, ?it/s]\n",
      "  0%|                                                                                                                                                       | 0/50 [00:00<?, ?it/s]\u001b[A"
     ]
    },
    {
     "name": "stdout",
     "output_type": "stream",
     "text": [
      "multimodal_independence\n",
      "sample size100\n",
      "power rep0\n"
     ]
    },
    {
     "name": "stderr",
     "output_type": "stream",
     "text": [
      "\n",
      "  2%|██▊                                                                                                                                            | 1/50 [00:09<07:44,  9.48s/it]\u001b[A"
     ]
    },
    {
     "name": "stdout",
     "output_type": "stream",
     "text": [
      "power rep1\n"
     ]
    },
    {
     "name": "stderr",
     "output_type": "stream",
     "text": [
      "\n",
      "  4%|█████▋                                                                                                                                         | 2/50 [00:18<07:32,  9.43s/it]\u001b[A"
     ]
    },
    {
     "name": "stdout",
     "output_type": "stream",
     "text": [
      "power rep2\n"
     ]
    },
    {
     "name": "stderr",
     "output_type": "stream",
     "text": [
      "\n",
      "  6%|████████▌                                                                                                                                      | 3/50 [00:27<07:18,  9.33s/it]\u001b[A"
     ]
    },
    {
     "name": "stdout",
     "output_type": "stream",
     "text": [
      "power rep3\n"
     ]
    },
    {
     "name": "stderr",
     "output_type": "stream",
     "text": [
      "\n",
      "  8%|███████████▍                                                                                                                                   | 4/50 [00:36<07:04,  9.23s/it]\u001b[A"
     ]
    },
    {
     "name": "stdout",
     "output_type": "stream",
     "text": [
      "power rep4\n"
     ]
    },
    {
     "name": "stderr",
     "output_type": "stream",
     "text": [
      "\n",
      " 10%|██████████████▎                                                                                                                                | 5/50 [00:45<06:52,  9.18s/it]\u001b[A"
     ]
    },
    {
     "name": "stdout",
     "output_type": "stream",
     "text": [
      "power rep5\n"
     ]
    },
    {
     "name": "stderr",
     "output_type": "stream",
     "text": [
      "\n",
      " 12%|█████████████████▏                                                                                                                             | 6/50 [00:55<06:42,  9.14s/it]\u001b[A"
     ]
    },
    {
     "name": "stdout",
     "output_type": "stream",
     "text": [
      "power rep6\n"
     ]
    },
    {
     "name": "stderr",
     "output_type": "stream",
     "text": [
      "\n",
      " 14%|████████████████████                                                                                                                           | 7/50 [01:06<06:58,  9.74s/it]\u001b[A"
     ]
    },
    {
     "name": "stdout",
     "output_type": "stream",
     "text": [
      "power rep7\n"
     ]
    },
    {
     "name": "stderr",
     "output_type": "stream",
     "text": [
      "\n",
      " 16%|██████████████████████▉                                                                                                                        | 8/50 [01:17<07:05, 10.13s/it]\u001b[A"
     ]
    },
    {
     "name": "stdout",
     "output_type": "stream",
     "text": [
      "power rep8\n"
     ]
    },
    {
     "name": "stderr",
     "output_type": "stream",
     "text": [
      "\n",
      " 18%|█████████████████████████▋                                                                                                                     | 9/50 [01:26<06:50, 10.01s/it]\u001b[A"
     ]
    },
    {
     "name": "stdout",
     "output_type": "stream",
     "text": [
      "power rep9\n"
     ]
    },
    {
     "name": "stderr",
     "output_type": "stream",
     "text": [
      "\n",
      " 20%|████████████████████████████▍                                                                                                                 | 10/50 [01:36<06:36,  9.92s/it]\u001b[A"
     ]
    },
    {
     "name": "stdout",
     "output_type": "stream",
     "text": [
      "power rep10\n"
     ]
    },
    {
     "name": "stderr",
     "output_type": "stream",
     "text": [
      "\n",
      " 22%|███████████████████████████████▏                                                                                                              | 11/50 [01:45<06:17,  9.67s/it]\u001b[A"
     ]
    },
    {
     "name": "stdout",
     "output_type": "stream",
     "text": [
      "power rep11\n"
     ]
    },
    {
     "name": "stderr",
     "output_type": "stream",
     "text": [
      "\n",
      " 24%|██████████████████████████████████                                                                                                            | 12/50 [01:55<06:07,  9.68s/it]\u001b[A"
     ]
    },
    {
     "name": "stdout",
     "output_type": "stream",
     "text": [
      "power rep12\n"
     ]
    },
    {
     "name": "stderr",
     "output_type": "stream",
     "text": [
      "\n",
      " 26%|████████████████████████████████████▉                                                                                                         | 13/50 [02:04<05:55,  9.60s/it]\u001b[A"
     ]
    },
    {
     "name": "stdout",
     "output_type": "stream",
     "text": [
      "power rep13\n"
     ]
    },
    {
     "name": "stderr",
     "output_type": "stream",
     "text": [
      "\n",
      " 28%|███████████████████████████████████████▊                                                                                                      | 14/50 [02:13<05:39,  9.43s/it]\u001b[A"
     ]
    },
    {
     "name": "stdout",
     "output_type": "stream",
     "text": [
      "power rep14\n"
     ]
    },
    {
     "name": "stderr",
     "output_type": "stream",
     "text": [
      "\n",
      " 30%|██████████████████████████████████████████▌                                                                                                   | 15/50 [02:22<05:18,  9.11s/it]\u001b[A"
     ]
    },
    {
     "name": "stdout",
     "output_type": "stream",
     "text": [
      "power rep15\n"
     ]
    },
    {
     "name": "stderr",
     "output_type": "stream",
     "text": [
      "\n",
      " 32%|█████████████████████████████████████████████▍                                                                                                | 16/50 [02:31<05:12,  9.20s/it]\u001b[A"
     ]
    },
    {
     "name": "stdout",
     "output_type": "stream",
     "text": [
      "power rep16\n"
     ]
    },
    {
     "name": "stderr",
     "output_type": "stream",
     "text": [
      "\n",
      " 34%|████████████████████████████████████████████████▎                                                                                             | 17/50 [02:40<05:03,  9.18s/it]\u001b[A"
     ]
    },
    {
     "name": "stdout",
     "output_type": "stream",
     "text": [
      "power rep17\n"
     ]
    },
    {
     "name": "stderr",
     "output_type": "stream",
     "text": [
      "\n",
      " 36%|███████████████████████████████████████████████████                                                                                           | 18/50 [02:50<04:55,  9.22s/it]\u001b[A"
     ]
    },
    {
     "name": "stdout",
     "output_type": "stream",
     "text": [
      "power rep18\n"
     ]
    },
    {
     "name": "stderr",
     "output_type": "stream",
     "text": [
      "\n",
      " 38%|█████████████████████████████████████████████████████▉                                                                                        | 19/50 [02:59<04:45,  9.20s/it]\u001b[A"
     ]
    },
    {
     "name": "stdout",
     "output_type": "stream",
     "text": [
      "power rep19\n"
     ]
    },
    {
     "name": "stderr",
     "output_type": "stream",
     "text": [
      "\n",
      " 40%|████████████████████████████████████████████████████████▊                                                                                     | 20/50 [03:08<04:36,  9.22s/it]\u001b[A"
     ]
    },
    {
     "name": "stdout",
     "output_type": "stream",
     "text": [
      "power rep20\n"
     ]
    },
    {
     "name": "stderr",
     "output_type": "stream",
     "text": [
      "\n",
      " 42%|███████████████████████████████████████████████████████████▋                                                                                  | 21/50 [03:17<04:26,  9.21s/it]\u001b[A"
     ]
    },
    {
     "name": "stdout",
     "output_type": "stream",
     "text": [
      "power rep21\n"
     ]
    },
    {
     "name": "stderr",
     "output_type": "stream",
     "text": [
      "\n",
      " 44%|██████████████████████████████████████████████████████████████▍                                                                               | 22/50 [03:26<04:14,  9.10s/it]\u001b[A"
     ]
    },
    {
     "name": "stdout",
     "output_type": "stream",
     "text": [
      "power rep22\n"
     ]
    },
    {
     "name": "stderr",
     "output_type": "stream",
     "text": [
      "\n",
      " 46%|█████████████████████████████████████████████████████████████████▎                                                                            | 23/50 [03:36<04:08,  9.22s/it]\u001b[A"
     ]
    },
    {
     "name": "stdout",
     "output_type": "stream",
     "text": [
      "power rep23\n"
     ]
    },
    {
     "name": "stderr",
     "output_type": "stream",
     "text": [
      "\n",
      " 48%|████████████████████████████████████████████████████████████████████▏                                                                         | 24/50 [03:45<03:58,  9.16s/it]\u001b[A"
     ]
    },
    {
     "name": "stdout",
     "output_type": "stream",
     "text": [
      "power rep24\n"
     ]
    },
    {
     "name": "stderr",
     "output_type": "stream",
     "text": [
      "\n",
      " 50%|███████████████████████████████████████████████████████████████████████                                                                       | 25/50 [03:54<03:52,  9.30s/it]\u001b[A"
     ]
    },
    {
     "name": "stdout",
     "output_type": "stream",
     "text": [
      "power rep25\n"
     ]
    },
    {
     "name": "stderr",
     "output_type": "stream",
     "text": [
      "\n",
      " 52%|█████████████████████████████████████████████████████████████████████████▊                                                                    | 26/50 [04:04<03:44,  9.37s/it]\u001b[A"
     ]
    },
    {
     "name": "stdout",
     "output_type": "stream",
     "text": [
      "power rep26\n"
     ]
    },
    {
     "name": "stderr",
     "output_type": "stream",
     "text": [
      "\n",
      " 54%|████████████████████████████████████████████████████████████████████████████▋                                                                 | 27/50 [04:13<03:33,  9.27s/it]\u001b[A"
     ]
    },
    {
     "name": "stdout",
     "output_type": "stream",
     "text": [
      "power rep27\n"
     ]
    },
    {
     "name": "stderr",
     "output_type": "stream",
     "text": [
      "\n",
      " 56%|███████████████████████████████████████████████████████████████████████████████▌                                                              | 28/50 [04:23<03:31,  9.61s/it]\u001b[A"
     ]
    },
    {
     "name": "stdout",
     "output_type": "stream",
     "text": [
      "power rep28\n"
     ]
    },
    {
     "name": "stderr",
     "output_type": "stream",
     "text": [
      "\n",
      " 58%|██████████████████████████████████████████████████████████████████████████████████▎                                                           | 29/50 [04:32<03:16,  9.36s/it]\u001b[A"
     ]
    },
    {
     "name": "stdout",
     "output_type": "stream",
     "text": [
      "power rep29\n"
     ]
    },
    {
     "name": "stderr",
     "output_type": "stream",
     "text": [
      "\n",
      " 60%|█████████████████████████████████████████████████████████████████████████████████████▏                                                        | 30/50 [04:41<03:04,  9.25s/it]\u001b[A"
     ]
    },
    {
     "name": "stdout",
     "output_type": "stream",
     "text": [
      "power rep30\n"
     ]
    },
    {
     "name": "stderr",
     "output_type": "stream",
     "text": [
      "\n",
      " 62%|████████████████████████████████████████████████████████████████████████████████████████                                                      | 31/50 [04:50<02:55,  9.24s/it]\u001b[A"
     ]
    },
    {
     "name": "stdout",
     "output_type": "stream",
     "text": [
      "power rep31\n"
     ]
    },
    {
     "name": "stderr",
     "output_type": "stream",
     "text": [
      "\n",
      " 64%|██████████████████████████████████████████████████████████████████████████████████████████▉                                                   | 32/50 [04:59<02:46,  9.26s/it]\u001b[A"
     ]
    },
    {
     "name": "stdout",
     "output_type": "stream",
     "text": [
      "power rep32\n"
     ]
    },
    {
     "name": "stderr",
     "output_type": "stream",
     "text": [
      "\n",
      " 66%|█████████████████████████████████████████████████████████████████████████████████████████████▋                                                | 33/50 [05:09<02:36,  9.20s/it]\u001b[A"
     ]
    },
    {
     "name": "stdout",
     "output_type": "stream",
     "text": [
      "power rep33\n"
     ]
    },
    {
     "name": "stderr",
     "output_type": "stream",
     "text": [
      "\n",
      " 68%|████████████████████████████████████████████████████████████████████████████████████████████████▌                                             | 34/50 [05:17<02:24,  9.02s/it]\u001b[A"
     ]
    },
    {
     "name": "stdout",
     "output_type": "stream",
     "text": [
      "power rep34\n"
     ]
    },
    {
     "name": "stderr",
     "output_type": "stream",
     "text": [
      "\n",
      " 70%|███████████████████████████████████████████████████████████████████████████████████████████████████▍                                          | 35/50 [05:26<02:13,  8.93s/it]\u001b[A"
     ]
    },
    {
     "name": "stdout",
     "output_type": "stream",
     "text": [
      "power rep35\n"
     ]
    },
    {
     "name": "stderr",
     "output_type": "stream",
     "text": [
      "\n",
      " 72%|██████████████████████████████████████████████████████████████████████████████████████████████████████▏                                       | 36/50 [05:35<02:04,  8.86s/it]\u001b[A"
     ]
    },
    {
     "name": "stdout",
     "output_type": "stream",
     "text": [
      "power rep36\n"
     ]
    },
    {
     "name": "stderr",
     "output_type": "stream",
     "text": [
      "\n",
      " 74%|█████████████████████████████████████████████████████████████████████████████████████████████████████████                                     | 37/50 [05:44<01:57,  9.07s/it]\u001b[A"
     ]
    },
    {
     "name": "stdout",
     "output_type": "stream",
     "text": [
      "power rep37\n"
     ]
    },
    {
     "name": "stderr",
     "output_type": "stream",
     "text": [
      "\n",
      " 76%|███████████████████████████████████████████████████████████████████████████████████████████████████████████▉                                  | 38/50 [05:52<01:46,  8.86s/it]\u001b[A"
     ]
    },
    {
     "name": "stdout",
     "output_type": "stream",
     "text": [
      "power rep38\n"
     ]
    },
    {
     "name": "stderr",
     "output_type": "stream",
     "text": [
      "\n",
      " 78%|██████████████████████████████████████████████████████████████████████████████████████████████████████████████▊                               | 39/50 [06:01<01:35,  8.69s/it]\u001b[A"
     ]
    },
    {
     "name": "stdout",
     "output_type": "stream",
     "text": [
      "power rep39\n"
     ]
    },
    {
     "name": "stderr",
     "output_type": "stream",
     "text": [
      "\n",
      " 80%|█████████████████████████████████████████████████████████████████████████████████████████████████████████████████▌                            | 40/50 [06:09<01:26,  8.69s/it]\u001b[A"
     ]
    },
    {
     "name": "stdout",
     "output_type": "stream",
     "text": [
      "power rep40\n"
     ]
    },
    {
     "name": "stderr",
     "output_type": "stream",
     "text": [
      "\n",
      " 82%|████████████████████████████████████████████████████████████████████████████████████████████████████████████████████▍                         | 41/50 [06:18<01:18,  8.75s/it]\u001b[A"
     ]
    },
    {
     "name": "stdout",
     "output_type": "stream",
     "text": [
      "power rep41\n"
     ]
    },
    {
     "name": "stderr",
     "output_type": "stream",
     "text": [
      "\n",
      " 84%|███████████████████████████████████████████████████████████████████████████████████████████████████████████████████████▎                      | 42/50 [06:30<01:16,  9.50s/it]\u001b[A"
     ]
    },
    {
     "name": "stdout",
     "output_type": "stream",
     "text": [
      "power rep42\n"
     ]
    },
    {
     "name": "stderr",
     "output_type": "stream",
     "text": [
      "\n",
      " 86%|██████████████████████████████████████████████████████████████████████████████████████████████████████████████████████████                    | 43/50 [06:39<01:05,  9.34s/it]\u001b[A"
     ]
    },
    {
     "name": "stdout",
     "output_type": "stream",
     "text": [
      "power rep43\n"
     ]
    },
    {
     "name": "stderr",
     "output_type": "stream",
     "text": [
      "\n",
      " 88%|████████████████████████████████████████████████████████████████████████████████████████████████████████████████████████████▉                 | 44/50 [06:47<00:53,  8.95s/it]\u001b[A"
     ]
    },
    {
     "name": "stdout",
     "output_type": "stream",
     "text": [
      "power rep44\n"
     ]
    },
    {
     "name": "stderr",
     "output_type": "stream",
     "text": [
      "\n",
      " 90%|███████████████████████████████████████████████████████████████████████████████████████████████████████████████████████████████▊              | 45/50 [06:55<00:43,  8.72s/it]\u001b[A"
     ]
    },
    {
     "name": "stdout",
     "output_type": "stream",
     "text": [
      "power rep45\n"
     ]
    },
    {
     "name": "stderr",
     "output_type": "stream",
     "text": [
      "\n",
      " 92%|██████████████████████████████████████████████████████████████████████████████████████████████████████████████████████████████████▋           | 46/50 [07:03<00:34,  8.54s/it]\u001b[A"
     ]
    },
    {
     "name": "stdout",
     "output_type": "stream",
     "text": [
      "power rep46\n"
     ]
    },
    {
     "name": "stderr",
     "output_type": "stream",
     "text": [
      "\n",
      " 94%|█████████████████████████████████████████████████████████████████████████████████████████████████████████████████████████████████████▍        | 47/50 [07:12<00:26,  8.76s/it]\u001b[A"
     ]
    },
    {
     "name": "stdout",
     "output_type": "stream",
     "text": [
      "power rep47\n"
     ]
    },
    {
     "name": "stderr",
     "output_type": "stream",
     "text": [
      "\n",
      " 96%|████████████████████████████████████████████████████████████████████████████████████████████████████████████████████████████████████████▎     | 48/50 [07:23<00:18,  9.25s/it]\u001b[A"
     ]
    },
    {
     "name": "stdout",
     "output_type": "stream",
     "text": [
      "power rep48\n"
     ]
    },
    {
     "name": "stderr",
     "output_type": "stream",
     "text": [
      "\n",
      " 98%|███████████████████████████████████████████████████████████████████████████████████████████████████████████████████████████████████████████▏  | 49/50 [07:31<00:08,  8.88s/it]\u001b[A"
     ]
    },
    {
     "name": "stdout",
     "output_type": "stream",
     "text": [
      "power rep49\n"
     ]
    },
    {
     "name": "stderr",
     "output_type": "stream",
     "text": [
      "\n",
      "100%|██████████████████████████████████████████████████████████████████████████████████████████████████████████████████████████████████████████████| 50/50 [07:39<00:00,  9.19s/it]\u001b[A\n",
      " 20%|████████████████████████████▌                                                                                                                  | 1/5 [07:39<30:37, 459.45s/it]\n",
      "  0%|                                                                                                                                                       | 0/50 [00:00<?, ?it/s]\u001b[A"
     ]
    },
    {
     "name": "stdout",
     "output_type": "stream",
     "text": [
      "[0.09090909090909091, 0.09090909090909091, 0.09090909090909091, 0.2727272727272727, 0.09090909090909091, 0.09090909090909091, 0.09090909090909091, 0.18181818181818182, 0.2727272727272727, 0.2727272727272727, 0.09090909090909091, 0.18181818181818182, 0.2727272727272727, 0.09090909090909091, 0.18181818181818182, 0.09090909090909091, 0.18181818181818182, 0.18181818181818182, 0.09090909090909091, 0.18181818181818182, 0.18181818181818182, 0.18181818181818182, 0.2727272727272727, 0.18181818181818182, 0.18181818181818182, 0.18181818181818182, 0.09090909090909091, 0.09090909090909091, 0.2727272727272727, 0.09090909090909091, 0.09090909090909091, 0.09090909090909091, 0.18181818181818182, 0.2727272727272727, 0.09090909090909091, 0.18181818181818182, 0.18181818181818182, 0.18181818181818182, 0.18181818181818182, 0.18181818181818182, 0.18181818181818182, 0.18181818181818182, 0.2727272727272727, 0.09090909090909091, 0.36363636363636365, 0.18181818181818182, 0.09090909090909091, 0.18181818181818182, 0.09090909090909091, 0.18181818181818182]\n",
      "sample size150\n",
      "power rep0\n"
     ]
    },
    {
     "name": "stderr",
     "output_type": "stream",
     "text": [
      "\n",
      "  2%|██▊                                                                                                                                            | 1/50 [00:11<09:30, 11.65s/it]\u001b[A"
     ]
    },
    {
     "name": "stdout",
     "output_type": "stream",
     "text": [
      "power rep1\n"
     ]
    },
    {
     "name": "stderr",
     "output_type": "stream",
     "text": [
      "\n",
      "  4%|█████▋                                                                                                                                         | 2/50 [00:23<09:15, 11.58s/it]\u001b[A"
     ]
    },
    {
     "name": "stdout",
     "output_type": "stream",
     "text": [
      "power rep2\n"
     ]
    },
    {
     "name": "stderr",
     "output_type": "stream",
     "text": [
      "\n",
      "  6%|████████▌                                                                                                                                      | 3/50 [00:34<09:02, 11.55s/it]\u001b[A"
     ]
    },
    {
     "name": "stdout",
     "output_type": "stream",
     "text": [
      "power rep3\n"
     ]
    },
    {
     "name": "stderr",
     "output_type": "stream",
     "text": [
      "\n",
      "  8%|███████████▍                                                                                                                                   | 4/50 [00:45<08:47, 11.48s/it]\u001b[A"
     ]
    },
    {
     "name": "stdout",
     "output_type": "stream",
     "text": [
      "power rep4\n"
     ]
    },
    {
     "name": "stderr",
     "output_type": "stream",
     "text": [
      "\n",
      " 10%|██████████████▎                                                                                                                                | 5/50 [00:57<08:38, 11.51s/it]\u001b[A"
     ]
    },
    {
     "name": "stdout",
     "output_type": "stream",
     "text": [
      "power rep5\n"
     ]
    },
    {
     "name": "stderr",
     "output_type": "stream",
     "text": [
      "\n",
      " 12%|█████████████████▏                                                                                                                             | 6/50 [01:09<08:27, 11.54s/it]\u001b[A"
     ]
    },
    {
     "name": "stdout",
     "output_type": "stream",
     "text": [
      "power rep6\n"
     ]
    },
    {
     "name": "stderr",
     "output_type": "stream",
     "text": [
      "\n",
      " 14%|████████████████████                                                                                                                           | 7/50 [01:20<08:14, 11.51s/it]\u001b[A"
     ]
    },
    {
     "name": "stdout",
     "output_type": "stream",
     "text": [
      "power rep7\n"
     ]
    },
    {
     "name": "stderr",
     "output_type": "stream",
     "text": [
      "\n",
      " 16%|██████████████████████▉                                                                                                                        | 8/50 [01:32<08:04, 11.52s/it]\u001b[A"
     ]
    },
    {
     "name": "stdout",
     "output_type": "stream",
     "text": [
      "power rep8\n"
     ]
    },
    {
     "name": "stderr",
     "output_type": "stream",
     "text": [
      "\n",
      " 18%|█████████████████████████▋                                                                                                                     | 9/50 [01:43<07:48, 11.43s/it]\u001b[A"
     ]
    },
    {
     "name": "stdout",
     "output_type": "stream",
     "text": [
      "power rep9\n"
     ]
    },
    {
     "name": "stderr",
     "output_type": "stream",
     "text": [
      "\n",
      " 20%|████████████████████████████▍                                                                                                                 | 10/50 [01:55<07:42, 11.57s/it]\u001b[A"
     ]
    },
    {
     "name": "stdout",
     "output_type": "stream",
     "text": [
      "power rep10\n"
     ]
    },
    {
     "name": "stderr",
     "output_type": "stream",
     "text": [
      "\n",
      " 22%|███████████████████████████████▏                                                                                                              | 11/50 [02:07<07:39, 11.79s/it]\u001b[A"
     ]
    },
    {
     "name": "stdout",
     "output_type": "stream",
     "text": [
      "power rep11\n"
     ]
    },
    {
     "name": "stderr",
     "output_type": "stream",
     "text": [
      "\n",
      " 24%|██████████████████████████████████                                                                                                            | 12/50 [02:19<07:30, 11.84s/it]\u001b[A"
     ]
    },
    {
     "name": "stdout",
     "output_type": "stream",
     "text": [
      "power rep12\n"
     ]
    },
    {
     "name": "stderr",
     "output_type": "stream",
     "text": [
      "\n",
      " 26%|████████████████████████████████████▉                                                                                                         | 13/50 [02:31<07:18, 11.85s/it]\u001b[A"
     ]
    },
    {
     "name": "stdout",
     "output_type": "stream",
     "text": [
      "power rep13\n"
     ]
    },
    {
     "name": "stderr",
     "output_type": "stream",
     "text": [
      "\n",
      " 28%|███████████████████████████████████████▊                                                                                                      | 14/50 [02:42<07:02, 11.74s/it]\u001b[A"
     ]
    },
    {
     "name": "stdout",
     "output_type": "stream",
     "text": [
      "power rep14\n"
     ]
    },
    {
     "name": "stderr",
     "output_type": "stream",
     "text": [
      "\n",
      " 30%|██████████████████████████████████████████▌                                                                                                   | 15/50 [02:54<06:49, 11.71s/it]\u001b[A"
     ]
    },
    {
     "name": "stdout",
     "output_type": "stream",
     "text": [
      "power rep15\n"
     ]
    },
    {
     "name": "stderr",
     "output_type": "stream",
     "text": [
      "\n",
      " 32%|█████████████████████████████████████████████▍                                                                                                | 16/50 [03:06<06:40, 11.78s/it]\u001b[A"
     ]
    },
    {
     "name": "stdout",
     "output_type": "stream",
     "text": [
      "power rep16\n"
     ]
    },
    {
     "name": "stderr",
     "output_type": "stream",
     "text": [
      "\n",
      " 34%|████████████████████████████████████████████████▎                                                                                             | 17/50 [03:18<06:32, 11.89s/it]\u001b[A"
     ]
    },
    {
     "name": "stdout",
     "output_type": "stream",
     "text": [
      "power rep17\n"
     ]
    },
    {
     "name": "stderr",
     "output_type": "stream",
     "text": [
      "\n",
      " 36%|███████████████████████████████████████████████████                                                                                           | 18/50 [03:30<06:20, 11.90s/it]\u001b[A"
     ]
    },
    {
     "name": "stdout",
     "output_type": "stream",
     "text": [
      "power rep18\n"
     ]
    },
    {
     "name": "stderr",
     "output_type": "stream",
     "text": [
      "\n",
      " 38%|█████████████████████████████████████████████████████▉                                                                                        | 19/50 [03:42<06:13, 12.06s/it]\u001b[A"
     ]
    },
    {
     "name": "stdout",
     "output_type": "stream",
     "text": [
      "power rep19\n"
     ]
    },
    {
     "name": "stderr",
     "output_type": "stream",
     "text": [
      "\n",
      " 40%|████████████████████████████████████████████████████████▊                                                                                     | 20/50 [03:54<06:01, 12.05s/it]\u001b[A"
     ]
    },
    {
     "name": "stdout",
     "output_type": "stream",
     "text": [
      "power rep20\n"
     ]
    },
    {
     "name": "stderr",
     "output_type": "stream",
     "text": [
      "\n",
      " 42%|███████████████████████████████████████████████████████████▋                                                                                  | 21/50 [04:07<05:51, 12.12s/it]\u001b[A"
     ]
    },
    {
     "name": "stdout",
     "output_type": "stream",
     "text": [
      "power rep21\n"
     ]
    },
    {
     "name": "stderr",
     "output_type": "stream",
     "text": [
      "\n",
      " 44%|██████████████████████████████████████████████████████████████▍                                                                               | 22/50 [04:19<05:41, 12.19s/it]\u001b[A"
     ]
    },
    {
     "name": "stdout",
     "output_type": "stream",
     "text": [
      "power rep22\n"
     ]
    },
    {
     "name": "stderr",
     "output_type": "stream",
     "text": [
      "\n",
      " 46%|█████████████████████████████████████████████████████████████████▎                                                                            | 23/50 [04:31<05:28, 12.16s/it]\u001b[A"
     ]
    },
    {
     "name": "stdout",
     "output_type": "stream",
     "text": [
      "power rep23\n"
     ]
    },
    {
     "name": "stderr",
     "output_type": "stream",
     "text": [
      "\n",
      " 48%|████████████████████████████████████████████████████████████████████▏                                                                         | 24/50 [04:44<05:18, 12.25s/it]\u001b[A"
     ]
    },
    {
     "name": "stdout",
     "output_type": "stream",
     "text": [
      "power rep24\n"
     ]
    },
    {
     "name": "stderr",
     "output_type": "stream",
     "text": [
      "\n",
      " 50%|███████████████████████████████████████████████████████████████████████                                                                       | 25/50 [04:55<05:01, 12.05s/it]\u001b[A"
     ]
    },
    {
     "name": "stdout",
     "output_type": "stream",
     "text": [
      "power rep25\n"
     ]
    },
    {
     "name": "stderr",
     "output_type": "stream",
     "text": [
      "\n",
      " 52%|█████████████████████████████████████████████████████████████████████████▊                                                                    | 26/50 [05:07<04:48, 12.04s/it]\u001b[A"
     ]
    },
    {
     "name": "stdout",
     "output_type": "stream",
     "text": [
      "power rep26\n"
     ]
    },
    {
     "name": "stderr",
     "output_type": "stream",
     "text": [
      "\n",
      " 54%|████████████████████████████████████████████████████████████████████████████▋                                                                 | 27/50 [05:20<04:43, 12.34s/it]\u001b[A"
     ]
    },
    {
     "name": "stdout",
     "output_type": "stream",
     "text": [
      "power rep27\n"
     ]
    },
    {
     "name": "stderr",
     "output_type": "stream",
     "text": [
      "\n",
      " 56%|███████████████████████████████████████████████████████████████████████████████▌                                                              | 28/50 [05:32<04:29, 12.27s/it]\u001b[A"
     ]
    },
    {
     "name": "stdout",
     "output_type": "stream",
     "text": [
      "power rep28\n"
     ]
    },
    {
     "name": "stderr",
     "output_type": "stream",
     "text": [
      "\n",
      " 58%|██████████████████████████████████████████████████████████████████████████████████▎                                                           | 29/50 [05:44<04:12, 12.01s/it]\u001b[A"
     ]
    },
    {
     "name": "stdout",
     "output_type": "stream",
     "text": [
      "power rep29\n"
     ]
    },
    {
     "name": "stderr",
     "output_type": "stream",
     "text": [
      "\n",
      " 60%|█████████████████████████████████████████████████████████████████████████████████████▏                                                        | 30/50 [05:56<04:00, 12.01s/it]\u001b[A"
     ]
    },
    {
     "name": "stdout",
     "output_type": "stream",
     "text": [
      "power rep30\n"
     ]
    },
    {
     "name": "stderr",
     "output_type": "stream",
     "text": [
      "\n",
      " 62%|████████████████████████████████████████████████████████████████████████████████████████                                                      | 31/50 [06:08<03:47, 11.99s/it]\u001b[A"
     ]
    },
    {
     "name": "stdout",
     "output_type": "stream",
     "text": [
      "power rep31\n"
     ]
    },
    {
     "name": "stderr",
     "output_type": "stream",
     "text": [
      "\n",
      " 64%|██████████████████████████████████████████████████████████████████████████████████████████▉                                                   | 32/50 [06:19<03:32, 11.81s/it]\u001b[A"
     ]
    },
    {
     "name": "stdout",
     "output_type": "stream",
     "text": [
      "power rep32\n"
     ]
    },
    {
     "name": "stderr",
     "output_type": "stream",
     "text": [
      "\n",
      " 66%|█████████████████████████████████████████████████████████████████████████████████████████████▋                                                | 33/50 [06:31<03:19, 11.72s/it]\u001b[A"
     ]
    },
    {
     "name": "stdout",
     "output_type": "stream",
     "text": [
      "power rep33\n"
     ]
    },
    {
     "name": "stderr",
     "output_type": "stream",
     "text": [
      "\n",
      " 68%|████████████████████████████████████████████████████████████████████████████████████████████████▌                                             | 34/50 [06:42<03:07, 11.70s/it]\u001b[A"
     ]
    },
    {
     "name": "stdout",
     "output_type": "stream",
     "text": [
      "power rep34\n"
     ]
    },
    {
     "name": "stderr",
     "output_type": "stream",
     "text": [
      "\n",
      " 70%|███████████████████████████████████████████████████████████████████████████████████████████████████▍                                          | 35/50 [06:54<02:54, 11.65s/it]\u001b[A"
     ]
    },
    {
     "name": "stdout",
     "output_type": "stream",
     "text": [
      "power rep35\n"
     ]
    },
    {
     "name": "stderr",
     "output_type": "stream",
     "text": [
      "\n",
      " 72%|██████████████████████████████████████████████████████████████████████████████████████████████████████▏                                       | 36/50 [07:07<02:48, 12.06s/it]\u001b[A"
     ]
    },
    {
     "name": "stdout",
     "output_type": "stream",
     "text": [
      "power rep36\n"
     ]
    },
    {
     "name": "stderr",
     "output_type": "stream",
     "text": [
      "\n",
      " 74%|█████████████████████████████████████████████████████████████████████████████████████████████████████████                                     | 37/50 [07:18<02:34, 11.88s/it]\u001b[A"
     ]
    },
    {
     "name": "stdout",
     "output_type": "stream",
     "text": [
      "power rep37\n"
     ]
    },
    {
     "name": "stderr",
     "output_type": "stream",
     "text": [
      "\n",
      " 76%|███████████████████████████████████████████████████████████████████████████████████████████████████████████▉                                  | 38/50 [07:30<02:20, 11.74s/it]\u001b[A"
     ]
    },
    {
     "name": "stdout",
     "output_type": "stream",
     "text": [
      "power rep38\n"
     ]
    },
    {
     "name": "stderr",
     "output_type": "stream",
     "text": [
      "\n",
      " 78%|██████████████████████████████████████████████████████████████████████████████████████████████████████████████▊                               | 39/50 [07:41<02:08, 11.70s/it]\u001b[A"
     ]
    },
    {
     "name": "stdout",
     "output_type": "stream",
     "text": [
      "power rep39\n"
     ]
    },
    {
     "name": "stderr",
     "output_type": "stream",
     "text": [
      "\n",
      " 80%|█████████████████████████████████████████████████████████████████████████████████████████████████████████████████▌                            | 40/50 [07:53<01:57, 11.72s/it]\u001b[A"
     ]
    },
    {
     "name": "stdout",
     "output_type": "stream",
     "text": [
      "power rep40\n"
     ]
    },
    {
     "name": "stderr",
     "output_type": "stream",
     "text": [
      "\n",
      " 82%|████████████████████████████████████████████████████████████████████████████████████████████████████████████████████▍                         | 41/50 [08:04<01:44, 11.64s/it]\u001b[A"
     ]
    },
    {
     "name": "stdout",
     "output_type": "stream",
     "text": [
      "power rep41\n"
     ]
    },
    {
     "name": "stderr",
     "output_type": "stream",
     "text": [
      "\n",
      " 84%|███████████████████████████████████████████████████████████████████████████████████████████████████████████████████████▎                      | 42/50 [08:16<01:33, 11.66s/it]\u001b[A"
     ]
    },
    {
     "name": "stdout",
     "output_type": "stream",
     "text": [
      "power rep42\n"
     ]
    },
    {
     "name": "stderr",
     "output_type": "stream",
     "text": [
      "\n",
      " 86%|██████████████████████████████████████████████████████████████████████████████████████████████████████████████████████████                    | 43/50 [08:28<01:21, 11.62s/it]\u001b[A"
     ]
    },
    {
     "name": "stdout",
     "output_type": "stream",
     "text": [
      "power rep43\n"
     ]
    },
    {
     "name": "stderr",
     "output_type": "stream",
     "text": [
      "\n",
      " 88%|████████████████████████████████████████████████████████████████████████████████████████████████████████████████████████████▉                 | 44/50 [08:39<01:09, 11.55s/it]\u001b[A"
     ]
    },
    {
     "name": "stdout",
     "output_type": "stream",
     "text": [
      "power rep44\n"
     ]
    },
    {
     "name": "stderr",
     "output_type": "stream",
     "text": [
      "\n",
      " 90%|███████████████████████████████████████████████████████████████████████████████████████████████████████████████████████████████▊              | 45/50 [08:51<00:58, 11.63s/it]\u001b[A"
     ]
    },
    {
     "name": "stdout",
     "output_type": "stream",
     "text": [
      "power rep45\n"
     ]
    },
    {
     "name": "stderr",
     "output_type": "stream",
     "text": [
      "\n",
      " 92%|██████████████████████████████████████████████████████████████████████████████████████████████████████████████████████████████████▋           | 46/50 [09:02<00:46, 11.61s/it]\u001b[A"
     ]
    },
    {
     "name": "stdout",
     "output_type": "stream",
     "text": [
      "power rep46\n"
     ]
    },
    {
     "name": "stderr",
     "output_type": "stream",
     "text": [
      "\n",
      " 94%|█████████████████████████████████████████████████████████████████████████████████████████████████████████████████████████████████████▍        | 47/50 [09:14<00:34, 11.66s/it]\u001b[A"
     ]
    },
    {
     "name": "stdout",
     "output_type": "stream",
     "text": [
      "power rep47\n"
     ]
    },
    {
     "name": "stderr",
     "output_type": "stream",
     "text": [
      "\n",
      " 96%|████████████████████████████████████████████████████████████████████████████████████████████████████████████████████████████████████████▎     | 48/50 [09:26<00:23, 11.82s/it]\u001b[A"
     ]
    },
    {
     "name": "stdout",
     "output_type": "stream",
     "text": [
      "power rep48\n"
     ]
    },
    {
     "name": "stderr",
     "output_type": "stream",
     "text": [
      "\n",
      " 98%|███████████████████████████████████████████████████████████████████████████████████████████████████████████████████████████████████████████▏  | 49/50 [09:45<00:13, 13.89s/it]\u001b[A"
     ]
    },
    {
     "name": "stdout",
     "output_type": "stream",
     "text": [
      "power rep49\n"
     ]
    },
    {
     "name": "stderr",
     "output_type": "stream",
     "text": [
      "\n",
      "100%|██████████████████████████████████████████████████████████████████████████████████████████████████████████████████████████████████████████████| 50/50 [09:57<00:00, 11.95s/it]\u001b[A\n",
      " 40%|█████████████████████████████████████████████████████████▏                                                                                     | 2/5 [17:37<25:02, 500.88s/it]\n",
      "  0%|                                                                                                                                                       | 0/50 [00:00<?, ?it/s]\u001b[A"
     ]
    },
    {
     "name": "stdout",
     "output_type": "stream",
     "text": [
      "[0.09090909090909091, 0.2727272727272727, 0.18181818181818182, 0.18181818181818182, 0.18181818181818182, 0.09090909090909091, 0.09090909090909091, 0.18181818181818182, 0.2727272727272727, 0.18181818181818182, 0.2727272727272727, 0.09090909090909091, 0.18181818181818182, 0.09090909090909091, 0.2727272727272727, 0.09090909090909091, 0.09090909090909091, 0.36363636363636365, 0.2727272727272727, 0.18181818181818182, 0.18181818181818182, 0.09090909090909091, 0.09090909090909091, 0.09090909090909091, 0.18181818181818182, 0.09090909090909091, 0.09090909090909091, 0.09090909090909091, 0.09090909090909091, 0.18181818181818182, 0.09090909090909091, 0.09090909090909091, 0.18181818181818182, 0.2727272727272727, 0.09090909090909091, 0.18181818181818182, 0.09090909090909091, 0.18181818181818182, 0.09090909090909091, 0.18181818181818182, 0.18181818181818182, 0.09090909090909091, 0.2727272727272727, 0.2727272727272727, 0.09090909090909091, 0.18181818181818182, 0.09090909090909091, 0.09090909090909091, 0.09090909090909091, 0.09090909090909091]\n",
      "sample size200\n",
      "power rep0\n"
     ]
    },
    {
     "name": "stderr",
     "output_type": "stream",
     "text": [
      "\n",
      "  2%|██▊                                                                                                                                            | 1/50 [00:16<13:16, 16.26s/it]\u001b[A"
     ]
    },
    {
     "name": "stdout",
     "output_type": "stream",
     "text": [
      "power rep1\n"
     ]
    },
    {
     "name": "stderr",
     "output_type": "stream",
     "text": [
      "\n",
      "  4%|█████▋                                                                                                                                         | 2/50 [00:31<12:45, 15.95s/it]\u001b[A"
     ]
    },
    {
     "name": "stdout",
     "output_type": "stream",
     "text": [
      "power rep2\n"
     ]
    },
    {
     "name": "stderr",
     "output_type": "stream",
     "text": [
      "\n",
      "  6%|████████▌                                                                                                                                      | 3/50 [00:46<12:18, 15.70s/it]\u001b[A"
     ]
    },
    {
     "name": "stdout",
     "output_type": "stream",
     "text": [
      "power rep3\n"
     ]
    },
    {
     "name": "stderr",
     "output_type": "stream",
     "text": [
      "\n",
      "  8%|███████████▍                                                                                                                                   | 4/50 [01:01<11:55, 15.55s/it]\u001b[A"
     ]
    },
    {
     "name": "stdout",
     "output_type": "stream",
     "text": [
      "power rep4\n"
     ]
    },
    {
     "name": "stderr",
     "output_type": "stream",
     "text": [
      "\n",
      " 10%|██████████████▎                                                                                                                                | 5/50 [01:17<11:45, 15.68s/it]\u001b[A"
     ]
    },
    {
     "name": "stdout",
     "output_type": "stream",
     "text": [
      "power rep5\n"
     ]
    },
    {
     "name": "stderr",
     "output_type": "stream",
     "text": [
      "\n",
      " 12%|█████████████████▏                                                                                                                             | 6/50 [01:33<11:34, 15.79s/it]\u001b[A"
     ]
    },
    {
     "name": "stdout",
     "output_type": "stream",
     "text": [
      "power rep6\n"
     ]
    },
    {
     "name": "stderr",
     "output_type": "stream",
     "text": [
      "\n",
      " 14%|████████████████████                                                                                                                           | 7/50 [01:51<11:48, 16.47s/it]\u001b[A"
     ]
    },
    {
     "name": "stdout",
     "output_type": "stream",
     "text": [
      "power rep7\n"
     ]
    },
    {
     "name": "stderr",
     "output_type": "stream",
     "text": [
      "\n",
      " 16%|██████████████████████▉                                                                                                                        | 8/50 [02:11<12:11, 17.41s/it]\u001b[A"
     ]
    },
    {
     "name": "stdout",
     "output_type": "stream",
     "text": [
      "power rep8\n"
     ]
    },
    {
     "name": "stderr",
     "output_type": "stream",
     "text": [
      "\n",
      " 18%|█████████████████████████▋                                                                                                                     | 9/50 [02:30<12:08, 17.78s/it]\u001b[A"
     ]
    },
    {
     "name": "stdout",
     "output_type": "stream",
     "text": [
      "power rep9\n"
     ]
    },
    {
     "name": "stderr",
     "output_type": "stream",
     "text": [
      "\n",
      " 20%|████████████████████████████▍                                                                                                                 | 10/50 [02:48<11:59, 17.98s/it]\u001b[A"
     ]
    },
    {
     "name": "stdout",
     "output_type": "stream",
     "text": [
      "power rep10\n"
     ]
    },
    {
     "name": "stderr",
     "output_type": "stream",
     "text": [
      "\n",
      " 22%|███████████████████████████████▏                                                                                                              | 11/50 [03:08<12:06, 18.62s/it]\u001b[A"
     ]
    },
    {
     "name": "stdout",
     "output_type": "stream",
     "text": [
      "power rep11\n"
     ]
    },
    {
     "name": "stderr",
     "output_type": "stream",
     "text": [
      "\n",
      " 24%|██████████████████████████████████                                                                                                            | 12/50 [03:27<11:52, 18.75s/it]\u001b[A"
     ]
    },
    {
     "name": "stdout",
     "output_type": "stream",
     "text": [
      "power rep12\n"
     ]
    },
    {
     "name": "stderr",
     "output_type": "stream",
     "text": [
      "\n",
      " 26%|████████████████████████████████████▉                                                                                                         | 13/50 [03:47<11:40, 18.93s/it]\u001b[A"
     ]
    },
    {
     "name": "stdout",
     "output_type": "stream",
     "text": [
      "power rep13\n"
     ]
    }
   ],
   "source": [
    "\"\"\"\"outputs = Parallel(n_jobs=-1, verbose=100)(\n",
    "    [\n",
    "         delayed(estimate_power)(sim_name, \"UF\")\n",
    "         for sim_name in tqdm(SIMULATIONS.keys())\n",
    "     ]\n",
    ")\"\"\"\n",
    "\n",
    "#for sim_name in tqdm(SIMULATIONS.keys()): \n",
    "    #power = estimate_power(sim_name, \"UF\")\n",
    "power = estimate_power('multimodal_independence', \"UF\")"
   ]
  },
  {
   "cell_type": "code",
   "execution_count": 25,
   "metadata": {},
   "outputs": [],
   "source": [
    "import seaborn as sns\n",
    "sns.set(color_codes=True, style='white', context='talk', font_scale=1.5)\n",
    "PALETTE = sns.color_palette(\"Set1\")\n",
    "sns.set_palette(PALETTE[1:], n_colors=9)\n",
    "\n",
    "def plot_power():\n",
    "    fig, ax = plt.subplots(nrows=4, ncols=5, figsize=(25,20))\n",
    "    \n",
    "    sim_title = [\n",
    "        \"Linear\",\n",
    "        \"Exponential\",\n",
    "        \"Cubic\",\n",
    "        \"Joint Normal\",\n",
    "        \"Step\",\n",
    "        \"Quadratic\",\n",
    "        \"W-Shaped\",\n",
    "        \"Spiral\",\n",
    "        \"Bernoulli\",\n",
    "        \"Logarithmic\",\n",
    "        \"Fourth Root\",\n",
    "        \"Sine 4\\u03C0\",\n",
    "        \"Sine 16\\u03C0\",\n",
    "        \"Square\",\n",
    "        \"Two Parabolas\",\n",
    "        \"Circle\",\n",
    "        \"Ellipse\",\n",
    "        \"Diamond\",\n",
    "        \"Multiplicative\",\n",
    "        \"Independence\"\n",
    "    ]\n",
    "    \n",
    "    plt.suptitle(\"Multivariate Independence Testing (Increasing Sample Size)\", y=0.93, va='baseline')\n",
    "    \n",
    "    for i, row in enumerate(ax):\n",
    "        for j, col in enumerate(row):\n",
    "            count = 5*i + j\n",
    "            sim = list(SIMULATIONS.keys())[count]\n",
    "            #sim = SIMULATIONS[count]\n",
    "            \n",
    "            #for test in tests:\n",
    "            power = np.genfromtxt('C:/Users/siptest/Desktop/NDD/{}_{}HonestSamplingPower.csv'.format(sim, \"UF\"),\n",
    "                                  delimiter=',')\n",
    "            col.plot(SAMP_SIZES, power, label=\"UF\", lw=2)\n",
    "\n",
    "            col.set_xticks([])\n",
    "            if i == 3:\n",
    "                col.set_xticks([SAMP_SIZES[0], SAMP_SIZES[-1]])\n",
    "            col.set_ylim(-1.05, 1.05)\n",
    "            col.set_yticks([])\n",
    "            if j == 0:\n",
    "                col.set_yticks([-1, 0, 1])\n",
    "            col.set_title(sim_title[count])\n",
    "\n",
    "    fig.text(0.5, 0.07, 'Sample Size', ha='center')\n",
    "    fig.text(0.07, 0.5, 'Statistical Power', va='center', rotation='vertical')\n",
    "    leg = plt.legend(bbox_to_anchor=(0.5, 0.07), bbox_transform=plt.gcf().transFigure,\n",
    "                     ncol=5, loc='upper center')\n",
    "    leg.get_frame().set_linewidth(0.0)\n",
    "    for legobj in leg.legendHandles:\n",
    "        legobj.set_linewidth(5.0)\n",
    "    plt.subplots_adjust(hspace=.50)\n",
    "    plt.savefig('C:/Users/siptest/Desktop/NDD/indep_power_sampsize_allSim_HonestUF.png', transparent=True, bbox_inches='tight')"
   ]
  },
  {
   "cell_type": "code",
   "execution_count": 26,
   "metadata": {},
   "outputs": [
    {
     "data": {
      "image/png": "[encoded data removed]",
      "text/plain": [
       "<Figure size 1800x1440 with 20 Axes>"
      ]
     },
     "metadata": {},
     "output_type": "display_data"
    }
   ],
   "source": [
    "plot_power()"
   ]
  }
 ],
 "metadata": {
  "kernelspec": {
   "display_name": "py36",
   "language": "python",
   "name": "py36"
  },
  "language_info": {
   "codemirror_mode": {
    "name": "ipython",
    "version": 3
   },
   "file_extension": ".py",
   "mimetype": "text/x-python",
   "name": "python",
   "nbconvert_exporter": "python",
   "pygments_lexer": "ipython3",
   "version": "3.6.10"
  }
 },
 "nbformat": 4,
 "nbformat_minor": 4
}
