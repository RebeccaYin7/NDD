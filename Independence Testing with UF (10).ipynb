{
 "cells": [
  {
   "cell_type": "code",
   "execution_count": 7,
   "metadata": {},
   "outputs": [],
   "source": [
    "#import proglearn\n",
    "#from proglearn.forest import UncertaintyForest\n",
    "import hyppo\n",
    "import numpy as np\n",
    "from numba import njit\n",
    "from hyppo.independence.base import IndependenceTest\n",
    "from hyppo._utils import perm_test\n",
    "import seaborn as sns\n",
    "import matplotlib.pyplot as plt\n",
    "import pickle\n",
    "import copy \n",
    "from sklearn.ensemble import RandomForestClassifier\n",
    "from sklearn.calibration import CalibratedClassifierCV\n",
    "from sklearn.model_selection import train_test_split\n",
    "from sklearn.ensemble import BaggingClassifier\n",
    "from sklearn.tree._classes import DecisionTreeClassifier\n",
    "from joblib import Parallel, delayed\n",
    "from scipy.stats import entropy, multivariate_normal\n",
    "from scipy.integrate import nquad"
   ]
  },
  {
   "cell_type": "code",
   "execution_count": 2,
   "metadata": {},
   "outputs": [],
   "source": [
    "import sys\n",
    "sys.executable\n",
    "sys.path\n",
    "sys.path.append('C:\\\\Users\\\\siptest\\\\AppData\\\\Roaming\\\\Python\\\\Python36\\\\Scripts')"
   ]
  },
  {
   "cell_type": "code",
   "execution_count": 3,
   "metadata": {},
   "outputs": [],
   "source": [
    "def uf(X, y, n_estimators = 300, max_samples = .4, base = np.exp(1), kappa = 3):\n",
    "    \n",
    "    # Build forest with default parameters.\n",
    "    model = BaggingClassifier(DecisionTreeClassifier(), \n",
    "                              n_estimators=n_estimators, \n",
    "                              max_samples=max_samples, \n",
    "                              bootstrap=False)\n",
    "    model.fit(X, y)\n",
    "    n = X.shape[0]\n",
    "    K = model.n_classes_\n",
    "    _, y = np.unique(y, return_inverse=True)\n",
    "    \n",
    "    cond_entropy = 0\n",
    "    for tree_idx, tree in enumerate(model):\n",
    "        # Find the indices of the training set used for partition.\n",
    "        sampled_indices = model.estimators_samples_[tree_idx]\n",
    "        unsampled_indices = np.delete(np.arange(0,n), sampled_indices)\n",
    "        \n",
    "        # Randomly split the rest into voting and evaluation.\n",
    "        total_unsampled = len(unsampled_indices)\n",
    "        np.random.shuffle(unsampled_indices)\n",
    "        vote_indices = unsampled_indices[:total_unsampled//2]\n",
    "        eval_indices = unsampled_indices[total_unsampled//2:]\n",
    "        \n",
    "        # Store the posterior in a num_nodes-by-num_classes matrix.\n",
    "        # Posteriors in non-leaf cells will be zero everywhere\n",
    "        # and later changed to uniform.\n",
    "        node_counts = tree.tree_.n_node_samples\n",
    "        class_counts = np.zeros((len(node_counts), K))\n",
    "        est_nodes = tree.apply(X[vote_indices])\n",
    "        est_classes = y[vote_indices]\n",
    "        for i in range(len(est_nodes)):\n",
    "            class_counts[est_nodes[i], est_classes[i]] += 1\n",
    "        \n",
    "        row_sums = class_counts.sum(axis=1) # Total number of estimation points in each leaf.\n",
    "        row_sums[row_sums == 0] = 1 # Avoid divide by zero.\n",
    "        class_probs = class_counts / row_sums[:, None]\n",
    "        \n",
    "        # Make the nodes that have no estimation indices uniform.\n",
    "        # This includes non-leaf nodes, but that will not affect the estimate.\n",
    "        class_probs[np.argwhere(class_probs.sum(axis = 1) == 0)] = [1 / K]*K\n",
    "        \n",
    "        # Apply finite sample correction and renormalize.\n",
    "        where_0 = np.argwhere(class_probs == 0)\n",
    "        for elem in where_0:\n",
    "            class_probs[elem[0], elem[1]] = 1 / (kappa*class_counts.sum(axis = 1)[elem[0]])\n",
    "        row_sums = class_probs.sum(axis=1)\n",
    "        class_probs = class_probs / row_sums[:, None]\n",
    "        \n",
    "        # Place evaluation points in their corresponding leaf node.\n",
    "        # Store evaluation posterior in a num_eval-by-num_class matrix.\n",
    "        eval_class_probs = class_probs[tree.apply(X[eval_indices])]\n",
    "        # eval_class_probs = [class_probs[x] for x in tree.apply(X[eval_indices])]\n",
    "        eval_entropies = [entropy(posterior) for posterior in eval_class_probs]\n",
    "        cond_entropy += np.mean(eval_entropies)\n",
    "\n",
    "      \n",
    "    return cond_entropy / n_estimators\n",
    "        "
   ]
  },
  {
   "cell_type": "code",
   "execution_count": 6,
   "metadata": {},
   "outputs": [],
   "source": [
    "#n = 20 used for csv 1, 2\n",
    "n = 50 \n",
    "#n = 6000\n",
    "mus = range(5)\n",
    "ds = range(1, 16)\n",
    "mu = 1\n",
    "num_trials = 10\n",
    "#reps = 1\n",
    "d = 2\n",
    "pis = [0.05 * i for i in range(1, 20)]"
   ]
  },
  {
   "cell_type": "code",
   "execution_count": 4,
   "metadata": {},
   "outputs": [],
   "source": [
    "def _perm_stat(X, y, is_distsim = True, permuter = None): \n",
    "    if permuter is None: \n",
    "        order = np.random.permutation(y.shape[0])\n",
    "    else: \n",
    "        order = permuter()\n",
    "    \n",
    "    if is_distsim: \n",
    "        permy = y[order][:, order]\n",
    "    else: \n",
    "        permy = y[order]\n",
    "    \n",
    "    #perm_stat = uf(X, permy, n, d, pis, num_trials)\n",
    "    perm_stat = uf(X, permy)\n",
    "    \n",
    "    return perm_stat"
   ]
  },
  {
   "cell_type": "code",
   "execution_count": 5,
   "metadata": {},
   "outputs": [],
   "source": [
    "def perm_test(X, y, workers = -1, is_distsim=True, perm_block = None, reps = 100): \n",
    "\n",
    "    # calculate observed test statistic\n",
    "    #stat = uf(X, y, n, d, pis, num_trials)\n",
    "    stat = uf(X, y)\n",
    "    #print(stat) \n",
    "\n",
    "    # calculate null distribution\n",
    "    null_dist = np.array(\n",
    "        Parallel(n_jobs=-2)(\n",
    "            [\n",
    "                delayed(_perm_stat)(X, y, False) \n",
    "                for rep in range(reps)\n",
    "            ]\n",
    "        )\n",
    "    )\n",
    "            \n",
    "    pvalue = (null_dist >= stat).sum() / reps\n",
    "\n",
    "    # correct for a p-value of 0. This is because, with bootstrapping\n",
    "    # permutations, a p-value of 0 is incorrect\n",
    "    if pvalue == 0:\n",
    "        pvalue = 1 / reps\n",
    "\n",
    "    #return stat, pvalue, null_dist\n",
    "    print(stat, pvalue, null_dist)\n",
    "    return pvalue"
   ]
  },
  {
   "cell_type": "code",
   "execution_count": null,
   "metadata": {},
   "outputs": [
    {
     "name": "stderr",
     "output_type": "stream",
     "text": [
      "C:\\Users\\siptest\\anaconda3\\envs\\py36\\lib\\site-packages\\sklearn\\utils\\validation.py:73: DataConversionWarning: A column-vector y was passed when a 1d array was expected. Please change the shape of y to (n_samples, ), for example using ravel().\n",
      "  return f(**kwargs)\n"
     ]
    },
    {
     "name": "stdout",
     "output_type": "stream",
     "text": [
      "0.5980479718741691 0.26 [0.59607597 0.58827132 0.59634916 0.59736079 0.59517512 0.59588758\n",
      " 0.59914046 0.59740325 0.59532819 0.59800993 0.59043404 0.58772535\n",
      " 0.59739756 0.59582317 0.59407391 0.59573403 0.59689087 0.59962854\n",
      " 0.59796219 0.59813493 0.59727158 0.58993992 0.60152952 0.59845619\n",
      " 0.59799419 0.59231472 0.59270387 0.59346983 0.60144337 0.59755252\n",
      " 0.60180461 0.59587087 0.59584837 0.58857454 0.59803221 0.59439367\n",
      " 0.59700659 0.59550746 0.59905709 0.59908049 0.59995495 0.59842267\n",
      " 0.59890499 0.58502281 0.59831852 0.59692747 0.5970563  0.59755277\n",
      " 0.59520322 0.59819909 0.5974572  0.59450322 0.59067757 0.59752893\n",
      " 0.58936853 0.59740775 0.59523491 0.59551627 0.59290918 0.60028225\n",
      " 0.59711152 0.59453302 0.59579536 0.58481902 0.59738654 0.600126\n",
      " 0.59934486 0.6005771  0.59752833 0.58555018 0.59543175 0.59519699\n",
      " 0.58948328 0.59705908 0.59039331 0.59074464 0.59551261 0.59846994\n",
      " 0.59530135 0.59879967 0.60070929 0.59323716 0.60237854 0.59564569\n",
      " 0.59988433 0.59797346 0.58493509 0.59430666 0.59632053 0.59802555\n",
      " 0.60023155 0.59584207 0.59181208 0.58163185 0.59086835 0.59194291\n",
      " 0.59885145 0.5984272  0.5914124  0.59578658]\n"
     ]
    },
    {
     "name": "stderr",
     "output_type": "stream",
     "text": [
      "C:\\Users\\siptest\\anaconda3\\envs\\py36\\lib\\site-packages\\sklearn\\utils\\validation.py:73: DataConversionWarning: A column-vector y was passed when a 1d array was expected. Please change the shape of y to (n_samples, ), for example using ravel().\n",
      "  return f(**kwargs)\n"
     ]
    },
    {
     "name": "stdout",
     "output_type": "stream",
     "text": [
      "0.594777668930453 0.66 [0.597959   0.59453372 0.5946698  0.5998405  0.59567492 0.59917452\n",
      " 0.59702047 0.59212943 0.5973431  0.58606632 0.59165229 0.59265963\n",
      " 0.5957181  0.59985938 0.59564461 0.59680683 0.59779475 0.59441437\n",
      " 0.59658684 0.59958192 0.59793028 0.60176704 0.59193208 0.59714175\n",
      " 0.59745991 0.59083614 0.5937665  0.59760443 0.6052231  0.59905728\n",
      " 0.5974543  0.59972523 0.59958247 0.59672488 0.60161713 0.59681171\n",
      " 0.59731983 0.59696618 0.59398114 0.59915598 0.59854152 0.59667254\n",
      " 0.60060429 0.59471425 0.58899529 0.60322301 0.59724928 0.59327271\n",
      " 0.60003092 0.59856956 0.5917228  0.59544128 0.58813202 0.59992808\n",
      " 0.59437348 0.60209005 0.59997231 0.58662561 0.59847357 0.60009083\n",
      " 0.59145917 0.59803858 0.59417091 0.59833181 0.59357465 0.59982215\n",
      " 0.60079875 0.59033452 0.59541414 0.59742266 0.59684934 0.59901335\n",
      " 0.60146395 0.59781578 0.59908636 0.59793163 0.6006035  0.59659994\n",
      " 0.59459443 0.59299245 0.59952735 0.59756084 0.59030058 0.59747888\n",
      " 0.59869829 0.58743276 0.59106126 0.59269183 0.59765819 0.59952479\n",
      " 0.57684602 0.59622426 0.59389798 0.59119715 0.59118993 0.5819172\n",
      " 0.599779   0.60061515 0.5985708  0.59397904]\n"
     ]
    },
    {
     "name": "stderr",
     "output_type": "stream",
     "text": [
      "C:\\Users\\siptest\\anaconda3\\envs\\py36\\lib\\site-packages\\sklearn\\utils\\validation.py:73: DataConversionWarning: A column-vector y was passed when a 1d array was expected. Please change the shape of y to (n_samples, ), for example using ravel().\n",
      "  return f(**kwargs)\n"
     ]
    },
    {
     "name": "stdout",
     "output_type": "stream",
     "text": [
      "0.5995592784000947 0.19 [0.5970217  0.59311442 0.57891735 0.59970849 0.59913667 0.59776742\n",
      " 0.57715738 0.58767049 0.59839225 0.59759919 0.60290297 0.59811123\n",
      " 0.59439133 0.59363482 0.59960575 0.59841513 0.60065095 0.59840944\n",
      " 0.59310454 0.59673167 0.5941656  0.5915486  0.59852801 0.59523164\n",
      " 0.59590636 0.59834171 0.59357315 0.59698772 0.59936143 0.59022802\n",
      " 0.59806819 0.59725754 0.60084278 0.60102265 0.59975656 0.59621779\n",
      " 0.59286349 0.59231542 0.59012295 0.59563103 0.59814367 0.59476775\n",
      " 0.59876357 0.59616314 0.5878461  0.59845363 0.59963634 0.58969519\n",
      " 0.60125742 0.6040805  0.59590553 0.5974227  0.59537979 0.59310306\n",
      " 0.5984409  0.5934239  0.59689651 0.59344408 0.60169586 0.59624756\n",
      " 0.59610439 0.60009539 0.59672443 0.59654279 0.58954443 0.59169391\n",
      " 0.59322185 0.59812242 0.59312384 0.5984252  0.59618275 0.60040597\n",
      " 0.59569783 0.59527314 0.59874301 0.59682764 0.60387685 0.59467217\n",
      " 0.59700069 0.59644838 0.58817741 0.60057062 0.59816393 0.60056141\n",
      " 0.59731334 0.59891232 0.59498246 0.59511216 0.59089996 0.59247643\n",
      " 0.59739879 0.59504293 0.60147041 0.60023541 0.59799786 0.59267542\n",
      " 0.59630325 0.60105325 0.59569473 0.59324341]\n"
     ]
    },
    {
     "name": "stderr",
     "output_type": "stream",
     "text": [
      "C:\\Users\\siptest\\anaconda3\\envs\\py36\\lib\\site-packages\\sklearn\\utils\\validation.py:73: DataConversionWarning: A column-vector y was passed when a 1d array was expected. Please change the shape of y to (n_samples, ), for example using ravel().\n",
      "  return f(**kwargs)\n"
     ]
    },
    {
     "name": "stdout",
     "output_type": "stream",
     "text": [
      "0.5933969651728375 0.83 [0.59899873 0.59950864 0.59585259 0.59232568 0.59756658 0.59882402\n",
      " 0.59567145 0.5991358  0.59623127 0.5904257  0.60031132 0.59572328\n",
      " 0.60286978 0.59835259 0.59640396 0.59984711 0.59591504 0.59364954\n",
      " 0.59592514 0.59696879 0.60289005 0.59448871 0.59868008 0.59623892\n",
      " 0.59941003 0.59142271 0.59611297 0.60195494 0.59514758 0.59957129\n",
      " 0.59864537 0.59395767 0.59776706 0.59871145 0.59300591 0.59794975\n",
      " 0.5930712  0.59401769 0.60344927 0.59272571 0.59661405 0.59564271\n",
      " 0.59697039 0.59484305 0.6018818  0.59779726 0.59021176 0.59761196\n",
      " 0.59645185 0.59815781 0.59589338 0.60280771 0.58279937 0.59470783\n",
      " 0.59542148 0.5981873  0.59163076 0.59930508 0.59976677 0.59864522\n",
      " 0.59432906 0.59168873 0.59379762 0.59136662 0.5909906  0.59541257\n",
      " 0.59945083 0.60287654 0.5970671  0.59726828 0.59803579 0.5977634\n",
      " 0.60011455 0.59937611 0.59589149 0.5972641  0.59408776 0.5984962\n",
      " 0.59712079 0.58569405 0.59518506 0.59872454 0.59836153 0.59936351\n",
      " 0.5940901  0.59757551 0.59703886 0.59030725 0.59355369 0.59285211\n",
      " 0.59844426 0.59090695 0.59474908 0.59347593 0.594526   0.59457036\n",
      " 0.59079924 0.59598632 0.59822042 0.59429574]\n"
     ]
    },
    {
     "name": "stderr",
     "output_type": "stream",
     "text": [
      "C:\\Users\\siptest\\anaconda3\\envs\\py36\\lib\\site-packages\\sklearn\\utils\\validation.py:73: DataConversionWarning: A column-vector y was passed when a 1d array was expected. Please change the shape of y to (n_samples, ), for example using ravel().\n",
      "  return f(**kwargs)\n"
     ]
    },
    {
     "name": "stdout",
     "output_type": "stream",
     "text": [
      "0.5891851841770462 0.96 [0.59999194 0.59934001 0.58548225 0.59383736 0.6011454  0.59942645\n",
      " 0.59596401 0.59082399 0.58952764 0.5955112  0.60298257 0.60002039\n",
      " 0.59725269 0.59496705 0.59479373 0.5984716  0.60114322 0.5989255\n",
      " 0.59971629 0.5976463  0.59996092 0.5996171  0.59968369 0.59243224\n",
      " 0.5892527  0.60047726 0.58909706 0.59223355 0.59439389 0.59175763\n",
      " 0.59753734 0.60046408 0.59424946 0.59314411 0.59211903 0.59839513\n",
      " 0.59671317 0.59603398 0.59773505 0.59572194 0.59899085 0.59517293\n",
      " 0.59893769 0.59872315 0.59483861 0.60090155 0.59887918 0.5981795\n",
      " 0.59040399 0.59966784 0.60133284 0.59192278 0.60049553 0.59493089\n",
      " 0.59329432 0.59728753 0.59557372 0.59891825 0.5951567  0.59511527\n",
      " 0.58514398 0.59743885 0.59196336 0.59560306 0.59732896 0.59728537\n",
      " 0.60105782 0.59082712 0.59521511 0.59028052 0.59862013 0.59875529\n",
      " 0.60346107 0.59404756 0.59426104 0.59953381 0.59823621 0.60288494\n",
      " 0.600378   0.59541279 0.59963869 0.59141571 0.59922127 0.59295167\n",
      " 0.60026931 0.59581869 0.58276558 0.59569437 0.59814276 0.59666234\n",
      " 0.59523162 0.59736312 0.59593502 0.59432884 0.59686632 0.60261157\n",
      " 0.59822226 0.59660661 0.59691807 0.59471237]\n"
     ]
    },
    {
     "name": "stderr",
     "output_type": "stream",
     "text": [
      "C:\\Users\\siptest\\anaconda3\\envs\\py36\\lib\\site-packages\\sklearn\\utils\\validation.py:73: DataConversionWarning: A column-vector y was passed when a 1d array was expected. Please change the shape of y to (n_samples, ), for example using ravel().\n",
      "  return f(**kwargs)\n"
     ]
    },
    {
     "name": "stdout",
     "output_type": "stream",
     "text": [
      "0.5982971601516623 0.38 [0.59334963 0.59786276 0.60124386 0.5989036  0.59536093 0.59893842\n",
      " 0.59285604 0.59950607 0.59428095 0.59805207 0.60027011 0.59956675\n",
      " 0.60207067 0.59153485 0.59349134 0.59598198 0.59890032 0.59581779\n",
      " 0.59913353 0.60185242 0.58853582 0.5962083  0.59611784 0.59718571\n",
      " 0.59863028 0.59654045 0.5917234  0.58667665 0.59396607 0.59607167\n",
      " 0.60176639 0.59226348 0.59365532 0.59742465 0.59793729 0.59911171\n",
      " 0.59341672 0.59598646 0.59385502 0.59312423 0.5951008  0.59570759\n",
      " 0.59960597 0.59947775 0.5899867  0.59205966 0.59830209 0.59905682\n",
      " 0.59641079 0.59862091 0.59428641 0.60072335 0.59702743 0.59227654\n",
      " 0.59843639 0.59967874 0.59998291 0.60005407 0.60162754 0.60042112\n",
      " 0.59938208 0.59702865 0.59454361 0.59255561 0.59829029 0.59751065\n",
      " 0.59544678 0.58809542 0.59858525 0.59636541 0.60022508 0.59488171\n",
      " 0.59876374 0.59844069 0.59575591 0.59565623 0.59897157 0.59738691\n",
      " 0.59997313 0.59601723 0.5985294  0.59590782 0.59606816 0.59607632\n",
      " 0.59442594 0.59666073 0.60123654 0.59533514 0.59250049 0.59862746\n",
      " 0.59798744 0.59455396 0.59981932 0.59742664 0.59206278 0.60214741\n",
      " 0.59720132 0.59736149 0.59928563 0.5936288 ]\n"
     ]
    },
    {
     "name": "stderr",
     "output_type": "stream",
     "text": [
      "C:\\Users\\siptest\\anaconda3\\envs\\py36\\lib\\site-packages\\sklearn\\utils\\validation.py:73: DataConversionWarning: A column-vector y was passed when a 1d array was expected. Please change the shape of y to (n_samples, ), for example using ravel().\n",
      "  return f(**kwargs)\n"
     ]
    },
    {
     "name": "stdout",
     "output_type": "stream",
     "text": [
      "0.5948068898455622 0.72 [0.60118392 0.59423026 0.59536015 0.59775723 0.59639624 0.59670419\n",
      " 0.59326362 0.6023938  0.60048381 0.59723042 0.59643886 0.59380313\n",
      " 0.59861012 0.59624477 0.59122896 0.60062669 0.59728008 0.60016351\n",
      " 0.59532323 0.59932919 0.59562534 0.59634483 0.59291193 0.59387052\n",
      " 0.59439855 0.59401864 0.59996669 0.59821758 0.59721548 0.59640943\n",
      " 0.5928001  0.59511449 0.59406737 0.59594775 0.59897962 0.59529894\n",
      " 0.5950617  0.59557294 0.58832277 0.59910776 0.59517525 0.59519263\n",
      " 0.58639361 0.59715009 0.59839048 0.59810277 0.59985404 0.59844784\n",
      " 0.60209628 0.59374623 0.5875868  0.5967118  0.59535931 0.59884249\n",
      " 0.59004093 0.59778163 0.5970121  0.59686542 0.5950786  0.59814423\n",
      " 0.5913356  0.59550401 0.59702672 0.58791933 0.5960454  0.59630688\n",
      " 0.59216581 0.59921876 0.59410117 0.59469607 0.59369736 0.59532417\n",
      " 0.5978152  0.59622467 0.59353896 0.59894587 0.60143876 0.59657507\n",
      " 0.59893034 0.59462261 0.59899067 0.60011026 0.59916793 0.59947184\n",
      " 0.59949158 0.59395117 0.59828313 0.59983376 0.59582306 0.59296825\n",
      " 0.60036473 0.60015052 0.59628674 0.60010712 0.59235305 0.59177342\n",
      " 0.59999634 0.5969001  0.60402518 0.59109622]\n"
     ]
    },
    {
     "name": "stderr",
     "output_type": "stream",
     "text": [
      "C:\\Users\\siptest\\anaconda3\\envs\\py36\\lib\\site-packages\\sklearn\\utils\\validation.py:73: DataConversionWarning: A column-vector y was passed when a 1d array was expected. Please change the shape of y to (n_samples, ), for example using ravel().\n",
      "  return f(**kwargs)\n"
     ]
    },
    {
     "name": "stdout",
     "output_type": "stream",
     "text": [
      "0.597230424336254 0.47 [0.59921766 0.59163542 0.59229938 0.59755758 0.5973427  0.60021196\n",
      " 0.59646509 0.59598704 0.5987071  0.59452197 0.59643882 0.59624046\n",
      " 0.59753905 0.60174981 0.59548266 0.60140355 0.5976188  0.59608634\n",
      " 0.59647622 0.59873789 0.59798197 0.5938231  0.59795269 0.5973804\n",
      " 0.59822075 0.59118629 0.59475949 0.59250786 0.59508449 0.59020717\n",
      " 0.60008079 0.59792744 0.59325908 0.5999664  0.59557232 0.59844983\n",
      " 0.60025867 0.59959956 0.5947856  0.59304542 0.58752445 0.59006359\n",
      " 0.59157557 0.59906109 0.59738284 0.59021989 0.59442163 0.59779098\n",
      " 0.59746572 0.59806681 0.59509421 0.59773841 0.5949148  0.60027727\n",
      " 0.58992296 0.59453526 0.59913211 0.59657185 0.60102114 0.59750455\n",
      " 0.59790359 0.58724015 0.5950025  0.59082725 0.59686689 0.59352184\n",
      " 0.59699895 0.57661328 0.59764151 0.5999577  0.59364917 0.59841562\n",
      " 0.59903357 0.59283064 0.60284192 0.59763993 0.59714021 0.59517073\n",
      " 0.60015576 0.59397729 0.59346277 0.59884053 0.59357497 0.59955686\n",
      " 0.60100994 0.59682208 0.59775818 0.59936356 0.59267172 0.59420332\n",
      " 0.59721442 0.5977826  0.5969024  0.59606847 0.59251658 0.58952902\n",
      " 0.5946522  0.60144313 0.59872392 0.60011157]\n"
     ]
    },
    {
     "name": "stderr",
     "output_type": "stream",
     "text": [
      "C:\\Users\\siptest\\anaconda3\\envs\\py36\\lib\\site-packages\\sklearn\\utils\\validation.py:73: DataConversionWarning: A column-vector y was passed when a 1d array was expected. Please change the shape of y to (n_samples, ), for example using ravel().\n",
      "  return f(**kwargs)\n"
     ]
    },
    {
     "name": "stdout",
     "output_type": "stream",
     "text": [
      "0.5964356259538142 0.55 [0.59666354 0.59404075 0.59416234 0.59777093 0.59708052 0.59443672\n",
      " 0.59907409 0.59815701 0.59518571 0.59813248 0.59868566 0.59642874\n",
      " 0.59544139 0.59792393 0.58923212 0.59275673 0.59440746 0.5962789\n",
      " 0.59810996 0.59498132 0.59736801 0.59446159 0.59626936 0.59872283\n",
      " 0.59482018 0.59446577 0.595578   0.59213182 0.59579604 0.59709991\n",
      " 0.59225193 0.59919544 0.59746876 0.58601514 0.59399653 0.59931857\n",
      " 0.59147312 0.59322822 0.59834994 0.59463662 0.60124865 0.59646439\n",
      " 0.59847646 0.59715457 0.59712453 0.59295994 0.59133717 0.59184257\n",
      " 0.59834359 0.59775681 0.59581461 0.59149319 0.59904779 0.59767999\n",
      " 0.58652591 0.6007073  0.59480097 0.60082979 0.59704218 0.59347797\n",
      " 0.60243161 0.59796254 0.59434611 0.59683394 0.60197085 0.59421979\n",
      " 0.59568515 0.59437499 0.59750218 0.59248371 0.60114514 0.59945945\n",
      " 0.60285332 0.59854005 0.59156387 0.5959108  0.59728481 0.59954208\n",
      " 0.59466688 0.59828702 0.60233308 0.59708273 0.59765649 0.59419939\n",
      " 0.59852534 0.59695773 0.59302442 0.60193417 0.597108   0.59706323\n",
      " 0.60123493 0.5996688  0.5981476  0.59637949 0.59662694 0.59574368\n",
      " 0.60003624 0.59061366 0.59847031 0.59809897]\n"
     ]
    },
    {
     "name": "stderr",
     "output_type": "stream",
     "text": [
      "C:\\Users\\siptest\\anaconda3\\envs\\py36\\lib\\site-packages\\sklearn\\utils\\validation.py:73: DataConversionWarning: A column-vector y was passed when a 1d array was expected. Please change the shape of y to (n_samples, ), for example using ravel().\n",
      "  return f(**kwargs)\n"
     ]
    },
    {
     "name": "stdout",
     "output_type": "stream",
     "text": [
      "0.5995125377545075 0.23 [0.59898633 0.59313841 0.59791063 0.59714954 0.59721803 0.59796021\n",
      " 0.60067913 0.59581693 0.59715306 0.59409732 0.59710219 0.59695457\n",
      " 0.5933277  0.58915746 0.58826608 0.59761049 0.60317189 0.59928273\n",
      " 0.59747902 0.60287787 0.59299718 0.59368091 0.5963564  0.59623878\n",
      " 0.60116041 0.60027684 0.59548631 0.58945463 0.59859139 0.5938258\n",
      " 0.59437819 0.59679483 0.59610669 0.60041778 0.59636361 0.59617731\n",
      " 0.59577938 0.59888424 0.59427472 0.60189561 0.59104228 0.59783996\n",
      " 0.59461263 0.5996892  0.58908582 0.59773256 0.59740108 0.59586979\n",
      " 0.5991709  0.59371101 0.59990801 0.59958439 0.60017415 0.59823537\n",
      " 0.5990249  0.59732285 0.6014027  0.58814474 0.59925799 0.60048025\n",
      " 0.6009705  0.59387555 0.59146882 0.59554469 0.5963836  0.60039753\n",
      " 0.59898452 0.59592605 0.6019739  0.59596463 0.59602282 0.60053817\n",
      " 0.59778804 0.59298055 0.59204355 0.59514744 0.59928763 0.59986264\n",
      " 0.59297361 0.5979187  0.59642593 0.59498651 0.60035319 0.59037985\n",
      " 0.59283603 0.59860755 0.60122176 0.60067057 0.59863832 0.59526796\n",
      " 0.59402282 0.59212884 0.59580054 0.60075885 0.59559184 0.60095484\n",
      " 0.595929   0.59755081 0.59811071 0.59489966]\n"
     ]
    },
    {
     "name": "stderr",
     "output_type": "stream",
     "text": [
      "C:\\Users\\siptest\\anaconda3\\envs\\py36\\lib\\site-packages\\sklearn\\utils\\validation.py:73: DataConversionWarning: A column-vector y was passed when a 1d array was expected. Please change the shape of y to (n_samples, ), for example using ravel().\n",
      "  return f(**kwargs)\n"
     ]
    },
    {
     "name": "stdout",
     "output_type": "stream",
     "text": [
      "0.5993796859346674 0.2 [0.59851626 0.5954933  0.59926616 0.597244   0.59105647 0.59777433\n",
      " 0.5945325  0.60042429 0.58611444 0.60166018 0.59354982 0.60199208\n",
      " 0.59792133 0.60138169 0.59616321 0.60338579 0.596578   0.59709294\n",
      " 0.59102574 0.59125961 0.59911158 0.58721543 0.58144974 0.59614397\n",
      " 0.59107971 0.60259636 0.59554009 0.59458317 0.59607726 0.59645134\n",
      " 0.59734268 0.58603349 0.60082326 0.595552   0.59656705 0.59189939\n",
      " 0.59641113 0.59716653 0.59392246 0.5919812  0.59687816 0.59634267\n",
      " 0.59682521 0.60001492 0.59953202 0.59765337 0.59449744 0.59177286\n",
      " 0.59644392 0.60116641 0.59658536 0.59284202 0.60027733 0.597068\n",
      " 0.60156368 0.59708919 0.5956162  0.59782302 0.59408012 0.59723449\n",
      " 0.59570925 0.5971842  0.5927481  0.59833147 0.60004952 0.59112429\n",
      " 0.58409484 0.59604321 0.58950179 0.59434136 0.5991003  0.59946811\n",
      " 0.58205394 0.59699005 0.59206777 0.59971641 0.59148817 0.59582861\n",
      " 0.59723376 0.5938875  0.59064822 0.59941583 0.59112806 0.59867666\n",
      " 0.59898479 0.59673538 0.59708583 0.59711959 0.59164813 0.5960949\n",
      " 0.59971164 0.59970197 0.60116813 0.59727894 0.60401241 0.59646055\n",
      " 0.59358805 0.5957814  0.59633241 0.59670882]\n"
     ]
    },
    {
     "name": "stderr",
     "output_type": "stream",
     "text": [
      "C:\\Users\\siptest\\anaconda3\\envs\\py36\\lib\\site-packages\\sklearn\\utils\\validation.py:73: DataConversionWarning: A column-vector y was passed when a 1d array was expected. Please change the shape of y to (n_samples, ), for example using ravel().\n",
      "  return f(**kwargs)\n"
     ]
    }
   ],
   "source": [
    "from statsmodels.distributions.empirical_distribution import ECDF\n",
    "from hyppo.sims import *\n",
    "from hyppo.ksample._utils import k_sample_transform\n",
    "pvalues = []\n",
    "for i in range(1, 100): \n",
    "    matrix1, matrix2 = hyppo.sims.trans_2samp(multimodal_independence, 100, 1, noise=True, degree=90, trans=0.3)\n",
    "    x, y = k_sample_transform([matrix1, matrix2])\n",
    "    pval = perm_test(x, y)\n",
    "    pvalues.append(pval)\n",
    "#np.savetxt('C:/Users/siptest/Desktop/NDD/IndependencePvalsPermTestChangeAll2.csv',\n",
    "               #pvalues, delimiter=',')    \n",
    "np.savetxt('C:/Users/siptest/Desktop/NDD/IndependenceMultiModal_100Reps.csv',\n",
    "               pvalues, delimiter=',') \n",
    "ecdf = ECDF(pvalues) \n",
    "plt.plot(ecdf.x, ecdf.y)\n",
    "plt.show()"
   ]
  },
  {
   "cell_type": "code",
   "execution_count": 10,
   "metadata": {},
   "outputs": [
    {
     "data": {
      "image/png": "[encoded data removed]",
      "text/plain": [
       "<Figure size 432x288 with 1 Axes>"
      ]
     },
     "metadata": {
      "needs_background": "light"
     },
     "output_type": "display_data"
    }
   ],
   "source": [
    "from statsmodels.distributions.empirical_distribution import ECDF\n",
    "#toPlot = np.genfromtxt('C:/Users/siptest/Desktop/NDD/IndependencePvalsPermTestChangeAll.csv', delimiter=',')\n",
    "#toPlot = [0.909, 0.431, 0.519, 0.877, 0.891, 0.072, 0.292, 0.587, 0.426, 0.952, 0.281, 0.647, 0.785, 0.185, 0.587, 0.445, 0.37, 0.35, 0.689, 0.66, 0.474, 0.602]\n",
    "toPlot = np.genfromtxt('C:/Users/siptest/Desktop/NDD/Multimodal100Reps.csv', delimiter=',') \n",
    "axes = plt.gca()\n",
    "x_vals = np.array(axes.get_xlim())\n",
    "y_vals = 1 * x_vals\n",
    "plt.plot(x_vals, y_vals, '--')\n",
    "ecdf = ECDF(toPlot)\n",
    "plt.plot(ecdf.x, ecdf.y)\n",
    "plt.gca().set_aspect('equal', adjustable='box')\n",
    "plt.xlabel(\"p-value\")\n",
    "plt.ylabel(\"fraction of data\")\n",
    "plt.savefig('C:/Users/siptest/Desktop/NDD/IndependenceMultimodalPvalsCorrectUF.png')\n",
    "plt.show()"
   ]
  }
 ],
 "metadata": {
  "kernelspec": {
   "display_name": "py36",
   "language": "python",
   "name": "py36"
  },
  "language_info": {
   "codemirror_mode": {
    "name": "ipython",
    "version": 3
   },
   "file_extension": ".py",
   "mimetype": "text/x-python",
   "name": "python",
   "nbconvert_exporter": "python",
   "pygments_lexer": "ipython3",
   "version": "3.6.10"
  }
 },
 "nbformat": 4,
 "nbformat_minor": 4
}
