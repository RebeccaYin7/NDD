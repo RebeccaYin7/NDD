{
 "cells": [
  {
   "cell_type": "code",
   "execution_count": 1,
   "metadata": {},
   "outputs": [],
   "source": [
    "import numpy as np\n",
    "from numba import njit\n",
    "import pickle\n",
    "from sklearn.ensemble import BaggingClassifier\n",
    "from sklearn.tree._classes import DecisionTreeClassifier\n",
    "from joblib import Parallel, delayed\n",
    "from scipy.stats import entropy, multivariate_normal\n",
    "\n",
    "from hyppo.tools import multimodal_independence, indep_sim, rot_ksamp\n",
    "from hyppo.tools import SIMULATIONS\n",
    "from hyppo.ksample._utils import k_sample_transform\n",
    "from tqdm import tqdm\n",
    "from hyppo.tools import * \n",
    "\n",
    "import sys\n",
    "import os\n",
    "import multiprocessing as mp\n",
    "from proglearn import UncertaintyForest\n",
    "from joblib import Parallel, delayed\n",
    "sys.path.append('C:\\\\Users\\\\siptest\\\\AppData\\\\Roaming\\\\Python\\\\Python36\\\\Scripts')\n",
    "%load_ext autoreload\n",
    "%autoreload 2"
   ]
  },
  {
   "cell_type": "code",
   "execution_count": 2,
   "metadata": {},
   "outputs": [],
   "source": [
    "\"\"\"\"class TestStat:\n",
    "    def __init__(self, uf, oob_func, n_jobs=1):\n",
    "        self.uf = uf\n",
    "        self.fit_ = False\n",
    "        \n",
    "    def statistic(self, X, y):\n",
    "        y = y.ravel()\n",
    "        if not self.fit_:\n",
    "            self.uf = self.uf.fit(X, y)\n",
    "            if hasattr(self, \"leaf_indices_\"):\n",
    "                del self.leaf_indices_\n",
    "            self.fit_ = True\n",
    "        if not hasattr(self, \"leaf_indices_\"):\n",
    "            self.leaf_indices_ = []\n",
    "            for tree, voter_indices in zip(self.uf.transformers_, self.uf.voter_indices_):\n",
    "                self.leaf_indices_.append(tree.apply(X[voter_indices]))\n",
    "\n",
    "        _, counts = np.unique(y, return_counts=True)\n",
    "        H_Y = entropy(counts, base=np.exp(1))\n",
    "        H_YX = self._refit_apply_oob(X, y)\n",
    "        return H_Y - H_YX\n",
    "\n",
    "    def _refit_apply_oob(self, X, y):\n",
    "        posteriors = np.zeros((X.shape[0], self.uf.n_classes_), dtype=np.float64)\n",
    "        # posteriors = np.zeros((X.shape[0], self.uf.n_estimators, self.uf.n_classes_), dtype=np.float64)\n",
    "\n",
    "        for tree, leaf_indices, voter_indices in zip(self.uf.transformers_, self.leaf_indices_, self.uf.voter_indices_):\n",
    "        # for tree_idx, (leaf_indices, voter_indices) in enumerate(zip(self.leaf_indices_, self.uf.voter_indices_)):\n",
    "            tree.tree_.value[:, :, :] = 0\n",
    "            # print(tree.tree_.value.shape)\n",
    "            # print(leaf_indices)\n",
    "\n",
    "            for leaf_id, yval in zip(leaf_indices, y[voter_indices]):\n",
    "                tree.tree_.value[leaf_id][0, yval] += 1\n",
    "                # posteriors[leaf_id,]\n",
    "\n",
    "            proba = tree.tree_.value[leaf_indices][:, 0, :]\n",
    "            normalizer = proba.sum(axis=1)[:, np.newaxis]\n",
    "            normalizer[normalizer == 0.0] = 1.0 # solves divide by 0 error\n",
    "            proba /= normalizer\n",
    "            posteriors[voter_indices] += proba\n",
    "\n",
    "        # Normalize to unit length, due to prior weighting\n",
    "        zero_mask = posteriors.sum(1) == 0\n",
    "        posteriors[~zero_mask] /= posteriors[~zero_mask].sum(1, keepdims=True)\n",
    "        posteriors[zero_mask] = self.uf.empirical_prior_\n",
    "\n",
    "        return np.mean(entropy(posteriors, base=np.exp(1), axis=1))\"\"\"\n",
    "\n",
    "class UFTest:\n",
    "    def __init__(self, uf):\n",
    "        self.uf = uf\n",
    "        self.fit_ = False\n",
    "        \n",
    "    def statistic(self, X, y):\n",
    "        y = y.ravel()\n",
    "        if not self.fit_:\n",
    "            self.uf = self.uf.fit(X, y)\n",
    "            if hasattr(self, \"honest_leaf_indices_\"):\n",
    "                assert hasattr(self, \"transformer_leaf_indices_\")\n",
    "                del self.honest_leaf_indices_\n",
    "                del self.transformer_leaf_indices_\n",
    "            self.fit_ = True\n",
    "        if not hasattr(self, \"honest_leaf_indices_\"):\n",
    "            self.honest_leaf_indices_ = []\n",
    "            self.transformer_leaf_indices_ = []\n",
    "            for tree, voter_indices, transformer_indices in zip(self.uf.transformers_, self.uf.voter_indices_, self.uf.transformer_indices_):\n",
    "                self.honest_leaf_indices_.append(tree.apply(X[voter_indices]))\n",
    "                self.transformer_leaf_indices_.append(tree.apply(X[transformer_indices]))\n",
    "\n",
    "        _, counts = np.unique(y, return_counts=True)\n",
    "        H_Y = entropy(counts, base=np.exp(1))\n",
    "        H_YX = self._refit_apply_oob(X, y)\n",
    "        return max(H_Y - H_YX, 0)\n",
    "\n",
    "    def _refit_apply_oob(self, X, y):\n",
    "        posteriors = np.zeros((X.shape[0], self.uf.n_classes_), dtype=np.float64)\n",
    "        # posteriors = np.zeros((X.shape[0], self.uf.n_estimators, self.uf.n_classes_), dtype=np.float64)\n",
    "\n",
    "        for tree, honest_leaf_indices, voter_indices, tranformer_leaf_indices, transformer_indices in zip(\n",
    "            self.uf.transformers_, self.honest_leaf_indices_, self.uf.voter_indices_, self.transformer_leaf_indices_, self.uf.transformer_indices_):\n",
    "        # for tree_idx, (honest_leaf_indices, voter_indices) in enumerate(zip(self.honest_leaf_indices_, self.uf.voter_indices_)):\n",
    "            tree.tree_.value[:, :, :] = 0\n",
    "\n",
    "            for leaf_id, yval in zip(honest_leaf_indices, y[voter_indices]):\n",
    "                tree.tree_.value[leaf_id][0, yval] += 1\n",
    "\n",
    "            leaf_indices = np.hstack((honest_leaf_indices, tranformer_leaf_indices))\n",
    "            sample_indices = np.hstack((voter_indices, transformer_indices))\n",
    "\n",
    "            proba = tree.tree_.value[leaf_indices][:, 0, :]\n",
    "            normalizer = proba.sum(axis=1)[:, np.newaxis]\n",
    "            normalizer[normalizer == 0.0] = 1.0 # solves divide by 0 error\n",
    "            proba /= normalizer\n",
    "            posteriors[sample_indices] += proba\n",
    "\n",
    "        # Normalize to unit length, due to prior weighting\n",
    "        zero_mask = posteriors.sum(1) == 0\n",
    "        posteriors[~zero_mask] /= posteriors[~zero_mask].sum(1, keepdims=True)\n",
    "        posteriors[zero_mask] = self.uf.empirical_prior_\n",
    "\n",
    "        return np.mean(entropy(posteriors, base=np.exp(1), axis=1))\n",
    "\n"
   ]
  },
  {
   "cell_type": "code",
   "execution_count": 3,
   "metadata": {},
   "outputs": [],
   "source": [
    "def find_dim(sim):\n",
    "    \"\"\"Find dimension maximum for the simulation.\"\"\"\n",
    "    if sim not in SIMULATIONS.keys():\n",
    "        raise ValueError(\"Invalid simulation\")\n",
    "\n",
    "    if sim in [\"joint_normal\", \"sin_four_pi\", \"sin_sixteen_pi\", \"multiplicative_noise\"]:\n",
    "        dim = 10\n",
    "    elif sim in [\"multimodal_independence\", \"uncorrelated_bernoulli\", \"logarithmic\"]:\n",
    "        dim = 100\n",
    "    elif sim in [\"linear\", \"exponential\", \"cubic\"]:\n",
    "        dim = 1000\n",
    "    elif sim in [\"square\", \"diamond\"]:\n",
    "        dim = 40\n",
    "    else:\n",
    "        dim = 20\n",
    "\n",
    "    return dim\n",
    "\n",
    "def find_dim_range(dim):\n",
    "    \"\"\"Create list of dimension range to calculate power for.\"\"\"\n",
    "    if dim < 20:\n",
    "        lim = 10\n",
    "    else:\n",
    "        lim = 20\n",
    "\n",
    "    dim_range = list(range(int(dim / lim), dim + 1, int(dim / lim)))\n",
    "    if int(dim / lim) != 1:\n",
    "        dim_range.insert(0, 1)\n",
    "    return dim_range"
   ]
  },
  {
   "cell_type": "code",
   "execution_count": 4,
   "metadata": {},
   "outputs": [],
   "source": [
    "\"\"\"\"def _perm_stat(calc_stat, x, y):\n",
    "    permy = np.random.permutation(y)\n",
    "    perm_stat = calc_stat.statistic(x, permy)\n",
    "\n",
    "    return perm_stat\n",
    "\n",
    "\n",
    "def perm_test(calc_stat, X, y, reps=1000, workers=1):\n",
    "    \n",
    "    #Calculate the p-value via permutation\n",
    "    \n",
    "    # calculate observed test statistic\n",
    "    stat = calc_stat.statistic(X, y)\n",
    "    \n",
    "    null_dist = np.asarray([_perm_stat(calc_stat, X, y) for rep in range(reps)])\n",
    "    pvalue = ((null_dist >= stat).sum() + 1) / (reps + 1)\n",
    "\n",
    "\n",
    "    return stat, pvalue\"\"\"\n",
    "\n",
    "def _perm_stat(calc_stat, x, y):\n",
    "    permy = np.random.permutation(y)\n",
    "    perm_stat = calc_stat.statistic(x, permy)\n",
    "\n",
    "    return perm_stat\n",
    "\n",
    "\n",
    "def perm_test(calc_stat, X, y, reps=1000):\n",
    "    \"\"\"\n",
    "    Calculate the p-value via permutation\n",
    "    \"\"\"\n",
    "    # calculate observed test statistic\n",
    "    if hasattr(calc_stat, \"fit_\"):\n",
    "        calc_stat.fit_ = False\n",
    "    stat = calc_stat.statistic(X, y)\n",
    "    \n",
    "    null_dist = np.asarray([_perm_stat(calc_stat, X, y) for rep in range(reps)])\n",
    "    pvalue = ((null_dist >= stat).sum() + 1) / (reps + 1)\n",
    "\n",
    "    return stat, pvalue, null_dist"
   ]
  },
  {
   "cell_type": "code",
   "execution_count": 7,
   "metadata": {},
   "outputs": [],
   "source": [
    "POWER_REPS = 100\n",
    "\n",
    "def estimate_power(sim, test):\n",
    "    \n",
    "    est_power = []\n",
    "    dim_range = find_dim_range(find_dim(sim))\n",
    "    for i in tqdm(dim_range):\n",
    "        print(\"dimension \" + str(i))\n",
    "        print(sim)\n",
    "    \n",
    "        pvalues = []\n",
    "        for _ in tqdm(range(POWER_REPS)): \n",
    "            x, y = rot_ksamp(sim, n=100, p=i, noise=True)\n",
    "            X, y = k_sample_transform([x, y])\n",
    "            y = y.astype(int)\n",
    "            y = y.ravel()\n",
    "            print(X.shape)\n",
    "            print(y.shape)\n",
    "            uf = UncertaintyForest(\n",
    "                n_estimators=100,\n",
    "                tree_construction_proportion=0.5,\n",
    "                kappa=np.inf,\n",
    "                honest_prior=\"ignore\",\n",
    "                max_features=1.0,\n",
    "                n_jobs=-2,\n",
    "            )\n",
    "            uf = uf.fit(X, y)\n",
    "            print('Fitted')\n",
    "\n",
    "            reps = 1000\n",
    "            test = UFTest(uf)\n",
    "            stat, pvalue, null_dist = perm_test(test, X, y, reps=reps)\n",
    "            print(\"Test Statistic: \", stat)\n",
    "            print(\"p-value: \", pvalue)\n",
    "\n",
    "            \"\"\"\"\n",
    "            ce = lambda x: entropy(x, axis=1, base=np.exp(1))\n",
    "            obs_stat = UFTest(uf, ce)\n",
    "\n",
    "            reps = 1000\n",
    "            stat, pvalue = perm_test(obs_stat, X, y, reps=reps, workers=-2)\n",
    "            print(pvalue)\n",
    "            \"\"\"\n",
    "            \n",
    "            pvalues.append(pvalue)\n",
    "            with open(\"./type_vs_attributes_test.csv\", \"w\") as f:\n",
    "                f.write(f\"Test Statistic,p-value\\n{stat},{pvalue}\")\n",
    "        num = 0\n",
    "        for pval in pvalues: \n",
    "            if pval <= 0.05: \n",
    "                num += 1\n",
    "        empirical_power = (1+num) / (1+POWER_REPS)\n",
    "        est_power.append(empirical_power)\n",
    "        \n",
    "    print(est_power)\n",
    "        \n",
    "    \n",
    "    print(sim + \" done\")\n",
    "    np.savetxt('C:/Users/siptest/Desktop/NDD/{}_{}_vs_Dimension_HonestSampling_5_23.csv'.format(sim, \"UF\"),\n",
    "            est_power, delimiter=',')\n",
    "    \n",
    "    return est_power"
   ]
  },
  {
   "cell_type": "code",
   "execution_count": null,
   "metadata": {},
   "outputs": [],
   "source": [
    "for sim_name in tqdm(SIMULATIONS.keys()): \n",
    "    if sim_name != 'linear' and sim_name != 'exponential' and sim_name!= 'cubic' and sim_name != 'joint_normal' and sim_name != 'step' and sim_name != 'quadratic':\n",
    "        power = estimate_power(sim_name, \"UF\")"
   ]
  },
  {
   "cell_type": "code",
   "execution_count": 8,
   "metadata": {},
   "outputs": [
    {
     "name": "stderr",
     "output_type": "stream",
     "text": [
      "  0%|                                                                                           | 0/20 [00:00<?, ?it/s]\n",
      "  0%|                                                                                          | 0/100 [00:00<?, ?it/s]\u001b[A"
     ]
    },
    {
     "name": "stdout",
     "output_type": "stream",
     "text": [
      "dimension 1\n",
      "circle\n",
      "(200, 2)\n",
      "(200,)\n",
      "Fitted\n"
     ]
    },
    {
     "name": "stderr",
     "output_type": "stream",
     "text": [
      "\n",
      "  1%|▊                                                                                 | 1/100 [00:31<51:43, 31.35s/it]\u001b[A"
     ]
    },
    {
     "name": "stdout",
     "output_type": "stream",
     "text": [
      "Test Statistic:  0.2044395607309899\n",
      "p-value:  0.000999000999000999\n",
      "(200, 2)\n",
      "(200,)\n",
      "Fitted\n"
     ]
    },
    {
     "name": "stderr",
     "output_type": "stream",
     "text": [
      "\n",
      "  2%|█▋                                                                                | 2/100 [01:00<50:17, 30.79s/it]\u001b[A"
     ]
    },
    {
     "name": "stdout",
     "output_type": "stream",
     "text": [
      "Test Statistic:  0.1361204876922043\n",
      "p-value:  0.000999000999000999\n",
      "(200, 2)\n",
      "(200,)\n",
      "Fitted\n"
     ]
    },
    {
     "name": "stderr",
     "output_type": "stream",
     "text": [
      "\n",
      "  3%|██▍                                                                               | 3/100 [01:30<49:14, 30.46s/it]\u001b[A"
     ]
    },
    {
     "name": "stdout",
     "output_type": "stream",
     "text": [
      "Test Statistic:  0.15254165562035482\n",
      "p-value:  0.000999000999000999\n",
      "(200, 2)\n",
      "(200,)\n",
      "Fitted\n"
     ]
    },
    {
     "name": "stderr",
     "output_type": "stream",
     "text": [
      "\n",
      "  4%|███▎                                                                              | 4/100 [02:00<48:31, 30.33s/it]\u001b[A"
     ]
    },
    {
     "name": "stdout",
     "output_type": "stream",
     "text": [
      "Test Statistic:  0.1443555621003645\n",
      "p-value:  0.000999000999000999\n",
      "(200, 2)\n",
      "(200,)\n",
      "Fitted\n"
     ]
    },
    {
     "name": "stderr",
     "output_type": "stream",
     "text": [
      "\n",
      "  5%|████                                                                              | 5/100 [02:30<47:59, 30.31s/it]\u001b[A"
     ]
    },
    {
     "name": "stdout",
     "output_type": "stream",
     "text": [
      "Test Statistic:  0.14940985884783098\n",
      "p-value:  0.000999000999000999\n",
      "(200, 2)\n",
      "(200,)\n",
      "Fitted\n"
     ]
    },
    {
     "name": "stderr",
     "output_type": "stream",
     "text": [
      "\n",
      "  6%|████▉                                                                             | 6/100 [03:00<47:16, 30.18s/it]\u001b[A"
     ]
    },
    {
     "name": "stdout",
     "output_type": "stream",
     "text": [
      "Test Statistic:  0.18487845423650295\n",
      "p-value:  0.000999000999000999\n",
      "(200, 2)\n",
      "(200,)\n",
      "Fitted\n"
     ]
    },
    {
     "name": "stderr",
     "output_type": "stream",
     "text": [
      "\n",
      "  7%|█████▋                                                                            | 7/100 [03:33<48:04, 31.02s/it]\u001b[A"
     ]
    },
    {
     "name": "stdout",
     "output_type": "stream",
     "text": [
      "Test Statistic:  0.20352455356748034\n",
      "p-value:  0.000999000999000999\n",
      "(200, 2)\n",
      "(200,)\n",
      "Fitted\n"
     ]
    },
    {
     "name": "stderr",
     "output_type": "stream",
     "text": [
      "\n",
      "  8%|██████▌                                                                           | 8/100 [04:03<46:56, 30.61s/it]\u001b[A"
     ]
    },
    {
     "name": "stdout",
     "output_type": "stream",
     "text": [
      "Test Statistic:  0.16048280344594856\n",
      "p-value:  0.000999000999000999\n",
      "(200, 2)\n",
      "(200,)\n",
      "Fitted\n"
     ]
    },
    {
     "name": "stderr",
     "output_type": "stream",
     "text": [
      "\n",
      "  9%|███████▍                                                                          | 9/100 [04:32<45:56, 30.29s/it]\u001b[A"
     ]
    },
    {
     "name": "stdout",
     "output_type": "stream",
     "text": [
      "Test Statistic:  0.21596059463728023\n",
      "p-value:  0.000999000999000999\n",
      "(200, 2)\n",
      "(200,)\n",
      "Fitted\n"
     ]
    },
    {
     "name": "stderr",
     "output_type": "stream",
     "text": [
      "\n",
      " 10%|████████                                                                         | 10/100 [05:01<44:51, 29.91s/it]\u001b[A"
     ]
    },
    {
     "name": "stdout",
     "output_type": "stream",
     "text": [
      "Test Statistic:  0.1974590377350614\n",
      "p-value:  0.000999000999000999\n",
      "(200, 2)\n",
      "(200,)\n",
      "Fitted\n"
     ]
    },
    {
     "name": "stderr",
     "output_type": "stream",
     "text": [
      "\n",
      " 11%|████████▉                                                                        | 11/100 [05:31<44:06, 29.74s/it]\u001b[A"
     ]
    },
    {
     "name": "stdout",
     "output_type": "stream",
     "text": [
      "Test Statistic:  0.1600115710297464\n",
      "p-value:  0.000999000999000999\n",
      "(200, 2)\n",
      "(200,)\n",
      "Fitted\n"
     ]
    },
    {
     "name": "stderr",
     "output_type": "stream",
     "text": [
      "\n",
      " 12%|█████████▋                                                                       | 12/100 [06:00<43:18, 29.53s/it]\u001b[A"
     ]
    },
    {
     "name": "stdout",
     "output_type": "stream",
     "text": [
      "Test Statistic:  0.15146251798853272\n",
      "p-value:  0.000999000999000999\n",
      "(200, 2)\n",
      "(200,)\n",
      "Fitted\n"
     ]
    },
    {
     "name": "stderr",
     "output_type": "stream",
     "text": [
      "\n",
      " 13%|██████████▌                                                                      | 13/100 [06:29<42:33, 29.35s/it]\u001b[A"
     ]
    },
    {
     "name": "stdout",
     "output_type": "stream",
     "text": [
      "Test Statistic:  0.20247651729891625\n",
      "p-value:  0.000999000999000999\n",
      "(200, 2)\n",
      "(200,)\n",
      "Fitted\n"
     ]
    },
    {
     "name": "stderr",
     "output_type": "stream",
     "text": [
      "\n",
      " 14%|███████████▎                                                                     | 14/100 [06:59<42:40, 29.77s/it]\u001b[A"
     ]
    },
    {
     "name": "stdout",
     "output_type": "stream",
     "text": [
      "Test Statistic:  0.1547751066368943\n",
      "p-value:  0.000999000999000999\n",
      "(200, 2)\n",
      "(200,)\n",
      "Fitted\n"
     ]
    },
    {
     "name": "stderr",
     "output_type": "stream",
     "text": [
      "\n",
      " 15%|████████████▏                                                                    | 15/100 [07:30<42:27, 29.97s/it]\u001b[A"
     ]
    },
    {
     "name": "stdout",
     "output_type": "stream",
     "text": [
      "Test Statistic:  0.1285603880033852\n",
      "p-value:  0.000999000999000999\n",
      "(200, 2)\n",
      "(200,)\n",
      "Fitted\n"
     ]
    },
    {
     "name": "stderr",
     "output_type": "stream",
     "text": [
      "\n",
      " 16%|████████████▉                                                                    | 16/100 [08:00<42:11, 30.14s/it]\u001b[A"
     ]
    },
    {
     "name": "stdout",
     "output_type": "stream",
     "text": [
      "Test Statistic:  0.12654380287601774\n",
      "p-value:  0.000999000999000999\n",
      "(200, 2)\n",
      "(200,)\n",
      "Fitted\n"
     ]
    },
    {
     "name": "stderr",
     "output_type": "stream",
     "text": [
      "\n",
      " 17%|█████████████▊                                                                   | 17/100 [08:33<42:52, 30.99s/it]\u001b[A"
     ]
    },
    {
     "name": "stdout",
     "output_type": "stream",
     "text": [
      "Test Statistic:  0.28127690302060954\n",
      "p-value:  0.000999000999000999\n",
      "(200, 2)\n",
      "(200,)\n",
      "Fitted\n"
     ]
    },
    {
     "name": "stderr",
     "output_type": "stream",
     "text": [
      "\n",
      " 18%|██████████████▌                                                                  | 18/100 [09:04<42:10, 30.86s/it]\u001b[A"
     ]
    },
    {
     "name": "stdout",
     "output_type": "stream",
     "text": [
      "Test Statistic:  0.20747887813564392\n",
      "p-value:  0.000999000999000999\n",
      "(200, 2)\n",
      "(200,)\n",
      "Fitted\n"
     ]
    },
    {
     "name": "stderr",
     "output_type": "stream",
     "text": [
      "\n",
      " 19%|███████████████▍                                                                 | 19/100 [09:35<41:47, 30.96s/it]\u001b[A"
     ]
    },
    {
     "name": "stdout",
     "output_type": "stream",
     "text": [
      "Test Statistic:  0.13414289422246184\n",
      "p-value:  0.000999000999000999\n",
      "(200, 2)\n",
      "(200,)\n",
      "Fitted\n"
     ]
    },
    {
     "name": "stderr",
     "output_type": "stream",
     "text": [
      "\n",
      " 20%|████████████████▏                                                                | 20/100 [10:05<40:51, 30.65s/it]\u001b[A"
     ]
    },
    {
     "name": "stdout",
     "output_type": "stream",
     "text": [
      "Test Statistic:  0.11356137129518673\n",
      "p-value:  0.000999000999000999\n",
      "(200, 2)\n",
      "(200,)\n",
      "Fitted\n"
     ]
    },
    {
     "name": "stderr",
     "output_type": "stream",
     "text": [
      "\n",
      " 21%|█████████████████                                                                | 21/100 [10:36<40:21, 30.65s/it]\u001b[A"
     ]
    },
    {
     "name": "stdout",
     "output_type": "stream",
     "text": [
      "Test Statistic:  0.17662731243398588\n",
      "p-value:  0.000999000999000999\n",
      "(200, 2)\n",
      "(200,)\n",
      "Fitted\n"
     ]
    },
    {
     "name": "stderr",
     "output_type": "stream",
     "text": [
      "\n",
      " 22%|█████████████████▊                                                               | 22/100 [11:10<41:14, 31.73s/it]\u001b[A"
     ]
    },
    {
     "name": "stdout",
     "output_type": "stream",
     "text": [
      "Test Statistic:  0.17553959514314676\n",
      "p-value:  0.000999000999000999\n",
      "(200, 2)\n",
      "(200,)\n",
      "Fitted\n"
     ]
    },
    {
     "name": "stderr",
     "output_type": "stream",
     "text": [
      "\n",
      " 23%|██████████████████▋                                                              | 23/100 [11:45<41:55, 32.67s/it]\u001b[A"
     ]
    },
    {
     "name": "stdout",
     "output_type": "stream",
     "text": [
      "Test Statistic:  0.20613432669005488\n",
      "p-value:  0.000999000999000999\n",
      "(200, 2)\n",
      "(200,)\n",
      "Fitted\n"
     ]
    },
    {
     "name": "stderr",
     "output_type": "stream",
     "text": [
      "\n",
      " 24%|███████████████████▍                                                             | 24/100 [12:19<41:58, 33.13s/it]\u001b[A"
     ]
    },
    {
     "name": "stdout",
     "output_type": "stream",
     "text": [
      "Test Statistic:  0.1587096429070558\n",
      "p-value:  0.000999000999000999\n",
      "(200, 2)\n",
      "(200,)\n",
      "Fitted\n"
     ]
    },
    {
     "name": "stderr",
     "output_type": "stream",
     "text": [
      "\n",
      " 25%|████████████████████▎                                                            | 25/100 [12:50<40:28, 32.38s/it]\u001b[A"
     ]
    },
    {
     "name": "stdout",
     "output_type": "stream",
     "text": [
      "Test Statistic:  0.16196649677720154\n",
      "p-value:  0.000999000999000999\n",
      "(200, 2)\n",
      "(200,)\n",
      "Fitted\n"
     ]
    },
    {
     "name": "stderr",
     "output_type": "stream",
     "text": [
      "\n",
      " 26%|█████████████████████                                                            | 26/100 [13:20<39:13, 31.81s/it]\u001b[A"
     ]
    },
    {
     "name": "stdout",
     "output_type": "stream",
     "text": [
      "Test Statistic:  0.2456503124561305\n",
      "p-value:  0.000999000999000999\n",
      "(200, 2)\n",
      "(200,)\n",
      "Fitted\n"
     ]
    },
    {
     "name": "stderr",
     "output_type": "stream",
     "text": [
      "\n",
      " 27%|█████████████████████▊                                                           | 27/100 [13:52<38:51, 31.94s/it]\u001b[A"
     ]
    },
    {
     "name": "stdout",
     "output_type": "stream",
     "text": [
      "Test Statistic:  0.12678111754565535\n",
      "p-value:  0.000999000999000999\n",
      "(200, 2)\n",
      "(200,)\n",
      "Fitted\n"
     ]
    },
    {
     "name": "stderr",
     "output_type": "stream",
     "text": [
      "\n",
      " 28%|██████████████████████▋                                                          | 28/100 [14:24<38:20, 31.95s/it]\u001b[A"
     ]
    },
    {
     "name": "stdout",
     "output_type": "stream",
     "text": [
      "Test Statistic:  0.13705186653811818\n",
      "p-value:  0.000999000999000999\n",
      "(200, 2)\n",
      "(200,)\n",
      "Fitted\n"
     ]
    },
    {
     "name": "stderr",
     "output_type": "stream",
     "text": [
      "\n",
      " 29%|███████████████████████▍                                                         | 29/100 [14:54<37:09, 31.41s/it]\u001b[A"
     ]
    },
    {
     "name": "stdout",
     "output_type": "stream",
     "text": [
      "Test Statistic:  0.1508320381631103\n",
      "p-value:  0.000999000999000999\n",
      "(200, 2)\n",
      "(200,)\n",
      "Fitted\n"
     ]
    },
    {
     "name": "stderr",
     "output_type": "stream",
     "text": [
      "\n",
      " 30%|████████████████████████▎                                                        | 30/100 [15:25<36:23, 31.20s/it]\u001b[A"
     ]
    },
    {
     "name": "stdout",
     "output_type": "stream",
     "text": [
      "Test Statistic:  0.12227637466622732\n",
      "p-value:  0.000999000999000999\n",
      "(200, 2)\n",
      "(200,)\n",
      "Fitted\n"
     ]
    },
    {
     "name": "stderr",
     "output_type": "stream",
     "text": [
      "\n",
      " 31%|█████████████████████████                                                        | 31/100 [15:55<35:22, 30.76s/it]\u001b[A"
     ]
    },
    {
     "name": "stdout",
     "output_type": "stream",
     "text": [
      "Test Statistic:  0.21675650924131212\n",
      "p-value:  0.000999000999000999\n",
      "(200, 2)\n",
      "(200,)\n",
      "Fitted\n"
     ]
    },
    {
     "name": "stderr",
     "output_type": "stream",
     "text": [
      "\n",
      " 32%|█████████████████████████▉                                                       | 32/100 [16:25<34:41, 30.62s/it]\u001b[A"
     ]
    },
    {
     "name": "stdout",
     "output_type": "stream",
     "text": [
      "Test Statistic:  0.18944995129722542\n",
      "p-value:  0.000999000999000999\n",
      "(200, 2)\n",
      "(200,)\n",
      "Fitted\n"
     ]
    },
    {
     "name": "stderr",
     "output_type": "stream",
     "text": [
      "\n",
      " 33%|██████████████████████████▋                                                      | 33/100 [16:55<33:45, 30.23s/it]\u001b[A"
     ]
    },
    {
     "name": "stdout",
     "output_type": "stream",
     "text": [
      "Test Statistic:  0.18440507717623067\n",
      "p-value:  0.000999000999000999\n",
      "(200, 2)\n",
      "(200,)\n",
      "Fitted\n"
     ]
    },
    {
     "name": "stderr",
     "output_type": "stream",
     "text": [
      "\n",
      " 34%|███████████████████████████▌                                                     | 34/100 [17:24<32:53, 29.90s/it]\u001b[A"
     ]
    },
    {
     "name": "stdout",
     "output_type": "stream",
     "text": [
      "Test Statistic:  0.18253539719907186\n",
      "p-value:  0.000999000999000999\n",
      "(200, 2)\n",
      "(200,)\n",
      "Fitted\n"
     ]
    },
    {
     "name": "stderr",
     "output_type": "stream",
     "text": [
      "\n",
      " 35%|████████████████████████████▎                                                    | 35/100 [17:54<32:29, 30.00s/it]\u001b[A"
     ]
    },
    {
     "name": "stdout",
     "output_type": "stream",
     "text": [
      "Test Statistic:  0.1573420794846514\n",
      "p-value:  0.000999000999000999\n",
      "(200, 2)\n",
      "(200,)\n",
      "Fitted\n"
     ]
    },
    {
     "name": "stderr",
     "output_type": "stream",
     "text": [
      "\n",
      " 36%|█████████████████████████████▏                                                   | 36/100 [18:24<32:03, 30.05s/it]\u001b[A"
     ]
    },
    {
     "name": "stdout",
     "output_type": "stream",
     "text": [
      "Test Statistic:  0.16321031692722843\n",
      "p-value:  0.000999000999000999\n",
      "(200, 2)\n",
      "(200,)\n",
      "Fitted\n"
     ]
    },
    {
     "name": "stderr",
     "output_type": "stream",
     "text": [
      "\n",
      " 37%|█████████████████████████████▉                                                   | 37/100 [18:53<31:18, 29.82s/it]\u001b[A"
     ]
    },
    {
     "name": "stdout",
     "output_type": "stream",
     "text": [
      "Test Statistic:  0.1418351033957006\n",
      "p-value:  0.000999000999000999\n",
      "(200, 2)\n",
      "(200,)\n",
      "Fitted\n"
     ]
    },
    {
     "name": "stderr",
     "output_type": "stream",
     "text": [
      "\n",
      " 38%|██████████████████████████████▊                                                  | 38/100 [19:23<30:38, 29.65s/it]\u001b[A"
     ]
    },
    {
     "name": "stdout",
     "output_type": "stream",
     "text": [
      "Test Statistic:  0.12616598001625778\n",
      "p-value:  0.000999000999000999\n",
      "(200, 2)\n",
      "(200,)\n",
      "Fitted\n"
     ]
    },
    {
     "name": "stderr",
     "output_type": "stream",
     "text": [
      "\n",
      " 39%|███████████████████████████████▌                                                 | 39/100 [19:53<30:12, 29.72s/it]\u001b[A"
     ]
    },
    {
     "name": "stdout",
     "output_type": "stream",
     "text": [
      "Test Statistic:  0.19973868376554021\n",
      "p-value:  0.000999000999000999\n",
      "(200, 2)\n",
      "(200,)\n",
      "Fitted\n"
     ]
    },
    {
     "name": "stderr",
     "output_type": "stream",
     "text": [
      "\n",
      " 40%|████████████████████████████████▍                                                | 40/100 [20:22<29:40, 29.67s/it]\u001b[A"
     ]
    },
    {
     "name": "stdout",
     "output_type": "stream",
     "text": [
      "Test Statistic:  0.12211334735640478\n",
      "p-value:  0.000999000999000999\n",
      "(200, 2)\n",
      "(200,)\n",
      "Fitted\n"
     ]
    },
    {
     "name": "stderr",
     "output_type": "stream",
     "text": [
      "\n",
      " 41%|█████████████████████████████████▏                                               | 41/100 [20:52<29:21, 29.85s/it]\u001b[A"
     ]
    },
    {
     "name": "stdout",
     "output_type": "stream",
     "text": [
      "Test Statistic:  0.159781716229343\n",
      "p-value:  0.000999000999000999\n",
      "(200, 2)\n",
      "(200,)\n",
      "Fitted\n"
     ]
    },
    {
     "name": "stderr",
     "output_type": "stream",
     "text": [
      "\n",
      " 42%|██████████████████████████████████                                               | 42/100 [21:24<29:30, 30.53s/it]\u001b[A"
     ]
    },
    {
     "name": "stdout",
     "output_type": "stream",
     "text": [
      "Test Statistic:  0.18977368705201458\n",
      "p-value:  0.000999000999000999\n",
      "(200, 2)\n",
      "(200,)\n",
      "Fitted\n"
     ]
    },
    {
     "name": "stderr",
     "output_type": "stream",
     "text": [
      "\n",
      " 43%|██████████████████████████████████▊                                              | 43/100 [21:53<28:32, 30.04s/it]\u001b[A"
     ]
    },
    {
     "name": "stdout",
     "output_type": "stream",
     "text": [
      "Test Statistic:  0.17293804637504007\n",
      "p-value:  0.000999000999000999\n",
      "(200, 2)\n",
      "(200,)\n",
      "Fitted\n"
     ]
    },
    {
     "name": "stderr",
     "output_type": "stream",
     "text": [
      "\n",
      " 44%|███████████████████████████████████▋                                             | 44/100 [22:23<27:59, 29.99s/it]\u001b[A"
     ]
    },
    {
     "name": "stdout",
     "output_type": "stream",
     "text": [
      "Test Statistic:  0.1484235775331113\n",
      "p-value:  0.000999000999000999\n",
      "(200, 2)\n",
      "(200,)\n",
      "Fitted\n"
     ]
    },
    {
     "name": "stderr",
     "output_type": "stream",
     "text": [
      "\n",
      " 45%|████████████████████████████████████▍                                            | 45/100 [22:57<28:33, 31.15s/it]\u001b[A"
     ]
    },
    {
     "name": "stdout",
     "output_type": "stream",
     "text": [
      "Test Statistic:  0.15338700335945876\n",
      "p-value:  0.000999000999000999\n",
      "(200, 2)\n",
      "(200,)\n",
      "Fitted\n"
     ]
    },
    {
     "name": "stderr",
     "output_type": "stream",
     "text": [
      "\n",
      " 46%|█████████████████████████████████████▎                                           | 46/100 [23:40<31:08, 34.61s/it]\u001b[A"
     ]
    },
    {
     "name": "stdout",
     "output_type": "stream",
     "text": [
      "Test Statistic:  0.1575228317507935\n",
      "p-value:  0.000999000999000999\n",
      "(200, 2)\n",
      "(200,)\n",
      "Fitted\n"
     ]
    },
    {
     "name": "stderr",
     "output_type": "stream",
     "text": [
      "\n",
      " 47%|██████████████████████████████████████                                           | 47/100 [24:12<29:57, 33.92s/it]\u001b[A"
     ]
    },
    {
     "name": "stdout",
     "output_type": "stream",
     "text": [
      "Test Statistic:  0.1926762617241674\n",
      "p-value:  0.000999000999000999\n",
      "(200, 2)\n",
      "(200,)\n",
      "Fitted\n"
     ]
    },
    {
     "name": "stderr",
     "output_type": "stream",
     "text": [
      "\n",
      " 48%|██████████████████████████████████████▉                                          | 48/100 [24:41<28:05, 32.41s/it]\u001b[A"
     ]
    },
    {
     "name": "stdout",
     "output_type": "stream",
     "text": [
      "Test Statistic:  0.17725866370091148\n",
      "p-value:  0.000999000999000999\n",
      "(200, 2)\n",
      "(200,)\n",
      "Fitted\n"
     ]
    },
    {
     "name": "stderr",
     "output_type": "stream",
     "text": [
      "\n",
      " 49%|███████████████████████████████████████▋                                         | 49/100 [25:15<27:51, 32.77s/it]\u001b[A"
     ]
    },
    {
     "name": "stdout",
     "output_type": "stream",
     "text": [
      "Test Statistic:  0.1684176890523441\n",
      "p-value:  0.000999000999000999\n",
      "(200, 2)\n",
      "(200,)\n",
      "Fitted\n"
     ]
    },
    {
     "name": "stderr",
     "output_type": "stream",
     "text": [
      "\n",
      " 50%|████████████████████████████████████████▌                                        | 50/100 [25:46<26:56, 32.32s/it]\u001b[A"
     ]
    },
    {
     "name": "stdout",
     "output_type": "stream",
     "text": [
      "Test Statistic:  0.16903685310330652\n",
      "p-value:  0.000999000999000999\n",
      "(200, 2)\n",
      "(200,)\n",
      "Fitted\n"
     ]
    },
    {
     "name": "stderr",
     "output_type": "stream",
     "text": [
      "\n",
      " 51%|█████████████████████████████████████████▎                                       | 51/100 [26:19<26:32, 32.49s/it]\u001b[A"
     ]
    },
    {
     "name": "stdout",
     "output_type": "stream",
     "text": [
      "Test Statistic:  0.15801810240721736\n",
      "p-value:  0.000999000999000999\n",
      "(200, 2)\n",
      "(200,)\n",
      "Fitted\n"
     ]
    },
    {
     "name": "stderr",
     "output_type": "stream",
     "text": [
      "\n",
      " 52%|██████████████████████████████████████████                                       | 52/100 [26:51<25:56, 32.42s/it]\u001b[A"
     ]
    },
    {
     "name": "stdout",
     "output_type": "stream",
     "text": [
      "Test Statistic:  0.13980639521017346\n",
      "p-value:  0.000999000999000999\n",
      "(200, 2)\n",
      "(200,)\n",
      "Fitted\n"
     ]
    },
    {
     "name": "stderr",
     "output_type": "stream",
     "text": [
      "\n",
      " 53%|██████████████████████████████████████████▉                                      | 53/100 [27:26<25:55, 33.09s/it]\u001b[A"
     ]
    },
    {
     "name": "stdout",
     "output_type": "stream",
     "text": [
      "Test Statistic:  0.20780845444644402\n",
      "p-value:  0.000999000999000999\n",
      "(200, 2)\n",
      "(200,)\n",
      "Fitted\n"
     ]
    },
    {
     "name": "stderr",
     "output_type": "stream",
     "text": [
      "\n",
      " 54%|███████████████████████████████████████████▋                                     | 54/100 [28:00<25:46, 33.61s/it]\u001b[A"
     ]
    },
    {
     "name": "stdout",
     "output_type": "stream",
     "text": [
      "Test Statistic:  0.17706521314217105\n",
      "p-value:  0.000999000999000999\n",
      "(200, 2)\n",
      "(200,)\n",
      "Fitted\n"
     ]
    },
    {
     "name": "stderr",
     "output_type": "stream",
     "text": [
      "\n",
      " 55%|████████████████████████████████████████████▌                                    | 55/100 [28:36<25:34, 34.11s/it]\u001b[A"
     ]
    },
    {
     "name": "stdout",
     "output_type": "stream",
     "text": [
      "Test Statistic:  0.1961128581822883\n",
      "p-value:  0.000999000999000999\n",
      "(200, 2)\n",
      "(200,)\n",
      "Fitted\n"
     ]
    },
    {
     "name": "stderr",
     "output_type": "stream",
     "text": [
      "\n",
      " 56%|█████████████████████████████████████████████▎                                   | 56/100 [29:07<24:27, 33.36s/it]\u001b[A"
     ]
    },
    {
     "name": "stdout",
     "output_type": "stream",
     "text": [
      "Test Statistic:  0.21183239408511\n",
      "p-value:  0.000999000999000999\n",
      "(200, 2)\n",
      "(200,)\n",
      "Fitted\n"
     ]
    },
    {
     "name": "stderr",
     "output_type": "stream",
     "text": [
      "\n",
      " 57%|██████████████████████████████████████████████▏                                  | 57/100 [29:38<23:23, 32.65s/it]\u001b[A"
     ]
    },
    {
     "name": "stdout",
     "output_type": "stream",
     "text": [
      "Test Statistic:  0.11477285583804808\n",
      "p-value:  0.000999000999000999\n",
      "(200, 2)\n",
      "(200,)\n",
      "Fitted\n"
     ]
    },
    {
     "name": "stderr",
     "output_type": "stream",
     "text": [
      "\n",
      " 58%|██████████████████████████████████████████████▉                                  | 58/100 [30:12<23:03, 32.94s/it]\u001b[A"
     ]
    },
    {
     "name": "stdout",
     "output_type": "stream",
     "text": [
      "Test Statistic:  0.1358611673074529\n",
      "p-value:  0.000999000999000999\n",
      "(200, 2)\n",
      "(200,)\n",
      "Fitted\n"
     ]
    },
    {
     "name": "stderr",
     "output_type": "stream",
     "text": [
      "\n",
      " 59%|███████████████████████████████████████████████▊                                 | 59/100 [30:42<21:53, 32.03s/it]\u001b[A"
     ]
    },
    {
     "name": "stdout",
     "output_type": "stream",
     "text": [
      "Test Statistic:  0.08700309319620747\n",
      "p-value:  0.000999000999000999\n",
      "(200, 2)\n",
      "(200,)\n",
      "Fitted\n"
     ]
    },
    {
     "name": "stderr",
     "output_type": "stream",
     "text": [
      "\n",
      " 60%|████████████████████████████████████████████████▌                                | 60/100 [31:13<21:15, 31.89s/it]\u001b[A"
     ]
    },
    {
     "name": "stdout",
     "output_type": "stream",
     "text": [
      "Test Statistic:  0.18120509455358158\n",
      "p-value:  0.000999000999000999\n",
      "(200, 2)\n",
      "(200,)\n",
      "Fitted\n"
     ]
    },
    {
     "name": "stderr",
     "output_type": "stream",
     "text": [
      "\n",
      " 61%|█████████████████████████████████████████████████▍                               | 61/100 [31:44<20:23, 31.38s/it]\u001b[A"
     ]
    },
    {
     "name": "stdout",
     "output_type": "stream",
     "text": [
      "Test Statistic:  0.20896944165561504\n",
      "p-value:  0.000999000999000999\n",
      "(200, 2)\n",
      "(200,)\n",
      "Fitted\n"
     ]
    },
    {
     "name": "stderr",
     "output_type": "stream",
     "text": [
      "\n",
      " 62%|██████████████████████████████████████████████████▏                              | 62/100 [32:15<19:50, 31.32s/it]\u001b[A"
     ]
    },
    {
     "name": "stdout",
     "output_type": "stream",
     "text": [
      "Test Statistic:  0.19612621253564477\n",
      "p-value:  0.000999000999000999\n",
      "(200, 2)\n",
      "(200,)\n",
      "Fitted\n"
     ]
    },
    {
     "name": "stderr",
     "output_type": "stream",
     "text": [
      "\n",
      " 63%|███████████████████████████████████████████████████                              | 63/100 [32:46<19:18, 31.32s/it]\u001b[A"
     ]
    },
    {
     "name": "stdout",
     "output_type": "stream",
     "text": [
      "Test Statistic:  0.16408634642130304\n",
      "p-value:  0.000999000999000999\n",
      "(200, 2)\n",
      "(200,)\n",
      "Fitted\n"
     ]
    },
    {
     "name": "stderr",
     "output_type": "stream",
     "text": [
      "\n",
      " 64%|███████████████████████████████████████████████████▊                             | 64/100 [33:18<18:57, 31.59s/it]\u001b[A"
     ]
    },
    {
     "name": "stdout",
     "output_type": "stream",
     "text": [
      "Test Statistic:  0.10197450947288655\n",
      "p-value:  0.000999000999000999\n",
      "(200, 2)\n",
      "(200,)\n",
      "Fitted\n"
     ]
    },
    {
     "name": "stderr",
     "output_type": "stream",
     "text": [
      "\n",
      " 65%|████████████████████████████████████████████████████▋                            | 65/100 [33:54<19:07, 32.78s/it]\u001b[A"
     ]
    },
    {
     "name": "stdout",
     "output_type": "stream",
     "text": [
      "Test Statistic:  0.10710494252205105\n",
      "p-value:  0.000999000999000999\n",
      "(200, 2)\n",
      "(200,)\n",
      "Fitted\n"
     ]
    },
    {
     "name": "stderr",
     "output_type": "stream",
     "text": [
      "\n",
      " 66%|█████████████████████████████████████████████████████▍                           | 66/100 [34:26<18:26, 32.53s/it]\u001b[A"
     ]
    },
    {
     "name": "stdout",
     "output_type": "stream",
     "text": [
      "Test Statistic:  0.11914974442077586\n",
      "p-value:  0.000999000999000999\n",
      "(200, 2)\n",
      "(200,)\n",
      "Fitted\n"
     ]
    },
    {
     "name": "stderr",
     "output_type": "stream",
     "text": [
      "\n",
      " 67%|██████████████████████████████████████████████████████▎                          | 67/100 [34:58<17:48, 32.37s/it]\u001b[A"
     ]
    },
    {
     "name": "stdout",
     "output_type": "stream",
     "text": [
      "Test Statistic:  0.16602559460221122\n",
      "p-value:  0.000999000999000999\n",
      "(200, 2)\n",
      "(200,)\n",
      "Fitted\n"
     ]
    },
    {
     "name": "stderr",
     "output_type": "stream",
     "text": [
      "\n",
      " 68%|███████████████████████████████████████████████████████                          | 68/100 [35:30<17:09, 32.18s/it]\u001b[A"
     ]
    },
    {
     "name": "stdout",
     "output_type": "stream",
     "text": [
      "Test Statistic:  0.1657359203926817\n",
      "p-value:  0.000999000999000999\n",
      "(200, 2)\n",
      "(200,)\n",
      "Fitted\n"
     ]
    },
    {
     "name": "stderr",
     "output_type": "stream",
     "text": [
      "\n",
      " 69%|███████████████████████████████████████████████████████▉                         | 69/100 [36:01<16:32, 32.03s/it]\u001b[A"
     ]
    },
    {
     "name": "stdout",
     "output_type": "stream",
     "text": [
      "Test Statistic:  0.1451537753721761\n",
      "p-value:  0.000999000999000999\n",
      "(200, 2)\n",
      "(200,)\n",
      "Fitted\n"
     ]
    },
    {
     "name": "stderr",
     "output_type": "stream",
     "text": [
      "\n",
      " 70%|████████████████████████████████████████████████████████▋                        | 70/100 [36:32<15:52, 31.75s/it]\u001b[A"
     ]
    },
    {
     "name": "stdout",
     "output_type": "stream",
     "text": [
      "Test Statistic:  0.14522805226205648\n",
      "p-value:  0.000999000999000999\n",
      "(200, 2)\n",
      "(200,)\n",
      "Fitted\n"
     ]
    },
    {
     "name": "stderr",
     "output_type": "stream",
     "text": [
      "\n",
      " 71%|█████████████████████████████████████████████████████████▌                       | 71/100 [37:05<15:24, 31.88s/it]\u001b[A"
     ]
    },
    {
     "name": "stdout",
     "output_type": "stream",
     "text": [
      "Test Statistic:  0.13525154356778057\n",
      "p-value:  0.000999000999000999\n",
      "(200, 2)\n",
      "(200,)\n",
      "Fitted\n"
     ]
    },
    {
     "name": "stderr",
     "output_type": "stream",
     "text": [
      "\n",
      " 72%|██████████████████████████████████████████████████████████▎                      | 72/100 [37:36<14:47, 31.70s/it]\u001b[A"
     ]
    },
    {
     "name": "stdout",
     "output_type": "stream",
     "text": [
      "Test Statistic:  0.12610273351757562\n",
      "p-value:  0.000999000999000999\n",
      "(200, 2)\n",
      "(200,)\n",
      "Fitted\n"
     ]
    },
    {
     "name": "stderr",
     "output_type": "stream",
     "text": [
      "\n",
      " 73%|███████████████████████████████████████████████████████████▏                     | 73/100 [38:08<14:20, 31.87s/it]\u001b[A"
     ]
    },
    {
     "name": "stdout",
     "output_type": "stream",
     "text": [
      "Test Statistic:  0.15336401914600484\n",
      "p-value:  0.000999000999000999\n",
      "(200, 2)\n",
      "(200,)\n",
      "Fitted\n"
     ]
    },
    {
     "name": "stderr",
     "output_type": "stream",
     "text": [
      "\n",
      " 74%|███████████████████████████████████████████████████████████▉                     | 74/100 [38:39<13:40, 31.55s/it]\u001b[A"
     ]
    },
    {
     "name": "stdout",
     "output_type": "stream",
     "text": [
      "Test Statistic:  0.2060585349621885\n",
      "p-value:  0.000999000999000999\n",
      "(200, 2)\n",
      "(200,)\n",
      "Fitted\n"
     ]
    },
    {
     "name": "stderr",
     "output_type": "stream",
     "text": [
      "\n",
      " 75%|████████████████████████████████████████████████████████████▊                    | 75/100 [39:10<13:06, 31.47s/it]\u001b[A"
     ]
    },
    {
     "name": "stdout",
     "output_type": "stream",
     "text": [
      "Test Statistic:  0.17818065583314868\n",
      "p-value:  0.000999000999000999\n",
      "(200, 2)\n",
      "(200,)\n",
      "Fitted\n"
     ]
    },
    {
     "name": "stderr",
     "output_type": "stream",
     "text": [
      "\n",
      " 76%|█████████████████████████████████████████████████████████████▌                   | 76/100 [39:41<12:32, 31.37s/it]\u001b[A"
     ]
    },
    {
     "name": "stdout",
     "output_type": "stream",
     "text": [
      "Test Statistic:  0.1008183773445901\n",
      "p-value:  0.000999000999000999\n",
      "(200, 2)\n",
      "(200,)\n",
      "Fitted\n"
     ]
    },
    {
     "name": "stderr",
     "output_type": "stream",
     "text": [
      "\n",
      " 77%|██████████████████████████████████████████████████████████████▎                  | 77/100 [40:13<12:01, 31.38s/it]\u001b[A"
     ]
    },
    {
     "name": "stdout",
     "output_type": "stream",
     "text": [
      "Test Statistic:  0.17140074406125327\n",
      "p-value:  0.000999000999000999\n",
      "(200, 2)\n",
      "(200,)\n",
      "Fitted\n"
     ]
    },
    {
     "name": "stderr",
     "output_type": "stream",
     "text": [
      "\n",
      " 78%|███████████████████████████████████████████████████████████████▏                 | 78/100 [40:44<11:30, 31.40s/it]\u001b[A"
     ]
    },
    {
     "name": "stdout",
     "output_type": "stream",
     "text": [
      "Test Statistic:  0.19264980882202076\n",
      "p-value:  0.000999000999000999\n",
      "(200, 2)\n",
      "(200,)\n",
      "Fitted\n"
     ]
    },
    {
     "name": "stderr",
     "output_type": "stream",
     "text": [
      "\n",
      " 79%|███████████████████████████████████████████████████████████████▉                 | 79/100 [41:15<10:58, 31.35s/it]\u001b[A"
     ]
    },
    {
     "name": "stdout",
     "output_type": "stream",
     "text": [
      "Test Statistic:  0.1333538151435114\n",
      "p-value:  0.000999000999000999\n",
      "(200, 2)\n",
      "(200,)\n",
      "Fitted\n"
     ]
    },
    {
     "name": "stderr",
     "output_type": "stream",
     "text": [
      "\n",
      " 80%|████████████████████████████████████████████████████████████████▊                | 80/100 [41:46<10:22, 31.13s/it]\u001b[A"
     ]
    },
    {
     "name": "stdout",
     "output_type": "stream",
     "text": [
      "Test Statistic:  0.21261835017627811\n",
      "p-value:  0.000999000999000999\n",
      "(200, 2)\n",
      "(200,)\n",
      "Fitted\n"
     ]
    },
    {
     "name": "stderr",
     "output_type": "stream",
     "text": [
      "\n",
      " 81%|█████████████████████████████████████████████████████████████████▌               | 81/100 [42:18<09:55, 31.36s/it]\u001b[A"
     ]
    },
    {
     "name": "stdout",
     "output_type": "stream",
     "text": [
      "Test Statistic:  0.1357488654157326\n",
      "p-value:  0.000999000999000999\n",
      "(200, 2)\n",
      "(200,)\n",
      "Fitted\n"
     ]
    },
    {
     "name": "stderr",
     "output_type": "stream",
     "text": [
      "\n",
      " 82%|██████████████████████████████████████████████████████████████████▍              | 82/100 [42:49<09:22, 31.23s/it]\u001b[A"
     ]
    },
    {
     "name": "stdout",
     "output_type": "stream",
     "text": [
      "Test Statistic:  0.13846041507325402\n",
      "p-value:  0.000999000999000999\n",
      "(200, 2)\n",
      "(200,)\n",
      "Fitted\n"
     ]
    },
    {
     "name": "stderr",
     "output_type": "stream",
     "text": [
      "\n",
      " 83%|███████████████████████████████████████████████████████████████████▏             | 83/100 [43:21<08:57, 31.62s/it]\u001b[A"
     ]
    },
    {
     "name": "stdout",
     "output_type": "stream",
     "text": [
      "Test Statistic:  0.14949773971269997\n",
      "p-value:  0.000999000999000999\n",
      "(200, 2)\n",
      "(200,)\n",
      "Fitted\n"
     ]
    },
    {
     "name": "stderr",
     "output_type": "stream",
     "text": [
      "\n",
      " 84%|████████████████████████████████████████████████████████████████████             | 84/100 [43:55<08:34, 32.15s/it]\u001b[A"
     ]
    },
    {
     "name": "stdout",
     "output_type": "stream",
     "text": [
      "Test Statistic:  0.1348670112324878\n",
      "p-value:  0.000999000999000999\n",
      "(200, 2)\n",
      "(200,)\n",
      "Fitted\n"
     ]
    },
    {
     "name": "stderr",
     "output_type": "stream",
     "text": [
      "\n",
      " 85%|████████████████████████████████████████████████████████████████████▊            | 85/100 [44:25<07:55, 31.69s/it]\u001b[A"
     ]
    },
    {
     "name": "stdout",
     "output_type": "stream",
     "text": [
      "Test Statistic:  0.23609015458297034\n",
      "p-value:  0.000999000999000999\n",
      "(200, 2)\n",
      "(200,)\n",
      "Fitted\n"
     ]
    },
    {
     "name": "stderr",
     "output_type": "stream",
     "text": [
      "\n",
      " 86%|█████████████████████████████████████████████████████████████████████▋           | 86/100 [44:57<07:22, 31.60s/it]\u001b[A"
     ]
    },
    {
     "name": "stdout",
     "output_type": "stream",
     "text": [
      "Test Statistic:  0.14933289563513086\n",
      "p-value:  0.000999000999000999\n",
      "(200, 2)\n",
      "(200,)\n",
      "Fitted\n"
     ]
    },
    {
     "name": "stderr",
     "output_type": "stream",
     "text": [
      "\n",
      " 87%|██████████████████████████████████████████████████████████████████████▍          | 87/100 [45:29<06:51, 31.64s/it]\u001b[A"
     ]
    },
    {
     "name": "stdout",
     "output_type": "stream",
     "text": [
      "Test Statistic:  0.1343900396185469\n",
      "p-value:  0.000999000999000999\n",
      "(200, 2)\n",
      "(200,)\n",
      "Fitted\n"
     ]
    },
    {
     "name": "stderr",
     "output_type": "stream",
     "text": [
      "\n",
      " 88%|███████████████████████████████████████████████████████████████████████▎         | 88/100 [45:59<06:17, 31.45s/it]\u001b[A"
     ]
    },
    {
     "name": "stdout",
     "output_type": "stream",
     "text": [
      "Test Statistic:  0.14353034397588949\n",
      "p-value:  0.000999000999000999\n",
      "(200, 2)\n",
      "(200,)\n",
      "Fitted\n"
     ]
    },
    {
     "name": "stderr",
     "output_type": "stream",
     "text": [
      "\n",
      " 89%|████████████████████████████████████████████████████████████████████████         | 89/100 [46:31<05:47, 31.56s/it]\u001b[A"
     ]
    },
    {
     "name": "stdout",
     "output_type": "stream",
     "text": [
      "Test Statistic:  0.19254662335900452\n",
      "p-value:  0.000999000999000999\n",
      "(200, 2)\n",
      "(200,)\n",
      "Fitted\n"
     ]
    },
    {
     "name": "stderr",
     "output_type": "stream",
     "text": [
      "\n",
      " 90%|████████████████████████████████████████████████████████████████████████▉        | 90/100 [47:02<05:13, 31.30s/it]\u001b[A"
     ]
    },
    {
     "name": "stdout",
     "output_type": "stream",
     "text": [
      "Test Statistic:  0.11609761856455814\n",
      "p-value:  0.000999000999000999\n",
      "(200, 2)\n",
      "(200,)\n",
      "Fitted\n"
     ]
    },
    {
     "name": "stderr",
     "output_type": "stream",
     "text": [
      "\n",
      " 91%|█████████████████████████████████████████████████████████████████████████▋       | 91/100 [47:33<04:41, 31.33s/it]\u001b[A"
     ]
    },
    {
     "name": "stdout",
     "output_type": "stream",
     "text": [
      "Test Statistic:  0.1670896819449903\n",
      "p-value:  0.000999000999000999\n",
      "(200, 2)\n",
      "(200,)\n",
      "Fitted\n"
     ]
    },
    {
     "name": "stderr",
     "output_type": "stream",
     "text": [
      "\n",
      " 92%|██████████████████████████████████████████████████████████████████████████▌      | 92/100 [48:05<04:11, 31.38s/it]\u001b[A"
     ]
    },
    {
     "name": "stdout",
     "output_type": "stream",
     "text": [
      "Test Statistic:  0.19115653810951316\n",
      "p-value:  0.000999000999000999\n",
      "(200, 2)\n",
      "(200,)\n",
      "Fitted\n"
     ]
    },
    {
     "name": "stderr",
     "output_type": "stream",
     "text": [
      "\n",
      " 93%|███████████████████████████████████████████████████████████████████████████▎     | 93/100 [48:36<03:39, 31.40s/it]\u001b[A"
     ]
    },
    {
     "name": "stdout",
     "output_type": "stream",
     "text": [
      "Test Statistic:  0.15057580533306025\n",
      "p-value:  0.000999000999000999\n",
      "(200, 2)\n",
      "(200,)\n",
      "Fitted\n"
     ]
    },
    {
     "name": "stderr",
     "output_type": "stream",
     "text": [
      "\n",
      " 94%|████████████████████████████████████████████████████████████████████████████▏    | 94/100 [49:08<03:09, 31.51s/it]\u001b[A"
     ]
    },
    {
     "name": "stdout",
     "output_type": "stream",
     "text": [
      "Test Statistic:  0.18428058884071685\n",
      "p-value:  0.000999000999000999\n",
      "(200, 2)\n",
      "(200,)\n",
      "Fitted\n"
     ]
    },
    {
     "name": "stderr",
     "output_type": "stream",
     "text": [
      "\n",
      " 95%|████████████████████████████████████████████████████████████████████████████▉    | 95/100 [49:40<02:37, 31.51s/it]\u001b[A"
     ]
    },
    {
     "name": "stdout",
     "output_type": "stream",
     "text": [
      "Test Statistic:  0.20570585248279571\n",
      "p-value:  0.000999000999000999\n",
      "(200, 2)\n",
      "(200,)\n",
      "Fitted\n"
     ]
    },
    {
     "name": "stderr",
     "output_type": "stream",
     "text": [
      "\n",
      " 96%|█████████████████████████████████████████████████████████████████████████████▊   | 96/100 [50:12<02:06, 31.65s/it]\u001b[A"
     ]
    },
    {
     "name": "stdout",
     "output_type": "stream",
     "text": [
      "Test Statistic:  0.1347646654266248\n",
      "p-value:  0.000999000999000999\n",
      "(200, 2)\n",
      "(200,)\n",
      "Fitted\n"
     ]
    },
    {
     "name": "stderr",
     "output_type": "stream",
     "text": [
      "\n",
      " 97%|██████████████████████████████████████████████████████████████████████████████▌  | 97/100 [50:43<01:34, 31.52s/it]\u001b[A"
     ]
    },
    {
     "name": "stdout",
     "output_type": "stream",
     "text": [
      "Test Statistic:  0.1805938717848833\n",
      "p-value:  0.000999000999000999\n",
      "(200, 2)\n",
      "(200,)\n",
      "Fitted\n"
     ]
    },
    {
     "name": "stderr",
     "output_type": "stream",
     "text": [
      "\n",
      " 98%|███████████████████████████████████████████████████████████████████████████████▍ | 98/100 [51:14<01:02, 31.36s/it]\u001b[A"
     ]
    },
    {
     "name": "stdout",
     "output_type": "stream",
     "text": [
      "Test Statistic:  0.09251673678203032\n",
      "p-value:  0.000999000999000999\n",
      "(200, 2)\n",
      "(200,)\n",
      "Fitted\n"
     ]
    },
    {
     "name": "stderr",
     "output_type": "stream",
     "text": [
      "\n",
      " 99%|████████████████████████████████████████████████████████████████████████████████▏| 99/100 [51:45<00:31, 31.33s/it]\u001b[A"
     ]
    },
    {
     "name": "stdout",
     "output_type": "stream",
     "text": [
      "Test Statistic:  0.22107201156928985\n",
      "p-value:  0.000999000999000999\n",
      "(200, 2)\n",
      "(200,)\n",
      "Fitted\n"
     ]
    },
    {
     "name": "stderr",
     "output_type": "stream",
     "text": [
      "\n",
      "100%|████████████████████████████████████████████████████████████████████████████████| 100/100 [52:16<00:00, 31.36s/it]\u001b[A\n",
      "  5%|███▉                                                                          | 1/20 [52:16<16:33:13, 3136.50s/it]\n",
      "  0%|                                                                                          | 0/100 [00:00<?, ?it/s]\u001b[A"
     ]
    },
    {
     "name": "stdout",
     "output_type": "stream",
     "text": [
      "Test Statistic:  0.15969065573084107\n",
      "p-value:  0.000999000999000999\n",
      "dimension 2\n",
      "circle\n",
      "(200, 4)\n",
      "(200,)\n",
      "Fitted\n"
     ]
    },
    {
     "name": "stderr",
     "output_type": "stream",
     "text": [
      "\n",
      "  1%|▊                                                                                 | 1/100 [00:32<53:15, 32.27s/it]\u001b[A"
     ]
    },
    {
     "name": "stdout",
     "output_type": "stream",
     "text": [
      "Test Statistic:  0.015849059948994104\n",
      "p-value:  0.8481518481518482\n",
      "(200, 4)\n",
      "(200,)\n",
      "Fitted\n"
     ]
    },
    {
     "name": "stderr",
     "output_type": "stream",
     "text": [
      "\n",
      "  2%|█▋                                                                                | 2/100 [01:05<53:17, 32.63s/it]\u001b[A"
     ]
    },
    {
     "name": "stdout",
     "output_type": "stream",
     "text": [
      "Test Statistic:  0.012360681860905776\n",
      "p-value:  0.99000999000999\n",
      "(200, 4)\n",
      "(200,)\n",
      "Fitted\n"
     ]
    },
    {
     "name": "stderr",
     "output_type": "stream",
     "text": [
      "\n",
      "  3%|██▍                                                                               | 3/100 [01:44<55:48, 34.52s/it]\u001b[A"
     ]
    },
    {
     "name": "stdout",
     "output_type": "stream",
     "text": [
      "Test Statistic:  0.02218640846895137\n",
      "p-value:  0.3596403596403596\n",
      "(200, 4)\n",
      "(200,)\n",
      "Fitted\n"
     ]
    },
    {
     "name": "stderr",
     "output_type": "stream",
     "text": [
      "\n",
      "  4%|███▎                                                                              | 4/100 [02:15<53:35, 33.49s/it]\u001b[A"
     ]
    },
    {
     "name": "stdout",
     "output_type": "stream",
     "text": [
      "Test Statistic:  0.009932106582066225\n",
      "p-value:  1.0\n",
      "(200, 4)\n",
      "(200,)\n",
      "Fitted\n"
     ]
    },
    {
     "name": "stderr",
     "output_type": "stream",
     "text": [
      "\n",
      "  5%|████                                                                              | 5/100 [02:46<51:55, 32.80s/it]\u001b[A"
     ]
    },
    {
     "name": "stdout",
     "output_type": "stream",
     "text": [
      "Test Statistic:  0.017095042017897688\n",
      "p-value:  0.7082917082917083\n",
      "(200, 4)\n",
      "(200,)\n",
      "Fitted\n"
     ]
    },
    {
     "name": "stderr",
     "output_type": "stream",
     "text": [
      "\n",
      "  6%|████▉                                                                             | 6/100 [03:18<50:47, 32.42s/it]\u001b[A"
     ]
    },
    {
     "name": "stdout",
     "output_type": "stream",
     "text": [
      "Test Statistic:  0.012978693744850167\n",
      "p-value:  0.9820179820179821\n",
      "(200, 4)\n",
      "(200,)\n",
      "Fitted\n"
     ]
    },
    {
     "name": "stderr",
     "output_type": "stream",
     "text": [
      "\n",
      "  7%|█████▋                                                                            | 7/100 [03:49<49:29, 31.93s/it]\u001b[A"
     ]
    },
    {
     "name": "stdout",
     "output_type": "stream",
     "text": [
      "Test Statistic:  0.0153526643934766\n",
      "p-value:  0.9170829170829171\n",
      "(200, 4)\n",
      "(200,)\n",
      "Fitted\n"
     ]
    },
    {
     "name": "stderr",
     "output_type": "stream",
     "text": [
      "\n",
      "  8%|██████▌                                                                           | 8/100 [04:20<48:42, 31.77s/it]\u001b[A"
     ]
    },
    {
     "name": "stdout",
     "output_type": "stream",
     "text": [
      "Test Statistic:  0.019031174909780568\n",
      "p-value:  0.42957042957042957\n",
      "(200, 4)\n",
      "(200,)\n",
      "Fitted\n"
     ]
    },
    {
     "name": "stderr",
     "output_type": "stream",
     "text": [
      "\n",
      "  9%|███████▍                                                                          | 9/100 [04:51<47:49, 31.54s/it]\u001b[A"
     ]
    },
    {
     "name": "stdout",
     "output_type": "stream",
     "text": [
      "Test Statistic:  0.030992646937838098\n",
      "p-value:  0.024975024975024976\n",
      "(200, 4)\n",
      "(200,)\n",
      "Fitted\n"
     ]
    },
    {
     "name": "stderr",
     "output_type": "stream",
     "text": [
      "\n",
      " 10%|████████                                                                         | 10/100 [05:23<47:16, 31.52s/it]\u001b[A"
     ]
    },
    {
     "name": "stdout",
     "output_type": "stream",
     "text": [
      "Test Statistic:  0.01598138562972351\n",
      "p-value:  0.7952047952047953\n",
      "(200, 4)\n",
      "(200,)\n",
      "Fitted\n"
     ]
    },
    {
     "name": "stderr",
     "output_type": "stream",
     "text": [
      "\n",
      " 11%|████████▉                                                                        | 11/100 [05:53<46:15, 31.19s/it]\u001b[A"
     ]
    },
    {
     "name": "stdout",
     "output_type": "stream",
     "text": [
      "Test Statistic:  0.0295789241786506\n",
      "p-value:  0.03296703296703297\n",
      "(200, 4)\n",
      "(200,)\n",
      "Fitted\n"
     ]
    },
    {
     "name": "stderr",
     "output_type": "stream",
     "text": [
      "\n",
      " 12%|█████████▋                                                                       | 12/100 [06:25<45:56, 31.33s/it]\u001b[A"
     ]
    },
    {
     "name": "stdout",
     "output_type": "stream",
     "text": [
      "Test Statistic:  0.010974672478470282\n",
      "p-value:  0.996003996003996\n",
      "(200, 4)\n",
      "(200,)\n",
      "Fitted\n"
     ]
    },
    {
     "name": "stderr",
     "output_type": "stream",
     "text": [
      "\n",
      " 13%|██████████▌                                                                      | 13/100 [06:56<45:27, 31.35s/it]\u001b[A"
     ]
    },
    {
     "name": "stdout",
     "output_type": "stream",
     "text": [
      "Test Statistic:  0.007390012309887006\n",
      "p-value:  1.0\n",
      "(200, 4)\n",
      "(200,)\n",
      "Fitted\n"
     ]
    },
    {
     "name": "stderr",
     "output_type": "stream",
     "text": [
      "\n",
      " 14%|███████████▎                                                                     | 14/100 [07:26<44:19, 30.92s/it]\u001b[A"
     ]
    },
    {
     "name": "stdout",
     "output_type": "stream",
     "text": [
      "Test Statistic:  0.010829551504768609\n",
      "p-value:  0.999000999000999\n",
      "(200, 4)\n",
      "(200,)\n",
      "Fitted\n"
     ]
    },
    {
     "name": "stderr",
     "output_type": "stream",
     "text": [
      "\n",
      " 15%|████████████▏                                                                    | 15/100 [07:57<43:48, 30.92s/it]\u001b[A"
     ]
    },
    {
     "name": "stdout",
     "output_type": "stream",
     "text": [
      "Test Statistic:  0.012005977414847435\n",
      "p-value:  0.991008991008991\n",
      "(200, 4)\n",
      "(200,)\n",
      "Fitted\n"
     ]
    },
    {
     "name": "stderr",
     "output_type": "stream",
     "text": [
      "\n",
      " 16%|████████████▉                                                                    | 16/100 [08:29<43:40, 31.20s/it]\u001b[A"
     ]
    },
    {
     "name": "stdout",
     "output_type": "stream",
     "text": [
      "Test Statistic:  0.018994174609769487\n",
      "p-value:  0.6203796203796204\n",
      "(200, 4)\n",
      "(200,)\n",
      "Fitted\n"
     ]
    },
    {
     "name": "stderr",
     "output_type": "stream",
     "text": [
      "\n",
      " 17%|█████████████▊                                                                   | 17/100 [09:01<43:35, 31.51s/it]\u001b[A"
     ]
    },
    {
     "name": "stdout",
     "output_type": "stream",
     "text": [
      "Test Statistic:  0.016305490491995145\n",
      "p-value:  0.8101898101898102\n",
      "(200, 4)\n",
      "(200,)\n",
      "Fitted\n"
     ]
    },
    {
     "name": "stderr",
     "output_type": "stream",
     "text": [
      "\n",
      " 18%|██████████████▌                                                                  | 18/100 [09:33<43:13, 31.62s/it]\u001b[A"
     ]
    },
    {
     "name": "stdout",
     "output_type": "stream",
     "text": [
      "Test Statistic:  0.0075453380086564215\n",
      "p-value:  1.0\n",
      "(200, 4)\n",
      "(200,)\n",
      "Fitted\n"
     ]
    },
    {
     "name": "stderr",
     "output_type": "stream",
     "text": [
      "\n",
      " 19%|███████████████▍                                                                 | 19/100 [10:05<42:49, 31.72s/it]\u001b[A"
     ]
    },
    {
     "name": "stdout",
     "output_type": "stream",
     "text": [
      "Test Statistic:  0.010170789966412741\n",
      "p-value:  1.0\n",
      "(200, 4)\n",
      "(200,)\n",
      "Fitted\n"
     ]
    },
    {
     "name": "stderr",
     "output_type": "stream",
     "text": [
      "\n",
      " 20%|████████████████▏                                                                | 20/100 [10:36<41:58, 31.48s/it]\u001b[A"
     ]
    },
    {
     "name": "stdout",
     "output_type": "stream",
     "text": [
      "Test Statistic:  0.022283900721177807\n",
      "p-value:  0.34665334665334663\n",
      "(200, 4)\n",
      "(200,)\n",
      "Fitted\n"
     ]
    },
    {
     "name": "stderr",
     "output_type": "stream",
     "text": [
      "\n",
      " 21%|█████████████████                                                                | 21/100 [11:10<42:20, 32.16s/it]\u001b[A"
     ]
    },
    {
     "name": "stdout",
     "output_type": "stream",
     "text": [
      "Test Statistic:  0.013703431451031478\n",
      "p-value:  0.9760239760239761\n",
      "(200, 4)\n",
      "(200,)\n",
      "Fitted\n"
     ]
    },
    {
     "name": "stderr",
     "output_type": "stream",
     "text": [
      "\n",
      " 22%|█████████████████▊                                                               | 22/100 [11:41<41:36, 32.00s/it]\u001b[A"
     ]
    },
    {
     "name": "stdout",
     "output_type": "stream",
     "text": [
      "Test Statistic:  0.010897890886291117\n",
      "p-value:  1.0\n",
      "(200, 4)\n",
      "(200,)\n",
      "Fitted\n"
     ]
    },
    {
     "name": "stderr",
     "output_type": "stream",
     "text": [
      "\n",
      " 23%|██████████████████▋                                                              | 23/100 [12:13<40:58, 31.92s/it]\u001b[A"
     ]
    },
    {
     "name": "stdout",
     "output_type": "stream",
     "text": [
      "Test Statistic:  0.022534855268228626\n",
      "p-value:  0.2947052947052947\n",
      "(200, 4)\n",
      "(200,)\n",
      "Fitted\n"
     ]
    },
    {
     "name": "stderr",
     "output_type": "stream",
     "text": [
      "\n",
      " 24%|███████████████████▍                                                             | 24/100 [12:44<40:14, 31.77s/it]\u001b[A"
     ]
    },
    {
     "name": "stdout",
     "output_type": "stream",
     "text": [
      "Test Statistic:  0.03223051776556651\n",
      "p-value:  0.016983016983016984\n",
      "(200, 4)\n",
      "(200,)\n",
      "Fitted\n"
     ]
    },
    {
     "name": "stderr",
     "output_type": "stream",
     "text": [
      "\n",
      " 25%|████████████████████▎                                                            | 25/100 [13:15<39:24, 31.52s/it]\u001b[A"
     ]
    },
    {
     "name": "stdout",
     "output_type": "stream",
     "text": [
      "Test Statistic:  0.022754352228631092\n",
      "p-value:  0.24775224775224775\n",
      "(200, 4)\n",
      "(200,)\n",
      "Fitted\n"
     ]
    },
    {
     "name": "stderr",
     "output_type": "stream",
     "text": [
      "\n",
      " 26%|█████████████████████                                                            | 26/100 [13:47<38:53, 31.53s/it]\u001b[A"
     ]
    },
    {
     "name": "stdout",
     "output_type": "stream",
     "text": [
      "Test Statistic:  0.012300907640928616\n",
      "p-value:  0.994005994005994\n",
      "(200, 4)\n",
      "(200,)\n",
      "Fitted\n"
     ]
    },
    {
     "name": "stderr",
     "output_type": "stream",
     "text": [
      "\n",
      " 27%|█████████████████████▊                                                           | 27/100 [14:18<38:19, 31.50s/it]\u001b[A"
     ]
    },
    {
     "name": "stdout",
     "output_type": "stream",
     "text": [
      "Test Statistic:  0.012188706004372718\n",
      "p-value:  0.984015984015984\n",
      "(200, 4)\n",
      "(200,)\n",
      "Fitted\n"
     ]
    },
    {
     "name": "stderr",
     "output_type": "stream",
     "text": [
      "\n",
      " 28%|██████████████████████▋                                                          | 28/100 [14:50<37:51, 31.55s/it]\u001b[A"
     ]
    },
    {
     "name": "stdout",
     "output_type": "stream",
     "text": [
      "Test Statistic:  0.011673585894243943\n",
      "p-value:  0.999000999000999\n",
      "(200, 4)\n",
      "(200,)\n",
      "Fitted\n"
     ]
    },
    {
     "name": "stderr",
     "output_type": "stream",
     "text": [
      "\n",
      " 29%|███████████████████████▍                                                         | 29/100 [15:22<37:36, 31.78s/it]\u001b[A"
     ]
    },
    {
     "name": "stdout",
     "output_type": "stream",
     "text": [
      "Test Statistic:  0.022910301334057248\n",
      "p-value:  0.22977022977022976\n",
      "(200, 4)\n",
      "(200,)\n",
      "Fitted\n"
     ]
    },
    {
     "name": "stderr",
     "output_type": "stream",
     "text": [
      "\n",
      " 30%|████████████████████████▎                                                        | 30/100 [15:54<36:55, 31.66s/it]\u001b[A"
     ]
    },
    {
     "name": "stdout",
     "output_type": "stream",
     "text": [
      "Test Statistic:  0.020664351913132983\n",
      "p-value:  0.4165834165834166\n",
      "(200, 4)\n",
      "(200,)\n",
      "Fitted\n"
     ]
    },
    {
     "name": "stderr",
     "output_type": "stream",
     "text": [
      "\n",
      " 31%|█████████████████████████                                                        | 31/100 [16:25<36:12, 31.48s/it]\u001b[A"
     ]
    },
    {
     "name": "stdout",
     "output_type": "stream",
     "text": [
      "Test Statistic:  0.01664787768440601\n",
      "p-value:  0.8031968031968032\n",
      "(200, 4)\n",
      "(200,)\n",
      "Fitted\n"
     ]
    },
    {
     "name": "stderr",
     "output_type": "stream",
     "text": [
      "\n",
      " 32%|█████████████████████████▉                                                       | 32/100 [16:57<35:51, 31.64s/it]\u001b[A"
     ]
    },
    {
     "name": "stdout",
     "output_type": "stream",
     "text": [
      "Test Statistic:  0.018238716577832714\n",
      "p-value:  0.6573426573426573\n",
      "(200, 4)\n",
      "(200,)\n",
      "Fitted\n"
     ]
    },
    {
     "name": "stderr",
     "output_type": "stream",
     "text": [
      "\n",
      " 33%|██████████████████████████▋                                                      | 33/100 [17:28<35:07, 31.45s/it]\u001b[A"
     ]
    },
    {
     "name": "stdout",
     "output_type": "stream",
     "text": [
      "Test Statistic:  0.029566421296435608\n",
      "p-value:  0.03296703296703297\n",
      "(200, 4)\n",
      "(200,)\n",
      "Fitted\n"
     ]
    },
    {
     "name": "stderr",
     "output_type": "stream",
     "text": [
      "\n",
      " 34%|███████████████████████████▌                                                     | 34/100 [18:00<34:49, 31.66s/it]\u001b[A"
     ]
    },
    {
     "name": "stdout",
     "output_type": "stream",
     "text": [
      "Test Statistic:  0.020487411064605165\n",
      "p-value:  0.4595404595404595\n",
      "(200, 4)\n",
      "(200,)\n",
      "Fitted\n"
     ]
    },
    {
     "name": "stderr",
     "output_type": "stream",
     "text": [
      "\n",
      " 35%|████████████████████████████▎                                                    | 35/100 [18:31<34:12, 31.58s/it]\u001b[A"
     ]
    },
    {
     "name": "stdout",
     "output_type": "stream",
     "text": [
      "Test Statistic:  0.01129138232757243\n",
      "p-value:  0.998001998001998\n",
      "(200, 4)\n",
      "(200,)\n",
      "Fitted\n"
     ]
    },
    {
     "name": "stderr",
     "output_type": "stream",
     "text": [
      "\n",
      " 36%|█████████████████████████████▏                                                   | 36/100 [19:03<33:46, 31.67s/it]\u001b[A"
     ]
    },
    {
     "name": "stdout",
     "output_type": "stream",
     "text": [
      "Test Statistic:  0.012929619783029755\n",
      "p-value:  0.977022977022977\n",
      "(200, 4)\n",
      "(200,)\n",
      "Fitted\n"
     ]
    },
    {
     "name": "stderr",
     "output_type": "stream",
     "text": [
      "\n",
      " 37%|█████████████████████████████▉                                                   | 37/100 [19:34<33:04, 31.51s/it]\u001b[A"
     ]
    },
    {
     "name": "stdout",
     "output_type": "stream",
     "text": [
      "Test Statistic:  0.012162841551425552\n",
      "p-value:  0.995004995004995\n",
      "(200, 4)\n",
      "(200,)\n",
      "Fitted\n"
     ]
    },
    {
     "name": "stderr",
     "output_type": "stream",
     "text": [
      "\n",
      " 38%|██████████████████████████████▊                                                  | 38/100 [20:07<32:51, 31.80s/it]\u001b[A"
     ]
    },
    {
     "name": "stdout",
     "output_type": "stream",
     "text": [
      "Test Statistic:  0.01280327582363483\n",
      "p-value:  0.989010989010989\n",
      "(200, 4)\n",
      "(200,)\n",
      "Fitted\n"
     ]
    },
    {
     "name": "stderr",
     "output_type": "stream",
     "text": [
      "\n",
      " 39%|███████████████████████████████▌                                                 | 39/100 [20:38<32:12, 31.67s/it]\u001b[A"
     ]
    },
    {
     "name": "stdout",
     "output_type": "stream",
     "text": [
      "Test Statistic:  0.018928338301249514\n",
      "p-value:  0.6173826173826173\n",
      "(200, 4)\n",
      "(200,)\n",
      "Fitted\n"
     ]
    },
    {
     "name": "stderr",
     "output_type": "stream",
     "text": [
      "\n",
      " 40%|████████████████████████████████▍                                                | 40/100 [21:14<32:51, 32.86s/it]\u001b[A"
     ]
    },
    {
     "name": "stdout",
     "output_type": "stream",
     "text": [
      "Test Statistic:  0.017949626949248176\n",
      "p-value:  0.5944055944055944\n",
      "(200, 4)\n",
      "(200,)\n",
      "Fitted\n"
     ]
    },
    {
     "name": "stderr",
     "output_type": "stream",
     "text": [
      "\n",
      " 41%|█████████████████████████████████▏                                               | 41/100 [21:46<32:01, 32.56s/it]\u001b[A"
     ]
    },
    {
     "name": "stdout",
     "output_type": "stream",
     "text": [
      "Test Statistic:  0.022962442216728607\n",
      "p-value:  0.2897102897102897\n",
      "(200, 4)\n",
      "(200,)\n",
      "Fitted\n"
     ]
    },
    {
     "name": "stderr",
     "output_type": "stream",
     "text": [
      "\n",
      " 42%|██████████████████████████████████                                               | 42/100 [22:19<31:38, 32.74s/it]\u001b[A"
     ]
    },
    {
     "name": "stdout",
     "output_type": "stream",
     "text": [
      "Test Statistic:  0.01014919254493174\n",
      "p-value:  1.0\n",
      "(200, 4)\n",
      "(200,)\n",
      "Fitted\n"
     ]
    },
    {
     "name": "stderr",
     "output_type": "stream",
     "text": [
      "\n",
      " 43%|██████████████████████████████████▊                                              | 43/100 [22:50<30:45, 32.38s/it]\u001b[A"
     ]
    },
    {
     "name": "stdout",
     "output_type": "stream",
     "text": [
      "Test Statistic:  0.016836525488735155\n",
      "p-value:  0.7952047952047953\n",
      "(200, 4)\n",
      "(200,)\n",
      "Fitted\n"
     ]
    },
    {
     "name": "stderr",
     "output_type": "stream",
     "text": [
      "\n",
      " 44%|███████████████████████████████████▋                                             | 44/100 [23:22<29:59, 32.13s/it]\u001b[A"
     ]
    },
    {
     "name": "stdout",
     "output_type": "stream",
     "text": [
      "Test Statistic:  0.028867071523215326\n",
      "p-value:  0.09290709290709291\n",
      "(200, 4)\n",
      "(200,)\n",
      "Fitted\n"
     ]
    },
    {
     "name": "stderr",
     "output_type": "stream",
     "text": [
      "\n",
      " 45%|████████████████████████████████████▍                                            | 45/100 [23:53<29:18, 31.97s/it]\u001b[A"
     ]
    },
    {
     "name": "stdout",
     "output_type": "stream",
     "text": [
      "Test Statistic:  0.013830914291177221\n",
      "p-value:  0.97002997002997\n",
      "(200, 4)\n",
      "(200,)\n",
      "Fitted\n"
     ]
    },
    {
     "name": "stderr",
     "output_type": "stream",
     "text": [
      "\n",
      " 46%|█████████████████████████████████████▎                                           | 46/100 [24:25<28:33, 31.73s/it]\u001b[A"
     ]
    },
    {
     "name": "stdout",
     "output_type": "stream",
     "text": [
      "Test Statistic:  0.014086065338586362\n",
      "p-value:  0.945054945054945\n",
      "(200, 4)\n",
      "(200,)\n",
      "Fitted\n"
     ]
    },
    {
     "name": "stderr",
     "output_type": "stream",
     "text": [
      "\n",
      " 47%|██████████████████████████████████████                                           | 47/100 [24:56<27:59, 31.70s/it]\u001b[A"
     ]
    },
    {
     "name": "stdout",
     "output_type": "stream",
     "text": [
      "Test Statistic:  0.01598244384246139\n",
      "p-value:  0.8301698301698301\n",
      "(200, 4)\n",
      "(200,)\n",
      "Fitted\n"
     ]
    },
    {
     "name": "stderr",
     "output_type": "stream",
     "text": [
      "\n",
      " 48%|██████████████████████████████████████▉                                          | 48/100 [25:27<27:10, 31.35s/it]\u001b[A"
     ]
    },
    {
     "name": "stdout",
     "output_type": "stream",
     "text": [
      "Test Statistic:  0.011958936461841874\n",
      "p-value:  0.998001998001998\n",
      "(200, 4)\n",
      "(200,)\n",
      "Fitted\n"
     ]
    },
    {
     "name": "stderr",
     "output_type": "stream",
     "text": [
      "\n",
      " 49%|███████████████████████████████████████▋                                         | 49/100 [25:59<26:47, 31.53s/it]\u001b[A"
     ]
    },
    {
     "name": "stdout",
     "output_type": "stream",
     "text": [
      "Test Statistic:  0.01727129542619632\n",
      "p-value:  0.6523476523476524\n",
      "(200, 4)\n",
      "(200,)\n",
      "Fitted\n"
     ]
    },
    {
     "name": "stderr",
     "output_type": "stream",
     "text": [
      "\n",
      " 50%|████████████████████████████████████████▌                                        | 50/100 [26:30<26:14, 31.49s/it]\u001b[A"
     ]
    },
    {
     "name": "stdout",
     "output_type": "stream",
     "text": [
      "Test Statistic:  0.01608245645744799\n",
      "p-value:  0.7532467532467533\n",
      "(200, 4)\n",
      "(200,)\n",
      "Fitted\n"
     ]
    },
    {
     "name": "stderr",
     "output_type": "stream",
     "text": [
      "\n",
      " 51%|█████████████████████████████████████████▎                                       | 51/100 [27:02<25:52, 31.69s/it]\u001b[A"
     ]
    },
    {
     "name": "stdout",
     "output_type": "stream",
     "text": [
      "Test Statistic:  0.013527065936688842\n",
      "p-value:  0.9430569430569431\n",
      "(200, 4)\n",
      "(200,)\n",
      "Fitted\n"
     ]
    },
    {
     "name": "stderr",
     "output_type": "stream",
     "text": [
      "\n",
      " 52%|██████████████████████████████████████████                                       | 52/100 [27:34<25:21, 31.70s/it]\u001b[A"
     ]
    },
    {
     "name": "stdout",
     "output_type": "stream",
     "text": [
      "Test Statistic:  0.02166568354596443\n",
      "p-value:  0.2867132867132867\n",
      "(200, 4)\n",
      "(200,)\n",
      "Fitted\n"
     ]
    },
    {
     "name": "stderr",
     "output_type": "stream",
     "text": [
      "\n",
      " 53%|██████████████████████████████████████████▉                                      | 53/100 [28:06<24:55, 31.82s/it]\u001b[A"
     ]
    },
    {
     "name": "stdout",
     "output_type": "stream",
     "text": [
      "Test Statistic:  0.0118888045614296\n",
      "p-value:  0.996003996003996\n",
      "(200, 4)\n",
      "(200,)\n",
      "Fitted\n"
     ]
    },
    {
     "name": "stderr",
     "output_type": "stream",
     "text": [
      "\n",
      " 54%|███████████████████████████████████████████▋                                     | 54/100 [28:37<24:16, 31.66s/it]\u001b[A"
     ]
    },
    {
     "name": "stdout",
     "output_type": "stream",
     "text": [
      "Test Statistic:  0.011934078389518543\n",
      "p-value:  0.997002997002997\n",
      "(200, 4)\n",
      "(200,)\n",
      "Fitted\n"
     ]
    },
    {
     "name": "stderr",
     "output_type": "stream",
     "text": [
      "\n",
      " 55%|████████████████████████████████████████████▌                                    | 55/100 [29:08<23:32, 31.38s/it]\u001b[A"
     ]
    },
    {
     "name": "stdout",
     "output_type": "stream",
     "text": [
      "Test Statistic:  0.02700164150660167\n",
      "p-value:  0.08291708291708291\n",
      "(200, 4)\n",
      "(200,)\n",
      "Fitted\n"
     ]
    },
    {
     "name": "stderr",
     "output_type": "stream",
     "text": [
      "\n",
      " 56%|█████████████████████████████████████████████▎                                   | 56/100 [29:40<23:08, 31.55s/it]\u001b[A"
     ]
    },
    {
     "name": "stdout",
     "output_type": "stream",
     "text": [
      "Test Statistic:  0.017466126656432657\n",
      "p-value:  0.7712287712287712\n",
      "(200, 4)\n",
      "(200,)\n",
      "Fitted\n"
     ]
    },
    {
     "name": "stderr",
     "output_type": "stream",
     "text": [
      "\n",
      " 57%|██████████████████████████████████████████████▏                                  | 57/100 [30:12<22:45, 31.76s/it]\u001b[A"
     ]
    },
    {
     "name": "stdout",
     "output_type": "stream",
     "text": [
      "Test Statistic:  0.018870923176099064\n",
      "p-value:  0.5854145854145855\n",
      "(200, 4)\n",
      "(200,)\n",
      "Fitted\n"
     ]
    },
    {
     "name": "stderr",
     "output_type": "stream",
     "text": [
      "\n",
      " 58%|██████████████████████████████████████████████▉                                  | 58/100 [30:44<22:14, 31.79s/it]\u001b[A"
     ]
    },
    {
     "name": "stdout",
     "output_type": "stream",
     "text": [
      "Test Statistic:  0.015493624082341229\n",
      "p-value:  0.8791208791208791\n",
      "(200, 4)\n",
      "(200,)\n",
      "Fitted\n"
     ]
    },
    {
     "name": "stderr",
     "output_type": "stream",
     "text": [
      "\n",
      " 59%|███████████████████████████████████████████████▊                                 | 59/100 [31:23<23:14, 34.01s/it]\u001b[A"
     ]
    },
    {
     "name": "stdout",
     "output_type": "stream",
     "text": [
      "Test Statistic:  0.015804117872038836\n",
      "p-value:  0.8491508491508492\n",
      "(200, 4)\n",
      "(200,)\n",
      "Fitted\n"
     ]
    },
    {
     "name": "stderr",
     "output_type": "stream",
     "text": [
      "\n",
      " 60%|████████████████████████████████████████████████▌                                | 60/100 [31:56<22:20, 33.52s/it]\u001b[A"
     ]
    },
    {
     "name": "stdout",
     "output_type": "stream",
     "text": [
      "Test Statistic:  0.016277822655168084\n",
      "p-value:  0.8591408591408591\n",
      "(200, 4)\n",
      "(200,)\n",
      "Fitted\n"
     ]
    },
    {
     "name": "stderr",
     "output_type": "stream",
     "text": [
      "\n",
      " 61%|█████████████████████████████████████████████████▍                               | 61/100 [32:26<21:12, 32.62s/it]\u001b[A"
     ]
    },
    {
     "name": "stdout",
     "output_type": "stream",
     "text": [
      "Test Statistic:  0.01653138917353625\n",
      "p-value:  0.7742257742257742\n",
      "(200, 4)\n",
      "(200,)\n",
      "Fitted\n"
     ]
    },
    {
     "name": "stderr",
     "output_type": "stream",
     "text": [
      "\n",
      " 62%|██████████████████████████████████████████████████▏                              | 62/100 [32:57<20:19, 32.09s/it]\u001b[A"
     ]
    },
    {
     "name": "stdout",
     "output_type": "stream",
     "text": [
      "Test Statistic:  0.026262260369662394\n",
      "p-value:  0.08891108891108891\n",
      "(200, 4)\n",
      "(200,)\n",
      "Fitted\n"
     ]
    },
    {
     "name": "stderr",
     "output_type": "stream",
     "text": [
      "\n",
      " 63%|███████████████████████████████████████████████████                              | 63/100 [33:27<19:25, 31.49s/it]\u001b[A"
     ]
    },
    {
     "name": "stdout",
     "output_type": "stream",
     "text": [
      "Test Statistic:  0.01564635042953233\n",
      "p-value:  0.8031968031968032\n",
      "(200, 4)\n",
      "(200,)\n",
      "Fitted\n"
     ]
    },
    {
     "name": "stderr",
     "output_type": "stream",
     "text": [
      "\n",
      " 64%|███████████████████████████████████████████████████▊                             | 64/100 [33:58<18:46, 31.31s/it]\u001b[A"
     ]
    },
    {
     "name": "stdout",
     "output_type": "stream",
     "text": [
      "Test Statistic:  0.026236739891416172\n",
      "p-value:  0.07992007992007992\n",
      "(200, 4)\n",
      "(200,)\n",
      "Fitted\n"
     ]
    },
    {
     "name": "stderr",
     "output_type": "stream",
     "text": [
      "\n",
      " 65%|████████████████████████████████████████████████████▋                            | 65/100 [34:29<18:16, 31.33s/it]\u001b[A"
     ]
    },
    {
     "name": "stdout",
     "output_type": "stream",
     "text": [
      "Test Statistic:  0.03359589175236122\n",
      "p-value:  0.014985014985014986\n",
      "(200, 4)\n",
      "(200,)\n",
      "Fitted\n"
     ]
    },
    {
     "name": "stderr",
     "output_type": "stream",
     "text": [
      "\n",
      " 66%|█████████████████████████████████████████████████████▍                           | 66/100 [35:01<17:44, 31.32s/it]\u001b[A"
     ]
    },
    {
     "name": "stdout",
     "output_type": "stream",
     "text": [
      "Test Statistic:  0.016601792603659793\n",
      "p-value:  0.8091908091908092\n",
      "(200, 4)\n",
      "(200,)\n",
      "Fitted\n"
     ]
    },
    {
     "name": "stderr",
     "output_type": "stream",
     "text": [
      "\n",
      " 67%|██████████████████████████████████████████████████████▎                          | 67/100 [35:33<17:21, 31.56s/it]\u001b[A"
     ]
    },
    {
     "name": "stdout",
     "output_type": "stream",
     "text": [
      "Test Statistic:  0.03397338278815065\n",
      "p-value:  0.023976023976023976\n",
      "(200, 4)\n",
      "(200,)\n",
      "Fitted\n"
     ]
    },
    {
     "name": "stderr",
     "output_type": "stream",
     "text": [
      "\n",
      " 68%|███████████████████████████████████████████████████████                          | 68/100 [36:04<16:47, 31.50s/it]\u001b[A"
     ]
    },
    {
     "name": "stdout",
     "output_type": "stream",
     "text": [
      "Test Statistic:  0.011233655753666971\n",
      "p-value:  1.0\n",
      "(200, 4)\n",
      "(200,)\n",
      "Fitted\n"
     ]
    },
    {
     "name": "stderr",
     "output_type": "stream",
     "text": [
      "\n",
      " 69%|███████████████████████████████████████████████████████▉                         | 69/100 [36:37<16:28, 31.88s/it]\u001b[A"
     ]
    },
    {
     "name": "stdout",
     "output_type": "stream",
     "text": [
      "Test Statistic:  0.04901757564288933\n",
      "p-value:  0.000999000999000999\n",
      "(200, 4)\n",
      "(200,)\n",
      "Fitted\n"
     ]
    },
    {
     "name": "stderr",
     "output_type": "stream",
     "text": [
      "\n",
      " 70%|████████████████████████████████████████████████████████▋                        | 70/100 [37:18<17:20, 34.68s/it]\u001b[A"
     ]
    },
    {
     "name": "stdout",
     "output_type": "stream",
     "text": [
      "Test Statistic:  0.02652879521493401\n",
      "p-value:  0.07792207792207792\n",
      "(200, 4)\n",
      "(200,)\n",
      "Fitted\n"
     ]
    },
    {
     "name": "stderr",
     "output_type": "stream",
     "text": [
      "\n",
      " 71%|█████████████████████████████████████████████████████████▌                       | 71/100 [37:49<16:12, 33.53s/it]\u001b[A"
     ]
    },
    {
     "name": "stdout",
     "output_type": "stream",
     "text": [
      "Test Statistic:  0.021948907121887573\n",
      "p-value:  0.2957042957042957\n",
      "(200, 4)\n",
      "(200,)\n",
      "Fitted\n"
     ]
    },
    {
     "name": "stderr",
     "output_type": "stream",
     "text": [
      "\n",
      " 72%|██████████████████████████████████████████████████████████▎                      | 72/100 [38:20<15:14, 32.67s/it]\u001b[A"
     ]
    },
    {
     "name": "stdout",
     "output_type": "stream",
     "text": [
      "Test Statistic:  0.01924718543611814\n",
      "p-value:  0.4755244755244755\n",
      "(200, 4)\n",
      "(200,)\n",
      "Fitted\n"
     ]
    },
    {
     "name": "stderr",
     "output_type": "stream",
     "text": [
      "\n",
      " 73%|███████████████████████████████████████████████████████████▏                     | 73/100 [38:51<14:30, 32.25s/it]\u001b[A"
     ]
    },
    {
     "name": "stdout",
     "output_type": "stream",
     "text": [
      "Test Statistic:  0.013072170622714707\n",
      "p-value:  0.977022977022977\n",
      "(200, 4)\n",
      "(200,)\n",
      "Fitted\n"
     ]
    },
    {
     "name": "stderr",
     "output_type": "stream",
     "text": [
      "\n",
      " 74%|███████████████████████████████████████████████████████████▉                     | 74/100 [39:22<13:49, 31.89s/it]\u001b[A"
     ]
    },
    {
     "name": "stdout",
     "output_type": "stream",
     "text": [
      "Test Statistic:  0.023854238488397628\n",
      "p-value:  0.16283716283716285\n",
      "(200, 4)\n",
      "(200,)\n",
      "Fitted\n"
     ]
    },
    {
     "name": "stderr",
     "output_type": "stream",
     "text": [
      "\n",
      " 75%|████████████████████████████████████████████████████████████▊                    | 75/100 [39:53<13:08, 31.54s/it]\u001b[A"
     ]
    },
    {
     "name": "stdout",
     "output_type": "stream",
     "text": [
      "Test Statistic:  0.017284706298579366\n",
      "p-value:  0.7322677322677322\n",
      "(200, 4)\n",
      "(200,)\n",
      "Fitted\n"
     ]
    },
    {
     "name": "stderr",
     "output_type": "stream",
     "text": [
      "\n",
      " 76%|█████████████████████████████████████████████████████████████▌                   | 76/100 [40:23<12:29, 31.23s/it]\u001b[A"
     ]
    },
    {
     "name": "stdout",
     "output_type": "stream",
     "text": [
      "Test Statistic:  0.016697073662370054\n",
      "p-value:  0.7802197802197802\n",
      "(200, 4)\n",
      "(200,)\n",
      "Fitted\n"
     ]
    },
    {
     "name": "stderr",
     "output_type": "stream",
     "text": [
      "\n",
      " 77%|██████████████████████████████████████████████████████████████▎                  | 77/100 [40:54<11:56, 31.14s/it]\u001b[A"
     ]
    },
    {
     "name": "stdout",
     "output_type": "stream",
     "text": [
      "Test Statistic:  0.011719780051943296\n",
      "p-value:  0.998001998001998\n",
      "(200, 4)\n",
      "(200,)\n",
      "Fitted\n"
     ]
    },
    {
     "name": "stderr",
     "output_type": "stream",
     "text": [
      "\n",
      " 78%|███████████████████████████████████████████████████████████████▏                 | 78/100 [41:28<11:45, 32.05s/it]\u001b[A"
     ]
    },
    {
     "name": "stdout",
     "output_type": "stream",
     "text": [
      "Test Statistic:  0.020337776897281556\n",
      "p-value:  0.4975024975024975\n",
      "(200, 4)\n",
      "(200,)\n",
      "Fitted\n"
     ]
    },
    {
     "name": "stderr",
     "output_type": "stream",
     "text": [
      "\n",
      " 79%|███████████████████████████████████████████████████████████████▉                 | 79/100 [41:59<11:05, 31.70s/it]\u001b[A"
     ]
    },
    {
     "name": "stdout",
     "output_type": "stream",
     "text": [
      "Test Statistic:  0.0225998133632056\n",
      "p-value:  0.25274725274725274\n",
      "(200, 4)\n",
      "(200,)\n",
      "Fitted\n"
     ]
    },
    {
     "name": "stderr",
     "output_type": "stream",
     "text": [
      "\n",
      " 80%|████████████████████████████████████████████████████████████████▊                | 80/100 [42:30<10:29, 31.50s/it]\u001b[A"
     ]
    },
    {
     "name": "stdout",
     "output_type": "stream",
     "text": [
      "Test Statistic:  0.008103301269807517\n",
      "p-value:  1.0\n",
      "(200, 4)\n",
      "(200,)\n",
      "Fitted\n"
     ]
    },
    {
     "name": "stderr",
     "output_type": "stream",
     "text": [
      "\n",
      " 81%|█████████████████████████████████████████████████████████████████▌               | 81/100 [43:01<09:56, 31.40s/it]\u001b[A"
     ]
    },
    {
     "name": "stdout",
     "output_type": "stream",
     "text": [
      "Test Statistic:  0.01422929530846928\n",
      "p-value:  0.955044955044955\n",
      "(200, 4)\n",
      "(200,)\n",
      "Fitted\n"
     ]
    },
    {
     "name": "stderr",
     "output_type": "stream",
     "text": [
      "\n",
      " 82%|██████████████████████████████████████████████████████████████████▍              | 82/100 [43:33<09:26, 31.48s/it]\u001b[A"
     ]
    },
    {
     "name": "stdout",
     "output_type": "stream",
     "text": [
      "Test Statistic:  0.022062084493660317\n",
      "p-value:  0.3076923076923077\n",
      "(200, 4)\n",
      "(200,)\n",
      "Fitted\n"
     ]
    },
    {
     "name": "stderr",
     "output_type": "stream",
     "text": [
      "\n",
      " 83%|███████████████████████████████████████████████████████████████████▏             | 83/100 [44:04<08:53, 31.40s/it]\u001b[A"
     ]
    },
    {
     "name": "stdout",
     "output_type": "stream",
     "text": [
      "Test Statistic:  0.019241519696397313\n",
      "p-value:  0.5564435564435565\n",
      "(200, 4)\n",
      "(200,)\n",
      "Fitted\n"
     ]
    },
    {
     "name": "stderr",
     "output_type": "stream",
     "text": [
      "\n",
      " 84%|████████████████████████████████████████████████████████████████████             | 84/100 [44:35<08:19, 31.24s/it]\u001b[A"
     ]
    },
    {
     "name": "stdout",
     "output_type": "stream",
     "text": [
      "Test Statistic:  0.014489853722053136\n",
      "p-value:  0.9410589410589411\n",
      "(200, 4)\n",
      "(200,)\n",
      "Fitted\n"
     ]
    },
    {
     "name": "stderr",
     "output_type": "stream",
     "text": [
      "\n",
      " 85%|████████████████████████████████████████████████████████████████████▊            | 85/100 [45:07<07:52, 31.50s/it]\u001b[A"
     ]
    },
    {
     "name": "stdout",
     "output_type": "stream",
     "text": [
      "Test Statistic:  0.012880630264636594\n",
      "p-value:  0.957042957042957\n",
      "(200, 4)\n",
      "(200,)\n",
      "Fitted\n"
     ]
    },
    {
     "name": "stderr",
     "output_type": "stream",
     "text": [
      "\n",
      " 86%|█████████████████████████████████████████████████████████████████████▋           | 86/100 [45:39<07:21, 31.51s/it]\u001b[A"
     ]
    },
    {
     "name": "stdout",
     "output_type": "stream",
     "text": [
      "Test Statistic:  0.01484984271728862\n",
      "p-value:  0.942057942057942\n",
      "(200, 4)\n",
      "(200,)\n",
      "Fitted\n"
     ]
    },
    {
     "name": "stderr",
     "output_type": "stream",
     "text": [
      "\n",
      " 87%|██████████████████████████████████████████████████████████████████████▍          | 87/100 [46:13<06:58, 32.21s/it]\u001b[A"
     ]
    },
    {
     "name": "stdout",
     "output_type": "stream",
     "text": [
      "Test Statistic:  0.01855246524402343\n",
      "p-value:  0.6373626373626373\n",
      "(200, 4)\n",
      "(200,)\n",
      "Fitted\n"
     ]
    },
    {
     "name": "stderr",
     "output_type": "stream",
     "text": [
      "\n",
      " 88%|███████████████████████████████████████████████████████████████████████▎         | 88/100 [46:44<06:23, 31.96s/it]\u001b[A"
     ]
    },
    {
     "name": "stdout",
     "output_type": "stream",
     "text": [
      "Test Statistic:  0.01579128157374976\n",
      "p-value:  0.8531468531468531\n",
      "(200, 4)\n",
      "(200,)\n",
      "Fitted\n"
     ]
    },
    {
     "name": "stderr",
     "output_type": "stream",
     "text": [
      "\n",
      " 89%|████████████████████████████████████████████████████████████████████████         | 89/100 [47:16<05:51, 31.98s/it]\u001b[A"
     ]
    },
    {
     "name": "stdout",
     "output_type": "stream",
     "text": [
      "Test Statistic:  0.01942186929290146\n",
      "p-value:  0.5244755244755245\n",
      "(200, 4)\n",
      "(200,)\n",
      "Fitted\n"
     ]
    },
    {
     "name": "stderr",
     "output_type": "stream",
     "text": [
      "\n",
      " 90%|████████████████████████████████████████████████████████████████████████▉        | 90/100 [47:47<05:17, 31.80s/it]\u001b[A"
     ]
    },
    {
     "name": "stdout",
     "output_type": "stream",
     "text": [
      "Test Statistic:  0.01636393516424639\n",
      "p-value:  0.8651348651348651\n",
      "(200, 4)\n",
      "(200,)\n",
      "Fitted\n"
     ]
    },
    {
     "name": "stderr",
     "output_type": "stream",
     "text": [
      "\n",
      " 91%|█████████████████████████████████████████████████████████████████████████▋       | 91/100 [48:19<04:45, 31.74s/it]\u001b[A"
     ]
    },
    {
     "name": "stdout",
     "output_type": "stream",
     "text": [
      "Test Statistic:  0.009796786283005288\n",
      "p-value:  1.0\n",
      "(200, 4)\n",
      "(200,)\n",
      "Fitted\n"
     ]
    },
    {
     "name": "stderr",
     "output_type": "stream",
     "text": [
      "\n",
      " 92%|██████████████████████████████████████████████████████████████████████████▌      | 92/100 [48:51<04:13, 31.64s/it]\u001b[A"
     ]
    },
    {
     "name": "stdout",
     "output_type": "stream",
     "text": [
      "Test Statistic:  0.0323125220882754\n",
      "p-value:  0.02197802197802198\n",
      "(200, 4)\n",
      "(200,)\n",
      "Fitted\n"
     ]
    },
    {
     "name": "stderr",
     "output_type": "stream",
     "text": [
      "\n",
      " 93%|███████████████████████████████████████████████████████████████████████████▎     | 93/100 [49:22<03:41, 31.68s/it]\u001b[A"
     ]
    },
    {
     "name": "stdout",
     "output_type": "stream",
     "text": [
      "Test Statistic:  0.014955825415169377\n",
      "p-value:  0.8811188811188811\n",
      "(200, 4)\n",
      "(200,)\n",
      "Fitted\n"
     ]
    },
    {
     "name": "stderr",
     "output_type": "stream",
     "text": [
      "\n",
      " 94%|████████████████████████████████████████████████████████████████████████████▏    | 94/100 [49:54<03:09, 31.56s/it]\u001b[A"
     ]
    },
    {
     "name": "stdout",
     "output_type": "stream",
     "text": [
      "Test Statistic:  0.013350880230213802\n",
      "p-value:  0.9790209790209791\n",
      "(200, 4)\n",
      "(200,)\n",
      "Fitted\n"
     ]
    },
    {
     "name": "stderr",
     "output_type": "stream",
     "text": [
      "\n",
      " 95%|████████████████████████████████████████████████████████████████████████████▉    | 95/100 [50:25<02:38, 31.60s/it]\u001b[A"
     ]
    },
    {
     "name": "stdout",
     "output_type": "stream",
     "text": [
      "Test Statistic:  0.014960131152278788\n",
      "p-value:  0.9170829170829171\n",
      "(200, 4)\n",
      "(200,)\n",
      "Fitted\n"
     ]
    },
    {
     "name": "stderr",
     "output_type": "stream",
     "text": [
      "\n",
      " 96%|█████████████████████████████████████████████████████████████████████████████▊   | 96/100 [50:57<02:06, 31.65s/it]\u001b[A"
     ]
    },
    {
     "name": "stdout",
     "output_type": "stream",
     "text": [
      "Test Statistic:  0.029968492411995284\n",
      "p-value:  0.03596403596403597\n",
      "(200, 4)\n",
      "(200,)\n",
      "Fitted\n"
     ]
    },
    {
     "name": "stderr",
     "output_type": "stream",
     "text": [
      "\n",
      " 97%|██████████████████████████████████████████████████████████████████████████████▌  | 97/100 [51:32<01:37, 32.53s/it]\u001b[A"
     ]
    },
    {
     "name": "stdout",
     "output_type": "stream",
     "text": [
      "Test Statistic:  0.01007317141894759\n",
      "p-value:  1.0\n",
      "(200, 4)\n",
      "(200,)\n",
      "Fitted\n"
     ]
    },
    {
     "name": "stderr",
     "output_type": "stream",
     "text": [
      "\n",
      " 98%|███████████████████████████████████████████████████████████████████████████████▍ | 98/100 [52:02<01:03, 31.96s/it]\u001b[A"
     ]
    },
    {
     "name": "stdout",
     "output_type": "stream",
     "text": [
      "Test Statistic:  0.01070623923313796\n",
      "p-value:  0.999000999000999\n",
      "(200, 4)\n",
      "(200,)\n",
      "Fitted\n"
     ]
    },
    {
     "name": "stderr",
     "output_type": "stream",
     "text": [
      "\n",
      " 99%|████████████████████████████████████████████████████████████████████████████████▏| 99/100 [52:34<00:31, 31.78s/it]\u001b[A"
     ]
    },
    {
     "name": "stdout",
     "output_type": "stream",
     "text": [
      "Test Statistic:  0.01081880282367631\n",
      "p-value:  1.0\n",
      "(200, 4)\n",
      "(200,)\n",
      "Fitted\n"
     ]
    },
    {
     "name": "stderr",
     "output_type": "stream",
     "text": [
      "\n",
      "100%|████████████████████████████████████████████████████████████████████████████████| 100/100 [53:04<00:00, 31.85s/it]\u001b[A\n",
      " 10%|███████▌                                                                    | 2/20 [1:45:21<15:45:18, 3151.04s/it]\n",
      "  0%|                                                                                          | 0/100 [00:00<?, ?it/s]\u001b[A"
     ]
    },
    {
     "name": "stdout",
     "output_type": "stream",
     "text": [
      "Test Statistic:  0.014587723546766074\n",
      "p-value:  0.919080919080919\n",
      "dimension 3\n",
      "circle\n",
      "(200, 6)\n",
      "(200,)\n",
      "Fitted\n"
     ]
    },
    {
     "name": "stderr",
     "output_type": "stream",
     "text": [
      "\n",
      "  1%|▊                                                                                 | 1/100 [00:30<50:32, 30.64s/it]\u001b[A"
     ]
    },
    {
     "name": "stdout",
     "output_type": "stream",
     "text": [
      "Test Statistic:  0.024262541369994395\n",
      "p-value:  0.05194805194805195\n",
      "(200, 6)\n",
      "(200,)\n",
      "Fitted\n"
     ]
    },
    {
     "name": "stderr",
     "output_type": "stream",
     "text": [
      "\n",
      "  2%|█▋                                                                                | 2/100 [01:01<50:02, 30.64s/it]\u001b[A"
     ]
    },
    {
     "name": "stdout",
     "output_type": "stream",
     "text": [
      "Test Statistic:  0.011019208366179312\n",
      "p-value:  0.9760239760239761\n",
      "(200, 6)\n",
      "(200,)\n",
      "Fitted\n"
     ]
    },
    {
     "name": "stderr",
     "output_type": "stream",
     "text": [
      "\n",
      "  3%|██▍                                                                               | 3/100 [01:31<49:25, 30.57s/it]\u001b[A"
     ]
    },
    {
     "name": "stdout",
     "output_type": "stream",
     "text": [
      "Test Statistic:  0.019070937184380465\n",
      "p-value:  0.1928071928071928\n",
      "(200, 6)\n",
      "(200,)\n",
      "Fitted\n"
     ]
    },
    {
     "name": "stderr",
     "output_type": "stream",
     "text": [
      "\n",
      "  4%|███▎                                                                              | 4/100 [02:02<49:13, 30.76s/it]\u001b[A"
     ]
    },
    {
     "name": "stdout",
     "output_type": "stream",
     "text": [
      "Test Statistic:  0.013323909675579282\n",
      "p-value:  0.7552447552447552\n",
      "(200, 6)\n",
      "(200,)\n",
      "Fitted\n"
     ]
    },
    {
     "name": "stderr",
     "output_type": "stream",
     "text": [
      "\n",
      "  5%|████                                                                              | 5/100 [02:34<49:07, 31.03s/it]\u001b[A"
     ]
    },
    {
     "name": "stdout",
     "output_type": "stream",
     "text": [
      "Test Statistic:  0.012997141811462054\n",
      "p-value:  0.8261738261738262\n",
      "(200, 6)\n",
      "(200,)\n",
      "Fitted\n"
     ]
    },
    {
     "name": "stderr",
     "output_type": "stream",
     "text": [
      "\n",
      "  6%|████▉                                                                             | 6/100 [03:06<48:51, 31.19s/it]\u001b[A"
     ]
    },
    {
     "name": "stdout",
     "output_type": "stream",
     "text": [
      "Test Statistic:  0.010501446850180618\n",
      "p-value:  0.981018981018981\n",
      "(200, 6)\n",
      "(200,)\n",
      "Fitted\n"
     ]
    },
    {
     "name": "stderr",
     "output_type": "stream",
     "text": [
      "\n",
      "  7%|█████▋                                                                            | 7/100 [03:45<51:57, 33.52s/it]\u001b[A"
     ]
    },
    {
     "name": "stdout",
     "output_type": "stream",
     "text": [
      "Test Statistic:  0.016510179077820264\n",
      "p-value:  0.37162837162837165\n",
      "(200, 6)\n",
      "(200,)\n",
      "Fitted\n"
     ]
    },
    {
     "name": "stderr",
     "output_type": "stream",
     "text": [
      "\n",
      "  8%|██████▌                                                                           | 8/100 [04:19<51:41, 33.71s/it]\u001b[A"
     ]
    },
    {
     "name": "stdout",
     "output_type": "stream",
     "text": [
      "Test Statistic:  0.02412247565077208\n",
      "p-value:  0.052947052947052944\n",
      "(200, 6)\n",
      "(200,)\n",
      "Fitted\n"
     ]
    },
    {
     "name": "stderr",
     "output_type": "stream",
     "text": [
      "\n",
      "  9%|███████▍                                                                          | 9/100 [04:50<49:53, 32.90s/it]\u001b[A"
     ]
    },
    {
     "name": "stdout",
     "output_type": "stream",
     "text": [
      "Test Statistic:  0.023967397423189207\n",
      "p-value:  0.03896103896103896\n",
      "(200, 6)\n",
      "(200,)\n",
      "Fitted\n"
     ]
    },
    {
     "name": "stderr",
     "output_type": "stream",
     "text": [
      "\n",
      " 10%|████████                                                                         | 10/100 [05:20<48:18, 32.20s/it]\u001b[A"
     ]
    },
    {
     "name": "stdout",
     "output_type": "stream",
     "text": [
      "Test Statistic:  0.01442991102514768\n",
      "p-value:  0.6773226773226774\n",
      "(200, 6)\n",
      "(200,)\n",
      "Fitted\n"
     ]
    },
    {
     "name": "stderr",
     "output_type": "stream",
     "text": [
      "\n",
      " 11%|████████▉                                                                        | 11/100 [05:51<47:12, 31.83s/it]\u001b[A"
     ]
    },
    {
     "name": "stdout",
     "output_type": "stream",
     "text": [
      "Test Statistic:  0.017385381732220484\n",
      "p-value:  0.48951048951048953\n",
      "(200, 6)\n",
      "(200,)\n",
      "Fitted\n"
     ]
    },
    {
     "name": "stderr",
     "output_type": "stream",
     "text": [
      "\n",
      " 12%|█████████▋                                                                       | 12/100 [06:22<46:09, 31.48s/it]\u001b[A"
     ]
    },
    {
     "name": "stdout",
     "output_type": "stream",
     "text": [
      "Test Statistic:  0.03204642360810395\n",
      "p-value:  0.007992007992007992\n",
      "(200, 6)\n",
      "(200,)\n",
      "Fitted\n"
     ]
    },
    {
     "name": "stderr",
     "output_type": "stream",
     "text": [
      "\n",
      " 13%|██████████▌                                                                      | 13/100 [06:52<45:14, 31.20s/it]\u001b[A"
     ]
    },
    {
     "name": "stdout",
     "output_type": "stream",
     "text": [
      "Test Statistic:  0.017655552884069725\n",
      "p-value:  0.3546453546453546\n",
      "(200, 6)\n",
      "(200,)\n",
      "Fitted\n"
     ]
    },
    {
     "name": "stderr",
     "output_type": "stream",
     "text": [
      "\n",
      " 14%|███████████▎                                                                     | 14/100 [07:24<44:41, 31.18s/it]\u001b[A"
     ]
    },
    {
     "name": "stdout",
     "output_type": "stream",
     "text": [
      "Test Statistic:  0.009075460620748821\n",
      "p-value:  1.0\n",
      "(200, 6)\n",
      "(200,)\n",
      "Fitted\n"
     ]
    },
    {
     "name": "stderr",
     "output_type": "stream",
     "text": [
      "\n",
      " 15%|████████████▏                                                                    | 15/100 [07:56<44:29, 31.40s/it]\u001b[A"
     ]
    },
    {
     "name": "stdout",
     "output_type": "stream",
     "text": [
      "Test Statistic:  0.009779563167098937\n",
      "p-value:  0.991008991008991\n",
      "(200, 6)\n",
      "(200,)\n",
      "Fitted\n"
     ]
    },
    {
     "name": "stderr",
     "output_type": "stream",
     "text": [
      "\n",
      " 16%|████████████▉                                                                    | 16/100 [08:35<47:31, 33.95s/it]\u001b[A"
     ]
    },
    {
     "name": "stdout",
     "output_type": "stream",
     "text": [
      "Test Statistic:  0.007725727715532815\n",
      "p-value:  1.0\n",
      "(200, 6)\n",
      "(200,)\n",
      "Fitted\n"
     ]
    },
    {
     "name": "stderr",
     "output_type": "stream",
     "text": [
      "\n",
      " 17%|█████████████▊                                                                   | 17/100 [09:08<46:13, 33.42s/it]\u001b[A"
     ]
    },
    {
     "name": "stdout",
     "output_type": "stream",
     "text": [
      "Test Statistic:  0.021953337434313824\n",
      "p-value:  0.13486513486513488\n",
      "(200, 6)\n",
      "(200,)\n",
      "Fitted\n"
     ]
    },
    {
     "name": "stderr",
     "output_type": "stream",
     "text": [
      "\n",
      " 18%|██████████████▌                                                                  | 18/100 [09:39<44:46, 32.76s/it]\u001b[A"
     ]
    },
    {
     "name": "stdout",
     "output_type": "stream",
     "text": [
      "Test Statistic:  0.010687974709929327\n",
      "p-value:  0.975024975024975\n",
      "(200, 6)\n",
      "(200,)\n",
      "Fitted\n"
     ]
    },
    {
     "name": "stderr",
     "output_type": "stream",
     "text": [
      "\n",
      " 19%|███████████████▍                                                                 | 19/100 [10:10<43:41, 32.36s/it]\u001b[A"
     ]
    },
    {
     "name": "stdout",
     "output_type": "stream",
     "text": [
      "Test Statistic:  0.02922760691277637\n",
      "p-value:  0.01098901098901099\n",
      "(200, 6)\n",
      "(200,)\n",
      "Fitted\n"
     ]
    },
    {
     "name": "stderr",
     "output_type": "stream",
     "text": [
      "\n",
      " 20%|████████████████▏                                                                | 20/100 [10:41<42:35, 31.94s/it]\u001b[A"
     ]
    },
    {
     "name": "stdout",
     "output_type": "stream",
     "text": [
      "Test Statistic:  0.018112672858506262\n",
      "p-value:  0.3026973026973027\n",
      "(200, 6)\n",
      "(200,)\n",
      "Fitted\n"
     ]
    },
    {
     "name": "stderr",
     "output_type": "stream",
     "text": [
      "\n",
      " 21%|█████████████████                                                                | 21/100 [11:13<41:51, 31.79s/it]\u001b[A"
     ]
    },
    {
     "name": "stdout",
     "output_type": "stream",
     "text": [
      "Test Statistic:  0.008196273710086799\n",
      "p-value:  1.0\n",
      "(200, 6)\n",
      "(200,)\n",
      "Fitted\n"
     ]
    },
    {
     "name": "stderr",
     "output_type": "stream",
     "text": [
      "\n",
      " 22%|█████████████████▊                                                               | 22/100 [11:44<40:58, 31.51s/it]\u001b[A"
     ]
    },
    {
     "name": "stdout",
     "output_type": "stream",
     "text": [
      "Test Statistic:  0.011778358705137326\n",
      "p-value:  0.945054945054945\n",
      "(200, 6)\n",
      "(200,)\n",
      "Fitted\n"
     ]
    },
    {
     "name": "stderr",
     "output_type": "stream",
     "text": [
      "\n",
      " 23%|██████████████████▋                                                              | 23/100 [12:15<40:20, 31.44s/it]\u001b[A"
     ]
    },
    {
     "name": "stdout",
     "output_type": "stream",
     "text": [
      "Test Statistic:  0.011007416266437753\n",
      "p-value:  0.9690309690309691\n",
      "(200, 6)\n",
      "(200,)\n",
      "Fitted\n"
     ]
    },
    {
     "name": "stderr",
     "output_type": "stream",
     "text": [
      "\n",
      " 24%|███████████████████▍                                                             | 24/100 [12:46<39:52, 31.48s/it]\u001b[A"
     ]
    },
    {
     "name": "stdout",
     "output_type": "stream",
     "text": [
      "Test Statistic:  0.007813904203058497\n",
      "p-value:  1.0\n",
      "(200, 6)\n",
      "(200,)\n",
      "Fitted\n"
     ]
    },
    {
     "name": "stderr",
     "output_type": "stream",
     "text": [
      "\n",
      " 25%|████████████████████▎                                                            | 25/100 [13:18<39:15, 31.41s/it]\u001b[A"
     ]
    },
    {
     "name": "stdout",
     "output_type": "stream",
     "text": [
      "Test Statistic:  0.013035799935555148\n",
      "p-value:  0.8001998001998002\n",
      "(200, 6)\n",
      "(200,)\n",
      "Fitted\n"
     ]
    },
    {
     "name": "stderr",
     "output_type": "stream",
     "text": [
      "\n",
      " 26%|█████████████████████                                                            | 26/100 [13:48<38:28, 31.20s/it]\u001b[A"
     ]
    },
    {
     "name": "stdout",
     "output_type": "stream",
     "text": [
      "Test Statistic:  0.029483068890029718\n",
      "p-value:  0.01998001998001998\n",
      "(200, 6)\n",
      "(200,)\n",
      "Fitted\n"
     ]
    },
    {
     "name": "stderr",
     "output_type": "stream",
     "text": [
      "\n",
      " 27%|█████████████████████▊                                                           | 27/100 [14:19<37:54, 31.16s/it]\u001b[A"
     ]
    },
    {
     "name": "stdout",
     "output_type": "stream",
     "text": [
      "Test Statistic:  0.01594416637645002\n",
      "p-value:  0.4205794205794206\n",
      "(200, 6)\n",
      "(200,)\n",
      "Fitted\n"
     ]
    },
    {
     "name": "stderr",
     "output_type": "stream",
     "text": [
      "\n",
      " 28%|██████████████████████▋                                                          | 28/100 [14:51<37:34, 31.31s/it]\u001b[A"
     ]
    },
    {
     "name": "stdout",
     "output_type": "stream",
     "text": [
      "Test Statistic:  0.008888636982039011\n",
      "p-value:  1.0\n",
      "(200, 6)\n",
      "(200,)\n",
      "Fitted\n"
     ]
    },
    {
     "name": "stderr",
     "output_type": "stream",
     "text": [
      "\n",
      " 29%|███████████████████████▍                                                         | 29/100 [15:22<37:01, 31.28s/it]\u001b[A"
     ]
    },
    {
     "name": "stdout",
     "output_type": "stream",
     "text": [
      "Test Statistic:  0.008546233977692275\n",
      "p-value:  1.0\n",
      "(200, 6)\n",
      "(200,)\n",
      "Fitted\n"
     ]
    },
    {
     "name": "stderr",
     "output_type": "stream",
     "text": [
      "\n",
      " 30%|████████████████████████▎                                                        | 30/100 [15:54<36:36, 31.38s/it]\u001b[A"
     ]
    },
    {
     "name": "stdout",
     "output_type": "stream",
     "text": [
      "Test Statistic:  0.013440370151429515\n",
      "p-value:  0.8321678321678322\n",
      "(200, 6)\n",
      "(200,)\n",
      "Fitted\n"
     ]
    },
    {
     "name": "stderr",
     "output_type": "stream",
     "text": [
      "\n",
      " 31%|█████████████████████████                                                        | 31/100 [16:26<36:15, 31.52s/it]\u001b[A"
     ]
    },
    {
     "name": "stdout",
     "output_type": "stream",
     "text": [
      "Test Statistic:  0.006971951536504761\n",
      "p-value:  1.0\n",
      "(200, 6)\n",
      "(200,)\n",
      "Fitted\n"
     ]
    },
    {
     "name": "stderr",
     "output_type": "stream",
     "text": [
      "\n",
      " 32%|█████████████████████████▉                                                       | 32/100 [16:57<35:39, 31.46s/it]\u001b[A"
     ]
    },
    {
     "name": "stdout",
     "output_type": "stream",
     "text": [
      "Test Statistic:  0.007368349309240685\n",
      "p-value:  1.0\n",
      "(200, 6)\n",
      "(200,)\n",
      "Fitted\n"
     ]
    },
    {
     "name": "stderr",
     "output_type": "stream",
     "text": [
      "\n",
      " 33%|██████████████████████████▋                                                      | 33/100 [17:29<35:18, 31.62s/it]\u001b[A"
     ]
    },
    {
     "name": "stdout",
     "output_type": "stream",
     "text": [
      "Test Statistic:  0.015204429124078822\n",
      "p-value:  0.4955044955044955\n",
      "(200, 6)\n",
      "(200,)\n",
      "Fitted\n"
     ]
    },
    {
     "name": "stderr",
     "output_type": "stream",
     "text": [
      "\n",
      " 34%|███████████████████████████▌                                                     | 34/100 [18:03<35:28, 32.25s/it]\u001b[A"
     ]
    },
    {
     "name": "stdout",
     "output_type": "stream",
     "text": [
      "Test Statistic:  0.007998583424738692\n",
      "p-value:  1.0\n",
      "(200, 6)\n",
      "(200,)\n",
      "Fitted\n"
     ]
    },
    {
     "name": "stderr",
     "output_type": "stream",
     "text": [
      "\n",
      " 35%|████████████████████████████▎                                                    | 35/100 [18:35<35:03, 32.36s/it]\u001b[A"
     ]
    },
    {
     "name": "stdout",
     "output_type": "stream",
     "text": [
      "Test Statistic:  0.019667253410194263\n",
      "p-value:  0.16483516483516483\n",
      "(200, 6)\n",
      "(200,)\n",
      "Fitted\n"
     ]
    },
    {
     "name": "stderr",
     "output_type": "stream",
     "text": [
      "\n",
      " 36%|█████████████████████████████▏                                                   | 36/100 [19:07<34:19, 32.18s/it]\u001b[A"
     ]
    },
    {
     "name": "stdout",
     "output_type": "stream",
     "text": [
      "Test Statistic:  0.00829433052919426\n",
      "p-value:  1.0\n",
      "(200, 6)\n",
      "(200,)\n",
      "Fitted\n"
     ]
    },
    {
     "name": "stderr",
     "output_type": "stream",
     "text": [
      "\n",
      " 37%|█████████████████████████████▉                                                   | 37/100 [19:39<33:34, 31.98s/it]\u001b[A"
     ]
    },
    {
     "name": "stdout",
     "output_type": "stream",
     "text": [
      "Test Statistic:  0.0607777729255734\n",
      "p-value:  0.000999000999000999\n",
      "(200, 6)\n",
      "(200,)\n",
      "Fitted\n"
     ]
    },
    {
     "name": "stderr",
     "output_type": "stream",
     "text": [
      "\n",
      " 38%|██████████████████████████████▊                                                  | 38/100 [20:11<33:18, 32.23s/it]\u001b[A"
     ]
    },
    {
     "name": "stdout",
     "output_type": "stream",
     "text": [
      "Test Statistic:  0.016849912708367998\n",
      "p-value:  0.37462537462537465\n",
      "(200, 6)\n",
      "(200,)\n",
      "Fitted\n"
     ]
    },
    {
     "name": "stderr",
     "output_type": "stream",
     "text": [
      "\n",
      " 39%|███████████████████████████████▌                                                 | 39/100 [20:43<32:38, 32.11s/it]\u001b[A"
     ]
    },
    {
     "name": "stdout",
     "output_type": "stream",
     "text": [
      "Test Statistic:  0.028056969445366398\n",
      "p-value:  0.011988011988011988\n",
      "(200, 6)\n",
      "(200,)\n",
      "Fitted\n"
     ]
    },
    {
     "name": "stderr",
     "output_type": "stream",
     "text": [
      "\n",
      " 40%|████████████████████████████████▍                                                | 40/100 [21:15<31:57, 31.95s/it]\u001b[A"
     ]
    },
    {
     "name": "stdout",
     "output_type": "stream",
     "text": [
      "Test Statistic:  0.008184933971071007\n",
      "p-value:  1.0\n",
      "(200, 6)\n",
      "(200,)\n",
      "Fitted\n"
     ]
    },
    {
     "name": "stderr",
     "output_type": "stream",
     "text": [
      "\n",
      " 41%|█████████████████████████████████▏                                               | 41/100 [21:45<30:57, 31.48s/it]\u001b[A"
     ]
    },
    {
     "name": "stdout",
     "output_type": "stream",
     "text": [
      "Test Statistic:  0.014752188298641333\n",
      "p-value:  0.6463536463536463\n",
      "(200, 6)\n",
      "(200,)\n",
      "Fitted\n"
     ]
    },
    {
     "name": "stderr",
     "output_type": "stream",
     "text": [
      "\n",
      " 42%|██████████████████████████████████                                               | 42/100 [22:16<30:17, 31.34s/it]\u001b[A"
     ]
    },
    {
     "name": "stdout",
     "output_type": "stream",
     "text": [
      "Test Statistic:  0.027527927645360606\n",
      "p-value:  0.03296703296703297\n",
      "(200, 6)\n",
      "(200,)\n",
      "Fitted\n"
     ]
    },
    {
     "name": "stderr",
     "output_type": "stream",
     "text": [
      "\n",
      " 43%|██████████████████████████████████▊                                              | 43/100 [22:46<29:22, 30.93s/it]\u001b[A"
     ]
    },
    {
     "name": "stdout",
     "output_type": "stream",
     "text": [
      "Test Statistic:  0.014242300144420517\n",
      "p-value:  0.6793206793206793\n",
      "(200, 6)\n",
      "(200,)\n",
      "Fitted\n"
     ]
    },
    {
     "name": "stderr",
     "output_type": "stream",
     "text": [
      "\n",
      " 44%|███████████████████████████████████▋                                             | 44/100 [23:18<29:02, 31.12s/it]\u001b[A"
     ]
    },
    {
     "name": "stdout",
     "output_type": "stream",
     "text": [
      "Test Statistic:  0.02603673112589755\n",
      "p-value:  0.028971028971028972\n",
      "(200, 6)\n",
      "(200,)\n",
      "Fitted\n"
     ]
    },
    {
     "name": "stderr",
     "output_type": "stream",
     "text": [
      "\n",
      " 45%|████████████████████████████████████▍                                            | 45/100 [23:49<28:29, 31.08s/it]\u001b[A"
     ]
    },
    {
     "name": "stdout",
     "output_type": "stream",
     "text": [
      "Test Statistic:  0.0069486996224894515\n",
      "p-value:  1.0\n",
      "(200, 6)\n",
      "(200,)\n",
      "Fitted\n"
     ]
    },
    {
     "name": "stderr",
     "output_type": "stream",
     "text": [
      "\n",
      " 46%|█████████████████████████████████████▎                                           | 46/100 [24:20<28:06, 31.23s/it]\u001b[A"
     ]
    },
    {
     "name": "stdout",
     "output_type": "stream",
     "text": [
      "Test Statistic:  0.00798783732296282\n",
      "p-value:  1.0\n",
      "(200, 6)\n",
      "(200,)\n",
      "Fitted\n"
     ]
    },
    {
     "name": "stderr",
     "output_type": "stream",
     "text": [
      "\n",
      " 47%|██████████████████████████████████████                                           | 47/100 [24:52<27:42, 31.36s/it]\u001b[A"
     ]
    },
    {
     "name": "stdout",
     "output_type": "stream",
     "text": [
      "Test Statistic:  0.012322565760804371\n",
      "p-value:  0.8771228771228772\n",
      "(200, 6)\n",
      "(200,)\n",
      "Fitted\n"
     ]
    },
    {
     "name": "stderr",
     "output_type": "stream",
     "text": [
      "\n",
      " 48%|██████████████████████████████████████▉                                          | 48/100 [25:23<27:11, 31.37s/it]\u001b[A"
     ]
    },
    {
     "name": "stdout",
     "output_type": "stream",
     "text": [
      "Test Statistic:  0.012560013044212837\n",
      "p-value:  0.9150849150849151\n",
      "(200, 6)\n",
      "(200,)\n",
      "Fitted\n"
     ]
    },
    {
     "name": "stderr",
     "output_type": "stream",
     "text": [
      "\n",
      " 49%|███████████████████████████████████████▋                                         | 49/100 [25:55<26:42, 31.42s/it]\u001b[A"
     ]
    },
    {
     "name": "stdout",
     "output_type": "stream",
     "text": [
      "Test Statistic:  0.022955998798008803\n",
      "p-value:  0.04895104895104895\n",
      "(200, 6)\n",
      "(200,)\n",
      "Fitted\n"
     ]
    },
    {
     "name": "stderr",
     "output_type": "stream",
     "text": [
      "\n",
      " 50%|████████████████████████████████████████▌                                        | 50/100 [26:27<26:15, 31.52s/it]\u001b[A"
     ]
    },
    {
     "name": "stdout",
     "output_type": "stream",
     "text": [
      "Test Statistic:  0.016516867696957704\n",
      "p-value:  0.3786213786213786\n",
      "(200, 6)\n",
      "(200,)\n",
      "Fitted\n"
     ]
    },
    {
     "name": "stderr",
     "output_type": "stream",
     "text": [
      "\n",
      " 51%|█████████████████████████████████████████▎                                       | 51/100 [26:58<25:47, 31.58s/it]\u001b[A"
     ]
    },
    {
     "name": "stdout",
     "output_type": "stream",
     "text": [
      "Test Statistic:  0.03950389478246996\n",
      "p-value:  0.001998001998001998\n",
      "(200, 6)\n",
      "(200,)\n",
      "Fitted\n"
     ]
    },
    {
     "name": "stderr",
     "output_type": "stream",
     "text": [
      "\n",
      " 52%|██████████████████████████████████████████                                       | 52/100 [27:30<25:11, 31.48s/it]\u001b[A"
     ]
    },
    {
     "name": "stdout",
     "output_type": "stream",
     "text": [
      "Test Statistic:  0.013270800470592481\n",
      "p-value:  0.8881118881118881\n",
      "(200, 6)\n",
      "(200,)\n",
      "Fitted\n"
     ]
    },
    {
     "name": "stderr",
     "output_type": "stream",
     "text": [
      "\n",
      " 53%|██████████████████████████████████████████▉                                      | 53/100 [28:03<25:10, 32.13s/it]\u001b[A"
     ]
    },
    {
     "name": "stdout",
     "output_type": "stream",
     "text": [
      "Test Statistic:  0.017396796571712447\n",
      "p-value:  0.38961038961038963\n",
      "(200, 6)\n",
      "(200,)\n",
      "Fitted\n"
     ]
    },
    {
     "name": "stderr",
     "output_type": "stream",
     "text": [
      "\n",
      " 54%|███████████████████████████████████████████▋                                     | 54/100 [28:36<24:44, 32.28s/it]\u001b[A"
     ]
    },
    {
     "name": "stdout",
     "output_type": "stream",
     "text": [
      "Test Statistic:  0.038122276052559245\n",
      "p-value:  0.001998001998001998\n",
      "(200, 6)\n",
      "(200,)\n",
      "Fitted\n"
     ]
    },
    {
     "name": "stderr",
     "output_type": "stream",
     "text": [
      "\n",
      " 55%|████████████████████████████████████████████▌                                    | 55/100 [29:07<23:56, 31.92s/it]\u001b[A"
     ]
    },
    {
     "name": "stdout",
     "output_type": "stream",
     "text": [
      "Test Statistic:  0.011612869802326453\n",
      "p-value:  0.949050949050949\n",
      "(200, 6)\n",
      "(200,)\n",
      "Fitted\n"
     ]
    },
    {
     "name": "stderr",
     "output_type": "stream",
     "text": [
      "\n",
      " 56%|█████████████████████████████████████████████▎                                   | 56/100 [29:40<23:39, 32.26s/it]\u001b[A"
     ]
    },
    {
     "name": "stdout",
     "output_type": "stream",
     "text": [
      "Test Statistic:  0.01619401576967172\n",
      "p-value:  0.5354645354645354\n",
      "(200, 6)\n",
      "(200,)\n",
      "Fitted\n"
     ]
    },
    {
     "name": "stderr",
     "output_type": "stream",
     "text": [
      "\n",
      " 57%|██████████████████████████████████████████████▏                                  | 57/100 [30:11<22:52, 31.93s/it]\u001b[A"
     ]
    },
    {
     "name": "stdout",
     "output_type": "stream",
     "text": [
      "Test Statistic:  0.03255084425876997\n",
      "p-value:  0.006993006993006993\n",
      "(200, 6)\n",
      "(200,)\n",
      "Fitted\n"
     ]
    },
    {
     "name": "stderr",
     "output_type": "stream",
     "text": [
      "\n",
      " 58%|██████████████████████████████████████████████▉                                  | 58/100 [30:41<21:55, 31.32s/it]\u001b[A"
     ]
    },
    {
     "name": "stdout",
     "output_type": "stream",
     "text": [
      "Test Statistic:  0.011804046322561823\n",
      "p-value:  0.9500499500499501\n",
      "(200, 6)\n",
      "(200,)\n",
      "Fitted\n"
     ]
    },
    {
     "name": "stderr",
     "output_type": "stream",
     "text": [
      "\n",
      " 59%|███████████████████████████████████████████████▊                                 | 59/100 [31:12<21:17, 31.16s/it]\u001b[A"
     ]
    },
    {
     "name": "stdout",
     "output_type": "stream",
     "text": [
      "Test Statistic:  0.022320149178715942\n",
      "p-value:  0.07892107892107893\n",
      "(200, 6)\n",
      "(200,)\n",
      "Fitted\n"
     ]
    },
    {
     "name": "stderr",
     "output_type": "stream",
     "text": [
      "\n",
      " 60%|████████████████████████████████████████████████▌                                | 60/100 [31:44<20:56, 31.40s/it]\u001b[A"
     ]
    },
    {
     "name": "stdout",
     "output_type": "stream",
     "text": [
      "Test Statistic:  0.019033209004752027\n",
      "p-value:  0.1878121878121878\n",
      "(200, 6)\n",
      "(200,)\n",
      "Fitted\n"
     ]
    },
    {
     "name": "stderr",
     "output_type": "stream",
     "text": [
      "\n",
      " 61%|█████████████████████████████████████████████████▍                               | 61/100 [32:14<20:13, 31.13s/it]\u001b[A"
     ]
    },
    {
     "name": "stdout",
     "output_type": "stream",
     "text": [
      "Test Statistic:  0.015596416286558501\n",
      "p-value:  0.4995004995004995\n",
      "(200, 6)\n",
      "(200,)\n",
      "Fitted\n"
     ]
    },
    {
     "name": "stderr",
     "output_type": "stream",
     "text": [
      "\n",
      " 62%|██████████████████████████████████████████████████▏                              | 62/100 [32:44<19:29, 30.79s/it]\u001b[A"
     ]
    },
    {
     "name": "stdout",
     "output_type": "stream",
     "text": [
      "Test Statistic:  0.011136310138196048\n",
      "p-value:  0.9790209790209791\n",
      "(200, 6)\n",
      "(200,)\n",
      "Fitted\n"
     ]
    },
    {
     "name": "stderr",
     "output_type": "stream",
     "text": [
      "\n",
      " 63%|███████████████████████████████████████████████████                              | 63/100 [33:14<18:47, 30.46s/it]\u001b[A"
     ]
    },
    {
     "name": "stdout",
     "output_type": "stream",
     "text": [
      "Test Statistic:  0.009364207491165177\n",
      "p-value:  1.0\n",
      "(200, 6)\n",
      "(200,)\n",
      "Fitted\n"
     ]
    },
    {
     "name": "stderr",
     "output_type": "stream",
     "text": [
      "\n",
      " 64%|███████████████████████████████████████████████████▊                             | 64/100 [33:46<18:29, 30.83s/it]\u001b[A"
     ]
    },
    {
     "name": "stdout",
     "output_type": "stream",
     "text": [
      "Test Statistic:  0.009410698558903308\n",
      "p-value:  0.997002997002997\n",
      "(200, 6)\n",
      "(200,)\n",
      "Fitted\n"
     ]
    },
    {
     "name": "stderr",
     "output_type": "stream",
     "text": [
      "\n",
      " 65%|████████████████████████████████████████████████████▋                            | 65/100 [34:17<18:05, 31.01s/it]\u001b[A"
     ]
    },
    {
     "name": "stdout",
     "output_type": "stream",
     "text": [
      "Test Statistic:  0.010429346118453475\n",
      "p-value:  0.981018981018981\n",
      "(200, 6)\n",
      "(200,)\n",
      "Fitted\n"
     ]
    },
    {
     "name": "stderr",
     "output_type": "stream",
     "text": [
      "\n",
      " 66%|█████████████████████████████████████████████████████▍                           | 66/100 [34:49<17:40, 31.18s/it]\u001b[A"
     ]
    },
    {
     "name": "stdout",
     "output_type": "stream",
     "text": [
      "Test Statistic:  0.017133871748408858\n",
      "p-value:  0.32167832167832167\n",
      "(200, 6)\n",
      "(200,)\n",
      "Fitted\n"
     ]
    },
    {
     "name": "stderr",
     "output_type": "stream",
     "text": [
      "\n",
      " 67%|██████████████████████████████████████████████████████▎                          | 67/100 [35:20<17:12, 31.29s/it]\u001b[A"
     ]
    },
    {
     "name": "stdout",
     "output_type": "stream",
     "text": [
      "Test Statistic:  0.015762590634597173\n",
      "p-value:  0.5074925074925075\n",
      "(200, 6)\n",
      "(200,)\n",
      "Fitted\n"
     ]
    },
    {
     "name": "stderr",
     "output_type": "stream",
     "text": [
      "\n",
      " 68%|███████████████████████████████████████████████████████                          | 68/100 [35:51<16:37, 31.19s/it]\u001b[A"
     ]
    },
    {
     "name": "stdout",
     "output_type": "stream",
     "text": [
      "Test Statistic:  0.03180698180581787\n",
      "p-value:  0.007992007992007992\n",
      "(200, 6)\n",
      "(200,)\n",
      "Fitted\n"
     ]
    },
    {
     "name": "stderr",
     "output_type": "stream",
     "text": [
      "\n",
      " 69%|███████████████████████████████████████████████████████▉                         | 69/100 [36:23<16:10, 31.30s/it]\u001b[A"
     ]
    },
    {
     "name": "stdout",
     "output_type": "stream",
     "text": [
      "Test Statistic:  0.017170567915279378\n",
      "p-value:  0.3946053946053946\n",
      "(200, 6)\n",
      "(200,)\n",
      "Fitted\n"
     ]
    },
    {
     "name": "stderr",
     "output_type": "stream",
     "text": [
      "\n",
      " 70%|████████████████████████████████████████████████████████▋                        | 70/100 [36:53<15:32, 31.10s/it]\u001b[A"
     ]
    },
    {
     "name": "stdout",
     "output_type": "stream",
     "text": [
      "Test Statistic:  0.012251468755677952\n",
      "p-value:  0.8781218781218781\n",
      "(200, 6)\n",
      "(200,)\n",
      "Fitted\n"
     ]
    },
    {
     "name": "stderr",
     "output_type": "stream",
     "text": [
      "\n",
      " 71%|█████████████████████████████████████████████████████████▌                       | 71/100 [37:25<15:03, 31.16s/it]\u001b[A"
     ]
    },
    {
     "name": "stdout",
     "output_type": "stream",
     "text": [
      "Test Statistic:  0.017127729418279336\n",
      "p-value:  0.2947052947052947\n",
      "(200, 6)\n",
      "(200,)\n",
      "Fitted\n"
     ]
    },
    {
     "name": "stderr",
     "output_type": "stream",
     "text": [
      "\n",
      " 72%|██████████████████████████████████████████████████████████▎                      | 72/100 [37:57<14:45, 31.61s/it]\u001b[A"
     ]
    },
    {
     "name": "stdout",
     "output_type": "stream",
     "text": [
      "Test Statistic:  0.01378473578109507\n",
      "p-value:  0.7052947052947053\n",
      "(200, 6)\n",
      "(200,)\n",
      "Fitted\n"
     ]
    },
    {
     "name": "stderr",
     "output_type": "stream",
     "text": [
      "\n",
      " 73%|███████████████████████████████████████████████████████████▏                     | 73/100 [38:38<15:23, 34.20s/it]\u001b[A"
     ]
    },
    {
     "name": "stdout",
     "output_type": "stream",
     "text": [
      "Test Statistic:  0.01319904529836391\n",
      "p-value:  0.7062937062937062\n",
      "(200, 6)\n",
      "(200,)\n",
      "Fitted\n"
     ]
    },
    {
     "name": "stderr",
     "output_type": "stream",
     "text": [
      "\n",
      " 74%|███████████████████████████████████████████████████████████▉                     | 74/100 [39:10<14:35, 33.66s/it]\u001b[A"
     ]
    },
    {
     "name": "stdout",
     "output_type": "stream",
     "text": [
      "Test Statistic:  0.00873468363599117\n",
      "p-value:  1.0\n",
      "(200, 6)\n",
      "(200,)\n",
      "Fitted\n"
     ]
    },
    {
     "name": "stderr",
     "output_type": "stream",
     "text": [
      "\n",
      " 75%|████████████████████████████████████████████████████████████▊                    | 75/100 [39:42<13:45, 33.04s/it]\u001b[A"
     ]
    },
    {
     "name": "stdout",
     "output_type": "stream",
     "text": [
      "Test Statistic:  0.015450387666539167\n",
      "p-value:  0.48151848151848153\n",
      "(200, 6)\n",
      "(200,)\n",
      "Fitted\n"
     ]
    },
    {
     "name": "stderr",
     "output_type": "stream",
     "text": [
      "\n",
      " 76%|█████████████████████████████████████████████████████████████▌                   | 76/100 [40:13<13:00, 32.53s/it]\u001b[A"
     ]
    },
    {
     "name": "stdout",
     "output_type": "stream",
     "text": [
      "Test Statistic:  0.01041289544327706\n",
      "p-value:  0.98001998001998\n",
      "(200, 6)\n",
      "(200,)\n",
      "Fitted\n"
     ]
    },
    {
     "name": "stderr",
     "output_type": "stream",
     "text": [
      "\n",
      " 77%|██████████████████████████████████████████████████████████████▎                  | 77/100 [40:44<12:15, 31.99s/it]\u001b[A"
     ]
    },
    {
     "name": "stdout",
     "output_type": "stream",
     "text": [
      "Test Statistic:  0.014341767997786081\n",
      "p-value:  0.6943056943056943\n",
      "(200, 6)\n",
      "(200,)\n",
      "Fitted\n"
     ]
    },
    {
     "name": "stderr",
     "output_type": "stream",
     "text": [
      "\n",
      " 78%|███████████████████████████████████████████████████████████████▏                 | 78/100 [41:15<11:41, 31.86s/it]\u001b[A"
     ]
    },
    {
     "name": "stdout",
     "output_type": "stream",
     "text": [
      "Test Statistic:  0.011246813668047917\n",
      "p-value:  0.9410589410589411\n",
      "(200, 6)\n",
      "(200,)\n",
      "Fitted\n"
     ]
    },
    {
     "name": "stderr",
     "output_type": "stream",
     "text": [
      "\n",
      " 79%|███████████████████████████████████████████████████████████████▉                 | 79/100 [41:46<11:03, 31.59s/it]\u001b[A"
     ]
    },
    {
     "name": "stdout",
     "output_type": "stream",
     "text": [
      "Test Statistic:  0.02394152212865308\n",
      "p-value:  0.04195804195804196\n",
      "(200, 6)\n",
      "(200,)\n",
      "Fitted\n"
     ]
    },
    {
     "name": "stderr",
     "output_type": "stream",
     "text": [
      "\n",
      " 80%|████████████████████████████████████████████████████████████████▊                | 80/100 [42:18<10:32, 31.64s/it]\u001b[A"
     ]
    },
    {
     "name": "stdout",
     "output_type": "stream",
     "text": [
      "Test Statistic:  0.01630081362484026\n",
      "p-value:  0.46253746253746253\n",
      "(200, 6)\n",
      "(200,)\n",
      "Fitted\n"
     ]
    },
    {
     "name": "stderr",
     "output_type": "stream",
     "text": [
      "\n",
      " 81%|█████████████████████████████████████████████████████████████████▌               | 81/100 [42:49<09:59, 31.57s/it]\u001b[A"
     ]
    },
    {
     "name": "stdout",
     "output_type": "stream",
     "text": [
      "Test Statistic:  0.00640690040895997\n",
      "p-value:  1.0\n",
      "(200, 6)\n",
      "(200,)\n",
      "Fitted\n"
     ]
    },
    {
     "name": "stderr",
     "output_type": "stream",
     "text": [
      "\n",
      " 82%|██████████████████████████████████████████████████████████████████▍              | 82/100 [43:21<09:27, 31.54s/it]\u001b[A"
     ]
    },
    {
     "name": "stdout",
     "output_type": "stream",
     "text": [
      "Test Statistic:  0.010068901638799255\n",
      "p-value:  0.991008991008991\n",
      "(200, 6)\n",
      "(200,)\n",
      "Fitted\n"
     ]
    },
    {
     "name": "stderr",
     "output_type": "stream",
     "text": [
      "\n",
      " 83%|███████████████████████████████████████████████████████████████████▏             | 83/100 [43:53<08:58, 31.66s/it]\u001b[A"
     ]
    },
    {
     "name": "stdout",
     "output_type": "stream",
     "text": [
      "Test Statistic:  0.021560384972797886\n",
      "p-value:  0.08791208791208792\n",
      "(200, 6)\n",
      "(200,)\n",
      "Fitted\n"
     ]
    },
    {
     "name": "stderr",
     "output_type": "stream",
     "text": [
      "\n",
      " 84%|████████████████████████████████████████████████████████████████████             | 84/100 [44:24<08:26, 31.64s/it]\u001b[A"
     ]
    },
    {
     "name": "stdout",
     "output_type": "stream",
     "text": [
      "Test Statistic:  0.013222818696995486\n",
      "p-value:  0.7912087912087912\n",
      "(200, 6)\n",
      "(200,)\n",
      "Fitted\n"
     ]
    },
    {
     "name": "stderr",
     "output_type": "stream",
     "text": [
      "\n",
      " 85%|████████████████████████████████████████████████████████████████████▊            | 85/100 [44:56<07:52, 31.53s/it]\u001b[A"
     ]
    },
    {
     "name": "stdout",
     "output_type": "stream",
     "text": [
      "Test Statistic:  0.08140312979324416\n",
      "p-value:  0.000999000999000999\n",
      "(200, 6)\n",
      "(200,)\n",
      "Fitted\n"
     ]
    },
    {
     "name": "stderr",
     "output_type": "stream",
     "text": [
      "\n",
      " 86%|█████████████████████████████████████████████████████████████████████▋           | 86/100 [45:27<07:21, 31.52s/it]\u001b[A"
     ]
    },
    {
     "name": "stdout",
     "output_type": "stream",
     "text": [
      "Test Statistic:  0.009515420850171208\n",
      "p-value:  0.998001998001998\n",
      "(200, 6)\n",
      "(200,)\n",
      "Fitted\n"
     ]
    },
    {
     "name": "stderr",
     "output_type": "stream",
     "text": [
      "\n",
      " 87%|██████████████████████████████████████████████████████████████████████▍          | 87/100 [45:58<06:48, 31.42s/it]\u001b[A"
     ]
    },
    {
     "name": "stdout",
     "output_type": "stream",
     "text": [
      "Test Statistic:  0.014334522768567504\n",
      "p-value:  0.5824175824175825\n",
      "(200, 6)\n",
      "(200,)\n",
      "Fitted\n"
     ]
    },
    {
     "name": "stderr",
     "output_type": "stream",
     "text": [
      "\n",
      " 88%|███████████████████████████████████████████████████████████████████████▎         | 88/100 [46:30<06:16, 31.34s/it]\u001b[A"
     ]
    },
    {
     "name": "stdout",
     "output_type": "stream",
     "text": [
      "Test Statistic:  0.02972389705657985\n",
      "p-value:  0.011988011988011988\n",
      "(200, 6)\n",
      "(200,)\n",
      "Fitted\n"
     ]
    },
    {
     "name": "stderr",
     "output_type": "stream",
     "text": [
      "\n",
      " 89%|████████████████████████████████████████████████████████████████████████         | 89/100 [47:01<05:45, 31.39s/it]\u001b[A"
     ]
    },
    {
     "name": "stdout",
     "output_type": "stream",
     "text": [
      "Test Statistic:  0.009509860926952829\n",
      "p-value:  0.998001998001998\n",
      "(200, 6)\n",
      "(200,)\n",
      "Fitted\n"
     ]
    },
    {
     "name": "stderr",
     "output_type": "stream",
     "text": [
      "\n",
      " 90%|████████████████████████████████████████████████████████████████████████▉        | 90/100 [47:32<05:12, 31.20s/it]\u001b[A"
     ]
    },
    {
     "name": "stdout",
     "output_type": "stream",
     "text": [
      "Test Statistic:  0.021710107389737887\n",
      "p-value:  0.0999000999000999\n",
      "(200, 6)\n",
      "(200,)\n",
      "Fitted\n"
     ]
    },
    {
     "name": "stderr",
     "output_type": "stream",
     "text": [
      "\n",
      " 91%|█████████████████████████████████████████████████████████████████████████▋       | 91/100 [48:07<04:52, 32.47s/it]\u001b[A"
     ]
    },
    {
     "name": "stdout",
     "output_type": "stream",
     "text": [
      "Test Statistic:  0.01782595313761115\n",
      "p-value:  0.34065934065934067\n",
      "(200, 6)\n",
      "(200,)\n",
      "Fitted\n"
     ]
    },
    {
     "name": "stderr",
     "output_type": "stream",
     "text": [
      "\n",
      " 92%|██████████████████████████████████████████████████████████████████████████▌      | 92/100 [48:39<04:17, 32.20s/it]\u001b[A"
     ]
    },
    {
     "name": "stdout",
     "output_type": "stream",
     "text": [
      "Test Statistic:  0.04226580708146155\n",
      "p-value:  0.000999000999000999\n",
      "(200, 6)\n",
      "(200,)\n",
      "Fitted\n"
     ]
    },
    {
     "name": "stderr",
     "output_type": "stream",
     "text": [
      "\n",
      " 93%|███████████████████████████████████████████████████████████████████████████▎     | 93/100 [49:10<03:43, 31.97s/it]\u001b[A"
     ]
    },
    {
     "name": "stdout",
     "output_type": "stream",
     "text": [
      "Test Statistic:  0.02667581759379345\n",
      "p-value:  0.02197802197802198\n",
      "(200, 6)\n",
      "(200,)\n",
      "Fitted\n"
     ]
    },
    {
     "name": "stderr",
     "output_type": "stream",
     "text": [
      "\n",
      " 94%|████████████████████████████████████████████████████████████████████████████▏    | 94/100 [49:42<03:11, 31.88s/it]\u001b[A"
     ]
    },
    {
     "name": "stdout",
     "output_type": "stream",
     "text": [
      "Test Statistic:  0.014525614171653656\n",
      "p-value:  0.47052947052947053\n",
      "(200, 6)\n",
      "(200,)\n",
      "Fitted\n"
     ]
    },
    {
     "name": "stderr",
     "output_type": "stream",
     "text": [
      "\n",
      " 95%|████████████████████████████████████████████████████████████████████████████▉    | 95/100 [50:13<02:37, 31.58s/it]\u001b[A"
     ]
    },
    {
     "name": "stdout",
     "output_type": "stream",
     "text": [
      "Test Statistic:  0.019760832181575316\n",
      "p-value:  0.15884115884115885\n",
      "(200, 6)\n",
      "(200,)\n",
      "Fitted\n"
     ]
    },
    {
     "name": "stderr",
     "output_type": "stream",
     "text": [
      "\n",
      " 96%|█████████████████████████████████████████████████████████████████████████████▊   | 96/100 [50:44<02:05, 31.44s/it]\u001b[A"
     ]
    },
    {
     "name": "stdout",
     "output_type": "stream",
     "text": [
      "Test Statistic:  0.0531877250926821\n",
      "p-value:  0.000999000999000999\n",
      "(200, 6)\n",
      "(200,)\n",
      "Fitted\n"
     ]
    },
    {
     "name": "stderr",
     "output_type": "stream",
     "text": [
      "\n",
      " 97%|██████████████████████████████████████████████████████████████████████████████▌  | 97/100 [51:15<01:34, 31.34s/it]\u001b[A"
     ]
    },
    {
     "name": "stdout",
     "output_type": "stream",
     "text": [
      "Test Statistic:  0.01688906918144717\n",
      "p-value:  0.34165834165834164\n",
      "(200, 6)\n",
      "(200,)\n",
      "Fitted\n"
     ]
    },
    {
     "name": "stderr",
     "output_type": "stream",
     "text": [
      "\n",
      " 98%|███████████████████████████████████████████████████████████████████████████████▍ | 98/100 [51:47<01:02, 31.41s/it]\u001b[A"
     ]
    },
    {
     "name": "stdout",
     "output_type": "stream",
     "text": [
      "Test Statistic:  0.017840219919104006\n",
      "p-value:  0.36663336663336665\n",
      "(200, 6)\n",
      "(200,)\n",
      "Fitted\n"
     ]
    },
    {
     "name": "stderr",
     "output_type": "stream",
     "text": [
      "\n",
      " 99%|████████████████████████████████████████████████████████████████████████████████▏| 99/100 [52:18<00:31, 31.43s/it]\u001b[A"
     ]
    },
    {
     "name": "stdout",
     "output_type": "stream",
     "text": [
      "Test Statistic:  0.013650101862523134\n",
      "p-value:  0.7142857142857143\n",
      "(200, 6)\n",
      "(200,)\n",
      "Fitted\n"
     ]
    },
    {
     "name": "stderr",
     "output_type": "stream",
     "text": [
      "\n",
      "100%|████████████████████████████████████████████████████████████████████████████████| 100/100 [52:49<00:00, 31.70s/it]\u001b[A\n",
      " 15%|███████████▍                                                                | 3/20 [2:38:11<14:54:23, 3156.68s/it]\n",
      "  0%|                                                                                          | 0/100 [00:00<?, ?it/s]\u001b[A"
     ]
    },
    {
     "name": "stdout",
     "output_type": "stream",
     "text": [
      "Test Statistic:  0.012613705034189682\n",
      "p-value:  0.8821178821178821\n",
      "dimension 4\n",
      "circle\n",
      "(200, 8)\n",
      "(200,)\n",
      "Fitted\n"
     ]
    },
    {
     "name": "stderr",
     "output_type": "stream",
     "text": [
      "\n",
      "  1%|▊                                                                                 | 1/100 [00:30<51:06, 30.97s/it]\u001b[A"
     ]
    },
    {
     "name": "stdout",
     "output_type": "stream",
     "text": [
      "Test Statistic:  0.010318061230287667\n",
      "p-value:  0.9330669330669331\n",
      "(200, 8)\n",
      "(200,)\n",
      "Fitted\n"
     ]
    },
    {
     "name": "stderr",
     "output_type": "stream",
     "text": [
      "\n",
      "  2%|█▋                                                                                | 2/100 [01:02<50:46, 31.09s/it]\u001b[A"
     ]
    },
    {
     "name": "stdout",
     "output_type": "stream",
     "text": [
      "Test Statistic:  0.006389234978938951\n",
      "p-value:  1.0\n",
      "(200, 8)\n",
      "(200,)\n",
      "Fitted\n"
     ]
    },
    {
     "name": "stderr",
     "output_type": "stream",
     "text": [
      "\n",
      "  3%|██▍                                                                               | 3/100 [01:33<50:19, 31.13s/it]\u001b[A"
     ]
    },
    {
     "name": "stdout",
     "output_type": "stream",
     "text": [
      "Test Statistic:  0.01009695258660015\n",
      "p-value:  0.9330669330669331\n",
      "(200, 8)\n",
      "(200,)\n",
      "Fitted\n"
     ]
    },
    {
     "name": "stderr",
     "output_type": "stream",
     "text": [
      "\n",
      "  4%|███▎                                                                              | 4/100 [02:05<50:04, 31.29s/it]\u001b[A"
     ]
    },
    {
     "name": "stdout",
     "output_type": "stream",
     "text": [
      "Test Statistic:  0.01713793070236358\n",
      "p-value:  0.24375624375624375\n",
      "(200, 8)\n",
      "(200,)\n",
      "Fitted\n"
     ]
    },
    {
     "name": "stderr",
     "output_type": "stream",
     "text": [
      "\n",
      "  5%|████                                                                              | 5/100 [02:37<49:58, 31.56s/it]\u001b[A"
     ]
    },
    {
     "name": "stdout",
     "output_type": "stream",
     "text": [
      "Test Statistic:  0.012494106893852663\n",
      "p-value:  0.7352647352647352\n",
      "(200, 8)\n",
      "(200,)\n",
      "Fitted\n"
     ]
    },
    {
     "name": "stderr",
     "output_type": "stream",
     "text": [
      "\n",
      "  6%|████▉                                                                             | 6/100 [03:08<49:22, 31.52s/it]\u001b[A"
     ]
    },
    {
     "name": "stdout",
     "output_type": "stream",
     "text": [
      "Test Statistic:  0.008932296450359978\n",
      "p-value:  0.9790209790209791\n",
      "(200, 8)\n",
      "(200,)\n",
      "Fitted\n"
     ]
    },
    {
     "name": "stderr",
     "output_type": "stream",
     "text": [
      "\n",
      "  7%|█████▋                                                                            | 7/100 [03:40<48:50, 31.51s/it]\u001b[A"
     ]
    },
    {
     "name": "stdout",
     "output_type": "stream",
     "text": [
      "Test Statistic:  0.005241295460463813\n",
      "p-value:  1.0\n",
      "(200, 8)\n",
      "(200,)\n",
      "Fitted\n"
     ]
    },
    {
     "name": "stderr",
     "output_type": "stream",
     "text": [
      "\n",
      "  8%|██████▌                                                                           | 8/100 [04:11<48:12, 31.44s/it]\u001b[A"
     ]
    },
    {
     "name": "stdout",
     "output_type": "stream",
     "text": [
      "Test Statistic:  0.012440756533281583\n",
      "p-value:  0.7382617382617382\n",
      "(200, 8)\n",
      "(200,)\n",
      "Fitted\n"
     ]
    },
    {
     "name": "stderr",
     "output_type": "stream",
     "text": [
      "\n",
      "  9%|███████▍                                                                          | 9/100 [04:42<47:34, 31.37s/it]\u001b[A"
     ]
    },
    {
     "name": "stdout",
     "output_type": "stream",
     "text": [
      "Test Statistic:  0.014401179379445406\n",
      "p-value:  0.4435564435564436\n",
      "(200, 8)\n",
      "(200,)\n",
      "Fitted\n"
     ]
    },
    {
     "name": "stderr",
     "output_type": "stream",
     "text": [
      "\n",
      " 10%|████████                                                                         | 10/100 [05:16<48:15, 32.17s/it]\u001b[A"
     ]
    },
    {
     "name": "stdout",
     "output_type": "stream",
     "text": [
      "Test Statistic:  0.008958414839173812\n",
      "p-value:  0.995004995004995\n",
      "(200, 8)\n",
      "(200,)\n",
      "Fitted\n"
     ]
    },
    {
     "name": "stderr",
     "output_type": "stream",
     "text": [
      "\n",
      " 11%|████████▉                                                                        | 11/100 [05:48<47:32, 32.05s/it]\u001b[A"
     ]
    },
    {
     "name": "stdout",
     "output_type": "stream",
     "text": [
      "Test Statistic:  0.012302937535454084\n",
      "p-value:  0.6573426573426573\n",
      "(200, 8)\n",
      "(200,)\n",
      "Fitted\n"
     ]
    },
    {
     "name": "stderr",
     "output_type": "stream",
     "text": [
      "\n",
      " 12%|█████████▋                                                                       | 12/100 [06:20<46:43, 31.85s/it]\u001b[A"
     ]
    },
    {
     "name": "stdout",
     "output_type": "stream",
     "text": [
      "Test Statistic:  0.008127465259698985\n",
      "p-value:  0.999000999000999\n",
      "(200, 8)\n",
      "(200,)\n",
      "Fitted\n"
     ]
    },
    {
     "name": "stderr",
     "output_type": "stream",
     "text": [
      "\n",
      " 13%|██████████▌                                                                      | 13/100 [06:51<45:56, 31.68s/it]\u001b[A"
     ]
    },
    {
     "name": "stdout",
     "output_type": "stream",
     "text": [
      "Test Statistic:  0.009188628354290684\n",
      "p-value:  0.978021978021978\n",
      "(200, 8)\n",
      "(200,)\n",
      "Fitted\n"
     ]
    },
    {
     "name": "stderr",
     "output_type": "stream",
     "text": [
      "\n",
      " 14%|███████████▎                                                                     | 14/100 [07:22<45:03, 31.43s/it]\u001b[A"
     ]
    },
    {
     "name": "stdout",
     "output_type": "stream",
     "text": [
      "Test Statistic:  0.00967848121192083\n",
      "p-value:  0.962037962037962\n",
      "(200, 8)\n",
      "(200,)\n",
      "Fitted\n"
     ]
    },
    {
     "name": "stderr",
     "output_type": "stream",
     "text": [
      "\n",
      " 15%|████████████▏                                                                    | 15/100 [07:52<44:07, 31.15s/it]\u001b[A"
     ]
    },
    {
     "name": "stdout",
     "output_type": "stream",
     "text": [
      "Test Statistic:  0.017709336224932426\n",
      "p-value:  0.2087912087912088\n",
      "(200, 8)\n",
      "(200,)\n",
      "Fitted\n"
     ]
    },
    {
     "name": "stderr",
     "output_type": "stream",
     "text": [
      "\n",
      " 16%|████████████▉                                                                    | 16/100 [08:23<43:39, 31.18s/it]\u001b[A"
     ]
    },
    {
     "name": "stdout",
     "output_type": "stream",
     "text": [
      "Test Statistic:  0.008628316157714533\n",
      "p-value:  0.994005994005994\n",
      "(200, 8)\n",
      "(200,)\n",
      "Fitted\n"
     ]
    },
    {
     "name": "stderr",
     "output_type": "stream",
     "text": [
      "\n",
      " 17%|█████████████▊                                                                   | 17/100 [08:54<42:56, 31.04s/it]\u001b[A"
     ]
    },
    {
     "name": "stdout",
     "output_type": "stream",
     "text": [
      "Test Statistic:  0.006679132427679035\n",
      "p-value:  1.0\n",
      "(200, 8)\n",
      "(200,)\n",
      "Fitted\n"
     ]
    },
    {
     "name": "stderr",
     "output_type": "stream",
     "text": [
      "\n",
      " 18%|██████████████▌                                                                  | 18/100 [09:26<42:41, 31.24s/it]\u001b[A"
     ]
    },
    {
     "name": "stdout",
     "output_type": "stream",
     "text": [
      "Test Statistic:  0.015848306856601435\n",
      "p-value:  0.26673326673326675\n",
      "(200, 8)\n",
      "(200,)\n",
      "Fitted\n"
     ]
    },
    {
     "name": "stderr",
     "output_type": "stream",
     "text": [
      "\n",
      " 19%|███████████████▍                                                                 | 19/100 [10:01<43:55, 32.53s/it]\u001b[A"
     ]
    },
    {
     "name": "stdout",
     "output_type": "stream",
     "text": [
      "Test Statistic:  0.01264391736837367\n",
      "p-value:  0.5144855144855145\n",
      "(200, 8)\n",
      "(200,)\n",
      "Fitted\n"
     ]
    },
    {
     "name": "stderr",
     "output_type": "stream",
     "text": [
      "\n",
      " 20%|████████████████▏                                                                | 20/100 [10:34<43:18, 32.48s/it]\u001b[A"
     ]
    },
    {
     "name": "stdout",
     "output_type": "stream",
     "text": [
      "Test Statistic:  0.005098952265870871\n",
      "p-value:  1.0\n",
      "(200, 8)\n",
      "(200,)\n",
      "Fitted\n"
     ]
    },
    {
     "name": "stderr",
     "output_type": "stream",
     "text": [
      "\n",
      " 21%|█████████████████                                                                | 21/100 [11:06<42:31, 32.30s/it]\u001b[A"
     ]
    },
    {
     "name": "stdout",
     "output_type": "stream",
     "text": [
      "Test Statistic:  0.032353716501911545\n",
      "p-value:  0.001998001998001998\n",
      "(200, 8)\n",
      "(200,)\n",
      "Fitted\n"
     ]
    },
    {
     "name": "stderr",
     "output_type": "stream",
     "text": [
      "\n",
      " 22%|█████████████████▊                                                               | 22/100 [11:37<41:33, 31.97s/it]\u001b[A"
     ]
    },
    {
     "name": "stdout",
     "output_type": "stream",
     "text": [
      "Test Statistic:  0.009742288452514014\n",
      "p-value:  0.9690309690309691\n",
      "(200, 8)\n",
      "(200,)\n",
      "Fitted\n"
     ]
    },
    {
     "name": "stderr",
     "output_type": "stream",
     "text": [
      "\n",
      " 23%|██████████████████▋                                                              | 23/100 [12:07<40:20, 31.44s/it]\u001b[A"
     ]
    },
    {
     "name": "stdout",
     "output_type": "stream",
     "text": [
      "Test Statistic:  0.02396355637793346\n",
      "p-value:  0.03196803196803197\n",
      "(200, 8)\n",
      "(200,)\n",
      "Fitted\n"
     ]
    },
    {
     "name": "stderr",
     "output_type": "stream",
     "text": [
      "\n",
      " 24%|███████████████████▍                                                             | 24/100 [12:39<40:07, 31.68s/it]\u001b[A"
     ]
    },
    {
     "name": "stdout",
     "output_type": "stream",
     "text": [
      "Test Statistic:  0.01131382269194936\n",
      "p-value:  0.8491508491508492\n",
      "(200, 8)\n",
      "(200,)\n",
      "Fitted\n"
     ]
    },
    {
     "name": "stderr",
     "output_type": "stream",
     "text": [
      "\n",
      " 25%|████████████████████▎                                                            | 25/100 [13:11<39:31, 31.62s/it]\u001b[A"
     ]
    },
    {
     "name": "stdout",
     "output_type": "stream",
     "text": [
      "Test Statistic:  0.00946690041438969\n",
      "p-value:  0.99000999000999\n",
      "(200, 8)\n",
      "(200,)\n",
      "Fitted\n"
     ]
    },
    {
     "name": "stderr",
     "output_type": "stream",
     "text": [
      "\n",
      " 26%|█████████████████████                                                            | 26/100 [13:41<38:31, 31.24s/it]\u001b[A"
     ]
    },
    {
     "name": "stdout",
     "output_type": "stream",
     "text": [
      "Test Statistic:  0.007418918105027039\n",
      "p-value:  1.0\n",
      "(200, 8)\n",
      "(200,)\n",
      "Fitted\n"
     ]
    },
    {
     "name": "stderr",
     "output_type": "stream",
     "text": [
      "\n",
      " 27%|█████████████████████▊                                                           | 27/100 [14:13<38:07, 31.34s/it]\u001b[A"
     ]
    },
    {
     "name": "stdout",
     "output_type": "stream",
     "text": [
      "Test Statistic:  0.011786311556848839\n",
      "p-value:  0.7712287712287712\n",
      "(200, 8)\n",
      "(200,)\n",
      "Fitted\n"
     ]
    },
    {
     "name": "stderr",
     "output_type": "stream",
     "text": [
      "\n",
      " 28%|██████████████████████▋                                                          | 28/100 [14:44<37:34, 31.31s/it]\u001b[A"
     ]
    },
    {
     "name": "stdout",
     "output_type": "stream",
     "text": [
      "Test Statistic:  0.009652837758123867\n",
      "p-value:  0.949050949050949\n",
      "(200, 8)\n",
      "(200,)\n",
      "Fitted\n"
     ]
    },
    {
     "name": "stderr",
     "output_type": "stream",
     "text": [
      "\n",
      " 29%|███████████████████████▍                                                         | 29/100 [15:24<40:06, 33.90s/it]\u001b[A"
     ]
    },
    {
     "name": "stdout",
     "output_type": "stream",
     "text": [
      "Test Statistic:  0.021941026079066783\n",
      "p-value:  0.030969030969030968\n",
      "(200, 8)\n",
      "(200,)\n",
      "Fitted\n"
     ]
    },
    {
     "name": "stderr",
     "output_type": "stream",
     "text": [
      "\n",
      " 30%|████████████████████████▎                                                        | 30/100 [15:54<38:23, 32.91s/it]\u001b[A"
     ]
    },
    {
     "name": "stdout",
     "output_type": "stream",
     "text": [
      "Test Statistic:  0.011867415786084301\n",
      "p-value:  0.7552447552447552\n",
      "(200, 8)\n",
      "(200,)\n",
      "Fitted\n"
     ]
    },
    {
     "name": "stderr",
     "output_type": "stream",
     "text": [
      "\n",
      " 31%|█████████████████████████                                                        | 31/100 [16:25<36:57, 32.14s/it]\u001b[A"
     ]
    },
    {
     "name": "stdout",
     "output_type": "stream",
     "text": [
      "Test Statistic:  0.0207504258334682\n",
      "p-value:  0.08591408591408592\n",
      "(200, 8)\n",
      "(200,)\n",
      "Fitted\n"
     ]
    },
    {
     "name": "stderr",
     "output_type": "stream",
     "text": [
      "\n",
      " 32%|█████████████████████████▉                                                       | 32/100 [16:56<35:58, 31.75s/it]\u001b[A"
     ]
    },
    {
     "name": "stdout",
     "output_type": "stream",
     "text": [
      "Test Statistic:  0.011413333004472004\n",
      "p-value:  0.8551448551448552\n",
      "(200, 8)\n",
      "(200,)\n",
      "Fitted\n"
     ]
    },
    {
     "name": "stderr",
     "output_type": "stream",
     "text": [
      "\n",
      " 33%|██████████████████████████▋                                                      | 33/100 [17:26<35:07, 31.46s/it]\u001b[A"
     ]
    },
    {
     "name": "stdout",
     "output_type": "stream",
     "text": [
      "Test Statistic:  0.02041604963069288\n",
      "p-value:  0.07292707292707293\n",
      "(200, 8)\n",
      "(200,)\n",
      "Fitted\n"
     ]
    },
    {
     "name": "stderr",
     "output_type": "stream",
     "text": [
      "\n",
      " 34%|███████████████████████████▌                                                     | 34/100 [17:57<34:29, 31.35s/it]\u001b[A"
     ]
    },
    {
     "name": "stdout",
     "output_type": "stream",
     "text": [
      "Test Statistic:  0.015748405951544475\n",
      "p-value:  0.23776223776223776\n",
      "(200, 8)\n",
      "(200,)\n",
      "Fitted\n"
     ]
    },
    {
     "name": "stderr",
     "output_type": "stream",
     "text": [
      "\n",
      " 35%|████████████████████████████▎                                                    | 35/100 [18:29<34:09, 31.52s/it]\u001b[A"
     ]
    },
    {
     "name": "stdout",
     "output_type": "stream",
     "text": [
      "Test Statistic:  0.013320876208084198\n",
      "p-value:  0.45354645354645357\n",
      "(200, 8)\n",
      "(200,)\n",
      "Fitted\n"
     ]
    },
    {
     "name": "stderr",
     "output_type": "stream",
     "text": [
      "\n",
      " 36%|█████████████████████████████▏                                                   | 36/100 [19:01<33:32, 31.44s/it]\u001b[A"
     ]
    },
    {
     "name": "stdout",
     "output_type": "stream",
     "text": [
      "Test Statistic:  0.03367610477866401\n",
      "p-value:  0.001998001998001998\n",
      "(200, 8)\n",
      "(200,)\n",
      "Fitted\n"
     ]
    },
    {
     "name": "stderr",
     "output_type": "stream",
     "text": [
      "\n",
      " 37%|█████████████████████████████▉                                                   | 37/100 [19:32<33:00, 31.44s/it]\u001b[A"
     ]
    },
    {
     "name": "stdout",
     "output_type": "stream",
     "text": [
      "Test Statistic:  0.006737675100482621\n",
      "p-value:  1.0\n",
      "(200, 8)\n",
      "(200,)\n",
      "Fitted\n"
     ]
    },
    {
     "name": "stderr",
     "output_type": "stream",
     "text": [
      "\n",
      " 38%|██████████████████████████████▊                                                  | 38/100 [20:03<32:28, 31.43s/it]\u001b[A"
     ]
    },
    {
     "name": "stdout",
     "output_type": "stream",
     "text": [
      "Test Statistic:  0.011363092771287997\n",
      "p-value:  0.8331668331668332\n",
      "(200, 8)\n",
      "(200,)\n",
      "Fitted\n"
     ]
    },
    {
     "name": "stderr",
     "output_type": "stream",
     "text": [
      "\n",
      " 39%|███████████████████████████████▌                                                 | 39/100 [20:35<32:03, 31.53s/it]\u001b[A"
     ]
    },
    {
     "name": "stdout",
     "output_type": "stream",
     "text": [
      "Test Statistic:  0.009776161623963553\n",
      "p-value:  0.938061938061938\n",
      "(200, 8)\n",
      "(200,)\n",
      "Fitted\n"
     ]
    },
    {
     "name": "stderr",
     "output_type": "stream",
     "text": [
      "\n",
      " 40%|████████████████████████████████▍                                                | 40/100 [21:06<31:11, 31.19s/it]\u001b[A"
     ]
    },
    {
     "name": "stdout",
     "output_type": "stream",
     "text": [
      "Test Statistic:  0.014917152978166981\n",
      "p-value:  0.37162837162837165\n",
      "(200, 8)\n",
      "(200,)\n",
      "Fitted\n"
     ]
    },
    {
     "name": "stderr",
     "output_type": "stream",
     "text": [
      "\n",
      " 41%|█████████████████████████████████▏                                               | 41/100 [21:36<30:33, 31.07s/it]\u001b[A"
     ]
    },
    {
     "name": "stdout",
     "output_type": "stream",
     "text": [
      "Test Statistic:  0.012696719701818404\n",
      "p-value:  0.7292707292707292\n",
      "(200, 8)\n",
      "(200,)\n",
      "Fitted\n"
     ]
    },
    {
     "name": "stderr",
     "output_type": "stream",
     "text": [
      "\n",
      " 42%|██████████████████████████████████                                               | 42/100 [22:07<29:56, 30.97s/it]\u001b[A"
     ]
    },
    {
     "name": "stdout",
     "output_type": "stream",
     "text": [
      "Test Statistic:  0.005575519688365338\n",
      "p-value:  1.0\n",
      "(200, 8)\n",
      "(200,)\n",
      "Fitted\n"
     ]
    },
    {
     "name": "stderr",
     "output_type": "stream",
     "text": [
      "\n",
      " 43%|██████████████████████████████████▊                                              | 43/100 [22:38<29:14, 30.79s/it]\u001b[A"
     ]
    },
    {
     "name": "stdout",
     "output_type": "stream",
     "text": [
      "Test Statistic:  0.011774430722613638\n",
      "p-value:  0.8021978021978022\n",
      "(200, 8)\n",
      "(200,)\n",
      "Fitted\n"
     ]
    },
    {
     "name": "stderr",
     "output_type": "stream",
     "text": [
      "\n",
      " 44%|███████████████████████████████████▋                                             | 44/100 [23:09<29:01, 31.10s/it]\u001b[A"
     ]
    },
    {
     "name": "stdout",
     "output_type": "stream",
     "text": [
      "Test Statistic:  0.004840915169339266\n",
      "p-value:  1.0\n",
      "(200, 8)\n",
      "(200,)\n",
      "Fitted\n"
     ]
    },
    {
     "name": "stderr",
     "output_type": "stream",
     "text": [
      "\n",
      " 45%|████████████████████████████████████▍                                            | 45/100 [23:40<28:18, 30.89s/it]\u001b[A"
     ]
    },
    {
     "name": "stdout",
     "output_type": "stream",
     "text": [
      "Test Statistic:  0.009338741318256183\n",
      "p-value:  0.9760239760239761\n",
      "(200, 8)\n",
      "(200,)\n",
      "Fitted\n"
     ]
    },
    {
     "name": "stderr",
     "output_type": "stream",
     "text": [
      "\n",
      " 46%|█████████████████████████████████████▎                                           | 46/100 [24:11<27:48, 30.89s/it]\u001b[A"
     ]
    },
    {
     "name": "stdout",
     "output_type": "stream",
     "text": [
      "Test Statistic:  0.013002417707364322\n",
      "p-value:  0.6203796203796204\n",
      "(200, 8)\n",
      "(200,)\n",
      "Fitted\n"
     ]
    },
    {
     "name": "stderr",
     "output_type": "stream",
     "text": [
      "\n",
      " 47%|██████████████████████████████████████                                           | 47/100 [24:41<27:13, 30.82s/it]\u001b[A"
     ]
    },
    {
     "name": "stdout",
     "output_type": "stream",
     "text": [
      "Test Statistic:  0.020074385307033316\n",
      "p-value:  0.08791208791208792\n",
      "(200, 8)\n",
      "(200,)\n",
      "Fitted\n"
     ]
    },
    {
     "name": "stderr",
     "output_type": "stream",
     "text": [
      "\n",
      " 48%|██████████████████████████████████████▉                                          | 48/100 [25:18<28:16, 32.62s/it]\u001b[A"
     ]
    },
    {
     "name": "stdout",
     "output_type": "stream",
     "text": [
      "Test Statistic:  0.005998552704612914\n",
      "p-value:  1.0\n",
      "(200, 8)\n",
      "(200,)\n",
      "Fitted\n"
     ]
    },
    {
     "name": "stderr",
     "output_type": "stream",
     "text": [
      "\n",
      " 49%|███████████████████████████████████████▋                                         | 49/100 [25:49<27:20, 32.16s/it]\u001b[A"
     ]
    },
    {
     "name": "stdout",
     "output_type": "stream",
     "text": [
      "Test Statistic:  0.010701817170645\n",
      "p-value:  0.8761238761238761\n",
      "(200, 8)\n",
      "(200,)\n",
      "Fitted\n"
     ]
    },
    {
     "name": "stderr",
     "output_type": "stream",
     "text": [
      "\n",
      " 50%|████████████████████████████████████████▌                                        | 50/100 [26:21<26:34, 31.90s/it]\u001b[A"
     ]
    },
    {
     "name": "stdout",
     "output_type": "stream",
     "text": [
      "Test Statistic:  0.013363428374672415\n",
      "p-value:  0.6243756243756243\n",
      "(200, 8)\n",
      "(200,)\n",
      "Fitted\n"
     ]
    },
    {
     "name": "stderr",
     "output_type": "stream",
     "text": [
      "\n",
      " 51%|█████████████████████████████████████████▎                                       | 51/100 [26:51<25:46, 31.56s/it]\u001b[A"
     ]
    },
    {
     "name": "stdout",
     "output_type": "stream",
     "text": [
      "Test Statistic:  0.014299807579055024\n",
      "p-value:  0.4085914085914086\n",
      "(200, 8)\n",
      "(200,)\n",
      "Fitted\n"
     ]
    },
    {
     "name": "stderr",
     "output_type": "stream",
     "text": [
      "\n",
      " 52%|██████████████████████████████████████████                                       | 52/100 [27:23<25:10, 31.48s/it]\u001b[A"
     ]
    },
    {
     "name": "stdout",
     "output_type": "stream",
     "text": [
      "Test Statistic:  0.027985174427030968\n",
      "p-value:  0.01098901098901099\n",
      "(200, 8)\n",
      "(200,)\n",
      "Fitted\n"
     ]
    },
    {
     "name": "stderr",
     "output_type": "stream",
     "text": [
      "\n",
      " 53%|██████████████████████████████████████████▉                                      | 53/100 [27:54<24:35, 31.39s/it]\u001b[A"
     ]
    },
    {
     "name": "stdout",
     "output_type": "stream",
     "text": [
      "Test Statistic:  0.008574043823439959\n",
      "p-value:  0.997002997002997\n",
      "(200, 8)\n",
      "(200,)\n",
      "Fitted\n"
     ]
    },
    {
     "name": "stderr",
     "output_type": "stream",
     "text": [
      "\n",
      " 54%|███████████████████████████████████████████▋                                     | 54/100 [28:26<24:14, 31.61s/it]\u001b[A"
     ]
    },
    {
     "name": "stdout",
     "output_type": "stream",
     "text": [
      "Test Statistic:  0.01272635052090143\n",
      "p-value:  0.6763236763236763\n",
      "(200, 8)\n",
      "(200,)\n",
      "Fitted\n"
     ]
    },
    {
     "name": "stderr",
     "output_type": "stream",
     "text": [
      "\n",
      " 55%|████████████████████████████████████████████▌                                    | 55/100 [28:57<23:38, 31.51s/it]\u001b[A"
     ]
    },
    {
     "name": "stdout",
     "output_type": "stream",
     "text": [
      "Test Statistic:  0.037090854505348214\n",
      "p-value:  0.000999000999000999\n",
      "(200, 8)\n",
      "(200,)\n",
      "Fitted\n"
     ]
    },
    {
     "name": "stderr",
     "output_type": "stream",
     "text": [
      "\n",
      " 56%|█████████████████████████████████████████████▎                                   | 56/100 [29:28<23:01, 31.39s/it]\u001b[A"
     ]
    },
    {
     "name": "stdout",
     "output_type": "stream",
     "text": [
      "Test Statistic:  0.012630368726879393\n",
      "p-value:  0.7602397602397603\n",
      "(200, 8)\n",
      "(200,)\n",
      "Fitted\n"
     ]
    },
    {
     "name": "stderr",
     "output_type": "stream",
     "text": [
      "\n",
      " 57%|██████████████████████████████████████████████▏                                  | 57/100 [30:00<22:29, 31.37s/it]\u001b[A"
     ]
    },
    {
     "name": "stdout",
     "output_type": "stream",
     "text": [
      "Test Statistic:  0.025292496527816066\n",
      "p-value:  0.006993006993006993\n",
      "(200, 8)\n",
      "(200,)\n",
      "Fitted\n"
     ]
    },
    {
     "name": "stderr",
     "output_type": "stream",
     "text": [
      "\n",
      " 58%|██████████████████████████████████████████████▉                                  | 58/100 [30:31<21:59, 31.42s/it]\u001b[A"
     ]
    },
    {
     "name": "stdout",
     "output_type": "stream",
     "text": [
      "Test Statistic:  0.00855882777446848\n",
      "p-value:  0.985014985014985\n",
      "(200, 8)\n",
      "(200,)\n",
      "Fitted\n"
     ]
    },
    {
     "name": "stderr",
     "output_type": "stream",
     "text": [
      "\n",
      " 59%|███████████████████████████████████████████████▊                                 | 59/100 [31:02<21:19, 31.21s/it]\u001b[A"
     ]
    },
    {
     "name": "stdout",
     "output_type": "stream",
     "text": [
      "Test Statistic:  0.012376472473967337\n",
      "p-value:  0.6103896103896104\n",
      "(200, 8)\n",
      "(200,)\n",
      "Fitted\n"
     ]
    },
    {
     "name": "stderr",
     "output_type": "stream",
     "text": [
      "\n",
      " 60%|████████████████████████████████████████████████▌                                | 60/100 [31:33<20:46, 31.17s/it]\u001b[A"
     ]
    },
    {
     "name": "stdout",
     "output_type": "stream",
     "text": [
      "Test Statistic:  0.01817843416676579\n",
      "p-value:  0.14685314685314685\n",
      "(200, 8)\n",
      "(200,)\n",
      "Fitted\n"
     ]
    },
    {
     "name": "stderr",
     "output_type": "stream",
     "text": [
      "\n",
      " 61%|█████████████████████████████████████████████████▍                               | 61/100 [32:04<20:17, 31.21s/it]\u001b[A"
     ]
    },
    {
     "name": "stdout",
     "output_type": "stream",
     "text": [
      "Test Statistic:  0.011710731397822305\n",
      "p-value:  0.7892107892107892\n",
      "(200, 8)\n",
      "(200,)\n",
      "Fitted\n"
     ]
    },
    {
     "name": "stderr",
     "output_type": "stream",
     "text": [
      "\n",
      " 62%|██████████████████████████████████████████████████▏                              | 62/100 [32:35<19:44, 31.16s/it]\u001b[A"
     ]
    },
    {
     "name": "stdout",
     "output_type": "stream",
     "text": [
      "Test Statistic:  0.012131249876574102\n",
      "p-value:  0.7292707292707292\n",
      "(200, 8)\n",
      "(200,)\n",
      "Fitted\n"
     ]
    },
    {
     "name": "stderr",
     "output_type": "stream",
     "text": [
      "\n",
      " 63%|███████████████████████████████████████████████████                              | 63/100 [33:06<19:10, 31.11s/it]\u001b[A"
     ]
    },
    {
     "name": "stdout",
     "output_type": "stream",
     "text": [
      "Test Statistic:  0.010314377934727004\n",
      "p-value:  0.9180819180819181\n",
      "(200, 8)\n",
      "(200,)\n",
      "Fitted\n"
     ]
    },
    {
     "name": "stderr",
     "output_type": "stream",
     "text": [
      "\n",
      " 64%|███████████████████████████████████████████████████▊                             | 64/100 [33:38<18:47, 31.32s/it]\u001b[A"
     ]
    },
    {
     "name": "stdout",
     "output_type": "stream",
     "text": [
      "Test Statistic:  0.016721673876407217\n",
      "p-value:  0.22277722277722278\n",
      "(200, 8)\n",
      "(200,)\n",
      "Fitted\n"
     ]
    },
    {
     "name": "stderr",
     "output_type": "stream",
     "text": [
      "\n",
      " 65%|████████████████████████████████████████████████████▋                            | 65/100 [34:11<18:32, 31.79s/it]\u001b[A"
     ]
    },
    {
     "name": "stdout",
     "output_type": "stream",
     "text": [
      "Test Statistic:  0.019471063689806334\n",
      "p-value:  0.08291708291708291\n",
      "(200, 8)\n",
      "(200,)\n",
      "Fitted\n"
     ]
    },
    {
     "name": "stderr",
     "output_type": "stream",
     "text": [
      "\n",
      " 66%|█████████████████████████████████████████████████████▍                           | 66/100 [34:43<18:06, 31.95s/it]\u001b[A"
     ]
    },
    {
     "name": "stdout",
     "output_type": "stream",
     "text": [
      "Test Statistic:  0.013033914769201238\n",
      "p-value:  0.5504495504495505\n",
      "(200, 8)\n",
      "(200,)\n",
      "Fitted\n"
     ]
    },
    {
     "name": "stderr",
     "output_type": "stream",
     "text": [
      "\n",
      " 67%|██████████████████████████████████████████████████████▎                          | 67/100 [35:19<18:09, 33.02s/it]\u001b[A"
     ]
    },
    {
     "name": "stdout",
     "output_type": "stream",
     "text": [
      "Test Statistic:  0.026991157879221905\n",
      "p-value:  0.00999000999000999\n",
      "(200, 8)\n",
      "(200,)\n",
      "Fitted\n"
     ]
    },
    {
     "name": "stderr",
     "output_type": "stream",
     "text": [
      "\n",
      " 68%|███████████████████████████████████████████████████████                          | 68/100 [35:50<17:22, 32.58s/it]\u001b[A"
     ]
    },
    {
     "name": "stdout",
     "output_type": "stream",
     "text": [
      "Test Statistic:  0.007856815189925537\n",
      "p-value:  0.997002997002997\n",
      "(200, 8)\n",
      "(200,)\n",
      "Fitted\n"
     ]
    },
    {
     "name": "stderr",
     "output_type": "stream",
     "text": [
      "\n",
      " 69%|███████████████████████████████████████████████████████▉                         | 69/100 [36:21<16:32, 32.02s/it]\u001b[A"
     ]
    },
    {
     "name": "stdout",
     "output_type": "stream",
     "text": [
      "Test Statistic:  0.025255483941665435\n",
      "p-value:  0.007992007992007992\n",
      "(200, 8)\n",
      "(200,)\n",
      "Fitted\n"
     ]
    },
    {
     "name": "stderr",
     "output_type": "stream",
     "text": [
      "\n",
      " 70%|████████████████████████████████████████████████████████▋                        | 70/100 [36:54<16:04, 32.16s/it]\u001b[A"
     ]
    },
    {
     "name": "stdout",
     "output_type": "stream",
     "text": [
      "Test Statistic:  0.0222964975184875\n",
      "p-value:  0.04995004995004995\n",
      "(200, 8)\n",
      "(200,)\n",
      "Fitted\n"
     ]
    },
    {
     "name": "stderr",
     "output_type": "stream",
     "text": [
      "\n",
      " 71%|█████████████████████████████████████████████████████████▌                       | 71/100 [37:25<15:27, 31.99s/it]\u001b[A"
     ]
    },
    {
     "name": "stdout",
     "output_type": "stream",
     "text": [
      "Test Statistic:  0.011200844634440377\n",
      "p-value:  0.929070929070929\n",
      "(200, 8)\n",
      "(200,)\n",
      "Fitted\n"
     ]
    },
    {
     "name": "stderr",
     "output_type": "stream",
     "text": [
      "\n",
      " 72%|██████████████████████████████████████████████████████████▎                      | 72/100 [37:57<14:52, 31.87s/it]\u001b[A"
     ]
    },
    {
     "name": "stdout",
     "output_type": "stream",
     "text": [
      "Test Statistic:  0.020904590074281804\n",
      "p-value:  0.06593406593406594\n",
      "(200, 8)\n",
      "(200,)\n",
      "Fitted\n"
     ]
    },
    {
     "name": "stderr",
     "output_type": "stream",
     "text": [
      "\n",
      " 73%|███████████████████████████████████████████████████████████▏                     | 73/100 [38:28<14:14, 31.66s/it]\u001b[A"
     ]
    },
    {
     "name": "stdout",
     "output_type": "stream",
     "text": [
      "Test Statistic:  0.006493293355747887\n",
      "p-value:  1.0\n",
      "(200, 8)\n",
      "(200,)\n",
      "Fitted\n"
     ]
    },
    {
     "name": "stderr",
     "output_type": "stream",
     "text": [
      "\n",
      " 74%|███████████████████████████████████████████████████████████▉                     | 74/100 [38:58<13:34, 31.33s/it]\u001b[A"
     ]
    },
    {
     "name": "stdout",
     "output_type": "stream",
     "text": [
      "Test Statistic:  0.009605695632701416\n",
      "p-value:  0.98001998001998\n",
      "(200, 8)\n",
      "(200,)\n",
      "Fitted\n"
     ]
    },
    {
     "name": "stderr",
     "output_type": "stream",
     "text": [
      "\n",
      " 75%|████████████████████████████████████████████████████████████▊                    | 75/100 [39:29<12:59, 31.18s/it]\u001b[A"
     ]
    },
    {
     "name": "stdout",
     "output_type": "stream",
     "text": [
      "Test Statistic:  0.037653087991712186\n",
      "p-value:  0.000999000999000999\n",
      "(200, 8)\n",
      "(200,)\n",
      "Fitted\n"
     ]
    },
    {
     "name": "stderr",
     "output_type": "stream",
     "text": [
      "\n",
      " 76%|█████████████████████████████████████████████████████████████▌                   | 76/100 [40:01<12:31, 31.29s/it]\u001b[A"
     ]
    },
    {
     "name": "stdout",
     "output_type": "stream",
     "text": [
      "Test Statistic:  0.008975962485255562\n",
      "p-value:  0.989010989010989\n",
      "(200, 8)\n",
      "(200,)\n",
      "Fitted\n"
     ]
    },
    {
     "name": "stderr",
     "output_type": "stream",
     "text": [
      "\n",
      " 77%|██████████████████████████████████████████████████████████████▎                  | 77/100 [40:32<11:57, 31.18s/it]\u001b[A"
     ]
    },
    {
     "name": "stdout",
     "output_type": "stream",
     "text": [
      "Test Statistic:  0.007377082484930075\n",
      "p-value:  1.0\n",
      "(200, 8)\n",
      "(200,)\n",
      "Fitted\n"
     ]
    },
    {
     "name": "stderr",
     "output_type": "stream",
     "text": [
      "\n",
      " 78%|███████████████████████████████████████████████████████████████▏                 | 78/100 [41:04<11:31, 31.43s/it]\u001b[A"
     ]
    },
    {
     "name": "stdout",
     "output_type": "stream",
     "text": [
      "Test Statistic:  0.007150608222731281\n",
      "p-value:  1.0\n",
      "(200, 8)\n",
      "(200,)\n",
      "Fitted\n"
     ]
    },
    {
     "name": "stderr",
     "output_type": "stream",
     "text": [
      "\n",
      " 79%|███████████████████████████████████████████████████████████████▉                 | 79/100 [41:34<10:54, 31.14s/it]\u001b[A"
     ]
    },
    {
     "name": "stdout",
     "output_type": "stream",
     "text": [
      "Test Statistic:  0.01981895981972326\n",
      "p-value:  0.06993006993006994\n",
      "(200, 8)\n",
      "(200,)\n",
      "Fitted\n"
     ]
    },
    {
     "name": "stderr",
     "output_type": "stream",
     "text": [
      "\n",
      " 80%|████████████████████████████████████████████████████████████████▊                | 80/100 [42:05<10:21, 31.06s/it]\u001b[A"
     ]
    },
    {
     "name": "stdout",
     "output_type": "stream",
     "text": [
      "Test Statistic:  0.013093825042432283\n",
      "p-value:  0.6313686313686314\n",
      "(200, 8)\n",
      "(200,)\n",
      "Fitted\n"
     ]
    },
    {
     "name": "stderr",
     "output_type": "stream",
     "text": [
      "\n",
      " 81%|█████████████████████████████████████████████████████████████████▌               | 81/100 [42:36<09:48, 31.00s/it]\u001b[A"
     ]
    },
    {
     "name": "stdout",
     "output_type": "stream",
     "text": [
      "Test Statistic:  0.005563941339081113\n",
      "p-value:  1.0\n",
      "(200, 8)\n",
      "(200,)\n",
      "Fitted\n"
     ]
    },
    {
     "name": "stderr",
     "output_type": "stream",
     "text": [
      "\n",
      " 82%|██████████████████████████████████████████████████████████████████▍              | 82/100 [43:07<09:19, 31.08s/it]\u001b[A"
     ]
    },
    {
     "name": "stdout",
     "output_type": "stream",
     "text": [
      "Test Statistic:  0.0290257611371757\n",
      "p-value:  0.005994005994005994\n",
      "(200, 8)\n",
      "(200,)\n",
      "Fitted\n"
     ]
    },
    {
     "name": "stderr",
     "output_type": "stream",
     "text": [
      "\n",
      " 83%|███████████████████████████████████████████████████████████████████▏             | 83/100 [43:39<08:49, 31.14s/it]\u001b[A"
     ]
    },
    {
     "name": "stdout",
     "output_type": "stream",
     "text": [
      "Test Statistic:  0.009516569878625036\n",
      "p-value:  0.972027972027972\n",
      "(200, 8)\n",
      "(200,)\n",
      "Fitted\n"
     ]
    },
    {
     "name": "stderr",
     "output_type": "stream",
     "text": [
      "\n",
      " 84%|████████████████████████████████████████████████████████████████████             | 84/100 [44:10<08:21, 31.34s/it]\u001b[A"
     ]
    },
    {
     "name": "stdout",
     "output_type": "stream",
     "text": [
      "Test Statistic:  0.038643545019734105\n",
      "p-value:  0.000999000999000999\n",
      "(200, 8)\n",
      "(200,)\n",
      "Fitted\n"
     ]
    },
    {
     "name": "stderr",
     "output_type": "stream",
     "text": [
      "\n",
      " 85%|████████████████████████████████████████████████████████████████████▊            | 85/100 [44:42<07:49, 31.33s/it]\u001b[A"
     ]
    },
    {
     "name": "stdout",
     "output_type": "stream",
     "text": [
      "Test Statistic:  0.0038338492024553306\n",
      "p-value:  1.0\n",
      "(200, 8)\n",
      "(200,)\n",
      "Fitted\n"
     ]
    },
    {
     "name": "stderr",
     "output_type": "stream",
     "text": [
      "\n",
      " 86%|█████████████████████████████████████████████████████████████████████▋           | 86/100 [45:23<07:59, 34.25s/it]\u001b[A"
     ]
    },
    {
     "name": "stdout",
     "output_type": "stream",
     "text": [
      "Test Statistic:  0.015089386624547507\n",
      "p-value:  0.3876123876123876\n",
      "(200, 8)\n",
      "(200,)\n",
      "Fitted\n"
     ]
    },
    {
     "name": "stderr",
     "output_type": "stream",
     "text": [
      "\n",
      " 87%|██████████████████████████████████████████████████████████████████████▍          | 87/100 [45:56<07:20, 33.89s/it]\u001b[A"
     ]
    },
    {
     "name": "stdout",
     "output_type": "stream",
     "text": [
      "Test Statistic:  0.021555282656863906\n",
      "p-value:  0.06393606393606394\n",
      "(200, 8)\n",
      "(200,)\n",
      "Fitted\n"
     ]
    },
    {
     "name": "stderr",
     "output_type": "stream",
     "text": [
      "\n",
      " 88%|███████████████████████████████████████████████████████████████████████▎         | 88/100 [46:28<06:40, 33.35s/it]\u001b[A"
     ]
    },
    {
     "name": "stdout",
     "output_type": "stream",
     "text": [
      "Test Statistic:  0.006942011217189625\n",
      "p-value:  1.0\n",
      "(200, 8)\n",
      "(200,)\n",
      "Fitted\n"
     ]
    },
    {
     "name": "stderr",
     "output_type": "stream",
     "text": [
      "\n",
      " 89%|████████████████████████████████████████████████████████████████████████         | 89/100 [46:59<05:58, 32.62s/it]\u001b[A"
     ]
    },
    {
     "name": "stdout",
     "output_type": "stream",
     "text": [
      "Test Statistic:  0.011851553073555343\n",
      "p-value:  0.8281718281718282\n",
      "(200, 8)\n",
      "(200,)\n",
      "Fitted\n"
     ]
    },
    {
     "name": "stderr",
     "output_type": "stream",
     "text": [
      "\n",
      " 90%|████████████████████████████████████████████████████████████████████████▉        | 90/100 [47:30<05:22, 32.23s/it]\u001b[A"
     ]
    },
    {
     "name": "stdout",
     "output_type": "stream",
     "text": [
      "Test Statistic:  0.008241219987178194\n",
      "p-value:  0.996003996003996\n",
      "(200, 8)\n",
      "(200,)\n",
      "Fitted\n"
     ]
    },
    {
     "name": "stderr",
     "output_type": "stream",
     "text": [
      "\n",
      " 91%|█████████████████████████████████████████████████████████████████████████▋       | 91/100 [48:02<04:48, 32.10s/it]\u001b[A"
     ]
    },
    {
     "name": "stdout",
     "output_type": "stream",
     "text": [
      "Test Statistic:  0.03549280452562653\n",
      "p-value:  0.000999000999000999\n",
      "(200, 8)\n",
      "(200,)\n",
      "Fitted\n"
     ]
    },
    {
     "name": "stderr",
     "output_type": "stream",
     "text": [
      "\n",
      " 92%|██████████████████████████████████████████████████████████████████████████▌      | 92/100 [48:33<04:14, 31.82s/it]\u001b[A"
     ]
    },
    {
     "name": "stdout",
     "output_type": "stream",
     "text": [
      "Test Statistic:  0.01039499982726333\n",
      "p-value:  0.939060939060939\n",
      "(200, 8)\n",
      "(200,)\n",
      "Fitted\n"
     ]
    },
    {
     "name": "stderr",
     "output_type": "stream",
     "text": [
      "\n",
      " 93%|███████████████████████████████████████████████████████████████████████████▎     | 93/100 [49:04<03:41, 31.68s/it]\u001b[A"
     ]
    },
    {
     "name": "stdout",
     "output_type": "stream",
     "text": [
      "Test Statistic:  0.00913762001165841\n",
      "p-value:  0.986013986013986\n",
      "(200, 8)\n",
      "(200,)\n",
      "Fitted\n"
     ]
    },
    {
     "name": "stderr",
     "output_type": "stream",
     "text": [
      "\n",
      " 94%|████████████████████████████████████████████████████████████████████████████▏    | 94/100 [49:36<03:09, 31.66s/it]\u001b[A"
     ]
    },
    {
     "name": "stdout",
     "output_type": "stream",
     "text": [
      "Test Statistic:  0.008049747335949875\n",
      "p-value:  0.996003996003996\n",
      "(200, 8)\n",
      "(200,)\n",
      "Fitted\n"
     ]
    },
    {
     "name": "stderr",
     "output_type": "stream",
     "text": [
      "\n",
      " 95%|████████████████████████████████████████████████████████████████████████████▉    | 95/100 [50:08<02:38, 31.63s/it]\u001b[A"
     ]
    },
    {
     "name": "stdout",
     "output_type": "stream",
     "text": [
      "Test Statistic:  0.013474140705636795\n",
      "p-value:  0.5084915084915085\n",
      "(200, 8)\n",
      "(200,)\n",
      "Fitted\n"
     ]
    },
    {
     "name": "stderr",
     "output_type": "stream",
     "text": [
      "\n",
      " 96%|█████████████████████████████████████████████████████████████████████████████▊   | 96/100 [50:39<02:06, 31.54s/it]\u001b[A"
     ]
    },
    {
     "name": "stdout",
     "output_type": "stream",
     "text": [
      "Test Statistic:  0.04134349550915273\n",
      "p-value:  0.001998001998001998\n",
      "(200, 8)\n",
      "(200,)\n",
      "Fitted\n"
     ]
    },
    {
     "name": "stderr",
     "output_type": "stream",
     "text": [
      "\n",
      " 97%|██████████████████████████████████████████████████████████████████████████████▌  | 97/100 [51:11<01:35, 31.84s/it]\u001b[A"
     ]
    },
    {
     "name": "stdout",
     "output_type": "stream",
     "text": [
      "Test Statistic:  0.008228948331927888\n",
      "p-value:  0.996003996003996\n",
      "(200, 8)\n",
      "(200,)\n",
      "Fitted\n"
     ]
    },
    {
     "name": "stderr",
     "output_type": "stream",
     "text": [
      "\n",
      " 98%|███████████████████████████████████████████████████████████████████████████████▍ | 98/100 [51:43<01:03, 31.74s/it]\u001b[A"
     ]
    },
    {
     "name": "stdout",
     "output_type": "stream",
     "text": [
      "Test Statistic:  0.009061662661778214\n",
      "p-value:  0.974025974025974\n",
      "(200, 8)\n",
      "(200,)\n",
      "Fitted\n"
     ]
    },
    {
     "name": "stderr",
     "output_type": "stream",
     "text": [
      "\n",
      " 99%|████████████████████████████████████████████████████████████████████████████████▏| 99/100 [52:15<00:31, 31.69s/it]\u001b[A"
     ]
    },
    {
     "name": "stdout",
     "output_type": "stream",
     "text": [
      "Test Statistic:  0.013704905339787965\n",
      "p-value:  0.5684315684315684\n",
      "(200, 8)\n",
      "(200,)\n",
      "Fitted\n"
     ]
    },
    {
     "name": "stderr",
     "output_type": "stream",
     "text": [
      "\n",
      "100%|████████████████████████████████████████████████████████████████████████████████| 100/100 [52:46<00:00, 31.66s/it]\u001b[A\n",
      " 20%|███████████████▏                                                            | 4/20 [3:30:57<14:02:33, 3159.56s/it]\n",
      "  0%|                                                                                          | 0/100 [00:00<?, ?it/s]\u001b[A"
     ]
    },
    {
     "name": "stdout",
     "output_type": "stream",
     "text": [
      "Test Statistic:  0.017934563131211778\n",
      "p-value:  0.13986013986013987\n",
      "dimension 5\n",
      "circle\n",
      "(200, 10)\n",
      "(200,)\n",
      "Fitted\n"
     ]
    },
    {
     "name": "stderr",
     "output_type": "stream",
     "text": [
      "\n",
      "  1%|▊                                                                                 | 1/100 [00:30<50:47, 30.78s/it]\u001b[A"
     ]
    },
    {
     "name": "stdout",
     "output_type": "stream",
     "text": [
      "Test Statistic:  0.011944532517330742\n",
      "p-value:  0.5494505494505495\n",
      "(200, 10)\n",
      "(200,)\n",
      "Fitted\n"
     ]
    },
    {
     "name": "stderr",
     "output_type": "stream",
     "text": [
      "\n",
      "  2%|█▋                                                                                | 2/100 [01:01<50:22, 30.85s/it]\u001b[A"
     ]
    },
    {
     "name": "stdout",
     "output_type": "stream",
     "text": [
      "Test Statistic:  0.015217319926832285\n",
      "p-value:  0.22477522477522477\n",
      "(200, 10)\n",
      "(200,)\n",
      "Fitted\n"
     ]
    },
    {
     "name": "stderr",
     "output_type": "stream",
     "text": [
      "\n",
      "  3%|██▍                                                                               | 3/100 [01:32<49:39, 30.71s/it]\u001b[A"
     ]
    },
    {
     "name": "stdout",
     "output_type": "stream",
     "text": [
      "Test Statistic:  0.011304331449394023\n",
      "p-value:  0.8291708291708292\n",
      "(200, 10)\n",
      "(200,)\n",
      "Fitted\n"
     ]
    },
    {
     "name": "stderr",
     "output_type": "stream",
     "text": [
      "\n",
      "  4%|███▎                                                                              | 4/100 [02:02<49:09, 30.72s/it]\u001b[A"
     ]
    },
    {
     "name": "stdout",
     "output_type": "stream",
     "text": [
      "Test Statistic:  0.007780255929513369\n",
      "p-value:  0.984015984015984\n",
      "(200, 10)\n",
      "(200,)\n",
      "Fitted\n"
     ]
    },
    {
     "name": "stderr",
     "output_type": "stream",
     "text": [
      "\n",
      "  5%|████                                                                              | 5/100 [02:38<50:53, 32.15s/it]\u001b[A"
     ]
    },
    {
     "name": "stdout",
     "output_type": "stream",
     "text": [
      "Test Statistic:  0.008428365161820883\n",
      "p-value:  0.9820179820179821\n",
      "(200, 10)\n",
      "(200,)\n",
      "Fitted\n"
     ]
    },
    {
     "name": "stderr",
     "output_type": "stream",
     "text": [
      "\n",
      "  6%|████▉                                                                             | 6/100 [03:08<49:37, 31.68s/it]\u001b[A"
     ]
    },
    {
     "name": "stdout",
     "output_type": "stream",
     "text": [
      "Test Statistic:  0.0061205610771948304\n",
      "p-value:  1.0\n",
      "(200, 10)\n",
      "(200,)\n",
      "Fitted\n"
     ]
    },
    {
     "name": "stderr",
     "output_type": "stream",
     "text": [
      "\n",
      "  7%|█████▋                                                                            | 7/100 [03:40<48:52, 31.54s/it]\u001b[A"
     ]
    },
    {
     "name": "stdout",
     "output_type": "stream",
     "text": [
      "Test Statistic:  0.015457689117053142\n",
      "p-value:  0.14985014985014986\n",
      "(200, 10)\n",
      "(200,)\n",
      "Fitted\n"
     ]
    },
    {
     "name": "stderr",
     "output_type": "stream",
     "text": [
      "\n",
      "  8%|██████▌                                                                           | 8/100 [04:11<48:14, 31.47s/it]\u001b[A"
     ]
    },
    {
     "name": "stdout",
     "output_type": "stream",
     "text": [
      "Test Statistic:  0.009280363150841242\n",
      "p-value:  0.9400599400599401\n",
      "(200, 10)\n",
      "(200,)\n",
      "Fitted\n"
     ]
    },
    {
     "name": "stderr",
     "output_type": "stream",
     "text": [
      "\n",
      "  9%|███████▍                                                                          | 9/100 [04:43<47:52, 31.56s/it]\u001b[A"
     ]
    },
    {
     "name": "stdout",
     "output_type": "stream",
     "text": [
      "Test Statistic:  0.007621139624797935\n",
      "p-value:  0.997002997002997\n",
      "(200, 10)\n",
      "(200,)\n",
      "Fitted\n"
     ]
    },
    {
     "name": "stderr",
     "output_type": "stream",
     "text": [
      "\n",
      " 10%|████████                                                                         | 10/100 [05:14<47:15, 31.51s/it]\u001b[A"
     ]
    },
    {
     "name": "stdout",
     "output_type": "stream",
     "text": [
      "Test Statistic:  0.007538153512116952\n",
      "p-value:  0.999000999000999\n",
      "(200, 10)\n",
      "(200,)\n",
      "Fitted\n"
     ]
    },
    {
     "name": "stderr",
     "output_type": "stream",
     "text": [
      "\n",
      " 11%|████████▉                                                                        | 11/100 [05:45<46:27, 31.32s/it]\u001b[A"
     ]
    },
    {
     "name": "stdout",
     "output_type": "stream",
     "text": [
      "Test Statistic:  0.005301492546299413\n",
      "p-value:  1.0\n",
      "(200, 10)\n",
      "(200,)\n",
      "Fitted\n"
     ]
    },
    {
     "name": "stderr",
     "output_type": "stream",
     "text": [
      "\n",
      " 12%|█████████▋                                                                       | 12/100 [06:16<45:43, 31.18s/it]\u001b[A"
     ]
    },
    {
     "name": "stdout",
     "output_type": "stream",
     "text": [
      "Test Statistic:  0.007806077882210771\n",
      "p-value:  0.978021978021978\n",
      "(200, 10)\n",
      "(200,)\n",
      "Fitted\n"
     ]
    },
    {
     "name": "stderr",
     "output_type": "stream",
     "text": [
      "\n",
      " 13%|██████████▌                                                                      | 13/100 [06:47<45:10, 31.15s/it]\u001b[A"
     ]
    },
    {
     "name": "stdout",
     "output_type": "stream",
     "text": [
      "Test Statistic:  0.02082079628167699\n",
      "p-value:  0.030969030969030968\n",
      "(200, 10)\n",
      "(200,)\n",
      "Fitted\n"
     ]
    },
    {
     "name": "stderr",
     "output_type": "stream",
     "text": [
      "\n",
      " 14%|███████████▎                                                                     | 14/100 [07:18<44:37, 31.13s/it]\u001b[A"
     ]
    },
    {
     "name": "stdout",
     "output_type": "stream",
     "text": [
      "Test Statistic:  0.009048866504378306\n",
      "p-value:  0.954045954045954\n",
      "(200, 10)\n",
      "(200,)\n",
      "Fitted\n"
     ]
    },
    {
     "name": "stderr",
     "output_type": "stream",
     "text": [
      "\n",
      " 15%|████████████▏                                                                    | 15/100 [07:52<45:07, 31.85s/it]\u001b[A"
     ]
    },
    {
     "name": "stdout",
     "output_type": "stream",
     "text": [
      "Test Statistic:  0.005773089120421626\n",
      "p-value:  1.0\n",
      "(200, 10)\n",
      "(200,)\n",
      "Fitted\n"
     ]
    },
    {
     "name": "stderr",
     "output_type": "stream",
     "text": [
      "\n",
      " 16%|████████████▉                                                                    | 16/100 [08:23<44:15, 31.61s/it]\u001b[A"
     ]
    },
    {
     "name": "stdout",
     "output_type": "stream",
     "text": [
      "Test Statistic:  0.005808660898087292\n",
      "p-value:  1.0\n",
      "(200, 10)\n",
      "(200,)\n",
      "Fitted\n"
     ]
    },
    {
     "name": "stderr",
     "output_type": "stream",
     "text": [
      "\n",
      " 17%|█████████████▊                                                                   | 17/100 [08:54<43:34, 31.50s/it]\u001b[A"
     ]
    },
    {
     "name": "stdout",
     "output_type": "stream",
     "text": [
      "Test Statistic:  0.017428411803601662\n",
      "p-value:  0.11188811188811189\n",
      "(200, 10)\n",
      "(200,)\n",
      "Fitted\n"
     ]
    },
    {
     "name": "stderr",
     "output_type": "stream",
     "text": [
      "\n",
      " 18%|██████████████▌                                                                  | 18/100 [09:26<43:23, 31.75s/it]\u001b[A"
     ]
    },
    {
     "name": "stdout",
     "output_type": "stream",
     "text": [
      "Test Statistic:  0.02158498717319557\n",
      "p-value:  0.014985014985014986\n",
      "(200, 10)\n",
      "(200,)\n",
      "Fitted\n"
     ]
    },
    {
     "name": "stderr",
     "output_type": "stream",
     "text": [
      "\n",
      " 19%|███████████████▍                                                                 | 19/100 [09:58<42:42, 31.64s/it]\u001b[A"
     ]
    },
    {
     "name": "stdout",
     "output_type": "stream",
     "text": [
      "Test Statistic:  0.01377922781063956\n",
      "p-value:  0.31368631368631367\n",
      "(200, 10)\n",
      "(200,)\n",
      "Fitted\n"
     ]
    },
    {
     "name": "stderr",
     "output_type": "stream",
     "text": [
      "\n",
      " 20%|████████████████▏                                                                | 20/100 [10:30<42:34, 31.93s/it]\u001b[A"
     ]
    },
    {
     "name": "stdout",
     "output_type": "stream",
     "text": [
      "Test Statistic:  0.011354565199050204\n",
      "p-value:  0.7512487512487512\n",
      "(200, 10)\n",
      "(200,)\n",
      "Fitted\n"
     ]
    },
    {
     "name": "stderr",
     "output_type": "stream",
     "text": [
      "\n",
      " 21%|█████████████████                                                                | 21/100 [11:02<41:53, 31.81s/it]\u001b[A"
     ]
    },
    {
     "name": "stdout",
     "output_type": "stream",
     "text": [
      "Test Statistic:  0.006463033812158736\n",
      "p-value:  1.0\n",
      "(200, 10)\n",
      "(200,)\n",
      "Fitted\n"
     ]
    },
    {
     "name": "stderr",
     "output_type": "stream",
     "text": [
      "\n",
      " 22%|█████████████████▊                                                               | 22/100 [11:34<41:36, 32.01s/it]\u001b[A"
     ]
    },
    {
     "name": "stdout",
     "output_type": "stream",
     "text": [
      "Test Statistic:  0.004100756140416384\n",
      "p-value:  1.0\n",
      "(200, 10)\n",
      "(200,)\n",
      "Fitted\n"
     ]
    },
    {
     "name": "stderr",
     "output_type": "stream",
     "text": [
      "\n",
      " 23%|██████████████████▋                                                              | 23/100 [12:05<40:44, 31.75s/it]\u001b[A"
     ]
    },
    {
     "name": "stdout",
     "output_type": "stream",
     "text": [
      "Test Statistic:  0.018838545040708365\n",
      "p-value:  0.054945054945054944\n",
      "(200, 10)\n",
      "(200,)\n",
      "Fitted\n"
     ]
    },
    {
     "name": "stderr",
     "output_type": "stream",
     "text": [
      "\n",
      " 24%|███████████████████▍                                                             | 24/100 [12:41<41:35, 32.84s/it]\u001b[A"
     ]
    },
    {
     "name": "stdout",
     "output_type": "stream",
     "text": [
      "Test Statistic:  0.009028779841653622\n",
      "p-value:  0.964035964035964\n",
      "(200, 10)\n",
      "(200,)\n",
      "Fitted\n"
     ]
    },
    {
     "name": "stderr",
     "output_type": "stream",
     "text": [
      "\n",
      " 25%|████████████████████▎                                                            | 25/100 [13:13<40:59, 32.79s/it]\u001b[A"
     ]
    },
    {
     "name": "stdout",
     "output_type": "stream",
     "text": [
      "Test Statistic:  0.021388348288737258\n",
      "p-value:  0.027972027972027972\n",
      "(200, 10)\n",
      "(200,)\n",
      "Fitted\n"
     ]
    },
    {
     "name": "stderr",
     "output_type": "stream",
     "text": [
      "\n",
      " 26%|█████████████████████                                                            | 26/100 [13:47<40:44, 33.04s/it]\u001b[A"
     ]
    },
    {
     "name": "stdout",
     "output_type": "stream",
     "text": [
      "Test Statistic:  0.015806494757794165\n",
      "p-value:  0.13886113886113885\n",
      "(200, 10)\n",
      "(200,)\n",
      "Fitted\n"
     ]
    },
    {
     "name": "stderr",
     "output_type": "stream",
     "text": [
      "\n",
      " 27%|█████████████████████▊                                                           | 27/100 [14:19<39:40, 32.61s/it]\u001b[A"
     ]
    },
    {
     "name": "stdout",
     "output_type": "stream",
     "text": [
      "Test Statistic:  0.011464714182130353\n",
      "p-value:  0.7022977022977023\n",
      "(200, 10)\n",
      "(200,)\n",
      "Fitted\n"
     ]
    },
    {
     "name": "stderr",
     "output_type": "stream",
     "text": [
      "\n",
      " 28%|██████████████████████▋                                                          | 28/100 [14:49<38:24, 32.01s/it]\u001b[A"
     ]
    },
    {
     "name": "stdout",
     "output_type": "stream",
     "text": [
      "Test Statistic:  0.02203521433023814\n",
      "p-value:  0.03196803196803197\n",
      "(200, 10)\n",
      "(200,)\n",
      "Fitted\n"
     ]
    },
    {
     "name": "stderr",
     "output_type": "stream",
     "text": [
      "\n",
      " 29%|███████████████████████▍                                                         | 29/100 [15:21<37:55, 32.05s/it]\u001b[A"
     ]
    },
    {
     "name": "stdout",
     "output_type": "stream",
     "text": [
      "Test Statistic:  0.0061465196500609665\n",
      "p-value:  1.0\n",
      "(200, 10)\n",
      "(200,)\n",
      "Fitted\n"
     ]
    },
    {
     "name": "stderr",
     "output_type": "stream",
     "text": [
      "\n",
      " 30%|████████████████████████▎                                                        | 30/100 [15:52<37:02, 31.75s/it]\u001b[A"
     ]
    },
    {
     "name": "stdout",
     "output_type": "stream",
     "text": [
      "Test Statistic:  0.0172978101285578\n",
      "p-value:  0.0979020979020979\n",
      "(200, 10)\n",
      "(200,)\n",
      "Fitted\n"
     ]
    },
    {
     "name": "stderr",
     "output_type": "stream",
     "text": [
      "\n",
      " 31%|█████████████████████████                                                        | 31/100 [16:24<36:27, 31.70s/it]\u001b[A"
     ]
    },
    {
     "name": "stdout",
     "output_type": "stream",
     "text": [
      "Test Statistic:  0.01386558415496919\n",
      "p-value:  0.2077922077922078\n",
      "(200, 10)\n",
      "(200,)\n",
      "Fitted\n"
     ]
    },
    {
     "name": "stderr",
     "output_type": "stream",
     "text": [
      "\n",
      " 32%|█████████████████████████▉                                                       | 32/100 [16:55<35:43, 31.52s/it]\u001b[A"
     ]
    },
    {
     "name": "stdout",
     "output_type": "stream",
     "text": [
      "Test Statistic:  0.004788863483588424\n",
      "p-value:  1.0\n",
      "(200, 10)\n",
      "(200,)\n",
      "Fitted\n"
     ]
    },
    {
     "name": "stderr",
     "output_type": "stream",
     "text": [
      "\n",
      " 33%|██████████████████████████▋                                                      | 33/100 [17:26<34:58, 31.32s/it]\u001b[A"
     ]
    },
    {
     "name": "stdout",
     "output_type": "stream",
     "text": [
      "Test Statistic:  0.009361509767953025\n",
      "p-value:  0.903096903096903\n",
      "(200, 10)\n",
      "(200,)\n",
      "Fitted\n"
     ]
    },
    {
     "name": "stderr",
     "output_type": "stream",
     "text": [
      "\n",
      " 34%|███████████████████████████▌                                                     | 34/100 [17:57<34:27, 31.33s/it]\u001b[A"
     ]
    },
    {
     "name": "stdout",
     "output_type": "stream",
     "text": [
      "Test Statistic:  0.04934449979523259\n",
      "p-value:  0.000999000999000999\n",
      "(200, 10)\n",
      "(200,)\n",
      "Fitted\n"
     ]
    },
    {
     "name": "stderr",
     "output_type": "stream",
     "text": [
      "\n",
      " 35%|████████████████████████████▎                                                    | 35/100 [18:29<33:54, 31.30s/it]\u001b[A"
     ]
    },
    {
     "name": "stdout",
     "output_type": "stream",
     "text": [
      "Test Statistic:  0.00698328847553964\n",
      "p-value:  1.0\n",
      "(200, 10)\n",
      "(200,)\n",
      "Fitted\n"
     ]
    },
    {
     "name": "stderr",
     "output_type": "stream",
     "text": [
      "\n",
      " 36%|█████████████████████████████▏                                                   | 36/100 [19:00<33:34, 31.47s/it]\u001b[A"
     ]
    },
    {
     "name": "stdout",
     "output_type": "stream",
     "text": [
      "Test Statistic:  0.005638506098954221\n",
      "p-value:  1.0\n",
      "(200, 10)\n",
      "(200,)\n",
      "Fitted\n"
     ]
    },
    {
     "name": "stderr",
     "output_type": "stream",
     "text": [
      "\n",
      " 37%|█████████████████████████████▉                                                   | 37/100 [19:32<32:59, 31.43s/it]\u001b[A"
     ]
    },
    {
     "name": "stdout",
     "output_type": "stream",
     "text": [
      "Test Statistic:  0.011764496377508316\n",
      "p-value:  0.5114885114885115\n",
      "(200, 10)\n",
      "(200,)\n",
      "Fitted\n"
     ]
    },
    {
     "name": "stderr",
     "output_type": "stream",
     "text": [
      "\n",
      " 38%|██████████████████████████████▊                                                  | 38/100 [20:06<33:14, 32.16s/it]\u001b[A"
     ]
    },
    {
     "name": "stdout",
     "output_type": "stream",
     "text": [
      "Test Statistic:  0.0108242316667293\n",
      "p-value:  0.7492507492507493\n",
      "(200, 10)\n",
      "(200,)\n",
      "Fitted\n"
     ]
    },
    {
     "name": "stderr",
     "output_type": "stream",
     "text": [
      "\n",
      " 39%|███████████████████████████████▌                                                 | 39/100 [20:37<32:20, 31.82s/it]\u001b[A"
     ]
    },
    {
     "name": "stdout",
     "output_type": "stream",
     "text": [
      "Test Statistic:  0.006025619838439078\n",
      "p-value:  1.0\n",
      "(200, 10)\n",
      "(200,)\n",
      "Fitted\n"
     ]
    },
    {
     "name": "stderr",
     "output_type": "stream",
     "text": [
      "\n",
      " 40%|████████████████████████████████▍                                                | 40/100 [21:08<31:42, 31.72s/it]\u001b[A"
     ]
    },
    {
     "name": "stdout",
     "output_type": "stream",
     "text": [
      "Test Statistic:  0.00748178564857005\n",
      "p-value:  1.0\n",
      "(200, 10)\n",
      "(200,)\n",
      "Fitted\n"
     ]
    },
    {
     "name": "stderr",
     "output_type": "stream",
     "text": [
      "\n",
      " 41%|█████████████████████████████████▏                                               | 41/100 [21:40<31:10, 31.70s/it]\u001b[A"
     ]
    },
    {
     "name": "stdout",
     "output_type": "stream",
     "text": [
      "Test Statistic:  0.006411325270384571\n",
      "p-value:  1.0\n",
      "(200, 10)\n",
      "(200,)\n",
      "Fitted\n"
     ]
    },
    {
     "name": "stderr",
     "output_type": "stream",
     "text": [
      "\n",
      " 42%|██████████████████████████████████                                               | 42/100 [22:11<30:35, 31.64s/it]\u001b[A"
     ]
    },
    {
     "name": "stdout",
     "output_type": "stream",
     "text": [
      "Test Statistic:  0.003567587075223755\n",
      "p-value:  1.0\n",
      "(200, 10)\n",
      "(200,)\n",
      "Fitted\n"
     ]
    },
    {
     "name": "stderr",
     "output_type": "stream",
     "text": [
      "\n",
      " 43%|██████████████████████████████████▊                                              | 43/100 [22:53<32:51, 34.58s/it]\u001b[A"
     ]
    },
    {
     "name": "stdout",
     "output_type": "stream",
     "text": [
      "Test Statistic:  0.008931186697847315\n",
      "p-value:  0.975024975024975\n",
      "(200, 10)\n",
      "(200,)\n",
      "Fitted\n"
     ]
    },
    {
     "name": "stderr",
     "output_type": "stream",
     "text": [
      "\n",
      " 44%|███████████████████████████████████▋                                             | 44/100 [23:24<31:24, 33.65s/it]\u001b[A"
     ]
    },
    {
     "name": "stdout",
     "output_type": "stream",
     "text": [
      "Test Statistic:  0.03545200702601403\n",
      "p-value:  0.001998001998001998\n",
      "(200, 10)\n",
      "(200,)\n",
      "Fitted\n"
     ]
    },
    {
     "name": "stderr",
     "output_type": "stream",
     "text": [
      "\n",
      " 45%|████████████████████████████████████▍                                            | 45/100 [23:55<30:09, 32.89s/it]\u001b[A"
     ]
    },
    {
     "name": "stdout",
     "output_type": "stream",
     "text": [
      "Test Statistic:  0.010594196249769205\n",
      "p-value:  0.8181818181818182\n",
      "(200, 10)\n",
      "(200,)\n",
      "Fitted\n"
     ]
    },
    {
     "name": "stderr",
     "output_type": "stream",
     "text": [
      "\n",
      " 46%|█████████████████████████████████████▎                                           | 46/100 [24:27<29:08, 32.38s/it]\u001b[A"
     ]
    },
    {
     "name": "stdout",
     "output_type": "stream",
     "text": [
      "Test Statistic:  0.00802040878491661\n",
      "p-value:  0.993006993006993\n",
      "(200, 10)\n",
      "(200,)\n",
      "Fitted\n"
     ]
    },
    {
     "name": "stderr",
     "output_type": "stream",
     "text": [
      "\n",
      " 47%|██████████████████████████████████████                                           | 47/100 [24:59<28:31, 32.30s/it]\u001b[A"
     ]
    },
    {
     "name": "stdout",
     "output_type": "stream",
     "text": [
      "Test Statistic:  0.004441801164680181\n",
      "p-value:  1.0\n",
      "(200, 10)\n",
      "(200,)\n",
      "Fitted\n"
     ]
    },
    {
     "name": "stderr",
     "output_type": "stream",
     "text": [
      "\n",
      " 48%|██████████████████████████████████████▉                                          | 48/100 [25:30<27:48, 32.09s/it]\u001b[A"
     ]
    },
    {
     "name": "stdout",
     "output_type": "stream",
     "text": [
      "Test Statistic:  0.02348491172414313\n",
      "p-value:  0.003996003996003996\n",
      "(200, 10)\n",
      "(200,)\n",
      "Fitted\n"
     ]
    },
    {
     "name": "stderr",
     "output_type": "stream",
     "text": [
      "\n",
      " 49%|███████████████████████████████████████▋                                         | 49/100 [26:04<27:45, 32.66s/it]\u001b[A"
     ]
    },
    {
     "name": "stdout",
     "output_type": "stream",
     "text": [
      "Test Statistic:  0.006060393487440141\n",
      "p-value:  1.0\n",
      "(200, 10)\n",
      "(200,)\n",
      "Fitted\n"
     ]
    },
    {
     "name": "stderr",
     "output_type": "stream",
     "text": [
      "\n",
      " 50%|████████████████████████████████████████▌                                        | 50/100 [26:36<26:59, 32.40s/it]\u001b[A"
     ]
    },
    {
     "name": "stdout",
     "output_type": "stream",
     "text": [
      "Test Statistic:  0.01372440327241109\n",
      "p-value:  0.27372627372627373\n",
      "(200, 10)\n",
      "(200,)\n",
      "Fitted\n"
     ]
    },
    {
     "name": "stderr",
     "output_type": "stream",
     "text": [
      "\n",
      " 51%|█████████████████████████████████████████▎                                       | 51/100 [27:07<26:06, 31.97s/it]\u001b[A"
     ]
    },
    {
     "name": "stdout",
     "output_type": "stream",
     "text": [
      "Test Statistic:  0.01559941297158518\n",
      "p-value:  0.17782217782217782\n",
      "(200, 10)\n",
      "(200,)\n",
      "Fitted\n"
     ]
    },
    {
     "name": "stderr",
     "output_type": "stream",
     "text": [
      "\n",
      " 52%|██████████████████████████████████████████                                       | 52/100 [27:39<25:29, 31.87s/it]\u001b[A"
     ]
    },
    {
     "name": "stdout",
     "output_type": "stream",
     "text": [
      "Test Statistic:  0.012811026079191712\n",
      "p-value:  0.42957042957042957\n",
      "(200, 10)\n",
      "(200,)\n",
      "Fitted\n"
     ]
    },
    {
     "name": "stderr",
     "output_type": "stream",
     "text": [
      "\n",
      " 53%|██████████████████████████████████████████▉                                      | 53/100 [28:10<24:55, 31.83s/it]\u001b[A"
     ]
    },
    {
     "name": "stdout",
     "output_type": "stream",
     "text": [
      "Test Statistic:  0.010844585110918792\n",
      "p-value:  0.5784215784215784\n",
      "(200, 10)\n",
      "(200,)\n",
      "Fitted\n"
     ]
    },
    {
     "name": "stderr",
     "output_type": "stream",
     "text": [
      "\n",
      " 54%|███████████████████████████████████████████▋                                     | 54/100 [28:42<24:20, 31.74s/it]\u001b[A"
     ]
    },
    {
     "name": "stdout",
     "output_type": "stream",
     "text": [
      "Test Statistic:  0.012218268831675316\n",
      "p-value:  0.6043956043956044\n",
      "(200, 10)\n",
      "(200,)\n",
      "Fitted\n"
     ]
    },
    {
     "name": "stderr",
     "output_type": "stream",
     "text": [
      "\n",
      " 55%|████████████████████████████████████████████▌                                    | 55/100 [29:12<23:31, 31.37s/it]\u001b[A"
     ]
    },
    {
     "name": "stdout",
     "output_type": "stream",
     "text": [
      "Test Statistic:  0.011331625250962096\n",
      "p-value:  0.5724275724275725\n",
      "(200, 10)\n",
      "(200,)\n",
      "Fitted\n"
     ]
    },
    {
     "name": "stderr",
     "output_type": "stream",
     "text": [
      "\n",
      " 56%|█████████████████████████████████████████████▎                                   | 56/100 [29:43<22:50, 31.15s/it]\u001b[A"
     ]
    },
    {
     "name": "stdout",
     "output_type": "stream",
     "text": [
      "Test Statistic:  0.008475429879195029\n",
      "p-value:  0.962037962037962\n",
      "(200, 10)\n",
      "(200,)\n",
      "Fitted\n"
     ]
    },
    {
     "name": "stderr",
     "output_type": "stream",
     "text": [
      "\n",
      " 57%|██████████████████████████████████████████████▏                                  | 57/100 [30:14<22:12, 30.99s/it]\u001b[A"
     ]
    },
    {
     "name": "stdout",
     "output_type": "stream",
     "text": [
      "Test Statistic:  0.008541104024495039\n",
      "p-value:  0.9790209790209791\n",
      "(200, 10)\n",
      "(200,)\n",
      "Fitted\n"
     ]
    },
    {
     "name": "stderr",
     "output_type": "stream",
     "text": [
      "\n",
      " 58%|██████████████████████████████████████████████▉                                  | 58/100 [30:44<21:37, 30.88s/it]\u001b[A"
     ]
    },
    {
     "name": "stdout",
     "output_type": "stream",
     "text": [
      "Test Statistic:  0.012843101951557911\n",
      "p-value:  0.43356643356643354\n",
      "(200, 10)\n",
      "(200,)\n",
      "Fitted\n"
     ]
    },
    {
     "name": "stderr",
     "output_type": "stream",
     "text": [
      "\n",
      " 59%|███████████████████████████████████████████████▊                                 | 59/100 [31:15<21:04, 30.85s/it]\u001b[A"
     ]
    },
    {
     "name": "stdout",
     "output_type": "stream",
     "text": [
      "Test Statistic:  0.00538465305456981\n",
      "p-value:  1.0\n",
      "(200, 10)\n",
      "(200,)\n",
      "Fitted\n"
     ]
    },
    {
     "name": "stderr",
     "output_type": "stream",
     "text": [
      "\n",
      " 60%|████████████████████████████████████████████████▌                                | 60/100 [31:49<21:14, 31.87s/it]\u001b[A"
     ]
    },
    {
     "name": "stdout",
     "output_type": "stream",
     "text": [
      "Test Statistic:  0.02016809029914446\n",
      "p-value:  0.03996003996003996\n",
      "(200, 10)\n",
      "(200,)\n",
      "Fitted\n"
     ]
    },
    {
     "name": "stderr",
     "output_type": "stream",
     "text": [
      "\n",
      " 61%|█████████████████████████████████████████████████▍                               | 61/100 [32:22<20:57, 32.23s/it]\u001b[A"
     ]
    },
    {
     "name": "stdout",
     "output_type": "stream",
     "text": [
      "Test Statistic:  0.018435613630592207\n",
      "p-value:  0.06693306693306693\n",
      "(200, 10)\n",
      "(200,)\n",
      "Fitted\n"
     ]
    },
    {
     "name": "stderr",
     "output_type": "stream",
     "text": [
      "\n",
      " 62%|██████████████████████████████████████████████████▏                              | 62/100 [32:57<20:46, 32.81s/it]\u001b[A"
     ]
    },
    {
     "name": "stdout",
     "output_type": "stream",
     "text": [
      "Test Statistic:  0.015848499706275887\n",
      "p-value:  0.17582417582417584\n",
      "(200, 10)\n",
      "(200,)\n",
      "Fitted\n"
     ]
    },
    {
     "name": "stderr",
     "output_type": "stream",
     "text": [
      "\n",
      " 63%|███████████████████████████████████████████████████                              | 63/100 [33:29<20:06, 32.61s/it]\u001b[A"
     ]
    },
    {
     "name": "stdout",
     "output_type": "stream",
     "text": [
      "Test Statistic:  0.010815719119147582\n",
      "p-value:  0.6473526473526473\n",
      "(200, 10)\n",
      "(200,)\n",
      "Fitted\n"
     ]
    },
    {
     "name": "stderr",
     "output_type": "stream",
     "text": [
      "\n",
      " 64%|███████████████████████████████████████████████████▊                             | 64/100 [34:00<19:20, 32.25s/it]\u001b[A"
     ]
    },
    {
     "name": "stdout",
     "output_type": "stream",
     "text": [
      "Test Statistic:  0.03169490741382064\n",
      "p-value:  0.001998001998001998\n",
      "(200, 10)\n",
      "(200,)\n",
      "Fitted\n"
     ]
    },
    {
     "name": "stderr",
     "output_type": "stream",
     "text": [
      "\n",
      " 65%|████████████████████████████████████████████████████▋                            | 65/100 [34:32<18:41, 32.04s/it]\u001b[A"
     ]
    },
    {
     "name": "stdout",
     "output_type": "stream",
     "text": [
      "Test Statistic:  0.020669056401180774\n",
      "p-value:  0.022977022977022976\n",
      "(200, 10)\n",
      "(200,)\n",
      "Fitted\n"
     ]
    },
    {
     "name": "stderr",
     "output_type": "stream",
     "text": [
      "\n",
      " 66%|█████████████████████████████████████████████████████▍                           | 66/100 [35:04<18:09, 32.05s/it]\u001b[A"
     ]
    },
    {
     "name": "stdout",
     "output_type": "stream",
     "text": [
      "Test Statistic:  0.011692538142545894\n",
      "p-value:  0.5934065934065934\n",
      "(200, 10)\n",
      "(200,)\n",
      "Fitted\n"
     ]
    },
    {
     "name": "stderr",
     "output_type": "stream",
     "text": [
      "\n",
      " 67%|██████████████████████████████████████████████████████▎                          | 67/100 [35:36<17:42, 32.19s/it]\u001b[A"
     ]
    },
    {
     "name": "stdout",
     "output_type": "stream",
     "text": [
      "Test Statistic:  0.018108158646145678\n",
      "p-value:  0.059940059940059943\n",
      "(200, 10)\n",
      "(200,)\n",
      "Fitted\n"
     ]
    },
    {
     "name": "stderr",
     "output_type": "stream",
     "text": [
      "\n",
      " 68%|███████████████████████████████████████████████████████                          | 68/100 [36:08<17:02, 31.96s/it]\u001b[A"
     ]
    },
    {
     "name": "stdout",
     "output_type": "stream",
     "text": [
      "Test Statistic:  0.05842249803462152\n",
      "p-value:  0.000999000999000999\n",
      "(200, 10)\n",
      "(200,)\n",
      "Fitted\n"
     ]
    },
    {
     "name": "stderr",
     "output_type": "stream",
     "text": [
      "\n",
      " 69%|███████████████████████████████████████████████████████▉                         | 69/100 [36:39<16:26, 31.83s/it]\u001b[A"
     ]
    },
    {
     "name": "stdout",
     "output_type": "stream",
     "text": [
      "Test Statistic:  0.004816631634607327\n",
      "p-value:  1.0\n",
      "(200, 10)\n",
      "(200,)\n",
      "Fitted\n"
     ]
    },
    {
     "name": "stderr",
     "output_type": "stream",
     "text": [
      "\n",
      " 70%|████████████████████████████████████████████████████████▋                        | 70/100 [37:11<15:52, 31.74s/it]\u001b[A"
     ]
    },
    {
     "name": "stdout",
     "output_type": "stream",
     "text": [
      "Test Statistic:  0.024451146746357177\n",
      "p-value:  0.003996003996003996\n",
      "(200, 10)\n",
      "(200,)\n",
      "Fitted\n"
     ]
    },
    {
     "name": "stderr",
     "output_type": "stream",
     "text": [
      "\n",
      " 71%|█████████████████████████████████████████████████████████▌                       | 71/100 [37:45<15:38, 32.37s/it]\u001b[A"
     ]
    },
    {
     "name": "stdout",
     "output_type": "stream",
     "text": [
      "Test Statistic:  0.020311980487804915\n",
      "p-value:  0.05094905094905095\n",
      "(200, 10)\n",
      "(200,)\n",
      "Fitted\n"
     ]
    },
    {
     "name": "stderr",
     "output_type": "stream",
     "text": [
      "\n",
      " 72%|██████████████████████████████████████████████████████████▎                      | 72/100 [38:16<14:58, 32.08s/it]\u001b[A"
     ]
    },
    {
     "name": "stdout",
     "output_type": "stream",
     "text": [
      "Test Statistic:  0.013365800670987471\n",
      "p-value:  0.33166833166833165\n",
      "(200, 10)\n",
      "(200,)\n",
      "Fitted\n"
     ]
    },
    {
     "name": "stderr",
     "output_type": "stream",
     "text": [
      "\n",
      " 73%|███████████████████████████████████████████████████████████▏                     | 73/100 [38:46<14:13, 31.62s/it]\u001b[A"
     ]
    },
    {
     "name": "stdout",
     "output_type": "stream",
     "text": [
      "Test Statistic:  0.02222442526653523\n",
      "p-value:  0.023976023976023976\n",
      "(200, 10)\n",
      "(200,)\n",
      "Fitted\n"
     ]
    },
    {
     "name": "stderr",
     "output_type": "stream",
     "text": [
      "\n",
      " 74%|███████████████████████████████████████████████████████████▉                     | 74/100 [39:17<13:36, 31.40s/it]\u001b[A"
     ]
    },
    {
     "name": "stdout",
     "output_type": "stream",
     "text": [
      "Test Statistic:  0.02242343732335894\n",
      "p-value:  0.01098901098901099\n",
      "(200, 10)\n",
      "(200,)\n",
      "Fitted\n"
     ]
    },
    {
     "name": "stderr",
     "output_type": "stream",
     "text": [
      "\n",
      " 75%|████████████████████████████████████████████████████████████▊                    | 75/100 [39:50<13:11, 31.66s/it]\u001b[A"
     ]
    },
    {
     "name": "stdout",
     "output_type": "stream",
     "text": [
      "Test Statistic:  0.011145343291829368\n",
      "p-value:  0.7092907092907093\n",
      "(200, 10)\n",
      "(200,)\n",
      "Fitted\n"
     ]
    },
    {
     "name": "stderr",
     "output_type": "stream",
     "text": [
      "\n",
      " 76%|█████████████████████████████████████████████████████████████▌                   | 76/100 [40:21<12:39, 31.64s/it]\u001b[A"
     ]
    },
    {
     "name": "stdout",
     "output_type": "stream",
     "text": [
      "Test Statistic:  0.006726415554257681\n",
      "p-value:  1.0\n",
      "(200, 10)\n",
      "(200,)\n",
      "Fitted\n"
     ]
    },
    {
     "name": "stderr",
     "output_type": "stream",
     "text": [
      "\n",
      " 77%|██████████████████████████████████████████████████████████████▎                  | 77/100 [40:52<12:00, 31.33s/it]\u001b[A"
     ]
    },
    {
     "name": "stdout",
     "output_type": "stream",
     "text": [
      "Test Statistic:  0.024532468407004293\n",
      "p-value:  0.012987012987012988\n",
      "(200, 10)\n",
      "(200,)\n",
      "Fitted\n"
     ]
    },
    {
     "name": "stderr",
     "output_type": "stream",
     "text": [
      "\n",
      " 78%|███████████████████████████████████████████████████████████████▏                 | 78/100 [41:23<11:25, 31.15s/it]\u001b[A"
     ]
    },
    {
     "name": "stdout",
     "output_type": "stream",
     "text": [
      "Test Statistic:  0.00767273818787606\n",
      "p-value:  0.9920079920079921\n",
      "(200, 10)\n",
      "(200,)\n",
      "Fitted\n"
     ]
    },
    {
     "name": "stderr",
     "output_type": "stream",
     "text": [
      "\n",
      " 79%|███████████████████████████████████████████████████████████████▉                 | 79/100 [41:55<11:00, 31.44s/it]\u001b[A"
     ]
    },
    {
     "name": "stdout",
     "output_type": "stream",
     "text": [
      "Test Statistic:  0.009642024806981397\n",
      "p-value:  0.9070929070929071\n",
      "(200, 10)\n",
      "(200,)\n",
      "Fitted\n"
     ]
    },
    {
     "name": "stderr",
     "output_type": "stream",
     "text": [
      "\n",
      " 80%|████████████████████████████████████████████████████████████████▊                | 80/100 [42:29<10:45, 32.27s/it]\u001b[A"
     ]
    },
    {
     "name": "stdout",
     "output_type": "stream",
     "text": [
      "Test Statistic:  0.007885818477477602\n",
      "p-value:  0.995004995004995\n",
      "(200, 10)\n",
      "(200,)\n",
      "Fitted\n"
     ]
    },
    {
     "name": "stderr",
     "output_type": "stream",
     "text": [
      "\n",
      " 81%|█████████████████████████████████████████████████████████████████▌               | 81/100 [43:01<10:14, 32.35s/it]\u001b[A"
     ]
    },
    {
     "name": "stdout",
     "output_type": "stream",
     "text": [
      "Test Statistic:  0.021273729875556535\n",
      "p-value:  0.02197802197802198\n",
      "(200, 10)\n",
      "(200,)\n",
      "Fitted\n"
     ]
    },
    {
     "name": "stderr",
     "output_type": "stream",
     "text": [
      "\n",
      " 82%|██████████████████████████████████████████████████████████████████▍              | 82/100 [43:33<09:36, 32.04s/it]\u001b[A"
     ]
    },
    {
     "name": "stdout",
     "output_type": "stream",
     "text": [
      "Test Statistic:  0.007886634317019414\n",
      "p-value:  0.994005994005994\n",
      "(200, 10)\n",
      "(200,)\n",
      "Fitted\n"
     ]
    },
    {
     "name": "stderr",
     "output_type": "stream",
     "text": [
      "\n",
      " 83%|███████████████████████████████████████████████████████████████████▏             | 83/100 [44:08<09:21, 33.03s/it]\u001b[A"
     ]
    },
    {
     "name": "stdout",
     "output_type": "stream",
     "text": [
      "Test Statistic:  0.011738159065296627\n",
      "p-value:  0.5374625374625375\n",
      "(200, 10)\n",
      "(200,)\n",
      "Fitted\n"
     ]
    },
    {
     "name": "stderr",
     "output_type": "stream",
     "text": [
      "\n",
      " 84%|████████████████████████████████████████████████████████████████████             | 84/100 [44:40<08:42, 32.68s/it]\u001b[A"
     ]
    },
    {
     "name": "stdout",
     "output_type": "stream",
     "text": [
      "Test Statistic:  0.00665743035400046\n",
      "p-value:  1.0\n",
      "(200, 10)\n",
      "(200,)\n",
      "Fitted\n"
     ]
    },
    {
     "name": "stderr",
     "output_type": "stream",
     "text": [
      "\n",
      " 85%|████████████████████████████████████████████████████████████████████▊            | 85/100 [45:09<07:55, 31.69s/it]\u001b[A"
     ]
    },
    {
     "name": "stdout",
     "output_type": "stream",
     "text": [
      "Test Statistic:  0.005129336154638842\n",
      "p-value:  1.0\n",
      "(200, 10)\n",
      "(200,)\n",
      "Fitted\n"
     ]
    },
    {
     "name": "stderr",
     "output_type": "stream",
     "text": [
      "\n",
      " 86%|█████████████████████████████████████████████████████████████████████▋           | 86/100 [45:39<07:17, 31.22s/it]\u001b[A"
     ]
    },
    {
     "name": "stdout",
     "output_type": "stream",
     "text": [
      "Test Statistic:  0.0036951267786597963\n",
      "p-value:  1.0\n",
      "(200, 10)\n",
      "(200,)\n",
      "Fitted\n"
     ]
    },
    {
     "name": "stderr",
     "output_type": "stream",
     "text": [
      "\n",
      " 87%|██████████████████████████████████████████████████████████████████████▍          | 87/100 [46:11<06:47, 31.34s/it]\u001b[A"
     ]
    },
    {
     "name": "stdout",
     "output_type": "stream",
     "text": [
      "Test Statistic:  0.013388155549515446\n",
      "p-value:  0.45854145854145856\n",
      "(200, 10)\n",
      "(200,)\n",
      "Fitted\n"
     ]
    },
    {
     "name": "stderr",
     "output_type": "stream",
     "text": [
      "\n",
      " 88%|███████████████████████████████████████████████████████████████████████▎         | 88/100 [46:43<06:17, 31.43s/it]\u001b[A"
     ]
    },
    {
     "name": "stdout",
     "output_type": "stream",
     "text": [
      "Test Statistic:  0.020519740567431\n",
      "p-value:  0.029970029970029972\n",
      "(200, 10)\n",
      "(200,)\n",
      "Fitted\n"
     ]
    },
    {
     "name": "stderr",
     "output_type": "stream",
     "text": [
      "\n",
      " 89%|████████████████████████████████████████████████████████████████████████         | 89/100 [47:15<05:47, 31.56s/it]\u001b[A"
     ]
    },
    {
     "name": "stdout",
     "output_type": "stream",
     "text": [
      "Test Statistic:  0.026135782081014303\n",
      "p-value:  0.006993006993006993\n",
      "(200, 10)\n",
      "(200,)\n",
      "Fitted\n"
     ]
    },
    {
     "name": "stderr",
     "output_type": "stream",
     "text": [
      "\n",
      " 90%|████████████████████████████████████████████████████████████████████████▉        | 90/100 [47:46<05:15, 31.55s/it]\u001b[A"
     ]
    },
    {
     "name": "stdout",
     "output_type": "stream",
     "text": [
      "Test Statistic:  0.01735679846823801\n",
      "p-value:  0.10989010989010989\n",
      "(200, 10)\n",
      "(200,)\n",
      "Fitted\n"
     ]
    },
    {
     "name": "stderr",
     "output_type": "stream",
     "text": [
      "\n",
      " 91%|█████████████████████████████████████████████████████████████████████████▋       | 91/100 [48:18<04:44, 31.58s/it]\u001b[A"
     ]
    },
    {
     "name": "stdout",
     "output_type": "stream",
     "text": [
      "Test Statistic:  0.01721504483936387\n",
      "p-value:  0.09490509490509491\n",
      "(200, 10)\n",
      "(200,)\n",
      "Fitted\n"
     ]
    },
    {
     "name": "stderr",
     "output_type": "stream",
     "text": [
      "\n",
      " 92%|██████████████████████████████████████████████████████████████████████████▌      | 92/100 [48:49<04:12, 31.53s/it]\u001b[A"
     ]
    },
    {
     "name": "stdout",
     "output_type": "stream",
     "text": [
      "Test Statistic:  0.010693846208914781\n",
      "p-value:  0.7392607392607392\n",
      "(200, 10)\n",
      "(200,)\n",
      "Fitted\n"
     ]
    },
    {
     "name": "stderr",
     "output_type": "stream",
     "text": [
      "\n",
      " 93%|███████████████████████████████████████████████████████████████████████████▎     | 93/100 [49:20<03:39, 31.32s/it]\u001b[A"
     ]
    },
    {
     "name": "stdout",
     "output_type": "stream",
     "text": [
      "Test Statistic:  0.02674109732294061\n",
      "p-value:  0.004995004995004995\n",
      "(200, 10)\n",
      "(200,)\n",
      "Fitted\n"
     ]
    },
    {
     "name": "stderr",
     "output_type": "stream",
     "text": [
      "\n",
      " 94%|████████████████████████████████████████████████████████████████████████████▏    | 94/100 [49:54<03:13, 32.19s/it]\u001b[A"
     ]
    },
    {
     "name": "stdout",
     "output_type": "stream",
     "text": [
      "Test Statistic:  0.006116714972244197\n",
      "p-value:  1.0\n",
      "(200, 10)\n",
      "(200,)\n",
      "Fitted\n"
     ]
    },
    {
     "name": "stderr",
     "output_type": "stream",
     "text": [
      "\n",
      " 95%|████████████████████████████████████████████████████████████████████████████▉    | 95/100 [50:25<02:39, 31.87s/it]\u001b[A"
     ]
    },
    {
     "name": "stdout",
     "output_type": "stream",
     "text": [
      "Test Statistic:  0.005183269637879961\n",
      "p-value:  1.0\n",
      "(200, 10)\n",
      "(200,)\n",
      "Fitted\n"
     ]
    },
    {
     "name": "stderr",
     "output_type": "stream",
     "text": [
      "\n",
      " 96%|█████████████████████████████████████████████████████████████████████████████▊   | 96/100 [50:57<02:07, 31.85s/it]\u001b[A"
     ]
    },
    {
     "name": "stdout",
     "output_type": "stream",
     "text": [
      "Test Statistic:  0.012392186753897083\n",
      "p-value:  0.4835164835164835\n",
      "(200, 10)\n",
      "(200,)\n",
      "Fitted\n"
     ]
    },
    {
     "name": "stderr",
     "output_type": "stream",
     "text": [
      "\n",
      " 97%|██████████████████████████████████████████████████████████████████████████████▌  | 97/100 [51:28<01:35, 31.68s/it]\u001b[A"
     ]
    },
    {
     "name": "stdout",
     "output_type": "stream",
     "text": [
      "Test Statistic:  0.005313916657095352\n",
      "p-value:  1.0\n",
      "(200, 10)\n",
      "(200,)\n",
      "Fitted\n"
     ]
    },
    {
     "name": "stderr",
     "output_type": "stream",
     "text": [
      "\n",
      " 98%|███████████████████████████████████████████████████████████████████████████████▍ | 98/100 [51:59<01:02, 31.32s/it]\u001b[A"
     ]
    },
    {
     "name": "stdout",
     "output_type": "stream",
     "text": [
      "Test Statistic:  0.023461129228132704\n",
      "p-value:  0.013986013986013986\n",
      "(200, 10)\n",
      "(200,)\n",
      "Fitted\n"
     ]
    },
    {
     "name": "stderr",
     "output_type": "stream",
     "text": [
      "\n",
      " 99%|████████████████████████████████████████████████████████████████████████████████▏| 99/100 [52:37<00:33, 33.45s/it]\u001b[A"
     ]
    },
    {
     "name": "stdout",
     "output_type": "stream",
     "text": [
      "Test Statistic:  0.015050767224380257\n",
      "p-value:  0.25574425574425574\n",
      "(200, 10)\n",
      "(200,)\n",
      "Fitted\n"
     ]
    },
    {
     "name": "stderr",
     "output_type": "stream",
     "text": [
      "\n",
      "100%|████████████████████████████████████████████████████████████████████████████████| 100/100 [53:09<00:00, 31.90s/it]\u001b[A\n",
      " 25%|███████████████████                                                         | 5/20 [4:24:07<13:12:08, 3168.56s/it]\n",
      "  0%|                                                                                          | 0/100 [00:00<?, ?it/s]\u001b[A"
     ]
    },
    {
     "name": "stdout",
     "output_type": "stream",
     "text": [
      "Test Statistic:  0.01930609038967912\n",
      "p-value:  0.03896103896103896\n",
      "dimension 6\n",
      "circle\n",
      "(200, 12)\n",
      "(200,)\n",
      "Fitted\n"
     ]
    },
    {
     "name": "stderr",
     "output_type": "stream",
     "text": [
      "\n",
      "  1%|▊                                                                                 | 1/100 [00:32<53:43, 32.56s/it]\u001b[A"
     ]
    },
    {
     "name": "stdout",
     "output_type": "stream",
     "text": [
      "Test Statistic:  0.01850881672238136\n",
      "p-value:  0.04595404595404595\n",
      "(200, 12)\n",
      "(200,)\n",
      "Fitted\n"
     ]
    },
    {
     "name": "stderr",
     "output_type": "stream",
     "text": [
      "\n",
      "  2%|█▋                                                                                | 2/100 [01:05<53:09, 32.55s/it]\u001b[A"
     ]
    },
    {
     "name": "stdout",
     "output_type": "stream",
     "text": [
      "Test Statistic:  0.026983672246387425\n",
      "p-value:  0.001998001998001998\n",
      "(200, 12)\n",
      "(200,)\n",
      "Fitted\n"
     ]
    },
    {
     "name": "stderr",
     "output_type": "stream",
     "text": [
      "\n",
      "  3%|██▍                                                                               | 3/100 [01:36<52:04, 32.21s/it]\u001b[A"
     ]
    },
    {
     "name": "stdout",
     "output_type": "stream",
     "text": [
      "Test Statistic:  0.014043932794127967\n",
      "p-value:  0.2127872127872128\n",
      "(200, 12)\n",
      "(200,)\n",
      "Fitted\n"
     ]
    },
    {
     "name": "stderr",
     "output_type": "stream",
     "text": [
      "\n",
      "  4%|███▎                                                                              | 4/100 [02:08<51:18, 32.07s/it]\u001b[A"
     ]
    },
    {
     "name": "stdout",
     "output_type": "stream",
     "text": [
      "Test Statistic:  0.012618204218640017\n",
      "p-value:  0.4325674325674326\n",
      "(200, 12)\n",
      "(200,)\n",
      "Fitted\n"
     ]
    },
    {
     "name": "stderr",
     "output_type": "stream",
     "text": [
      "\n",
      "  5%|████                                                                              | 5/100 [02:42<51:54, 32.78s/it]\u001b[A"
     ]
    },
    {
     "name": "stdout",
     "output_type": "stream",
     "text": [
      "Test Statistic:  0.01865057982681262\n",
      "p-value:  0.025974025974025976\n",
      "(200, 12)\n",
      "(200,)\n",
      "Fitted\n"
     ]
    },
    {
     "name": "stderr",
     "output_type": "stream",
     "text": [
      "\n",
      "  6%|████▉                                                                             | 6/100 [03:14<50:51, 32.46s/it]\u001b[A"
     ]
    },
    {
     "name": "stdout",
     "output_type": "stream",
     "text": [
      "Test Statistic:  0.005935843451416178\n",
      "p-value:  1.0\n",
      "(200, 12)\n",
      "(200,)\n",
      "Fitted\n"
     ]
    },
    {
     "name": "stderr",
     "output_type": "stream",
     "text": [
      "\n",
      "  7%|█████▋                                                                            | 7/100 [03:45<49:50, 32.16s/it]\u001b[A"
     ]
    },
    {
     "name": "stdout",
     "output_type": "stream",
     "text": [
      "Test Statistic:  0.008093472099041876\n",
      "p-value:  0.983016983016983\n",
      "(200, 12)\n",
      "(200,)\n",
      "Fitted\n"
     ]
    },
    {
     "name": "stderr",
     "output_type": "stream",
     "text": [
      "\n",
      "  8%|██████▌                                                                           | 8/100 [04:18<49:22, 32.20s/it]\u001b[A"
     ]
    },
    {
     "name": "stdout",
     "output_type": "stream",
     "text": [
      "Test Statistic:  0.010428759454807146\n",
      "p-value:  0.7452547452547452\n",
      "(200, 12)\n",
      "(200,)\n",
      "Fitted\n"
     ]
    },
    {
     "name": "stderr",
     "output_type": "stream",
     "text": [
      "\n",
      "  9%|███████▍                                                                          | 9/100 [04:48<48:10, 31.76s/it]\u001b[A"
     ]
    },
    {
     "name": "stdout",
     "output_type": "stream",
     "text": [
      "Test Statistic:  0.01830442279574962\n",
      "p-value:  0.061938061938061936\n",
      "(200, 12)\n",
      "(200,)\n",
      "Fitted\n"
     ]
    },
    {
     "name": "stderr",
     "output_type": "stream",
     "text": [
      "\n",
      " 10%|████████                                                                         | 10/100 [05:19<47:20, 31.56s/it]\u001b[A"
     ]
    },
    {
     "name": "stdout",
     "output_type": "stream",
     "text": [
      "Test Statistic:  0.004241886571252684\n",
      "p-value:  1.0\n",
      "(200, 12)\n",
      "(200,)\n",
      "Fitted\n"
     ]
    },
    {
     "name": "stderr",
     "output_type": "stream",
     "text": [
      "\n",
      " 11%|████████▉                                                                        | 11/100 [05:50<46:23, 31.27s/it]\u001b[A"
     ]
    },
    {
     "name": "stdout",
     "output_type": "stream",
     "text": [
      "Test Statistic:  0.02784522434188541\n",
      "p-value:  0.001998001998001998\n",
      "(200, 12)\n",
      "(200,)\n",
      "Fitted\n"
     ]
    },
    {
     "name": "stderr",
     "output_type": "stream",
     "text": [
      "\n",
      " 12%|█████████▋                                                                       | 12/100 [06:22<46:08, 31.46s/it]\u001b[A"
     ]
    },
    {
     "name": "stdout",
     "output_type": "stream",
     "text": [
      "Test Statistic:  0.008025772750165028\n",
      "p-value:  0.989010989010989\n",
      "(200, 12)\n",
      "(200,)\n",
      "Fitted\n"
     ]
    },
    {
     "name": "stderr",
     "output_type": "stream",
     "text": [
      "\n",
      " 13%|██████████▌                                                                      | 13/100 [06:53<45:33, 31.42s/it]\u001b[A"
     ]
    },
    {
     "name": "stdout",
     "output_type": "stream",
     "text": [
      "Test Statistic:  0.01380465500728112\n",
      "p-value:  0.3696303696303696\n",
      "(200, 12)\n",
      "(200,)\n",
      "Fitted\n"
     ]
    },
    {
     "name": "stderr",
     "output_type": "stream",
     "text": [
      "\n",
      " 14%|███████████▎                                                                     | 14/100 [07:25<45:10, 31.52s/it]\u001b[A"
     ]
    },
    {
     "name": "stdout",
     "output_type": "stream",
     "text": [
      "Test Statistic:  0.011326799824005307\n",
      "p-value:  0.6313686313686314\n",
      "(200, 12)\n",
      "(200,)\n",
      "Fitted\n"
     ]
    },
    {
     "name": "stderr",
     "output_type": "stream",
     "text": [
      "\n",
      " 15%|████████████▏                                                                    | 15/100 [07:56<44:36, 31.48s/it]\u001b[A"
     ]
    },
    {
     "name": "stdout",
     "output_type": "stream",
     "text": [
      "Test Statistic:  0.015413527195630494\n",
      "p-value:  0.18281718281718282\n",
      "(200, 12)\n",
      "(200,)\n",
      "Fitted\n"
     ]
    },
    {
     "name": "stderr",
     "output_type": "stream",
     "text": [
      "\n",
      " 16%|████████████▉                                                                    | 16/100 [08:28<44:00, 31.43s/it]\u001b[A"
     ]
    },
    {
     "name": "stdout",
     "output_type": "stream",
     "text": [
      "Test Statistic:  0.014793711317392266\n",
      "p-value:  0.13386613386613386\n",
      "(200, 12)\n",
      "(200,)\n",
      "Fitted\n"
     ]
    },
    {
     "name": "stderr",
     "output_type": "stream",
     "text": [
      "\n",
      " 17%|█████████████▊                                                                   | 17/100 [08:59<43:18, 31.30s/it]\u001b[A"
     ]
    },
    {
     "name": "stdout",
     "output_type": "stream",
     "text": [
      "Test Statistic:  0.01584751185120359\n",
      "p-value:  0.060939060939060936\n",
      "(200, 12)\n",
      "(200,)\n",
      "Fitted\n"
     ]
    },
    {
     "name": "stderr",
     "output_type": "stream",
     "text": [
      "\n",
      " 18%|██████████████▌                                                                  | 18/100 [09:34<44:15, 32.39s/it]\u001b[A"
     ]
    },
    {
     "name": "stdout",
     "output_type": "stream",
     "text": [
      "Test Statistic:  0.013232378455238725\n",
      "p-value:  0.33166833166833165\n",
      "(200, 12)\n",
      "(200,)\n",
      "Fitted\n"
     ]
    },
    {
     "name": "stderr",
     "output_type": "stream",
     "text": [
      "\n",
      " 19%|███████████████▍                                                                 | 19/100 [10:04<43:03, 31.89s/it]\u001b[A"
     ]
    },
    {
     "name": "stdout",
     "output_type": "stream",
     "text": [
      "Test Statistic:  0.012565591992210412\n",
      "p-value:  0.4085914085914086\n",
      "(200, 12)\n",
      "(200,)\n",
      "Fitted\n"
     ]
    },
    {
     "name": "stderr",
     "output_type": "stream",
     "text": [
      "\n",
      " 20%|████████████████▏                                                                | 20/100 [10:35<42:01, 31.52s/it]\u001b[A"
     ]
    },
    {
     "name": "stdout",
     "output_type": "stream",
     "text": [
      "Test Statistic:  0.005170881483823386\n",
      "p-value:  1.0\n",
      "(200, 12)\n",
      "(200,)\n",
      "Fitted\n"
     ]
    },
    {
     "name": "stderr",
     "output_type": "stream",
     "text": [
      "\n",
      " 21%|█████████████████                                                                | 21/100 [11:06<41:15, 31.33s/it]\u001b[A"
     ]
    },
    {
     "name": "stdout",
     "output_type": "stream",
     "text": [
      "Test Statistic:  0.007771556198787222\n",
      "p-value:  0.996003996003996\n",
      "(200, 12)\n",
      "(200,)\n",
      "Fitted\n"
     ]
    },
    {
     "name": "stderr",
     "output_type": "stream",
     "text": [
      "\n",
      " 22%|█████████████████▊                                                               | 22/100 [11:37<40:26, 31.11s/it]\u001b[A"
     ]
    },
    {
     "name": "stdout",
     "output_type": "stream",
     "text": [
      "Test Statistic:  0.007643508047216696\n",
      "p-value:  0.99000999000999\n",
      "(200, 12)\n",
      "(200,)\n",
      "Fitted\n"
     ]
    },
    {
     "name": "stderr",
     "output_type": "stream",
     "text": [
      "\n",
      " 23%|██████████████████▋                                                              | 23/100 [12:09<40:26, 31.52s/it]\u001b[A"
     ]
    },
    {
     "name": "stdout",
     "output_type": "stream",
     "text": [
      "Test Statistic:  0.010223826531359004\n",
      "p-value:  0.6743256743256744\n",
      "(200, 12)\n",
      "(200,)\n",
      "Fitted\n"
     ]
    },
    {
     "name": "stderr",
     "output_type": "stream",
     "text": [
      "\n",
      " 24%|███████████████████▍                                                             | 24/100 [12:41<40:00, 31.59s/it]\u001b[A"
     ]
    },
    {
     "name": "stdout",
     "output_type": "stream",
     "text": [
      "Test Statistic:  0.0054820716823942295\n",
      "p-value:  1.0\n",
      "(200, 12)\n",
      "(200,)\n",
      "Fitted\n"
     ]
    },
    {
     "name": "stderr",
     "output_type": "stream",
     "text": [
      "\n",
      " 25%|████████████████████▎                                                            | 25/100 [13:12<39:26, 31.56s/it]\u001b[A"
     ]
    },
    {
     "name": "stdout",
     "output_type": "stream",
     "text": [
      "Test Statistic:  0.012198736799615917\n",
      "p-value:  0.4835164835164835\n",
      "(200, 12)\n",
      "(200,)\n",
      "Fitted\n"
     ]
    },
    {
     "name": "stderr",
     "output_type": "stream",
     "text": [
      "\n",
      " 26%|█████████████████████                                                            | 26/100 [13:43<38:41, 31.37s/it]\u001b[A"
     ]
    },
    {
     "name": "stdout",
     "output_type": "stream",
     "text": [
      "Test Statistic:  0.007695928278749653\n",
      "p-value:  0.986013986013986\n",
      "(200, 12)\n",
      "(200,)\n",
      "Fitted\n"
     ]
    },
    {
     "name": "stderr",
     "output_type": "stream",
     "text": [
      "\n",
      " 27%|█████████████████████▊                                                           | 27/100 [14:15<38:12, 31.41s/it]\u001b[A"
     ]
    },
    {
     "name": "stdout",
     "output_type": "stream",
     "text": [
      "Test Statistic:  0.003101650455380356\n",
      "p-value:  1.0\n",
      "(200, 12)\n",
      "(200,)\n",
      "Fitted\n"
     ]
    },
    {
     "name": "stderr",
     "output_type": "stream",
     "text": [
      "\n",
      " 28%|██████████████████████▋                                                          | 28/100 [14:46<37:36, 31.35s/it]\u001b[A"
     ]
    },
    {
     "name": "stdout",
     "output_type": "stream",
     "text": [
      "Test Statistic:  0.021887297281908302\n",
      "p-value:  0.025974025974025976\n",
      "(200, 12)\n",
      "(200,)\n",
      "Fitted\n"
     ]
    },
    {
     "name": "stderr",
     "output_type": "stream",
     "text": [
      "\n",
      " 29%|███████████████████████▍                                                         | 29/100 [15:18<37:12, 31.44s/it]\u001b[A"
     ]
    },
    {
     "name": "stdout",
     "output_type": "stream",
     "text": [
      "Test Statistic:  0.013808735816190132\n",
      "p-value:  0.3076923076923077\n",
      "(200, 12)\n",
      "(200,)\n",
      "Fitted\n"
     ]
    },
    {
     "name": "stderr",
     "output_type": "stream",
     "text": [
      "\n",
      " 30%|████████████████████████▎                                                        | 30/100 [15:48<36:17, 31.11s/it]\u001b[A"
     ]
    },
    {
     "name": "stdout",
     "output_type": "stream",
     "text": [
      "Test Statistic:  0.010644059332091449\n",
      "p-value:  0.5894105894105894\n",
      "(200, 12)\n",
      "(200,)\n",
      "Fitted\n"
     ]
    },
    {
     "name": "stderr",
     "output_type": "stream",
     "text": [
      "\n",
      " 31%|█████████████████████████                                                        | 31/100 [16:19<35:47, 31.12s/it]\u001b[A"
     ]
    },
    {
     "name": "stdout",
     "output_type": "stream",
     "text": [
      "Test Statistic:  0.006615384240172717\n",
      "p-value:  1.0\n",
      "(200, 12)\n",
      "(200,)\n",
      "Fitted\n"
     ]
    },
    {
     "name": "stderr",
     "output_type": "stream",
     "text": [
      "\n",
      " 32%|█████████████████████████▉                                                       | 32/100 [16:50<35:03, 30.93s/it]\u001b[A"
     ]
    },
    {
     "name": "stdout",
     "output_type": "stream",
     "text": [
      "Test Statistic:  0.007145248822821637\n",
      "p-value:  0.978021978021978\n",
      "(200, 12)\n",
      "(200,)\n",
      "Fitted\n"
     ]
    },
    {
     "name": "stderr",
     "output_type": "stream",
     "text": [
      "\n",
      " 33%|██████████████████████████▋                                                      | 33/100 [17:21<34:38, 31.02s/it]\u001b[A"
     ]
    },
    {
     "name": "stdout",
     "output_type": "stream",
     "text": [
      "Test Statistic:  0.011050489009987396\n",
      "p-value:  0.6793206793206793\n",
      "(200, 12)\n",
      "(200,)\n",
      "Fitted\n"
     ]
    },
    {
     "name": "stderr",
     "output_type": "stream",
     "text": [
      "\n",
      " 34%|███████████████████████████▌                                                     | 34/100 [17:51<33:47, 30.71s/it]\u001b[A"
     ]
    },
    {
     "name": "stdout",
     "output_type": "stream",
     "text": [
      "Test Statistic:  0.008875560909363922\n",
      "p-value:  0.967032967032967\n",
      "(200, 12)\n",
      "(200,)\n",
      "Fitted\n"
     ]
    },
    {
     "name": "stderr",
     "output_type": "stream",
     "text": [
      "\n",
      " 35%|████████████████████████████▎                                                    | 35/100 [18:21<33:01, 30.48s/it]\u001b[A"
     ]
    },
    {
     "name": "stdout",
     "output_type": "stream",
     "text": [
      "Test Statistic:  0.010009737032384947\n",
      "p-value:  0.6093906093906094\n",
      "(200, 12)\n",
      "(200,)\n",
      "Fitted\n"
     ]
    },
    {
     "name": "stderr",
     "output_type": "stream",
     "text": [
      "\n",
      " 36%|█████████████████████████████▏                                                   | 36/100 [18:52<32:41, 30.64s/it]\u001b[A"
     ]
    },
    {
     "name": "stdout",
     "output_type": "stream",
     "text": [
      "Test Statistic:  0.00943318141708327\n",
      "p-value:  0.7762237762237763\n",
      "(200, 12)\n",
      "(200,)\n",
      "Fitted\n"
     ]
    },
    {
     "name": "stderr",
     "output_type": "stream",
     "text": [
      "\n",
      " 37%|█████████████████████████████▉                                                   | 37/100 [19:28<33:55, 32.31s/it]\u001b[A"
     ]
    },
    {
     "name": "stdout",
     "output_type": "stream",
     "text": [
      "Test Statistic:  0.006386133465700161\n",
      "p-value:  1.0\n",
      "(200, 12)\n",
      "(200,)\n",
      "Fitted\n"
     ]
    },
    {
     "name": "stderr",
     "output_type": "stream",
     "text": [
      "\n",
      " 38%|██████████████████████████████▊                                                  | 38/100 [19:59<33:02, 31.98s/it]\u001b[A"
     ]
    },
    {
     "name": "stdout",
     "output_type": "stream",
     "text": [
      "Test Statistic:  0.024174110673533367\n",
      "p-value:  0.004995004995004995\n",
      "(200, 12)\n",
      "(200,)\n",
      "Fitted\n"
     ]
    },
    {
     "name": "stderr",
     "output_type": "stream",
     "text": [
      "\n",
      " 39%|███████████████████████████████▌                                                 | 39/100 [20:31<32:28, 31.94s/it]\u001b[A"
     ]
    },
    {
     "name": "stdout",
     "output_type": "stream",
     "text": [
      "Test Statistic:  0.0076644108137268185\n",
      "p-value:  0.974025974025974\n",
      "(200, 12)\n",
      "(200,)\n",
      "Fitted\n"
     ]
    },
    {
     "name": "stderr",
     "output_type": "stream",
     "text": [
      "\n",
      " 40%|████████████████████████████████▍                                                | 40/100 [21:01<31:30, 31.52s/it]\u001b[A"
     ]
    },
    {
     "name": "stdout",
     "output_type": "stream",
     "text": [
      "Test Statistic:  0.0032872305766260546\n",
      "p-value:  1.0\n",
      "(200, 12)\n",
      "(200,)\n",
      "Fitted\n"
     ]
    },
    {
     "name": "stderr",
     "output_type": "stream",
     "text": [
      "\n",
      " 41%|█████████████████████████████████▏                                               | 41/100 [21:32<30:38, 31.16s/it]\u001b[A"
     ]
    },
    {
     "name": "stdout",
     "output_type": "stream",
     "text": [
      "Test Statistic:  0.01436366438087544\n",
      "p-value:  0.16283716283716285\n",
      "(200, 12)\n",
      "(200,)\n",
      "Fitted\n"
     ]
    },
    {
     "name": "stderr",
     "output_type": "stream",
     "text": [
      "\n",
      " 42%|██████████████████████████████████                                               | 42/100 [22:02<29:54, 30.93s/it]\u001b[A"
     ]
    },
    {
     "name": "stdout",
     "output_type": "stream",
     "text": [
      "Test Statistic:  0.02042182993004027\n",
      "p-value:  0.013986013986013986\n",
      "(200, 12)\n",
      "(200,)\n",
      "Fitted\n"
     ]
    },
    {
     "name": "stderr",
     "output_type": "stream",
     "text": [
      "\n",
      " 43%|██████████████████████████████████▊                                              | 43/100 [22:34<29:45, 31.32s/it]\u001b[A"
     ]
    },
    {
     "name": "stdout",
     "output_type": "stream",
     "text": [
      "Test Statistic:  0.004584455961346601\n",
      "p-value:  1.0\n",
      "(200, 12)\n",
      "(200,)\n",
      "Fitted\n"
     ]
    },
    {
     "name": "stderr",
     "output_type": "stream",
     "text": [
      "\n",
      " 44%|███████████████████████████████████▋                                             | 44/100 [23:06<29:15, 31.35s/it]\u001b[A"
     ]
    },
    {
     "name": "stdout",
     "output_type": "stream",
     "text": [
      "Test Statistic:  0.005093717658021579\n",
      "p-value:  1.0\n",
      "(200, 12)\n",
      "(200,)\n",
      "Fitted\n"
     ]
    },
    {
     "name": "stderr",
     "output_type": "stream",
     "text": [
      "\n",
      " 45%|████████████████████████████████████▍                                            | 45/100 [23:38<28:52, 31.49s/it]\u001b[A"
     ]
    },
    {
     "name": "stdout",
     "output_type": "stream",
     "text": [
      "Test Statistic:  0.011113167037821503\n",
      "p-value:  0.6343656343656343\n",
      "(200, 12)\n",
      "(200,)\n",
      "Fitted\n"
     ]
    },
    {
     "name": "stderr",
     "output_type": "stream",
     "text": [
      "\n",
      " 46%|█████████████████████████████████████▎                                           | 46/100 [24:09<28:24, 31.57s/it]\u001b[A"
     ]
    },
    {
     "name": "stdout",
     "output_type": "stream",
     "text": [
      "Test Statistic:  0.004801868714676916\n",
      "p-value:  1.0\n",
      "(200, 12)\n",
      "(200,)\n",
      "Fitted\n"
     ]
    },
    {
     "name": "stderr",
     "output_type": "stream",
     "text": [
      "\n",
      " 47%|██████████████████████████████████████                                           | 47/100 [24:40<27:38, 31.28s/it]\u001b[A"
     ]
    },
    {
     "name": "stdout",
     "output_type": "stream",
     "text": [
      "Test Statistic:  0.004449459756737384\n",
      "p-value:  1.0\n",
      "(200, 12)\n",
      "(200,)\n",
      "Fitted\n"
     ]
    },
    {
     "name": "stderr",
     "output_type": "stream",
     "text": [
      "\n",
      " 48%|██████████████████████████████████████▉                                          | 48/100 [25:12<27:16, 31.48s/it]\u001b[A"
     ]
    },
    {
     "name": "stdout",
     "output_type": "stream",
     "text": [
      "Test Statistic:  0.016188107344686786\n",
      "p-value:  0.11688311688311688\n",
      "(200, 12)\n",
      "(200,)\n",
      "Fitted\n"
     ]
    },
    {
     "name": "stderr",
     "output_type": "stream",
     "text": [
      "\n",
      " 49%|███████████████████████████████████████▋                                         | 49/100 [25:44<26:47, 31.53s/it]\u001b[A"
     ]
    },
    {
     "name": "stdout",
     "output_type": "stream",
     "text": [
      "Test Statistic:  0.005881764222404606\n",
      "p-value:  1.0\n",
      "(200, 12)\n",
      "(200,)\n",
      "Fitted\n"
     ]
    },
    {
     "name": "stderr",
     "output_type": "stream",
     "text": [
      "\n",
      " 50%|████████████████████████████████████████▌                                        | 50/100 [26:16<26:29, 31.78s/it]\u001b[A"
     ]
    },
    {
     "name": "stdout",
     "output_type": "stream",
     "text": [
      "Test Statistic:  0.01850369575778421\n",
      "p-value:  0.04895104895104895\n",
      "(200, 12)\n",
      "(200,)\n",
      "Fitted\n"
     ]
    },
    {
     "name": "stderr",
     "output_type": "stream",
     "text": [
      "\n",
      " 51%|█████████████████████████████████████████▎                                       | 51/100 [26:48<25:53, 31.70s/it]\u001b[A"
     ]
    },
    {
     "name": "stdout",
     "output_type": "stream",
     "text": [
      "Test Statistic:  0.005134850463129337\n",
      "p-value:  1.0\n",
      "(200, 12)\n",
      "(200,)\n",
      "Fitted\n"
     ]
    },
    {
     "name": "stderr",
     "output_type": "stream",
     "text": [
      "\n",
      " 52%|██████████████████████████████████████████                                       | 52/100 [27:20<25:35, 31.99s/it]\u001b[A"
     ]
    },
    {
     "name": "stdout",
     "output_type": "stream",
     "text": [
      "Test Statistic:  0.0374600478583208\n",
      "p-value:  0.000999000999000999\n",
      "(200, 12)\n",
      "(200,)\n",
      "Fitted\n"
     ]
    },
    {
     "name": "stderr",
     "output_type": "stream",
     "text": [
      "\n",
      " 53%|██████████████████████████████████████████▉                                      | 53/100 [27:52<25:04, 32.02s/it]\u001b[A"
     ]
    },
    {
     "name": "stdout",
     "output_type": "stream",
     "text": [
      "Test Statistic:  0.021097528438388413\n",
      "p-value:  0.01998001998001998\n",
      "(200, 12)\n",
      "(200,)\n",
      "Fitted\n"
     ]
    },
    {
     "name": "stderr",
     "output_type": "stream",
     "text": [
      "\n",
      " 54%|███████████████████████████████████████████▋                                     | 54/100 [28:23<24:17, 31.68s/it]\u001b[A"
     ]
    },
    {
     "name": "stdout",
     "output_type": "stream",
     "text": [
      "Test Statistic:  0.01274798987198078\n",
      "p-value:  0.3906093906093906\n",
      "(200, 12)\n",
      "(200,)\n",
      "Fitted\n"
     ]
    },
    {
     "name": "stderr",
     "output_type": "stream",
     "text": [
      "\n",
      " 55%|████████████████████████████████████████████▌                                    | 55/100 [28:55<23:50, 31.79s/it]\u001b[A"
     ]
    },
    {
     "name": "stdout",
     "output_type": "stream",
     "text": [
      "Test Statistic:  0.007731906774620323\n",
      "p-value:  0.987012987012987\n",
      "(200, 12)\n",
      "(200,)\n",
      "Fitted\n"
     ]
    },
    {
     "name": "stderr",
     "output_type": "stream",
     "text": [
      "\n",
      " 56%|█████████████████████████████████████████████▎                                   | 56/100 [29:36<25:20, 34.56s/it]\u001b[A"
     ]
    },
    {
     "name": "stdout",
     "output_type": "stream",
     "text": [
      "Test Statistic:  0.02067520277477819\n",
      "p-value:  0.012987012987012988\n",
      "(200, 12)\n",
      "(200,)\n",
      "Fitted\n"
     ]
    },
    {
     "name": "stderr",
     "output_type": "stream",
     "text": [
      "\n",
      " 57%|██████████████████████████████████████████████▏                                  | 57/100 [30:08<24:11, 33.76s/it]\u001b[A"
     ]
    },
    {
     "name": "stdout",
     "output_type": "stream",
     "text": [
      "Test Statistic:  0.028071222081963887\n",
      "p-value:  0.001998001998001998\n",
      "(200, 12)\n",
      "(200,)\n",
      "Fitted\n"
     ]
    },
    {
     "name": "stderr",
     "output_type": "stream",
     "text": [
      "\n",
      " 58%|██████████████████████████████████████████████▉                                  | 58/100 [30:40<23:15, 33.23s/it]\u001b[A"
     ]
    },
    {
     "name": "stdout",
     "output_type": "stream",
     "text": [
      "Test Statistic:  0.01009323020836117\n",
      "p-value:  0.7652347652347652\n",
      "(200, 12)\n",
      "(200,)\n",
      "Fitted\n"
     ]
    },
    {
     "name": "stderr",
     "output_type": "stream",
     "text": [
      "\n",
      " 59%|███████████████████████████████████████████████▊                                 | 59/100 [31:12<22:27, 32.87s/it]\u001b[A"
     ]
    },
    {
     "name": "stdout",
     "output_type": "stream",
     "text": [
      "Test Statistic:  0.012842023779133793\n",
      "p-value:  0.2757242757242757\n",
      "(200, 12)\n",
      "(200,)\n",
      "Fitted\n"
     ]
    },
    {
     "name": "stderr",
     "output_type": "stream",
     "text": [
      "\n",
      " 60%|████████████████████████████████████████████████▌                                | 60/100 [31:44<21:41, 32.54s/it]\u001b[A"
     ]
    },
    {
     "name": "stdout",
     "output_type": "stream",
     "text": [
      "Test Statistic:  0.009098824584783505\n",
      "p-value:  0.9070929070929071\n",
      "(200, 12)\n",
      "(200,)\n",
      "Fitted\n"
     ]
    },
    {
     "name": "stderr",
     "output_type": "stream",
     "text": [
      "\n",
      " 61%|█████████████████████████████████████████████████▍                               | 61/100 [32:15<20:56, 32.21s/it]\u001b[A"
     ]
    },
    {
     "name": "stdout",
     "output_type": "stream",
     "text": [
      "Test Statistic:  0.004802880141572596\n",
      "p-value:  1.0\n",
      "(200, 12)\n",
      "(200,)\n",
      "Fitted\n"
     ]
    },
    {
     "name": "stderr",
     "output_type": "stream",
     "text": [
      "\n",
      " 62%|██████████████████████████████████████████████████▏                              | 62/100 [32:45<19:52, 31.39s/it]\u001b[A"
     ]
    },
    {
     "name": "stdout",
     "output_type": "stream",
     "text": [
      "Test Statistic:  0.025730559338883907\n",
      "p-value:  0.001998001998001998\n",
      "(200, 12)\n",
      "(200,)\n",
      "Fitted\n"
     ]
    },
    {
     "name": "stderr",
     "output_type": "stream",
     "text": [
      "\n",
      " 63%|███████████████████████████████████████████████████                              | 63/100 [33:20<20:02, 32.50s/it]\u001b[A"
     ]
    },
    {
     "name": "stdout",
     "output_type": "stream",
     "text": [
      "Test Statistic:  0.022787853137196\n",
      "p-value:  0.016983016983016984\n",
      "(200, 12)\n",
      "(200,)\n",
      "Fitted\n"
     ]
    },
    {
     "name": "stderr",
     "output_type": "stream",
     "text": [
      "\n",
      " 64%|███████████████████████████████████████████████████▊                             | 64/100 [33:51<19:14, 32.08s/it]\u001b[A"
     ]
    },
    {
     "name": "stdout",
     "output_type": "stream",
     "text": [
      "Test Statistic:  0.005883548640792768\n",
      "p-value:  1.0\n",
      "(200, 12)\n",
      "(200,)\n",
      "Fitted\n"
     ]
    },
    {
     "name": "stderr",
     "output_type": "stream",
     "text": [
      "\n",
      " 65%|████████████████████████████████████████████████████▋                            | 65/100 [34:22<18:32, 31.78s/it]\u001b[A"
     ]
    },
    {
     "name": "stdout",
     "output_type": "stream",
     "text": [
      "Test Statistic:  0.01009227475224661\n",
      "p-value:  0.7332667332667333\n",
      "(200, 12)\n",
      "(200,)\n",
      "Fitted\n"
     ]
    },
    {
     "name": "stderr",
     "output_type": "stream",
     "text": [
      "\n",
      " 66%|█████████████████████████████████████████████████████▍                           | 66/100 [34:54<18:02, 31.82s/it]\u001b[A"
     ]
    },
    {
     "name": "stdout",
     "output_type": "stream",
     "text": [
      "Test Statistic:  0.01136862118086901\n",
      "p-value:  0.5724275724275725\n",
      "(200, 12)\n",
      "(200,)\n",
      "Fitted\n"
     ]
    },
    {
     "name": "stderr",
     "output_type": "stream",
     "text": [
      "\n",
      " 67%|██████████████████████████████████████████████████████▎                          | 67/100 [35:26<17:27, 31.74s/it]\u001b[A"
     ]
    },
    {
     "name": "stdout",
     "output_type": "stream",
     "text": [
      "Test Statistic:  0.007689825290879471\n",
      "p-value:  0.995004995004995\n",
      "(200, 12)\n",
      "(200,)\n",
      "Fitted\n"
     ]
    },
    {
     "name": "stderr",
     "output_type": "stream",
     "text": [
      "\n",
      " 68%|███████████████████████████████████████████████████████                          | 68/100 [35:57<16:53, 31.68s/it]\u001b[A"
     ]
    },
    {
     "name": "stdout",
     "output_type": "stream",
     "text": [
      "Test Statistic:  0.007846807257103072\n",
      "p-value:  0.9920079920079921\n",
      "(200, 12)\n",
      "(200,)\n",
      "Fitted\n"
     ]
    },
    {
     "name": "stderr",
     "output_type": "stream",
     "text": [
      "\n",
      " 69%|███████████████████████████████████████████████████████▉                         | 69/100 [36:28<16:16, 31.51s/it]\u001b[A"
     ]
    },
    {
     "name": "stdout",
     "output_type": "stream",
     "text": [
      "Test Statistic:  0.0034829852070140666\n",
      "p-value:  1.0\n",
      "(200, 12)\n",
      "(200,)\n",
      "Fitted\n"
     ]
    },
    {
     "name": "stderr",
     "output_type": "stream",
     "text": [
      "\n",
      " 70%|████████████████████████████████████████████████████████▋                        | 70/100 [37:00<15:44, 31.47s/it]\u001b[A"
     ]
    },
    {
     "name": "stdout",
     "output_type": "stream",
     "text": [
      "Test Statistic:  0.006653218660675697\n",
      "p-value:  0.999000999000999\n",
      "(200, 12)\n",
      "(200,)\n",
      "Fitted\n"
     ]
    },
    {
     "name": "stderr",
     "output_type": "stream",
     "text": [
      "\n",
      " 71%|█████████████████████████████████████████████████████████▌                       | 71/100 [37:32<15:16, 31.61s/it]\u001b[A"
     ]
    },
    {
     "name": "stdout",
     "output_type": "stream",
     "text": [
      "Test Statistic:  0.00987186313086752\n",
      "p-value:  0.7942057942057942\n",
      "(200, 12)\n",
      "(200,)\n",
      "Fitted\n"
     ]
    },
    {
     "name": "stderr",
     "output_type": "stream",
     "text": [
      "\n",
      " 72%|██████████████████████████████████████████████████████████▎                      | 72/100 [38:03<14:46, 31.66s/it]\u001b[A"
     ]
    },
    {
     "name": "stdout",
     "output_type": "stream",
     "text": [
      "Test Statistic:  0.014787813973172859\n",
      "p-value:  0.11588411588411589\n",
      "(200, 12)\n",
      "(200,)\n",
      "Fitted\n"
     ]
    },
    {
     "name": "stderr",
     "output_type": "stream",
     "text": [
      "\n",
      " 73%|███████████████████████████████████████████████████████████▏                     | 73/100 [38:35<14:15, 31.67s/it]\u001b[A"
     ]
    },
    {
     "name": "stdout",
     "output_type": "stream",
     "text": [
      "Test Statistic:  0.006637413586561447\n",
      "p-value:  1.0\n",
      "(200, 12)\n",
      "(200,)\n",
      "Fitted\n"
     ]
    },
    {
     "name": "stderr",
     "output_type": "stream",
     "text": [
      "\n",
      " 74%|███████████████████████████████████████████████████████████▉                     | 74/100 [39:06<13:38, 31.49s/it]\u001b[A"
     ]
    },
    {
     "name": "stdout",
     "output_type": "stream",
     "text": [
      "Test Statistic:  0.013321124484438895\n",
      "p-value:  0.32867132867132864\n",
      "(200, 12)\n",
      "(200,)\n",
      "Fitted\n"
     ]
    },
    {
     "name": "stderr",
     "output_type": "stream",
     "text": [
      "\n",
      " 75%|████████████████████████████████████████████████████████████▊                    | 75/100 [39:41<13:32, 32.49s/it]\u001b[A"
     ]
    },
    {
     "name": "stdout",
     "output_type": "stream",
     "text": [
      "Test Statistic:  0.009791249859183004\n",
      "p-value:  0.8581418581418582\n",
      "(200, 12)\n",
      "(200,)\n",
      "Fitted\n"
     ]
    },
    {
     "name": "stderr",
     "output_type": "stream",
     "text": [
      "\n",
      " 76%|█████████████████████████████████████████████████████████████▌                   | 76/100 [40:13<12:54, 32.26s/it]\u001b[A"
     ]
    },
    {
     "name": "stdout",
     "output_type": "stream",
     "text": [
      "Test Statistic:  0.007809057371484407\n",
      "p-value:  0.973026973026973\n",
      "(200, 12)\n",
      "(200,)\n",
      "Fitted\n"
     ]
    },
    {
     "name": "stderr",
     "output_type": "stream",
     "text": [
      "\n",
      " 77%|██████████████████████████████████████████████████████████████▎                  | 77/100 [40:44<12:14, 31.95s/it]\u001b[A"
     ]
    },
    {
     "name": "stdout",
     "output_type": "stream",
     "text": [
      "Test Statistic:  0.018768295996668405\n",
      "p-value:  0.05094905094905095\n",
      "(200, 12)\n",
      "(200,)\n",
      "Fitted\n"
     ]
    },
    {
     "name": "stderr",
     "output_type": "stream",
     "text": [
      "\n",
      " 78%|███████████████████████████████████████████████████████████████▏                 | 78/100 [41:16<11:44, 32.01s/it]\u001b[A"
     ]
    },
    {
     "name": "stdout",
     "output_type": "stream",
     "text": [
      "Test Statistic:  0.019262958009827136\n",
      "p-value:  0.03796203796203796\n",
      "(200, 12)\n",
      "(200,)\n",
      "Fitted\n"
     ]
    },
    {
     "name": "stderr",
     "output_type": "stream",
     "text": [
      "\n",
      " 79%|███████████████████████████████████████████████████████████████▉                 | 79/100 [41:46<11:02, 31.55s/it]\u001b[A"
     ]
    },
    {
     "name": "stdout",
     "output_type": "stream",
     "text": [
      "Test Statistic:  0.011796216832829942\n",
      "p-value:  0.36563436563436563\n",
      "(200, 12)\n",
      "(200,)\n",
      "Fitted\n"
     ]
    },
    {
     "name": "stderr",
     "output_type": "stream",
     "text": [
      "\n",
      " 80%|████████████████████████████████████████████████████████████████▊                | 80/100 [42:18<10:33, 31.68s/it]\u001b[A"
     ]
    },
    {
     "name": "stdout",
     "output_type": "stream",
     "text": [
      "Test Statistic:  0.01838293942104796\n",
      "p-value:  0.03296703296703297\n",
      "(200, 12)\n",
      "(200,)\n",
      "Fitted\n"
     ]
    },
    {
     "name": "stderr",
     "output_type": "stream",
     "text": [
      "\n",
      " 81%|█████████████████████████████████████████████████████████████████▌               | 81/100 [42:50<09:59, 31.57s/it]\u001b[A"
     ]
    },
    {
     "name": "stdout",
     "output_type": "stream",
     "text": [
      "Test Statistic:  0.007522051024575593\n",
      "p-value:  0.995004995004995\n",
      "(200, 12)\n",
      "(200,)\n",
      "Fitted\n"
     ]
    },
    {
     "name": "stderr",
     "output_type": "stream",
     "text": [
      "\n",
      " 82%|██████████████████████████████████████████████████████████████████▍              | 82/100 [43:22<09:31, 31.78s/it]\u001b[A"
     ]
    },
    {
     "name": "stdout",
     "output_type": "stream",
     "text": [
      "Test Statistic:  0.016026839791436598\n",
      "p-value:  0.1958041958041958\n",
      "(200, 12)\n",
      "(200,)\n",
      "Fitted\n"
     ]
    },
    {
     "name": "stderr",
     "output_type": "stream",
     "text": [
      "\n",
      " 83%|███████████████████████████████████████████████████████████████████▏             | 83/100 [43:53<08:57, 31.63s/it]\u001b[A"
     ]
    },
    {
     "name": "stdout",
     "output_type": "stream",
     "text": [
      "Test Statistic:  0.01746709677538616\n",
      "p-value:  0.06993006993006994\n",
      "(200, 12)\n",
      "(200,)\n",
      "Fitted\n"
     ]
    },
    {
     "name": "stderr",
     "output_type": "stream",
     "text": [
      "\n",
      " 84%|████████████████████████████████████████████████████████████████████             | 84/100 [44:25<08:24, 31.55s/it]\u001b[A"
     ]
    },
    {
     "name": "stdout",
     "output_type": "stream",
     "text": [
      "Test Statistic:  0.01340032710436756\n",
      "p-value:  0.3126873126873127\n",
      "(200, 12)\n",
      "(200,)\n",
      "Fitted\n"
     ]
    },
    {
     "name": "stderr",
     "output_type": "stream",
     "text": [
      "\n",
      " 85%|████████████████████████████████████████████████████████████████████▊            | 85/100 [44:56<07:51, 31.44s/it]\u001b[A"
     ]
    },
    {
     "name": "stdout",
     "output_type": "stream",
     "text": [
      "Test Statistic:  0.004823911665431391\n",
      "p-value:  1.0\n",
      "(200, 12)\n",
      "(200,)\n",
      "Fitted\n"
     ]
    },
    {
     "name": "stderr",
     "output_type": "stream",
     "text": [
      "\n",
      " 86%|█████████████████████████████████████████████████████████████████████▋           | 86/100 [45:28<07:22, 31.60s/it]\u001b[A"
     ]
    },
    {
     "name": "stdout",
     "output_type": "stream",
     "text": [
      "Test Statistic:  0.0045901212942462966\n",
      "p-value:  1.0\n",
      "(200, 12)\n",
      "(200,)\n",
      "Fitted\n"
     ]
    },
    {
     "name": "stderr",
     "output_type": "stream",
     "text": [
      "\n",
      " 87%|██████████████████████████████████████████████████████████████████████▍          | 87/100 [45:59<06:48, 31.40s/it]\u001b[A"
     ]
    },
    {
     "name": "stdout",
     "output_type": "stream",
     "text": [
      "Test Statistic:  0.006227983760118572\n",
      "p-value:  1.0\n",
      "(200, 12)\n",
      "(200,)\n",
      "Fitted\n"
     ]
    },
    {
     "name": "stderr",
     "output_type": "stream",
     "text": [
      "\n",
      " 88%|███████████████████████████████████████████████████████████████████████▎         | 88/100 [46:30<06:15, 31.25s/it]\u001b[A"
     ]
    },
    {
     "name": "stdout",
     "output_type": "stream",
     "text": [
      "Test Statistic:  0.03480686902727059\n",
      "p-value:  0.000999000999000999\n",
      "(200, 12)\n",
      "(200,)\n",
      "Fitted\n"
     ]
    },
    {
     "name": "stderr",
     "output_type": "stream",
     "text": [
      "\n",
      " 89%|████████████████████████████████████████████████████████████████████████         | 89/100 [47:00<05:40, 30.95s/it]\u001b[A"
     ]
    },
    {
     "name": "stdout",
     "output_type": "stream",
     "text": [
      "Test Statistic:  0.009831558656607675\n",
      "p-value:  0.7252747252747253\n",
      "(200, 12)\n",
      "(200,)\n",
      "Fitted\n"
     ]
    },
    {
     "name": "stderr",
     "output_type": "stream",
     "text": [
      "\n",
      " 90%|████████████████████████████████████████████████████████████████████████▉        | 90/100 [47:31<05:10, 31.09s/it]\u001b[A"
     ]
    },
    {
     "name": "stdout",
     "output_type": "stream",
     "text": [
      "Test Statistic:  0.009994427040043163\n",
      "p-value:  0.8881118881118881\n",
      "(200, 12)\n",
      "(200,)\n",
      "Fitted\n"
     ]
    },
    {
     "name": "stderr",
     "output_type": "stream",
     "text": [
      "\n",
      " 91%|█████████████████████████████████████████████████████████████████████████▋       | 91/100 [48:03<04:41, 31.27s/it]\u001b[A"
     ]
    },
    {
     "name": "stdout",
     "output_type": "stream",
     "text": [
      "Test Statistic:  0.017569453348543873\n",
      "p-value:  0.04595404595404595\n",
      "(200, 12)\n",
      "(200,)\n",
      "Fitted\n"
     ]
    },
    {
     "name": "stderr",
     "output_type": "stream",
     "text": [
      "\n",
      " 92%|██████████████████████████████████████████████████████████████████████████▌      | 92/100 [48:36<04:14, 31.82s/it]\u001b[A"
     ]
    },
    {
     "name": "stdout",
     "output_type": "stream",
     "text": [
      "Test Statistic:  0.00581688751377496\n",
      "p-value:  1.0\n",
      "(200, 12)\n",
      "(200,)\n",
      "Fitted\n"
     ]
    },
    {
     "name": "stderr",
     "output_type": "stream",
     "text": [
      "\n",
      " 93%|███████████████████████████████████████████████████████████████████████████▎     | 93/100 [49:08<03:42, 31.78s/it]\u001b[A"
     ]
    },
    {
     "name": "stdout",
     "output_type": "stream",
     "text": [
      "Test Statistic:  0.01611527851397776\n",
      "p-value:  0.13886113886113885\n",
      "(200, 12)\n",
      "(200,)\n",
      "Fitted\n"
     ]
    },
    {
     "name": "stderr",
     "output_type": "stream",
     "text": [
      "\n",
      " 94%|████████████████████████████████████████████████████████████████████████████▏    | 94/100 [49:43<03:16, 32.73s/it]\u001b[A"
     ]
    },
    {
     "name": "stdout",
     "output_type": "stream",
     "text": [
      "Test Statistic:  0.014708765324694895\n",
      "p-value:  0.2677322677322677\n",
      "(200, 12)\n",
      "(200,)\n",
      "Fitted\n"
     ]
    },
    {
     "name": "stderr",
     "output_type": "stream",
     "text": [
      "\n",
      " 95%|████████████████████████████████████████████████████████████████████████████▉    | 95/100 [50:15<02:42, 32.50s/it]\u001b[A"
     ]
    },
    {
     "name": "stdout",
     "output_type": "stream",
     "text": [
      "Test Statistic:  0.0040330715558111185\n",
      "p-value:  1.0\n",
      "(200, 12)\n",
      "(200,)\n",
      "Fitted\n"
     ]
    },
    {
     "name": "stderr",
     "output_type": "stream",
     "text": [
      "\n",
      " 96%|█████████████████████████████████████████████████████████████████████████████▊   | 96/100 [50:45<02:07, 31.96s/it]\u001b[A"
     ]
    },
    {
     "name": "stdout",
     "output_type": "stream",
     "text": [
      "Test Statistic:  0.013114907371675755\n",
      "p-value:  0.3086913086913087\n",
      "(200, 12)\n",
      "(200,)\n",
      "Fitted\n"
     ]
    },
    {
     "name": "stderr",
     "output_type": "stream",
     "text": [
      "\n",
      " 97%|██████████████████████████████████████████████████████████████████████████████▌  | 97/100 [51:19<01:37, 32.34s/it]\u001b[A"
     ]
    },
    {
     "name": "stdout",
     "output_type": "stream",
     "text": [
      "Test Statistic:  0.007446650684154732\n",
      "p-value:  0.99000999000999\n",
      "(200, 12)\n",
      "(200,)\n",
      "Fitted\n"
     ]
    },
    {
     "name": "stderr",
     "output_type": "stream",
     "text": [
      "\n",
      " 98%|███████████████████████████████████████████████████████████████████████████████▍ | 98/100 [51:49<01:03, 31.87s/it]\u001b[A"
     ]
    },
    {
     "name": "stdout",
     "output_type": "stream",
     "text": [
      "Test Statistic:  0.006790442934413443\n",
      "p-value:  1.0\n",
      "(200, 12)\n",
      "(200,)\n",
      "Fitted\n"
     ]
    },
    {
     "name": "stderr",
     "output_type": "stream",
     "text": [
      "\n",
      " 99%|████████████████████████████████████████████████████████████████████████████████▏| 99/100 [52:21<00:31, 31.82s/it]\u001b[A"
     ]
    },
    {
     "name": "stdout",
     "output_type": "stream",
     "text": [
      "Test Statistic:  0.016704828607817745\n",
      "p-value:  0.07892107892107893\n",
      "(200, 12)\n",
      "(200,)\n",
      "Fitted\n"
     ]
    },
    {
     "name": "stderr",
     "output_type": "stream",
     "text": [
      "\n",
      "100%|████████████████████████████████████████████████████████████████████████████████| 100/100 [52:53<00:00, 31.73s/it]\u001b[A\n",
      " 30%|██████████████████████▊                                                     | 6/20 [5:17:00<12:19:38, 3169.91s/it]\n",
      "  0%|                                                                                          | 0/100 [00:00<?, ?it/s]\u001b[A"
     ]
    },
    {
     "name": "stdout",
     "output_type": "stream",
     "text": [
      "Test Statistic:  0.013101452508404776\n",
      "p-value:  0.24675324675324675\n",
      "dimension 7\n",
      "circle\n",
      "(200, 14)\n",
      "(200,)\n",
      "Fitted\n"
     ]
    },
    {
     "name": "stderr",
     "output_type": "stream",
     "text": [
      "\n",
      "  1%|▊                                                                                 | 1/100 [00:31<52:26, 31.78s/it]\u001b[A"
     ]
    },
    {
     "name": "stdout",
     "output_type": "stream",
     "text": [
      "Test Statistic:  0.012697315208486715\n",
      "p-value:  0.2217782217782218\n",
      "(200, 14)\n",
      "(200,)\n",
      "Fitted\n"
     ]
    },
    {
     "name": "stderr",
     "output_type": "stream",
     "text": [
      "\n",
      "  2%|█▋                                                                                | 2/100 [01:02<51:23, 31.46s/it]\u001b[A"
     ]
    },
    {
     "name": "stdout",
     "output_type": "stream",
     "text": [
      "Test Statistic:  0.0033556544358632756\n",
      "p-value:  1.0\n",
      "(200, 14)\n",
      "(200,)\n",
      "Fitted\n"
     ]
    },
    {
     "name": "stderr",
     "output_type": "stream",
     "text": [
      "\n",
      "  3%|██▍                                                                               | 3/100 [01:34<50:54, 31.49s/it]\u001b[A"
     ]
    },
    {
     "name": "stdout",
     "output_type": "stream",
     "text": [
      "Test Statistic:  0.010801048942258085\n",
      "p-value:  0.6033966033966034\n",
      "(200, 14)\n",
      "(200,)\n",
      "Fitted\n"
     ]
    },
    {
     "name": "stderr",
     "output_type": "stream",
     "text": [
      "\n",
      "  4%|███▎                                                                              | 4/100 [02:05<50:16, 31.42s/it]\u001b[A"
     ]
    },
    {
     "name": "stdout",
     "output_type": "stream",
     "text": [
      "Test Statistic:  0.009592973593845922\n",
      "p-value:  0.7462537462537463\n",
      "(200, 14)\n",
      "(200,)\n",
      "Fitted\n"
     ]
    },
    {
     "name": "stderr",
     "output_type": "stream",
     "text": [
      "\n",
      "  5%|████                                                                              | 5/100 [02:36<49:41, 31.38s/it]\u001b[A"
     ]
    },
    {
     "name": "stdout",
     "output_type": "stream",
     "text": [
      "Test Statistic:  0.0061986839598453525\n",
      "p-value:  0.997002997002997\n",
      "(200, 14)\n",
      "(200,)\n",
      "Fitted\n"
     ]
    },
    {
     "name": "stderr",
     "output_type": "stream",
     "text": [
      "\n",
      "  6%|████▉                                                                             | 6/100 [03:07<48:45, 31.12s/it]\u001b[A"
     ]
    },
    {
     "name": "stdout",
     "output_type": "stream",
     "text": [
      "Test Statistic:  0.004723607619184889\n",
      "p-value:  1.0\n",
      "(200, 14)\n",
      "(200,)\n",
      "Fitted\n"
     ]
    },
    {
     "name": "stderr",
     "output_type": "stream",
     "text": [
      "\n",
      "  7%|█████▋                                                                            | 7/100 [03:37<47:48, 30.84s/it]\u001b[A"
     ]
    },
    {
     "name": "stdout",
     "output_type": "stream",
     "text": [
      "Test Statistic:  0.010181081987747698\n",
      "p-value:  0.5114885114885115\n",
      "(200, 14)\n",
      "(200,)\n",
      "Fitted\n"
     ]
    },
    {
     "name": "stderr",
     "output_type": "stream",
     "text": [
      "\n",
      "  8%|██████▌                                                                           | 8/100 [04:09<47:43, 31.12s/it]\u001b[A"
     ]
    },
    {
     "name": "stdout",
     "output_type": "stream",
     "text": [
      "Test Statistic:  0.02019805778996364\n",
      "p-value:  0.013986013986013986\n",
      "(200, 14)\n",
      "(200,)\n",
      "Fitted\n"
     ]
    },
    {
     "name": "stderr",
     "output_type": "stream",
     "text": [
      "\n",
      "  9%|███████▍                                                                          | 9/100 [04:40<47:09, 31.09s/it]\u001b[A"
     ]
    },
    {
     "name": "stdout",
     "output_type": "stream",
     "text": [
      "Test Statistic:  0.008200367376001716\n",
      "p-value:  0.9310689310689311\n",
      "(200, 14)\n",
      "(200,)\n",
      "Fitted\n"
     ]
    },
    {
     "name": "stderr",
     "output_type": "stream",
     "text": [
      "\n",
      " 10%|████████                                                                         | 10/100 [05:11<46:55, 31.29s/it]\u001b[A"
     ]
    },
    {
     "name": "stdout",
     "output_type": "stream",
     "text": [
      "Test Statistic:  0.007545694633117606\n",
      "p-value:  0.97002997002997\n",
      "(200, 14)\n",
      "(200,)\n",
      "Fitted\n"
     ]
    },
    {
     "name": "stderr",
     "output_type": "stream",
     "text": [
      "\n",
      " 11%|████████▉                                                                        | 11/100 [05:43<46:44, 31.51s/it]\u001b[A"
     ]
    },
    {
     "name": "stdout",
     "output_type": "stream",
     "text": [
      "Test Statistic:  0.006406779962460529\n",
      "p-value:  0.999000999000999\n",
      "(200, 14)\n",
      "(200,)\n",
      "Fitted\n"
     ]
    },
    {
     "name": "stderr",
     "output_type": "stream",
     "text": [
      "\n",
      " 12%|█████████▋                                                                       | 12/100 [06:15<46:15, 31.54s/it]\u001b[A"
     ]
    },
    {
     "name": "stdout",
     "output_type": "stream",
     "text": [
      "Test Statistic:  0.004006865367678136\n",
      "p-value:  1.0\n",
      "(200, 14)\n",
      "(200,)\n",
      "Fitted\n"
     ]
    },
    {
     "name": "stderr",
     "output_type": "stream",
     "text": [
      "\n",
      " 13%|██████████▌                                                                      | 13/100 [06:56<49:45, 34.31s/it]\u001b[A"
     ]
    },
    {
     "name": "stdout",
     "output_type": "stream",
     "text": [
      "Test Statistic:  0.012717994201471905\n",
      "p-value:  0.19480519480519481\n",
      "(200, 14)\n",
      "(200,)\n",
      "Fitted\n"
     ]
    },
    {
     "name": "stderr",
     "output_type": "stream",
     "text": [
      "\n",
      " 14%|███████████▎                                                                     | 14/100 [07:27<47:50, 33.38s/it]\u001b[A"
     ]
    },
    {
     "name": "stdout",
     "output_type": "stream",
     "text": [
      "Test Statistic:  0.019103877870424224\n",
      "p-value:  0.015984015984015984\n",
      "(200, 14)\n",
      "(200,)\n",
      "Fitted\n"
     ]
    },
    {
     "name": "stderr",
     "output_type": "stream",
     "text": [
      "\n",
      " 15%|████████████▏                                                                    | 15/100 [07:58<46:22, 32.73s/it]\u001b[A"
     ]
    },
    {
     "name": "stdout",
     "output_type": "stream",
     "text": [
      "Test Statistic:  0.005786447438788089\n",
      "p-value:  1.0\n",
      "(200, 14)\n",
      "(200,)\n",
      "Fitted\n"
     ]
    },
    {
     "name": "stderr",
     "output_type": "stream",
     "text": [
      "\n",
      " 16%|████████████▉                                                                    | 16/100 [08:29<45:06, 32.22s/it]\u001b[A"
     ]
    },
    {
     "name": "stdout",
     "output_type": "stream",
     "text": [
      "Test Statistic:  0.0038248440897005187\n",
      "p-value:  1.0\n",
      "(200, 14)\n",
      "(200,)\n",
      "Fitted\n"
     ]
    },
    {
     "name": "stderr",
     "output_type": "stream",
     "text": [
      "\n",
      " 17%|█████████████▊                                                                   | 17/100 [09:00<43:54, 31.74s/it]\u001b[A"
     ]
    },
    {
     "name": "stdout",
     "output_type": "stream",
     "text": [
      "Test Statistic:  0.002603580105407066\n",
      "p-value:  1.0\n",
      "(200, 14)\n",
      "(200,)\n",
      "Fitted\n"
     ]
    },
    {
     "name": "stderr",
     "output_type": "stream",
     "text": [
      "\n",
      " 18%|██████████████▌                                                                  | 18/100 [09:31<42:59, 31.45s/it]\u001b[A"
     ]
    },
    {
     "name": "stdout",
     "output_type": "stream",
     "text": [
      "Test Statistic:  0.0032233305982377614\n",
      "p-value:  1.0\n",
      "(200, 14)\n",
      "(200,)\n",
      "Fitted\n"
     ]
    },
    {
     "name": "stderr",
     "output_type": "stream",
     "text": [
      "\n",
      " 19%|███████████████▍                                                                 | 19/100 [10:02<42:20, 31.37s/it]\u001b[A"
     ]
    },
    {
     "name": "stdout",
     "output_type": "stream",
     "text": [
      "Test Statistic:  0.009082785850774378\n",
      "p-value:  0.8491508491508492\n",
      "(200, 14)\n",
      "(200,)\n",
      "Fitted\n"
     ]
    },
    {
     "name": "stderr",
     "output_type": "stream",
     "text": [
      "\n",
      " 20%|████████████████▏                                                                | 20/100 [10:33<41:52, 31.41s/it]\u001b[A"
     ]
    },
    {
     "name": "stdout",
     "output_type": "stream",
     "text": [
      "Test Statistic:  0.008108389109866665\n",
      "p-value:  0.8841158841158842\n",
      "(200, 14)\n",
      "(200,)\n",
      "Fitted\n"
     ]
    },
    {
     "name": "stderr",
     "output_type": "stream",
     "text": [
      "\n",
      " 21%|█████████████████                                                                | 21/100 [11:04<41:02, 31.17s/it]\u001b[A"
     ]
    },
    {
     "name": "stdout",
     "output_type": "stream",
     "text": [
      "Test Statistic:  0.005920196710559322\n",
      "p-value:  1.0\n",
      "(200, 14)\n",
      "(200,)\n",
      "Fitted\n"
     ]
    },
    {
     "name": "stderr",
     "output_type": "stream",
     "text": [
      "\n",
      " 22%|█████████████████▊                                                               | 22/100 [11:35<40:38, 31.26s/it]\u001b[A"
     ]
    },
    {
     "name": "stdout",
     "output_type": "stream",
     "text": [
      "Test Statistic:  0.023741551716168874\n",
      "p-value:  0.002997002997002997\n",
      "(200, 14)\n",
      "(200,)\n",
      "Fitted\n"
     ]
    },
    {
     "name": "stderr",
     "output_type": "stream",
     "text": [
      "\n",
      " 23%|██████████████████▋                                                              | 23/100 [12:06<39:56, 31.13s/it]\u001b[A"
     ]
    },
    {
     "name": "stdout",
     "output_type": "stream",
     "text": [
      "Test Statistic:  0.012353691745189077\n",
      "p-value:  0.26973026973026976\n",
      "(200, 14)\n",
      "(200,)\n",
      "Fitted\n"
     ]
    },
    {
     "name": "stderr",
     "output_type": "stream",
     "text": [
      "\n",
      " 24%|███████████████████▍                                                             | 24/100 [12:37<39:27, 31.16s/it]\u001b[A"
     ]
    },
    {
     "name": "stdout",
     "output_type": "stream",
     "text": [
      "Test Statistic:  0.009093234657294835\n",
      "p-value:  0.7752247752247752\n",
      "(200, 14)\n",
      "(200,)\n",
      "Fitted\n"
     ]
    },
    {
     "name": "stderr",
     "output_type": "stream",
     "text": [
      "\n",
      " 25%|████████████████████▎                                                            | 25/100 [13:09<39:02, 31.23s/it]\u001b[A"
     ]
    },
    {
     "name": "stdout",
     "output_type": "stream",
     "text": [
      "Test Statistic:  0.01462239244472141\n",
      "p-value:  0.14685314685314685\n",
      "(200, 14)\n",
      "(200,)\n",
      "Fitted\n"
     ]
    },
    {
     "name": "stderr",
     "output_type": "stream",
     "text": [
      "\n",
      " 26%|█████████████████████                                                            | 26/100 [13:40<38:37, 31.32s/it]\u001b[A"
     ]
    },
    {
     "name": "stdout",
     "output_type": "stream",
     "text": [
      "Test Statistic:  0.010296620733413087\n",
      "p-value:  0.5464535464535465\n",
      "(200, 14)\n",
      "(200,)\n",
      "Fitted\n"
     ]
    },
    {
     "name": "stderr",
     "output_type": "stream",
     "text": [
      "\n",
      " 27%|█████████████████████▊                                                           | 27/100 [14:12<38:06, 31.32s/it]\u001b[A"
     ]
    },
    {
     "name": "stdout",
     "output_type": "stream",
     "text": [
      "Test Statistic:  0.004598002895549347\n",
      "p-value:  1.0\n",
      "(200, 14)\n",
      "(200,)\n",
      "Fitted\n"
     ]
    },
    {
     "name": "stderr",
     "output_type": "stream",
     "text": [
      "\n",
      " 28%|██████████████████████▋                                                          | 28/100 [14:43<37:37, 31.36s/it]\u001b[A"
     ]
    },
    {
     "name": "stdout",
     "output_type": "stream",
     "text": [
      "Test Statistic:  0.0063489165748141785\n",
      "p-value:  0.997002997002997\n",
      "(200, 14)\n",
      "(200,)\n",
      "Fitted\n"
     ]
    },
    {
     "name": "stderr",
     "output_type": "stream",
     "text": [
      "\n",
      " 29%|███████████████████████▍                                                         | 29/100 [15:15<37:14, 31.47s/it]\u001b[A"
     ]
    },
    {
     "name": "stdout",
     "output_type": "stream",
     "text": [
      "Test Statistic:  0.035624390469400136\n",
      "p-value:  0.000999000999000999\n",
      "(200, 14)\n",
      "(200,)\n",
      "Fitted\n"
     ]
    },
    {
     "name": "stderr",
     "output_type": "stream",
     "text": [
      "\n",
      " 30%|████████████████████████▎                                                        | 30/100 [15:46<36:40, 31.44s/it]\u001b[A"
     ]
    },
    {
     "name": "stdout",
     "output_type": "stream",
     "text": [
      "Test Statistic:  0.016386338287290192\n",
      "p-value:  0.06393606393606394\n",
      "(200, 14)\n",
      "(200,)\n",
      "Fitted\n"
     ]
    },
    {
     "name": "stderr",
     "output_type": "stream",
     "text": [
      "\n",
      " 31%|█████████████████████████                                                        | 31/100 [16:17<36:06, 31.40s/it]\u001b[A"
     ]
    },
    {
     "name": "stdout",
     "output_type": "stream",
     "text": [
      "Test Statistic:  0.011863368935525642\n",
      "p-value:  0.38961038961038963\n",
      "(200, 14)\n",
      "(200,)\n",
      "Fitted\n"
     ]
    },
    {
     "name": "stderr",
     "output_type": "stream",
     "text": [
      "\n",
      " 32%|█████████████████████████▉                                                       | 32/100 [16:53<36:51, 32.51s/it]\u001b[A"
     ]
    },
    {
     "name": "stdout",
     "output_type": "stream",
     "text": [
      "Test Statistic:  0.03958418549259968\n",
      "p-value:  0.000999000999000999\n",
      "(200, 14)\n",
      "(200,)\n",
      "Fitted\n"
     ]
    },
    {
     "name": "stderr",
     "output_type": "stream",
     "text": [
      "\n",
      " 33%|██████████████████████████▋                                                      | 33/100 [17:23<35:32, 31.83s/it]\u001b[A"
     ]
    },
    {
     "name": "stdout",
     "output_type": "stream",
     "text": [
      "Test Statistic:  0.012032935860404548\n",
      "p-value:  0.45754245754245754\n",
      "(200, 14)\n",
      "(200,)\n",
      "Fitted\n"
     ]
    },
    {
     "name": "stderr",
     "output_type": "stream",
     "text": [
      "\n",
      " 34%|███████████████████████████▌                                                     | 34/100 [17:53<34:33, 31.41s/it]\u001b[A"
     ]
    },
    {
     "name": "stdout",
     "output_type": "stream",
     "text": [
      "Test Statistic:  0.005082720685947617\n",
      "p-value:  1.0\n",
      "(200, 14)\n",
      "(200,)\n",
      "Fitted\n"
     ]
    },
    {
     "name": "stderr",
     "output_type": "stream",
     "text": [
      "\n",
      " 35%|████████████████████████████▎                                                    | 35/100 [18:25<34:00, 31.40s/it]\u001b[A"
     ]
    },
    {
     "name": "stdout",
     "output_type": "stream",
     "text": [
      "Test Statistic:  0.0037078418428849735\n",
      "p-value:  1.0\n",
      "(200, 14)\n",
      "(200,)\n",
      "Fitted\n"
     ]
    },
    {
     "name": "stderr",
     "output_type": "stream",
     "text": [
      "\n",
      " 36%|█████████████████████████████▏                                                   | 36/100 [18:55<33:15, 31.18s/it]\u001b[A"
     ]
    },
    {
     "name": "stdout",
     "output_type": "stream",
     "text": [
      "Test Statistic:  0.004443872595495946\n",
      "p-value:  1.0\n",
      "(200, 14)\n",
      "(200,)\n",
      "Fitted\n"
     ]
    },
    {
     "name": "stderr",
     "output_type": "stream",
     "text": [
      "\n",
      " 37%|█████████████████████████████▉                                                   | 37/100 [19:26<32:36, 31.05s/it]\u001b[A"
     ]
    },
    {
     "name": "stdout",
     "output_type": "stream",
     "text": [
      "Test Statistic:  0.005860166119033727\n",
      "p-value:  1.0\n",
      "(200, 14)\n",
      "(200,)\n",
      "Fitted\n"
     ]
    },
    {
     "name": "stderr",
     "output_type": "stream",
     "text": [
      "\n",
      " 38%|██████████████████████████████▊                                                  | 38/100 [19:57<31:53, 30.87s/it]\u001b[A"
     ]
    },
    {
     "name": "stdout",
     "output_type": "stream",
     "text": [
      "Test Statistic:  0.005844321428143728\n",
      "p-value:  1.0\n",
      "(200, 14)\n",
      "(200,)\n",
      "Fitted\n"
     ]
    },
    {
     "name": "stderr",
     "output_type": "stream",
     "text": [
      "\n",
      " 39%|███████████████████████████████▌                                                 | 39/100 [20:28<31:25, 30.91s/it]\u001b[A"
     ]
    },
    {
     "name": "stdout",
     "output_type": "stream",
     "text": [
      "Test Statistic:  0.01287124249062721\n",
      "p-value:  0.23076923076923078\n",
      "(200, 14)\n",
      "(200,)\n",
      "Fitted\n"
     ]
    },
    {
     "name": "stderr",
     "output_type": "stream",
     "text": [
      "\n",
      " 40%|████████████████████████████████▍                                                | 40/100 [20:58<30:54, 30.90s/it]\u001b[A"
     ]
    },
    {
     "name": "stdout",
     "output_type": "stream",
     "text": [
      "Test Statistic:  0.019754975318796775\n",
      "p-value:  0.028971028971028972\n",
      "(200, 14)\n",
      "(200,)\n",
      "Fitted\n"
     ]
    },
    {
     "name": "stderr",
     "output_type": "stream",
     "text": [
      "\n",
      " 41%|█████████████████████████████████▏                                               | 41/100 [21:32<31:03, 31.58s/it]\u001b[A"
     ]
    },
    {
     "name": "stdout",
     "output_type": "stream",
     "text": [
      "Test Statistic:  0.011404821334304316\n",
      "p-value:  0.46253746253746253\n",
      "(200, 14)\n",
      "(200,)\n",
      "Fitted\n"
     ]
    },
    {
     "name": "stderr",
     "output_type": "stream",
     "text": [
      "\n",
      " 42%|██████████████████████████████████                                               | 42/100 [22:03<30:33, 31.61s/it]\u001b[A"
     ]
    },
    {
     "name": "stdout",
     "output_type": "stream",
     "text": [
      "Test Statistic:  0.01770032482928252\n",
      "p-value:  0.03596403596403597\n",
      "(200, 14)\n",
      "(200,)\n",
      "Fitted\n"
     ]
    },
    {
     "name": "stderr",
     "output_type": "stream",
     "text": [
      "\n",
      " 43%|██████████████████████████████████▊                                              | 43/100 [22:34<29:50, 31.41s/it]\u001b[A"
     ]
    },
    {
     "name": "stdout",
     "output_type": "stream",
     "text": [
      "Test Statistic:  0.012226088840017524\n",
      "p-value:  0.32867132867132864\n",
      "(200, 14)\n",
      "(200,)\n",
      "Fitted\n"
     ]
    },
    {
     "name": "stderr",
     "output_type": "stream",
     "text": [
      "\n",
      " 44%|███████████████████████████████████▋                                             | 44/100 [23:05<29:08, 31.22s/it]\u001b[A"
     ]
    },
    {
     "name": "stdout",
     "output_type": "stream",
     "text": [
      "Test Statistic:  0.00446059747903671\n",
      "p-value:  1.0\n",
      "(200, 14)\n",
      "(200,)\n",
      "Fitted\n"
     ]
    },
    {
     "name": "stderr",
     "output_type": "stream",
     "text": [
      "\n",
      " 45%|████████████████████████████████████▍                                            | 45/100 [23:36<28:30, 31.10s/it]\u001b[A"
     ]
    },
    {
     "name": "stdout",
     "output_type": "stream",
     "text": [
      "Test Statistic:  0.021048848945516174\n",
      "p-value:  0.026973026973026972\n",
      "(200, 14)\n",
      "(200,)\n",
      "Fitted\n"
     ]
    },
    {
     "name": "stderr",
     "output_type": "stream",
     "text": [
      "\n",
      " 46%|█████████████████████████████████████▎                                           | 46/100 [24:06<27:51, 30.96s/it]\u001b[A"
     ]
    },
    {
     "name": "stdout",
     "output_type": "stream",
     "text": [
      "Test Statistic:  0.008920785538805487\n",
      "p-value:  0.9090909090909091\n",
      "(200, 14)\n",
      "(200,)\n",
      "Fitted\n"
     ]
    },
    {
     "name": "stderr",
     "output_type": "stream",
     "text": [
      "\n",
      " 47%|██████████████████████████████████████                                           | 47/100 [24:37<27:18, 30.91s/it]\u001b[A"
     ]
    },
    {
     "name": "stdout",
     "output_type": "stream",
     "text": [
      "Test Statistic:  0.019367904458694185\n",
      "p-value:  0.023976023976023976\n",
      "(200, 14)\n",
      "(200,)\n",
      "Fitted\n"
     ]
    },
    {
     "name": "stderr",
     "output_type": "stream",
     "text": [
      "\n",
      " 48%|██████████████████████████████████████▉                                          | 48/100 [25:09<26:55, 31.06s/it]\u001b[A"
     ]
    },
    {
     "name": "stdout",
     "output_type": "stream",
     "text": [
      "Test Statistic:  0.01097775551733049\n",
      "p-value:  0.6013986013986014\n",
      "(200, 14)\n",
      "(200,)\n",
      "Fitted\n"
     ]
    },
    {
     "name": "stderr",
     "output_type": "stream",
     "text": [
      "\n",
      " 49%|███████████████████████████████████████▋                                         | 49/100 [25:40<26:29, 31.17s/it]\u001b[A"
     ]
    },
    {
     "name": "stdout",
     "output_type": "stream",
     "text": [
      "Test Statistic:  0.005987538494401368\n",
      "p-value:  1.0\n",
      "(200, 14)\n",
      "(200,)\n",
      "Fitted\n"
     ]
    },
    {
     "name": "stderr",
     "output_type": "stream",
     "text": [
      "\n",
      " 50%|████████████████████████████████████████▌                                        | 50/100 [26:12<26:09, 31.39s/it]\u001b[A"
     ]
    },
    {
     "name": "stdout",
     "output_type": "stream",
     "text": [
      "Test Statistic:  0.0092378021183257\n",
      "p-value:  0.7472527472527473\n",
      "(200, 14)\n",
      "(200,)\n",
      "Fitted\n"
     ]
    },
    {
     "name": "stderr",
     "output_type": "stream",
     "text": [
      "\n",
      " 51%|█████████████████████████████████████████▎                                       | 51/100 [26:47<26:31, 32.47s/it]\u001b[A"
     ]
    },
    {
     "name": "stdout",
     "output_type": "stream",
     "text": [
      "Test Statistic:  0.0038325492220624424\n",
      "p-value:  1.0\n",
      "(200, 14)\n",
      "(200,)\n",
      "Fitted\n"
     ]
    },
    {
     "name": "stderr",
     "output_type": "stream",
     "text": [
      "\n",
      " 52%|██████████████████████████████████████████                                       | 52/100 [27:17<25:28, 31.83s/it]\u001b[A"
     ]
    },
    {
     "name": "stdout",
     "output_type": "stream",
     "text": [
      "Test Statistic:  0.0053800236992709305\n",
      "p-value:  1.0\n",
      "(200, 14)\n",
      "(200,)\n",
      "Fitted\n"
     ]
    },
    {
     "name": "stderr",
     "output_type": "stream",
     "text": [
      "\n",
      " 53%|██████████████████████████████████████████▉                                      | 53/100 [27:49<24:47, 31.65s/it]\u001b[A"
     ]
    },
    {
     "name": "stdout",
     "output_type": "stream",
     "text": [
      "Test Statistic:  0.004225632358041742\n",
      "p-value:  1.0\n",
      "(200, 14)\n",
      "(200,)\n",
      "Fitted\n"
     ]
    },
    {
     "name": "stderr",
     "output_type": "stream",
     "text": [
      "\n",
      " 54%|███████████████████████████████████████████▋                                     | 54/100 [28:20<24:11, 31.56s/it]\u001b[A"
     ]
    },
    {
     "name": "stdout",
     "output_type": "stream",
     "text": [
      "Test Statistic:  0.007231717003138072\n",
      "p-value:  0.987012987012987\n",
      "(200, 14)\n",
      "(200,)\n",
      "Fitted\n"
     ]
    },
    {
     "name": "stderr",
     "output_type": "stream",
     "text": [
      "\n",
      " 55%|████████████████████████████████████████████▌                                    | 55/100 [28:51<23:30, 31.34s/it]\u001b[A"
     ]
    },
    {
     "name": "stdout",
     "output_type": "stream",
     "text": [
      "Test Statistic:  0.018342341881441238\n",
      "p-value:  0.027972027972027972\n",
      "(200, 14)\n",
      "(200,)\n",
      "Fitted\n"
     ]
    },
    {
     "name": "stderr",
     "output_type": "stream",
     "text": [
      "\n",
      " 56%|█████████████████████████████████████████████▎                                   | 56/100 [29:21<22:51, 31.16s/it]\u001b[A"
     ]
    },
    {
     "name": "stdout",
     "output_type": "stream",
     "text": [
      "Test Statistic:  0.007736352848600969\n",
      "p-value:  0.968031968031968\n",
      "(200, 14)\n",
      "(200,)\n",
      "Fitted\n"
     ]
    },
    {
     "name": "stderr",
     "output_type": "stream",
     "text": [
      "\n",
      " 57%|██████████████████████████████████████████████▏                                  | 57/100 [29:53<22:22, 31.21s/it]\u001b[A"
     ]
    },
    {
     "name": "stdout",
     "output_type": "stream",
     "text": [
      "Test Statistic:  0.011204791441576711\n",
      "p-value:  0.5014985014985015\n",
      "(200, 14)\n",
      "(200,)\n",
      "Fitted\n"
     ]
    },
    {
     "name": "stderr",
     "output_type": "stream",
     "text": [
      "\n",
      " 58%|██████████████████████████████████████████████▉                                  | 58/100 [30:25<22:00, 31.45s/it]\u001b[A"
     ]
    },
    {
     "name": "stdout",
     "output_type": "stream",
     "text": [
      "Test Statistic:  0.014963424737536868\n",
      "p-value:  0.15384615384615385\n",
      "(200, 14)\n",
      "(200,)\n",
      "Fitted\n"
     ]
    },
    {
     "name": "stderr",
     "output_type": "stream",
     "text": [
      "\n",
      " 59%|███████████████████████████████████████████████▊                                 | 59/100 [30:57<21:33, 31.56s/it]\u001b[A"
     ]
    },
    {
     "name": "stdout",
     "output_type": "stream",
     "text": [
      "Test Statistic:  0.006206416691848737\n",
      "p-value:  1.0\n",
      "(200, 14)\n",
      "(200,)\n",
      "Fitted\n"
     ]
    },
    {
     "name": "stderr",
     "output_type": "stream",
     "text": [
      "\n",
      " 60%|████████████████████████████████████████████████▌                                | 60/100 [31:29<21:08, 31.72s/it]\u001b[A"
     ]
    },
    {
     "name": "stdout",
     "output_type": "stream",
     "text": [
      "Test Statistic:  0.014005253706594\n",
      "p-value:  0.2007992007992008\n",
      "(200, 14)\n",
      "(200,)\n",
      "Fitted\n"
     ]
    },
    {
     "name": "stderr",
     "output_type": "stream",
     "text": [
      "\n",
      " 61%|█████████████████████████████████████████████████▍                               | 61/100 [32:00<20:30, 31.55s/it]\u001b[A"
     ]
    },
    {
     "name": "stdout",
     "output_type": "stream",
     "text": [
      "Test Statistic:  0.009027526768814687\n",
      "p-value:  0.9110889110889111\n",
      "(200, 14)\n",
      "(200,)\n",
      "Fitted\n"
     ]
    },
    {
     "name": "stderr",
     "output_type": "stream",
     "text": [
      "\n",
      " 62%|██████████████████████████████████████████████████▏                              | 62/100 [32:28<19:20, 30.55s/it]\u001b[A"
     ]
    },
    {
     "name": "stdout",
     "output_type": "stream",
     "text": [
      "Test Statistic:  0.008912860539133316\n",
      "p-value:  0.8851148851148851\n",
      "(200, 14)\n",
      "(200,)\n",
      "Fitted\n"
     ]
    },
    {
     "name": "stderr",
     "output_type": "stream",
     "text": [
      "\n",
      " 63%|███████████████████████████████████████████████████                              | 63/100 [32:56<18:20, 29.74s/it]\u001b[A"
     ]
    },
    {
     "name": "stdout",
     "output_type": "stream",
     "text": [
      "Test Statistic:  0.01898262314725241\n",
      "p-value:  0.028971028971028972\n",
      "(200, 14)\n",
      "(200,)\n",
      "Fitted\n"
     ]
    },
    {
     "name": "stderr",
     "output_type": "stream",
     "text": [
      "\n",
      " 64%|███████████████████████████████████████████████████▊                             | 64/100 [33:29<18:23, 30.65s/it]\u001b[A"
     ]
    },
    {
     "name": "stdout",
     "output_type": "stream",
     "text": [
      "Test Statistic:  0.004684103308777998\n",
      "p-value:  1.0\n",
      "(200, 14)\n",
      "(200,)\n",
      "Fitted\n"
     ]
    },
    {
     "name": "stderr",
     "output_type": "stream",
     "text": [
      "\n",
      " 65%|████████████████████████████████████████████████████▋                            | 65/100 [34:00<17:59, 30.83s/it]\u001b[A"
     ]
    },
    {
     "name": "stdout",
     "output_type": "stream",
     "text": [
      "Test Statistic:  0.023018388704350135\n",
      "p-value:  0.00999000999000999\n",
      "(200, 14)\n",
      "(200,)\n",
      "Fitted\n"
     ]
    },
    {
     "name": "stderr",
     "output_type": "stream",
     "text": [
      "\n",
      " 66%|█████████████████████████████████████████████████████▍                           | 66/100 [34:31<17:31, 30.94s/it]\u001b[A"
     ]
    },
    {
     "name": "stdout",
     "output_type": "stream",
     "text": [
      "Test Statistic:  0.00839792221729907\n",
      "p-value:  0.906093906093906\n",
      "(200, 14)\n",
      "(200,)\n",
      "Fitted\n"
     ]
    },
    {
     "name": "stderr",
     "output_type": "stream",
     "text": [
      "\n",
      " 67%|██████████████████████████████████████████████████████▎                          | 67/100 [35:02<17:05, 31.06s/it]\u001b[A"
     ]
    },
    {
     "name": "stdout",
     "output_type": "stream",
     "text": [
      "Test Statistic:  0.021371023075902662\n",
      "p-value:  0.011988011988011988\n",
      "(200, 14)\n",
      "(200,)\n",
      "Fitted\n"
     ]
    },
    {
     "name": "stderr",
     "output_type": "stream",
     "text": [
      "\n",
      " 68%|███████████████████████████████████████████████████████                          | 68/100 [35:33<16:26, 30.84s/it]\u001b[A"
     ]
    },
    {
     "name": "stdout",
     "output_type": "stream",
     "text": [
      "Test Statistic:  0.0033721592042833537\n",
      "p-value:  1.0\n",
      "(200, 14)\n",
      "(200,)\n",
      "Fitted\n"
     ]
    },
    {
     "name": "stderr",
     "output_type": "stream",
     "text": [
      "\n",
      " 69%|███████████████████████████████████████████████████████▉                         | 69/100 [36:04<15:57, 30.88s/it]\u001b[A"
     ]
    },
    {
     "name": "stdout",
     "output_type": "stream",
     "text": [
      "Test Statistic:  0.004973785741862913\n",
      "p-value:  1.0\n",
      "(200, 14)\n",
      "(200,)\n",
      "Fitted\n"
     ]
    },
    {
     "name": "stderr",
     "output_type": "stream",
     "text": [
      "\n",
      " 70%|████████████████████████████████████████████████████████▋                        | 70/100 [36:44<16:51, 33.71s/it]\u001b[A"
     ]
    },
    {
     "name": "stdout",
     "output_type": "stream",
     "text": [
      "Test Statistic:  0.010344681328976701\n",
      "p-value:  0.7202797202797203\n",
      "(200, 14)\n",
      "(200,)\n",
      "Fitted\n"
     ]
    },
    {
     "name": "stderr",
     "output_type": "stream",
     "text": [
      "\n",
      " 71%|█████████████████████████████████████████████████████████▌                       | 71/100 [37:15<15:53, 32.87s/it]\u001b[A"
     ]
    },
    {
     "name": "stdout",
     "output_type": "stream",
     "text": [
      "Test Statistic:  0.006334769879773661\n",
      "p-value:  1.0\n",
      "(200, 14)\n",
      "(200,)\n",
      "Fitted\n"
     ]
    },
    {
     "name": "stderr",
     "output_type": "stream",
     "text": [
      "\n",
      " 72%|██████████████████████████████████████████████████████████▎                      | 72/100 [37:45<14:58, 32.08s/it]\u001b[A"
     ]
    },
    {
     "name": "stdout",
     "output_type": "stream",
     "text": [
      "Test Statistic:  0.007565176061650858\n",
      "p-value:  0.978021978021978\n",
      "(200, 14)\n",
      "(200,)\n",
      "Fitted\n"
     ]
    },
    {
     "name": "stderr",
     "output_type": "stream",
     "text": [
      "\n",
      " 73%|███████████████████████████████████████████████████████████▏                     | 73/100 [38:16<14:13, 31.63s/it]\u001b[A"
     ]
    },
    {
     "name": "stdout",
     "output_type": "stream",
     "text": [
      "Test Statistic:  0.008560852151023202\n",
      "p-value:  0.8351648351648352\n",
      "(200, 14)\n",
      "(200,)\n",
      "Fitted\n"
     ]
    },
    {
     "name": "stderr",
     "output_type": "stream",
     "text": [
      "\n",
      " 74%|███████████████████████████████████████████████████████████▉                     | 74/100 [38:48<13:47, 31.84s/it]\u001b[A"
     ]
    },
    {
     "name": "stdout",
     "output_type": "stream",
     "text": [
      "Test Statistic:  0.015063806285919967\n",
      "p-value:  0.13586413586413587\n",
      "(200, 14)\n",
      "(200,)\n",
      "Fitted\n"
     ]
    },
    {
     "name": "stderr",
     "output_type": "stream",
     "text": [
      "\n",
      " 75%|████████████████████████████████████████████████████████████▊                    | 75/100 [39:20<13:16, 31.88s/it]\u001b[A"
     ]
    },
    {
     "name": "stdout",
     "output_type": "stream",
     "text": [
      "Test Statistic:  0.008272813318323635\n",
      "p-value:  0.922077922077922\n",
      "(200, 14)\n",
      "(200,)\n",
      "Fitted\n"
     ]
    },
    {
     "name": "stderr",
     "output_type": "stream",
     "text": [
      "\n",
      " 76%|█████████████████████████████████████████████████████████████▌                   | 76/100 [39:51<12:40, 31.67s/it]\u001b[A"
     ]
    },
    {
     "name": "stdout",
     "output_type": "stream",
     "text": [
      "Test Statistic:  0.013473970439329519\n",
      "p-value:  0.12087912087912088\n",
      "(200, 14)\n",
      "(200,)\n",
      "Fitted\n"
     ]
    },
    {
     "name": "stderr",
     "output_type": "stream",
     "text": [
      "\n",
      " 77%|██████████████████████████████████████████████████████████████▎                  | 77/100 [40:23<12:06, 31.57s/it]\u001b[A"
     ]
    },
    {
     "name": "stdout",
     "output_type": "stream",
     "text": [
      "Test Statistic:  0.016396294053610205\n",
      "p-value:  0.061938061938061936\n",
      "(200, 14)\n",
      "(200,)\n",
      "Fitted\n"
     ]
    },
    {
     "name": "stderr",
     "output_type": "stream",
     "text": [
      "\n",
      " 78%|███████████████████████████████████████████████████████████████▏                 | 78/100 [40:54<11:30, 31.38s/it]\u001b[A"
     ]
    },
    {
     "name": "stdout",
     "output_type": "stream",
     "text": [
      "Test Statistic:  0.008462013936931911\n",
      "p-value:  0.9340659340659341\n",
      "(200, 14)\n",
      "(200,)\n",
      "Fitted\n"
     ]
    },
    {
     "name": "stderr",
     "output_type": "stream",
     "text": [
      "\n",
      " 79%|███████████████████████████████████████████████████████████████▉                 | 79/100 [41:25<10:59, 31.43s/it]\u001b[A"
     ]
    },
    {
     "name": "stdout",
     "output_type": "stream",
     "text": [
      "Test Statistic:  0.012476396941036194\n",
      "p-value:  0.3966033966033966\n",
      "(200, 14)\n",
      "(200,)\n",
      "Fitted\n"
     ]
    },
    {
     "name": "stderr",
     "output_type": "stream",
     "text": [
      "\n",
      " 80%|████████████████████████████████████████████████████████████████▊                | 80/100 [41:56<10:25, 31.27s/it]\u001b[A"
     ]
    },
    {
     "name": "stdout",
     "output_type": "stream",
     "text": [
      "Test Statistic:  0.01607699461061496\n",
      "p-value:  0.08691308691308691\n",
      "(200, 14)\n",
      "(200,)\n",
      "Fitted\n"
     ]
    },
    {
     "name": "stderr",
     "output_type": "stream",
     "text": [
      "\n",
      " 81%|█████████████████████████████████████████████████████████████████▌               | 81/100 [42:27<09:53, 31.25s/it]\u001b[A"
     ]
    },
    {
     "name": "stdout",
     "output_type": "stream",
     "text": [
      "Test Statistic:  0.005041613270572731\n",
      "p-value:  1.0\n",
      "(200, 14)\n",
      "(200,)\n",
      "Fitted\n"
     ]
    },
    {
     "name": "stderr",
     "output_type": "stream",
     "text": [
      "\n",
      " 82%|██████████████████████████████████████████████████████████████████▍              | 82/100 [42:58<09:19, 31.06s/it]\u001b[A"
     ]
    },
    {
     "name": "stdout",
     "output_type": "stream",
     "text": [
      "Test Statistic:  0.00446772587087485\n",
      "p-value:  1.0\n",
      "(200, 14)\n",
      "(200,)\n",
      "Fitted\n"
     ]
    },
    {
     "name": "stderr",
     "output_type": "stream",
     "text": [
      "\n",
      " 83%|███████████████████████████████████████████████████████████████████▏             | 83/100 [43:29<08:46, 30.98s/it]\u001b[A"
     ]
    },
    {
     "name": "stdout",
     "output_type": "stream",
     "text": [
      "Test Statistic:  0.004842643581019157\n",
      "p-value:  1.0\n",
      "(200, 14)\n",
      "(200,)\n",
      "Fitted\n"
     ]
    },
    {
     "name": "stderr",
     "output_type": "stream",
     "text": [
      "\n",
      " 84%|████████████████████████████████████████████████████████████████████             | 84/100 [44:00<08:17, 31.12s/it]\u001b[A"
     ]
    },
    {
     "name": "stdout",
     "output_type": "stream",
     "text": [
      "Test Statistic:  0.03888242538804132\n",
      "p-value:  0.000999000999000999\n",
      "(200, 14)\n",
      "(200,)\n",
      "Fitted\n"
     ]
    },
    {
     "name": "stderr",
     "output_type": "stream",
     "text": [
      "\n",
      " 85%|████████████████████████████████████████████████████████████████████▊            | 85/100 [44:31<07:47, 31.15s/it]\u001b[A"
     ]
    },
    {
     "name": "stdout",
     "output_type": "stream",
     "text": [
      "Test Statistic:  0.010555490018751779\n",
      "p-value:  0.5074925074925075\n",
      "(200, 14)\n",
      "(200,)\n",
      "Fitted\n"
     ]
    },
    {
     "name": "stderr",
     "output_type": "stream",
     "text": [
      "\n",
      " 86%|█████████████████████████████████████████████████████████████████████▋           | 86/100 [45:02<07:15, 31.12s/it]\u001b[A"
     ]
    },
    {
     "name": "stdout",
     "output_type": "stream",
     "text": [
      "Test Statistic:  0.005711792125850157\n",
      "p-value:  1.0\n",
      "(200, 14)\n",
      "(200,)\n",
      "Fitted\n"
     ]
    },
    {
     "name": "stderr",
     "output_type": "stream",
     "text": [
      "\n",
      " 87%|██████████████████████████████████████████████████████████████████████▍          | 87/100 [45:33<06:42, 30.97s/it]\u001b[A"
     ]
    },
    {
     "name": "stdout",
     "output_type": "stream",
     "text": [
      "Test Statistic:  0.010944728118500335\n",
      "p-value:  0.5414585414585414\n",
      "(200, 14)\n",
      "(200,)\n",
      "Fitted\n"
     ]
    },
    {
     "name": "stderr",
     "output_type": "stream",
     "text": [
      "\n",
      " 88%|███████████████████████████████████████████████████████████████████████▎         | 88/100 [46:03<06:08, 30.72s/it]\u001b[A"
     ]
    },
    {
     "name": "stdout",
     "output_type": "stream",
     "text": [
      "Test Statistic:  0.0049770293811941535\n",
      "p-value:  1.0\n",
      "(200, 14)\n",
      "(200,)\n",
      "Fitted\n"
     ]
    },
    {
     "name": "stderr",
     "output_type": "stream",
     "text": [
      "\n",
      " 89%|████████████████████████████████████████████████████████████████████████         | 89/100 [46:37<05:47, 31.63s/it]\u001b[A"
     ]
    },
    {
     "name": "stdout",
     "output_type": "stream",
     "text": [
      "Test Statistic:  0.006732685064653632\n",
      "p-value:  1.0\n",
      "(200, 14)\n",
      "(200,)\n",
      "Fitted\n"
     ]
    },
    {
     "name": "stderr",
     "output_type": "stream",
     "text": [
      "\n",
      " 90%|████████████████████████████████████████████████████████████████████████▉        | 90/100 [47:07<05:12, 31.26s/it]\u001b[A"
     ]
    },
    {
     "name": "stdout",
     "output_type": "stream",
     "text": [
      "Test Statistic:  0.0029942061247807406\n",
      "p-value:  1.0\n",
      "(200, 14)\n",
      "(200,)\n",
      "Fitted\n"
     ]
    },
    {
     "name": "stderr",
     "output_type": "stream",
     "text": [
      "\n",
      " 91%|█████████████████████████████████████████████████████████████████████████▋       | 91/100 [47:39<04:42, 31.44s/it]\u001b[A"
     ]
    },
    {
     "name": "stdout",
     "output_type": "stream",
     "text": [
      "Test Statistic:  0.0035181072202875585\n",
      "p-value:  1.0\n",
      "(200, 14)\n",
      "(200,)\n",
      "Fitted\n"
     ]
    },
    {
     "name": "stderr",
     "output_type": "stream",
     "text": [
      "\n",
      " 92%|██████████████████████████████████████████████████████████████████████████▌      | 92/100 [48:10<04:09, 31.20s/it]\u001b[A"
     ]
    },
    {
     "name": "stdout",
     "output_type": "stream",
     "text": [
      "Test Statistic:  0.013098696393144427\n",
      "p-value:  0.21478521478521478\n",
      "(200, 14)\n",
      "(200,)\n",
      "Fitted\n"
     ]
    },
    {
     "name": "stderr",
     "output_type": "stream",
     "text": [
      "\n",
      " 93%|███████████████████████████████████████████████████████████████████████████▎     | 93/100 [48:40<03:37, 31.00s/it]\u001b[A"
     ]
    },
    {
     "name": "stdout",
     "output_type": "stream",
     "text": [
      "Test Statistic:  0.007312500319893167\n",
      "p-value:  0.994005994005994\n",
      "(200, 14)\n",
      "(200,)\n",
      "Fitted\n"
     ]
    },
    {
     "name": "stderr",
     "output_type": "stream",
     "text": [
      "\n",
      " 94%|████████████████████████████████████████████████████████████████████████████▏    | 94/100 [49:12<03:07, 31.22s/it]\u001b[A"
     ]
    },
    {
     "name": "stdout",
     "output_type": "stream",
     "text": [
      "Test Statistic:  0.008246243005847309\n",
      "p-value:  0.913086913086913\n",
      "(200, 14)\n",
      "(200,)\n",
      "Fitted\n"
     ]
    },
    {
     "name": "stderr",
     "output_type": "stream",
     "text": [
      "\n",
      " 95%|████████████████████████████████████████████████████████████████████████████▉    | 95/100 [49:43<02:36, 31.22s/it]\u001b[A"
     ]
    },
    {
     "name": "stdout",
     "output_type": "stream",
     "text": [
      "Test Statistic:  0.002636200332644556\n",
      "p-value:  1.0\n",
      "(200, 14)\n",
      "(200,)\n",
      "Fitted\n"
     ]
    },
    {
     "name": "stderr",
     "output_type": "stream",
     "text": [
      "\n",
      " 96%|█████████████████████████████████████████████████████████████████████████████▊   | 96/100 [50:13<02:02, 30.65s/it]\u001b[A"
     ]
    },
    {
     "name": "stdout",
     "output_type": "stream",
     "text": [
      "Test Statistic:  0.007891212286705862\n",
      "p-value:  0.942057942057942\n",
      "(200, 14)\n",
      "(200,)\n",
      "Fitted\n"
     ]
    },
    {
     "name": "stderr",
     "output_type": "stream",
     "text": [
      "\n",
      " 97%|██████████████████████████████████████████████████████████████████████████████▌  | 97/100 [50:42<01:31, 30.38s/it]\u001b[A"
     ]
    },
    {
     "name": "stdout",
     "output_type": "stream",
     "text": [
      "Test Statistic:  0.004903596719115111\n",
      "p-value:  1.0\n",
      "(200, 14)\n",
      "(200,)\n",
      "Fitted\n"
     ]
    },
    {
     "name": "stderr",
     "output_type": "stream",
     "text": [
      "\n",
      " 98%|███████████████████████████████████████████████████████████████████████████████▍ | 98/100 [51:13<01:00, 30.37s/it]\u001b[A"
     ]
    },
    {
     "name": "stdout",
     "output_type": "stream",
     "text": [
      "Test Statistic:  0.016836931623037454\n",
      "p-value:  0.056943056943056944\n",
      "(200, 14)\n",
      "(200,)\n",
      "Fitted\n"
     ]
    },
    {
     "name": "stderr",
     "output_type": "stream",
     "text": [
      "\n",
      " 99%|████████████████████████████████████████████████████████████████████████████████▏| 99/100 [51:44<00:30, 30.64s/it]\u001b[A"
     ]
    },
    {
     "name": "stdout",
     "output_type": "stream",
     "text": [
      "Test Statistic:  0.00572825840195923\n",
      "p-value:  1.0\n",
      "(200, 14)\n",
      "(200,)\n",
      "Fitted\n"
     ]
    },
    {
     "name": "stderr",
     "output_type": "stream",
     "text": [
      "\n",
      "100%|████████████████████████████████████████████████████████████████████████████████| 100/100 [52:16<00:00, 31.36s/it]\u001b[A\n",
      " 35%|██████████████████████████▌                                                 | 7/20 [6:09:16<11:24:36, 3159.75s/it]\n",
      "  0%|                                                                                          | 0/100 [00:00<?, ?it/s]\u001b[A"
     ]
    },
    {
     "name": "stdout",
     "output_type": "stream",
     "text": [
      "Test Statistic:  0.015578711610104157\n",
      "p-value:  0.07292707292707293\n",
      "dimension 8\n",
      "circle\n",
      "(200, 16)\n",
      "(200,)\n",
      "Fitted\n"
     ]
    },
    {
     "name": "stderr",
     "output_type": "stream",
     "text": [
      "\n",
      "  1%|▊                                                                                 | 1/100 [00:31<52:24, 31.76s/it]\u001b[A"
     ]
    },
    {
     "name": "stdout",
     "output_type": "stream",
     "text": [
      "Test Statistic:  0.004313950237286757\n",
      "p-value:  1.0\n",
      "(200, 16)\n",
      "(200,)\n",
      "Fitted\n"
     ]
    },
    {
     "name": "stderr",
     "output_type": "stream",
     "text": [
      "\n",
      "  2%|█▋                                                                                | 2/100 [01:03<51:51, 31.75s/it]\u001b[A"
     ]
    },
    {
     "name": "stdout",
     "output_type": "stream",
     "text": [
      "Test Statistic:  0.014096713705650576\n",
      "p-value:  0.13386613386613386\n",
      "(200, 16)\n",
      "(200,)\n",
      "Fitted\n"
     ]
    },
    {
     "name": "stderr",
     "output_type": "stream",
     "text": [
      "\n",
      "  3%|██▍                                                                               | 3/100 [01:33<50:41, 31.36s/it]\u001b[A"
     ]
    },
    {
     "name": "stdout",
     "output_type": "stream",
     "text": [
      "Test Statistic:  0.009849282157522676\n",
      "p-value:  0.5554445554445554\n",
      "(200, 16)\n",
      "(200,)\n",
      "Fitted\n"
     ]
    },
    {
     "name": "stderr",
     "output_type": "stream",
     "text": [
      "\n",
      "  4%|███▎                                                                              | 4/100 [02:03<49:11, 30.75s/it]\u001b[A"
     ]
    },
    {
     "name": "stdout",
     "output_type": "stream",
     "text": [
      "Test Statistic:  0.0029860786008040208\n",
      "p-value:  1.0\n",
      "(200, 16)\n",
      "(200,)\n",
      "Fitted\n"
     ]
    },
    {
     "name": "stderr",
     "output_type": "stream",
     "text": [
      "\n",
      "  5%|████                                                                              | 5/100 [02:33<48:18, 30.51s/it]\u001b[A"
     ]
    },
    {
     "name": "stdout",
     "output_type": "stream",
     "text": [
      "Test Statistic:  0.014517558141556086\n",
      "p-value:  0.08091908091908091\n",
      "(200, 16)\n",
      "(200,)\n",
      "Fitted\n"
     ]
    },
    {
     "name": "stderr",
     "output_type": "stream",
     "text": [
      "\n",
      "  6%|████▉                                                                             | 6/100 [03:03<47:43, 30.46s/it]\u001b[A"
     ]
    },
    {
     "name": "stdout",
     "output_type": "stream",
     "text": [
      "Test Statistic:  0.0034728280390911026\n",
      "p-value:  1.0\n",
      "(200, 16)\n",
      "(200,)\n",
      "Fitted\n"
     ]
    },
    {
     "name": "stderr",
     "output_type": "stream",
     "text": [
      "\n",
      "  7%|█████▋                                                                            | 7/100 [03:34<47:27, 30.62s/it]\u001b[A"
     ]
    },
    {
     "name": "stdout",
     "output_type": "stream",
     "text": [
      "Test Statistic:  0.011185998820308019\n",
      "p-value:  0.3936063936063936\n",
      "(200, 16)\n",
      "(200,)\n",
      "Fitted\n"
     ]
    },
    {
     "name": "stderr",
     "output_type": "stream",
     "text": [
      "\n",
      "  8%|██████▌                                                                           | 8/100 [04:07<48:10, 31.42s/it]\u001b[A"
     ]
    },
    {
     "name": "stdout",
     "output_type": "stream",
     "text": [
      "Test Statistic:  0.018919559142609343\n",
      "p-value:  0.03296703296703297\n",
      "(200, 16)\n",
      "(200,)\n",
      "Fitted\n"
     ]
    },
    {
     "name": "stderr",
     "output_type": "stream",
     "text": [
      "\n",
      "  9%|███████▍                                                                          | 9/100 [04:39<47:59, 31.64s/it]\u001b[A"
     ]
    },
    {
     "name": "stdout",
     "output_type": "stream",
     "text": [
      "Test Statistic:  0.005464757425216127\n",
      "p-value:  1.0\n",
      "(200, 16)\n",
      "(200,)\n",
      "Fitted\n"
     ]
    },
    {
     "name": "stderr",
     "output_type": "stream",
     "text": [
      "\n",
      " 10%|████████                                                                         | 10/100 [05:10<47:01, 31.35s/it]\u001b[A"
     ]
    },
    {
     "name": "stdout",
     "output_type": "stream",
     "text": [
      "Test Statistic:  0.006382556518783722\n",
      "p-value:  1.0\n",
      "(200, 16)\n",
      "(200,)\n",
      "Fitted\n"
     ]
    },
    {
     "name": "stderr",
     "output_type": "stream",
     "text": [
      "\n",
      " 11%|████████▉                                                                        | 11/100 [05:41<46:08, 31.11s/it]\u001b[A"
     ]
    },
    {
     "name": "stdout",
     "output_type": "stream",
     "text": [
      "Test Statistic:  0.006413260034347945\n",
      "p-value:  0.999000999000999\n",
      "(200, 16)\n",
      "(200,)\n",
      "Fitted\n"
     ]
    },
    {
     "name": "stderr",
     "output_type": "stream",
     "text": [
      "\n",
      " 12%|█████████▋                                                                       | 12/100 [06:12<45:35, 31.08s/it]\u001b[A"
     ]
    },
    {
     "name": "stdout",
     "output_type": "stream",
     "text": [
      "Test Statistic:  0.0034554399992589024\n",
      "p-value:  1.0\n",
      "(200, 16)\n",
      "(200,)\n",
      "Fitted\n"
     ]
    },
    {
     "name": "stderr",
     "output_type": "stream",
     "text": [
      "\n",
      " 13%|██████████▌                                                                      | 13/100 [06:45<45:56, 31.69s/it]\u001b[A"
     ]
    },
    {
     "name": "stdout",
     "output_type": "stream",
     "text": [
      "Test Statistic:  0.00557154993150033\n",
      "p-value:  1.0\n",
      "(200, 16)\n",
      "(200,)\n",
      "Fitted\n"
     ]
    },
    {
     "name": "stderr",
     "output_type": "stream",
     "text": [
      "\n",
      " 14%|███████████▎                                                                     | 14/100 [07:15<44:57, 31.37s/it]\u001b[A"
     ]
    },
    {
     "name": "stdout",
     "output_type": "stream",
     "text": [
      "Test Statistic:  0.0038997501815587476\n",
      "p-value:  1.0\n",
      "(200, 16)\n",
      "(200,)\n",
      "Fitted\n"
     ]
    },
    {
     "name": "stderr",
     "output_type": "stream",
     "text": [
      "\n",
      " 15%|████████████▏                                                                    | 15/100 [07:47<44:27, 31.38s/it]\u001b[A"
     ]
    },
    {
     "name": "stdout",
     "output_type": "stream",
     "text": [
      "Test Statistic:  0.01475341167972899\n",
      "p-value:  0.10789210789210789\n",
      "(200, 16)\n",
      "(200,)\n",
      "Fitted\n"
     ]
    },
    {
     "name": "stderr",
     "output_type": "stream",
     "text": [
      "\n",
      " 16%|████████████▉                                                                    | 16/100 [08:19<44:07, 31.52s/it]\u001b[A"
     ]
    },
    {
     "name": "stdout",
     "output_type": "stream",
     "text": [
      "Test Statistic:  0.0029838693128859672\n",
      "p-value:  1.0\n",
      "(200, 16)\n",
      "(200,)\n",
      "Fitted\n"
     ]
    },
    {
     "name": "stderr",
     "output_type": "stream",
     "text": [
      "\n",
      " 17%|█████████████▊                                                                   | 17/100 [08:51<43:44, 31.62s/it]\u001b[A"
     ]
    },
    {
     "name": "stdout",
     "output_type": "stream",
     "text": [
      "Test Statistic:  0.008077573432444418\n",
      "p-value:  0.8961038961038961\n",
      "(200, 16)\n",
      "(200,)\n",
      "Fitted\n"
     ]
    },
    {
     "name": "stderr",
     "output_type": "stream",
     "text": [
      "\n",
      " 18%|██████████████▌                                                                  | 18/100 [09:22<43:02, 31.49s/it]\u001b[A"
     ]
    },
    {
     "name": "stdout",
     "output_type": "stream",
     "text": [
      "Test Statistic:  0.0038356082442057016\n",
      "p-value:  1.0\n",
      "(200, 16)\n",
      "(200,)\n",
      "Fitted\n"
     ]
    },
    {
     "name": "stderr",
     "output_type": "stream",
     "text": [
      "\n",
      " 19%|███████████████▍                                                                 | 19/100 [09:52<42:03, 31.15s/it]\u001b[A"
     ]
    },
    {
     "name": "stdout",
     "output_type": "stream",
     "text": [
      "Test Statistic:  0.008188261884492731\n",
      "p-value:  0.9090909090909091\n",
      "(200, 16)\n",
      "(200,)\n",
      "Fitted\n"
     ]
    },
    {
     "name": "stderr",
     "output_type": "stream",
     "text": [
      "\n",
      " 20%|████████████████▏                                                                | 20/100 [10:23<41:14, 30.93s/it]\u001b[A"
     ]
    },
    {
     "name": "stdout",
     "output_type": "stream",
     "text": [
      "Test Statistic:  0.005878063321995475\n",
      "p-value:  0.999000999000999\n",
      "(200, 16)\n",
      "(200,)\n",
      "Fitted\n"
     ]
    },
    {
     "name": "stderr",
     "output_type": "stream",
     "text": [
      "\n",
      " 21%|█████████████████                                                                | 21/100 [10:54<40:51, 31.03s/it]\u001b[A"
     ]
    },
    {
     "name": "stdout",
     "output_type": "stream",
     "text": [
      "Test Statistic:  0.0147425148127176\n",
      "p-value:  0.09490509490509491\n",
      "(200, 16)\n",
      "(200,)\n",
      "Fitted\n"
     ]
    },
    {
     "name": "stderr",
     "output_type": "stream",
     "text": [
      "\n",
      " 22%|█████████████████▊                                                               | 22/100 [11:26<40:36, 31.24s/it]\u001b[A"
     ]
    },
    {
     "name": "stdout",
     "output_type": "stream",
     "text": [
      "Test Statistic:  0.02116793837014863\n",
      "p-value:  0.003996003996003996\n",
      "(200, 16)\n",
      "(200,)\n",
      "Fitted\n"
     ]
    },
    {
     "name": "stderr",
     "output_type": "stream",
     "text": [
      "\n",
      " 23%|██████████████████▋                                                              | 23/100 [11:56<39:58, 31.15s/it]\u001b[A"
     ]
    },
    {
     "name": "stdout",
     "output_type": "stream",
     "text": [
      "Test Statistic:  0.021065310094948386\n",
      "p-value:  0.014985014985014986\n",
      "(200, 16)\n",
      "(200,)\n",
      "Fitted\n"
     ]
    },
    {
     "name": "stderr",
     "output_type": "stream",
     "text": [
      "\n",
      " 24%|███████████████████▍                                                             | 24/100 [12:28<39:29, 31.17s/it]\u001b[A"
     ]
    },
    {
     "name": "stdout",
     "output_type": "stream",
     "text": [
      "Test Statistic:  0.003974912954464838\n",
      "p-value:  1.0\n",
      "(200, 16)\n",
      "(200,)\n",
      "Fitted\n"
     ]
    },
    {
     "name": "stderr",
     "output_type": "stream",
     "text": [
      "\n",
      " 25%|████████████████████▎                                                            | 25/100 [12:59<39:04, 31.26s/it]\u001b[A"
     ]
    },
    {
     "name": "stdout",
     "output_type": "stream",
     "text": [
      "Test Statistic:  0.008254454515344012\n",
      "p-value:  0.7662337662337663\n",
      "(200, 16)\n",
      "(200,)\n",
      "Fitted\n"
     ]
    },
    {
     "name": "stderr",
     "output_type": "stream",
     "text": [
      "\n",
      " 26%|█████████████████████                                                            | 26/100 [13:31<38:39, 31.34s/it]\u001b[A"
     ]
    },
    {
     "name": "stdout",
     "output_type": "stream",
     "text": [
      "Test Statistic:  0.0071159638163970085\n",
      "p-value:  0.996003996003996\n",
      "(200, 16)\n",
      "(200,)\n",
      "Fitted\n"
     ]
    },
    {
     "name": "stderr",
     "output_type": "stream",
     "text": [
      "\n",
      " 27%|█████████████████████▊                                                           | 27/100 [14:01<37:50, 31.11s/it]\u001b[A"
     ]
    },
    {
     "name": "stdout",
     "output_type": "stream",
     "text": [
      "Test Statistic:  0.0028227809491294664\n",
      "p-value:  1.0\n",
      "(200, 16)\n",
      "(200,)\n",
      "Fitted\n"
     ]
    },
    {
     "name": "stderr",
     "output_type": "stream",
     "text": [
      "\n",
      " 28%|██████████████████████▋                                                          | 28/100 [14:41<40:31, 33.77s/it]\u001b[A"
     ]
    },
    {
     "name": "stdout",
     "output_type": "stream",
     "text": [
      "Test Statistic:  0.0059717342352803016\n",
      "p-value:  1.0\n",
      "(200, 16)\n",
      "(200,)\n",
      "Fitted\n"
     ]
    },
    {
     "name": "stderr",
     "output_type": "stream",
     "text": [
      "\n",
      " 29%|███████████████████████▍                                                         | 29/100 [15:13<39:10, 33.11s/it]\u001b[A"
     ]
    },
    {
     "name": "stdout",
     "output_type": "stream",
     "text": [
      "Test Statistic:  0.004382788580560071\n",
      "p-value:  1.0\n",
      "(200, 16)\n",
      "(200,)\n",
      "Fitted\n"
     ]
    },
    {
     "name": "stderr",
     "output_type": "stream",
     "text": [
      "\n",
      " 30%|████████████████████████▎                                                        | 30/100 [15:43<37:35, 32.22s/it]\u001b[A"
     ]
    },
    {
     "name": "stdout",
     "output_type": "stream",
     "text": [
      "Test Statistic:  0.018594334836073534\n",
      "p-value:  0.03696303696303696\n",
      "(200, 16)\n",
      "(200,)\n",
      "Fitted\n"
     ]
    },
    {
     "name": "stderr",
     "output_type": "stream",
     "text": [
      "\n",
      " 31%|█████████████████████████                                                        | 31/100 [16:15<36:53, 32.07s/it]\u001b[A"
     ]
    },
    {
     "name": "stdout",
     "output_type": "stream",
     "text": [
      "Test Statistic:  0.01748612678344663\n",
      "p-value:  0.028971028971028972\n",
      "(200, 16)\n",
      "(200,)\n",
      "Fitted\n"
     ]
    },
    {
     "name": "stderr",
     "output_type": "stream",
     "text": [
      "\n",
      " 32%|█████████████████████████▉                                                       | 32/100 [16:47<36:25, 32.14s/it]\u001b[A"
     ]
    },
    {
     "name": "stdout",
     "output_type": "stream",
     "text": [
      "Test Statistic:  0.0033305249053684483\n",
      "p-value:  1.0\n",
      "(200, 16)\n",
      "(200,)\n",
      "Fitted\n"
     ]
    },
    {
     "name": "stderr",
     "output_type": "stream",
     "text": [
      "\n",
      " 33%|██████████████████████████▋                                                      | 33/100 [17:19<35:43, 31.99s/it]\u001b[A"
     ]
    },
    {
     "name": "stdout",
     "output_type": "stream",
     "text": [
      "Test Statistic:  0.02087248238147632\n",
      "p-value:  0.011988011988011988\n",
      "(200, 16)\n",
      "(200,)\n",
      "Fitted\n"
     ]
    },
    {
     "name": "stderr",
     "output_type": "stream",
     "text": [
      "\n",
      " 34%|███████████████████████████▌                                                     | 34/100 [17:49<34:39, 31.50s/it]\u001b[A"
     ]
    },
    {
     "name": "stdout",
     "output_type": "stream",
     "text": [
      "Test Statistic:  0.01018221896882765\n",
      "p-value:  0.5604395604395604\n",
      "(200, 16)\n",
      "(200,)\n",
      "Fitted\n"
     ]
    },
    {
     "name": "stderr",
     "output_type": "stream",
     "text": [
      "\n",
      " 35%|████████████████████████████▎                                                    | 35/100 [18:21<34:11, 31.56s/it]\u001b[A"
     ]
    },
    {
     "name": "stdout",
     "output_type": "stream",
     "text": [
      "Test Statistic:  0.008914434879163435\n",
      "p-value:  0.7252747252747253\n",
      "(200, 16)\n",
      "(200,)\n",
      "Fitted\n"
     ]
    },
    {
     "name": "stderr",
     "output_type": "stream",
     "text": [
      "\n",
      " 36%|█████████████████████████████▏                                                   | 36/100 [18:53<33:51, 31.75s/it]\u001b[A"
     ]
    },
    {
     "name": "stdout",
     "output_type": "stream",
     "text": [
      "Test Statistic:  0.022423840967546682\n",
      "p-value:  0.011988011988011988\n",
      "(200, 16)\n",
      "(200,)\n",
      "Fitted\n"
     ]
    },
    {
     "name": "stderr",
     "output_type": "stream",
     "text": [
      "\n",
      " 37%|█████████████████████████████▉                                                   | 37/100 [19:24<33:13, 31.64s/it]\u001b[A"
     ]
    },
    {
     "name": "stdout",
     "output_type": "stream",
     "text": [
      "Test Statistic:  0.02524033397723069\n",
      "p-value:  0.001998001998001998\n",
      "(200, 16)\n",
      "(200,)\n",
      "Fitted\n"
     ]
    },
    {
     "name": "stderr",
     "output_type": "stream",
     "text": [
      "\n",
      " 38%|██████████████████████████████▊                                                  | 38/100 [19:55<32:22, 31.33s/it]\u001b[A"
     ]
    },
    {
     "name": "stdout",
     "output_type": "stream",
     "text": [
      "Test Statistic:  0.008238630591811624\n",
      "p-value:  0.9280719280719281\n",
      "(200, 16)\n",
      "(200,)\n",
      "Fitted\n"
     ]
    },
    {
     "name": "stderr",
     "output_type": "stream",
     "text": [
      "\n",
      " 39%|███████████████████████████████▌                                                 | 39/100 [20:25<31:36, 31.08s/it]\u001b[A"
     ]
    },
    {
     "name": "stdout",
     "output_type": "stream",
     "text": [
      "Test Statistic:  0.0041831830923387825\n",
      "p-value:  1.0\n",
      "(200, 16)\n",
      "(200,)\n",
      "Fitted\n"
     ]
    },
    {
     "name": "stderr",
     "output_type": "stream",
     "text": [
      "\n",
      " 40%|████████████████████████████████▍                                                | 40/100 [20:56<31:02, 31.04s/it]\u001b[A"
     ]
    },
    {
     "name": "stdout",
     "output_type": "stream",
     "text": [
      "Test Statistic:  0.0038483167764193915\n",
      "p-value:  1.0\n",
      "(200, 16)\n",
      "(200,)\n",
      "Fitted\n"
     ]
    },
    {
     "name": "stderr",
     "output_type": "stream",
     "text": [
      "\n",
      " 41%|█████████████████████████████████▏                                               | 41/100 [21:33<32:10, 32.72s/it]\u001b[A"
     ]
    },
    {
     "name": "stdout",
     "output_type": "stream",
     "text": [
      "Test Statistic:  0.009544802694419707\n",
      "p-value:  0.6593406593406593\n",
      "(200, 16)\n",
      "(200,)\n",
      "Fitted\n"
     ]
    },
    {
     "name": "stderr",
     "output_type": "stream",
     "text": [
      "\n",
      " 42%|██████████████████████████████████                                               | 42/100 [22:07<32:02, 33.14s/it]\u001b[A"
     ]
    },
    {
     "name": "stdout",
     "output_type": "stream",
     "text": [
      "Test Statistic:  0.01126747341277523\n",
      "p-value:  0.35764235764235763\n",
      "(200, 16)\n",
      "(200,)\n",
      "Fitted\n"
     ]
    },
    {
     "name": "stderr",
     "output_type": "stream",
     "text": [
      "\n",
      " 43%|██████████████████████████████████▊                                              | 43/100 [22:38<30:44, 32.36s/it]\u001b[A"
     ]
    },
    {
     "name": "stdout",
     "output_type": "stream",
     "text": [
      "Test Statistic:  0.020032283683071195\n",
      "p-value:  0.011988011988011988\n",
      "(200, 16)\n",
      "(200,)\n",
      "Fitted\n"
     ]
    },
    {
     "name": "stderr",
     "output_type": "stream",
     "text": [
      "\n",
      " 44%|███████████████████████████████████▋                                             | 44/100 [23:10<30:09, 32.31s/it]\u001b[A"
     ]
    },
    {
     "name": "stdout",
     "output_type": "stream",
     "text": [
      "Test Statistic:  0.00712827626982071\n",
      "p-value:  0.9400599400599401\n",
      "(200, 16)\n",
      "(200,)\n",
      "Fitted\n"
     ]
    },
    {
     "name": "stderr",
     "output_type": "stream",
     "text": [
      "\n",
      " 45%|████████████████████████████████████▍                                            | 45/100 [23:40<29:06, 31.76s/it]\u001b[A"
     ]
    },
    {
     "name": "stdout",
     "output_type": "stream",
     "text": [
      "Test Statistic:  0.011473379543295859\n",
      "p-value:  0.35364635364635366\n",
      "(200, 16)\n",
      "(200,)\n",
      "Fitted\n"
     ]
    },
    {
     "name": "stderr",
     "output_type": "stream",
     "text": [
      "\n",
      " 46%|█████████████████████████████████████▎                                           | 46/100 [24:16<29:38, 32.93s/it]\u001b[A"
     ]
    },
    {
     "name": "stdout",
     "output_type": "stream",
     "text": [
      "Test Statistic:  0.02294695490330423\n",
      "p-value:  0.004995004995004995\n",
      "(200, 16)\n",
      "(200,)\n",
      "Fitted\n"
     ]
    },
    {
     "name": "stderr",
     "output_type": "stream",
     "text": [
      "\n",
      " 47%|██████████████████████████████████████                                           | 47/100 [24:47<28:38, 32.42s/it]\u001b[A"
     ]
    },
    {
     "name": "stdout",
     "output_type": "stream",
     "text": [
      "Test Statistic:  0.00764311215299629\n",
      "p-value:  0.967032967032967\n",
      "(200, 16)\n",
      "(200,)\n",
      "Fitted\n"
     ]
    },
    {
     "name": "stderr",
     "output_type": "stream",
     "text": [
      "\n",
      " 48%|██████████████████████████████████████▉                                          | 48/100 [25:19<27:55, 32.22s/it]\u001b[A"
     ]
    },
    {
     "name": "stdout",
     "output_type": "stream",
     "text": [
      "Test Statistic:  0.02005073674646607\n",
      "p-value:  0.01098901098901099\n",
      "(200, 16)\n",
      "(200,)\n",
      "Fitted\n"
     ]
    },
    {
     "name": "stderr",
     "output_type": "stream",
     "text": [
      "\n",
      " 49%|███████████████████████████████████████▋                                         | 49/100 [25:50<27:06, 31.89s/it]\u001b[A"
     ]
    },
    {
     "name": "stdout",
     "output_type": "stream",
     "text": [
      "Test Statistic:  0.012081046418357944\n",
      "p-value:  0.2897102897102897\n",
      "(200, 16)\n",
      "(200,)\n",
      "Fitted\n"
     ]
    },
    {
     "name": "stderr",
     "output_type": "stream",
     "text": [
      "\n",
      " 50%|████████████████████████████████████████▌                                        | 50/100 [26:22<26:37, 31.94s/it]\u001b[A"
     ]
    },
    {
     "name": "stdout",
     "output_type": "stream",
     "text": [
      "Test Statistic:  0.006625988485785328\n",
      "p-value:  1.0\n",
      "(200, 16)\n",
      "(200,)\n",
      "Fitted\n"
     ]
    },
    {
     "name": "stderr",
     "output_type": "stream",
     "text": [
      "\n",
      " 51%|█████████████████████████████████████████▎                                       | 51/100 [26:53<25:53, 31.70s/it]\u001b[A"
     ]
    },
    {
     "name": "stdout",
     "output_type": "stream",
     "text": [
      "Test Statistic:  0.010370867299378528\n",
      "p-value:  0.4745254745254745\n",
      "(200, 16)\n",
      "(200,)\n",
      "Fitted\n"
     ]
    },
    {
     "name": "stderr",
     "output_type": "stream",
     "text": [
      "\n",
      " 52%|██████████████████████████████████████████                                       | 52/100 [27:25<25:18, 31.64s/it]\u001b[A"
     ]
    },
    {
     "name": "stdout",
     "output_type": "stream",
     "text": [
      "Test Statistic:  0.002717468496656328\n",
      "p-value:  1.0\n",
      "(200, 16)\n",
      "(200,)\n",
      "Fitted\n"
     ]
    },
    {
     "name": "stderr",
     "output_type": "stream",
     "text": [
      "\n",
      " 53%|██████████████████████████████████████████▉                                      | 53/100 [27:56<24:35, 31.38s/it]\u001b[A"
     ]
    },
    {
     "name": "stdout",
     "output_type": "stream",
     "text": [
      "Test Statistic:  0.01985446779956035\n",
      "p-value:  0.017982017982017984\n",
      "(200, 16)\n",
      "(200,)\n",
      "Fitted\n"
     ]
    },
    {
     "name": "stderr",
     "output_type": "stream",
     "text": [
      "\n",
      " 54%|███████████████████████████████████████████▋                                     | 54/100 [28:27<23:59, 31.30s/it]\u001b[A"
     ]
    },
    {
     "name": "stdout",
     "output_type": "stream",
     "text": [
      "Test Statistic:  0.011470807110894987\n",
      "p-value:  0.3986013986013986\n",
      "(200, 16)\n",
      "(200,)\n",
      "Fitted\n"
     ]
    },
    {
     "name": "stderr",
     "output_type": "stream",
     "text": [
      "\n",
      " 55%|████████████████████████████████████████████▌                                    | 55/100 [28:58<23:26, 31.25s/it]\u001b[A"
     ]
    },
    {
     "name": "stdout",
     "output_type": "stream",
     "text": [
      "Test Statistic:  0.002188260392822161\n",
      "p-value:  1.0\n",
      "(200, 16)\n",
      "(200,)\n",
      "Fitted\n"
     ]
    },
    {
     "name": "stderr",
     "output_type": "stream",
     "text": [
      "\n",
      " 56%|█████████████████████████████████████████████▎                                   | 56/100 [29:28<22:39, 30.90s/it]\u001b[A"
     ]
    },
    {
     "name": "stdout",
     "output_type": "stream",
     "text": [
      "Test Statistic:  0.007929580119411361\n",
      "p-value:  0.9100899100899101\n",
      "(200, 16)\n",
      "(200,)\n",
      "Fitted\n"
     ]
    },
    {
     "name": "stderr",
     "output_type": "stream",
     "text": [
      "\n",
      " 57%|██████████████████████████████████████████████▏                                  | 57/100 [29:59<22:07, 30.86s/it]\u001b[A"
     ]
    },
    {
     "name": "stdout",
     "output_type": "stream",
     "text": [
      "Test Statistic:  0.006019978978999196\n",
      "p-value:  1.0\n",
      "(200, 16)\n",
      "(200,)\n",
      "Fitted\n"
     ]
    },
    {
     "name": "stderr",
     "output_type": "stream",
     "text": [
      "\n",
      " 58%|██████████████████████████████████████████████▉                                  | 58/100 [30:29<21:28, 30.68s/it]\u001b[A"
     ]
    },
    {
     "name": "stdout",
     "output_type": "stream",
     "text": [
      "Test Statistic:  0.008250789471035858\n",
      "p-value:  0.8671328671328671\n",
      "(200, 16)\n",
      "(200,)\n",
      "Fitted\n"
     ]
    },
    {
     "name": "stderr",
     "output_type": "stream",
     "text": [
      "\n",
      " 59%|███████████████████████████████████████████████▊                                 | 59/100 [31:00<21:02, 30.79s/it]\u001b[A"
     ]
    },
    {
     "name": "stdout",
     "output_type": "stream",
     "text": [
      "Test Statistic:  0.005668326867935836\n",
      "p-value:  1.0\n",
      "(200, 16)\n",
      "(200,)\n",
      "Fitted\n"
     ]
    },
    {
     "name": "stderr",
     "output_type": "stream",
     "text": [
      "\n",
      " 60%|████████████████████████████████████████████████▌                                | 60/100 [31:31<20:30, 30.75s/it]\u001b[A"
     ]
    },
    {
     "name": "stdout",
     "output_type": "stream",
     "text": [
      "Test Statistic:  0.003797265129219185\n",
      "p-value:  1.0\n",
      "(200, 16)\n",
      "(200,)\n",
      "Fitted\n"
     ]
    },
    {
     "name": "stderr",
     "output_type": "stream",
     "text": [
      "\n",
      " 61%|█████████████████████████████████████████████████▍                               | 61/100 [32:01<19:56, 30.67s/it]\u001b[A"
     ]
    },
    {
     "name": "stdout",
     "output_type": "stream",
     "text": [
      "Test Statistic:  0.011675817270822897\n",
      "p-value:  0.2517482517482518\n",
      "(200, 16)\n",
      "(200,)\n",
      "Fitted\n"
     ]
    },
    {
     "name": "stderr",
     "output_type": "stream",
     "text": [
      "\n",
      " 62%|██████████████████████████████████████████████████▏                              | 62/100 [32:32<19:32, 30.85s/it]\u001b[A"
     ]
    },
    {
     "name": "stdout",
     "output_type": "stream",
     "text": [
      "Test Statistic:  0.006447743432112518\n",
      "p-value:  1.0\n",
      "(200, 16)\n",
      "(200,)\n",
      "Fitted\n"
     ]
    },
    {
     "name": "stderr",
     "output_type": "stream",
     "text": [
      "\n",
      " 63%|███████████████████████████████████████████████████                              | 63/100 [33:04<19:15, 31.24s/it]\u001b[A"
     ]
    },
    {
     "name": "stdout",
     "output_type": "stream",
     "text": [
      "Test Statistic:  0.016968443120273458\n",
      "p-value:  0.027972027972027972\n",
      "(200, 16)\n",
      "(200,)\n",
      "Fitted\n"
     ]
    },
    {
     "name": "stderr",
     "output_type": "stream",
     "text": [
      "\n",
      " 64%|███████████████████████████████████████████████████▊                             | 64/100 [33:36<18:43, 31.21s/it]\u001b[A"
     ]
    },
    {
     "name": "stdout",
     "output_type": "stream",
     "text": [
      "Test Statistic:  0.007625415283099013\n",
      "p-value:  0.938061938061938\n",
      "(200, 16)\n",
      "(200,)\n",
      "Fitted\n"
     ]
    },
    {
     "name": "stderr",
     "output_type": "stream",
     "text": [
      "\n",
      " 65%|████████████████████████████████████████████████████▋                            | 65/100 [34:10<18:43, 32.10s/it]\u001b[A"
     ]
    },
    {
     "name": "stdout",
     "output_type": "stream",
     "text": [
      "Test Statistic:  0.047871935836994006\n",
      "p-value:  0.000999000999000999\n",
      "(200, 16)\n",
      "(200,)\n",
      "Fitted\n"
     ]
    },
    {
     "name": "stderr",
     "output_type": "stream",
     "text": [
      "\n",
      " 66%|█████████████████████████████████████████████████████▍                           | 66/100 [34:43<18:19, 32.33s/it]\u001b[A"
     ]
    },
    {
     "name": "stdout",
     "output_type": "stream",
     "text": [
      "Test Statistic:  0.013228287430295693\n",
      "p-value:  0.1848151848151848\n",
      "(200, 16)\n",
      "(200,)\n",
      "Fitted\n"
     ]
    },
    {
     "name": "stderr",
     "output_type": "stream",
     "text": [
      "\n",
      " 67%|██████████████████████████████████████████████████████▎                          | 67/100 [35:14<17:41, 32.16s/it]\u001b[A"
     ]
    },
    {
     "name": "stdout",
     "output_type": "stream",
     "text": [
      "Test Statistic:  0.023196851837612997\n",
      "p-value:  0.002997002997002997\n",
      "(200, 16)\n",
      "(200,)\n",
      "Fitted\n"
     ]
    },
    {
     "name": "stderr",
     "output_type": "stream",
     "text": [
      "\n",
      " 68%|███████████████████████████████████████████████████████                          | 68/100 [35:46<17:03, 32.00s/it]\u001b[A"
     ]
    },
    {
     "name": "stdout",
     "output_type": "stream",
     "text": [
      "Test Statistic:  0.007454835573390772\n",
      "p-value:  0.958041958041958\n",
      "(200, 16)\n",
      "(200,)\n",
      "Fitted\n"
     ]
    },
    {
     "name": "stderr",
     "output_type": "stream",
     "text": [
      "\n",
      " 69%|███████████████████████████████████████████████████████▉                         | 69/100 [36:18<16:28, 31.88s/it]\u001b[A"
     ]
    },
    {
     "name": "stdout",
     "output_type": "stream",
     "text": [
      "Test Statistic:  0.01562933931796162\n",
      "p-value:  0.059940059940059943\n",
      "(200, 16)\n",
      "(200,)\n",
      "Fitted\n"
     ]
    },
    {
     "name": "stderr",
     "output_type": "stream",
     "text": [
      "\n",
      " 70%|████████████████████████████████████████████████████████▋                        | 70/100 [36:49<15:50, 31.69s/it]\u001b[A"
     ]
    },
    {
     "name": "stdout",
     "output_type": "stream",
     "text": [
      "Test Statistic:  0.006515999312279974\n",
      "p-value:  0.991008991008991\n",
      "(200, 16)\n",
      "(200,)\n",
      "Fitted\n"
     ]
    },
    {
     "name": "stderr",
     "output_type": "stream",
     "text": [
      "\n",
      " 71%|█████████████████████████████████████████████████████████▌                       | 71/100 [37:20<15:15, 31.58s/it]\u001b[A"
     ]
    },
    {
     "name": "stdout",
     "output_type": "stream",
     "text": [
      "Test Statistic:  0.014514104564749997\n",
      "p-value:  0.14085914085914086\n",
      "(200, 16)\n",
      "(200,)\n",
      "Fitted\n"
     ]
    },
    {
     "name": "stderr",
     "output_type": "stream",
     "text": [
      "\n",
      " 72%|██████████████████████████████████████████████████████████▎                      | 72/100 [37:51<14:34, 31.21s/it]\u001b[A"
     ]
    },
    {
     "name": "stdout",
     "output_type": "stream",
     "text": [
      "Test Statistic:  0.00713441589646846\n",
      "p-value:  0.9790209790209791\n",
      "(200, 16)\n",
      "(200,)\n",
      "Fitted\n"
     ]
    },
    {
     "name": "stderr",
     "output_type": "stream",
     "text": [
      "\n",
      " 73%|███████████████████████████████████████████████████████████▏                     | 73/100 [38:22<14:05, 31.31s/it]\u001b[A"
     ]
    },
    {
     "name": "stdout",
     "output_type": "stream",
     "text": [
      "Test Statistic:  0.005733822605414551\n",
      "p-value:  1.0\n",
      "(200, 16)\n",
      "(200,)\n",
      "Fitted\n"
     ]
    },
    {
     "name": "stderr",
     "output_type": "stream",
     "text": [
      "\n",
      " 74%|███████████████████████████████████████████████████████████▉                     | 74/100 [38:53<13:33, 31.28s/it]\u001b[A"
     ]
    },
    {
     "name": "stdout",
     "output_type": "stream",
     "text": [
      "Test Statistic:  0.01615792761806456\n",
      "p-value:  0.06793206793206794\n",
      "(200, 16)\n",
      "(200,)\n",
      "Fitted\n"
     ]
    },
    {
     "name": "stderr",
     "output_type": "stream",
     "text": [
      "\n",
      " 75%|████████████████████████████████████████████████████████████▊                    | 75/100 [39:24<13:00, 31.22s/it]\u001b[A"
     ]
    },
    {
     "name": "stdout",
     "output_type": "stream",
     "text": [
      "Test Statistic:  0.004691577480270492\n",
      "p-value:  1.0\n",
      "(200, 16)\n",
      "(200,)\n",
      "Fitted\n"
     ]
    },
    {
     "name": "stderr",
     "output_type": "stream",
     "text": [
      "\n",
      " 76%|█████████████████████████████████████████████████████████████▌                   | 76/100 [39:56<12:33, 31.41s/it]\u001b[A"
     ]
    },
    {
     "name": "stdout",
     "output_type": "stream",
     "text": [
      "Test Statistic:  0.00408432331432651\n",
      "p-value:  1.0\n",
      "(200, 16)\n",
      "(200,)\n",
      "Fitted\n"
     ]
    },
    {
     "name": "stderr",
     "output_type": "stream",
     "text": [
      "\n",
      " 77%|██████████████████████████████████████████████████████████████▎                  | 77/100 [40:28<12:02, 31.40s/it]\u001b[A"
     ]
    },
    {
     "name": "stdout",
     "output_type": "stream",
     "text": [
      "Test Statistic:  0.02518568884521477\n",
      "p-value:  0.004995004995004995\n",
      "(200, 16)\n",
      "(200,)\n",
      "Fitted\n"
     ]
    },
    {
     "name": "stderr",
     "output_type": "stream",
     "text": [
      "\n",
      " 78%|███████████████████████████████████████████████████████████████▏                 | 78/100 [40:59<11:33, 31.53s/it]\u001b[A"
     ]
    },
    {
     "name": "stdout",
     "output_type": "stream",
     "text": [
      "Test Statistic:  0.02049857906600394\n",
      "p-value:  0.012987012987012988\n",
      "(200, 16)\n",
      "(200,)\n",
      "Fitted\n"
     ]
    },
    {
     "name": "stderr",
     "output_type": "stream",
     "text": [
      "\n",
      " 79%|███████████████████████████████████████████████████████████████▉                 | 79/100 [41:31<10:59, 31.42s/it]\u001b[A"
     ]
    },
    {
     "name": "stdout",
     "output_type": "stream",
     "text": [
      "Test Statistic:  0.01659965897620297\n",
      "p-value:  0.023976023976023976\n",
      "(200, 16)\n",
      "(200,)\n",
      "Fitted\n"
     ]
    },
    {
     "name": "stderr",
     "output_type": "stream",
     "text": [
      "\n",
      " 80%|████████████████████████████████████████████████████████████████▊                | 80/100 [42:02<10:29, 31.48s/it]\u001b[A"
     ]
    },
    {
     "name": "stdout",
     "output_type": "stream",
     "text": [
      "Test Statistic:  0.002963142645398542\n",
      "p-value:  1.0\n",
      "(200, 16)\n",
      "(200,)\n",
      "Fitted\n"
     ]
    },
    {
     "name": "stderr",
     "output_type": "stream",
     "text": [
      "\n",
      " 81%|█████████████████████████████████████████████████████████████████▌               | 81/100 [42:34<09:57, 31.43s/it]\u001b[A"
     ]
    },
    {
     "name": "stdout",
     "output_type": "stream",
     "text": [
      "Test Statistic:  0.005371531365163773\n",
      "p-value:  1.0\n",
      "(200, 16)\n",
      "(200,)\n",
      "Fitted\n"
     ]
    },
    {
     "name": "stderr",
     "output_type": "stream",
     "text": [
      "\n",
      " 82%|██████████████████████████████████████████████████████████████████▍              | 82/100 [43:05<09:27, 31.51s/it]\u001b[A"
     ]
    },
    {
     "name": "stdout",
     "output_type": "stream",
     "text": [
      "Test Statistic:  0.010696717707998071\n",
      "p-value:  0.5394605394605395\n",
      "(200, 16)\n",
      "(200,)\n",
      "Fitted\n"
     ]
    },
    {
     "name": "stderr",
     "output_type": "stream",
     "text": [
      "\n",
      " 83%|███████████████████████████████████████████████████████████████████▏             | 83/100 [43:36<08:53, 31.40s/it]\u001b[A"
     ]
    },
    {
     "name": "stdout",
     "output_type": "stream",
     "text": [
      "Test Statistic:  0.03160824702187737\n",
      "p-value:  0.000999000999000999\n",
      "(200, 16)\n",
      "(200,)\n",
      "Fitted\n"
     ]
    },
    {
     "name": "stderr",
     "output_type": "stream",
     "text": [
      "\n",
      " 84%|████████████████████████████████████████████████████████████████████             | 84/100 [44:14<08:50, 33.17s/it]\u001b[A"
     ]
    },
    {
     "name": "stdout",
     "output_type": "stream",
     "text": [
      "Test Statistic:  0.0058462627563865555\n",
      "p-value:  1.0\n",
      "(200, 16)\n",
      "(200,)\n",
      "Fitted\n"
     ]
    },
    {
     "name": "stderr",
     "output_type": "stream",
     "text": [
      "\n",
      " 85%|████████████████████████████████████████████████████████████████████▊            | 85/100 [44:49<08:25, 33.73s/it]\u001b[A"
     ]
    },
    {
     "name": "stdout",
     "output_type": "stream",
     "text": [
      "Test Statistic:  0.007976423576110503\n",
      "p-value:  0.8961038961038961\n",
      "(200, 16)\n",
      "(200,)\n",
      "Fitted\n"
     ]
    },
    {
     "name": "stderr",
     "output_type": "stream",
     "text": [
      "\n",
      " 86%|█████████████████████████████████████████████████████████████████████▋           | 86/100 [45:20<07:41, 32.98s/it]\u001b[A"
     ]
    },
    {
     "name": "stdout",
     "output_type": "stream",
     "text": [
      "Test Statistic:  0.023958656862488548\n",
      "p-value:  0.007992007992007992\n",
      "(200, 16)\n",
      "(200,)\n",
      "Fitted\n"
     ]
    },
    {
     "name": "stderr",
     "output_type": "stream",
     "text": [
      "\n",
      " 87%|██████████████████████████████████████████████████████████████████████▍          | 87/100 [45:51<06:59, 32.27s/it]\u001b[A"
     ]
    },
    {
     "name": "stdout",
     "output_type": "stream",
     "text": [
      "Test Statistic:  0.011019141934055399\n",
      "p-value:  0.4095904095904096\n",
      "(200, 16)\n",
      "(200,)\n",
      "Fitted\n"
     ]
    },
    {
     "name": "stderr",
     "output_type": "stream",
     "text": [
      "\n",
      " 88%|███████████████████████████████████████████████████████████████████████▎         | 88/100 [46:21<06:20, 31.67s/it]\u001b[A"
     ]
    },
    {
     "name": "stdout",
     "output_type": "stream",
     "text": [
      "Test Statistic:  0.010343248377772452\n",
      "p-value:  0.44455544455544455\n",
      "(200, 16)\n",
      "(200,)\n",
      "Fitted\n"
     ]
    },
    {
     "name": "stderr",
     "output_type": "stream",
     "text": [
      "\n",
      " 89%|████████████████████████████████████████████████████████████████████████         | 89/100 [46:52<05:46, 31.53s/it]\u001b[A"
     ]
    },
    {
     "name": "stdout",
     "output_type": "stream",
     "text": [
      "Test Statistic:  0.012806375746173382\n",
      "p-value:  0.17582417582417584\n",
      "(200, 16)\n",
      "(200,)\n",
      "Fitted\n"
     ]
    },
    {
     "name": "stderr",
     "output_type": "stream",
     "text": [
      "\n",
      " 90%|████████████████████████████████████████████████████████████████████████▉        | 90/100 [47:23<05:14, 31.48s/it]\u001b[A"
     ]
    },
    {
     "name": "stdout",
     "output_type": "stream",
     "text": [
      "Test Statistic:  0.002923106869647918\n",
      "p-value:  1.0\n",
      "(200, 16)\n",
      "(200,)\n",
      "Fitted\n"
     ]
    },
    {
     "name": "stderr",
     "output_type": "stream",
     "text": [
      "\n",
      " 91%|█████████████████████████████████████████████████████████████████████████▋       | 91/100 [47:55<04:44, 31.62s/it]\u001b[A"
     ]
    },
    {
     "name": "stdout",
     "output_type": "stream",
     "text": [
      "Test Statistic:  0.009520238114365753\n",
      "p-value:  0.7362637362637363\n",
      "(200, 16)\n",
      "(200,)\n",
      "Fitted\n"
     ]
    },
    {
     "name": "stderr",
     "output_type": "stream",
     "text": [
      "\n",
      " 92%|██████████████████████████████████████████████████████████████████████████▌      | 92/100 [48:28<04:14, 31.83s/it]\u001b[A"
     ]
    },
    {
     "name": "stdout",
     "output_type": "stream",
     "text": [
      "Test Statistic:  0.00317757492592996\n",
      "p-value:  1.0\n",
      "(200, 16)\n",
      "(200,)\n",
      "Fitted\n"
     ]
    },
    {
     "name": "stderr",
     "output_type": "stream",
     "text": [
      "\n",
      " 93%|███████████████████████████████████████████████████████████████████████████▎     | 93/100 [48:59<03:42, 31.80s/it]\u001b[A"
     ]
    },
    {
     "name": "stdout",
     "output_type": "stream",
     "text": [
      "Test Statistic:  0.0067856158838308644\n",
      "p-value:  0.99000999000999\n",
      "(200, 16)\n",
      "(200,)\n",
      "Fitted\n"
     ]
    },
    {
     "name": "stderr",
     "output_type": "stream",
     "text": [
      "\n",
      " 94%|████████████████████████████████████████████████████████████████████████████▏    | 94/100 [49:30<03:09, 31.57s/it]\u001b[A"
     ]
    },
    {
     "name": "stdout",
     "output_type": "stream",
     "text": [
      "Test Statistic:  0.010544965967477782\n",
      "p-value:  0.46853146853146854\n",
      "(200, 16)\n",
      "(200,)\n",
      "Fitted\n"
     ]
    },
    {
     "name": "stderr",
     "output_type": "stream",
     "text": [
      "\n",
      " 95%|████████████████████████████████████████████████████████████████████████████▉    | 95/100 [50:02<02:37, 31.57s/it]\u001b[A"
     ]
    },
    {
     "name": "stdout",
     "output_type": "stream",
     "text": [
      "Test Statistic:  0.01089181257288141\n",
      "p-value:  0.4015984015984016\n",
      "(200, 16)\n",
      "(200,)\n",
      "Fitted\n"
     ]
    },
    {
     "name": "stderr",
     "output_type": "stream",
     "text": [
      "\n",
      " 96%|█████████████████████████████████████████████████████████████████████████████▊   | 96/100 [50:32<02:03, 30.98s/it]\u001b[A"
     ]
    },
    {
     "name": "stdout",
     "output_type": "stream",
     "text": [
      "Test Statistic:  0.022078284926406733\n",
      "p-value:  0.01098901098901099\n",
      "(200, 16)\n",
      "(200,)\n",
      "Fitted\n"
     ]
    },
    {
     "name": "stderr",
     "output_type": "stream",
     "text": [
      "\n",
      " 97%|██████████████████████████████████████████████████████████████████████████████▌  | 97/100 [51:01<01:31, 30.64s/it]\u001b[A"
     ]
    },
    {
     "name": "stdout",
     "output_type": "stream",
     "text": [
      "Test Statistic:  0.005849456298742894\n",
      "p-value:  1.0\n",
      "(200, 16)\n",
      "(200,)\n",
      "Fitted\n"
     ]
    },
    {
     "name": "stderr",
     "output_type": "stream",
     "text": [
      "\n",
      " 98%|███████████████████████████████████████████████████████████████████████████████▍ | 98/100 [51:32<01:01, 30.66s/it]\u001b[A"
     ]
    },
    {
     "name": "stdout",
     "output_type": "stream",
     "text": [
      "Test Statistic:  0.0027070874320371807\n",
      "p-value:  1.0\n",
      "(200, 16)\n",
      "(200,)\n",
      "Fitted\n"
     ]
    },
    {
     "name": "stderr",
     "output_type": "stream",
     "text": [
      "\n",
      " 99%|████████████████████████████████████████████████████████████████████████████████▏| 99/100 [52:04<00:30, 30.96s/it]\u001b[A"
     ]
    },
    {
     "name": "stdout",
     "output_type": "stream",
     "text": [
      "Test Statistic:  0.016898319832741593\n",
      "p-value:  0.03796203796203796\n",
      "(200, 16)\n",
      "(200,)\n",
      "Fitted\n"
     ]
    },
    {
     "name": "stderr",
     "output_type": "stream",
     "text": [
      "\n",
      "100%|████████████████████████████████████████████████████████████████████████████████| 100/100 [52:35<00:00, 31.56s/it]\u001b[A\n",
      " 40%|██████████████████████████████▍                                             | 8/20 [7:01:52<10:31:42, 3158.57s/it]\n",
      "  0%|                                                                                          | 0/100 [00:00<?, ?it/s]\u001b[A"
     ]
    },
    {
     "name": "stdout",
     "output_type": "stream",
     "text": [
      "Test Statistic:  0.01732954940179454\n",
      "p-value:  0.02097902097902098\n",
      "dimension 9\n",
      "circle\n",
      "(200, 18)\n",
      "(200,)\n",
      "Fitted\n"
     ]
    },
    {
     "name": "stderr",
     "output_type": "stream",
     "text": [
      "\n",
      "  1%|▊                                                                                 | 1/100 [00:31<52:11, 31.63s/it]\u001b[A"
     ]
    },
    {
     "name": "stdout",
     "output_type": "stream",
     "text": [
      "Test Statistic:  0.011043375506782582\n",
      "p-value:  0.3166833166833167\n",
      "(200, 18)\n",
      "(200,)\n",
      "Fitted\n"
     ]
    },
    {
     "name": "stderr",
     "output_type": "stream",
     "text": [
      "\n",
      "  2%|█▋                                                                                | 2/100 [01:02<51:05, 31.28s/it]\u001b[A"
     ]
    },
    {
     "name": "stdout",
     "output_type": "stream",
     "text": [
      "Test Statistic:  0.005577931460546637\n",
      "p-value:  0.999000999000999\n",
      "(200, 18)\n",
      "(200,)\n",
      "Fitted\n"
     ]
    },
    {
     "name": "stderr",
     "output_type": "stream",
     "text": [
      "\n",
      "  3%|██▍                                                                               | 3/100 [01:35<51:41, 31.97s/it]\u001b[A"
     ]
    },
    {
     "name": "stdout",
     "output_type": "stream",
     "text": [
      "Test Statistic:  0.005554024492571696\n",
      "p-value:  1.0\n",
      "(200, 18)\n",
      "(200,)\n",
      "Fitted\n"
     ]
    },
    {
     "name": "stderr",
     "output_type": "stream",
     "text": [
      "\n",
      "  4%|███▎                                                                              | 4/100 [02:08<51:22, 32.11s/it]\u001b[A"
     ]
    },
    {
     "name": "stdout",
     "output_type": "stream",
     "text": [
      "Test Statistic:  0.003384314595497484\n",
      "p-value:  1.0\n",
      "(200, 18)\n",
      "(200,)\n",
      "Fitted\n"
     ]
    },
    {
     "name": "stderr",
     "output_type": "stream",
     "text": [
      "\n",
      "  5%|████                                                                              | 5/100 [02:39<50:22, 31.81s/it]\u001b[A"
     ]
    },
    {
     "name": "stdout",
     "output_type": "stream",
     "text": [
      "Test Statistic:  0.010617115307759994\n",
      "p-value:  0.44455544455544455\n",
      "(200, 18)\n",
      "(200,)\n",
      "Fitted\n"
     ]
    },
    {
     "name": "stderr",
     "output_type": "stream",
     "text": [
      "\n",
      "  6%|████▉                                                                             | 6/100 [03:10<49:26, 31.56s/it]\u001b[A"
     ]
    },
    {
     "name": "stdout",
     "output_type": "stream",
     "text": [
      "Test Statistic:  0.003777832064322695\n",
      "p-value:  1.0\n",
      "(200, 18)\n",
      "(200,)\n",
      "Fitted\n"
     ]
    },
    {
     "name": "stderr",
     "output_type": "stream",
     "text": [
      "\n",
      "  7%|█████▋                                                                            | 7/100 [03:39<48:04, 31.02s/it]\u001b[A"
     ]
    },
    {
     "name": "stdout",
     "output_type": "stream",
     "text": [
      "Test Statistic:  0.0204295991795318\n",
      "p-value:  0.007992007992007992\n",
      "(200, 18)\n",
      "(200,)\n",
      "Fitted\n"
     ]
    },
    {
     "name": "stderr",
     "output_type": "stream",
     "text": [
      "\n",
      "  8%|██████▌                                                                           | 8/100 [04:10<47:09, 30.76s/it]\u001b[A"
     ]
    },
    {
     "name": "stdout",
     "output_type": "stream",
     "text": [
      "Test Statistic:  0.0049962436039800995\n",
      "p-value:  1.0\n",
      "(200, 18)\n",
      "(200,)\n",
      "Fitted\n"
     ]
    },
    {
     "name": "stderr",
     "output_type": "stream",
     "text": [
      "\n",
      "  9%|███████▍                                                                          | 9/100 [04:41<46:51, 30.90s/it]\u001b[A"
     ]
    },
    {
     "name": "stdout",
     "output_type": "stream",
     "text": [
      "Test Statistic:  0.006534860941358134\n",
      "p-value:  0.997002997002997\n",
      "(200, 18)\n",
      "(200,)\n",
      "Fitted\n"
     ]
    },
    {
     "name": "stderr",
     "output_type": "stream",
     "text": [
      "\n",
      " 10%|████████                                                                         | 10/100 [05:12<46:39, 31.10s/it]\u001b[A"
     ]
    },
    {
     "name": "stdout",
     "output_type": "stream",
     "text": [
      "Test Statistic:  0.005159797607123928\n",
      "p-value:  1.0\n",
      "(200, 18)\n",
      "(200,)\n",
      "Fitted\n"
     ]
    },
    {
     "name": "stderr",
     "output_type": "stream",
     "text": [
      "\n",
      " 11%|████████▉                                                                        | 11/100 [05:44<46:28, 31.33s/it]\u001b[A"
     ]
    },
    {
     "name": "stdout",
     "output_type": "stream",
     "text": [
      "Test Statistic:  0.006523189483866987\n",
      "p-value:  0.989010989010989\n",
      "(200, 18)\n",
      "(200,)\n",
      "Fitted\n"
     ]
    },
    {
     "name": "stderr",
     "output_type": "stream",
     "text": [
      "\n",
      " 12%|█████████▋                                                                       | 12/100 [06:17<46:22, 31.61s/it]\u001b[A"
     ]
    },
    {
     "name": "stdout",
     "output_type": "stream",
     "text": [
      "Test Statistic:  0.023449855045633683\n",
      "p-value:  0.001998001998001998\n",
      "(200, 18)\n",
      "(200,)\n",
      "Fitted\n"
     ]
    },
    {
     "name": "stderr",
     "output_type": "stream",
     "text": [
      "\n",
      " 13%|██████████▌                                                                      | 13/100 [06:48<45:58, 31.71s/it]\u001b[A"
     ]
    },
    {
     "name": "stdout",
     "output_type": "stream",
     "text": [
      "Test Statistic:  0.003431682832100602\n",
      "p-value:  1.0\n",
      "(200, 18)\n",
      "(200,)\n",
      "Fitted\n"
     ]
    },
    {
     "name": "stderr",
     "output_type": "stream",
     "text": [
      "\n",
      " 14%|███████████▎                                                                     | 14/100 [07:19<45:02, 31.42s/it]\u001b[A"
     ]
    },
    {
     "name": "stdout",
     "output_type": "stream",
     "text": [
      "Test Statistic:  0.003804238248091507\n",
      "p-value:  1.0\n",
      "(200, 18)\n",
      "(200,)\n",
      "Fitted\n"
     ]
    },
    {
     "name": "stderr",
     "output_type": "stream",
     "text": [
      "\n",
      " 15%|████████████▏                                                                    | 15/100 [07:50<44:10, 31.19s/it]\u001b[A"
     ]
    },
    {
     "name": "stdout",
     "output_type": "stream",
     "text": [
      "Test Statistic:  0.019338929406346628\n",
      "p-value:  0.007992007992007992\n",
      "(200, 18)\n",
      "(200,)\n",
      "Fitted\n"
     ]
    },
    {
     "name": "stderr",
     "output_type": "stream",
     "text": [
      "\n",
      " 16%|████████████▉                                                                    | 16/100 [08:20<43:20, 30.96s/it]\u001b[A"
     ]
    },
    {
     "name": "stdout",
     "output_type": "stream",
     "text": [
      "Test Statistic:  0.002955534921425307\n",
      "p-value:  1.0\n",
      "(200, 18)\n",
      "(200,)\n",
      "Fitted\n"
     ]
    },
    {
     "name": "stderr",
     "output_type": "stream",
     "text": [
      "\n",
      " 17%|█████████████▊                                                                   | 17/100 [08:50<42:29, 30.72s/it]\u001b[A"
     ]
    },
    {
     "name": "stdout",
     "output_type": "stream",
     "text": [
      "Test Statistic:  0.007101377989334967\n",
      "p-value:  0.973026973026973\n",
      "(200, 18)\n",
      "(200,)\n",
      "Fitted\n"
     ]
    },
    {
     "name": "stderr",
     "output_type": "stream",
     "text": [
      "\n",
      " 18%|██████████████▌                                                                  | 18/100 [09:21<41:54, 30.66s/it]\u001b[A"
     ]
    },
    {
     "name": "stdout",
     "output_type": "stream",
     "text": [
      "Test Statistic:  0.005163507561155245\n",
      "p-value:  1.0\n",
      "(200, 18)\n",
      "(200,)\n",
      "Fitted\n"
     ]
    },
    {
     "name": "stderr",
     "output_type": "stream",
     "text": [
      "\n",
      " 19%|███████████████▍                                                                 | 19/100 [09:52<41:22, 30.65s/it]\u001b[A"
     ]
    },
    {
     "name": "stdout",
     "output_type": "stream",
     "text": [
      "Test Statistic:  0.002889173863161787\n",
      "p-value:  1.0\n",
      "(200, 18)\n",
      "(200,)\n",
      "Fitted\n"
     ]
    },
    {
     "name": "stderr",
     "output_type": "stream",
     "text": [
      "\n",
      " 20%|████████████████▏                                                                | 20/100 [10:23<41:04, 30.80s/it]\u001b[A"
     ]
    },
    {
     "name": "stdout",
     "output_type": "stream",
     "text": [
      "Test Statistic:  0.004842248698730289\n",
      "p-value:  1.0\n",
      "(200, 18)\n",
      "(200,)\n",
      "Fitted\n"
     ]
    },
    {
     "name": "stderr",
     "output_type": "stream",
     "text": [
      "\n",
      " 21%|█████████████████                                                                | 21/100 [10:55<41:12, 31.30s/it]\u001b[A"
     ]
    },
    {
     "name": "stdout",
     "output_type": "stream",
     "text": [
      "Test Statistic:  0.017348508540926955\n",
      "p-value:  0.011988011988011988\n",
      "(200, 18)\n",
      "(200,)\n",
      "Fitted\n"
     ]
    },
    {
     "name": "stderr",
     "output_type": "stream",
     "text": [
      "\n",
      " 22%|█████████████████▊                                                               | 22/100 [11:28<41:09, 31.66s/it]\u001b[A"
     ]
    },
    {
     "name": "stdout",
     "output_type": "stream",
     "text": [
      "Test Statistic:  0.029615057635955955\n",
      "p-value:  0.000999000999000999\n",
      "(200, 18)\n",
      "(200,)\n",
      "Fitted\n"
     ]
    },
    {
     "name": "stderr",
     "output_type": "stream",
     "text": [
      "\n",
      " 23%|██████████████████▋                                                              | 23/100 [12:02<41:45, 32.54s/it]\u001b[A"
     ]
    },
    {
     "name": "stdout",
     "output_type": "stream",
     "text": [
      "Test Statistic:  0.006778099277670924\n",
      "p-value:  0.98001998001998\n",
      "(200, 18)\n",
      "(200,)\n",
      "Fitted\n"
     ]
    },
    {
     "name": "stderr",
     "output_type": "stream",
     "text": [
      "\n",
      " 24%|███████████████████▍                                                             | 24/100 [12:33<40:39, 32.10s/it]\u001b[A"
     ]
    },
    {
     "name": "stdout",
     "output_type": "stream",
     "text": [
      "Test Statistic:  0.007170837666919616\n",
      "p-value:  0.9410589410589411\n",
      "(200, 18)\n",
      "(200,)\n",
      "Fitted\n"
     ]
    },
    {
     "name": "stderr",
     "output_type": "stream",
     "text": [
      "\n",
      " 25%|████████████████████▎                                                            | 25/100 [13:04<39:30, 31.61s/it]\u001b[A"
     ]
    },
    {
     "name": "stdout",
     "output_type": "stream",
     "text": [
      "Test Statistic:  0.003070550092446611\n",
      "p-value:  1.0\n",
      "(200, 18)\n",
      "(200,)\n",
      "Fitted\n"
     ]
    },
    {
     "name": "stderr",
     "output_type": "stream",
     "text": [
      "\n",
      " 26%|█████████████████████                                                            | 26/100 [13:35<38:41, 31.37s/it]\u001b[A"
     ]
    },
    {
     "name": "stdout",
     "output_type": "stream",
     "text": [
      "Test Statistic:  0.006328319281795669\n",
      "p-value:  0.996003996003996\n",
      "(200, 18)\n",
      "(200,)\n",
      "Fitted\n"
     ]
    },
    {
     "name": "stderr",
     "output_type": "stream",
     "text": [
      "\n",
      " 27%|█████████████████████▊                                                           | 27/100 [14:07<38:38, 31.77s/it]\u001b[A"
     ]
    },
    {
     "name": "stdout",
     "output_type": "stream",
     "text": [
      "Test Statistic:  0.008491939082555522\n",
      "p-value:  0.7632367632367633\n",
      "(200, 18)\n",
      "(200,)\n",
      "Fitted\n"
     ]
    },
    {
     "name": "stderr",
     "output_type": "stream",
     "text": [
      "\n",
      " 28%|██████████████████████▋                                                          | 28/100 [14:38<37:51, 31.55s/it]\u001b[A"
     ]
    },
    {
     "name": "stdout",
     "output_type": "stream",
     "text": [
      "Test Statistic:  0.016015453786547895\n",
      "p-value:  0.016983016983016984\n",
      "(200, 18)\n",
      "(200,)\n",
      "Fitted\n"
     ]
    },
    {
     "name": "stderr",
     "output_type": "stream",
     "text": [
      "\n",
      " 29%|███████████████████████▍                                                         | 29/100 [15:09<36:57, 31.23s/it]\u001b[A"
     ]
    },
    {
     "name": "stdout",
     "output_type": "stream",
     "text": [
      "Test Statistic:  0.007509057297542032\n",
      "p-value:  0.981018981018981\n",
      "(200, 18)\n",
      "(200,)\n",
      "Fitted\n"
     ]
    },
    {
     "name": "stderr",
     "output_type": "stream",
     "text": [
      "\n",
      " 30%|████████████████████████▎                                                        | 30/100 [15:40<36:19, 31.14s/it]\u001b[A"
     ]
    },
    {
     "name": "stdout",
     "output_type": "stream",
     "text": [
      "Test Statistic:  0.005336846785602978\n",
      "p-value:  1.0\n",
      "(200, 18)\n",
      "(200,)\n",
      "Fitted\n"
     ]
    },
    {
     "name": "stderr",
     "output_type": "stream",
     "text": [
      "\n",
      " 31%|█████████████████████████                                                        | 31/100 [16:10<35:39, 31.00s/it]\u001b[A"
     ]
    },
    {
     "name": "stdout",
     "output_type": "stream",
     "text": [
      "Test Statistic:  0.005009627068019773\n",
      "p-value:  1.0\n",
      "(200, 18)\n",
      "(200,)\n",
      "Fitted\n"
     ]
    },
    {
     "name": "stderr",
     "output_type": "stream",
     "text": [
      "\n",
      " 32%|█████████████████████████▉                                                       | 32/100 [16:41<35:03, 30.93s/it]\u001b[A"
     ]
    },
    {
     "name": "stdout",
     "output_type": "stream",
     "text": [
      "Test Statistic:  0.007620387668408002\n",
      "p-value:  0.961038961038961\n",
      "(200, 18)\n",
      "(200,)\n",
      "Fitted\n"
     ]
    },
    {
     "name": "stderr",
     "output_type": "stream",
     "text": [
      "\n",
      " 33%|██████████████████████████▋                                                      | 33/100 [17:13<34:39, 31.04s/it]\u001b[A"
     ]
    },
    {
     "name": "stdout",
     "output_type": "stream",
     "text": [
      "Test Statistic:  0.003729413044771368\n",
      "p-value:  1.0\n",
      "(200, 18)\n",
      "(200,)\n",
      "Fitted\n"
     ]
    },
    {
     "name": "stderr",
     "output_type": "stream",
     "text": [
      "\n",
      " 34%|███████████████████████████▌                                                     | 34/100 [17:43<33:54, 30.83s/it]\u001b[A"
     ]
    },
    {
     "name": "stdout",
     "output_type": "stream",
     "text": [
      "Test Statistic:  0.003297856033700919\n",
      "p-value:  1.0\n",
      "(200, 18)\n",
      "(200,)\n",
      "Fitted\n"
     ]
    },
    {
     "name": "stderr",
     "output_type": "stream",
     "text": [
      "\n",
      " 35%|████████████████████████████▎                                                    | 35/100 [18:14<33:32, 30.96s/it]\u001b[A"
     ]
    },
    {
     "name": "stdout",
     "output_type": "stream",
     "text": [
      "Test Statistic:  0.009080716429171076\n",
      "p-value:  0.6973026973026973\n",
      "(200, 18)\n",
      "(200,)\n",
      "Fitted\n"
     ]
    },
    {
     "name": "stderr",
     "output_type": "stream",
     "text": [
      "\n",
      " 36%|█████████████████████████████▏                                                   | 36/100 [18:46<33:18, 31.23s/it]\u001b[A"
     ]
    },
    {
     "name": "stdout",
     "output_type": "stream",
     "text": [
      "Test Statistic:  0.009649616795258331\n",
      "p-value:  0.6193806193806194\n",
      "(200, 18)\n",
      "(200,)\n",
      "Fitted\n"
     ]
    },
    {
     "name": "stderr",
     "output_type": "stream",
     "text": [
      "\n",
      " 37%|█████████████████████████████▉                                                   | 37/100 [19:16<32:24, 30.86s/it]\u001b[A"
     ]
    },
    {
     "name": "stdout",
     "output_type": "stream",
     "text": [
      "Test Statistic:  0.03159914455914625\n",
      "p-value:  0.000999000999000999\n",
      "(200, 18)\n",
      "(200,)\n",
      "Fitted\n"
     ]
    },
    {
     "name": "stderr",
     "output_type": "stream",
     "text": [
      "\n",
      " 38%|██████████████████████████████▊                                                  | 38/100 [19:47<31:53, 30.86s/it]\u001b[A"
     ]
    },
    {
     "name": "stdout",
     "output_type": "stream",
     "text": [
      "Test Statistic:  0.005298724330823235\n",
      "p-value:  1.0\n",
      "(200, 18)\n",
      "(200,)\n",
      "Fitted\n"
     ]
    },
    {
     "name": "stderr",
     "output_type": "stream",
     "text": [
      "\n",
      " 39%|███████████████████████████████▌                                                 | 39/100 [20:18<31:25, 30.91s/it]\u001b[A"
     ]
    },
    {
     "name": "stdout",
     "output_type": "stream",
     "text": [
      "Test Statistic:  0.004739421341367178\n",
      "p-value:  1.0\n",
      "(200, 18)\n",
      "(200,)\n",
      "Fitted\n"
     ]
    },
    {
     "name": "stderr",
     "output_type": "stream",
     "text": [
      "\n",
      " 40%|████████████████████████████████▍                                                | 40/100 [20:49<31:05, 31.09s/it]\u001b[A"
     ]
    },
    {
     "name": "stdout",
     "output_type": "stream",
     "text": [
      "Test Statistic:  0.017432033180229345\n",
      "p-value:  0.026973026973026972\n",
      "(200, 18)\n",
      "(200,)\n",
      "Fitted\n"
     ]
    },
    {
     "name": "stderr",
     "output_type": "stream",
     "text": [
      "\n",
      " 41%|█████████████████████████████████▏                                               | 41/100 [21:22<30:52, 31.40s/it]\u001b[A"
     ]
    },
    {
     "name": "stdout",
     "output_type": "stream",
     "text": [
      "Test Statistic:  0.008703121911760814\n",
      "p-value:  0.8151848151848152\n",
      "(200, 18)\n",
      "(200,)\n",
      "Fitted\n"
     ]
    },
    {
     "name": "stderr",
     "output_type": "stream",
     "text": [
      "\n",
      " 42%|██████████████████████████████████                                               | 42/100 [22:01<32:39, 33.79s/it]\u001b[A"
     ]
    },
    {
     "name": "stdout",
     "output_type": "stream",
     "text": [
      "Test Statistic:  0.008587114658183514\n",
      "p-value:  0.7902097902097902\n",
      "(200, 18)\n",
      "(200,)\n",
      "Fitted\n"
     ]
    },
    {
     "name": "stderr",
     "output_type": "stream",
     "text": [
      "\n",
      " 43%|██████████████████████████████████▊                                              | 43/100 [22:34<31:47, 33.46s/it]\u001b[A"
     ]
    },
    {
     "name": "stdout",
     "output_type": "stream",
     "text": [
      "Test Statistic:  0.010739329554125265\n",
      "p-value:  0.4015984015984016\n",
      "(200, 18)\n",
      "(200,)\n",
      "Fitted\n"
     ]
    },
    {
     "name": "stderr",
     "output_type": "stream",
     "text": [
      "\n",
      " 44%|███████████████████████████████████▋                                             | 44/100 [23:04<30:29, 32.67s/it]\u001b[A"
     ]
    },
    {
     "name": "stdout",
     "output_type": "stream",
     "text": [
      "Test Statistic:  0.0036317704944887064\n",
      "p-value:  1.0\n",
      "(200, 18)\n",
      "(200,)\n",
      "Fitted\n"
     ]
    },
    {
     "name": "stderr",
     "output_type": "stream",
     "text": [
      "\n",
      " 45%|████████████████████████████████████▍                                            | 45/100 [23:36<29:46, 32.47s/it]\u001b[A"
     ]
    },
    {
     "name": "stdout",
     "output_type": "stream",
     "text": [
      "Test Statistic:  0.009140479469405105\n",
      "p-value:  0.6923076923076923\n",
      "(200, 18)\n",
      "(200,)\n",
      "Fitted\n"
     ]
    },
    {
     "name": "stderr",
     "output_type": "stream",
     "text": [
      "\n",
      " 46%|█████████████████████████████████████▎                                           | 46/100 [24:08<29:00, 32.23s/it]\u001b[A"
     ]
    },
    {
     "name": "stdout",
     "output_type": "stream",
     "text": [
      "Test Statistic:  0.006898382709404904\n",
      "p-value:  0.968031968031968\n",
      "(200, 18)\n",
      "(200,)\n",
      "Fitted\n"
     ]
    },
    {
     "name": "stderr",
     "output_type": "stream",
     "text": [
      "\n",
      " 47%|██████████████████████████████████████                                           | 47/100 [24:40<28:23, 32.15s/it]\u001b[A"
     ]
    },
    {
     "name": "stdout",
     "output_type": "stream",
     "text": [
      "Test Statistic:  0.005861730586004921\n",
      "p-value:  0.999000999000999\n",
      "(200, 18)\n",
      "(200,)\n",
      "Fitted\n"
     ]
    },
    {
     "name": "stderr",
     "output_type": "stream",
     "text": [
      "\n",
      " 48%|██████████████████████████████████████▉                                          | 48/100 [25:12<27:42, 31.97s/it]\u001b[A"
     ]
    },
    {
     "name": "stdout",
     "output_type": "stream",
     "text": [
      "Test Statistic:  0.02162049292051227\n",
      "p-value:  0.007992007992007992\n",
      "(200, 18)\n",
      "(200,)\n",
      "Fitted\n"
     ]
    },
    {
     "name": "stderr",
     "output_type": "stream",
     "text": [
      "\n",
      " 49%|███████████████████████████████████████▋                                         | 49/100 [25:43<26:57, 31.72s/it]\u001b[A"
     ]
    },
    {
     "name": "stdout",
     "output_type": "stream",
     "text": [
      "Test Statistic:  0.008844029327262581\n",
      "p-value:  0.7912087912087912\n",
      "(200, 18)\n",
      "(200,)\n",
      "Fitted\n"
     ]
    },
    {
     "name": "stderr",
     "output_type": "stream",
     "text": [
      "\n",
      " 50%|████████████████████████████████████████▌                                        | 50/100 [26:13<26:06, 31.34s/it]\u001b[A"
     ]
    },
    {
     "name": "stdout",
     "output_type": "stream",
     "text": [
      "Test Statistic:  0.003302773612304577\n",
      "p-value:  1.0\n",
      "(200, 18)\n",
      "(200,)\n",
      "Fitted\n"
     ]
    },
    {
     "name": "stderr",
     "output_type": "stream",
     "text": [
      "\n",
      " 51%|█████████████████████████████████████████▎                                       | 51/100 [26:45<25:36, 31.35s/it]\u001b[A"
     ]
    },
    {
     "name": "stdout",
     "output_type": "stream",
     "text": [
      "Test Statistic:  0.009768780191856341\n",
      "p-value:  0.4755244755244755\n",
      "(200, 18)\n",
      "(200,)\n",
      "Fitted\n"
     ]
    },
    {
     "name": "stderr",
     "output_type": "stream",
     "text": [
      "\n",
      " 52%|██████████████████████████████████████████                                       | 52/100 [27:15<24:55, 31.15s/it]\u001b[A"
     ]
    },
    {
     "name": "stdout",
     "output_type": "stream",
     "text": [
      "Test Statistic:  0.007125327135671378\n",
      "p-value:  0.9760239760239761\n",
      "(200, 18)\n",
      "(200,)\n",
      "Fitted\n"
     ]
    },
    {
     "name": "stderr",
     "output_type": "stream",
     "text": [
      "\n",
      " 53%|██████████████████████████████████████████▉                                      | 53/100 [27:47<24:28, 31.24s/it]\u001b[A"
     ]
    },
    {
     "name": "stdout",
     "output_type": "stream",
     "text": [
      "Test Statistic:  0.016855239402540856\n",
      "p-value:  0.027972027972027972\n",
      "(200, 18)\n",
      "(200,)\n",
      "Fitted\n"
     ]
    },
    {
     "name": "stderr",
     "output_type": "stream",
     "text": [
      "\n",
      " 54%|███████████████████████████████████████████▋                                     | 54/100 [28:19<24:10, 31.53s/it]\u001b[A"
     ]
    },
    {
     "name": "stdout",
     "output_type": "stream",
     "text": [
      "Test Statistic:  0.006374606329414889\n",
      "p-value:  0.989010989010989\n",
      "(200, 18)\n",
      "(200,)\n",
      "Fitted\n"
     ]
    },
    {
     "name": "stderr",
     "output_type": "stream",
     "text": [
      "\n",
      " 55%|████████████████████████████████████████████▌                                    | 55/100 [28:51<23:42, 31.61s/it]\u001b[A"
     ]
    },
    {
     "name": "stdout",
     "output_type": "stream",
     "text": [
      "Test Statistic:  0.01947563151194165\n",
      "p-value:  0.011988011988011988\n",
      "(200, 18)\n",
      "(200,)\n",
      "Fitted\n"
     ]
    },
    {
     "name": "stderr",
     "output_type": "stream",
     "text": [
      "\n",
      " 56%|█████████████████████████████████████████████▎                                   | 56/100 [29:22<23:10, 31.61s/it]\u001b[A"
     ]
    },
    {
     "name": "stdout",
     "output_type": "stream",
     "text": [
      "Test Statistic:  0.018049312165100417\n",
      "p-value:  0.03196803196803197\n",
      "(200, 18)\n",
      "(200,)\n",
      "Fitted\n"
     ]
    },
    {
     "name": "stderr",
     "output_type": "stream",
     "text": [
      "\n",
      " 57%|██████████████████████████████████████████████▏                                  | 57/100 [29:53<22:28, 31.37s/it]\u001b[A"
     ]
    },
    {
     "name": "stdout",
     "output_type": "stream",
     "text": [
      "Test Statistic:  0.004201276939161724\n",
      "p-value:  1.0\n",
      "(200, 18)\n",
      "(200,)\n",
      "Fitted\n"
     ]
    },
    {
     "name": "stderr",
     "output_type": "stream",
     "text": [
      "\n",
      " 58%|██████████████████████████████████████████████▉                                  | 58/100 [30:24<21:54, 31.30s/it]\u001b[A"
     ]
    },
    {
     "name": "stdout",
     "output_type": "stream",
     "text": [
      "Test Statistic:  0.02172848804969263\n",
      "p-value:  0.005994005994005994\n",
      "(200, 18)\n",
      "(200,)\n",
      "Fitted\n"
     ]
    },
    {
     "name": "stderr",
     "output_type": "stream",
     "text": [
      "\n",
      " 59%|███████████████████████████████████████████████▊                                 | 59/100 [30:56<21:27, 31.39s/it]\u001b[A"
     ]
    },
    {
     "name": "stdout",
     "output_type": "stream",
     "text": [
      "Test Statistic:  0.018004433145672016\n",
      "p-value:  0.024975024975024976\n",
      "(200, 18)\n",
      "(200,)\n",
      "Fitted\n"
     ]
    },
    {
     "name": "stderr",
     "output_type": "stream",
     "text": [
      "\n",
      " 60%|████████████████████████████████████████████████▌                                | 60/100 [31:29<21:12, 31.81s/it]\u001b[A"
     ]
    },
    {
     "name": "stdout",
     "output_type": "stream",
     "text": [
      "Test Statistic:  0.00710552314063706\n",
      "p-value:  0.962037962037962\n",
      "(200, 18)\n",
      "(200,)\n",
      "Fitted\n"
     ]
    },
    {
     "name": "stderr",
     "output_type": "stream",
     "text": [
      "\n",
      " 61%|█████████████████████████████████████████████████▍                               | 61/100 [32:03<21:12, 32.63s/it]\u001b[A"
     ]
    },
    {
     "name": "stdout",
     "output_type": "stream",
     "text": [
      "Test Statistic:  0.004826913665887722\n",
      "p-value:  1.0\n",
      "(200, 18)\n",
      "(200,)\n",
      "Fitted\n"
     ]
    },
    {
     "name": "stderr",
     "output_type": "stream",
     "text": [
      "\n",
      " 62%|██████████████████████████████████████████████████▏                              | 62/100 [32:33<20:12, 31.90s/it]\u001b[A"
     ]
    },
    {
     "name": "stdout",
     "output_type": "stream",
     "text": [
      "Test Statistic:  0.018130369463704943\n",
      "p-value:  0.022977022977022976\n",
      "(200, 18)\n",
      "(200,)\n",
      "Fitted\n"
     ]
    },
    {
     "name": "stderr",
     "output_type": "stream",
     "text": [
      "\n",
      " 63%|███████████████████████████████████████████████████                              | 63/100 [33:04<19:27, 31.55s/it]\u001b[A"
     ]
    },
    {
     "name": "stdout",
     "output_type": "stream",
     "text": [
      "Test Statistic:  0.01711848789111725\n",
      "p-value:  0.030969030969030968\n",
      "(200, 18)\n",
      "(200,)\n",
      "Fitted\n"
     ]
    },
    {
     "name": "stderr",
     "output_type": "stream",
     "text": [
      "\n",
      " 64%|███████████████████████████████████████████████████▊                             | 64/100 [33:36<19:02, 31.73s/it]\u001b[A"
     ]
    },
    {
     "name": "stdout",
     "output_type": "stream",
     "text": [
      "Test Statistic:  0.004029981012918626\n",
      "p-value:  1.0\n",
      "(200, 18)\n",
      "(200,)\n",
      "Fitted\n"
     ]
    },
    {
     "name": "stderr",
     "output_type": "stream",
     "text": [
      "\n",
      " 65%|████████████████████████████████████████████████████▋                            | 65/100 [34:07<18:25, 31.58s/it]\u001b[A"
     ]
    },
    {
     "name": "stdout",
     "output_type": "stream",
     "text": [
      "Test Statistic:  0.0036800883014697083\n",
      "p-value:  1.0\n",
      "(200, 18)\n",
      "(200,)\n",
      "Fitted\n"
     ]
    },
    {
     "name": "stderr",
     "output_type": "stream",
     "text": [
      "\n",
      " 66%|█████████████████████████████████████████████████████▍                           | 66/100 [34:39<17:50, 31.48s/it]\u001b[A"
     ]
    },
    {
     "name": "stdout",
     "output_type": "stream",
     "text": [
      "Test Statistic:  0.012336241347698618\n",
      "p-value:  0.13886113886113885\n",
      "(200, 18)\n",
      "(200,)\n",
      "Fitted\n"
     ]
    },
    {
     "name": "stderr",
     "output_type": "stream",
     "text": [
      "\n",
      " 67%|██████████████████████████████████████████████████████▎                          | 67/100 [35:11<17:22, 31.58s/it]\u001b[A"
     ]
    },
    {
     "name": "stdout",
     "output_type": "stream",
     "text": [
      "Test Statistic:  0.005521382919832063\n",
      "p-value:  1.0\n",
      "(200, 18)\n",
      "(200,)\n",
      "Fitted\n"
     ]
    },
    {
     "name": "stderr",
     "output_type": "stream",
     "text": [
      "\n",
      " 68%|███████████████████████████████████████████████████████                          | 68/100 [35:40<16:33, 31.05s/it]\u001b[A"
     ]
    },
    {
     "name": "stdout",
     "output_type": "stream",
     "text": [
      "Test Statistic:  0.014649560180441612\n",
      "p-value:  0.11588411588411589\n",
      "(200, 18)\n",
      "(200,)\n",
      "Fitted\n"
     ]
    },
    {
     "name": "stderr",
     "output_type": "stream",
     "text": [
      "\n",
      " 69%|███████████████████████████████████████████████████████▉                         | 69/100 [36:11<16:02, 31.06s/it]\u001b[A"
     ]
    },
    {
     "name": "stdout",
     "output_type": "stream",
     "text": [
      "Test Statistic:  0.0030693270658969096\n",
      "p-value:  1.0\n",
      "(200, 18)\n",
      "(200,)\n",
      "Fitted\n"
     ]
    },
    {
     "name": "stderr",
     "output_type": "stream",
     "text": [
      "\n",
      " 70%|████████████████████████████████████████████████████████▋                        | 70/100 [36:43<15:39, 31.31s/it]\u001b[A"
     ]
    },
    {
     "name": "stdout",
     "output_type": "stream",
     "text": [
      "Test Statistic:  0.011945392628525009\n",
      "p-value:  0.15184815184815184\n",
      "(200, 18)\n",
      "(200,)\n",
      "Fitted\n"
     ]
    },
    {
     "name": "stderr",
     "output_type": "stream",
     "text": [
      "\n",
      " 71%|█████████████████████████████████████████████████████████▌                       | 71/100 [37:14<15:03, 31.16s/it]\u001b[A"
     ]
    },
    {
     "name": "stdout",
     "output_type": "stream",
     "text": [
      "Test Statistic:  0.003874408281454911\n",
      "p-value:  1.0\n",
      "(200, 18)\n",
      "(200,)\n",
      "Fitted\n"
     ]
    },
    {
     "name": "stderr",
     "output_type": "stream",
     "text": [
      "\n",
      " 72%|██████████████████████████████████████████████████████████▎                      | 72/100 [37:45<14:30, 31.09s/it]\u001b[A"
     ]
    },
    {
     "name": "stdout",
     "output_type": "stream",
     "text": [
      "Test Statistic:  0.010263671208621705\n",
      "p-value:  0.46353646353646355\n",
      "(200, 18)\n",
      "(200,)\n",
      "Fitted\n"
     ]
    },
    {
     "name": "stderr",
     "output_type": "stream",
     "text": [
      "\n",
      " 73%|███████████████████████████████████████████████████████████▏                     | 73/100 [38:17<14:07, 31.38s/it]\u001b[A"
     ]
    },
    {
     "name": "stdout",
     "output_type": "stream",
     "text": [
      "Test Statistic:  0.005859019231193141\n",
      "p-value:  0.998001998001998\n",
      "(200, 18)\n",
      "(200,)\n",
      "Fitted\n"
     ]
    },
    {
     "name": "stderr",
     "output_type": "stream",
     "text": [
      "\n",
      " 74%|███████████████████████████████████████████████████████████▉                     | 74/100 [38:48<13:34, 31.32s/it]\u001b[A"
     ]
    },
    {
     "name": "stdout",
     "output_type": "stream",
     "text": [
      "Test Statistic:  0.019968671669115645\n",
      "p-value:  0.008991008991008992\n",
      "(200, 18)\n",
      "(200,)\n",
      "Fitted\n"
     ]
    },
    {
     "name": "stderr",
     "output_type": "stream",
     "text": [
      "\n",
      " 75%|████████████████████████████████████████████████████████████▊                    | 75/100 [39:20<13:02, 31.28s/it]\u001b[A"
     ]
    },
    {
     "name": "stdout",
     "output_type": "stream",
     "text": [
      "Test Statistic:  0.005977233893631362\n",
      "p-value:  1.0\n",
      "(200, 18)\n",
      "(200,)\n",
      "Fitted\n"
     ]
    },
    {
     "name": "stderr",
     "output_type": "stream",
     "text": [
      "\n",
      " 76%|█████████████████████████████████████████████████████████████▌                   | 76/100 [39:51<12:31, 31.30s/it]\u001b[A"
     ]
    },
    {
     "name": "stdout",
     "output_type": "stream",
     "text": [
      "Test Statistic:  0.011154202570202831\n",
      "p-value:  0.25574425574425574\n",
      "(200, 18)\n",
      "(200,)\n",
      "Fitted\n"
     ]
    },
    {
     "name": "stderr",
     "output_type": "stream",
     "text": [
      "\n",
      " 77%|██████████████████████████████████████████████████████████████▎                  | 77/100 [40:22<11:58, 31.24s/it]\u001b[A"
     ]
    },
    {
     "name": "stdout",
     "output_type": "stream",
     "text": [
      "Test Statistic:  0.003461335057024506\n",
      "p-value:  1.0\n",
      "(200, 18)\n",
      "(200,)\n",
      "Fitted\n"
     ]
    },
    {
     "name": "stderr",
     "output_type": "stream",
     "text": [
      "\n",
      " 78%|███████████████████████████████████████████████████████████████▏                 | 78/100 [40:53<11:25, 31.16s/it]\u001b[A"
     ]
    },
    {
     "name": "stdout",
     "output_type": "stream",
     "text": [
      "Test Statistic:  0.015591294936796007\n",
      "p-value:  0.04795204795204795\n",
      "(200, 18)\n",
      "(200,)\n",
      "Fitted\n"
     ]
    },
    {
     "name": "stderr",
     "output_type": "stream",
     "text": [
      "\n",
      " 79%|███████████████████████████████████████████████████████████████▉                 | 79/100 [41:25<10:57, 31.29s/it]\u001b[A"
     ]
    },
    {
     "name": "stdout",
     "output_type": "stream",
     "text": [
      "Test Statistic:  0.004141709310714892\n",
      "p-value:  1.0\n",
      "(200, 18)\n",
      "(200,)\n",
      "Fitted\n"
     ]
    },
    {
     "name": "stderr",
     "output_type": "stream",
     "text": [
      "\n",
      " 80%|████████████████████████████████████████████████████████████████▊                | 80/100 [41:59<10:45, 32.28s/it]\u001b[A"
     ]
    },
    {
     "name": "stdout",
     "output_type": "stream",
     "text": [
      "Test Statistic:  0.01650522751438166\n",
      "p-value:  0.03496503496503497\n",
      "(200, 18)\n",
      "(200,)\n",
      "Fitted\n"
     ]
    },
    {
     "name": "stderr",
     "output_type": "stream",
     "text": [
      "\n",
      " 81%|█████████████████████████████████████████████████████████████████▌               | 81/100 [42:31<10:09, 32.07s/it]\u001b[A"
     ]
    },
    {
     "name": "stdout",
     "output_type": "stream",
     "text": [
      "Test Statistic:  0.010586023209830375\n",
      "p-value:  0.46053946053946054\n",
      "(200, 18)\n",
      "(200,)\n",
      "Fitted\n"
     ]
    },
    {
     "name": "stderr",
     "output_type": "stream",
     "text": [
      "\n",
      " 82%|██████████████████████████████████████████████████████████████████▍              | 82/100 [43:02<09:31, 31.74s/it]\u001b[A"
     ]
    },
    {
     "name": "stdout",
     "output_type": "stream",
     "text": [
      "Test Statistic:  0.0037562018167187627\n",
      "p-value:  1.0\n",
      "(200, 18)\n",
      "(200,)\n",
      "Fitted\n"
     ]
    },
    {
     "name": "stderr",
     "output_type": "stream",
     "text": [
      "\n",
      " 83%|███████████████████████████████████████████████████████████████████▏             | 83/100 [43:33<08:57, 31.60s/it]\u001b[A"
     ]
    },
    {
     "name": "stdout",
     "output_type": "stream",
     "text": [
      "Test Statistic:  0.006095781814514756\n",
      "p-value:  1.0\n",
      "(200, 18)\n",
      "(200,)\n",
      "Fitted\n"
     ]
    },
    {
     "name": "stderr",
     "output_type": "stream",
     "text": [
      "\n",
      " 84%|████████████████████████████████████████████████████████████████████             | 84/100 [44:03<08:19, 31.25s/it]\u001b[A"
     ]
    },
    {
     "name": "stdout",
     "output_type": "stream",
     "text": [
      "Test Statistic:  0.016696851819981484\n",
      "p-value:  0.04295704295704296\n",
      "(200, 18)\n",
      "(200,)\n",
      "Fitted\n"
     ]
    },
    {
     "name": "stderr",
     "output_type": "stream",
     "text": [
      "\n",
      " 85%|████████████████████████████████████████████████████████████████████▊            | 85/100 [44:34<07:46, 31.11s/it]\u001b[A"
     ]
    },
    {
     "name": "stdout",
     "output_type": "stream",
     "text": [
      "Test Statistic:  0.0029983764204295493\n",
      "p-value:  1.0\n",
      "(200, 18)\n",
      "(200,)\n",
      "Fitted\n"
     ]
    },
    {
     "name": "stderr",
     "output_type": "stream",
     "text": [
      "\n",
      " 86%|█████████████████████████████████████████████████████████████████████▋           | 86/100 [45:05<07:14, 31.02s/it]\u001b[A"
     ]
    },
    {
     "name": "stdout",
     "output_type": "stream",
     "text": [
      "Test Statistic:  0.00459698323663793\n",
      "p-value:  1.0\n",
      "(200, 18)\n",
      "(200,)\n",
      "Fitted\n"
     ]
    },
    {
     "name": "stderr",
     "output_type": "stream",
     "text": [
      "\n",
      " 87%|██████████████████████████████████████████████████████████████████████▍          | 87/100 [45:35<06:41, 30.88s/it]\u001b[A"
     ]
    },
    {
     "name": "stdout",
     "output_type": "stream",
     "text": [
      "Test Statistic:  0.02025275845431762\n",
      "p-value:  0.00999000999000999\n",
      "(200, 18)\n",
      "(200,)\n",
      "Fitted\n"
     ]
    },
    {
     "name": "stderr",
     "output_type": "stream",
     "text": [
      "\n",
      " 88%|███████████████████████████████████████████████████████████████████████▎         | 88/100 [46:06<06:08, 30.70s/it]\u001b[A"
     ]
    },
    {
     "name": "stdout",
     "output_type": "stream",
     "text": [
      "Test Statistic:  0.010121097106508992\n",
      "p-value:  0.47652347652347654\n",
      "(200, 18)\n",
      "(200,)\n",
      "Fitted\n"
     ]
    },
    {
     "name": "stderr",
     "output_type": "stream",
     "text": [
      "\n",
      " 89%|████████████████████████████████████████████████████████████████████████         | 89/100 [46:37<05:38, 30.73s/it]\u001b[A"
     ]
    },
    {
     "name": "stdout",
     "output_type": "stream",
     "text": [
      "Test Statistic:  0.008544932859114951\n",
      "p-value:  0.7302697302697303\n",
      "(200, 18)\n",
      "(200,)\n",
      "Fitted\n"
     ]
    },
    {
     "name": "stderr",
     "output_type": "stream",
     "text": [
      "\n",
      " 90%|████████████████████████████████████████████████████████████████████████▉        | 90/100 [47:07<05:06, 30.68s/it]\u001b[A"
     ]
    },
    {
     "name": "stdout",
     "output_type": "stream",
     "text": [
      "Test Statistic:  0.00780817850743587\n",
      "p-value:  0.9140859140859141\n",
      "(200, 18)\n",
      "(200,)\n",
      "Fitted\n"
     ]
    },
    {
     "name": "stderr",
     "output_type": "stream",
     "text": [
      "\n",
      " 91%|█████████████████████████████████████████████████████████████████████████▋       | 91/100 [47:38<04:37, 30.88s/it]\u001b[A"
     ]
    },
    {
     "name": "stdout",
     "output_type": "stream",
     "text": [
      "Test Statistic:  0.0031094319309854512\n",
      "p-value:  1.0\n",
      "(200, 18)\n",
      "(200,)\n",
      "Fitted\n"
     ]
    },
    {
     "name": "stderr",
     "output_type": "stream",
     "text": [
      "\n",
      " 92%|██████████████████████████████████████████████████████████████████████████▌      | 92/100 [48:09<04:06, 30.79s/it]\u001b[A"
     ]
    },
    {
     "name": "stdout",
     "output_type": "stream",
     "text": [
      "Test Statistic:  0.004629169695681834\n",
      "p-value:  1.0\n",
      "(200, 18)\n",
      "(200,)\n",
      "Fitted\n"
     ]
    },
    {
     "name": "stderr",
     "output_type": "stream",
     "text": [
      "\n",
      " 93%|███████████████████████████████████████████████████████████████████████████▎     | 93/100 [48:40<03:35, 30.81s/it]\u001b[A"
     ]
    },
    {
     "name": "stdout",
     "output_type": "stream",
     "text": [
      "Test Statistic:  0.010489971094793438\n",
      "p-value:  0.42657342657342656\n",
      "(200, 18)\n",
      "(200,)\n",
      "Fitted\n"
     ]
    },
    {
     "name": "stderr",
     "output_type": "stream",
     "text": [
      "\n",
      " 94%|████████████████████████████████████████████████████████████████████████████▏    | 94/100 [49:10<03:04, 30.72s/it]\u001b[A"
     ]
    },
    {
     "name": "stdout",
     "output_type": "stream",
     "text": [
      "Test Statistic:  0.009942607277691584\n",
      "p-value:  0.6013986013986014\n",
      "(200, 18)\n",
      "(200,)\n",
      "Fitted\n"
     ]
    },
    {
     "name": "stderr",
     "output_type": "stream",
     "text": [
      "\n",
      " 95%|████████████████████████████████████████████████████████████████████████████▉    | 95/100 [49:41<02:33, 30.73s/it]\u001b[A"
     ]
    },
    {
     "name": "stdout",
     "output_type": "stream",
     "text": [
      "Test Statistic:  0.010472064519644664\n",
      "p-value:  0.4435564435564436\n",
      "(200, 18)\n",
      "(200,)\n",
      "Fitted\n"
     ]
    },
    {
     "name": "stderr",
     "output_type": "stream",
     "text": [
      "\n",
      " 96%|█████████████████████████████████████████████████████████████████████████████▊   | 96/100 [50:12<02:02, 30.62s/it]\u001b[A"
     ]
    },
    {
     "name": "stdout",
     "output_type": "stream",
     "text": [
      "Test Statistic:  0.00880235591603673\n",
      "p-value:  0.7942057942057942\n",
      "(200, 18)\n",
      "(200,)\n",
      "Fitted\n"
     ]
    },
    {
     "name": "stderr",
     "output_type": "stream",
     "text": [
      "\n",
      " 97%|██████████████████████████████████████████████████████████████████████████████▌  | 97/100 [50:43<01:32, 30.74s/it]\u001b[A"
     ]
    },
    {
     "name": "stdout",
     "output_type": "stream",
     "text": [
      "Test Statistic:  0.008012449989879378\n",
      "p-value:  0.9340659340659341\n",
      "(200, 18)\n",
      "(200,)\n",
      "Fitted\n"
     ]
    },
    {
     "name": "stderr",
     "output_type": "stream",
     "text": [
      "\n",
      " 98%|███████████████████████████████████████████████████████████████████████████████▍ | 98/100 [51:14<01:01, 30.82s/it]\u001b[A"
     ]
    },
    {
     "name": "stdout",
     "output_type": "stream",
     "text": [
      "Test Statistic:  0.009794983208126107\n",
      "p-value:  0.43456543456543456\n",
      "(200, 18)\n",
      "(200,)\n",
      "Fitted\n"
     ]
    },
    {
     "name": "stderr",
     "output_type": "stream",
     "text": [
      "\n",
      " 99%|████████████████████████████████████████████████████████████████████████████████▏| 99/100 [51:53<00:33, 33.43s/it]\u001b[A"
     ]
    },
    {
     "name": "stdout",
     "output_type": "stream",
     "text": [
      "Test Statistic:  0.006810909353335948\n",
      "p-value:  0.986013986013986\n",
      "(200, 18)\n",
      "(200,)\n",
      "Fitted\n"
     ]
    },
    {
     "name": "stderr",
     "output_type": "stream",
     "text": [
      "\n",
      "100%|████████████████████████████████████████████████████████████████████████████████| 100/100 [52:25<00:00, 31.45s/it]\u001b[A\n",
      " 45%|██████████████████████████████████▋                                          | 9/20 [7:54:17<9:38:19, 3154.53s/it]\n",
      "  0%|                                                                                          | 0/100 [00:00<?, ?it/s]\u001b[A"
     ]
    },
    {
     "name": "stdout",
     "output_type": "stream",
     "text": [
      "Test Statistic:  0.005930847172180398\n",
      "p-value:  0.997002997002997\n",
      "dimension 10\n",
      "circle\n",
      "(200, 20)\n",
      "(200,)\n",
      "Fitted\n"
     ]
    },
    {
     "name": "stderr",
     "output_type": "stream",
     "text": [
      "\n",
      "  1%|▊                                                                                 | 1/100 [00:30<50:16, 30.47s/it]\u001b[A"
     ]
    },
    {
     "name": "stdout",
     "output_type": "stream",
     "text": [
      "Test Statistic:  0.010829043832113916\n",
      "p-value:  0.2097902097902098\n",
      "(200, 20)\n",
      "(200,)\n",
      "Fitted\n"
     ]
    },
    {
     "name": "stderr",
     "output_type": "stream",
     "text": [
      "\n",
      "  2%|█▋                                                                                | 2/100 [01:01<50:03, 30.65s/it]\u001b[A"
     ]
    },
    {
     "name": "stdout",
     "output_type": "stream",
     "text": [
      "Test Statistic:  0.008659719766983986\n",
      "p-value:  0.7262737262737263\n",
      "(200, 20)\n",
      "(200,)\n",
      "Fitted\n"
     ]
    },
    {
     "name": "stderr",
     "output_type": "stream",
     "text": [
      "\n",
      "  3%|██▍                                                                               | 3/100 [01:32<49:27, 30.60s/it]\u001b[A"
     ]
    },
    {
     "name": "stdout",
     "output_type": "stream",
     "text": [
      "Test Statistic:  0.027401084852495372\n",
      "p-value:  0.001998001998001998\n",
      "(200, 20)\n",
      "(200,)\n",
      "Fitted\n"
     ]
    },
    {
     "name": "stderr",
     "output_type": "stream",
     "text": [
      "\n",
      "  4%|███▎                                                                              | 4/100 [02:03<49:27, 30.91s/it]\u001b[A"
     ]
    },
    {
     "name": "stdout",
     "output_type": "stream",
     "text": [
      "Test Statistic:  0.01990810671341714\n",
      "p-value:  0.006993006993006993\n",
      "(200, 20)\n",
      "(200,)\n",
      "Fitted\n"
     ]
    },
    {
     "name": "stderr",
     "output_type": "stream",
     "text": [
      "\n",
      "  5%|████                                                                              | 5/100 [02:35<49:18, 31.14s/it]\u001b[A"
     ]
    },
    {
     "name": "stdout",
     "output_type": "stream",
     "text": [
      "Test Statistic:  0.023063716358781572\n",
      "p-value:  0.005994005994005994\n",
      "(200, 20)\n",
      "(200,)\n",
      "Fitted\n"
     ]
    },
    {
     "name": "stderr",
     "output_type": "stream",
     "text": [
      "\n",
      "  6%|████▉                                                                             | 6/100 [03:06<48:55, 31.22s/it]\u001b[A"
     ]
    },
    {
     "name": "stdout",
     "output_type": "stream",
     "text": [
      "Test Statistic:  0.004914817936407134\n",
      "p-value:  1.0\n",
      "(200, 20)\n",
      "(200,)\n",
      "Fitted\n"
     ]
    },
    {
     "name": "stderr",
     "output_type": "stream",
     "text": [
      "\n",
      "  7%|█████▋                                                                            | 7/100 [03:38<48:35, 31.35s/it]\u001b[A"
     ]
    },
    {
     "name": "stdout",
     "output_type": "stream",
     "text": [
      "Test Statistic:  0.0046174510829878335\n",
      "p-value:  1.0\n",
      "(200, 20)\n",
      "(200,)\n",
      "Fitted\n"
     ]
    },
    {
     "name": "stderr",
     "output_type": "stream",
     "text": [
      "\n",
      "  8%|██████▌                                                                           | 8/100 [04:10<48:26, 31.59s/it]\u001b[A"
     ]
    },
    {
     "name": "stdout",
     "output_type": "stream",
     "text": [
      "Test Statistic:  0.010153014116927261\n",
      "p-value:  0.3756243756243756\n",
      "(200, 20)\n",
      "(200,)\n",
      "Fitted\n"
     ]
    },
    {
     "name": "stderr",
     "output_type": "stream",
     "text": [
      "\n",
      "  9%|███████▍                                                                          | 9/100 [04:41<47:40, 31.43s/it]\u001b[A"
     ]
    },
    {
     "name": "stdout",
     "output_type": "stream",
     "text": [
      "Test Statistic:  0.0017102220838973725\n",
      "p-value:  1.0\n",
      "(200, 20)\n",
      "(200,)\n",
      "Fitted\n"
     ]
    },
    {
     "name": "stderr",
     "output_type": "stream",
     "text": [
      "\n",
      " 10%|████████                                                                         | 10/100 [05:12<47:07, 31.42s/it]\u001b[A"
     ]
    },
    {
     "name": "stdout",
     "output_type": "stream",
     "text": [
      "Test Statistic:  0.008330163581233951\n",
      "p-value:  0.8711288711288712\n",
      "(200, 20)\n",
      "(200,)\n",
      "Fitted\n"
     ]
    },
    {
     "name": "stderr",
     "output_type": "stream",
     "text": [
      "\n",
      " 11%|████████▉                                                                        | 11/100 [05:44<46:25, 31.30s/it]\u001b[A"
     ]
    },
    {
     "name": "stdout",
     "output_type": "stream",
     "text": [
      "Test Statistic:  0.0030702342353808865\n",
      "p-value:  1.0\n",
      "(200, 20)\n",
      "(200,)\n",
      "Fitted\n"
     ]
    },
    {
     "name": "stderr",
     "output_type": "stream",
     "text": [
      "\n",
      " 12%|█████████▋                                                                       | 12/100 [06:15<46:09, 31.47s/it]\u001b[A"
     ]
    },
    {
     "name": "stdout",
     "output_type": "stream",
     "text": [
      "Test Statistic:  0.022797279189926023\n",
      "p-value:  0.005994005994005994\n",
      "(200, 20)\n",
      "(200,)\n",
      "Fitted\n"
     ]
    },
    {
     "name": "stderr",
     "output_type": "stream",
     "text": [
      "\n",
      " 13%|██████████▌                                                                      | 13/100 [06:47<45:37, 31.47s/it]\u001b[A"
     ]
    },
    {
     "name": "stdout",
     "output_type": "stream",
     "text": [
      "Test Statistic:  0.018232792515067486\n",
      "p-value:  0.012987012987012988\n",
      "(200, 20)\n",
      "(200,)\n",
      "Fitted\n"
     ]
    },
    {
     "name": "stderr",
     "output_type": "stream",
     "text": [
      "\n",
      " 14%|███████████▎                                                                     | 14/100 [07:18<44:52, 31.31s/it]\u001b[A"
     ]
    },
    {
     "name": "stdout",
     "output_type": "stream",
     "text": [
      "Test Statistic:  0.019192742934505236\n",
      "p-value:  0.00999000999000999\n",
      "(200, 20)\n",
      "(200,)\n",
      "Fitted\n"
     ]
    },
    {
     "name": "stderr",
     "output_type": "stream",
     "text": [
      "\n",
      " 15%|████████████▏                                                                    | 15/100 [07:48<43:57, 31.03s/it]\u001b[A"
     ]
    },
    {
     "name": "stdout",
     "output_type": "stream",
     "text": [
      "Test Statistic:  0.00231802664427172\n",
      "p-value:  1.0\n",
      "(200, 20)\n",
      "(200,)\n",
      "Fitted\n"
     ]
    },
    {
     "name": "stderr",
     "output_type": "stream",
     "text": [
      "\n",
      " 16%|████████████▉                                                                    | 16/100 [08:19<43:25, 31.02s/it]\u001b[A"
     ]
    },
    {
     "name": "stdout",
     "output_type": "stream",
     "text": [
      "Test Statistic:  0.009371112900696033\n",
      "p-value:  0.5954045954045954\n",
      "(200, 20)\n",
      "(200,)\n",
      "Fitted\n"
     ]
    },
    {
     "name": "stderr",
     "output_type": "stream",
     "text": [
      "\n",
      " 17%|█████████████▊                                                                   | 17/100 [08:51<43:13, 31.25s/it]\u001b[A"
     ]
    },
    {
     "name": "stdout",
     "output_type": "stream",
     "text": [
      "Test Statistic:  0.008880414913623347\n",
      "p-value:  0.6203796203796204\n",
      "(200, 20)\n",
      "(200,)\n",
      "Fitted\n"
     ]
    },
    {
     "name": "stderr",
     "output_type": "stream",
     "text": [
      "\n",
      " 18%|██████████████▌                                                                  | 18/100 [09:26<44:17, 32.40s/it]\u001b[A"
     ]
    },
    {
     "name": "stdout",
     "output_type": "stream",
     "text": [
      "Test Statistic:  0.007344541341012922\n",
      "p-value:  0.9080919080919081\n",
      "(200, 20)\n",
      "(200,)\n",
      "Fitted\n"
     ]
    },
    {
     "name": "stderr",
     "output_type": "stream",
     "text": [
      "\n",
      " 19%|███████████████▍                                                                 | 19/100 [09:58<43:24, 32.16s/it]\u001b[A"
     ]
    },
    {
     "name": "stdout",
     "output_type": "stream",
     "text": [
      "Test Statistic:  0.0036365896575695222\n",
      "p-value:  1.0\n",
      "(200, 20)\n",
      "(200,)\n",
      "Fitted\n"
     ]
    },
    {
     "name": "stderr",
     "output_type": "stream",
     "text": [
      "\n",
      " 20%|████████████████▏                                                                | 20/100 [10:28<42:16, 31.70s/it]\u001b[A"
     ]
    },
    {
     "name": "stdout",
     "output_type": "stream",
     "text": [
      "Test Statistic:  0.0043365316589001335\n",
      "p-value:  1.0\n",
      "(200, 20)\n",
      "(200,)\n",
      "Fitted\n"
     ]
    },
    {
     "name": "stderr",
     "output_type": "stream",
     "text": [
      "\n",
      " 21%|█████████████████                                                                | 21/100 [10:59<41:22, 31.43s/it]\u001b[A"
     ]
    },
    {
     "name": "stdout",
     "output_type": "stream",
     "text": [
      "Test Statistic:  0.016225647050984393\n",
      "p-value:  0.04095904095904096\n",
      "(200, 20)\n",
      "(200,)\n",
      "Fitted\n"
     ]
    },
    {
     "name": "stderr",
     "output_type": "stream",
     "text": [
      "\n",
      " 22%|█████████████████▊                                                               | 22/100 [11:31<41:04, 31.59s/it]\u001b[A"
     ]
    },
    {
     "name": "stdout",
     "output_type": "stream",
     "text": [
      "Test Statistic:  0.011217011340545535\n",
      "p-value:  0.23176823176823177\n",
      "(200, 20)\n",
      "(200,)\n",
      "Fitted\n"
     ]
    },
    {
     "name": "stderr",
     "output_type": "stream",
     "text": [
      "\n",
      " 23%|██████████████████▋                                                              | 23/100 [12:02<40:18, 31.40s/it]\u001b[A"
     ]
    },
    {
     "name": "stdout",
     "output_type": "stream",
     "text": [
      "Test Statistic:  0.011474881279616489\n",
      "p-value:  0.1968031968031968\n",
      "(200, 20)\n",
      "(200,)\n",
      "Fitted\n"
     ]
    },
    {
     "name": "stderr",
     "output_type": "stream",
     "text": [
      "\n",
      " 24%|███████████████████▍                                                             | 24/100 [12:33<39:30, 31.19s/it]\u001b[A"
     ]
    },
    {
     "name": "stdout",
     "output_type": "stream",
     "text": [
      "Test Statistic:  0.009390585371195415\n",
      "p-value:  0.4325674325674326\n",
      "(200, 20)\n",
      "(200,)\n",
      "Fitted\n"
     ]
    },
    {
     "name": "stderr",
     "output_type": "stream",
     "text": [
      "\n",
      " 25%|████████████████████▎                                                            | 25/100 [13:03<38:41, 30.95s/it]\u001b[A"
     ]
    },
    {
     "name": "stdout",
     "output_type": "stream",
     "text": [
      "Test Statistic:  0.006929048569880192\n",
      "p-value:  0.9790209790209791\n",
      "(200, 20)\n",
      "(200,)\n",
      "Fitted\n"
     ]
    },
    {
     "name": "stderr",
     "output_type": "stream",
     "text": [
      "\n",
      " 26%|█████████████████████                                                            | 26/100 [13:34<37:59, 30.80s/it]\u001b[A"
     ]
    },
    {
     "name": "stdout",
     "output_type": "stream",
     "text": [
      "Test Statistic:  0.008809468545460164\n",
      "p-value:  0.6363636363636364\n",
      "(200, 20)\n",
      "(200,)\n",
      "Fitted\n"
     ]
    },
    {
     "name": "stderr",
     "output_type": "stream",
     "text": [
      "\n",
      " 27%|█████████████████████▊                                                           | 27/100 [14:04<37:19, 30.68s/it]\u001b[A"
     ]
    },
    {
     "name": "stdout",
     "output_type": "stream",
     "text": [
      "Test Statistic:  0.015557445899466282\n",
      "p-value:  0.03296703296703297\n",
      "(200, 20)\n",
      "(200,)\n",
      "Fitted\n"
     ]
    },
    {
     "name": "stderr",
     "output_type": "stream",
     "text": [
      "\n",
      " 28%|██████████████████████▋                                                          | 28/100 [14:35<36:57, 30.79s/it]\u001b[A"
     ]
    },
    {
     "name": "stdout",
     "output_type": "stream",
     "text": [
      "Test Statistic:  0.035714922662580584\n",
      "p-value:  0.000999000999000999\n",
      "(200, 20)\n",
      "(200,)\n",
      "Fitted\n"
     ]
    },
    {
     "name": "stderr",
     "output_type": "stream",
     "text": [
      "\n",
      " 29%|███████████████████████▍                                                         | 29/100 [15:06<36:31, 30.87s/it]\u001b[A"
     ]
    },
    {
     "name": "stdout",
     "output_type": "stream",
     "text": [
      "Test Statistic:  0.0088203347814092\n",
      "p-value:  0.8071928071928072\n",
      "(200, 20)\n",
      "(200,)\n",
      "Fitted\n"
     ]
    },
    {
     "name": "stderr",
     "output_type": "stream",
     "text": [
      "\n",
      " 30%|████████████████████████▎                                                        | 30/100 [15:36<35:49, 30.71s/it]\u001b[A"
     ]
    },
    {
     "name": "stdout",
     "output_type": "stream",
     "text": [
      "Test Statistic:  0.005416719619208754\n",
      "p-value:  1.0\n",
      "(200, 20)\n",
      "(200,)\n",
      "Fitted\n"
     ]
    },
    {
     "name": "stderr",
     "output_type": "stream",
     "text": [
      "\n",
      " 31%|█████████████████████████                                                        | 31/100 [16:07<35:22, 30.77s/it]\u001b[A"
     ]
    },
    {
     "name": "stdout",
     "output_type": "stream",
     "text": [
      "Test Statistic:  0.022472998921839404\n",
      "p-value:  0.002997002997002997\n",
      "(200, 20)\n",
      "(200,)\n",
      "Fitted\n"
     ]
    },
    {
     "name": "stderr",
     "output_type": "stream",
     "text": [
      "\n",
      " 32%|█████████████████████████▉                                                       | 32/100 [16:38<34:52, 30.77s/it]\u001b[A"
     ]
    },
    {
     "name": "stdout",
     "output_type": "stream",
     "text": [
      "Test Statistic:  0.005192067615238161\n",
      "p-value:  1.0\n",
      "(200, 20)\n",
      "(200,)\n",
      "Fitted\n"
     ]
    },
    {
     "name": "stderr",
     "output_type": "stream",
     "text": [
      "\n",
      " 33%|██████████████████████████▋                                                      | 33/100 [17:09<34:27, 30.86s/it]\u001b[A"
     ]
    },
    {
     "name": "stdout",
     "output_type": "stream",
     "text": [
      "Test Statistic:  0.0026132639772252775\n",
      "p-value:  1.0\n",
      "(200, 20)\n",
      "(200,)\n",
      "Fitted\n"
     ]
    },
    {
     "name": "stderr",
     "output_type": "stream",
     "text": [
      "\n",
      " 34%|███████████████████████████▌                                                     | 34/100 [17:41<34:07, 31.03s/it]\u001b[A"
     ]
    },
    {
     "name": "stdout",
     "output_type": "stream",
     "text": [
      "Test Statistic:  0.03654233700756426\n",
      "p-value:  0.000999000999000999\n",
      "(200, 20)\n",
      "(200,)\n",
      "Fitted\n"
     ]
    },
    {
     "name": "stderr",
     "output_type": "stream",
     "text": [
      "\n",
      " 35%|████████████████████████████▎                                                    | 35/100 [18:13<34:07, 31.50s/it]\u001b[A"
     ]
    },
    {
     "name": "stdout",
     "output_type": "stream",
     "text": [
      "Test Statistic:  0.0049018775709083195\n",
      "p-value:  1.0\n",
      "(200, 20)\n",
      "(200,)\n",
      "Fitted\n"
     ]
    },
    {
     "name": "stderr",
     "output_type": "stream",
     "text": [
      "\n",
      " 36%|█████████████████████████████▏                                                   | 36/100 [18:45<33:39, 31.56s/it]\u001b[A"
     ]
    },
    {
     "name": "stdout",
     "output_type": "stream",
     "text": [
      "Test Statistic:  0.00317410804040108\n",
      "p-value:  1.0\n",
      "(200, 20)\n",
      "(200,)\n",
      "Fitted\n"
     ]
    },
    {
     "name": "stderr",
     "output_type": "stream",
     "text": [
      "\n",
      " 37%|█████████████████████████████▉                                                   | 37/100 [19:20<34:08, 32.52s/it]\u001b[A"
     ]
    },
    {
     "name": "stdout",
     "output_type": "stream",
     "text": [
      "Test Statistic:  0.00635451745465565\n",
      "p-value:  0.988011988011988\n",
      "(200, 20)\n",
      "(200,)\n",
      "Fitted\n"
     ]
    },
    {
     "name": "stderr",
     "output_type": "stream",
     "text": [
      "\n",
      " 38%|██████████████████████████████▊                                                  | 38/100 [19:51<33:21, 32.29s/it]\u001b[A"
     ]
    },
    {
     "name": "stdout",
     "output_type": "stream",
     "text": [
      "Test Statistic:  0.012127036800672841\n",
      "p-value:  0.2897102897102897\n",
      "(200, 20)\n",
      "(200,)\n",
      "Fitted\n"
     ]
    },
    {
     "name": "stderr",
     "output_type": "stream",
     "text": [
      "\n",
      " 39%|███████████████████████████████▌                                                 | 39/100 [20:23<32:38, 32.10s/it]\u001b[A"
     ]
    },
    {
     "name": "stdout",
     "output_type": "stream",
     "text": [
      "Test Statistic:  0.003604368034718086\n",
      "p-value:  1.0\n",
      "(200, 20)\n",
      "(200,)\n",
      "Fitted\n"
     ]
    },
    {
     "name": "stderr",
     "output_type": "stream",
     "text": [
      "\n",
      " 40%|████████████████████████████████▍                                                | 40/100 [20:54<31:44, 31.74s/it]\u001b[A"
     ]
    },
    {
     "name": "stdout",
     "output_type": "stream",
     "text": [
      "Test Statistic:  0.006447464204101694\n",
      "p-value:  0.983016983016983\n",
      "(200, 20)\n",
      "(200,)\n",
      "Fitted\n"
     ]
    },
    {
     "name": "stderr",
     "output_type": "stream",
     "text": [
      "\n",
      " 41%|█████████████████████████████████▏                                               | 41/100 [21:26<31:13, 31.76s/it]\u001b[A"
     ]
    },
    {
     "name": "stdout",
     "output_type": "stream",
     "text": [
      "Test Statistic:  0.007931707746245187\n",
      "p-value:  0.8661338661338661\n",
      "(200, 20)\n",
      "(200,)\n",
      "Fitted\n"
     ]
    },
    {
     "name": "stderr",
     "output_type": "stream",
     "text": [
      "\n",
      " 42%|██████████████████████████████████                                               | 42/100 [21:59<31:06, 32.18s/it]\u001b[A"
     ]
    },
    {
     "name": "stdout",
     "output_type": "stream",
     "text": [
      "Test Statistic:  0.018648552982485578\n",
      "p-value:  0.012987012987012988\n",
      "(200, 20)\n",
      "(200,)\n",
      "Fitted\n"
     ]
    },
    {
     "name": "stderr",
     "output_type": "stream",
     "text": [
      "\n",
      " 43%|██████████████████████████████████▊                                              | 43/100 [22:30<30:24, 32.01s/it]\u001b[A"
     ]
    },
    {
     "name": "stdout",
     "output_type": "stream",
     "text": [
      "Test Statistic:  0.0074938036573705125\n",
      "p-value:  0.916083916083916\n",
      "(200, 20)\n",
      "(200,)\n",
      "Fitted\n"
     ]
    },
    {
     "name": "stderr",
     "output_type": "stream",
     "text": [
      "\n",
      " 44%|███████████████████████████████████▋                                             | 44/100 [23:02<29:45, 31.89s/it]\u001b[A"
     ]
    },
    {
     "name": "stdout",
     "output_type": "stream",
     "text": [
      "Test Statistic:  0.021051089325881955\n",
      "p-value:  0.006993006993006993\n",
      "(200, 20)\n",
      "(200,)\n",
      "Fitted\n"
     ]
    },
    {
     "name": "stderr",
     "output_type": "stream",
     "text": [
      "\n",
      " 45%|████████████████████████████████████▍                                            | 45/100 [23:34<29:11, 31.84s/it]\u001b[A"
     ]
    },
    {
     "name": "stdout",
     "output_type": "stream",
     "text": [
      "Test Statistic:  0.001928739925755929\n",
      "p-value:  1.0\n",
      "(200, 20)\n",
      "(200,)\n",
      "Fitted\n"
     ]
    },
    {
     "name": "stderr",
     "output_type": "stream",
     "text": [
      "\n",
      " 46%|█████████████████████████████████████▎                                           | 46/100 [24:05<28:34, 31.75s/it]\u001b[A"
     ]
    },
    {
     "name": "stdout",
     "output_type": "stream",
     "text": [
      "Test Statistic:  0.006244965579705886\n",
      "p-value:  0.989010989010989\n",
      "(200, 20)\n",
      "(200,)\n",
      "Fitted\n"
     ]
    },
    {
     "name": "stderr",
     "output_type": "stream",
     "text": [
      "\n",
      " 47%|██████████████████████████████████████                                           | 47/100 [24:36<27:46, 31.44s/it]\u001b[A"
     ]
    },
    {
     "name": "stdout",
     "output_type": "stream",
     "text": [
      "Test Statistic:  0.0034631914419018806\n",
      "p-value:  1.0\n",
      "(200, 20)\n",
      "(200,)\n",
      "Fitted\n"
     ]
    },
    {
     "name": "stderr",
     "output_type": "stream",
     "text": [
      "\n",
      " 48%|██████████████████████████████████████▉                                          | 48/100 [25:06<26:58, 31.12s/it]\u001b[A"
     ]
    },
    {
     "name": "stdout",
     "output_type": "stream",
     "text": [
      "Test Statistic:  0.007207695433070649\n",
      "p-value:  0.9080919080919081\n",
      "(200, 20)\n",
      "(200,)\n",
      "Fitted\n"
     ]
    },
    {
     "name": "stderr",
     "output_type": "stream",
     "text": [
      "\n",
      " 49%|███████████████████████████████████████▋                                         | 49/100 [25:38<26:32, 31.22s/it]\u001b[A"
     ]
    },
    {
     "name": "stdout",
     "output_type": "stream",
     "text": [
      "Test Statistic:  0.0024397436344737455\n",
      "p-value:  1.0\n",
      "(200, 20)\n",
      "(200,)\n",
      "Fitted\n"
     ]
    },
    {
     "name": "stderr",
     "output_type": "stream",
     "text": [
      "\n",
      " 50%|████████████████████████████████████████▌                                        | 50/100 [26:10<26:15, 31.50s/it]\u001b[A"
     ]
    },
    {
     "name": "stdout",
     "output_type": "stream",
     "text": [
      "Test Statistic:  0.02097926744569023\n",
      "p-value:  0.005994005994005994\n",
      "(200, 20)\n",
      "(200,)\n",
      "Fitted\n"
     ]
    },
    {
     "name": "stderr",
     "output_type": "stream",
     "text": [
      "\n",
      " 51%|█████████████████████████████████████████▎                                       | 51/100 [26:42<25:45, 31.54s/it]\u001b[A"
     ]
    },
    {
     "name": "stdout",
     "output_type": "stream",
     "text": [
      "Test Statistic:  0.003111810090207223\n",
      "p-value:  1.0\n",
      "(200, 20)\n",
      "(200,)\n",
      "Fitted\n"
     ]
    },
    {
     "name": "stderr",
     "output_type": "stream",
     "text": [
      "\n",
      " 52%|██████████████████████████████████████████                                       | 52/100 [27:14<25:22, 31.73s/it]\u001b[A"
     ]
    },
    {
     "name": "stdout",
     "output_type": "stream",
     "text": [
      "Test Statistic:  0.006115773308857153\n",
      "p-value:  0.996003996003996\n",
      "(200, 20)\n",
      "(200,)\n",
      "Fitted\n"
     ]
    },
    {
     "name": "stderr",
     "output_type": "stream",
     "text": [
      "\n",
      " 53%|██████████████████████████████████████████▉                                      | 53/100 [27:46<24:55, 31.81s/it]\u001b[A"
     ]
    },
    {
     "name": "stdout",
     "output_type": "stream",
     "text": [
      "Test Statistic:  0.01562783159967418\n",
      "p-value:  0.03896103896103896\n",
      "(200, 20)\n",
      "(200,)\n",
      "Fitted\n"
     ]
    },
    {
     "name": "stderr",
     "output_type": "stream",
     "text": [
      "\n",
      " 54%|███████████████████████████████████████████▋                                     | 54/100 [28:17<24:11, 31.56s/it]\u001b[A"
     ]
    },
    {
     "name": "stdout",
     "output_type": "stream",
     "text": [
      "Test Statistic:  0.01348408977360005\n",
      "p-value:  0.13586413586413587\n",
      "(200, 20)\n",
      "(200,)\n",
      "Fitted\n"
     ]
    },
    {
     "name": "stderr",
     "output_type": "stream",
     "text": [
      "\n",
      " 55%|████████████████████████████████████████████▌                                    | 55/100 [28:48<23:29, 31.33s/it]\u001b[A"
     ]
    },
    {
     "name": "stdout",
     "output_type": "stream",
     "text": [
      "Test Statistic:  0.012026444553765003\n",
      "p-value:  0.18281718281718282\n",
      "(200, 20)\n",
      "(200,)\n",
      "Fitted\n"
     ]
    },
    {
     "name": "stderr",
     "output_type": "stream",
     "text": [
      "\n",
      " 56%|█████████████████████████████████████████████▎                                   | 56/100 [29:28<24:54, 33.98s/it]\u001b[A"
     ]
    },
    {
     "name": "stdout",
     "output_type": "stream",
     "text": [
      "Test Statistic:  0.004754943182299631\n",
      "p-value:  1.0\n",
      "(200, 20)\n",
      "(200,)\n",
      "Fitted\n"
     ]
    },
    {
     "name": "stderr",
     "output_type": "stream",
     "text": [
      "\n",
      " 57%|██████████████████████████████████████████████▏                                  | 57/100 [29:59<23:51, 33.28s/it]\u001b[A"
     ]
    },
    {
     "name": "stdout",
     "output_type": "stream",
     "text": [
      "Test Statistic:  0.003224361636327\n",
      "p-value:  1.0\n",
      "(200, 20)\n",
      "(200,)\n",
      "Fitted\n"
     ]
    },
    {
     "name": "stderr",
     "output_type": "stream",
     "text": [
      "\n",
      " 58%|██████████████████████████████████████████████▉                                  | 58/100 [30:32<23:03, 32.94s/it]\u001b[A"
     ]
    },
    {
     "name": "stdout",
     "output_type": "stream",
     "text": [
      "Test Statistic:  0.019686597436460063\n",
      "p-value:  0.022977022977022976\n",
      "(200, 20)\n",
      "(200,)\n",
      "Fitted\n"
     ]
    },
    {
     "name": "stderr",
     "output_type": "stream",
     "text": [
      "\n",
      " 59%|███████████████████████████████████████████████▊                                 | 59/100 [31:03<22:11, 32.47s/it]\u001b[A"
     ]
    },
    {
     "name": "stdout",
     "output_type": "stream",
     "text": [
      "Test Statistic:  0.0030051369562142938\n",
      "p-value:  1.0\n",
      "(200, 20)\n",
      "(200,)\n",
      "Fitted\n"
     ]
    },
    {
     "name": "stderr",
     "output_type": "stream",
     "text": [
      "\n",
      " 60%|████████████████████████████████████████████████▌                                | 60/100 [31:34<21:27, 32.19s/it]\u001b[A"
     ]
    },
    {
     "name": "stdout",
     "output_type": "stream",
     "text": [
      "Test Statistic:  0.009024853824320278\n",
      "p-value:  0.7152847152847153\n",
      "(200, 20)\n",
      "(200,)\n",
      "Fitted\n"
     ]
    },
    {
     "name": "stderr",
     "output_type": "stream",
     "text": [
      "\n",
      " 61%|█████████████████████████████████████████████████▍                               | 61/100 [32:05<20:36, 31.71s/it]\u001b[A"
     ]
    },
    {
     "name": "stdout",
     "output_type": "stream",
     "text": [
      "Test Statistic:  0.009690063752863187\n",
      "p-value:  0.4865134865134865\n",
      "(200, 20)\n",
      "(200,)\n",
      "Fitted\n"
     ]
    },
    {
     "name": "stderr",
     "output_type": "stream",
     "text": [
      "\n",
      " 62%|██████████████████████████████████████████████████▏                              | 62/100 [32:36<19:50, 31.34s/it]\u001b[A"
     ]
    },
    {
     "name": "stdout",
     "output_type": "stream",
     "text": [
      "Test Statistic:  0.005073505403403122\n",
      "p-value:  1.0\n",
      "(200, 20)\n",
      "(200,)\n",
      "Fitted\n"
     ]
    },
    {
     "name": "stderr",
     "output_type": "stream",
     "text": [
      "\n",
      " 63%|███████████████████████████████████████████████████                              | 63/100 [33:06<19:08, 31.04s/it]\u001b[A"
     ]
    },
    {
     "name": "stdout",
     "output_type": "stream",
     "text": [
      "Test Statistic:  0.007337785925686124\n",
      "p-value:  0.929070929070929\n",
      "(200, 20)\n",
      "(200,)\n",
      "Fitted\n"
     ]
    },
    {
     "name": "stderr",
     "output_type": "stream",
     "text": [
      "\n",
      " 64%|███████████████████████████████████████████████████▊                             | 64/100 [33:37<18:42, 31.17s/it]\u001b[A"
     ]
    },
    {
     "name": "stdout",
     "output_type": "stream",
     "text": [
      "Test Statistic:  0.005627094871435978\n",
      "p-value:  1.0\n",
      "(200, 20)\n",
      "(200,)\n",
      "Fitted\n"
     ]
    },
    {
     "name": "stderr",
     "output_type": "stream",
     "text": [
      "\n",
      " 65%|████████████████████████████████████████████████████▋                            | 65/100 [34:09<18:10, 31.16s/it]\u001b[A"
     ]
    },
    {
     "name": "stdout",
     "output_type": "stream",
     "text": [
      "Test Statistic:  0.006395776994374103\n",
      "p-value:  0.998001998001998\n",
      "(200, 20)\n",
      "(200,)\n",
      "Fitted\n"
     ]
    },
    {
     "name": "stderr",
     "output_type": "stream",
     "text": [
      "\n",
      " 66%|█████████████████████████████████████████████████████▍                           | 66/100 [34:39<17:37, 31.10s/it]\u001b[A"
     ]
    },
    {
     "name": "stdout",
     "output_type": "stream",
     "text": [
      "Test Statistic:  0.015278719786638306\n",
      "p-value:  0.03396603396603397\n",
      "(200, 20)\n",
      "(200,)\n",
      "Fitted\n"
     ]
    },
    {
     "name": "stderr",
     "output_type": "stream",
     "text": [
      "\n",
      " 67%|██████████████████████████████████████████████████████▎                          | 67/100 [35:10<17:02, 30.98s/it]\u001b[A"
     ]
    },
    {
     "name": "stdout",
     "output_type": "stream",
     "text": [
      "Test Statistic:  0.019422139422892726\n",
      "p-value:  0.015984015984015984\n",
      "(200, 20)\n",
      "(200,)\n",
      "Fitted\n"
     ]
    },
    {
     "name": "stderr",
     "output_type": "stream",
     "text": [
      "\n",
      " 68%|███████████████████████████████████████████████████████                          | 68/100 [35:41<16:29, 30.93s/it]\u001b[A"
     ]
    },
    {
     "name": "stdout",
     "output_type": "stream",
     "text": [
      "Test Statistic:  0.05241756988732915\n",
      "p-value:  0.000999000999000999\n",
      "(200, 20)\n",
      "(200,)\n",
      "Fitted\n"
     ]
    },
    {
     "name": "stderr",
     "output_type": "stream",
     "text": [
      "\n",
      " 69%|███████████████████████████████████████████████████████▉                         | 69/100 [36:12<16:00, 31.00s/it]\u001b[A"
     ]
    },
    {
     "name": "stdout",
     "output_type": "stream",
     "text": [
      "Test Statistic:  0.0054134715477898165\n",
      "p-value:  1.0\n",
      "(200, 20)\n",
      "(200,)\n",
      "Fitted\n"
     ]
    },
    {
     "name": "stderr",
     "output_type": "stream",
     "text": [
      "\n",
      " 70%|████████████████████████████████████████████████████████▋                        | 70/100 [36:43<15:29, 30.97s/it]\u001b[A"
     ]
    },
    {
     "name": "stdout",
     "output_type": "stream",
     "text": [
      "Test Statistic:  0.007494842966993431\n",
      "p-value:  0.9140859140859141\n",
      "(200, 20)\n",
      "(200,)\n",
      "Fitted\n"
     ]
    },
    {
     "name": "stderr",
     "output_type": "stream",
     "text": [
      "\n",
      " 71%|█████████████████████████████████████████████████████████▌                       | 71/100 [37:13<14:50, 30.70s/it]\u001b[A"
     ]
    },
    {
     "name": "stdout",
     "output_type": "stream",
     "text": [
      "Test Statistic:  0.01528116561952042\n",
      "p-value:  0.052947052947052944\n",
      "(200, 20)\n",
      "(200,)\n",
      "Fitted\n"
     ]
    },
    {
     "name": "stderr",
     "output_type": "stream",
     "text": [
      "\n",
      " 72%|██████████████████████████████████████████████████████████▎                      | 72/100 [37:44<14:17, 30.62s/it]\u001b[A"
     ]
    },
    {
     "name": "stdout",
     "output_type": "stream",
     "text": [
      "Test Statistic:  0.013484807756963035\n",
      "p-value:  0.1028971028971029\n",
      "(200, 20)\n",
      "(200,)\n",
      "Fitted\n"
     ]
    },
    {
     "name": "stderr",
     "output_type": "stream",
     "text": [
      "\n",
      " 73%|███████████████████████████████████████████████████████████▏                     | 73/100 [38:14<13:48, 30.70s/it]\u001b[A"
     ]
    },
    {
     "name": "stdout",
     "output_type": "stream",
     "text": [
      "Test Statistic:  0.006462956606793857\n",
      "p-value:  0.974025974025974\n",
      "(200, 20)\n",
      "(200,)\n",
      "Fitted\n"
     ]
    },
    {
     "name": "stderr",
     "output_type": "stream",
     "text": [
      "\n",
      " 74%|███████████████████████████████████████████████████████████▉                     | 74/100 [38:45<13:19, 30.74s/it]\u001b[A"
     ]
    },
    {
     "name": "stdout",
     "output_type": "stream",
     "text": [
      "Test Statistic:  0.0017806949309920883\n",
      "p-value:  1.0\n",
      "(200, 20)\n",
      "(200,)\n",
      "Fitted\n"
     ]
    },
    {
     "name": "stderr",
     "output_type": "stream",
     "text": [
      "\n",
      " 75%|████████████████████████████████████████████████████████████▊                    | 75/100 [39:20<13:20, 32.01s/it]\u001b[A"
     ]
    },
    {
     "name": "stdout",
     "output_type": "stream",
     "text": [
      "Test Statistic:  0.008585950886036198\n",
      "p-value:  0.7972027972027972\n",
      "(200, 20)\n",
      "(200,)\n",
      "Fitted\n"
     ]
    },
    {
     "name": "stderr",
     "output_type": "stream",
     "text": [
      "\n",
      " 76%|█████████████████████████████████████████████████████████████▌                   | 76/100 [39:51<12:42, 31.75s/it]\u001b[A"
     ]
    },
    {
     "name": "stdout",
     "output_type": "stream",
     "text": [
      "Test Statistic:  0.005605533391235595\n",
      "p-value:  1.0\n",
      "(200, 20)\n",
      "(200,)\n",
      "Fitted\n"
     ]
    },
    {
     "name": "stderr",
     "output_type": "stream",
     "text": [
      "\n",
      " 77%|██████████████████████████████████████████████████████████████▎                  | 77/100 [40:22<12:04, 31.50s/it]\u001b[A"
     ]
    },
    {
     "name": "stdout",
     "output_type": "stream",
     "text": [
      "Test Statistic:  0.0027849979265768265\n",
      "p-value:  1.0\n",
      "(200, 20)\n",
      "(200,)\n",
      "Fitted\n"
     ]
    },
    {
     "name": "stderr",
     "output_type": "stream",
     "text": [
      "\n",
      " 78%|███████████████████████████████████████████████████████████████▏                 | 78/100 [40:53<11:27, 31.25s/it]\u001b[A"
     ]
    },
    {
     "name": "stdout",
     "output_type": "stream",
     "text": [
      "Test Statistic:  0.004622158451730196\n",
      "p-value:  1.0\n",
      "(200, 20)\n",
      "(200,)\n",
      "Fitted\n"
     ]
    },
    {
     "name": "stderr",
     "output_type": "stream",
     "text": [
      "\n",
      " 79%|███████████████████████████████████████████████████████████████▉                 | 79/100 [41:24<10:52, 31.06s/it]\u001b[A"
     ]
    },
    {
     "name": "stdout",
     "output_type": "stream",
     "text": [
      "Test Statistic:  0.006551912875340293\n",
      "p-value:  0.983016983016983\n",
      "(200, 20)\n",
      "(200,)\n",
      "Fitted\n"
     ]
    },
    {
     "name": "stderr",
     "output_type": "stream",
     "text": [
      "\n",
      " 80%|████████████████████████████████████████████████████████████████▊                | 80/100 [41:55<10:22, 31.11s/it]\u001b[A"
     ]
    },
    {
     "name": "stdout",
     "output_type": "stream",
     "text": [
      "Test Statistic:  0.014989056802533929\n",
      "p-value:  0.06893106893106893\n",
      "(200, 20)\n",
      "(200,)\n",
      "Fitted\n"
     ]
    },
    {
     "name": "stderr",
     "output_type": "stream",
     "text": [
      "\n",
      " 81%|█████████████████████████████████████████████████████████████████▌               | 81/100 [42:26<09:49, 31.04s/it]\u001b[A"
     ]
    },
    {
     "name": "stdout",
     "output_type": "stream",
     "text": [
      "Test Statistic:  0.0021300407496970264\n",
      "p-value:  1.0\n",
      "(200, 20)\n",
      "(200,)\n",
      "Fitted\n"
     ]
    },
    {
     "name": "stderr",
     "output_type": "stream",
     "text": [
      "\n",
      " 82%|██████████████████████████████████████████████████████████████████▍              | 82/100 [42:57<09:18, 31.03s/it]\u001b[A"
     ]
    },
    {
     "name": "stdout",
     "output_type": "stream",
     "text": [
      "Test Statistic:  0.01932829041074091\n",
      "p-value:  0.00999000999000999\n",
      "(200, 20)\n",
      "(200,)\n",
      "Fitted\n"
     ]
    },
    {
     "name": "stderr",
     "output_type": "stream",
     "text": [
      "\n",
      " 83%|███████████████████████████████████████████████████████████████████▏             | 83/100 [43:28<08:47, 31.02s/it]\u001b[A"
     ]
    },
    {
     "name": "stdout",
     "output_type": "stream",
     "text": [
      "Test Statistic:  0.003654720734531547\n",
      "p-value:  1.0\n",
      "(200, 20)\n",
      "(200,)\n",
      "Fitted\n"
     ]
    },
    {
     "name": "stderr",
     "output_type": "stream",
     "text": [
      "\n",
      " 84%|████████████████████████████████████████████████████████████████████             | 84/100 [43:59<08:18, 31.16s/it]\u001b[A"
     ]
    },
    {
     "name": "stdout",
     "output_type": "stream",
     "text": [
      "Test Statistic:  0.017997549591675654\n",
      "p-value:  0.00999000999000999\n",
      "(200, 20)\n",
      "(200,)\n",
      "Fitted\n"
     ]
    },
    {
     "name": "stderr",
     "output_type": "stream",
     "text": [
      "\n",
      " 85%|████████████████████████████████████████████████████████████████████▊            | 85/100 [44:31<07:49, 31.29s/it]\u001b[A"
     ]
    },
    {
     "name": "stdout",
     "output_type": "stream",
     "text": [
      "Test Statistic:  0.004444804346716569\n",
      "p-value:  1.0\n",
      "(200, 20)\n",
      "(200,)\n",
      "Fitted\n"
     ]
    },
    {
     "name": "stderr",
     "output_type": "stream",
     "text": [
      "\n",
      " 86%|█████████████████████████████████████████████████████████████████████▋           | 86/100 [45:02<07:18, 31.31s/it]\u001b[A"
     ]
    },
    {
     "name": "stdout",
     "output_type": "stream",
     "text": [
      "Test Statistic:  0.0059156863594928\n",
      "p-value:  0.998001998001998\n",
      "(200, 20)\n",
      "(200,)\n",
      "Fitted\n"
     ]
    },
    {
     "name": "stderr",
     "output_type": "stream",
     "text": [
      "\n",
      " 87%|██████████████████████████████████████████████████████████████████████▍          | 87/100 [45:33<06:44, 31.12s/it]\u001b[A"
     ]
    },
    {
     "name": "stdout",
     "output_type": "stream",
     "text": [
      "Test Statistic:  0.031497874333158205\n",
      "p-value:  0.001998001998001998\n",
      "(200, 20)\n",
      "(200,)\n",
      "Fitted\n"
     ]
    },
    {
     "name": "stderr",
     "output_type": "stream",
     "text": [
      "\n",
      " 88%|███████████████████████████████████████████████████████████████████████▎         | 88/100 [46:04<06:14, 31.17s/it]\u001b[A"
     ]
    },
    {
     "name": "stdout",
     "output_type": "stream",
     "text": [
      "Test Statistic:  0.008136532478140501\n",
      "p-value:  0.7702297702297702\n",
      "(200, 20)\n",
      "(200,)\n",
      "Fitted\n"
     ]
    },
    {
     "name": "stderr",
     "output_type": "stream",
     "text": [
      "\n",
      " 89%|████████████████████████████████████████████████████████████████████████         | 89/100 [46:34<05:39, 30.89s/it]\u001b[A"
     ]
    },
    {
     "name": "stdout",
     "output_type": "stream",
     "text": [
      "Test Statistic:  0.010871381607584385\n",
      "p-value:  0.3016983016983017\n",
      "(200, 20)\n",
      "(200,)\n",
      "Fitted\n"
     ]
    },
    {
     "name": "stderr",
     "output_type": "stream",
     "text": [
      "\n",
      " 90%|████████████████████████████████████████████████████████████████████████▉        | 90/100 [47:06<05:10, 31.01s/it]\u001b[A"
     ]
    },
    {
     "name": "stdout",
     "output_type": "stream",
     "text": [
      "Test Statistic:  0.010366935159471624\n",
      "p-value:  0.4245754245754246\n",
      "(200, 20)\n",
      "(200,)\n",
      "Fitted\n"
     ]
    },
    {
     "name": "stderr",
     "output_type": "stream",
     "text": [
      "\n",
      " 91%|█████████████████████████████████████████████████████████████████████████▋       | 91/100 [47:36<04:38, 30.92s/it]\u001b[A"
     ]
    },
    {
     "name": "stdout",
     "output_type": "stream",
     "text": [
      "Test Statistic:  0.014253305434172137\n",
      "p-value:  0.03896103896103896\n",
      "(200, 20)\n",
      "(200,)\n",
      "Fitted\n"
     ]
    },
    {
     "name": "stderr",
     "output_type": "stream",
     "text": [
      "\n",
      " 92%|██████████████████████████████████████████████████████████████████████████▌      | 92/100 [48:08<04:09, 31.16s/it]\u001b[A"
     ]
    },
    {
     "name": "stdout",
     "output_type": "stream",
     "text": [
      "Test Statistic:  0.015453254974148622\n",
      "p-value:  0.052947052947052944\n",
      "(200, 20)\n",
      "(200,)\n",
      "Fitted\n"
     ]
    },
    {
     "name": "stderr",
     "output_type": "stream",
     "text": [
      "\n",
      " 93%|███████████████████████████████████████████████████████████████████████████▎     | 93/100 [48:38<03:36, 30.95s/it]\u001b[A"
     ]
    },
    {
     "name": "stdout",
     "output_type": "stream",
     "text": [
      "Test Statistic:  0.005070055207191726\n",
      "p-value:  1.0\n",
      "(200, 20)\n",
      "(200,)\n",
      "Fitted\n"
     ]
    },
    {
     "name": "stderr",
     "output_type": "stream",
     "text": [
      "\n",
      " 94%|████████████████████████████████████████████████████████████████████████████▏    | 94/100 [49:13<03:11, 31.96s/it]\u001b[A"
     ]
    },
    {
     "name": "stdout",
     "output_type": "stream",
     "text": [
      "Test Statistic:  0.004616669039725907\n",
      "p-value:  1.0\n",
      "(200, 20)\n",
      "(200,)\n",
      "Fitted\n"
     ]
    },
    {
     "name": "stderr",
     "output_type": "stream",
     "text": [
      "\n",
      " 95%|████████████████████████████████████████████████████████████████████████████▉    | 95/100 [49:44<02:38, 31.64s/it]\u001b[A"
     ]
    },
    {
     "name": "stdout",
     "output_type": "stream",
     "text": [
      "Test Statistic:  0.002946096344171978\n",
      "p-value:  1.0\n",
      "(200, 20)\n",
      "(200,)\n",
      "Fitted\n"
     ]
    },
    {
     "name": "stderr",
     "output_type": "stream",
     "text": [
      "\n",
      " 96%|█████████████████████████████████████████████████████████████████████████████▊   | 96/100 [50:14<02:05, 31.36s/it]\u001b[A"
     ]
    },
    {
     "name": "stdout",
     "output_type": "stream",
     "text": [
      "Test Statistic:  0.009100184620528196\n",
      "p-value:  0.7392607392607392\n",
      "(200, 20)\n",
      "(200,)\n",
      "Fitted\n"
     ]
    },
    {
     "name": "stderr",
     "output_type": "stream",
     "text": [
      "\n",
      " 97%|██████████████████████████████████████████████████████████████████████████████▌  | 97/100 [50:45<01:33, 31.21s/it]\u001b[A"
     ]
    },
    {
     "name": "stdout",
     "output_type": "stream",
     "text": [
      "Test Statistic:  0.0036697343372007474\n",
      "p-value:  1.0\n",
      "(200, 20)\n",
      "(200,)\n",
      "Fitted\n"
     ]
    },
    {
     "name": "stderr",
     "output_type": "stream",
     "text": [
      "\n",
      " 98%|███████████████████████████████████████████████████████████████████████████████▍ | 98/100 [51:16<01:02, 31.17s/it]\u001b[A"
     ]
    },
    {
     "name": "stdout",
     "output_type": "stream",
     "text": [
      "Test Statistic:  0.008937506657148098\n",
      "p-value:  0.6123876123876124\n",
      "(200, 20)\n",
      "(200,)\n",
      "Fitted\n"
     ]
    },
    {
     "name": "stderr",
     "output_type": "stream",
     "text": [
      "\n",
      " 99%|████████████████████████████████████████████████████████████████████████████████▏| 99/100 [51:47<00:31, 31.02s/it]\u001b[A"
     ]
    },
    {
     "name": "stdout",
     "output_type": "stream",
     "text": [
      "Test Statistic:  0.0034513601995848076\n",
      "p-value:  1.0\n",
      "(200, 20)\n",
      "(200,)\n",
      "Fitted\n"
     ]
    },
    {
     "name": "stderr",
     "output_type": "stream",
     "text": [
      "\n",
      "100%|████████████████████████████████████████████████████████████████████████████████| 100/100 [52:18<00:00, 31.38s/it]\u001b[A\n",
      " 50%|██████████████████████████████████████                                      | 10/20 [8:46:35<8:44:56, 3149.68s/it]\n",
      "  0%|                                                                                          | 0/100 [00:00<?, ?it/s]\u001b[A"
     ]
    },
    {
     "name": "stdout",
     "output_type": "stream",
     "text": [
      "Test Statistic:  0.007220330287427856\n",
      "p-value:  0.9330669330669331\n",
      "dimension 11\n",
      "circle\n",
      "(200, 22)\n",
      "(200,)\n",
      "Fitted\n"
     ]
    },
    {
     "name": "stderr",
     "output_type": "stream",
     "text": [
      "\n",
      "  1%|▊                                                                                 | 1/100 [00:30<50:10, 30.41s/it]\u001b[A"
     ]
    },
    {
     "name": "stdout",
     "output_type": "stream",
     "text": [
      "Test Statistic:  0.003299410168915662\n",
      "p-value:  1.0\n",
      "(200, 22)\n",
      "(200,)\n",
      "Fitted\n"
     ]
    },
    {
     "name": "stderr",
     "output_type": "stream",
     "text": [
      "\n",
      "  2%|█▋                                                                                | 2/100 [01:01<50:02, 30.64s/it]\u001b[A"
     ]
    },
    {
     "name": "stdout",
     "output_type": "stream",
     "text": [
      "Test Statistic:  0.00865101260126211\n",
      "p-value:  0.6783216783216783\n",
      "(200, 22)\n",
      "(200,)\n",
      "Fitted\n"
     ]
    },
    {
     "name": "stderr",
     "output_type": "stream",
     "text": [
      "\n",
      "  3%|██▍                                                                               | 3/100 [01:32<49:26, 30.58s/it]\u001b[A"
     ]
    },
    {
     "name": "stdout",
     "output_type": "stream",
     "text": [
      "Test Statistic:  0.010542870494431034\n",
      "p-value:  0.3106893106893107\n",
      "(200, 22)\n",
      "(200,)\n",
      "Fitted\n"
     ]
    },
    {
     "name": "stderr",
     "output_type": "stream",
     "text": [
      "\n",
      "  4%|███▎                                                                              | 4/100 [02:02<49:06, 30.69s/it]\u001b[A"
     ]
    },
    {
     "name": "stdout",
     "output_type": "stream",
     "text": [
      "Test Statistic:  0.03317089131531614\n",
      "p-value:  0.000999000999000999\n",
      "(200, 22)\n",
      "(200,)\n",
      "Fitted\n"
     ]
    },
    {
     "name": "stderr",
     "output_type": "stream",
     "text": [
      "\n",
      "  5%|████                                                                              | 5/100 [02:33<48:26, 30.59s/it]\u001b[A"
     ]
    },
    {
     "name": "stdout",
     "output_type": "stream",
     "text": [
      "Test Statistic:  0.019832281381369277\n",
      "p-value:  0.006993006993006993\n",
      "(200, 22)\n",
      "(200,)\n",
      "Fitted\n"
     ]
    },
    {
     "name": "stderr",
     "output_type": "stream",
     "text": [
      "\n",
      "  6%|████▉                                                                             | 6/100 [03:03<47:50, 30.54s/it]\u001b[A"
     ]
    },
    {
     "name": "stdout",
     "output_type": "stream",
     "text": [
      "Test Statistic:  0.0044030738704926575\n",
      "p-value:  1.0\n",
      "(200, 22)\n",
      "(200,)\n",
      "Fitted\n"
     ]
    },
    {
     "name": "stderr",
     "output_type": "stream",
     "text": [
      "\n",
      "  7%|█████▋                                                                            | 7/100 [03:35<47:41, 30.76s/it]\u001b[A"
     ]
    },
    {
     "name": "stdout",
     "output_type": "stream",
     "text": [
      "Test Statistic:  0.005861801281781931\n",
      "p-value:  0.999000999000999\n",
      "(200, 22)\n",
      "(200,)\n",
      "Fitted\n"
     ]
    },
    {
     "name": "stderr",
     "output_type": "stream",
     "text": [
      "\n",
      "  8%|██████▌                                                                           | 8/100 [04:07<47:45, 31.15s/it]\u001b[A"
     ]
    },
    {
     "name": "stdout",
     "output_type": "stream",
     "text": [
      "Test Statistic:  0.0054570837476566325\n",
      "p-value:  0.999000999000999\n",
      "(200, 22)\n",
      "(200,)\n",
      "Fitted\n"
     ]
    },
    {
     "name": "stderr",
     "output_type": "stream",
     "text": [
      "\n",
      "  9%|███████▍                                                                          | 9/100 [04:38<47:17, 31.18s/it]\u001b[A"
     ]
    },
    {
     "name": "stdout",
     "output_type": "stream",
     "text": [
      "Test Statistic:  0.008047469280440755\n",
      "p-value:  0.7302697302697303\n",
      "(200, 22)\n",
      "(200,)\n",
      "Fitted\n"
     ]
    },
    {
     "name": "stderr",
     "output_type": "stream",
     "text": [
      "\n",
      " 10%|████████                                                                         | 10/100 [05:09<46:53, 31.26s/it]\u001b[A"
     ]
    },
    {
     "name": "stdout",
     "output_type": "stream",
     "text": [
      "Test Statistic:  0.015441690732933888\n",
      "p-value:  0.058941058941058944\n",
      "(200, 22)\n",
      "(200,)\n",
      "Fitted\n"
     ]
    },
    {
     "name": "stderr",
     "output_type": "stream",
     "text": [
      "\n",
      " 11%|████████▉                                                                        | 11/100 [05:41<46:32, 31.37s/it]\u001b[A"
     ]
    },
    {
     "name": "stdout",
     "output_type": "stream",
     "text": [
      "Test Statistic:  0.0035521225630517073\n",
      "p-value:  1.0\n",
      "(200, 22)\n",
      "(200,)\n",
      "Fitted\n"
     ]
    },
    {
     "name": "stderr",
     "output_type": "stream",
     "text": [
      "\n",
      " 12%|█████████▋                                                                       | 12/100 [06:40<58:05, 39.60s/it]\u001b[A"
     ]
    },
    {
     "name": "stdout",
     "output_type": "stream",
     "text": [
      "Test Statistic:  0.01158198130529009\n",
      "p-value:  0.15984015984015984\n",
      "(200, 22)\n",
      "(200,)\n",
      "Fitted\n"
     ]
    },
    {
     "name": "stderr",
     "output_type": "stream",
     "text": [
      "\n",
      " 13%|██████████▎                                                                    | 13/100 [08:00<1:14:57, 51.69s/it]\u001b[A"
     ]
    },
    {
     "name": "stdout",
     "output_type": "stream",
     "text": [
      "Test Statistic:  0.002928726048555874\n",
      "p-value:  1.0\n",
      "(200, 22)\n",
      "(200,)\n",
      "Fitted\n"
     ]
    },
    {
     "name": "stderr",
     "output_type": "stream",
     "text": [
      "\n",
      " 14%|███████████                                                                    | 14/100 [09:06<1:20:32, 56.19s/it]\u001b[A"
     ]
    },
    {
     "name": "stdout",
     "output_type": "stream",
     "text": [
      "Test Statistic:  0.003661928180199503\n",
      "p-value:  1.0\n",
      "(200, 22)\n",
      "(200,)\n",
      "Fitted\n"
     ]
    },
    {
     "name": "stderr",
     "output_type": "stream",
     "text": [
      "\n",
      " 15%|███████████▊                                                                   | 15/100 [10:48<1:38:54, 69.81s/it]\u001b[A"
     ]
    },
    {
     "name": "stdout",
     "output_type": "stream",
     "text": [
      "Test Statistic:  0.02105264013880359\n",
      "p-value:  0.003996003996003996\n",
      "(200, 22)\n",
      "(200,)\n",
      "Fitted\n"
     ]
    },
    {
     "name": "stderr",
     "output_type": "stream",
     "text": [
      "\n",
      " 16%|████████████▋                                                                  | 16/100 [13:04<2:05:43, 89.80s/it]\u001b[A"
     ]
    },
    {
     "name": "stdout",
     "output_type": "stream",
     "text": [
      "Test Statistic:  0.012022166941219159\n",
      "p-value:  0.19880119880119881\n",
      "(200, 22)\n",
      "(200,)\n",
      "Fitted\n"
     ]
    },
    {
     "name": "stderr",
     "output_type": "stream",
     "text": [
      "\n",
      " 17%|█████████████▍                                                                 | 17/100 [14:23<1:59:25, 86.33s/it]\u001b[A"
     ]
    },
    {
     "name": "stdout",
     "output_type": "stream",
     "text": [
      "Test Statistic:  0.0031745297654039994\n",
      "p-value:  1.0\n",
      "(200, 22)\n",
      "(200,)\n",
      "Fitted\n"
     ]
    },
    {
     "name": "stderr",
     "output_type": "stream",
     "text": [
      "\n",
      " 18%|██████████████▏                                                                | 18/100 [15:51<1:58:38, 86.82s/it]\u001b[A"
     ]
    },
    {
     "name": "stdout",
     "output_type": "stream",
     "text": [
      "Test Statistic:  0.0059592355420270415\n",
      "p-value:  0.977022977022977\n",
      "(200, 22)\n",
      "(200,)\n",
      "Fitted\n"
     ]
    },
    {
     "name": "stderr",
     "output_type": "stream",
     "text": [
      "\n",
      " 19%|███████████████                                                                | 19/100 [16:59<1:49:41, 81.25s/it]\u001b[A"
     ]
    },
    {
     "name": "stdout",
     "output_type": "stream",
     "text": [
      "Test Statistic:  0.00940392266868384\n",
      "p-value:  0.6253746253746254\n",
      "(200, 22)\n",
      "(200,)\n",
      "Fitted\n"
     ]
    },
    {
     "name": "stderr",
     "output_type": "stream",
     "text": [
      "\n",
      " 20%|███████████████▊                                                               | 20/100 [18:07<1:43:09, 77.36s/it]\u001b[A"
     ]
    },
    {
     "name": "stdout",
     "output_type": "stream",
     "text": [
      "Test Statistic:  0.008022686358534648\n",
      "p-value:  0.7982017982017982\n",
      "(200, 22)\n",
      "(200,)\n",
      "Fitted\n"
     ]
    },
    {
     "name": "stderr",
     "output_type": "stream",
     "text": [
      "\n",
      " 21%|████████████████▌                                                              | 21/100 [19:49<1:51:43, 84.85s/it]\u001b[A"
     ]
    },
    {
     "name": "stdout",
     "output_type": "stream",
     "text": [
      "Test Statistic:  0.04480855539189299\n",
      "p-value:  0.000999000999000999\n",
      "(200, 22)\n",
      "(200,)\n",
      "Fitted\n"
     ]
    },
    {
     "name": "stderr",
     "output_type": "stream",
     "text": [
      "\n",
      " 22%|█████████████████▍                                                             | 22/100 [20:55<1:42:45, 79.05s/it]\u001b[A"
     ]
    },
    {
     "name": "stdout",
     "output_type": "stream",
     "text": [
      "Test Statistic:  0.0071244866644902816\n",
      "p-value:  0.952047952047952\n",
      "(200, 22)\n",
      "(200,)\n",
      "Fitted\n"
     ]
    },
    {
     "name": "stderr",
     "output_type": "stream",
     "text": [
      "\n",
      " 23%|██████████████████▏                                                            | 23/100 [22:08<1:39:11, 77.29s/it]\u001b[A"
     ]
    },
    {
     "name": "stdout",
     "output_type": "stream",
     "text": [
      "Test Statistic:  0.013607593032860965\n",
      "p-value:  0.053946053946053944\n",
      "(200, 22)\n",
      "(200,)\n",
      "Fitted\n"
     ]
    },
    {
     "name": "stderr",
     "output_type": "stream",
     "text": [
      "\n",
      " 24%|██████████████████▉                                                            | 24/100 [23:21<1:36:03, 75.83s/it]\u001b[A"
     ]
    },
    {
     "name": "stdout",
     "output_type": "stream",
     "text": [
      "Test Statistic:  0.026444628561138273\n",
      "p-value:  0.002997002997002997\n",
      "(200, 22)\n",
      "(200,)\n",
      "Fitted\n"
     ]
    },
    {
     "name": "stderr",
     "output_type": "stream",
     "text": [
      "\n",
      " 25%|███████████████████▊                                                           | 25/100 [24:13<1:25:58, 68.79s/it]\u001b[A"
     ]
    },
    {
     "name": "stdout",
     "output_type": "stream",
     "text": [
      "Test Statistic:  0.008050607555488032\n",
      "p-value:  0.8311688311688312\n",
      "(200, 22)\n",
      "(200,)\n",
      "Fitted\n"
     ]
    },
    {
     "name": "stderr",
     "output_type": "stream",
     "text": [
      "\n",
      " 26%|████████████████████▌                                                          | 26/100 [24:53<1:14:17, 60.24s/it]\u001b[A"
     ]
    },
    {
     "name": "stdout",
     "output_type": "stream",
     "text": [
      "Test Statistic:  0.006458207872009458\n",
      "p-value:  0.997002997002997\n",
      "(200, 22)\n",
      "(200,)\n",
      "Fitted\n"
     ]
    },
    {
     "name": "stderr",
     "output_type": "stream",
     "text": [
      "\n",
      " 27%|█████████████████████▎                                                         | 27/100 [25:30<1:04:40, 53.15s/it]\u001b[A"
     ]
    },
    {
     "name": "stdout",
     "output_type": "stream",
     "text": [
      "Test Statistic:  0.0032660971395657157\n",
      "p-value:  1.0\n",
      "(200, 22)\n",
      "(200,)\n",
      "Fitted\n"
     ]
    },
    {
     "name": "stderr",
     "output_type": "stream",
     "text": [
      "\n",
      " 28%|██████████████████████▋                                                          | 28/100 [26:09<58:37, 48.85s/it]\u001b[A"
     ]
    },
    {
     "name": "stdout",
     "output_type": "stream",
     "text": [
      "Test Statistic:  0.010138229265159615\n",
      "p-value:  0.32867132867132864\n",
      "(200, 22)\n",
      "(200,)\n",
      "Fitted\n"
     ]
    },
    {
     "name": "stderr",
     "output_type": "stream",
     "text": [
      "\n",
      " 29%|███████████████████████▍                                                         | 29/100 [26:47<53:58, 45.62s/it]\u001b[A"
     ]
    },
    {
     "name": "stdout",
     "output_type": "stream",
     "text": [
      "Test Statistic:  0.006787162805402147\n",
      "p-value:  0.991008991008991\n",
      "(200, 22)\n",
      "(200,)\n",
      "Fitted\n"
     ]
    },
    {
     "name": "stderr",
     "output_type": "stream",
     "text": [
      "\n",
      " 30%|████████████████████████▎                                                        | 30/100 [27:27<51:22, 44.04s/it]\u001b[A"
     ]
    },
    {
     "name": "stdout",
     "output_type": "stream",
     "text": [
      "Test Statistic:  0.0037530042323704604\n",
      "p-value:  1.0\n",
      "(200, 22)\n",
      "(200,)\n",
      "Fitted\n"
     ]
    },
    {
     "name": "stderr",
     "output_type": "stream",
     "text": [
      "\n",
      " 31%|█████████████████████████                                                        | 31/100 [28:02<47:39, 41.45s/it]\u001b[A"
     ]
    },
    {
     "name": "stdout",
     "output_type": "stream",
     "text": [
      "Test Statistic:  0.011369194102466285\n",
      "p-value:  0.22577422577422576\n",
      "(200, 22)\n",
      "(200,)\n",
      "Fitted\n"
     ]
    },
    {
     "name": "stderr",
     "output_type": "stream",
     "text": [
      "\n",
      " 32%|█████████████████████████▉                                                       | 32/100 [28:42<46:13, 40.79s/it]\u001b[A"
     ]
    },
    {
     "name": "stdout",
     "output_type": "stream",
     "text": [
      "Test Statistic:  0.023927421889533784\n",
      "p-value:  0.001998001998001998\n",
      "(200, 22)\n",
      "(200,)\n",
      "Fitted\n"
     ]
    },
    {
     "name": "stderr",
     "output_type": "stream",
     "text": [
      "\n",
      " 33%|██████████████████████████▋                                                      | 33/100 [29:20<44:37, 39.96s/it]\u001b[A"
     ]
    },
    {
     "name": "stdout",
     "output_type": "stream",
     "text": [
      "Test Statistic:  0.017991618043713076\n",
      "p-value:  0.011988011988011988\n",
      "(200, 22)\n",
      "(200,)\n",
      "Fitted\n"
     ]
    },
    {
     "name": "stderr",
     "output_type": "stream",
     "text": [
      "\n",
      " 34%|███████████████████████████▌                                                     | 34/100 [30:00<44:10, 40.16s/it]\u001b[A"
     ]
    },
    {
     "name": "stdout",
     "output_type": "stream",
     "text": [
      "Test Statistic:  0.010883281172629045\n",
      "p-value:  0.24775224775224775\n",
      "(200, 22)\n",
      "(200,)\n",
      "Fitted\n"
     ]
    },
    {
     "name": "stderr",
     "output_type": "stream",
     "text": [
      "\n",
      " 35%|████████████████████████████▎                                                    | 35/100 [30:38<42:48, 39.52s/it]\u001b[A"
     ]
    },
    {
     "name": "stdout",
     "output_type": "stream",
     "text": [
      "Test Statistic:  0.0024835887254519573\n",
      "p-value:  1.0\n",
      "(200, 22)\n",
      "(200,)\n",
      "Fitted\n"
     ]
    },
    {
     "name": "stderr",
     "output_type": "stream",
     "text": [
      "\n",
      " 36%|█████████████████████████████▏                                                   | 36/100 [31:16<41:31, 38.93s/it]\u001b[A"
     ]
    },
    {
     "name": "stdout",
     "output_type": "stream",
     "text": [
      "Test Statistic:  0.024907780380963196\n",
      "p-value:  0.001998001998001998\n",
      "(200, 22)\n",
      "(200,)\n",
      "Fitted\n"
     ]
    },
    {
     "name": "stderr",
     "output_type": "stream",
     "text": [
      "\n",
      " 37%|█████████████████████████████▉                                                   | 37/100 [31:54<40:33, 38.63s/it]\u001b[A"
     ]
    },
    {
     "name": "stdout",
     "output_type": "stream",
     "text": [
      "Test Statistic:  0.02119656351860788\n",
      "p-value:  0.004995004995004995\n",
      "(200, 22)\n",
      "(200,)\n",
      "Fitted\n"
     ]
    },
    {
     "name": "stderr",
     "output_type": "stream",
     "text": [
      "\n",
      " 38%|██████████████████████████████▊                                                  | 38/100 [32:32<39:40, 38.40s/it]\u001b[A"
     ]
    },
    {
     "name": "stdout",
     "output_type": "stream",
     "text": [
      "Test Statistic:  0.00600246560652673\n",
      "p-value:  0.995004995004995\n",
      "(200, 22)\n",
      "(200,)\n",
      "Fitted\n"
     ]
    },
    {
     "name": "stderr",
     "output_type": "stream",
     "text": [
      "\n",
      " 39%|███████████████████████████████▌                                                 | 39/100 [33:09<38:49, 38.19s/it]\u001b[A"
     ]
    },
    {
     "name": "stdout",
     "output_type": "stream",
     "text": [
      "Test Statistic:  0.002723672838523483\n",
      "p-value:  1.0\n",
      "(200, 22)\n",
      "(200,)\n",
      "Fitted\n"
     ]
    },
    {
     "name": "stderr",
     "output_type": "stream",
     "text": [
      "\n",
      " 40%|████████████████████████████████▍                                                | 40/100 [33:46<37:47, 37.79s/it]\u001b[A"
     ]
    },
    {
     "name": "stdout",
     "output_type": "stream",
     "text": [
      "Test Statistic:  0.003068132261863976\n",
      "p-value:  1.0\n",
      "(200, 22)\n",
      "(200,)\n",
      "Fitted\n"
     ]
    },
    {
     "name": "stderr",
     "output_type": "stream",
     "text": [
      "\n",
      " 41%|█████████████████████████████████▏                                               | 41/100 [34:23<36:47, 37.42s/it]\u001b[A"
     ]
    },
    {
     "name": "stdout",
     "output_type": "stream",
     "text": [
      "Test Statistic:  0.01629533572102404\n",
      "p-value:  0.03196803196803197\n",
      "(200, 22)\n",
      "(200,)\n",
      "Fitted\n"
     ]
    },
    {
     "name": "stderr",
     "output_type": "stream",
     "text": [
      "\n",
      " 42%|██████████████████████████████████                                               | 42/100 [35:00<36:05, 37.34s/it]\u001b[A"
     ]
    },
    {
     "name": "stdout",
     "output_type": "stream",
     "text": [
      "Test Statistic:  0.005409955902511365\n",
      "p-value:  1.0\n",
      "(200, 22)\n",
      "(200,)\n",
      "Fitted\n"
     ]
    },
    {
     "name": "stderr",
     "output_type": "stream",
     "text": [
      "\n",
      " 43%|██████████████████████████████████▊                                              | 43/100 [35:36<35:12, 37.07s/it]\u001b[A"
     ]
    },
    {
     "name": "stdout",
     "output_type": "stream",
     "text": [
      "Test Statistic:  0.004732064501087763\n",
      "p-value:  1.0\n",
      "(200, 22)\n",
      "(200,)\n",
      "Fitted\n"
     ]
    },
    {
     "name": "stderr",
     "output_type": "stream",
     "text": [
      "\n",
      " 44%|███████████████████████████████████▋                                             | 44/100 [36:14<34:39, 37.14s/it]\u001b[A"
     ]
    },
    {
     "name": "stdout",
     "output_type": "stream",
     "text": [
      "Test Statistic:  0.003911849731755068\n",
      "p-value:  1.0\n",
      "(200, 22)\n",
      "(200,)\n",
      "Fitted\n"
     ]
    },
    {
     "name": "stderr",
     "output_type": "stream",
     "text": [
      "\n",
      " 45%|████████████████████████████████████▍                                            | 45/100 [36:59<36:16, 39.57s/it]\u001b[A"
     ]
    },
    {
     "name": "stdout",
     "output_type": "stream",
     "text": [
      "Test Statistic:  0.005745723826951377\n",
      "p-value:  0.999000999000999\n",
      "(200, 22)\n",
      "(200,)\n",
      "Fitted\n"
     ]
    },
    {
     "name": "stderr",
     "output_type": "stream",
     "text": [
      "\n",
      " 46%|█████████████████████████████████████▎                                           | 46/100 [37:41<36:17, 40.32s/it]\u001b[A"
     ]
    },
    {
     "name": "stdout",
     "output_type": "stream",
     "text": [
      "Test Statistic:  0.002786598443896504\n",
      "p-value:  1.0\n",
      "(200, 22)\n",
      "(200,)\n",
      "Fitted\n"
     ]
    },
    {
     "name": "stderr",
     "output_type": "stream",
     "text": [
      "\n",
      " 47%|██████████████████████████████████████                                           | 47/100 [38:18<34:40, 39.26s/it]\u001b[A"
     ]
    },
    {
     "name": "stdout",
     "output_type": "stream",
     "text": [
      "Test Statistic:  0.0056229207550213545\n",
      "p-value:  1.0\n",
      "(200, 22)\n",
      "(200,)\n",
      "Fitted\n"
     ]
    },
    {
     "name": "stderr",
     "output_type": "stream",
     "text": [
      "\n",
      " 48%|██████████████████████████████████████▉                                          | 48/100 [38:54<33:14, 38.36s/it]\u001b[A"
     ]
    },
    {
     "name": "stdout",
     "output_type": "stream",
     "text": [
      "Test Statistic:  0.007938923141835308\n",
      "p-value:  0.7422577422577422\n",
      "(200, 22)\n",
      "(200,)\n",
      "Fitted\n"
     ]
    },
    {
     "name": "stderr",
     "output_type": "stream",
     "text": [
      "\n",
      " 49%|███████████████████████████████████████▋                                         | 49/100 [39:31<32:15, 37.95s/it]\u001b[A"
     ]
    },
    {
     "name": "stdout",
     "output_type": "stream",
     "text": [
      "Test Statistic:  0.0026521620555919334\n",
      "p-value:  1.0\n",
      "(200, 22)\n",
      "(200,)\n",
      "Fitted\n"
     ]
    },
    {
     "name": "stderr",
     "output_type": "stream",
     "text": [
      "\n",
      " 50%|████████████████████████████████████████▌                                        | 50/100 [40:08<31:23, 37.68s/it]\u001b[A"
     ]
    },
    {
     "name": "stdout",
     "output_type": "stream",
     "text": [
      "Test Statistic:  0.010378028877597534\n",
      "p-value:  0.3166833166833167\n",
      "(200, 22)\n",
      "(200,)\n",
      "Fitted\n"
     ]
    },
    {
     "name": "stderr",
     "output_type": "stream",
     "text": [
      "\n",
      " 51%|█████████████████████████████████████████▎                                       | 51/100 [40:46<30:51, 37.79s/it]\u001b[A"
     ]
    },
    {
     "name": "stdout",
     "output_type": "stream",
     "text": [
      "Test Statistic:  0.006084365854034601\n",
      "p-value:  0.998001998001998\n",
      "(200, 22)\n",
      "(200,)\n",
      "Fitted\n"
     ]
    },
    {
     "name": "stderr",
     "output_type": "stream",
     "text": [
      "\n",
      " 52%|██████████████████████████████████████████                                       | 52/100 [41:22<29:51, 37.33s/it]\u001b[A"
     ]
    },
    {
     "name": "stdout",
     "output_type": "stream",
     "text": [
      "Test Statistic:  0.018196006219222127\n",
      "p-value:  0.016983016983016984\n",
      "(200, 22)\n",
      "(200,)\n",
      "Fitted\n"
     ]
    },
    {
     "name": "stderr",
     "output_type": "stream",
     "text": [
      "\n",
      " 53%|██████████████████████████████████████████▉                                      | 53/100 [41:59<29:00, 37.03s/it]\u001b[A"
     ]
    },
    {
     "name": "stdout",
     "output_type": "stream",
     "text": [
      "Test Statistic:  0.010765002372069232\n",
      "p-value:  0.2977022977022977\n",
      "(200, 22)\n",
      "(200,)\n",
      "Fitted\n"
     ]
    },
    {
     "name": "stderr",
     "output_type": "stream",
     "text": [
      "\n",
      " 54%|███████████████████████████████████████████▋                                     | 54/100 [42:37<28:44, 37.48s/it]\u001b[A"
     ]
    },
    {
     "name": "stdout",
     "output_type": "stream",
     "text": [
      "Test Statistic:  0.010892018556961425\n",
      "p-value:  0.2077922077922078\n",
      "(200, 22)\n",
      "(200,)\n",
      "Fitted\n"
     ]
    },
    {
     "name": "stderr",
     "output_type": "stream",
     "text": [
      "\n",
      " 55%|████████████████████████████████████████████▌                                    | 55/100 [43:14<27:50, 37.12s/it]\u001b[A"
     ]
    },
    {
     "name": "stdout",
     "output_type": "stream",
     "text": [
      "Test Statistic:  0.007750437518096898\n",
      "p-value:  0.8851148851148851\n",
      "(200, 22)\n",
      "(200,)\n",
      "Fitted\n"
     ]
    },
    {
     "name": "stderr",
     "output_type": "stream",
     "text": [
      "\n",
      " 56%|█████████████████████████████████████████████▎                                   | 56/100 [43:50<27:09, 37.04s/it]\u001b[A"
     ]
    },
    {
     "name": "stdout",
     "output_type": "stream",
     "text": [
      "Test Statistic:  0.0027377411716201783\n",
      "p-value:  1.0\n",
      "(200, 22)\n",
      "(200,)\n",
      "Fitted\n"
     ]
    },
    {
     "name": "stderr",
     "output_type": "stream",
     "text": [
      "\n",
      " 57%|██████████████████████████████████████████████▏                                  | 57/100 [44:27<26:32, 37.03s/it]\u001b[A"
     ]
    },
    {
     "name": "stdout",
     "output_type": "stream",
     "text": [
      "Test Statistic:  0.0048916374141411145\n",
      "p-value:  1.0\n",
      "(200, 22)\n",
      "(200,)\n",
      "Fitted\n"
     ]
    },
    {
     "name": "stderr",
     "output_type": "stream",
     "text": [
      "\n",
      " 58%|██████████████████████████████████████████████▉                                  | 58/100 [45:05<25:55, 37.04s/it]\u001b[A"
     ]
    },
    {
     "name": "stdout",
     "output_type": "stream",
     "text": [
      "Test Statistic:  0.007741266407495395\n",
      "p-value:  0.8221778221778222\n",
      "(200, 22)\n",
      "(200,)\n",
      "Fitted\n"
     ]
    },
    {
     "name": "stderr",
     "output_type": "stream",
     "text": [
      "\n",
      " 59%|███████████████████████████████████████████████▊                                 | 59/100 [45:41<25:14, 36.93s/it]\u001b[A"
     ]
    },
    {
     "name": "stdout",
     "output_type": "stream",
     "text": [
      "Test Statistic:  0.005623119479718497\n",
      "p-value:  1.0\n",
      "(200, 22)\n",
      "(200,)\n",
      "Fitted\n"
     ]
    },
    {
     "name": "stderr",
     "output_type": "stream",
     "text": [
      "\n",
      " 60%|████████████████████████████████████████████████▌                                | 60/100 [46:18<24:34, 36.86s/it]\u001b[A"
     ]
    },
    {
     "name": "stdout",
     "output_type": "stream",
     "text": [
      "Test Statistic:  0.04410898829887899\n",
      "p-value:  0.000999000999000999\n",
      "(200, 22)\n",
      "(200,)\n",
      "Fitted\n"
     ]
    },
    {
     "name": "stderr",
     "output_type": "stream",
     "text": [
      "\n",
      " 61%|█████████████████████████████████████████████████▍                               | 61/100 [47:00<25:01, 38.50s/it]\u001b[A"
     ]
    },
    {
     "name": "stdout",
     "output_type": "stream",
     "text": [
      "Test Statistic:  0.01654823162916097\n",
      "p-value:  0.016983016983016984\n",
      "(200, 22)\n",
      "(200,)\n",
      "Fitted\n"
     ]
    },
    {
     "name": "stderr",
     "output_type": "stream",
     "text": [
      "\n",
      " 62%|██████████████████████████████████████████████████▏                              | 62/100 [47:37<24:06, 38.05s/it]\u001b[A"
     ]
    },
    {
     "name": "stdout",
     "output_type": "stream",
     "text": [
      "Test Statistic:  0.035668923173351685\n",
      "p-value:  0.000999000999000999\n",
      "(200, 22)\n",
      "(200,)\n",
      "Fitted\n"
     ]
    },
    {
     "name": "stderr",
     "output_type": "stream",
     "text": [
      "\n",
      " 63%|███████████████████████████████████████████████████                              | 63/100 [48:15<23:19, 37.84s/it]\u001b[A"
     ]
    },
    {
     "name": "stdout",
     "output_type": "stream",
     "text": [
      "Test Statistic:  0.0032094542945328985\n",
      "p-value:  1.0\n",
      "(200, 22)\n",
      "(200,)\n",
      "Fitted\n"
     ]
    },
    {
     "name": "stderr",
     "output_type": "stream",
     "text": [
      "\n",
      " 64%|███████████████████████████████████████████████████▊                             | 64/100 [48:52<22:35, 37.64s/it]\u001b[A"
     ]
    },
    {
     "name": "stdout",
     "output_type": "stream",
     "text": [
      "Test Statistic:  0.012137759555146843\n",
      "p-value:  0.1928071928071928\n",
      "(200, 22)\n",
      "(200,)\n",
      "Fitted\n"
     ]
    },
    {
     "name": "stderr",
     "output_type": "stream",
     "text": [
      "\n",
      " 65%|████████████████████████████████████████████████████▋                            | 65/100 [49:29<21:54, 37.56s/it]\u001b[A"
     ]
    },
    {
     "name": "stdout",
     "output_type": "stream",
     "text": [
      "Test Statistic:  0.01734937286887861\n",
      "p-value:  0.01898101898101898\n",
      "(200, 22)\n",
      "(200,)\n",
      "Fitted\n"
     ]
    },
    {
     "name": "stderr",
     "output_type": "stream",
     "text": [
      "\n",
      " 66%|█████████████████████████████████████████████████████▍                           | 66/100 [50:06<21:12, 37.44s/it]\u001b[A"
     ]
    },
    {
     "name": "stdout",
     "output_type": "stream",
     "text": [
      "Test Statistic:  0.006575618445818998\n",
      "p-value:  0.996003996003996\n",
      "(200, 22)\n",
      "(200,)\n",
      "Fitted\n"
     ]
    },
    {
     "name": "stderr",
     "output_type": "stream",
     "text": [
      "\n",
      " 67%|██████████████████████████████████████████████████████▎                          | 67/100 [50:44<20:35, 37.43s/it]\u001b[A"
     ]
    },
    {
     "name": "stdout",
     "output_type": "stream",
     "text": [
      "Test Statistic:  0.005000738418797779\n",
      "p-value:  1.0\n",
      "(200, 22)\n",
      "(200,)\n",
      "Fitted\n"
     ]
    },
    {
     "name": "stderr",
     "output_type": "stream",
     "text": [
      "\n",
      " 68%|███████████████████████████████████████████████████████                          | 68/100 [51:22<20:02, 37.57s/it]\u001b[A"
     ]
    },
    {
     "name": "stdout",
     "output_type": "stream",
     "text": [
      "Test Statistic:  0.007397374896743414\n",
      "p-value:  0.8511488511488512\n",
      "(200, 22)\n",
      "(200,)\n",
      "Fitted\n"
     ]
    },
    {
     "name": "stderr",
     "output_type": "stream",
     "text": [
      "\n",
      " 69%|███████████████████████████████████████████████████████▉                         | 69/100 [52:02<19:50, 38.41s/it]\u001b[A"
     ]
    },
    {
     "name": "stdout",
     "output_type": "stream",
     "text": [
      "Test Statistic:  0.00372672565501575\n",
      "p-value:  1.0\n",
      "(200, 22)\n",
      "(200,)\n",
      "Fitted\n"
     ]
    },
    {
     "name": "stderr",
     "output_type": "stream",
     "text": [
      "\n",
      " 70%|████████████████████████████████████████████████████████▋                        | 70/100 [52:40<19:08, 38.27s/it]\u001b[A"
     ]
    },
    {
     "name": "stdout",
     "output_type": "stream",
     "text": [
      "Test Statistic:  0.006957487758880498\n",
      "p-value:  0.9920079920079921\n",
      "(200, 22)\n",
      "(200,)\n",
      "Fitted\n"
     ]
    },
    {
     "name": "stderr",
     "output_type": "stream",
     "text": [
      "\n",
      " 71%|█████████████████████████████████████████████████████████▌                       | 71/100 [53:17<18:23, 38.04s/it]\u001b[A"
     ]
    },
    {
     "name": "stdout",
     "output_type": "stream",
     "text": [
      "Test Statistic:  0.005680728994461037\n",
      "p-value:  1.0\n",
      "(200, 22)\n",
      "(200,)\n",
      "Fitted\n"
     ]
    },
    {
     "name": "stderr",
     "output_type": "stream",
     "text": [
      "\n",
      " 72%|██████████████████████████████████████████████████████████▎                      | 72/100 [53:56<17:47, 38.11s/it]\u001b[A"
     ]
    },
    {
     "name": "stdout",
     "output_type": "stream",
     "text": [
      "Test Statistic:  0.011712460783292467\n",
      "p-value:  0.15984015984015984\n",
      "(200, 22)\n",
      "(200,)\n",
      "Fitted\n"
     ]
    },
    {
     "name": "stderr",
     "output_type": "stream",
     "text": [
      "\n",
      " 73%|███████████████████████████████████████████████████████████▏                     | 73/100 [54:33<17:01, 37.85s/it]\u001b[A"
     ]
    },
    {
     "name": "stdout",
     "output_type": "stream",
     "text": [
      "Test Statistic:  0.013938067444753566\n",
      "p-value:  0.0999000999000999\n",
      "(200, 22)\n",
      "(200,)\n",
      "Fitted\n"
     ]
    },
    {
     "name": "stderr",
     "output_type": "stream",
     "text": [
      "\n",
      " 74%|███████████████████████████████████████████████████████████▉                     | 74/100 [55:11<16:22, 37.77s/it]\u001b[A"
     ]
    },
    {
     "name": "stdout",
     "output_type": "stream",
     "text": [
      "Test Statistic:  0.007587037469725\n",
      "p-value:  0.8641358641358642\n",
      "(200, 22)\n",
      "(200,)\n",
      "Fitted\n"
     ]
    },
    {
     "name": "stderr",
     "output_type": "stream",
     "text": [
      "\n",
      " 75%|████████████████████████████████████████████████████████████▊                    | 75/100 [55:48<15:44, 37.79s/it]\u001b[A"
     ]
    },
    {
     "name": "stdout",
     "output_type": "stream",
     "text": [
      "Test Statistic:  0.013613188772419349\n",
      "p-value:  0.1068931068931069\n",
      "(200, 22)\n",
      "(200,)\n",
      "Fitted\n"
     ]
    },
    {
     "name": "stderr",
     "output_type": "stream",
     "text": [
      "\n",
      " 76%|█████████████████████████████████████████████████████████████▌                   | 76/100 [56:26<15:03, 37.67s/it]\u001b[A"
     ]
    },
    {
     "name": "stdout",
     "output_type": "stream",
     "text": [
      "Test Statistic:  0.007361693455911422\n",
      "p-value:  0.9330669330669331\n",
      "(200, 22)\n",
      "(200,)\n",
      "Fitted\n"
     ]
    },
    {
     "name": "stderr",
     "output_type": "stream",
     "text": [
      "\n",
      " 77%|██████████████████████████████████████████████████████████████▎                  | 77/100 [57:08<15:00, 39.14s/it]\u001b[A"
     ]
    },
    {
     "name": "stdout",
     "output_type": "stream",
     "text": [
      "Test Statistic:  0.004963265452788579\n",
      "p-value:  1.0\n",
      "(200, 22)\n",
      "(200,)\n",
      "Fitted\n"
     ]
    },
    {
     "name": "stderr",
     "output_type": "stream",
     "text": [
      "\n",
      " 78%|███████████████████████████████████████████████████████████████▏                 | 78/100 [57:46<14:09, 38.62s/it]\u001b[A"
     ]
    },
    {
     "name": "stdout",
     "output_type": "stream",
     "text": [
      "Test Statistic:  0.0037059975925683997\n",
      "p-value:  1.0\n",
      "(200, 22)\n",
      "(200,)\n",
      "Fitted\n"
     ]
    },
    {
     "name": "stderr",
     "output_type": "stream",
     "text": [
      "\n",
      " 79%|███████████████████████████████████████████████████████████████▉                 | 79/100 [58:27<13:47, 39.42s/it]\u001b[A"
     ]
    },
    {
     "name": "stdout",
     "output_type": "stream",
     "text": [
      "Test Statistic:  0.010397949696726916\n",
      "p-value:  0.34065934065934067\n",
      "(200, 22)\n",
      "(200,)\n",
      "Fitted\n"
     ]
    },
    {
     "name": "stderr",
     "output_type": "stream",
     "text": [
      "\n",
      " 80%|████████████████████████████████████████████████████████████████▊                | 80/100 [58:57<12:12, 36.63s/it]\u001b[A"
     ]
    },
    {
     "name": "stdout",
     "output_type": "stream",
     "text": [
      "Test Statistic:  0.009009874906349524\n",
      "p-value:  0.6763236763236763\n",
      "(200, 22)\n",
      "(200,)\n",
      "Fitted\n"
     ]
    },
    {
     "name": "stderr",
     "output_type": "stream",
     "text": [
      "\n",
      " 81%|█████████████████████████████████████████████████████████████████▌               | 81/100 [59:26<10:54, 34.42s/it]\u001b[A"
     ]
    },
    {
     "name": "stdout",
     "output_type": "stream",
     "text": [
      "Test Statistic:  0.010126321433199692\n",
      "p-value:  0.26373626373626374\n",
      "(200, 22)\n",
      "(200,)\n",
      "Fitted\n"
     ]
    },
    {
     "name": "stderr",
     "output_type": "stream",
     "text": [
      "\n",
      " 82%|██████████████████████████████████████████████████████████████████▍              | 82/100 [59:56<09:53, 32.95s/it]\u001b[A"
     ]
    },
    {
     "name": "stdout",
     "output_type": "stream",
     "text": [
      "Test Statistic:  0.014901062756645711\n",
      "p-value:  0.055944055944055944\n",
      "(200, 22)\n",
      "(200,)\n",
      "Fitted\n"
     ]
    },
    {
     "name": "stderr",
     "output_type": "stream",
     "text": [
      "\n",
      " 83%|█████████████████████████████████████████████████████████████████▌             | 83/100 [1:00:26<09:03, 31.97s/it]\u001b[A"
     ]
    },
    {
     "name": "stdout",
     "output_type": "stream",
     "text": [
      "Test Statistic:  0.00999518340144212\n",
      "p-value:  0.3206793206793207\n",
      "(200, 22)\n",
      "(200,)\n",
      "Fitted\n"
     ]
    },
    {
     "name": "stderr",
     "output_type": "stream",
     "text": [
      "\n",
      " 84%|██████████████████████████████████████████████████████████████████▎            | 84/100 [1:00:55<08:19, 31.21s/it]\u001b[A"
     ]
    },
    {
     "name": "stdout",
     "output_type": "stream",
     "text": [
      "Test Statistic:  0.05515270092035984\n",
      "p-value:  0.000999000999000999\n",
      "(200, 22)\n",
      "(200,)\n",
      "Fitted\n"
     ]
    },
    {
     "name": "stderr",
     "output_type": "stream",
     "text": [
      "\n",
      " 85%|███████████████████████████████████████████████████████████████████▏           | 85/100 [1:01:25<07:40, 30.71s/it]\u001b[A"
     ]
    },
    {
     "name": "stdout",
     "output_type": "stream",
     "text": [
      "Test Statistic:  0.010290186107735688\n",
      "p-value:  0.3706293706293706\n",
      "(200, 22)\n",
      "(200,)\n",
      "Fitted\n"
     ]
    },
    {
     "name": "stderr",
     "output_type": "stream",
     "text": [
      "\n",
      " 86%|███████████████████████████████████████████████████████████████████▉           | 86/100 [1:01:54<07:02, 30.21s/it]\u001b[A"
     ]
    },
    {
     "name": "stdout",
     "output_type": "stream",
     "text": [
      "Test Statistic:  0.003509704179686879\n",
      "p-value:  1.0\n",
      "(200, 22)\n",
      "(200,)\n",
      "Fitted\n"
     ]
    },
    {
     "name": "stderr",
     "output_type": "stream",
     "text": [
      "\n",
      " 87%|████████████████████████████████████████████████████████████████████▋          | 87/100 [1:02:23<06:30, 30.03s/it]\u001b[A"
     ]
    },
    {
     "name": "stdout",
     "output_type": "stream",
     "text": [
      "Test Statistic:  0.010662795534565506\n",
      "p-value:  0.2627372627372627\n",
      "(200, 22)\n",
      "(200,)\n",
      "Fitted\n"
     ]
    },
    {
     "name": "stderr",
     "output_type": "stream",
     "text": [
      "\n",
      " 88%|█████████████████████████████████████████████████████████████████████▌         | 88/100 [1:02:53<05:58, 29.86s/it]\u001b[A"
     ]
    },
    {
     "name": "stdout",
     "output_type": "stream",
     "text": [
      "Test Statistic:  0.0029224346011839097\n",
      "p-value:  1.0\n",
      "(200, 22)\n",
      "(200,)\n",
      "Fitted\n"
     ]
    },
    {
     "name": "stderr",
     "output_type": "stream",
     "text": [
      "\n",
      " 89%|██████████████████████████████████████████████████████████████████████▎        | 89/100 [1:03:23<05:28, 29.90s/it]\u001b[A"
     ]
    },
    {
     "name": "stdout",
     "output_type": "stream",
     "text": [
      "Test Statistic:  0.00486252609548099\n",
      "p-value:  1.0\n",
      "(200, 22)\n",
      "(200,)\n",
      "Fitted\n"
     ]
    },
    {
     "name": "stderr",
     "output_type": "stream",
     "text": [
      "\n",
      " 90%|███████████████████████████████████████████████████████████████████████        | 90/100 [1:03:53<05:01, 30.18s/it]\u001b[A"
     ]
    },
    {
     "name": "stdout",
     "output_type": "stream",
     "text": [
      "Test Statistic:  0.031349218839097914\n",
      "p-value:  0.001998001998001998\n",
      "(200, 22)\n",
      "(200,)\n",
      "Fitted\n"
     ]
    },
    {
     "name": "stderr",
     "output_type": "stream",
     "text": [
      "\n",
      " 91%|███████████████████████████████████████████████████████████████████████▉       | 91/100 [1:04:23<04:28, 29.84s/it]\u001b[A"
     ]
    },
    {
     "name": "stdout",
     "output_type": "stream",
     "text": [
      "Test Statistic:  0.005675616589582488\n",
      "p-value:  1.0\n",
      "(200, 22)\n",
      "(200,)\n",
      "Fitted\n"
     ]
    },
    {
     "name": "stderr",
     "output_type": "stream",
     "text": [
      "\n",
      " 92%|████████████████████████████████████████████████████████████████████████▋      | 92/100 [1:04:52<03:57, 29.72s/it]\u001b[A"
     ]
    },
    {
     "name": "stdout",
     "output_type": "stream",
     "text": [
      "Test Statistic:  0.0110569053074967\n",
      "p-value:  0.2677322677322677\n",
      "(200, 22)\n",
      "(200,)\n",
      "Fitted\n"
     ]
    },
    {
     "name": "stderr",
     "output_type": "stream",
     "text": [
      "\n",
      " 93%|█████████████████████████████████████████████████████████████████████████▍     | 93/100 [1:05:21<03:26, 29.47s/it]\u001b[A"
     ]
    },
    {
     "name": "stdout",
     "output_type": "stream",
     "text": [
      "Test Statistic:  0.0045089574847525515\n",
      "p-value:  1.0\n",
      "(200, 22)\n",
      "(200,)\n",
      "Fitted\n"
     ]
    },
    {
     "name": "stderr",
     "output_type": "stream",
     "text": [
      "\n",
      " 94%|██████████████████████████████████████████████████████████████████████████▎    | 94/100 [1:05:50<02:56, 29.42s/it]\u001b[A"
     ]
    },
    {
     "name": "stdout",
     "output_type": "stream",
     "text": [
      "Test Statistic:  0.007377428145450948\n",
      "p-value:  0.9440559440559441\n",
      "(200, 22)\n",
      "(200,)\n",
      "Fitted\n"
     ]
    },
    {
     "name": "stderr",
     "output_type": "stream",
     "text": [
      "\n",
      " 95%|███████████████████████████████████████████████████████████████████████████    | 95/100 [1:06:19<02:26, 29.36s/it]\u001b[A"
     ]
    },
    {
     "name": "stdout",
     "output_type": "stream",
     "text": [
      "Test Statistic:  0.004450241447139125\n",
      "p-value:  1.0\n",
      "(200, 22)\n",
      "(200,)\n",
      "Fitted\n"
     ]
    },
    {
     "name": "stderr",
     "output_type": "stream",
     "text": [
      "\n",
      " 96%|███████████████████████████████████████████████████████████████████████████▊   | 96/100 [1:06:55<02:04, 31.11s/it]\u001b[A"
     ]
    },
    {
     "name": "stdout",
     "output_type": "stream",
     "text": [
      "Test Statistic:  0.003134653753456562\n",
      "p-value:  1.0\n",
      "(200, 22)\n",
      "(200,)\n",
      "Fitted\n"
     ]
    },
    {
     "name": "stderr",
     "output_type": "stream",
     "text": [
      "\n",
      " 97%|████████████████████████████████████████████████████████████████████████████▋  | 97/100 [1:07:28<01:35, 31.77s/it]\u001b[A"
     ]
    },
    {
     "name": "stdout",
     "output_type": "stream",
     "text": [
      "Test Statistic:  0.005005040079841039\n",
      "p-value:  1.0\n",
      "(200, 22)\n",
      "(200,)\n",
      "Fitted\n"
     ]
    },
    {
     "name": "stderr",
     "output_type": "stream",
     "text": [
      "\n",
      " 98%|█████████████████████████████████████████████████████████████████████████████▍ | 98/100 [1:08:00<01:03, 31.84s/it]\u001b[A"
     ]
    },
    {
     "name": "stdout",
     "output_type": "stream",
     "text": [
      "Test Statistic:  0.00861150862813731\n",
      "p-value:  0.7622377622377622\n",
      "(200, 22)\n",
      "(200,)\n",
      "Fitted\n"
     ]
    },
    {
     "name": "stderr",
     "output_type": "stream",
     "text": [
      "\n",
      " 99%|██████████████████████████████████████████████████████████████████████████████▏| 99/100 [1:08:32<00:31, 31.89s/it]\u001b[A"
     ]
    },
    {
     "name": "stdout",
     "output_type": "stream",
     "text": [
      "Test Statistic:  0.007255653746002899\n",
      "p-value:  0.9330669330669331\n",
      "(200, 22)\n",
      "(200,)\n",
      "Fitted\n"
     ]
    },
    {
     "name": "stderr",
     "output_type": "stream",
     "text": [
      "\n",
      "100%|██████████████████████████████████████████████████████████████████████████████| 100/100 [1:09:02<00:00, 41.42s/it]\u001b[A\n",
      " 55%|█████████████████████████████████████████▊                                  | 11/20 [9:55:37<8:37:07, 3447.46s/it]\n",
      "  0%|                                                                                          | 0/100 [00:00<?, ?it/s]\u001b[A"
     ]
    },
    {
     "name": "stdout",
     "output_type": "stream",
     "text": [
      "Test Statistic:  0.02778174364088315\n",
      "p-value:  0.000999000999000999\n",
      "dimension 12\n",
      "circle\n",
      "(200, 24)\n",
      "(200,)\n",
      "Fitted\n"
     ]
    },
    {
     "name": "stderr",
     "output_type": "stream",
     "text": [
      "\n",
      "  1%|▊                                                                                 | 1/100 [00:29<48:50, 29.60s/it]\u001b[A"
     ]
    },
    {
     "name": "stdout",
     "output_type": "stream",
     "text": [
      "Test Statistic:  0.013780699655655648\n",
      "p-value:  0.07192807192807193\n",
      "(200, 24)\n",
      "(200,)\n",
      "Fitted\n"
     ]
    },
    {
     "name": "stderr",
     "output_type": "stream",
     "text": [
      "\n",
      "  2%|█▋                                                                                | 2/100 [00:59<48:29, 29.68s/it]\u001b[A"
     ]
    },
    {
     "name": "stdout",
     "output_type": "stream",
     "text": [
      "Test Statistic:  0.0027587812450824423\n",
      "p-value:  1.0\n",
      "(200, 24)\n",
      "(200,)\n",
      "Fitted\n"
     ]
    },
    {
     "name": "stderr",
     "output_type": "stream",
     "text": [
      "\n",
      "  3%|██▍                                                                               | 3/100 [01:28<47:53, 29.62s/it]\u001b[A"
     ]
    },
    {
     "name": "stdout",
     "output_type": "stream",
     "text": [
      "Test Statistic:  0.004164611080767933\n",
      "p-value:  1.0\n",
      "(200, 24)\n",
      "(200,)\n",
      "Fitted\n"
     ]
    },
    {
     "name": "stderr",
     "output_type": "stream",
     "text": [
      "\n",
      "  4%|███▎                                                                              | 4/100 [01:58<47:23, 29.62s/it]\u001b[A"
     ]
    },
    {
     "name": "stdout",
     "output_type": "stream",
     "text": [
      "Test Statistic:  0.003510348912735828\n",
      "p-value:  1.0\n",
      "(200, 24)\n",
      "(200,)\n",
      "Fitted\n"
     ]
    },
    {
     "name": "stderr",
     "output_type": "stream",
     "text": [
      "\n",
      "  5%|████                                                                              | 5/100 [02:27<46:34, 29.41s/it]\u001b[A"
     ]
    },
    {
     "name": "stdout",
     "output_type": "stream",
     "text": [
      "Test Statistic:  0.006676914014142166\n",
      "p-value:  0.9600399600399601\n",
      "(200, 24)\n",
      "(200,)\n",
      "Fitted\n"
     ]
    },
    {
     "name": "stderr",
     "output_type": "stream",
     "text": [
      "\n",
      "  6%|████▉                                                                             | 6/100 [02:56<45:50, 29.27s/it]\u001b[A"
     ]
    },
    {
     "name": "stdout",
     "output_type": "stream",
     "text": [
      "Test Statistic:  0.0065286133322661755\n",
      "p-value:  0.997002997002997\n",
      "(200, 24)\n",
      "(200,)\n",
      "Fitted\n"
     ]
    },
    {
     "name": "stderr",
     "output_type": "stream",
     "text": [
      "\n",
      "  7%|█████▋                                                                            | 7/100 [03:25<45:27, 29.33s/it]\u001b[A"
     ]
    },
    {
     "name": "stdout",
     "output_type": "stream",
     "text": [
      "Test Statistic:  0.012701711485007317\n",
      "p-value:  0.1108891108891109\n",
      "(200, 24)\n",
      "(200,)\n",
      "Fitted\n"
     ]
    },
    {
     "name": "stderr",
     "output_type": "stream",
     "text": [
      "\n",
      "  8%|██████▌                                                                           | 8/100 [03:55<44:58, 29.33s/it]\u001b[A"
     ]
    },
    {
     "name": "stdout",
     "output_type": "stream",
     "text": [
      "Test Statistic:  0.003988820529082893\n",
      "p-value:  1.0\n",
      "(200, 24)\n",
      "(200,)\n",
      "Fitted\n"
     ]
    },
    {
     "name": "stderr",
     "output_type": "stream",
     "text": [
      "\n",
      "  9%|███████▍                                                                          | 9/100 [04:24<44:25, 29.29s/it]\u001b[A"
     ]
    },
    {
     "name": "stdout",
     "output_type": "stream",
     "text": [
      "Test Statistic:  0.006787001620696009\n",
      "p-value:  0.929070929070929\n",
      "(200, 24)\n",
      "(200,)\n",
      "Fitted\n"
     ]
    },
    {
     "name": "stderr",
     "output_type": "stream",
     "text": [
      "\n",
      " 10%|████████                                                                         | 10/100 [04:53<44:00, 29.34s/it]\u001b[A"
     ]
    },
    {
     "name": "stdout",
     "output_type": "stream",
     "text": [
      "Test Statistic:  0.009412308067476949\n",
      "p-value:  0.37462537462537465\n",
      "(200, 24)\n",
      "(200,)\n",
      "Fitted\n"
     ]
    },
    {
     "name": "stderr",
     "output_type": "stream",
     "text": [
      "\n",
      " 11%|████████▉                                                                        | 11/100 [05:23<43:28, 29.30s/it]\u001b[A"
     ]
    },
    {
     "name": "stdout",
     "output_type": "stream",
     "text": [
      "Test Statistic:  0.007357470652604503\n",
      "p-value:  0.8071928071928072\n",
      "(200, 24)\n",
      "(200,)\n",
      "Fitted\n"
     ]
    },
    {
     "name": "stderr",
     "output_type": "stream",
     "text": [
      "\n",
      " 12%|█████████▋                                                                       | 12/100 [05:52<42:50, 29.21s/it]\u001b[A"
     ]
    },
    {
     "name": "stdout",
     "output_type": "stream",
     "text": [
      "Test Statistic:  0.004675924475746163\n",
      "p-value:  1.0\n",
      "(200, 24)\n",
      "(200,)\n",
      "Fitted\n"
     ]
    },
    {
     "name": "stderr",
     "output_type": "stream",
     "text": [
      "\n",
      " 13%|██████████▌                                                                      | 13/100 [06:20<42:13, 29.12s/it]\u001b[A"
     ]
    },
    {
     "name": "stdout",
     "output_type": "stream",
     "text": [
      "Test Statistic:  0.008288528990774147\n",
      "p-value:  0.5014985014985015\n",
      "(200, 24)\n",
      "(200,)\n",
      "Fitted\n"
     ]
    },
    {
     "name": "stderr",
     "output_type": "stream",
     "text": [
      "\n",
      " 14%|███████████▎                                                                     | 14/100 [06:50<41:41, 29.09s/it]\u001b[A"
     ]
    },
    {
     "name": "stdout",
     "output_type": "stream",
     "text": [
      "Test Statistic:  0.024352330449233572\n",
      "p-value:  0.001998001998001998\n",
      "(200, 24)\n",
      "(200,)\n",
      "Fitted\n"
     ]
    },
    {
     "name": "stderr",
     "output_type": "stream",
     "text": [
      "\n",
      " 15%|████████████▏                                                                    | 15/100 [07:18<41:09, 29.05s/it]\u001b[A"
     ]
    },
    {
     "name": "stdout",
     "output_type": "stream",
     "text": [
      "Test Statistic:  0.005656177420879871\n",
      "p-value:  0.998001998001998\n",
      "(200, 24)\n",
      "(200,)\n",
      "Fitted\n"
     ]
    },
    {
     "name": "stderr",
     "output_type": "stream",
     "text": [
      "\n",
      " 16%|████████████▉                                                                    | 16/100 [07:50<41:54, 29.93s/it]\u001b[A"
     ]
    },
    {
     "name": "stdout",
     "output_type": "stream",
     "text": [
      "Test Statistic:  0.022763763933579484\n",
      "p-value:  0.001998001998001998\n",
      "(200, 24)\n",
      "(200,)\n",
      "Fitted\n"
     ]
    },
    {
     "name": "stderr",
     "output_type": "stream",
     "text": [
      "\n",
      " 17%|█████████████▊                                                                   | 17/100 [08:20<41:21, 29.89s/it]\u001b[A"
     ]
    },
    {
     "name": "stdout",
     "output_type": "stream",
     "text": [
      "Test Statistic:  0.005304393077184777\n",
      "p-value:  1.0\n",
      "(200, 24)\n",
      "(200,)\n",
      "Fitted\n"
     ]
    },
    {
     "name": "stderr",
     "output_type": "stream",
     "text": [
      "\n",
      " 18%|██████████████▌                                                                  | 18/100 [08:50<40:46, 29.84s/it]\u001b[A"
     ]
    },
    {
     "name": "stdout",
     "output_type": "stream",
     "text": [
      "Test Statistic:  0.004869230147585668\n",
      "p-value:  1.0\n",
      "(200, 24)\n",
      "(200,)\n",
      "Fitted\n"
     ]
    },
    {
     "name": "stderr",
     "output_type": "stream",
     "text": [
      "\n",
      " 19%|███████████████▍                                                                 | 19/100 [09:19<40:01, 29.64s/it]\u001b[A"
     ]
    },
    {
     "name": "stdout",
     "output_type": "stream",
     "text": [
      "Test Statistic:  0.0073586656552304675\n",
      "p-value:  0.8731268731268731\n",
      "(200, 24)\n",
      "(200,)\n",
      "Fitted\n"
     ]
    },
    {
     "name": "stderr",
     "output_type": "stream",
     "text": [
      "\n",
      " 20%|████████████████▏                                                                | 20/100 [09:49<39:27, 29.60s/it]\u001b[A"
     ]
    },
    {
     "name": "stdout",
     "output_type": "stream",
     "text": [
      "Test Statistic:  0.0033286625907859024\n",
      "p-value:  1.0\n",
      "(200, 24)\n",
      "(200,)\n",
      "Fitted\n"
     ]
    },
    {
     "name": "stderr",
     "output_type": "stream",
     "text": [
      "\n",
      " 21%|█████████████████                                                                | 21/100 [10:18<38:56, 29.58s/it]\u001b[A"
     ]
    },
    {
     "name": "stdout",
     "output_type": "stream",
     "text": [
      "Test Statistic:  0.0019654155924769823\n",
      "p-value:  1.0\n",
      "(200, 24)\n",
      "(200,)\n",
      "Fitted\n"
     ]
    },
    {
     "name": "stderr",
     "output_type": "stream",
     "text": [
      "\n",
      " 22%|█████████████████▊                                                               | 22/100 [10:48<38:26, 29.58s/it]\u001b[A"
     ]
    },
    {
     "name": "stdout",
     "output_type": "stream",
     "text": [
      "Test Statistic:  0.00680250933688098\n",
      "p-value:  0.9410589410589411\n",
      "(200, 24)\n",
      "(200,)\n",
      "Fitted\n"
     ]
    },
    {
     "name": "stderr",
     "output_type": "stream",
     "text": [
      "\n",
      " 23%|██████████████████▋                                                              | 23/100 [11:17<37:43, 29.39s/it]\u001b[A"
     ]
    },
    {
     "name": "stdout",
     "output_type": "stream",
     "text": [
      "Test Statistic:  0.003981939536918833\n",
      "p-value:  1.0\n",
      "(200, 24)\n",
      "(200,)\n",
      "Fitted\n"
     ]
    },
    {
     "name": "stderr",
     "output_type": "stream",
     "text": [
      "\n",
      " 24%|███████████████████▍                                                             | 24/100 [11:46<37:20, 29.49s/it]\u001b[A"
     ]
    },
    {
     "name": "stdout",
     "output_type": "stream",
     "text": [
      "Test Statistic:  0.01665424806418636\n",
      "p-value:  0.03396603396603397\n",
      "(200, 24)\n",
      "(200,)\n",
      "Fitted\n"
     ]
    },
    {
     "name": "stderr",
     "output_type": "stream",
     "text": [
      "\n",
      " 25%|████████████████████▎                                                            | 25/100 [12:16<36:44, 29.39s/it]\u001b[A"
     ]
    },
    {
     "name": "stdout",
     "output_type": "stream",
     "text": [
      "Test Statistic:  0.0044902210774758755\n",
      "p-value:  1.0\n",
      "(200, 24)\n",
      "(200,)\n",
      "Fitted\n"
     ]
    },
    {
     "name": "stderr",
     "output_type": "stream",
     "text": [
      "\n",
      " 26%|█████████████████████                                                            | 26/100 [12:45<36:13, 29.37s/it]\u001b[A"
     ]
    },
    {
     "name": "stdout",
     "output_type": "stream",
     "text": [
      "Test Statistic:  0.009632912642295932\n",
      "p-value:  0.36363636363636365\n",
      "(200, 24)\n",
      "(200,)\n",
      "Fitted\n"
     ]
    },
    {
     "name": "stderr",
     "output_type": "stream",
     "text": [
      "\n",
      " 27%|█████████████████████▊                                                           | 27/100 [13:15<35:53, 29.50s/it]\u001b[A"
     ]
    },
    {
     "name": "stdout",
     "output_type": "stream",
     "text": [
      "Test Statistic:  0.01709132745261399\n",
      "p-value:  0.04195804195804196\n",
      "(200, 24)\n",
      "(200,)\n",
      "Fitted\n"
     ]
    },
    {
     "name": "stderr",
     "output_type": "stream",
     "text": [
      "\n",
      " 28%|██████████████████████▋                                                          | 28/100 [13:44<35:27, 29.55s/it]\u001b[A"
     ]
    },
    {
     "name": "stdout",
     "output_type": "stream",
     "text": [
      "Test Statistic:  0.010163536772428428\n",
      "p-value:  0.24575424575424576\n",
      "(200, 24)\n",
      "(200,)\n",
      "Fitted\n"
     ]
    },
    {
     "name": "stderr",
     "output_type": "stream",
     "text": [
      "\n",
      " 29%|███████████████████████▍                                                         | 29/100 [14:14<34:51, 29.45s/it]\u001b[A"
     ]
    },
    {
     "name": "stdout",
     "output_type": "stream",
     "text": [
      "Test Statistic:  0.015442520066377252\n",
      "p-value:  0.03296703296703297\n",
      "(200, 24)\n",
      "(200,)\n",
      "Fitted\n"
     ]
    },
    {
     "name": "stderr",
     "output_type": "stream",
     "text": [
      "\n",
      " 30%|████████████████████████▎                                                        | 30/100 [14:43<34:29, 29.57s/it]\u001b[A"
     ]
    },
    {
     "name": "stdout",
     "output_type": "stream",
     "text": [
      "Test Statistic:  0.011808727089823168\n",
      "p-value:  0.1918081918081918\n",
      "(200, 24)\n",
      "(200,)\n",
      "Fitted\n"
     ]
    },
    {
     "name": "stderr",
     "output_type": "stream",
     "text": [
      "\n",
      " 31%|█████████████████████████                                                        | 31/100 [15:13<33:51, 29.45s/it]\u001b[A"
     ]
    },
    {
     "name": "stdout",
     "output_type": "stream",
     "text": [
      "Test Statistic:  0.005437004018544633\n",
      "p-value:  1.0\n",
      "(200, 24)\n",
      "(200,)\n",
      "Fitted\n"
     ]
    },
    {
     "name": "stderr",
     "output_type": "stream",
     "text": [
      "\n",
      " 32%|█████████████████████████▉                                                       | 32/100 [15:42<33:23, 29.46s/it]\u001b[A"
     ]
    },
    {
     "name": "stdout",
     "output_type": "stream",
     "text": [
      "Test Statistic:  0.0048526818424975415\n",
      "p-value:  1.0\n",
      "(200, 24)\n",
      "(200,)\n",
      "Fitted\n"
     ]
    },
    {
     "name": "stderr",
     "output_type": "stream",
     "text": [
      "\n",
      " 33%|██████████████████████████▋                                                      | 33/100 [16:11<32:41, 29.28s/it]\u001b[A"
     ]
    },
    {
     "name": "stdout",
     "output_type": "stream",
     "text": [
      "Test Statistic:  0.006992362528366658\n",
      "p-value:  0.9630369630369631\n",
      "(200, 24)\n",
      "(200,)\n",
      "Fitted\n"
     ]
    },
    {
     "name": "stderr",
     "output_type": "stream",
     "text": [
      "\n",
      " 34%|███████████████████████████▌                                                     | 34/100 [16:41<32:24, 29.46s/it]\u001b[A"
     ]
    },
    {
     "name": "stdout",
     "output_type": "stream",
     "text": [
      "Test Statistic:  0.0033828643703802674\n",
      "p-value:  1.0\n",
      "(200, 24)\n",
      "(200,)\n",
      "Fitted\n"
     ]
    },
    {
     "name": "stderr",
     "output_type": "stream",
     "text": [
      "\n",
      " 35%|████████████████████████████▎                                                    | 35/100 [17:11<32:15, 29.77s/it]\u001b[A"
     ]
    },
    {
     "name": "stdout",
     "output_type": "stream",
     "text": [
      "Test Statistic:  0.006819543628650004\n",
      "p-value:  0.9370629370629371\n",
      "(200, 24)\n",
      "(200,)\n",
      "Fitted\n"
     ]
    },
    {
     "name": "stderr",
     "output_type": "stream",
     "text": [
      "\n",
      " 36%|█████████████████████████████▏                                                   | 36/100 [17:42<31:56, 29.95s/it]\u001b[A"
     ]
    },
    {
     "name": "stdout",
     "output_type": "stream",
     "text": [
      "Test Statistic:  0.006808884164930307\n",
      "p-value:  0.965034965034965\n",
      "(200, 24)\n",
      "(200,)\n",
      "Fitted\n"
     ]
    },
    {
     "name": "stderr",
     "output_type": "stream",
     "text": [
      "\n",
      " 37%|█████████████████████████████▉                                                   | 37/100 [18:14<32:06, 30.58s/it]\u001b[A"
     ]
    },
    {
     "name": "stdout",
     "output_type": "stream",
     "text": [
      "Test Statistic:  0.008289224552945118\n",
      "p-value:  0.7802197802197802\n",
      "(200, 24)\n",
      "(200,)\n",
      "Fitted\n"
     ]
    },
    {
     "name": "stderr",
     "output_type": "stream",
     "text": [
      "\n",
      " 38%|██████████████████████████████▊                                                  | 38/100 [18:44<31:37, 30.60s/it]\u001b[A"
     ]
    },
    {
     "name": "stdout",
     "output_type": "stream",
     "text": [
      "Test Statistic:  0.009396999550014717\n",
      "p-value:  0.4485514485514486\n",
      "(200, 24)\n",
      "(200,)\n",
      "Fitted\n"
     ]
    },
    {
     "name": "stderr",
     "output_type": "stream",
     "text": [
      "\n",
      " 39%|███████████████████████████████▌                                                 | 39/100 [19:14<30:45, 30.25s/it]\u001b[A"
     ]
    },
    {
     "name": "stdout",
     "output_type": "stream",
     "text": [
      "Test Statistic:  0.006071717341162408\n",
      "p-value:  0.988011988011988\n",
      "(200, 24)\n",
      "(200,)\n",
      "Fitted\n"
     ]
    },
    {
     "name": "stderr",
     "output_type": "stream",
     "text": [
      "\n",
      " 40%|████████████████████████████████▍                                                | 40/100 [19:46<30:54, 30.91s/it]\u001b[A"
     ]
    },
    {
     "name": "stdout",
     "output_type": "stream",
     "text": [
      "Test Statistic:  0.01754608973232008\n",
      "p-value:  0.03196803196803197\n",
      "(200, 24)\n",
      "(200,)\n",
      "Fitted\n"
     ]
    },
    {
     "name": "stderr",
     "output_type": "stream",
     "text": [
      "\n",
      " 41%|█████████████████████████████████▏                                               | 41/100 [20:16<29:57, 30.46s/it]\u001b[A"
     ]
    },
    {
     "name": "stdout",
     "output_type": "stream",
     "text": [
      "Test Statistic:  0.0033204928082357643\n",
      "p-value:  1.0\n",
      "(200, 24)\n",
      "(200,)\n",
      "Fitted\n"
     ]
    },
    {
     "name": "stderr",
     "output_type": "stream",
     "text": [
      "\n",
      " 42%|██████████████████████████████████                                               | 42/100 [20:45<29:11, 30.21s/it]\u001b[A"
     ]
    },
    {
     "name": "stdout",
     "output_type": "stream",
     "text": [
      "Test Statistic:  0.008121727894633723\n",
      "p-value:  0.5184815184815185\n",
      "(200, 24)\n",
      "(200,)\n",
      "Fitted\n"
     ]
    },
    {
     "name": "stderr",
     "output_type": "stream",
     "text": [
      "\n",
      " 43%|██████████████████████████████████▊                                              | 43/100 [21:16<28:55, 30.45s/it]\u001b[A"
     ]
    },
    {
     "name": "stdout",
     "output_type": "stream",
     "text": [
      "Test Statistic:  0.0119261564860067\n",
      "p-value:  0.17582417582417584\n",
      "(200, 24)\n",
      "(200,)\n",
      "Fitted\n"
     ]
    },
    {
     "name": "stderr",
     "output_type": "stream",
     "text": [
      "\n",
      " 44%|███████████████████████████████████▋                                             | 44/100 [21:45<28:02, 30.05s/it]\u001b[A"
     ]
    },
    {
     "name": "stdout",
     "output_type": "stream",
     "text": [
      "Test Statistic:  0.005716831468961403\n",
      "p-value:  0.997002997002997\n",
      "(200, 24)\n",
      "(200,)\n",
      "Fitted\n"
     ]
    },
    {
     "name": "stderr",
     "output_type": "stream",
     "text": [
      "\n",
      " 45%|████████████████████████████████████▍                                            | 45/100 [22:15<27:19, 29.81s/it]\u001b[A"
     ]
    },
    {
     "name": "stdout",
     "output_type": "stream",
     "text": [
      "Test Statistic:  0.0018387322051035548\n",
      "p-value:  1.0\n",
      "(200, 24)\n",
      "(200,)\n",
      "Fitted\n"
     ]
    },
    {
     "name": "stderr",
     "output_type": "stream",
     "text": [
      "\n",
      " 46%|█████████████████████████████████████▎                                           | 46/100 [22:44<26:40, 29.64s/it]\u001b[A"
     ]
    },
    {
     "name": "stdout",
     "output_type": "stream",
     "text": [
      "Test Statistic:  0.002999471775682827\n",
      "p-value:  1.0\n",
      "(200, 24)\n",
      "(200,)\n",
      "Fitted\n"
     ]
    },
    {
     "name": "stderr",
     "output_type": "stream",
     "text": [
      "\n",
      " 47%|██████████████████████████████████████                                           | 47/100 [23:13<26:08, 29.60s/it]\u001b[A"
     ]
    },
    {
     "name": "stdout",
     "output_type": "stream",
     "text": [
      "Test Statistic:  0.004333768648430825\n",
      "p-value:  1.0\n",
      "(200, 24)\n",
      "(200,)\n",
      "Fitted\n"
     ]
    },
    {
     "name": "stderr",
     "output_type": "stream",
     "text": [
      "\n",
      " 48%|██████████████████████████████████████▉                                          | 48/100 [23:43<25:38, 29.59s/it]\u001b[A"
     ]
    },
    {
     "name": "stdout",
     "output_type": "stream",
     "text": [
      "Test Statistic:  0.0032038472335508272\n",
      "p-value:  1.0\n",
      "(200, 24)\n",
      "(200,)\n",
      "Fitted\n"
     ]
    },
    {
     "name": "stderr",
     "output_type": "stream",
     "text": [
      "\n",
      " 49%|███████████████████████████████████████▋                                         | 49/100 [24:13<25:10, 29.63s/it]\u001b[A"
     ]
    },
    {
     "name": "stdout",
     "output_type": "stream",
     "text": [
      "Test Statistic:  0.008206387198969711\n",
      "p-value:  0.6973026973026973\n",
      "(200, 24)\n",
      "(200,)\n",
      "Fitted\n"
     ]
    },
    {
     "name": "stderr",
     "output_type": "stream",
     "text": [
      "\n",
      " 50%|████████████████████████████████████████▌                                        | 50/100 [24:43<24:51, 29.83s/it]\u001b[A"
     ]
    },
    {
     "name": "stdout",
     "output_type": "stream",
     "text": [
      "Test Statistic:  0.003351931045699641\n",
      "p-value:  1.0\n",
      "(200, 24)\n",
      "(200,)\n",
      "Fitted\n"
     ]
    },
    {
     "name": "stderr",
     "output_type": "stream",
     "text": [
      "\n",
      " 51%|█████████████████████████████████████████▎                                       | 51/100 [25:12<24:07, 29.54s/it]\u001b[A"
     ]
    },
    {
     "name": "stdout",
     "output_type": "stream",
     "text": [
      "Test Statistic:  0.008250135418036653\n",
      "p-value:  0.8321678321678322\n",
      "(200, 24)\n",
      "(200,)\n",
      "Fitted\n"
     ]
    },
    {
     "name": "stderr",
     "output_type": "stream",
     "text": [
      "\n",
      " 52%|██████████████████████████████████████████                                       | 52/100 [25:41<23:26, 29.30s/it]\u001b[A"
     ]
    },
    {
     "name": "stdout",
     "output_type": "stream",
     "text": [
      "Test Statistic:  0.01006553236834895\n",
      "p-value:  0.2817182817182817\n",
      "(200, 24)\n",
      "(200,)\n",
      "Fitted\n"
     ]
    },
    {
     "name": "stderr",
     "output_type": "stream",
     "text": [
      "\n",
      " 53%|██████████████████████████████████████████▉                                      | 53/100 [26:10<22:58, 29.33s/it]\u001b[A"
     ]
    },
    {
     "name": "stdout",
     "output_type": "stream",
     "text": [
      "Test Statistic:  0.003082416331416815\n",
      "p-value:  1.0\n",
      "(200, 24)\n",
      "(200,)\n",
      "Fitted\n"
     ]
    },
    {
     "name": "stderr",
     "output_type": "stream",
     "text": [
      "\n",
      " 54%|███████████████████████████████████████████▋                                     | 54/100 [26:40<22:34, 29.44s/it]\u001b[A"
     ]
    },
    {
     "name": "stdout",
     "output_type": "stream",
     "text": [
      "Test Statistic:  0.009806664607930116\n",
      "p-value:  0.4305694305694306\n",
      "(200, 24)\n",
      "(200,)\n",
      "Fitted\n"
     ]
    },
    {
     "name": "stderr",
     "output_type": "stream",
     "text": [
      "\n",
      " 55%|████████████████████████████████████████████▌                                    | 55/100 [27:09<22:00, 29.35s/it]\u001b[A"
     ]
    },
    {
     "name": "stdout",
     "output_type": "stream",
     "text": [
      "Test Statistic:  0.0061957794490038465\n",
      "p-value:  0.999000999000999\n",
      "(200, 24)\n",
      "(200,)\n",
      "Fitted\n"
     ]
    },
    {
     "name": "stderr",
     "output_type": "stream",
     "text": [
      "\n",
      " 56%|█████████████████████████████████████████████▎                                   | 56/100 [27:38<21:30, 29.32s/it]\u001b[A"
     ]
    },
    {
     "name": "stdout",
     "output_type": "stream",
     "text": [
      "Test Statistic:  0.010256009348567408\n",
      "p-value:  0.3986013986013986\n",
      "(200, 24)\n",
      "(200,)\n",
      "Fitted\n"
     ]
    },
    {
     "name": "stderr",
     "output_type": "stream",
     "text": [
      "\n",
      " 57%|██████████████████████████████████████████████▏                                  | 57/100 [28:16<22:51, 31.89s/it]\u001b[A"
     ]
    },
    {
     "name": "stdout",
     "output_type": "stream",
     "text": [
      "Test Statistic:  0.026563195240697834\n",
      "p-value:  0.001998001998001998\n",
      "(200, 24)\n",
      "(200,)\n",
      "Fitted\n"
     ]
    },
    {
     "name": "stderr",
     "output_type": "stream",
     "text": [
      "\n",
      " 58%|██████████████████████████████████████████████▉                                  | 58/100 [28:46<21:54, 31.29s/it]\u001b[A"
     ]
    },
    {
     "name": "stdout",
     "output_type": "stream",
     "text": [
      "Test Statistic:  0.004669206828344041\n",
      "p-value:  1.0\n",
      "(200, 24)\n",
      "(200,)\n",
      "Fitted\n"
     ]
    },
    {
     "name": "stderr",
     "output_type": "stream",
     "text": [
      "\n",
      " 59%|███████████████████████████████████████████████▊                                 | 59/100 [29:16<21:02, 30.79s/it]\u001b[A"
     ]
    },
    {
     "name": "stdout",
     "output_type": "stream",
     "text": [
      "Test Statistic:  0.011928707548430562\n",
      "p-value:  0.15784215784215785\n",
      "(200, 24)\n",
      "(200,)\n",
      "Fitted\n"
     ]
    },
    {
     "name": "stderr",
     "output_type": "stream",
     "text": [
      "\n",
      " 60%|████████████████████████████████████████████████▌                                | 60/100 [29:45<20:15, 30.40s/it]\u001b[A"
     ]
    },
    {
     "name": "stdout",
     "output_type": "stream",
     "text": [
      "Test Statistic:  0.003875298089354051\n",
      "p-value:  1.0\n",
      "(200, 24)\n",
      "(200,)\n",
      "Fitted\n"
     ]
    },
    {
     "name": "stderr",
     "output_type": "stream",
     "text": [
      "\n",
      " 61%|█████████████████████████████████████████████████▍                               | 61/100 [30:15<19:37, 30.20s/it]\u001b[A"
     ]
    },
    {
     "name": "stdout",
     "output_type": "stream",
     "text": [
      "Test Statistic:  0.009142994899953072\n",
      "p-value:  0.6213786213786214\n",
      "(200, 24)\n",
      "(200,)\n",
      "Fitted\n"
     ]
    },
    {
     "name": "stderr",
     "output_type": "stream",
     "text": [
      "\n",
      " 62%|██████████████████████████████████████████████████▏                              | 62/100 [30:44<18:55, 29.88s/it]\u001b[A"
     ]
    },
    {
     "name": "stdout",
     "output_type": "stream",
     "text": [
      "Test Statistic:  0.016753929620375696\n",
      "p-value:  0.028971028971028972\n",
      "(200, 24)\n",
      "(200,)\n",
      "Fitted\n"
     ]
    },
    {
     "name": "stderr",
     "output_type": "stream",
     "text": [
      "\n",
      " 63%|███████████████████████████████████████████████████                              | 63/100 [31:13<18:21, 29.76s/it]\u001b[A"
     ]
    },
    {
     "name": "stdout",
     "output_type": "stream",
     "text": [
      "Test Statistic:  0.004315870656427578\n",
      "p-value:  1.0\n",
      "(200, 24)\n",
      "(200,)\n",
      "Fitted\n"
     ]
    },
    {
     "name": "stderr",
     "output_type": "stream",
     "text": [
      "\n",
      " 64%|███████████████████████████████████████████████████▊                             | 64/100 [31:43<17:46, 29.64s/it]\u001b[A"
     ]
    },
    {
     "name": "stdout",
     "output_type": "stream",
     "text": [
      "Test Statistic:  0.0034985565536825858\n",
      "p-value:  1.0\n",
      "(200, 24)\n",
      "(200,)\n",
      "Fitted\n"
     ]
    },
    {
     "name": "stderr",
     "output_type": "stream",
     "text": [
      "\n",
      " 65%|████████████████████████████████████████████████████▋                            | 65/100 [32:12<17:15, 29.59s/it]\u001b[A"
     ]
    },
    {
     "name": "stdout",
     "output_type": "stream",
     "text": [
      "Test Statistic:  0.013164593753790088\n",
      "p-value:  0.052947052947052944\n",
      "(200, 24)\n",
      "(200,)\n",
      "Fitted\n"
     ]
    },
    {
     "name": "stderr",
     "output_type": "stream",
     "text": [
      "\n",
      " 66%|█████████████████████████████████████████████████████▍                           | 66/100 [32:41<16:42, 29.48s/it]\u001b[A"
     ]
    },
    {
     "name": "stdout",
     "output_type": "stream",
     "text": [
      "Test Statistic:  0.004636474839906368\n",
      "p-value:  1.0\n",
      "(200, 24)\n",
      "(200,)\n",
      "Fitted\n"
     ]
    },
    {
     "name": "stderr",
     "output_type": "stream",
     "text": [
      "\n",
      " 67%|██████████████████████████████████████████████████████▎                          | 67/100 [33:11<16:14, 29.53s/it]\u001b[A"
     ]
    },
    {
     "name": "stdout",
     "output_type": "stream",
     "text": [
      "Test Statistic:  0.009319116207277323\n",
      "p-value:  0.4305694305694306\n",
      "(200, 24)\n",
      "(200,)\n",
      "Fitted\n"
     ]
    },
    {
     "name": "stderr",
     "output_type": "stream",
     "text": [
      "\n",
      " 68%|███████████████████████████████████████████████████████                          | 68/100 [33:41<15:44, 29.52s/it]\u001b[A"
     ]
    },
    {
     "name": "stdout",
     "output_type": "stream",
     "text": [
      "Test Statistic:  0.004633497857668756\n",
      "p-value:  1.0\n",
      "(200, 24)\n",
      "(200,)\n",
      "Fitted\n"
     ]
    },
    {
     "name": "stderr",
     "output_type": "stream",
     "text": [
      "\n",
      " 69%|███████████████████████████████████████████████████████▉                         | 69/100 [34:10<15:17, 29.58s/it]\u001b[A"
     ]
    },
    {
     "name": "stdout",
     "output_type": "stream",
     "text": [
      "Test Statistic:  0.02421259884979987\n",
      "p-value:  0.003996003996003996\n",
      "(200, 24)\n",
      "(200,)\n",
      "Fitted\n"
     ]
    },
    {
     "name": "stderr",
     "output_type": "stream",
     "text": [
      "\n",
      " 70%|████████████████████████████████████████████████████████▋                        | 70/100 [34:41<14:53, 29.77s/it]\u001b[A"
     ]
    },
    {
     "name": "stdout",
     "output_type": "stream",
     "text": [
      "Test Statistic:  0.0046207083350442435\n",
      "p-value:  1.0\n",
      "(200, 24)\n",
      "(200,)\n",
      "Fitted\n"
     ]
    },
    {
     "name": "stderr",
     "output_type": "stream",
     "text": [
      "\n",
      " 71%|█████████████████████████████████████████████████████████▌                       | 71/100 [35:11<14:28, 29.94s/it]\u001b[A"
     ]
    },
    {
     "name": "stdout",
     "output_type": "stream",
     "text": [
      "Test Statistic:  0.00811992161311259\n",
      "p-value:  0.7732267732267732\n",
      "(200, 24)\n",
      "(200,)\n",
      "Fitted\n"
     ]
    },
    {
     "name": "stderr",
     "output_type": "stream",
     "text": [
      "\n",
      " 72%|██████████████████████████████████████████████████████████▎                      | 72/100 [35:40<13:53, 29.77s/it]\u001b[A"
     ]
    },
    {
     "name": "stdout",
     "output_type": "stream",
     "text": [
      "Test Statistic:  0.006941656205533442\n",
      "p-value:  0.8971028971028971\n",
      "(200, 24)\n",
      "(200,)\n",
      "Fitted\n"
     ]
    },
    {
     "name": "stderr",
     "output_type": "stream",
     "text": [
      "\n",
      " 73%|███████████████████████████████████████████████████████████▏                     | 73/100 [36:09<13:18, 29.57s/it]\u001b[A"
     ]
    },
    {
     "name": "stdout",
     "output_type": "stream",
     "text": [
      "Test Statistic:  0.004715704523227893\n",
      "p-value:  1.0\n",
      "(200, 24)\n",
      "(200,)\n",
      "Fitted\n"
     ]
    },
    {
     "name": "stderr",
     "output_type": "stream",
     "text": [
      "\n",
      " 74%|███████████████████████████████████████████████████████████▉                     | 74/100 [36:38<12:43, 29.37s/it]\u001b[A"
     ]
    },
    {
     "name": "stdout",
     "output_type": "stream",
     "text": [
      "Test Statistic:  0.004156888464751485\n",
      "p-value:  1.0\n",
      "(200, 24)\n",
      "(200,)\n",
      "Fitted\n"
     ]
    },
    {
     "name": "stderr",
     "output_type": "stream",
     "text": [
      "\n",
      " 75%|████████████████████████████████████████████████████████████▊                    | 75/100 [37:07<12:11, 29.28s/it]\u001b[A"
     ]
    },
    {
     "name": "stdout",
     "output_type": "stream",
     "text": [
      "Test Statistic:  0.004628789775714903\n",
      "p-value:  1.0\n",
      "(200, 24)\n",
      "(200,)\n",
      "Fitted\n"
     ]
    },
    {
     "name": "stderr",
     "output_type": "stream",
     "text": [
      "\n",
      " 76%|█████████████████████████████████████████████████████████████▌                   | 76/100 [37:37<11:45, 29.39s/it]\u001b[A"
     ]
    },
    {
     "name": "stdout",
     "output_type": "stream",
     "text": [
      "Test Statistic:  0.006287967760199464\n",
      "p-value:  0.988011988011988\n",
      "(200, 24)\n",
      "(200,)\n",
      "Fitted\n"
     ]
    },
    {
     "name": "stderr",
     "output_type": "stream",
     "text": [
      "\n",
      " 77%|██████████████████████████████████████████████████████████████▎                  | 77/100 [38:09<11:35, 30.24s/it]\u001b[A"
     ]
    },
    {
     "name": "stdout",
     "output_type": "stream",
     "text": [
      "Test Statistic:  0.020641375978207255\n",
      "p-value:  0.001998001998001998\n",
      "(200, 24)\n",
      "(200,)\n",
      "Fitted\n"
     ]
    },
    {
     "name": "stderr",
     "output_type": "stream",
     "text": [
      "\n",
      " 78%|███████████████████████████████████████████████████████████████▏                 | 78/100 [38:38<10:55, 29.79s/it]\u001b[A"
     ]
    },
    {
     "name": "stdout",
     "output_type": "stream",
     "text": [
      "Test Statistic:  0.0029820542794882776\n",
      "p-value:  1.0\n",
      "(200, 24)\n",
      "(200,)\n",
      "Fitted\n"
     ]
    },
    {
     "name": "stderr",
     "output_type": "stream",
     "text": [
      "\n",
      " 79%|███████████████████████████████████████████████████████████████▉                 | 79/100 [39:07<10:22, 29.63s/it]\u001b[A"
     ]
    },
    {
     "name": "stdout",
     "output_type": "stream",
     "text": [
      "Test Statistic:  0.006199585134589625\n",
      "p-value:  0.995004995004995\n",
      "(200, 24)\n",
      "(200,)\n",
      "Fitted\n"
     ]
    },
    {
     "name": "stderr",
     "output_type": "stream",
     "text": [
      "\n",
      " 80%|████████████████████████████████████████████████████████████████▊                | 80/100 [39:36<09:48, 29.45s/it]\u001b[A"
     ]
    },
    {
     "name": "stdout",
     "output_type": "stream",
     "text": [
      "Test Statistic:  0.008157471796807925\n",
      "p-value:  0.7592407592407593\n",
      "(200, 24)\n",
      "(200,)\n",
      "Fitted\n"
     ]
    },
    {
     "name": "stderr",
     "output_type": "stream",
     "text": [
      "\n",
      " 81%|█████████████████████████████████████████████████████████████████▌               | 81/100 [40:06<09:19, 29.44s/it]\u001b[A"
     ]
    },
    {
     "name": "stdout",
     "output_type": "stream",
     "text": [
      "Test Statistic:  0.003408821414393026\n",
      "p-value:  1.0\n",
      "(200, 24)\n",
      "(200,)\n",
      "Fitted\n"
     ]
    },
    {
     "name": "stderr",
     "output_type": "stream",
     "text": [
      "\n",
      " 82%|██████████████████████████████████████████████████████████████████▍              | 82/100 [40:35<08:50, 29.45s/it]\u001b[A"
     ]
    },
    {
     "name": "stdout",
     "output_type": "stream",
     "text": [
      "Test Statistic:  0.004235740225076445\n",
      "p-value:  1.0\n",
      "(200, 24)\n",
      "(200,)\n",
      "Fitted\n"
     ]
    },
    {
     "name": "stderr",
     "output_type": "stream",
     "text": [
      "\n",
      " 83%|███████████████████████████████████████████████████████████████████▏             | 83/100 [41:04<08:19, 29.38s/it]\u001b[A"
     ]
    },
    {
     "name": "stdout",
     "output_type": "stream",
     "text": [
      "Test Statistic:  0.0023979170660886062\n",
      "p-value:  1.0\n",
      "(200, 24)\n",
      "(200,)\n",
      "Fitted\n"
     ]
    },
    {
     "name": "stderr",
     "output_type": "stream",
     "text": [
      "\n",
      " 84%|████████████████████████████████████████████████████████████████████             | 84/100 [41:33<07:48, 29.28s/it]\u001b[A"
     ]
    },
    {
     "name": "stdout",
     "output_type": "stream",
     "text": [
      "Test Statistic:  0.0032346589685811056\n",
      "p-value:  1.0\n",
      "(200, 24)\n",
      "(200,)\n",
      "Fitted\n"
     ]
    },
    {
     "name": "stderr",
     "output_type": "stream",
     "text": [
      "\n",
      " 85%|████████████████████████████████████████████████████████████████████▊            | 85/100 [42:03<07:21, 29.46s/it]\u001b[A"
     ]
    },
    {
     "name": "stdout",
     "output_type": "stream",
     "text": [
      "Test Statistic:  0.0025243752400621045\n",
      "p-value:  1.0\n",
      "(200, 24)\n",
      "(200,)\n",
      "Fitted\n"
     ]
    },
    {
     "name": "stderr",
     "output_type": "stream",
     "text": [
      "\n",
      " 86%|█████████████████████████████████████████████████████████████████████▋           | 86/100 [42:32<06:51, 29.40s/it]\u001b[A"
     ]
    },
    {
     "name": "stdout",
     "output_type": "stream",
     "text": [
      "Test Statistic:  0.01269586387125654\n",
      "p-value:  0.12387612387612387\n",
      "(200, 24)\n",
      "(200,)\n",
      "Fitted\n"
     ]
    },
    {
     "name": "stderr",
     "output_type": "stream",
     "text": [
      "\n",
      " 87%|██████████████████████████████████████████████████████████████████████▍          | 87/100 [43:02<06:22, 29.40s/it]\u001b[A"
     ]
    },
    {
     "name": "stdout",
     "output_type": "stream",
     "text": [
      "Test Statistic:  0.013005524635481658\n",
      "p-value:  0.08691308691308691\n",
      "(200, 24)\n",
      "(200,)\n",
      "Fitted\n"
     ]
    },
    {
     "name": "stderr",
     "output_type": "stream",
     "text": [
      "\n",
      " 88%|███████████████████████████████████████████████████████████████████████▎         | 88/100 [43:31<05:51, 29.27s/it]\u001b[A"
     ]
    },
    {
     "name": "stdout",
     "output_type": "stream",
     "text": [
      "Test Statistic:  0.010242161164496943\n",
      "p-value:  0.2987012987012987\n",
      "(200, 24)\n",
      "(200,)\n",
      "Fitted\n"
     ]
    },
    {
     "name": "stderr",
     "output_type": "stream",
     "text": [
      "\n",
      " 89%|████████████████████████████████████████████████████████████████████████         | 89/100 [44:00<05:21, 29.20s/it]\u001b[A"
     ]
    },
    {
     "name": "stdout",
     "output_type": "stream",
     "text": [
      "Test Statistic:  0.019399769273068856\n",
      "p-value:  0.006993006993006993\n",
      "(200, 24)\n",
      "(200,)\n",
      "Fitted\n"
     ]
    },
    {
     "name": "stderr",
     "output_type": "stream",
     "text": [
      "\n",
      " 90%|████████████████████████████████████████████████████████████████████████▉        | 90/100 [44:30<04:54, 29.42s/it]\u001b[A"
     ]
    },
    {
     "name": "stdout",
     "output_type": "stream",
     "text": [
      "Test Statistic:  0.0054491028332945834\n",
      "p-value:  0.999000999000999\n",
      "(200, 24)\n",
      "(200,)\n",
      "Fitted\n"
     ]
    },
    {
     "name": "stderr",
     "output_type": "stream",
     "text": [
      "\n",
      " 91%|█████████████████████████████████████████████████████████████████████████▋       | 91/100 [45:00<04:27, 29.76s/it]\u001b[A"
     ]
    },
    {
     "name": "stdout",
     "output_type": "stream",
     "text": [
      "Test Statistic:  0.007079765708637331\n",
      "p-value:  0.9530469530469531\n",
      "(200, 24)\n",
      "(200,)\n",
      "Fitted\n"
     ]
    },
    {
     "name": "stderr",
     "output_type": "stream",
     "text": [
      "\n",
      " 92%|██████████████████████████████████████████████████████████████████████████▌      | 92/100 [45:30<03:57, 29.67s/it]\u001b[A"
     ]
    },
    {
     "name": "stdout",
     "output_type": "stream",
     "text": [
      "Test Statistic:  0.010711011234059487\n",
      "p-value:  0.32867132867132864\n",
      "(200, 24)\n",
      "(200,)\n",
      "Fitted\n"
     ]
    },
    {
     "name": "stderr",
     "output_type": "stream",
     "text": [
      "\n",
      " 93%|███████████████████████████████████████████████████████████████████████████▎     | 93/100 [45:59<03:26, 29.55s/it]\u001b[A"
     ]
    },
    {
     "name": "stdout",
     "output_type": "stream",
     "text": [
      "Test Statistic:  0.003741078731194225\n",
      "p-value:  1.0\n",
      "(200, 24)\n",
      "(200,)\n",
      "Fitted\n"
     ]
    },
    {
     "name": "stderr",
     "output_type": "stream",
     "text": [
      "\n",
      " 94%|████████████████████████████████████████████████████████████████████████████▏    | 94/100 [46:28<02:56, 29.38s/it]\u001b[A"
     ]
    },
    {
     "name": "stdout",
     "output_type": "stream",
     "text": [
      "Test Statistic:  0.008426975321616625\n",
      "p-value:  0.6673326673326674\n",
      "(200, 24)\n",
      "(200,)\n",
      "Fitted\n"
     ]
    },
    {
     "name": "stderr",
     "output_type": "stream",
     "text": [
      "\n",
      " 95%|████████████████████████████████████████████████████████████████████████████▉    | 95/100 [46:57<02:26, 29.24s/it]\u001b[A"
     ]
    },
    {
     "name": "stdout",
     "output_type": "stream",
     "text": [
      "Test Statistic:  0.0026615191313310582\n",
      "p-value:  1.0\n",
      "(200, 24)\n",
      "(200,)\n",
      "Fitted\n"
     ]
    },
    {
     "name": "stderr",
     "output_type": "stream",
     "text": [
      "\n",
      " 96%|█████████████████████████████████████████████████████████████████████████████▊   | 96/100 [47:26<01:56, 29.08s/it]\u001b[A"
     ]
    },
    {
     "name": "stdout",
     "output_type": "stream",
     "text": [
      "Test Statistic:  0.014408575552207425\n",
      "p-value:  0.03896103896103896\n",
      "(200, 24)\n",
      "(200,)\n",
      "Fitted\n"
     ]
    },
    {
     "name": "stderr",
     "output_type": "stream",
     "text": [
      "\n",
      " 97%|██████████████████████████████████████████████████████████████████████████████▌  | 97/100 [47:58<01:30, 30.07s/it]\u001b[A"
     ]
    },
    {
     "name": "stdout",
     "output_type": "stream",
     "text": [
      "Test Statistic:  0.003008647487842353\n",
      "p-value:  1.0\n",
      "(200, 24)\n",
      "(200,)\n",
      "Fitted\n"
     ]
    },
    {
     "name": "stderr",
     "output_type": "stream",
     "text": [
      "\n",
      " 98%|███████████████████████████████████████████████████████████████████████████████▍ | 98/100 [48:27<00:59, 29.77s/it]\u001b[A"
     ]
    },
    {
     "name": "stdout",
     "output_type": "stream",
     "text": [
      "Test Statistic:  0.015881771493561847\n",
      "p-value:  0.02097902097902098\n",
      "(200, 24)\n",
      "(200,)\n",
      "Fitted\n"
     ]
    },
    {
     "name": "stderr",
     "output_type": "stream",
     "text": [
      "\n",
      " 99%|████████████████████████████████████████████████████████████████████████████████▏| 99/100 [48:56<00:29, 29.53s/it]\u001b[A"
     ]
    },
    {
     "name": "stdout",
     "output_type": "stream",
     "text": [
      "Test Statistic:  0.019838920344888433\n",
      "p-value:  0.007992007992007992\n",
      "(200, 24)\n",
      "(200,)\n",
      "Fitted\n"
     ]
    },
    {
     "name": "stderr",
     "output_type": "stream",
     "text": [
      "\n",
      "100%|████████████████████████████████████████████████████████████████████████████████| 100/100 [49:25<00:00, 29.66s/it]\u001b[A\n",
      " 60%|█████████████████████████████████████████████                              | 12/20 [10:45:03<7:20:23, 3302.94s/it]\n",
      "  0%|                                                                                          | 0/100 [00:00<?, ?it/s]\u001b[A"
     ]
    },
    {
     "name": "stdout",
     "output_type": "stream",
     "text": [
      "Test Statistic:  0.004420703208420584\n",
      "p-value:  1.0\n",
      "dimension 13\n",
      "circle\n",
      "(200, 26)\n",
      "(200,)\n",
      "Fitted\n"
     ]
    },
    {
     "name": "stderr",
     "output_type": "stream",
     "text": [
      "\n",
      "  1%|▊                                                                                 | 1/100 [00:29<48:50, 29.60s/it]\u001b[A"
     ]
    },
    {
     "name": "stdout",
     "output_type": "stream",
     "text": [
      "Test Statistic:  0.007194234096798313\n",
      "p-value:  0.9440559440559441\n",
      "(200, 26)\n",
      "(200,)\n",
      "Fitted\n"
     ]
    },
    {
     "name": "stderr",
     "output_type": "stream",
     "text": [
      "\n",
      "  2%|█▋                                                                                | 2/100 [00:58<48:11, 29.50s/it]\u001b[A"
     ]
    },
    {
     "name": "stdout",
     "output_type": "stream",
     "text": [
      "Test Statistic:  0.007752725111425107\n",
      "p-value:  0.7732267732267732\n",
      "(200, 26)\n",
      "(200,)\n",
      "Fitted\n"
     ]
    },
    {
     "name": "stderr",
     "output_type": "stream",
     "text": [
      "\n",
      "  3%|██▍                                                                               | 3/100 [01:27<47:23, 29.31s/it]\u001b[A"
     ]
    },
    {
     "name": "stdout",
     "output_type": "stream",
     "text": [
      "Test Statistic:  0.00775003950396036\n",
      "p-value:  0.8181818181818182\n",
      "(200, 26)\n",
      "(200,)\n",
      "Fitted\n"
     ]
    },
    {
     "name": "stderr",
     "output_type": "stream",
     "text": [
      "\n",
      "  4%|███▎                                                                              | 4/100 [01:56<46:35, 29.12s/it]\u001b[A"
     ]
    },
    {
     "name": "stdout",
     "output_type": "stream",
     "text": [
      "Test Statistic:  0.011770325276039051\n",
      "p-value:  0.21178821178821178\n",
      "(200, 26)\n",
      "(200,)\n",
      "Fitted\n"
     ]
    },
    {
     "name": "stderr",
     "output_type": "stream",
     "text": [
      "\n",
      "  5%|████                                                                              | 5/100 [02:25<46:09, 29.15s/it]\u001b[A"
     ]
    },
    {
     "name": "stdout",
     "output_type": "stream",
     "text": [
      "Test Statistic:  0.005647670129296789\n",
      "p-value:  0.995004995004995\n",
      "(200, 26)\n",
      "(200,)\n",
      "Fitted\n"
     ]
    },
    {
     "name": "stderr",
     "output_type": "stream",
     "text": [
      "\n",
      "  6%|████▉                                                                             | 6/100 [02:54<45:26, 29.00s/it]\u001b[A"
     ]
    },
    {
     "name": "stdout",
     "output_type": "stream",
     "text": [
      "Test Statistic:  0.01065469428253829\n",
      "p-value:  0.23776223776223776\n",
      "(200, 26)\n",
      "(200,)\n",
      "Fitted\n"
     ]
    },
    {
     "name": "stderr",
     "output_type": "stream",
     "text": [
      "\n",
      "  7%|█████▋                                                                            | 7/100 [03:23<45:11, 29.15s/it]\u001b[A"
     ]
    },
    {
     "name": "stdout",
     "output_type": "stream",
     "text": [
      "Test Statistic:  0.0024093518400276626\n",
      "p-value:  1.0\n",
      "(200, 26)\n",
      "(200,)\n",
      "Fitted\n"
     ]
    },
    {
     "name": "stderr",
     "output_type": "stream",
     "text": [
      "\n",
      "  8%|██████▌                                                                           | 8/100 [03:53<44:53, 29.28s/it]\u001b[A"
     ]
    },
    {
     "name": "stdout",
     "output_type": "stream",
     "text": [
      "Test Statistic:  0.019990888875921597\n",
      "p-value:  0.007992007992007992\n",
      "(200, 26)\n",
      "(200,)\n",
      "Fitted\n"
     ]
    },
    {
     "name": "stderr",
     "output_type": "stream",
     "text": [
      "\n",
      "  9%|███████▍                                                                          | 9/100 [04:22<44:28, 29.33s/it]\u001b[A"
     ]
    },
    {
     "name": "stdout",
     "output_type": "stream",
     "text": [
      "Test Statistic:  0.00876506700085522\n",
      "p-value:  0.44155844155844154\n",
      "(200, 26)\n",
      "(200,)\n",
      "Fitted\n"
     ]
    },
    {
     "name": "stderr",
     "output_type": "stream",
     "text": [
      "\n",
      " 10%|████████                                                                         | 10/100 [04:52<44:02, 29.36s/it]\u001b[A"
     ]
    },
    {
     "name": "stdout",
     "output_type": "stream",
     "text": [
      "Test Statistic:  0.0077192991616897855\n",
      "p-value:  0.7462537462537463\n",
      "(200, 26)\n",
      "(200,)\n",
      "Fitted\n"
     ]
    },
    {
     "name": "stderr",
     "output_type": "stream",
     "text": [
      "\n",
      " 11%|████████▉                                                                        | 11/100 [05:22<44:04, 29.71s/it]\u001b[A"
     ]
    },
    {
     "name": "stdout",
     "output_type": "stream",
     "text": [
      "Test Statistic:  0.0053427961406864455\n",
      "p-value:  1.0\n",
      "(200, 26)\n",
      "(200,)\n",
      "Fitted\n"
     ]
    },
    {
     "name": "stderr",
     "output_type": "stream",
     "text": [
      "\n",
      " 12%|█████████▋                                                                       | 12/100 [05:51<43:10, 29.44s/it]\u001b[A"
     ]
    },
    {
     "name": "stdout",
     "output_type": "stream",
     "text": [
      "Test Statistic:  0.015027460751411592\n",
      "p-value:  0.030969030969030968\n",
      "(200, 26)\n",
      "(200,)\n",
      "Fitted\n"
     ]
    },
    {
     "name": "stderr",
     "output_type": "stream",
     "text": [
      "\n",
      " 13%|██████████▌                                                                      | 13/100 [06:20<42:31, 29.33s/it]\u001b[A"
     ]
    },
    {
     "name": "stdout",
     "output_type": "stream",
     "text": [
      "Test Statistic:  0.005551554718659424\n",
      "p-value:  0.995004995004995\n",
      "(200, 26)\n",
      "(200,)\n",
      "Fitted\n"
     ]
    },
    {
     "name": "stderr",
     "output_type": "stream",
     "text": [
      "\n",
      " 14%|███████████▎                                                                     | 14/100 [06:49<41:57, 29.27s/it]\u001b[A"
     ]
    },
    {
     "name": "stdout",
     "output_type": "stream",
     "text": [
      "Test Statistic:  0.0042171364715579696\n",
      "p-value:  1.0\n",
      "(200, 26)\n",
      "(200,)\n",
      "Fitted\n"
     ]
    },
    {
     "name": "stderr",
     "output_type": "stream",
     "text": [
      "\n",
      " 15%|████████████▏                                                                    | 15/100 [07:18<41:17, 29.14s/it]\u001b[A"
     ]
    },
    {
     "name": "stdout",
     "output_type": "stream",
     "text": [
      "Test Statistic:  0.0094372412549798\n",
      "p-value:  0.4145854145854146\n",
      "(200, 26)\n",
      "(200,)\n",
      "Fitted\n"
     ]
    },
    {
     "name": "stderr",
     "output_type": "stream",
     "text": [
      "\n",
      " 16%|████████████▉                                                                    | 16/100 [07:47<40:52, 29.20s/it]\u001b[A"
     ]
    },
    {
     "name": "stdout",
     "output_type": "stream",
     "text": [
      "Test Statistic:  0.0038543285823443574\n",
      "p-value:  1.0\n",
      "(200, 26)\n",
      "(200,)\n",
      "Fitted\n"
     ]
    },
    {
     "name": "stderr",
     "output_type": "stream",
     "text": [
      "\n",
      " 17%|█████████████▊                                                                   | 17/100 [08:18<41:07, 29.72s/it]\u001b[A"
     ]
    },
    {
     "name": "stdout",
     "output_type": "stream",
     "text": [
      "Test Statistic:  0.006825091397460792\n",
      "p-value:  0.8551448551448552\n",
      "(200, 26)\n",
      "(200,)\n",
      "Fitted\n"
     ]
    },
    {
     "name": "stderr",
     "output_type": "stream",
     "text": [
      "\n",
      " 18%|██████████████▌                                                                  | 18/100 [08:55<43:17, 31.67s/it]\u001b[A"
     ]
    },
    {
     "name": "stdout",
     "output_type": "stream",
     "text": [
      "Test Statistic:  0.008563559817871602\n",
      "p-value:  0.6703296703296703\n",
      "(200, 26)\n",
      "(200,)\n",
      "Fitted\n"
     ]
    },
    {
     "name": "stderr",
     "output_type": "stream",
     "text": [
      "\n",
      " 19%|███████████████▍                                                                 | 19/100 [09:24<41:47, 30.95s/it]\u001b[A"
     ]
    },
    {
     "name": "stdout",
     "output_type": "stream",
     "text": [
      "Test Statistic:  0.0024318679447313807\n",
      "p-value:  1.0\n",
      "(200, 26)\n",
      "(200,)\n",
      "Fitted\n"
     ]
    },
    {
     "name": "stderr",
     "output_type": "stream",
     "text": [
      "\n",
      " 20%|████████████████▏                                                                | 20/100 [09:53<40:28, 30.36s/it]\u001b[A"
     ]
    },
    {
     "name": "stdout",
     "output_type": "stream",
     "text": [
      "Test Statistic:  0.00945777344183285\n",
      "p-value:  0.34265734265734266\n",
      "(200, 26)\n",
      "(200,)\n",
      "Fitted\n"
     ]
    },
    {
     "name": "stderr",
     "output_type": "stream",
     "text": [
      "\n",
      " 21%|█████████████████                                                                | 21/100 [10:22<39:34, 30.05s/it]\u001b[A"
     ]
    },
    {
     "name": "stdout",
     "output_type": "stream",
     "text": [
      "Test Statistic:  0.003681421126840778\n",
      "p-value:  1.0\n",
      "(200, 26)\n",
      "(200,)\n",
      "Fitted\n"
     ]
    },
    {
     "name": "stderr",
     "output_type": "stream",
     "text": [
      "\n",
      " 22%|█████████████████▊                                                               | 22/100 [10:54<39:40, 30.52s/it]\u001b[A"
     ]
    },
    {
     "name": "stdout",
     "output_type": "stream",
     "text": [
      "Test Statistic:  0.0029287446915703397\n",
      "p-value:  1.0\n",
      "(200, 26)\n",
      "(200,)\n",
      "Fitted\n"
     ]
    },
    {
     "name": "stderr",
     "output_type": "stream",
     "text": [
      "\n",
      " 23%|██████████████████▋                                                              | 23/100 [11:25<39:18, 30.63s/it]\u001b[A"
     ]
    },
    {
     "name": "stdout",
     "output_type": "stream",
     "text": [
      "Test Statistic:  0.019246241258245478\n",
      "p-value:  0.008991008991008992\n",
      "(200, 26)\n",
      "(200,)\n",
      "Fitted\n"
     ]
    },
    {
     "name": "stderr",
     "output_type": "stream",
     "text": [
      "\n",
      " 24%|███████████████████▍                                                             | 24/100 [11:54<38:06, 30.08s/it]\u001b[A"
     ]
    },
    {
     "name": "stdout",
     "output_type": "stream",
     "text": [
      "Test Statistic:  0.014755947606511333\n",
      "p-value:  0.04995004995004995\n",
      "(200, 26)\n",
      "(200,)\n",
      "Fitted\n"
     ]
    },
    {
     "name": "stderr",
     "output_type": "stream",
     "text": [
      "\n",
      " 25%|████████████████████▎                                                            | 25/100 [12:23<37:14, 29.79s/it]\u001b[A"
     ]
    },
    {
     "name": "stdout",
     "output_type": "stream",
     "text": [
      "Test Statistic:  0.009895955976588988\n",
      "p-value:  0.32867132867132864\n",
      "(200, 26)\n",
      "(200,)\n",
      "Fitted\n"
     ]
    },
    {
     "name": "stderr",
     "output_type": "stream",
     "text": [
      "\n",
      " 26%|█████████████████████                                                            | 26/100 [12:52<36:38, 29.71s/it]\u001b[A"
     ]
    },
    {
     "name": "stdout",
     "output_type": "stream",
     "text": [
      "Test Statistic:  0.003421493824375954\n",
      "p-value:  1.0\n",
      "(200, 26)\n",
      "(200,)\n",
      "Fitted\n"
     ]
    },
    {
     "name": "stderr",
     "output_type": "stream",
     "text": [
      "\n",
      " 27%|█████████████████████▊                                                           | 27/100 [13:21<35:59, 29.58s/it]\u001b[A"
     ]
    },
    {
     "name": "stdout",
     "output_type": "stream",
     "text": [
      "Test Statistic:  0.00690381544459584\n",
      "p-value:  0.8871128871128872\n",
      "(200, 26)\n",
      "(200,)\n",
      "Fitted\n"
     ]
    },
    {
     "name": "stderr",
     "output_type": "stream",
     "text": [
      "\n",
      " 28%|██████████████████████▋                                                          | 28/100 [13:51<35:27, 29.54s/it]\u001b[A"
     ]
    },
    {
     "name": "stdout",
     "output_type": "stream",
     "text": [
      "Test Statistic:  0.0075921612085319\n",
      "p-value:  0.8101898101898102\n",
      "(200, 26)\n",
      "(200,)\n",
      "Fitted\n"
     ]
    },
    {
     "name": "stderr",
     "output_type": "stream",
     "text": [
      "\n",
      " 29%|███████████████████████▍                                                         | 29/100 [14:20<34:56, 29.53s/it]\u001b[A"
     ]
    },
    {
     "name": "stdout",
     "output_type": "stream",
     "text": [
      "Test Statistic:  0.01183700823398448\n",
      "p-value:  0.17182817182817184\n",
      "(200, 26)\n",
      "(200,)\n",
      "Fitted\n"
     ]
    },
    {
     "name": "stderr",
     "output_type": "stream",
     "text": [
      "\n",
      " 30%|████████████████████████▎                                                        | 30/100 [14:51<34:51, 29.87s/it]\u001b[A"
     ]
    },
    {
     "name": "stdout",
     "output_type": "stream",
     "text": [
      "Test Statistic:  0.002453455993485898\n",
      "p-value:  1.0\n",
      "(200, 26)\n",
      "(200,)\n",
      "Fitted\n"
     ]
    },
    {
     "name": "stderr",
     "output_type": "stream",
     "text": [
      "\n",
      " 31%|█████████████████████████                                                        | 31/100 [15:21<34:27, 29.97s/it]\u001b[A"
     ]
    },
    {
     "name": "stdout",
     "output_type": "stream",
     "text": [
      "Test Statistic:  0.009436773422996314\n",
      "p-value:  0.34465534465534464\n",
      "(200, 26)\n",
      "(200,)\n",
      "Fitted\n"
     ]
    },
    {
     "name": "stderr",
     "output_type": "stream",
     "text": [
      "\n",
      " 32%|█████████████████████████▉                                                       | 32/100 [15:50<33:43, 29.76s/it]\u001b[A"
     ]
    },
    {
     "name": "stdout",
     "output_type": "stream",
     "text": [
      "Test Statistic:  0.012042444479832937\n",
      "p-value:  0.1958041958041958\n",
      "(200, 26)\n",
      "(200,)\n",
      "Fitted\n"
     ]
    },
    {
     "name": "stderr",
     "output_type": "stream",
     "text": [
      "\n",
      " 33%|██████████████████████████▋                                                      | 33/100 [16:20<33:12, 29.73s/it]\u001b[A"
     ]
    },
    {
     "name": "stdout",
     "output_type": "stream",
     "text": [
      "Test Statistic:  0.006578982703949521\n",
      "p-value:  0.955044955044955\n",
      "(200, 26)\n",
      "(200,)\n",
      "Fitted\n"
     ]
    },
    {
     "name": "stderr",
     "output_type": "stream",
     "text": [
      "\n",
      " 34%|███████████████████████████▌                                                     | 34/100 [16:49<32:30, 29.55s/it]\u001b[A"
     ]
    },
    {
     "name": "stdout",
     "output_type": "stream",
     "text": [
      "Test Statistic:  0.003089107201038943\n",
      "p-value:  1.0\n",
      "(200, 26)\n",
      "(200,)\n",
      "Fitted\n"
     ]
    },
    {
     "name": "stderr",
     "output_type": "stream",
     "text": [
      "\n",
      " 35%|████████████████████████████▎                                                    | 35/100 [17:19<31:59, 29.53s/it]\u001b[A"
     ]
    },
    {
     "name": "stdout",
     "output_type": "stream",
     "text": [
      "Test Statistic:  0.008194254828036818\n",
      "p-value:  0.7162837162837162\n",
      "(200, 26)\n",
      "(200,)\n",
      "Fitted\n"
     ]
    },
    {
     "name": "stderr",
     "output_type": "stream",
     "text": [
      "\n",
      " 36%|█████████████████████████████▏                                                   | 36/100 [17:48<31:16, 29.32s/it]\u001b[A"
     ]
    },
    {
     "name": "stdout",
     "output_type": "stream",
     "text": [
      "Test Statistic:  0.017196470983532053\n",
      "p-value:  0.011988011988011988\n",
      "(200, 26)\n",
      "(200,)\n",
      "Fitted\n"
     ]
    },
    {
     "name": "stderr",
     "output_type": "stream",
     "text": [
      "\n",
      " 37%|█████████████████████████████▉                                                   | 37/100 [18:19<31:19, 29.83s/it]\u001b[A"
     ]
    },
    {
     "name": "stdout",
     "output_type": "stream",
     "text": [
      "Test Statistic:  0.0029511198018743467\n",
      "p-value:  1.0\n",
      "(200, 26)\n",
      "(200,)\n",
      "Fitted\n"
     ]
    },
    {
     "name": "stderr",
     "output_type": "stream",
     "text": [
      "\n",
      " 38%|██████████████████████████████▊                                                  | 38/100 [18:49<31:07, 30.13s/it]\u001b[A"
     ]
    },
    {
     "name": "stdout",
     "output_type": "stream",
     "text": [
      "Test Statistic:  0.003880940126895216\n",
      "p-value:  1.0\n",
      "(200, 26)\n",
      "(200,)\n",
      "Fitted\n"
     ]
    },
    {
     "name": "stderr",
     "output_type": "stream",
     "text": [
      "\n",
      " 39%|███████████████████████████████▌                                                 | 39/100 [19:21<30:57, 30.45s/it]\u001b[A"
     ]
    },
    {
     "name": "stdout",
     "output_type": "stream",
     "text": [
      "Test Statistic:  0.004768779005182022\n",
      "p-value:  1.0\n",
      "(200, 26)\n",
      "(200,)\n",
      "Fitted\n"
     ]
    },
    {
     "name": "stderr",
     "output_type": "stream",
     "text": [
      "\n",
      " 40%|████████████████████████████████▍                                                | 40/100 [19:50<30:03, 30.05s/it]\u001b[A"
     ]
    },
    {
     "name": "stdout",
     "output_type": "stream",
     "text": [
      "Test Statistic:  0.004685521417851057\n",
      "p-value:  1.0\n",
      "(200, 26)\n",
      "(200,)\n",
      "Fitted\n"
     ]
    },
    {
     "name": "stderr",
     "output_type": "stream",
     "text": [
      "\n",
      " 41%|█████████████████████████████████▏                                               | 41/100 [20:19<29:20, 29.84s/it]\u001b[A"
     ]
    },
    {
     "name": "stdout",
     "output_type": "stream",
     "text": [
      "Test Statistic:  0.016737928597612917\n",
      "p-value:  0.030969030969030968\n",
      "(200, 26)\n",
      "(200,)\n",
      "Fitted\n"
     ]
    },
    {
     "name": "stderr",
     "output_type": "stream",
     "text": [
      "\n",
      " 42%|██████████████████████████████████                                               | 42/100 [20:48<28:40, 29.66s/it]\u001b[A"
     ]
    },
    {
     "name": "stdout",
     "output_type": "stream",
     "text": [
      "Test Statistic:  0.007172834872198441\n",
      "p-value:  0.8451548451548452\n",
      "(200, 26)\n",
      "(200,)\n",
      "Fitted\n"
     ]
    },
    {
     "name": "stderr",
     "output_type": "stream",
     "text": [
      "\n",
      " 43%|██████████████████████████████████▊                                              | 43/100 [21:18<28:07, 29.60s/it]\u001b[A"
     ]
    },
    {
     "name": "stdout",
     "output_type": "stream",
     "text": [
      "Test Statistic:  0.01525928951338229\n",
      "p-value:  0.01998001998001998\n",
      "(200, 26)\n",
      "(200,)\n",
      "Fitted\n"
     ]
    },
    {
     "name": "stderr",
     "output_type": "stream",
     "text": [
      "\n",
      " 44%|███████████████████████████████████▋                                             | 44/100 [21:48<27:42, 29.70s/it]\u001b[A"
     ]
    },
    {
     "name": "stdout",
     "output_type": "stream",
     "text": [
      "Test Statistic:  0.009220872294462445\n",
      "p-value:  0.38161838161838163\n",
      "(200, 26)\n",
      "(200,)\n",
      "Fitted\n"
     ]
    },
    {
     "name": "stderr",
     "output_type": "stream",
     "text": [
      "\n",
      " 45%|████████████████████████████████████▍                                            | 45/100 [22:17<27:09, 29.62s/it]\u001b[A"
     ]
    },
    {
     "name": "stdout",
     "output_type": "stream",
     "text": [
      "Test Statistic:  0.00805004797180009\n",
      "p-value:  0.7292707292707292\n",
      "(200, 26)\n",
      "(200,)\n",
      "Fitted\n"
     ]
    },
    {
     "name": "stderr",
     "output_type": "stream",
     "text": [
      "\n",
      " 46%|█████████████████████████████████████▎                                           | 46/100 [22:46<26:28, 29.41s/it]\u001b[A"
     ]
    },
    {
     "name": "stdout",
     "output_type": "stream",
     "text": [
      "Test Statistic:  0.002881649262640562\n",
      "p-value:  1.0\n",
      "(200, 26)\n",
      "(200,)\n",
      "Fitted\n"
     ]
    },
    {
     "name": "stderr",
     "output_type": "stream",
     "text": [
      "\n",
      " 47%|██████████████████████████████████████                                           | 47/100 [23:16<26:10, 29.63s/it]\u001b[A"
     ]
    },
    {
     "name": "stdout",
     "output_type": "stream",
     "text": [
      "Test Statistic:  0.0077295607531228105\n",
      "p-value:  0.8541458541458542\n",
      "(200, 26)\n",
      "(200,)\n",
      "Fitted\n"
     ]
    },
    {
     "name": "stderr",
     "output_type": "stream",
     "text": [
      "\n",
      " 48%|██████████████████████████████████████▉                                          | 48/100 [23:46<25:45, 29.72s/it]\u001b[A"
     ]
    },
    {
     "name": "stdout",
     "output_type": "stream",
     "text": [
      "Test Statistic:  0.0034005653201215624\n",
      "p-value:  1.0\n",
      "(200, 26)\n",
      "(200,)\n",
      "Fitted\n"
     ]
    },
    {
     "name": "stderr",
     "output_type": "stream",
     "text": [
      "\n",
      " 49%|███████████████████████████████████████▋                                         | 49/100 [24:16<25:13, 29.68s/it]\u001b[A"
     ]
    },
    {
     "name": "stdout",
     "output_type": "stream",
     "text": [
      "Test Statistic:  0.004560882663313781\n",
      "p-value:  1.0\n",
      "(200, 26)\n",
      "(200,)\n",
      "Fitted\n"
     ]
    },
    {
     "name": "stderr",
     "output_type": "stream",
     "text": [
      "\n",
      " 50%|████████████████████████████████████████▌                                        | 50/100 [24:45<24:36, 29.54s/it]\u001b[A"
     ]
    },
    {
     "name": "stdout",
     "output_type": "stream",
     "text": [
      "Test Statistic:  0.02671861430192246\n",
      "p-value:  0.000999000999000999\n",
      "(200, 26)\n",
      "(200,)\n",
      "Fitted\n"
     ]
    },
    {
     "name": "stderr",
     "output_type": "stream",
     "text": [
      "\n",
      " 51%|█████████████████████████████████████████▎                                       | 51/100 [25:15<24:16, 29.72s/it]\u001b[A"
     ]
    },
    {
     "name": "stdout",
     "output_type": "stream",
     "text": [
      "Test Statistic:  0.0038950851532641995\n",
      "p-value:  1.0\n",
      "(200, 26)\n",
      "(200,)\n",
      "Fitted\n"
     ]
    },
    {
     "name": "stderr",
     "output_type": "stream",
     "text": [
      "\n",
      " 52%|██████████████████████████████████████████                                       | 52/100 [25:45<23:43, 29.65s/it]\u001b[A"
     ]
    },
    {
     "name": "stdout",
     "output_type": "stream",
     "text": [
      "Test Statistic:  0.023182120033324982\n",
      "p-value:  0.004995004995004995\n",
      "(200, 26)\n",
      "(200,)\n",
      "Fitted\n"
     ]
    },
    {
     "name": "stderr",
     "output_type": "stream",
     "text": [
      "\n",
      " 53%|██████████████████████████████████████████▉                                      | 53/100 [26:14<23:12, 29.63s/it]\u001b[A"
     ]
    },
    {
     "name": "stdout",
     "output_type": "stream",
     "text": [
      "Test Statistic:  0.009185559410968658\n",
      "p-value:  0.4905094905094905\n",
      "(200, 26)\n",
      "(200,)\n",
      "Fitted\n"
     ]
    },
    {
     "name": "stderr",
     "output_type": "stream",
     "text": [
      "\n",
      " 54%|███████████████████████████████████████████▋                                     | 54/100 [26:43<22:37, 29.52s/it]\u001b[A"
     ]
    },
    {
     "name": "stdout",
     "output_type": "stream",
     "text": [
      "Test Statistic:  0.014122471331426856\n",
      "p-value:  0.02097902097902098\n",
      "(200, 26)\n",
      "(200,)\n",
      "Fitted\n"
     ]
    },
    {
     "name": "stderr",
     "output_type": "stream",
     "text": [
      "\n",
      " 55%|████████████████████████████████████████████▌                                    | 55/100 [27:13<22:08, 29.52s/it]\u001b[A"
     ]
    },
    {
     "name": "stdout",
     "output_type": "stream",
     "text": [
      "Test Statistic:  0.008514223578671043\n",
      "p-value:  0.5424575424575424\n",
      "(200, 26)\n",
      "(200,)\n",
      "Fitted\n"
     ]
    },
    {
     "name": "stderr",
     "output_type": "stream",
     "text": [
      "\n",
      " 56%|█████████████████████████████████████████████▎                                   | 56/100 [27:43<21:40, 29.55s/it]\u001b[A"
     ]
    },
    {
     "name": "stdout",
     "output_type": "stream",
     "text": [
      "Test Statistic:  0.0067488372578790035\n",
      "p-value:  0.9460539460539461\n",
      "(200, 26)\n",
      "(200,)\n",
      "Fitted\n"
     ]
    },
    {
     "name": "stderr",
     "output_type": "stream",
     "text": [
      "\n",
      " 57%|██████████████████████████████████████████████▏                                  | 57/100 [28:12<21:11, 29.57s/it]\u001b[A"
     ]
    },
    {
     "name": "stdout",
     "output_type": "stream",
     "text": [
      "Test Statistic:  0.01703232631449003\n",
      "p-value:  0.01098901098901099\n",
      "(200, 26)\n",
      "(200,)\n",
      "Fitted\n"
     ]
    },
    {
     "name": "stderr",
     "output_type": "stream",
     "text": [
      "\n",
      " 58%|██████████████████████████████████████████████▉                                  | 58/100 [28:44<21:15, 30.38s/it]\u001b[A"
     ]
    },
    {
     "name": "stdout",
     "output_type": "stream",
     "text": [
      "Test Statistic:  0.003902482681098385\n",
      "p-value:  1.0\n",
      "(200, 26)\n",
      "(200,)\n",
      "Fitted\n"
     ]
    },
    {
     "name": "stderr",
     "output_type": "stream",
     "text": [
      "\n",
      " 59%|███████████████████████████████████████████████▊                                 | 59/100 [29:14<20:30, 30.02s/it]\u001b[A"
     ]
    },
    {
     "name": "stdout",
     "output_type": "stream",
     "text": [
      "Test Statistic:  0.0026953195606385094\n",
      "p-value:  1.0\n",
      "(200, 26)\n",
      "(200,)\n",
      "Fitted\n"
     ]
    },
    {
     "name": "stderr",
     "output_type": "stream",
     "text": [
      "\n",
      " 60%|████████████████████████████████████████████████▌                                | 60/100 [29:43<19:50, 29.77s/it]\u001b[A"
     ]
    },
    {
     "name": "stdout",
     "output_type": "stream",
     "text": [
      "Test Statistic:  0.007439347729804924\n",
      "p-value:  0.8511488511488512\n",
      "(200, 26)\n",
      "(200,)\n",
      "Fitted\n"
     ]
    },
    {
     "name": "stderr",
     "output_type": "stream",
     "text": [
      "\n",
      " 61%|█████████████████████████████████████████████████▍                               | 61/100 [30:12<19:09, 29.48s/it]\u001b[A"
     ]
    },
    {
     "name": "stdout",
     "output_type": "stream",
     "text": [
      "Test Statistic:  0.006949625404917725\n",
      "p-value:  0.8451548451548452\n",
      "(200, 26)\n",
      "(200,)\n",
      "Fitted\n"
     ]
    },
    {
     "name": "stderr",
     "output_type": "stream",
     "text": [
      "\n",
      " 62%|██████████████████████████████████████████████████▏                              | 62/100 [30:41<18:35, 29.36s/it]\u001b[A"
     ]
    },
    {
     "name": "stdout",
     "output_type": "stream",
     "text": [
      "Test Statistic:  0.006321071800908684\n",
      "p-value:  0.97002997002997\n",
      "(200, 26)\n",
      "(200,)\n",
      "Fitted\n"
     ]
    },
    {
     "name": "stderr",
     "output_type": "stream",
     "text": [
      "\n",
      " 63%|███████████████████████████████████████████████████                              | 63/100 [31:10<18:01, 29.24s/it]\u001b[A"
     ]
    },
    {
     "name": "stdout",
     "output_type": "stream",
     "text": [
      "Test Statistic:  0.0059471977246498\n",
      "p-value:  0.997002997002997\n",
      "(200, 26)\n",
      "(200,)\n",
      "Fitted\n"
     ]
    },
    {
     "name": "stderr",
     "output_type": "stream",
     "text": [
      "\n",
      " 64%|███████████████████████████████████████████████████▊                             | 64/100 [31:39<17:34, 29.29s/it]\u001b[A"
     ]
    },
    {
     "name": "stdout",
     "output_type": "stream",
     "text": [
      "Test Statistic:  0.0022385799348704216\n",
      "p-value:  1.0\n",
      "(200, 26)\n",
      "(200,)\n",
      "Fitted\n"
     ]
    },
    {
     "name": "stderr",
     "output_type": "stream",
     "text": [
      "\n",
      " 65%|████████████████████████████████████████████████████▋                            | 65/100 [32:09<17:16, 29.60s/it]\u001b[A"
     ]
    },
    {
     "name": "stdout",
     "output_type": "stream",
     "text": [
      "Test Statistic:  0.008627548669685403\n",
      "p-value:  0.4915084915084915\n",
      "(200, 26)\n",
      "(200,)\n",
      "Fitted\n"
     ]
    },
    {
     "name": "stderr",
     "output_type": "stream",
     "text": [
      "\n",
      " 66%|█████████████████████████████████████████████████████▍                           | 66/100 [32:39<16:46, 29.60s/it]\u001b[A"
     ]
    },
    {
     "name": "stdout",
     "output_type": "stream",
     "text": [
      "Test Statistic:  0.006215611379514097\n",
      "p-value:  0.985014985014985\n",
      "(200, 26)\n",
      "(200,)\n",
      "Fitted\n"
     ]
    },
    {
     "name": "stderr",
     "output_type": "stream",
     "text": [
      "\n",
      " 67%|██████████████████████████████████████████████████████▎                          | 67/100 [33:08<16:12, 29.46s/it]\u001b[A"
     ]
    },
    {
     "name": "stdout",
     "output_type": "stream",
     "text": [
      "Test Statistic:  0.0044935995872597\n",
      "p-value:  1.0\n",
      "(200, 26)\n",
      "(200,)\n",
      "Fitted\n"
     ]
    },
    {
     "name": "stderr",
     "output_type": "stream",
     "text": [
      "\n",
      " 68%|███████████████████████████████████████████████████████                          | 68/100 [33:38<15:43, 29.49s/it]\u001b[A"
     ]
    },
    {
     "name": "stdout",
     "output_type": "stream",
     "text": [
      "Test Statistic:  0.002778333672899924\n",
      "p-value:  1.0\n",
      "(200, 26)\n",
      "(200,)\n",
      "Fitted\n"
     ]
    },
    {
     "name": "stderr",
     "output_type": "stream",
     "text": [
      "\n",
      " 69%|███████████████████████████████████████████████████████▉                         | 69/100 [34:07<15:15, 29.55s/it]\u001b[A"
     ]
    },
    {
     "name": "stdout",
     "output_type": "stream",
     "text": [
      "Test Statistic:  0.003178763399180662\n",
      "p-value:  1.0\n",
      "(200, 26)\n",
      "(200,)\n",
      "Fitted\n"
     ]
    },
    {
     "name": "stderr",
     "output_type": "stream",
     "text": [
      "\n",
      " 70%|████████████████████████████████████████████████████████▋                        | 70/100 [34:37<14:44, 29.49s/it]\u001b[A"
     ]
    },
    {
     "name": "stdout",
     "output_type": "stream",
     "text": [
      "Test Statistic:  0.0018102476716544968\n",
      "p-value:  1.0\n",
      "(200, 26)\n",
      "(200,)\n",
      "Fitted\n"
     ]
    },
    {
     "name": "stderr",
     "output_type": "stream",
     "text": [
      "\n",
      " 71%|█████████████████████████████████████████████████████████▌                       | 71/100 [35:07<14:19, 29.64s/it]\u001b[A"
     ]
    },
    {
     "name": "stdout",
     "output_type": "stream",
     "text": [
      "Test Statistic:  0.00326511052974221\n",
      "p-value:  1.0\n",
      "(200, 26)\n",
      "(200,)\n",
      "Fitted\n"
     ]
    },
    {
     "name": "stderr",
     "output_type": "stream",
     "text": [
      "\n",
      " 72%|██████████████████████████████████████████████████████████▎                      | 72/100 [35:38<14:05, 30.21s/it]\u001b[A"
     ]
    },
    {
     "name": "stdout",
     "output_type": "stream",
     "text": [
      "Test Statistic:  0.008006862311867313\n",
      "p-value:  0.6833166833166833\n",
      "(200, 26)\n",
      "(200,)\n",
      "Fitted\n"
     ]
    },
    {
     "name": "stderr",
     "output_type": "stream",
     "text": [
      "\n",
      " 73%|███████████████████████████████████████████████████████████▏                     | 73/100 [36:09<13:37, 30.27s/it]\u001b[A"
     ]
    },
    {
     "name": "stdout",
     "output_type": "stream",
     "text": [
      "Test Statistic:  0.008518766576462555\n",
      "p-value:  0.6043956043956044\n",
      "(200, 26)\n",
      "(200,)\n",
      "Fitted\n"
     ]
    },
    {
     "name": "stderr",
     "output_type": "stream",
     "text": [
      "\n",
      " 74%|███████████████████████████████████████████████████████████▉                     | 74/100 [36:39<13:04, 30.16s/it]\u001b[A"
     ]
    },
    {
     "name": "stdout",
     "output_type": "stream",
     "text": [
      "Test Statistic:  0.009991736958968156\n",
      "p-value:  0.3886113886113886\n",
      "(200, 26)\n",
      "(200,)\n",
      "Fitted\n"
     ]
    },
    {
     "name": "stderr",
     "output_type": "stream",
     "text": [
      "\n",
      " 75%|████████████████████████████████████████████████████████████▊                    | 75/100 [37:07<12:24, 29.77s/it]\u001b[A"
     ]
    },
    {
     "name": "stdout",
     "output_type": "stream",
     "text": [
      "Test Statistic:  0.003171738793821044\n",
      "p-value:  1.0\n",
      "(200, 26)\n",
      "(200,)\n",
      "Fitted\n"
     ]
    },
    {
     "name": "stderr",
     "output_type": "stream",
     "text": [
      "\n",
      " 76%|█████████████████████████████████████████████████████████████▌                   | 76/100 [37:37<11:51, 29.64s/it]\u001b[A"
     ]
    },
    {
     "name": "stdout",
     "output_type": "stream",
     "text": [
      "Test Statistic:  0.0037013992932961592\n",
      "p-value:  1.0\n",
      "(200, 26)\n",
      "(200,)\n",
      "Fitted\n"
     ]
    },
    {
     "name": "stderr",
     "output_type": "stream",
     "text": [
      "\n",
      " 77%|██████████████████████████████████████████████████████████████▎                  | 77/100 [38:06<11:21, 29.62s/it]\u001b[A"
     ]
    },
    {
     "name": "stdout",
     "output_type": "stream",
     "text": [
      "Test Statistic:  0.004706182240095003\n",
      "p-value:  1.0\n",
      "(200, 26)\n",
      "(200,)\n",
      "Fitted\n"
     ]
    },
    {
     "name": "stderr",
     "output_type": "stream",
     "text": [
      "\n",
      " 78%|███████████████████████████████████████████████████████████████▏                 | 78/100 [38:45<11:51, 32.35s/it]\u001b[A"
     ]
    },
    {
     "name": "stdout",
     "output_type": "stream",
     "text": [
      "Test Statistic:  0.00328123393168267\n",
      "p-value:  1.0\n",
      "(200, 26)\n",
      "(200,)\n",
      "Fitted\n"
     ]
    },
    {
     "name": "stderr",
     "output_type": "stream",
     "text": [
      "\n",
      " 79%|███████████████████████████████████████████████████████████████▉                 | 79/100 [39:15<11:04, 31.66s/it]\u001b[A"
     ]
    },
    {
     "name": "stdout",
     "output_type": "stream",
     "text": [
      "Test Statistic:  0.011283363274931402\n",
      "p-value:  0.16483516483516483\n",
      "(200, 26)\n",
      "(200,)\n",
      "Fitted\n"
     ]
    },
    {
     "name": "stderr",
     "output_type": "stream",
     "text": [
      "\n",
      " 80%|████████████████████████████████████████████████████████████████▊                | 80/100 [39:45<10:21, 31.08s/it]\u001b[A"
     ]
    },
    {
     "name": "stdout",
     "output_type": "stream",
     "text": [
      "Test Statistic:  0.003781396230960854\n",
      "p-value:  1.0\n",
      "(200, 26)\n",
      "(200,)\n",
      "Fitted\n"
     ]
    },
    {
     "name": "stderr",
     "output_type": "stream",
     "text": [
      "\n",
      " 81%|█████████████████████████████████████████████████████████████████▌               | 81/100 [40:14<09:40, 30.56s/it]\u001b[A"
     ]
    },
    {
     "name": "stdout",
     "output_type": "stream",
     "text": [
      "Test Statistic:  0.0026141290290103703\n",
      "p-value:  1.0\n",
      "(200, 26)\n",
      "(200,)\n",
      "Fitted\n"
     ]
    },
    {
     "name": "stderr",
     "output_type": "stream",
     "text": [
      "\n",
      " 82%|██████████████████████████████████████████████████████████████████▍              | 82/100 [40:43<09:01, 30.10s/it]\u001b[A"
     ]
    },
    {
     "name": "stdout",
     "output_type": "stream",
     "text": [
      "Test Statistic:  0.0079388284525016\n",
      "p-value:  0.6323676323676324\n",
      "(200, 26)\n",
      "(200,)\n",
      "Fitted\n"
     ]
    },
    {
     "name": "stderr",
     "output_type": "stream",
     "text": [
      "\n",
      " 83%|███████████████████████████████████████████████████████████████████▏             | 83/100 [41:13<08:27, 29.86s/it]\u001b[A"
     ]
    },
    {
     "name": "stdout",
     "output_type": "stream",
     "text": [
      "Test Statistic:  0.008153197935477419\n",
      "p-value:  0.7682317682317682\n",
      "(200, 26)\n",
      "(200,)\n",
      "Fitted\n"
     ]
    },
    {
     "name": "stderr",
     "output_type": "stream",
     "text": [
      "\n",
      " 84%|████████████████████████████████████████████████████████████████████             | 84/100 [41:42<07:54, 29.64s/it]\u001b[A"
     ]
    },
    {
     "name": "stdout",
     "output_type": "stream",
     "text": [
      "Test Statistic:  0.016769443462252176\n",
      "p-value:  0.015984015984015984\n",
      "(200, 26)\n",
      "(200,)\n",
      "Fitted\n"
     ]
    },
    {
     "name": "stderr",
     "output_type": "stream",
     "text": [
      "\n",
      " 85%|████████████████████████████████████████████████████████████████████▊            | 85/100 [42:11<07:21, 29.45s/it]\u001b[A"
     ]
    },
    {
     "name": "stdout",
     "output_type": "stream",
     "text": [
      "Test Statistic:  0.014895701951446072\n",
      "p-value:  0.05094905094905095\n",
      "(200, 26)\n",
      "(200,)\n",
      "Fitted\n"
     ]
    },
    {
     "name": "stderr",
     "output_type": "stream",
     "text": [
      "\n",
      " 86%|█████████████████████████████████████████████████████████████████████▋           | 86/100 [42:40<06:50, 29.30s/it]\u001b[A"
     ]
    },
    {
     "name": "stdout",
     "output_type": "stream",
     "text": [
      "Test Statistic:  0.007830567244410225\n",
      "p-value:  0.6663336663336663\n",
      "(200, 26)\n",
      "(200,)\n",
      "Fitted\n"
     ]
    },
    {
     "name": "stderr",
     "output_type": "stream",
     "text": [
      "\n",
      " 87%|██████████████████████████████████████████████████████████████████████▍          | 87/100 [43:09<06:19, 29.21s/it]\u001b[A"
     ]
    },
    {
     "name": "stdout",
     "output_type": "stream",
     "text": [
      "Test Statistic:  0.0030580785055021042\n",
      "p-value:  1.0\n",
      "(200, 26)\n",
      "(200,)\n",
      "Fitted\n"
     ]
    },
    {
     "name": "stderr",
     "output_type": "stream",
     "text": [
      "\n",
      " 88%|███████████████████████████████████████████████████████████████████████▎         | 88/100 [43:38<05:50, 29.19s/it]\u001b[A"
     ]
    },
    {
     "name": "stdout",
     "output_type": "stream",
     "text": [
      "Test Statistic:  0.0038030353448341714\n",
      "p-value:  1.0\n",
      "(200, 26)\n",
      "(200,)\n",
      "Fitted\n"
     ]
    },
    {
     "name": "stderr",
     "output_type": "stream",
     "text": [
      "\n",
      " 89%|████████████████████████████████████████████████████████████████████████         | 89/100 [44:07<05:21, 29.20s/it]\u001b[A"
     ]
    },
    {
     "name": "stdout",
     "output_type": "stream",
     "text": [
      "Test Statistic:  0.005021649194184907\n",
      "p-value:  1.0\n",
      "(200, 26)\n",
      "(200,)\n",
      "Fitted\n"
     ]
    },
    {
     "name": "stderr",
     "output_type": "stream",
     "text": [
      "\n",
      " 90%|████████████████████████████████████████████████████████████████████████▉        | 90/100 [44:36<04:52, 29.28s/it]\u001b[A"
     ]
    },
    {
     "name": "stdout",
     "output_type": "stream",
     "text": [
      "Test Statistic:  0.0074613484206871306\n",
      "p-value:  0.7822177822177823\n",
      "(200, 26)\n",
      "(200,)\n",
      "Fitted\n"
     ]
    },
    {
     "name": "stderr",
     "output_type": "stream",
     "text": [
      "\n",
      " 91%|█████████████████████████████████████████████████████████████████████████▋       | 91/100 [45:06<04:23, 29.26s/it]\u001b[A"
     ]
    },
    {
     "name": "stdout",
     "output_type": "stream",
     "text": [
      "Test Statistic:  0.007319373184103695\n",
      "p-value:  0.8861138861138861\n",
      "(200, 26)\n",
      "(200,)\n",
      "Fitted\n"
     ]
    },
    {
     "name": "stderr",
     "output_type": "stream",
     "text": [
      "\n",
      " 92%|██████████████████████████████████████████████████████████████████████████▌      | 92/100 [45:36<03:56, 29.54s/it]\u001b[A"
     ]
    },
    {
     "name": "stdout",
     "output_type": "stream",
     "text": [
      "Test Statistic:  0.0032768817992396837\n",
      "p-value:  1.0\n",
      "(200, 26)\n",
      "(200,)\n",
      "Fitted\n"
     ]
    },
    {
     "name": "stderr",
     "output_type": "stream",
     "text": [
      "\n",
      " 93%|███████████████████████████████████████████████████████████████████████████▎     | 93/100 [46:05<03:26, 29.47s/it]\u001b[A"
     ]
    },
    {
     "name": "stdout",
     "output_type": "stream",
     "text": [
      "Test Statistic:  0.0030222693925098243\n",
      "p-value:  1.0\n",
      "(200, 26)\n",
      "(200,)\n",
      "Fitted\n"
     ]
    },
    {
     "name": "stderr",
     "output_type": "stream",
     "text": [
      "\n",
      " 94%|████████████████████████████████████████████████████████████████████████████▏    | 94/100 [46:34<02:56, 29.35s/it]\u001b[A"
     ]
    },
    {
     "name": "stdout",
     "output_type": "stream",
     "text": [
      "Test Statistic:  0.0021164854173854053\n",
      "p-value:  1.0\n",
      "(200, 26)\n",
      "(200,)\n",
      "Fitted\n"
     ]
    },
    {
     "name": "stderr",
     "output_type": "stream",
     "text": [
      "\n",
      " 95%|████████████████████████████████████████████████████████████████████████████▉    | 95/100 [47:04<02:26, 29.33s/it]\u001b[A"
     ]
    },
    {
     "name": "stdout",
     "output_type": "stream",
     "text": [
      "Test Statistic:  0.01109930605967302\n",
      "p-value:  0.17082917082917082\n",
      "(200, 26)\n",
      "(200,)\n",
      "Fitted\n"
     ]
    },
    {
     "name": "stderr",
     "output_type": "stream",
     "text": [
      "\n",
      " 96%|█████████████████████████████████████████████████████████████████████████████▊   | 96/100 [47:33<01:57, 29.34s/it]\u001b[A"
     ]
    },
    {
     "name": "stdout",
     "output_type": "stream",
     "text": [
      "Test Statistic:  0.011343070702519054\n",
      "p-value:  0.16283716283716285\n",
      "(200, 26)\n",
      "(200,)\n",
      "Fitted\n"
     ]
    },
    {
     "name": "stderr",
     "output_type": "stream",
     "text": [
      "\n",
      " 97%|██████████████████████████████████████████████████████████████████████████████▌  | 97/100 [48:02<01:27, 29.20s/it]\u001b[A"
     ]
    },
    {
     "name": "stdout",
     "output_type": "stream",
     "text": [
      "Test Statistic:  0.009368425029529615\n",
      "p-value:  0.4835164835164835\n",
      "(200, 26)\n",
      "(200,)\n",
      "Fitted\n"
     ]
    },
    {
     "name": "stderr",
     "output_type": "stream",
     "text": [
      "\n",
      " 98%|███████████████████████████████████████████████████████████████████████████████▍ | 98/100 [48:35<01:00, 30.33s/it]\u001b[A"
     ]
    },
    {
     "name": "stdout",
     "output_type": "stream",
     "text": [
      "Test Statistic:  0.015346333465066309\n",
      "p-value:  0.024975024975024976\n",
      "(200, 26)\n",
      "(200,)\n",
      "Fitted\n"
     ]
    },
    {
     "name": "stderr",
     "output_type": "stream",
     "text": [
      "\n",
      " 99%|████████████████████████████████████████████████████████████████████████████████▏| 99/100 [49:04<00:29, 29.88s/it]\u001b[A"
     ]
    },
    {
     "name": "stdout",
     "output_type": "stream",
     "text": [
      "Test Statistic:  0.006531452076518729\n",
      "p-value:  0.919080919080919\n",
      "(200, 26)\n",
      "(200,)\n",
      "Fitted\n"
     ]
    },
    {
     "name": "stderr",
     "output_type": "stream",
     "text": [
      "\n",
      "100%|████████████████████████████████████████████████████████████████████████████████| 100/100 [49:33<00:00, 29.73s/it]\u001b[A\n",
      " 65%|████████████████████████████████████████████████▊                          | 13/20 [11:34:36<6:13:47, 3203.99s/it]\n",
      "  0%|                                                                                          | 0/100 [00:00<?, ?it/s]\u001b[A"
     ]
    },
    {
     "name": "stdout",
     "output_type": "stream",
     "text": [
      "Test Statistic:  0.002545012863741425\n",
      "p-value:  1.0\n",
      "dimension 14\n",
      "circle\n",
      "(200, 28)\n",
      "(200,)\n",
      "Fitted\n"
     ]
    },
    {
     "name": "stderr",
     "output_type": "stream",
     "text": [
      "\n",
      "  1%|▊                                                                                 | 1/100 [00:29<48:23, 29.33s/it]\u001b[A"
     ]
    },
    {
     "name": "stdout",
     "output_type": "stream",
     "text": [
      "Test Statistic:  0.015305223353391906\n",
      "p-value:  0.04095904095904096\n",
      "(200, 28)\n",
      "(200,)\n",
      "Fitted\n"
     ]
    },
    {
     "name": "stderr",
     "output_type": "stream",
     "text": [
      "\n",
      "  2%|█▋                                                                                | 2/100 [00:58<48:04, 29.43s/it]\u001b[A"
     ]
    },
    {
     "name": "stdout",
     "output_type": "stream",
     "text": [
      "Test Statistic:  0.002154923556088706\n",
      "p-value:  1.0\n",
      "(200, 28)\n",
      "(200,)\n",
      "Fitted\n"
     ]
    },
    {
     "name": "stderr",
     "output_type": "stream",
     "text": [
      "\n",
      "  3%|██▍                                                                               | 3/100 [01:28<47:38, 29.47s/it]\u001b[A"
     ]
    },
    {
     "name": "stdout",
     "output_type": "stream",
     "text": [
      "Test Statistic:  0.0033704609520154305\n",
      "p-value:  1.0\n",
      "(200, 28)\n",
      "(200,)\n",
      "Fitted\n"
     ]
    },
    {
     "name": "stderr",
     "output_type": "stream",
     "text": [
      "\n",
      "  4%|███▎                                                                              | 4/100 [01:58<47:12, 29.51s/it]\u001b[A"
     ]
    },
    {
     "name": "stdout",
     "output_type": "stream",
     "text": [
      "Test Statistic:  0.004791373789162612\n",
      "p-value:  1.0\n",
      "(200, 28)\n",
      "(200,)\n",
      "Fitted\n"
     ]
    },
    {
     "name": "stderr",
     "output_type": "stream",
     "text": [
      "\n",
      "  5%|████                                                                              | 5/100 [02:27<46:41, 29.49s/it]\u001b[A"
     ]
    },
    {
     "name": "stdout",
     "output_type": "stream",
     "text": [
      "Test Statistic:  0.015213062014068024\n",
      "p-value:  0.04495504495504495\n",
      "(200, 28)\n",
      "(200,)\n",
      "Fitted\n"
     ]
    },
    {
     "name": "stderr",
     "output_type": "stream",
     "text": [
      "\n",
      "  6%|████▉                                                                             | 6/100 [02:57<46:16, 29.54s/it]\u001b[A"
     ]
    },
    {
     "name": "stdout",
     "output_type": "stream",
     "text": [
      "Test Statistic:  0.0018011330162379657\n",
      "p-value:  1.0\n",
      "(200, 28)\n",
      "(200,)\n",
      "Fitted\n"
     ]
    },
    {
     "name": "stderr",
     "output_type": "stream",
     "text": [
      "\n",
      "  7%|█████▋                                                                            | 7/100 [03:26<45:44, 29.51s/it]\u001b[A"
     ]
    },
    {
     "name": "stdout",
     "output_type": "stream",
     "text": [
      "Test Statistic:  0.002079362581648425\n",
      "p-value:  1.0\n",
      "(200, 28)\n",
      "(200,)\n",
      "Fitted\n"
     ]
    },
    {
     "name": "stderr",
     "output_type": "stream",
     "text": [
      "\n",
      "  8%|██████▌                                                                           | 8/100 [03:55<45:01, 29.37s/it]\u001b[A"
     ]
    },
    {
     "name": "stdout",
     "output_type": "stream",
     "text": [
      "Test Statistic:  0.002012458350303614\n",
      "p-value:  1.0\n",
      "(200, 28)\n",
      "(200,)\n",
      "Fitted\n"
     ]
    },
    {
     "name": "stderr",
     "output_type": "stream",
     "text": [
      "\n",
      "  9%|███████▍                                                                          | 9/100 [04:24<44:21, 29.25s/it]\u001b[A"
     ]
    },
    {
     "name": "stdout",
     "output_type": "stream",
     "text": [
      "Test Statistic:  0.013415592318246405\n",
      "p-value:  0.04395604395604396\n",
      "(200, 28)\n",
      "(200,)\n",
      "Fitted\n"
     ]
    },
    {
     "name": "stderr",
     "output_type": "stream",
     "text": [
      "\n",
      " 10%|████████                                                                         | 10/100 [04:54<44:02, 29.36s/it]\u001b[A"
     ]
    },
    {
     "name": "stdout",
     "output_type": "stream",
     "text": [
      "Test Statistic:  0.019177013439265145\n",
      "p-value:  0.005994005994005994\n",
      "(200, 28)\n",
      "(200,)\n",
      "Fitted\n"
     ]
    },
    {
     "name": "stderr",
     "output_type": "stream",
     "text": [
      "\n",
      " 11%|████████▉                                                                        | 11/100 [05:23<43:28, 29.31s/it]\u001b[A"
     ]
    },
    {
     "name": "stdout",
     "output_type": "stream",
     "text": [
      "Test Statistic:  0.0034067615751293134\n",
      "p-value:  1.0\n",
      "(200, 28)\n",
      "(200,)\n",
      "Fitted\n"
     ]
    },
    {
     "name": "stderr",
     "output_type": "stream",
     "text": [
      "\n",
      " 12%|█████████▋                                                                       | 12/100 [05:53<43:15, 29.50s/it]\u001b[A"
     ]
    },
    {
     "name": "stdout",
     "output_type": "stream",
     "text": [
      "Test Statistic:  0.018479716980415395\n",
      "p-value:  0.01098901098901099\n",
      "(200, 28)\n",
      "(200,)\n",
      "Fitted\n"
     ]
    },
    {
     "name": "stderr",
     "output_type": "stream",
     "text": [
      "\n",
      " 13%|██████████▌                                                                      | 13/100 [06:23<42:49, 29.53s/it]\u001b[A"
     ]
    },
    {
     "name": "stdout",
     "output_type": "stream",
     "text": [
      "Test Statistic:  0.0026556663812588033\n",
      "p-value:  1.0\n",
      "(200, 28)\n",
      "(200,)\n",
      "Fitted\n"
     ]
    },
    {
     "name": "stderr",
     "output_type": "stream",
     "text": [
      "\n",
      " 14%|███████████▎                                                                     | 14/100 [06:52<42:07, 29.39s/it]\u001b[A"
     ]
    },
    {
     "name": "stdout",
     "output_type": "stream",
     "text": [
      "Test Statistic:  0.0025803380373355944\n",
      "p-value:  1.0\n",
      "(200, 28)\n",
      "(200,)\n",
      "Fitted\n"
     ]
    },
    {
     "name": "stderr",
     "output_type": "stream",
     "text": [
      "\n",
      " 15%|████████████▏                                                                    | 15/100 [07:22<41:52, 29.56s/it]\u001b[A"
     ]
    },
    {
     "name": "stdout",
     "output_type": "stream",
     "text": [
      "Test Statistic:  0.0035226197585849217\n",
      "p-value:  1.0\n",
      "(200, 28)\n",
      "(200,)\n",
      "Fitted\n"
     ]
    },
    {
     "name": "stderr",
     "output_type": "stream",
     "text": [
      "\n",
      " 16%|████████████▉                                                                    | 16/100 [07:51<41:16, 29.48s/it]\u001b[A"
     ]
    },
    {
     "name": "stdout",
     "output_type": "stream",
     "text": [
      "Test Statistic:  0.008021890731361059\n",
      "p-value:  0.5544455544455544\n",
      "(200, 28)\n",
      "(200,)\n",
      "Fitted\n"
     ]
    },
    {
     "name": "stderr",
     "output_type": "stream",
     "text": [
      "\n",
      " 17%|█████████████▊                                                                   | 17/100 [08:20<40:31, 29.30s/it]\u001b[A"
     ]
    },
    {
     "name": "stdout",
     "output_type": "stream",
     "text": [
      "Test Statistic:  0.007726381628086254\n",
      "p-value:  0.8641358641358642\n",
      "(200, 28)\n",
      "(200,)\n",
      "Fitted\n"
     ]
    },
    {
     "name": "stderr",
     "output_type": "stream",
     "text": [
      "\n",
      " 18%|██████████████▌                                                                  | 18/100 [08:52<41:14, 30.18s/it]\u001b[A"
     ]
    },
    {
     "name": "stdout",
     "output_type": "stream",
     "text": [
      "Test Statistic:  0.0072922625955949005\n",
      "p-value:  0.8271728271728271\n",
      "(200, 28)\n",
      "(200,)\n",
      "Fitted\n"
     ]
    },
    {
     "name": "stderr",
     "output_type": "stream",
     "text": [
      "\n",
      " 19%|███████████████▍                                                                 | 19/100 [09:21<40:16, 29.83s/it]\u001b[A"
     ]
    },
    {
     "name": "stdout",
     "output_type": "stream",
     "text": [
      "Test Statistic:  0.008119906239898333\n",
      "p-value:  0.7302697302697303\n",
      "(200, 28)\n",
      "(200,)\n",
      "Fitted\n"
     ]
    },
    {
     "name": "stderr",
     "output_type": "stream",
     "text": [
      "\n",
      " 20%|████████████████▏                                                                | 20/100 [09:50<39:37, 29.72s/it]\u001b[A"
     ]
    },
    {
     "name": "stdout",
     "output_type": "stream",
     "text": [
      "Test Statistic:  0.011966073712910807\n",
      "p-value:  0.1068931068931069\n",
      "(200, 28)\n",
      "(200,)\n",
      "Fitted\n"
     ]
    },
    {
     "name": "stderr",
     "output_type": "stream",
     "text": [
      "\n",
      " 21%|█████████████████                                                                | 21/100 [10:22<39:47, 30.22s/it]\u001b[A"
     ]
    },
    {
     "name": "stdout",
     "output_type": "stream",
     "text": [
      "Test Statistic:  0.014252826217563519\n",
      "p-value:  0.04195804195804196\n",
      "(200, 28)\n",
      "(200,)\n",
      "Fitted\n"
     ]
    },
    {
     "name": "stderr",
     "output_type": "stream",
     "text": [
      "\n",
      " 22%|█████████████████▊                                                               | 22/100 [10:54<39:57, 30.74s/it]\u001b[A"
     ]
    },
    {
     "name": "stdout",
     "output_type": "stream",
     "text": [
      "Test Statistic:  0.007988182554372614\n",
      "p-value:  0.7472527472527473\n",
      "(200, 28)\n",
      "(200,)\n",
      "Fitted\n"
     ]
    },
    {
     "name": "stderr",
     "output_type": "stream",
     "text": [
      "\n",
      " 23%|██████████████████▋                                                              | 23/100 [11:23<38:46, 30.21s/it]\u001b[A"
     ]
    },
    {
     "name": "stdout",
     "output_type": "stream",
     "text": [
      "Test Statistic:  0.007088440375172533\n",
      "p-value:  0.8821178821178821\n",
      "(200, 28)\n",
      "(200,)\n",
      "Fitted\n"
     ]
    },
    {
     "name": "stderr",
     "output_type": "stream",
     "text": [
      "\n",
      " 24%|███████████████████▍                                                             | 24/100 [11:52<37:56, 29.96s/it]\u001b[A"
     ]
    },
    {
     "name": "stdout",
     "output_type": "stream",
     "text": [
      "Test Statistic:  0.005697368324635632\n",
      "p-value:  0.999000999000999\n",
      "(200, 28)\n",
      "(200,)\n",
      "Fitted\n"
     ]
    },
    {
     "name": "stderr",
     "output_type": "stream",
     "text": [
      "\n",
      " 25%|████████████████████▎                                                            | 25/100 [12:22<37:13, 29.78s/it]\u001b[A"
     ]
    },
    {
     "name": "stdout",
     "output_type": "stream",
     "text": [
      "Test Statistic:  0.018999004106052486\n",
      "p-value:  0.002997002997002997\n",
      "(200, 28)\n",
      "(200,)\n",
      "Fitted\n"
     ]
    },
    {
     "name": "stderr",
     "output_type": "stream",
     "text": [
      "\n",
      " 26%|█████████████████████                                                            | 26/100 [12:51<36:42, 29.76s/it]\u001b[A"
     ]
    },
    {
     "name": "stdout",
     "output_type": "stream",
     "text": [
      "Test Statistic:  0.007142661941473838\n",
      "p-value:  0.8221778221778222\n",
      "(200, 28)\n",
      "(200,)\n",
      "Fitted\n"
     ]
    },
    {
     "name": "stderr",
     "output_type": "stream",
     "text": [
      "\n",
      " 27%|█████████████████████▊                                                           | 27/100 [13:21<36:07, 29.69s/it]\u001b[A"
     ]
    },
    {
     "name": "stdout",
     "output_type": "stream",
     "text": [
      "Test Statistic:  0.004444467245193762\n",
      "p-value:  1.0\n",
      "(200, 28)\n",
      "(200,)\n",
      "Fitted\n"
     ]
    },
    {
     "name": "stderr",
     "output_type": "stream",
     "text": [
      "\n",
      " 28%|██████████████████████▋                                                          | 28/100 [13:50<35:31, 29.61s/it]\u001b[A"
     ]
    },
    {
     "name": "stdout",
     "output_type": "stream",
     "text": [
      "Test Statistic:  0.013743062214466084\n",
      "p-value:  0.06293706293706294\n",
      "(200, 28)\n",
      "(200,)\n",
      "Fitted\n"
     ]
    },
    {
     "name": "stderr",
     "output_type": "stream",
     "text": [
      "\n",
      " 29%|███████████████████████▍                                                         | 29/100 [14:19<34:41, 29.31s/it]\u001b[A"
     ]
    },
    {
     "name": "stdout",
     "output_type": "stream",
     "text": [
      "Test Statistic:  0.02105156266674313\n",
      "p-value:  0.003996003996003996\n",
      "(200, 28)\n",
      "(200,)\n",
      "Fitted\n"
     ]
    },
    {
     "name": "stderr",
     "output_type": "stream",
     "text": [
      "\n",
      " 30%|████████████████████████▎                                                        | 30/100 [14:48<34:03, 29.20s/it]\u001b[A"
     ]
    },
    {
     "name": "stdout",
     "output_type": "stream",
     "text": [
      "Test Statistic:  0.013038747411995733\n",
      "p-value:  0.07792207792207792\n",
      "(200, 28)\n",
      "(200,)\n",
      "Fitted\n"
     ]
    },
    {
     "name": "stderr",
     "output_type": "stream",
     "text": [
      "\n",
      " 31%|█████████████████████████                                                        | 31/100 [15:17<33:33, 29.18s/it]\u001b[A"
     ]
    },
    {
     "name": "stdout",
     "output_type": "stream",
     "text": [
      "Test Statistic:  0.010819704647520578\n",
      "p-value:  0.13986013986013987\n",
      "(200, 28)\n",
      "(200,)\n",
      "Fitted\n"
     ]
    },
    {
     "name": "stderr",
     "output_type": "stream",
     "text": [
      "\n",
      " 32%|█████████████████████████▉                                                       | 32/100 [15:56<36:24, 32.12s/it]\u001b[A"
     ]
    },
    {
     "name": "stdout",
     "output_type": "stream",
     "text": [
      "Test Statistic:  0.011110901946939977\n",
      "p-value:  0.22777222777222778\n",
      "(200, 28)\n",
      "(200,)\n",
      "Fitted\n"
     ]
    },
    {
     "name": "stderr",
     "output_type": "stream",
     "text": [
      "\n",
      " 33%|██████████████████████████▋                                                      | 33/100 [16:35<38:16, 34.28s/it]\u001b[A"
     ]
    },
    {
     "name": "stdout",
     "output_type": "stream",
     "text": [
      "Test Statistic:  0.018054089156856468\n",
      "p-value:  0.01898101898101898\n",
      "(200, 28)\n",
      "(200,)\n",
      "Fitted\n"
     ]
    },
    {
     "name": "stderr",
     "output_type": "stream",
     "text": [
      "\n",
      " 34%|███████████████████████████▌                                                     | 34/100 [17:15<39:36, 36.01s/it]\u001b[A"
     ]
    },
    {
     "name": "stdout",
     "output_type": "stream",
     "text": [
      "Test Statistic:  0.002449359565961373\n",
      "p-value:  1.0\n",
      "(200, 28)\n",
      "(200,)\n",
      "Fitted\n"
     ]
    },
    {
     "name": "stderr",
     "output_type": "stream",
     "text": [
      "\n",
      " 35%|████████████████████████████▎                                                    | 35/100 [17:56<40:35, 37.47s/it]\u001b[A"
     ]
    },
    {
     "name": "stdout",
     "output_type": "stream",
     "text": [
      "Test Statistic:  0.010302932688475153\n",
      "p-value:  0.23476523476523475\n",
      "(200, 28)\n",
      "(200,)\n",
      "Fitted\n"
     ]
    },
    {
     "name": "stderr",
     "output_type": "stream",
     "text": [
      "\n",
      " 36%|█████████████████████████████▏                                                   | 36/100 [18:37<41:11, 38.62s/it]\u001b[A"
     ]
    },
    {
     "name": "stdout",
     "output_type": "stream",
     "text": [
      "Test Statistic:  0.020783290194650084\n",
      "p-value:  0.007992007992007992\n",
      "(200, 28)\n",
      "(200,)\n",
      "Fitted\n"
     ]
    },
    {
     "name": "stderr",
     "output_type": "stream",
     "text": [
      "\n",
      " 37%|█████████████████████████████▉                                                   | 37/100 [19:31<45:13, 43.07s/it]\u001b[A"
     ]
    },
    {
     "name": "stdout",
     "output_type": "stream",
     "text": [
      "Test Statistic:  0.00792321212637448\n",
      "p-value:  0.8551448551448552\n",
      "(200, 28)\n",
      "(200,)\n",
      "Fitted\n"
     ]
    },
    {
     "name": "stderr",
     "output_type": "stream",
     "text": [
      "\n",
      " 38%|██████████████████████████████▊                                                  | 38/100 [20:01<40:30, 39.20s/it]\u001b[A"
     ]
    },
    {
     "name": "stdout",
     "output_type": "stream",
     "text": [
      "Test Statistic:  0.012188573077747789\n",
      "p-value:  0.12787212787212787\n",
      "(200, 28)\n",
      "(200,)\n",
      "Fitted\n"
     ]
    },
    {
     "name": "stderr",
     "output_type": "stream",
     "text": [
      "\n",
      " 39%|███████████████████████████████▌                                                 | 39/100 [20:30<36:44, 36.14s/it]\u001b[A"
     ]
    },
    {
     "name": "stdout",
     "output_type": "stream",
     "text": [
      "Test Statistic:  0.004771464684436011\n",
      "p-value:  1.0\n",
      "(200, 28)\n",
      "(200,)\n",
      "Fitted\n"
     ]
    },
    {
     "name": "stderr",
     "output_type": "stream",
     "text": [
      "\n",
      " 40%|████████████████████████████████▍                                                | 40/100 [20:59<34:05, 34.10s/it]\u001b[A"
     ]
    },
    {
     "name": "stdout",
     "output_type": "stream",
     "text": [
      "Test Statistic:  0.0026354500842419304\n",
      "p-value:  1.0\n",
      "(200, 28)\n",
      "(200,)\n",
      "Fitted\n"
     ]
    },
    {
     "name": "stderr",
     "output_type": "stream",
     "text": [
      "\n",
      " 41%|█████████████████████████████████▏                                               | 41/100 [21:29<32:09, 32.70s/it]\u001b[A"
     ]
    },
    {
     "name": "stdout",
     "output_type": "stream",
     "text": [
      "Test Statistic:  0.008003316787427495\n",
      "p-value:  0.42157842157842157\n",
      "(200, 28)\n",
      "(200,)\n",
      "Fitted\n"
     ]
    },
    {
     "name": "stderr",
     "output_type": "stream",
     "text": [
      "\n",
      " 42%|██████████████████████████████████                                               | 42/100 [21:58<30:42, 31.78s/it]\u001b[A"
     ]
    },
    {
     "name": "stdout",
     "output_type": "stream",
     "text": [
      "Test Statistic:  0.003071195430110696\n",
      "p-value:  1.0\n",
      "(200, 28)\n",
      "(200,)\n",
      "Fitted\n"
     ]
    },
    {
     "name": "stderr",
     "output_type": "stream",
     "text": [
      "\n",
      " 43%|██████████████████████████████████▊                                              | 43/100 [22:28<29:32, 31.10s/it]\u001b[A"
     ]
    },
    {
     "name": "stdout",
     "output_type": "stream",
     "text": [
      "Test Statistic:  0.005015773378490906\n",
      "p-value:  1.0\n",
      "(200, 28)\n",
      "(200,)\n",
      "Fitted\n"
     ]
    },
    {
     "name": "stderr",
     "output_type": "stream",
     "text": [
      "\n",
      " 44%|███████████████████████████████████▋                                             | 44/100 [22:57<28:26, 30.47s/it]\u001b[A"
     ]
    },
    {
     "name": "stdout",
     "output_type": "stream",
     "text": [
      "Test Statistic:  0.0028684112629370206\n",
      "p-value:  1.0\n",
      "(200, 28)\n",
      "(200,)\n",
      "Fitted\n"
     ]
    },
    {
     "name": "stderr",
     "output_type": "stream",
     "text": [
      "\n",
      " 45%|████████████████████████████████████▍                                            | 45/100 [23:26<27:27, 29.95s/it]\u001b[A"
     ]
    },
    {
     "name": "stdout",
     "output_type": "stream",
     "text": [
      "Test Statistic:  0.0023086456091027108\n",
      "p-value:  1.0\n",
      "(200, 28)\n",
      "(200,)\n",
      "Fitted\n"
     ]
    },
    {
     "name": "stderr",
     "output_type": "stream",
     "text": [
      "\n",
      " 46%|█████████████████████████████████████▎                                           | 46/100 [23:55<26:51, 29.85s/it]\u001b[A"
     ]
    },
    {
     "name": "stdout",
     "output_type": "stream",
     "text": [
      "Test Statistic:  0.008439575762747897\n",
      "p-value:  0.5234765234765235\n",
      "(200, 28)\n",
      "(200,)\n",
      "Fitted\n"
     ]
    },
    {
     "name": "stderr",
     "output_type": "stream",
     "text": [
      "\n",
      " 47%|██████████████████████████████████████                                           | 47/100 [24:24<26:09, 29.60s/it]\u001b[A"
     ]
    },
    {
     "name": "stdout",
     "output_type": "stream",
     "text": [
      "Test Statistic:  0.004346638367572431\n",
      "p-value:  1.0\n",
      "(200, 28)\n",
      "(200,)\n",
      "Fitted\n"
     ]
    },
    {
     "name": "stderr",
     "output_type": "stream",
     "text": [
      "\n",
      " 48%|██████████████████████████████████████▉                                          | 48/100 [24:54<25:38, 29.59s/it]\u001b[A"
     ]
    },
    {
     "name": "stdout",
     "output_type": "stream",
     "text": [
      "Test Statistic:  0.0035814564881450073\n",
      "p-value:  1.0\n",
      "(200, 28)\n",
      "(200,)\n",
      "Fitted\n"
     ]
    },
    {
     "name": "stderr",
     "output_type": "stream",
     "text": [
      "\n",
      " 49%|███████████████████████████████████████▋                                         | 49/100 [25:23<25:06, 29.55s/it]\u001b[A"
     ]
    },
    {
     "name": "stdout",
     "output_type": "stream",
     "text": [
      "Test Statistic:  0.0041719422505043235\n",
      "p-value:  1.0\n",
      "(200, 28)\n",
      "(200,)\n",
      "Fitted\n"
     ]
    },
    {
     "name": "stderr",
     "output_type": "stream",
     "text": [
      "\n",
      " 50%|████████████████████████████████████████▌                                        | 50/100 [25:54<25:00, 30.00s/it]\u001b[A"
     ]
    },
    {
     "name": "stdout",
     "output_type": "stream",
     "text": [
      "Test Statistic:  0.002482705675238117\n",
      "p-value:  1.0\n",
      "(200, 28)\n",
      "(200,)\n",
      "Fitted\n"
     ]
    },
    {
     "name": "stderr",
     "output_type": "stream",
     "text": [
      "\n",
      " 51%|█████████████████████████████████████████▎                                       | 51/100 [26:24<24:23, 29.87s/it]\u001b[A"
     ]
    },
    {
     "name": "stdout",
     "output_type": "stream",
     "text": [
      "Test Statistic:  0.004546997485960325\n",
      "p-value:  1.0\n",
      "(200, 28)\n",
      "(200,)\n",
      "Fitted\n"
     ]
    },
    {
     "name": "stderr",
     "output_type": "stream",
     "text": [
      "\n",
      " 52%|██████████████████████████████████████████                                       | 52/100 [26:53<23:45, 29.69s/it]\u001b[A"
     ]
    },
    {
     "name": "stdout",
     "output_type": "stream",
     "text": [
      "Test Statistic:  0.004071274411641901\n",
      "p-value:  1.0\n",
      "(200, 28)\n",
      "(200,)\n",
      "Fitted\n"
     ]
    },
    {
     "name": "stderr",
     "output_type": "stream",
     "text": [
      "\n",
      " 53%|██████████████████████████████████████████▉                                      | 53/100 [27:24<23:23, 29.87s/it]\u001b[A"
     ]
    },
    {
     "name": "stdout",
     "output_type": "stream",
     "text": [
      "Test Statistic:  0.002883354037663599\n",
      "p-value:  1.0\n",
      "(200, 28)\n",
      "(200,)\n",
      "Fitted\n"
     ]
    },
    {
     "name": "stderr",
     "output_type": "stream",
     "text": [
      "\n",
      " 54%|███████████████████████████████████████████▋                                     | 54/100 [27:54<22:56, 29.93s/it]\u001b[A"
     ]
    },
    {
     "name": "stdout",
     "output_type": "stream",
     "text": [
      "Test Statistic:  0.0033884132529440336\n",
      "p-value:  1.0\n",
      "(200, 28)\n",
      "(200,)\n",
      "Fitted\n"
     ]
    },
    {
     "name": "stderr",
     "output_type": "stream",
     "text": [
      "\n",
      " 55%|████████████████████████████████████████████▌                                    | 55/100 [28:22<22:07, 29.49s/it]\u001b[A"
     ]
    },
    {
     "name": "stdout",
     "output_type": "stream",
     "text": [
      "Test Statistic:  0.0016324512369503275\n",
      "p-value:  1.0\n",
      "(200, 28)\n",
      "(200,)\n",
      "Fitted\n"
     ]
    },
    {
     "name": "stderr",
     "output_type": "stream",
     "text": [
      "\n",
      " 56%|█████████████████████████████████████████████▎                                   | 56/100 [28:56<22:30, 30.70s/it]\u001b[A"
     ]
    },
    {
     "name": "stdout",
     "output_type": "stream",
     "text": [
      "Test Statistic:  0.0038730307738473746\n",
      "p-value:  1.0\n",
      "(200, 28)\n",
      "(200,)\n",
      "Fitted\n"
     ]
    },
    {
     "name": "stderr",
     "output_type": "stream",
     "text": [
      "\n",
      " 57%|██████████████████████████████████████████████▏                                  | 57/100 [29:27<22:05, 30.82s/it]\u001b[A"
     ]
    },
    {
     "name": "stdout",
     "output_type": "stream",
     "text": [
      "Test Statistic:  0.009708344836393379\n",
      "p-value:  0.2837162837162837\n",
      "(200, 28)\n",
      "(200,)\n",
      "Fitted\n"
     ]
    },
    {
     "name": "stderr",
     "output_type": "stream",
     "text": [
      "\n",
      " 58%|██████████████████████████████████████████████▉                                  | 58/100 [30:00<22:10, 31.68s/it]\u001b[A"
     ]
    },
    {
     "name": "stdout",
     "output_type": "stream",
     "text": [
      "Test Statistic:  0.007802637659715228\n",
      "p-value:  0.7542457542457542\n",
      "(200, 28)\n",
      "(200,)\n",
      "Fitted\n"
     ]
    },
    {
     "name": "stderr",
     "output_type": "stream",
     "text": [
      "\n",
      " 59%|███████████████████████████████████████████████▊                                 | 59/100 [30:30<21:19, 31.21s/it]\u001b[A"
     ]
    },
    {
     "name": "stdout",
     "output_type": "stream",
     "text": [
      "Test Statistic:  0.005869218445443303\n",
      "p-value:  0.995004995004995\n",
      "(200, 28)\n",
      "(200,)\n",
      "Fitted\n"
     ]
    },
    {
     "name": "stderr",
     "output_type": "stream",
     "text": [
      "\n",
      " 60%|████████████████████████████████████████████████▌                                | 60/100 [30:59<20:22, 30.56s/it]\u001b[A"
     ]
    },
    {
     "name": "stdout",
     "output_type": "stream",
     "text": [
      "Test Statistic:  0.0163078020174815\n",
      "p-value:  0.022977022977022976\n",
      "(200, 28)\n",
      "(200,)\n",
      "Fitted\n"
     ]
    },
    {
     "name": "stderr",
     "output_type": "stream",
     "text": [
      "\n",
      " 61%|█████████████████████████████████████████████████▍                               | 61/100 [31:29<19:33, 30.10s/it]\u001b[A"
     ]
    },
    {
     "name": "stdout",
     "output_type": "stream",
     "text": [
      "Test Statistic:  0.004431556059274588\n",
      "p-value:  1.0\n",
      "(200, 28)\n",
      "(200,)\n",
      "Fitted\n"
     ]
    },
    {
     "name": "stderr",
     "output_type": "stream",
     "text": [
      "\n",
      " 62%|██████████████████████████████████████████████████▏                              | 62/100 [31:58<18:55, 29.89s/it]\u001b[A"
     ]
    },
    {
     "name": "stdout",
     "output_type": "stream",
     "text": [
      "Test Statistic:  0.016370792103003073\n",
      "p-value:  0.02197802197802198\n",
      "(200, 28)\n",
      "(200,)\n",
      "Fitted\n"
     ]
    },
    {
     "name": "stderr",
     "output_type": "stream",
     "text": [
      "\n",
      " 63%|███████████████████████████████████████████████████                              | 63/100 [32:27<18:13, 29.55s/it]\u001b[A"
     ]
    },
    {
     "name": "stdout",
     "output_type": "stream",
     "text": [
      "Test Statistic:  0.006237060634459501\n",
      "p-value:  0.9690309690309691\n",
      "(200, 28)\n",
      "(200,)\n",
      "Fitted\n"
     ]
    },
    {
     "name": "stderr",
     "output_type": "stream",
     "text": [
      "\n",
      " 64%|███████████████████████████████████████████████████▊                             | 64/100 [32:56<17:44, 29.56s/it]\u001b[A"
     ]
    },
    {
     "name": "stdout",
     "output_type": "stream",
     "text": [
      "Test Statistic:  0.007570339591660091\n",
      "p-value:  0.7802197802197802\n",
      "(200, 28)\n",
      "(200,)\n",
      "Fitted\n"
     ]
    },
    {
     "name": "stderr",
     "output_type": "stream",
     "text": [
      "\n",
      " 65%|████████████████████████████████████████████████████▋                            | 65/100 [33:25<17:07, 29.35s/it]\u001b[A"
     ]
    },
    {
     "name": "stdout",
     "output_type": "stream",
     "text": [
      "Test Statistic:  0.015422704012156174\n",
      "p-value:  0.00999000999000999\n",
      "(200, 28)\n",
      "(200,)\n",
      "Fitted\n"
     ]
    },
    {
     "name": "stderr",
     "output_type": "stream",
     "text": [
      "\n",
      " 66%|█████████████████████████████████████████████████████▍                           | 66/100 [33:55<16:43, 29.53s/it]\u001b[A"
     ]
    },
    {
     "name": "stdout",
     "output_type": "stream",
     "text": [
      "Test Statistic:  0.007182250303264137\n",
      "p-value:  0.8361638361638362\n",
      "(200, 28)\n",
      "(200,)\n",
      "Fitted\n"
     ]
    },
    {
     "name": "stderr",
     "output_type": "stream",
     "text": [
      "\n",
      " 67%|██████████████████████████████████████████████████████▎                          | 67/100 [34:25<16:18, 29.64s/it]\u001b[A"
     ]
    },
    {
     "name": "stdout",
     "output_type": "stream",
     "text": [
      "Test Statistic:  0.0048408136311574035\n",
      "p-value:  1.0\n",
      "(200, 28)\n",
      "(200,)\n",
      "Fitted\n"
     ]
    },
    {
     "name": "stderr",
     "output_type": "stream",
     "text": [
      "\n",
      " 68%|███████████████████████████████████████████████████████                          | 68/100 [34:55<15:51, 29.74s/it]\u001b[A"
     ]
    },
    {
     "name": "stdout",
     "output_type": "stream",
     "text": [
      "Test Statistic:  0.011847865934506818\n",
      "p-value:  0.13986013986013987\n",
      "(200, 28)\n",
      "(200,)\n",
      "Fitted\n"
     ]
    },
    {
     "name": "stderr",
     "output_type": "stream",
     "text": [
      "\n",
      " 69%|███████████████████████████████████████████████████████▉                         | 69/100 [35:24<15:14, 29.50s/it]\u001b[A"
     ]
    },
    {
     "name": "stdout",
     "output_type": "stream",
     "text": [
      "Test Statistic:  0.005828448604101699\n",
      "p-value:  0.9920079920079921\n",
      "(200, 28)\n",
      "(200,)\n",
      "Fitted\n"
     ]
    },
    {
     "name": "stderr",
     "output_type": "stream",
     "text": [
      "\n",
      " 70%|████████████████████████████████████████████████████████▋                        | 70/100 [35:56<15:07, 30.24s/it]\u001b[A"
     ]
    },
    {
     "name": "stdout",
     "output_type": "stream",
     "text": [
      "Test Statistic:  0.002791915483047247\n",
      "p-value:  1.0\n",
      "(200, 28)\n",
      "(200,)\n",
      "Fitted\n"
     ]
    },
    {
     "name": "stderr",
     "output_type": "stream",
     "text": [
      "\n",
      " 71%|█████████████████████████████████████████████████████████▌                       | 71/100 [36:25<14:29, 29.98s/it]\u001b[A"
     ]
    },
    {
     "name": "stdout",
     "output_type": "stream",
     "text": [
      "Test Statistic:  0.008746926118125331\n",
      "p-value:  0.43756243756243757\n",
      "(200, 28)\n",
      "(200,)\n",
      "Fitted\n"
     ]
    },
    {
     "name": "stderr",
     "output_type": "stream",
     "text": [
      "\n",
      " 72%|██████████████████████████████████████████████████████████▎                      | 72/100 [36:54<13:51, 29.70s/it]\u001b[A"
     ]
    },
    {
     "name": "stdout",
     "output_type": "stream",
     "text": [
      "Test Statistic:  0.004127863625867145\n",
      "p-value:  1.0\n",
      "(200, 28)\n",
      "(200,)\n",
      "Fitted\n"
     ]
    },
    {
     "name": "stderr",
     "output_type": "stream",
     "text": [
      "\n",
      " 73%|███████████████████████████████████████████████████████████▏                     | 73/100 [37:23<13:12, 29.36s/it]\u001b[A"
     ]
    },
    {
     "name": "stdout",
     "output_type": "stream",
     "text": [
      "Test Statistic:  0.008403048347560671\n",
      "p-value:  0.4005994005994006\n",
      "(200, 28)\n",
      "(200,)\n",
      "Fitted\n"
     ]
    },
    {
     "name": "stderr",
     "output_type": "stream",
     "text": [
      "\n",
      " 74%|███████████████████████████████████████████████████████████▉                     | 74/100 [37:52<12:42, 29.33s/it]\u001b[A"
     ]
    },
    {
     "name": "stdout",
     "output_type": "stream",
     "text": [
      "Test Statistic:  0.004227883710130498\n",
      "p-value:  1.0\n",
      "(200, 28)\n",
      "(200,)\n",
      "Fitted\n"
     ]
    },
    {
     "name": "stderr",
     "output_type": "stream",
     "text": [
      "\n",
      " 75%|████████████████████████████████████████████████████████████▊                    | 75/100 [38:22<12:16, 29.45s/it]\u001b[A"
     ]
    },
    {
     "name": "stdout",
     "output_type": "stream",
     "text": [
      "Test Statistic:  0.017232530706910443\n",
      "p-value:  0.016983016983016984\n",
      "(200, 28)\n",
      "(200,)\n",
      "Fitted\n"
     ]
    },
    {
     "name": "stderr",
     "output_type": "stream",
     "text": [
      "\n",
      " 76%|█████████████████████████████████████████████████████████████▌                   | 76/100 [38:55<12:11, 30.47s/it]\u001b[A"
     ]
    },
    {
     "name": "stdout",
     "output_type": "stream",
     "text": [
      "Test Statistic:  0.004033042115152763\n",
      "p-value:  1.0\n",
      "(200, 28)\n",
      "(200,)\n",
      "Fitted\n"
     ]
    },
    {
     "name": "stderr",
     "output_type": "stream",
     "text": [
      "\n",
      " 77%|██████████████████████████████████████████████████████████████▎                  | 77/100 [39:24<11:34, 30.18s/it]\u001b[A"
     ]
    },
    {
     "name": "stdout",
     "output_type": "stream",
     "text": [
      "Test Statistic:  0.003135953862943519\n",
      "p-value:  1.0\n",
      "(200, 28)\n",
      "(200,)\n",
      "Fitted\n"
     ]
    },
    {
     "name": "stderr",
     "output_type": "stream",
     "text": [
      "\n",
      " 78%|███████████████████████████████████████████████████████████████▏                 | 78/100 [39:53<10:56, 29.84s/it]\u001b[A"
     ]
    },
    {
     "name": "stdout",
     "output_type": "stream",
     "text": [
      "Test Statistic:  0.01097562449556988\n",
      "p-value:  0.16283716283716285\n",
      "(200, 28)\n",
      "(200,)\n",
      "Fitted\n"
     ]
    },
    {
     "name": "stderr",
     "output_type": "stream",
     "text": [
      "\n",
      " 79%|███████████████████████████████████████████████████████████████▉                 | 79/100 [40:23<10:23, 29.68s/it]\u001b[A"
     ]
    },
    {
     "name": "stdout",
     "output_type": "stream",
     "text": [
      "Test Statistic:  0.0031979656196282624\n",
      "p-value:  1.0\n",
      "(200, 28)\n",
      "(200,)\n",
      "Fitted\n"
     ]
    },
    {
     "name": "stderr",
     "output_type": "stream",
     "text": [
      "\n",
      " 80%|████████████████████████████████████████████████████████████████▊                | 80/100 [40:52<09:54, 29.71s/it]\u001b[A"
     ]
    },
    {
     "name": "stdout",
     "output_type": "stream",
     "text": [
      "Test Statistic:  0.01845006593067866\n",
      "p-value:  0.01898101898101898\n",
      "(200, 28)\n",
      "(200,)\n",
      "Fitted\n"
     ]
    },
    {
     "name": "stderr",
     "output_type": "stream",
     "text": [
      "\n",
      " 81%|█████████████████████████████████████████████████████████████████▌               | 81/100 [41:21<09:19, 29.47s/it]\u001b[A"
     ]
    },
    {
     "name": "stdout",
     "output_type": "stream",
     "text": [
      "Test Statistic:  0.015583087077381874\n",
      "p-value:  0.01998001998001998\n",
      "(200, 28)\n",
      "(200,)\n",
      "Fitted\n"
     ]
    },
    {
     "name": "stderr",
     "output_type": "stream",
     "text": [
      "\n",
      " 82%|██████████████████████████████████████████████████████████████████▍              | 82/100 [41:51<08:50, 29.45s/it]\u001b[A"
     ]
    },
    {
     "name": "stdout",
     "output_type": "stream",
     "text": [
      "Test Statistic:  0.007643053286943702\n",
      "p-value:  0.7722277722277723\n",
      "(200, 28)\n",
      "(200,)\n",
      "Fitted\n"
     ]
    },
    {
     "name": "stderr",
     "output_type": "stream",
     "text": [
      "\n",
      " 83%|███████████████████████████████████████████████████████████████████▏             | 83/100 [42:20<08:20, 29.47s/it]\u001b[A"
     ]
    },
    {
     "name": "stdout",
     "output_type": "stream",
     "text": [
      "Test Statistic:  0.004609525565566042\n",
      "p-value:  1.0\n",
      "(200, 28)\n",
      "(200,)\n",
      "Fitted\n"
     ]
    },
    {
     "name": "stderr",
     "output_type": "stream",
     "text": [
      "\n",
      " 84%|████████████████████████████████████████████████████████████████████             | 84/100 [42:51<07:58, 29.90s/it]\u001b[A"
     ]
    },
    {
     "name": "stdout",
     "output_type": "stream",
     "text": [
      "Test Statistic:  0.003722281216577805\n",
      "p-value:  1.0\n",
      "(200, 28)\n",
      "(200,)\n",
      "Fitted\n"
     ]
    },
    {
     "name": "stderr",
     "output_type": "stream",
     "text": [
      "\n",
      " 85%|████████████████████████████████████████████████████████████████████▊            | 85/100 [43:20<07:25, 29.67s/it]\u001b[A"
     ]
    },
    {
     "name": "stdout",
     "output_type": "stream",
     "text": [
      "Test Statistic:  0.0027650080015683143\n",
      "p-value:  1.0\n",
      "(200, 28)\n",
      "(200,)\n",
      "Fitted\n"
     ]
    },
    {
     "name": "stderr",
     "output_type": "stream",
     "text": [
      "\n",
      " 86%|█████████████████████████████████████████████████████████████████████▋           | 86/100 [43:49<06:53, 29.55s/it]\u001b[A"
     ]
    },
    {
     "name": "stdout",
     "output_type": "stream",
     "text": [
      "Test Statistic:  0.006340727522084588\n",
      "p-value:  0.9530469530469531\n",
      "(200, 28)\n",
      "(200,)\n",
      "Fitted\n"
     ]
    },
    {
     "name": "stderr",
     "output_type": "stream",
     "text": [
      "\n",
      " 87%|██████████████████████████████████████████████████████████████████████▍          | 87/100 [44:19<06:23, 29.47s/it]\u001b[A"
     ]
    },
    {
     "name": "stdout",
     "output_type": "stream",
     "text": [
      "Test Statistic:  0.013251805344319023\n",
      "p-value:  0.06993006993006994\n",
      "(200, 28)\n",
      "(200,)\n",
      "Fitted\n"
     ]
    },
    {
     "name": "stderr",
     "output_type": "stream",
     "text": [
      "\n",
      " 88%|███████████████████████████████████████████████████████████████████████▎         | 88/100 [44:49<05:55, 29.61s/it]\u001b[A"
     ]
    },
    {
     "name": "stdout",
     "output_type": "stream",
     "text": [
      "Test Statistic:  0.005649288253728013\n",
      "p-value:  0.999000999000999\n",
      "(200, 28)\n",
      "(200,)\n",
      "Fitted\n"
     ]
    },
    {
     "name": "stderr",
     "output_type": "stream",
     "text": [
      "\n",
      " 89%|████████████████████████████████████████████████████████████████████████         | 89/100 [45:18<05:24, 29.46s/it]\u001b[A"
     ]
    },
    {
     "name": "stdout",
     "output_type": "stream",
     "text": [
      "Test Statistic:  0.009932335144426596\n",
      "p-value:  0.2677322677322677\n",
      "(200, 28)\n",
      "(200,)\n",
      "Fitted\n"
     ]
    },
    {
     "name": "stderr",
     "output_type": "stream",
     "text": [
      "\n",
      " 90%|████████████████████████████████████████████████████████████████████████▉        | 90/100 [45:48<04:58, 29.83s/it]\u001b[A"
     ]
    },
    {
     "name": "stdout",
     "output_type": "stream",
     "text": [
      "Test Statistic:  0.005417139802103232\n",
      "p-value:  0.999000999000999\n",
      "(200, 28)\n",
      "(200,)\n",
      "Fitted\n"
     ]
    },
    {
     "name": "stderr",
     "output_type": "stream",
     "text": [
      "\n",
      " 91%|█████████████████████████████████████████████████████████████████████████▋       | 91/100 [46:18<04:28, 29.80s/it]\u001b[A"
     ]
    },
    {
     "name": "stdout",
     "output_type": "stream",
     "text": [
      "Test Statistic:  0.01238097693915785\n",
      "p-value:  0.1018981018981019\n",
      "(200, 28)\n",
      "(200,)\n",
      "Fitted\n"
     ]
    },
    {
     "name": "stderr",
     "output_type": "stream",
     "text": [
      "\n",
      " 92%|██████████████████████████████████████████████████████████████████████████▌      | 92/100 [46:48<03:57, 29.68s/it]\u001b[A"
     ]
    },
    {
     "name": "stdout",
     "output_type": "stream",
     "text": [
      "Test Statistic:  0.00526754237457705\n",
      "p-value:  1.0\n",
      "(200, 28)\n",
      "(200,)\n",
      "Fitted\n"
     ]
    },
    {
     "name": "stderr",
     "output_type": "stream",
     "text": [
      "\n",
      " 93%|███████████████████████████████████████████████████████████████████████████▎     | 93/100 [47:17<03:26, 29.55s/it]\u001b[A"
     ]
    },
    {
     "name": "stdout",
     "output_type": "stream",
     "text": [
      "Test Statistic:  0.006895274649293848\n",
      "p-value:  0.9430569430569431\n",
      "(200, 28)\n",
      "(200,)\n",
      "Fitted\n"
     ]
    },
    {
     "name": "stderr",
     "output_type": "stream",
     "text": [
      "\n",
      " 94%|████████████████████████████████████████████████████████████████████████████▏    | 94/100 [47:46<02:56, 29.42s/it]\u001b[A"
     ]
    },
    {
     "name": "stdout",
     "output_type": "stream",
     "text": [
      "Test Statistic:  0.004646219047090283\n",
      "p-value:  1.0\n",
      "(200, 28)\n",
      "(200,)\n",
      "Fitted\n"
     ]
    },
    {
     "name": "stderr",
     "output_type": "stream",
     "text": [
      "\n",
      " 95%|████████████████████████████████████████████████████████████████████████████▉    | 95/100 [48:15<02:26, 29.40s/it]\u001b[A"
     ]
    },
    {
     "name": "stdout",
     "output_type": "stream",
     "text": [
      "Test Statistic:  0.006535717192384771\n",
      "p-value:  0.8431568431568431\n",
      "(200, 28)\n",
      "(200,)\n",
      "Fitted\n"
     ]
    },
    {
     "name": "stderr",
     "output_type": "stream",
     "text": [
      "\n",
      " 96%|█████████████████████████████████████████████████████████████████████████████▊   | 96/100 [48:46<01:58, 29.65s/it]\u001b[A"
     ]
    },
    {
     "name": "stdout",
     "output_type": "stream",
     "text": [
      "Test Statistic:  0.0045837878012993105\n",
      "p-value:  1.0\n",
      "(200, 28)\n",
      "(200,)\n",
      "Fitted\n"
     ]
    },
    {
     "name": "stderr",
     "output_type": "stream",
     "text": [
      "\n",
      " 97%|██████████████████████████████████████████████████████████████████████████████▌  | 97/100 [49:23<01:35, 31.90s/it]\u001b[A"
     ]
    },
    {
     "name": "stdout",
     "output_type": "stream",
     "text": [
      "Test Statistic:  0.004161105286226041\n",
      "p-value:  1.0\n",
      "(200, 28)\n",
      "(200,)\n",
      "Fitted\n"
     ]
    },
    {
     "name": "stderr",
     "output_type": "stream",
     "text": [
      "\n",
      " 98%|███████████████████████████████████████████████████████████████████████████████▍ | 98/100 [49:53<01:02, 31.35s/it]\u001b[A"
     ]
    },
    {
     "name": "stdout",
     "output_type": "stream",
     "text": [
      "Test Statistic:  0.007031310175340533\n",
      "p-value:  0.7892107892107892\n",
      "(200, 28)\n",
      "(200,)\n",
      "Fitted\n"
     ]
    },
    {
     "name": "stderr",
     "output_type": "stream",
     "text": [
      "\n",
      " 99%|████████████████████████████████████████████████████████████████████████████████▏| 99/100 [50:22<00:30, 30.83s/it]\u001b[A"
     ]
    },
    {
     "name": "stdout",
     "output_type": "stream",
     "text": [
      "Test Statistic:  0.007478682443757045\n",
      "p-value:  0.8021978021978022\n",
      "(200, 28)\n",
      "(200,)\n",
      "Fitted\n"
     ]
    },
    {
     "name": "stderr",
     "output_type": "stream",
     "text": [
      "\n",
      "100%|████████████████████████████████████████████████████████████████████████████████| 100/100 [50:52<00:00, 30.53s/it]\u001b[A\n",
      " 70%|████████████████████████████████████████████████████▌                      | 14/20 [12:25:29<5:15:51, 3158.57s/it]\n",
      "  0%|                                                                                          | 0/100 [00:00<?, ?it/s]\u001b[A"
     ]
    },
    {
     "name": "stdout",
     "output_type": "stream",
     "text": [
      "Test Statistic:  0.010535536683115465\n",
      "p-value:  0.13486513486513488\n",
      "dimension 15\n",
      "circle\n",
      "(200, 30)\n",
      "(200,)\n",
      "Fitted\n"
     ]
    },
    {
     "name": "stderr",
     "output_type": "stream",
     "text": [
      "\n",
      "  1%|▊                                                                                 | 1/100 [00:29<48:06, 29.15s/it]\u001b[A"
     ]
    },
    {
     "name": "stdout",
     "output_type": "stream",
     "text": [
      "Test Statistic:  0.013992654871631705\n",
      "p-value:  0.06793206793206794\n",
      "(200, 30)\n",
      "(200,)\n",
      "Fitted\n"
     ]
    },
    {
     "name": "stderr",
     "output_type": "stream",
     "text": [
      "\n",
      "  2%|█▋                                                                                | 2/100 [00:58<47:39, 29.18s/it]\u001b[A"
     ]
    },
    {
     "name": "stdout",
     "output_type": "stream",
     "text": [
      "Test Statistic:  0.008766480639084251\n",
      "p-value:  0.4065934065934066\n",
      "(200, 30)\n",
      "(200,)\n",
      "Fitted\n"
     ]
    },
    {
     "name": "stderr",
     "output_type": "stream",
     "text": [
      "\n",
      "  3%|██▍                                                                               | 3/100 [01:27<47:09, 29.17s/it]\u001b[A"
     ]
    },
    {
     "name": "stdout",
     "output_type": "stream",
     "text": [
      "Test Statistic:  0.002545626460425221\n",
      "p-value:  1.0\n",
      "(200, 30)\n",
      "(200,)\n",
      "Fitted\n"
     ]
    },
    {
     "name": "stderr",
     "output_type": "stream",
     "text": [
      "\n",
      "  4%|███▎                                                                              | 4/100 [01:56<46:39, 29.16s/it]\u001b[A"
     ]
    },
    {
     "name": "stdout",
     "output_type": "stream",
     "text": [
      "Test Statistic:  0.0035047101460214947\n",
      "p-value:  1.0\n",
      "(200, 30)\n",
      "(200,)\n",
      "Fitted\n"
     ]
    },
    {
     "name": "stderr",
     "output_type": "stream",
     "text": [
      "\n",
      "  5%|████                                                                              | 5/100 [02:25<46:04, 29.10s/it]\u001b[A"
     ]
    },
    {
     "name": "stdout",
     "output_type": "stream",
     "text": [
      "Test Statistic:  0.007927751322564625\n",
      "p-value:  0.7592407592407593\n",
      "(200, 30)\n",
      "(200,)\n",
      "Fitted\n"
     ]
    },
    {
     "name": "stderr",
     "output_type": "stream",
     "text": [
      "\n",
      "  6%|████▉                                                                             | 6/100 [02:55<45:43, 29.19s/it]\u001b[A"
     ]
    },
    {
     "name": "stdout",
     "output_type": "stream",
     "text": [
      "Test Statistic:  0.0038843091474419777\n",
      "p-value:  1.0\n",
      "(200, 30)\n",
      "(200,)\n",
      "Fitted\n"
     ]
    },
    {
     "name": "stderr",
     "output_type": "stream",
     "text": [
      "\n",
      "  7%|█████▋                                                                            | 7/100 [03:24<45:32, 29.38s/it]\u001b[A"
     ]
    },
    {
     "name": "stdout",
     "output_type": "stream",
     "text": [
      "Test Statistic:  0.003400043605224945\n",
      "p-value:  1.0\n",
      "(200, 30)\n",
      "(200,)\n",
      "Fitted\n"
     ]
    },
    {
     "name": "stderr",
     "output_type": "stream",
     "text": [
      "\n",
      "  8%|██████▌                                                                           | 8/100 [03:54<45:10, 29.46s/it]\u001b[A"
     ]
    },
    {
     "name": "stdout",
     "output_type": "stream",
     "text": [
      "Test Statistic:  0.0020881838342659\n",
      "p-value:  1.0\n",
      "(200, 30)\n",
      "(200,)\n",
      "Fitted\n"
     ]
    },
    {
     "name": "stderr",
     "output_type": "stream",
     "text": [
      "\n",
      "  9%|███████▍                                                                          | 9/100 [04:23<44:30, 29.35s/it]\u001b[A"
     ]
    },
    {
     "name": "stdout",
     "output_type": "stream",
     "text": [
      "Test Statistic:  0.0034678977823039414\n",
      "p-value:  1.0\n",
      "(200, 30)\n",
      "(200,)\n",
      "Fitted\n"
     ]
    },
    {
     "name": "stderr",
     "output_type": "stream",
     "text": [
      "\n",
      " 10%|████████                                                                         | 10/100 [04:53<44:19, 29.55s/it]\u001b[A"
     ]
    },
    {
     "name": "stdout",
     "output_type": "stream",
     "text": [
      "Test Statistic:  0.011027546695581592\n",
      "p-value:  0.10789210789210789\n",
      "(200, 30)\n",
      "(200,)\n",
      "Fitted\n"
     ]
    },
    {
     "name": "stderr",
     "output_type": "stream",
     "text": [
      "\n",
      " 11%|████████▉                                                                        | 11/100 [05:22<43:34, 29.37s/it]\u001b[A"
     ]
    },
    {
     "name": "stdout",
     "output_type": "stream",
     "text": [
      "Test Statistic:  0.007081485753483108\n",
      "p-value:  0.7432567432567433\n",
      "(200, 30)\n",
      "(200,)\n",
      "Fitted\n"
     ]
    },
    {
     "name": "stderr",
     "output_type": "stream",
     "text": [
      "\n",
      " 12%|█████████▋                                                                       | 12/100 [05:51<42:51, 29.22s/it]\u001b[A"
     ]
    },
    {
     "name": "stdout",
     "output_type": "stream",
     "text": [
      "Test Statistic:  0.017223324197913947\n",
      "p-value:  0.008991008991008992\n",
      "(200, 30)\n",
      "(200,)\n",
      "Fitted\n"
     ]
    },
    {
     "name": "stderr",
     "output_type": "stream",
     "text": [
      "\n",
      " 13%|██████████▌                                                                      | 13/100 [06:21<42:42, 29.46s/it]\u001b[A"
     ]
    },
    {
     "name": "stdout",
     "output_type": "stream",
     "text": [
      "Test Statistic:  0.0035345328429856604\n",
      "p-value:  1.0\n",
      "(200, 30)\n",
      "(200,)\n",
      "Fitted\n"
     ]
    },
    {
     "name": "stderr",
     "output_type": "stream",
     "text": [
      "\n",
      " 14%|███████████▎                                                                     | 14/100 [06:50<42:03, 29.35s/it]\u001b[A"
     ]
    },
    {
     "name": "stdout",
     "output_type": "stream",
     "text": [
      "Test Statistic:  0.0022928714569112607\n",
      "p-value:  1.0\n",
      "(200, 30)\n",
      "(200,)\n",
      "Fitted\n"
     ]
    },
    {
     "name": "stderr",
     "output_type": "stream",
     "text": [
      "\n",
      " 15%|████████████▏                                                                    | 15/100 [07:20<41:42, 29.44s/it]\u001b[A"
     ]
    },
    {
     "name": "stdout",
     "output_type": "stream",
     "text": [
      "Test Statistic:  0.009560383447432486\n",
      "p-value:  0.2517482517482518\n",
      "(200, 30)\n",
      "(200,)\n",
      "Fitted\n"
     ]
    },
    {
     "name": "stderr",
     "output_type": "stream",
     "text": [
      "\n",
      " 16%|████████████▉                                                                    | 16/100 [07:50<41:43, 29.81s/it]\u001b[A"
     ]
    },
    {
     "name": "stdout",
     "output_type": "stream",
     "text": [
      "Test Statistic:  0.004980711154950468\n",
      "p-value:  1.0\n",
      "(200, 30)\n",
      "(200,)\n",
      "Fitted\n"
     ]
    },
    {
     "name": "stderr",
     "output_type": "stream",
     "text": [
      "\n",
      " 17%|█████████████▊                                                                   | 17/100 [08:23<42:12, 30.52s/it]\u001b[A"
     ]
    },
    {
     "name": "stdout",
     "output_type": "stream",
     "text": [
      "Test Statistic:  0.007573211237724253\n",
      "p-value:  0.7822177822177823\n",
      "(200, 30)\n",
      "(200,)\n",
      "Fitted\n"
     ]
    },
    {
     "name": "stderr",
     "output_type": "stream",
     "text": [
      "\n",
      " 18%|██████████████▌                                                                  | 18/100 [08:52<41:16, 30.21s/it]\u001b[A"
     ]
    },
    {
     "name": "stdout",
     "output_type": "stream",
     "text": [
      "Test Statistic:  0.008983982731319728\n",
      "p-value:  0.4275724275724276\n",
      "(200, 30)\n",
      "(200,)\n",
      "Fitted\n"
     ]
    },
    {
     "name": "stderr",
     "output_type": "stream",
     "text": [
      "\n",
      " 19%|███████████████▍                                                                 | 19/100 [09:22<40:42, 30.16s/it]\u001b[A"
     ]
    },
    {
     "name": "stdout",
     "output_type": "stream",
     "text": [
      "Test Statistic:  0.0031894581834394087\n",
      "p-value:  1.0\n",
      "(200, 30)\n",
      "(200,)\n",
      "Fitted\n"
     ]
    },
    {
     "name": "stderr",
     "output_type": "stream",
     "text": [
      "\n",
      " 20%|████████████████▏                                                                | 20/100 [09:52<39:56, 29.96s/it]\u001b[A"
     ]
    },
    {
     "name": "stdout",
     "output_type": "stream",
     "text": [
      "Test Statistic:  0.008660302312986867\n",
      "p-value:  0.45454545454545453\n",
      "(200, 30)\n",
      "(200,)\n",
      "Fitted\n"
     ]
    },
    {
     "name": "stderr",
     "output_type": "stream",
     "text": [
      "\n",
      " 21%|█████████████████                                                                | 21/100 [10:21<39:17, 29.84s/it]\u001b[A"
     ]
    },
    {
     "name": "stdout",
     "output_type": "stream",
     "text": [
      "Test Statistic:  0.002109707212560985\n",
      "p-value:  1.0\n",
      "(200, 30)\n",
      "(200,)\n",
      "Fitted\n"
     ]
    },
    {
     "name": "stderr",
     "output_type": "stream",
     "text": [
      "\n",
      " 22%|█████████████████▊                                                               | 22/100 [10:53<39:37, 30.48s/it]\u001b[A"
     ]
    },
    {
     "name": "stdout",
     "output_type": "stream",
     "text": [
      "Test Statistic:  0.0030387161930978124\n",
      "p-value:  1.0\n",
      "(200, 30)\n",
      "(200,)\n",
      "Fitted\n"
     ]
    },
    {
     "name": "stderr",
     "output_type": "stream",
     "text": [
      "\n",
      " 23%|██████████████████▋                                                              | 23/100 [11:22<38:33, 30.04s/it]\u001b[A"
     ]
    },
    {
     "name": "stdout",
     "output_type": "stream",
     "text": [
      "Test Statistic:  0.005291610499538857\n",
      "p-value:  0.999000999000999\n",
      "(200, 30)\n",
      "(200,)\n",
      "Fitted\n"
     ]
    },
    {
     "name": "stderr",
     "output_type": "stream",
     "text": [
      "\n",
      " 24%|███████████████████▍                                                             | 24/100 [11:51<37:37, 29.71s/it]\u001b[A"
     ]
    },
    {
     "name": "stdout",
     "output_type": "stream",
     "text": [
      "Test Statistic:  0.002413375784359184\n",
      "p-value:  1.0\n",
      "(200, 30)\n",
      "(200,)\n",
      "Fitted\n"
     ]
    },
    {
     "name": "stderr",
     "output_type": "stream",
     "text": [
      "\n",
      " 25%|████████████████████▎                                                            | 25/100 [12:20<36:49, 29.46s/it]\u001b[A"
     ]
    },
    {
     "name": "stdout",
     "output_type": "stream",
     "text": [
      "Test Statistic:  0.016851342674303105\n",
      "p-value:  0.008991008991008992\n",
      "(200, 30)\n",
      "(200,)\n",
      "Fitted\n"
     ]
    },
    {
     "name": "stderr",
     "output_type": "stream",
     "text": [
      "\n",
      " 26%|█████████████████████                                                            | 26/100 [12:50<36:27, 29.57s/it]\u001b[A"
     ]
    },
    {
     "name": "stdout",
     "output_type": "stream",
     "text": [
      "Test Statistic:  0.002916644379386546\n",
      "p-value:  1.0\n",
      "(200, 30)\n",
      "(200,)\n",
      "Fitted\n"
     ]
    },
    {
     "name": "stderr",
     "output_type": "stream",
     "text": [
      "\n",
      " 27%|█████████████████████▊                                                           | 27/100 [13:19<35:49, 29.44s/it]\u001b[A"
     ]
    },
    {
     "name": "stdout",
     "output_type": "stream",
     "text": [
      "Test Statistic:  0.0033043643992355376\n",
      "p-value:  1.0\n",
      "(200, 30)\n",
      "(200,)\n",
      "Fitted\n"
     ]
    },
    {
     "name": "stderr",
     "output_type": "stream",
     "text": [
      "\n",
      " 28%|██████████████████████▋                                                          | 28/100 [13:48<35:21, 29.46s/it]\u001b[A"
     ]
    },
    {
     "name": "stdout",
     "output_type": "stream",
     "text": [
      "Test Statistic:  0.012753402620365284\n",
      "p-value:  0.08291708291708291\n",
      "(200, 30)\n",
      "(200,)\n",
      "Fitted\n"
     ]
    },
    {
     "name": "stderr",
     "output_type": "stream",
     "text": [
      "\n",
      " 29%|███████████████████████▍                                                         | 29/100 [14:17<34:44, 29.36s/it]\u001b[A"
     ]
    },
    {
     "name": "stdout",
     "output_type": "stream",
     "text": [
      "Test Statistic:  0.002904117598253153\n",
      "p-value:  1.0\n",
      "(200, 30)\n",
      "(200,)\n",
      "Fitted\n"
     ]
    },
    {
     "name": "stderr",
     "output_type": "stream",
     "text": [
      "\n",
      " 30%|████████████████████████▎                                                        | 30/100 [14:48<34:37, 29.68s/it]\u001b[A"
     ]
    },
    {
     "name": "stdout",
     "output_type": "stream",
     "text": [
      "Test Statistic:  0.018060937045617953\n",
      "p-value:  0.015984015984015984\n",
      "(200, 30)\n",
      "(200,)\n",
      "Fitted\n"
     ]
    },
    {
     "name": "stderr",
     "output_type": "stream",
     "text": [
      "\n",
      " 31%|█████████████████████████                                                        | 31/100 [15:18<34:14, 29.78s/it]\u001b[A"
     ]
    },
    {
     "name": "stdout",
     "output_type": "stream",
     "text": [
      "Test Statistic:  0.011149445271603442\n",
      "p-value:  0.11388611388611389\n",
      "(200, 30)\n",
      "(200,)\n",
      "Fitted\n"
     ]
    },
    {
     "name": "stderr",
     "output_type": "stream",
     "text": [
      "\n",
      " 32%|█████████████████████████▉                                                       | 32/100 [15:48<33:46, 29.80s/it]\u001b[A"
     ]
    },
    {
     "name": "stdout",
     "output_type": "stream",
     "text": [
      "Test Statistic:  0.0037026223769238698\n",
      "p-value:  1.0\n",
      "(200, 30)\n",
      "(200,)\n",
      "Fitted\n"
     ]
    },
    {
     "name": "stderr",
     "output_type": "stream",
     "text": [
      "\n",
      " 33%|██████████████████████████▋                                                      | 33/100 [16:18<33:19, 29.84s/it]\u001b[A"
     ]
    },
    {
     "name": "stdout",
     "output_type": "stream",
     "text": [
      "Test Statistic:  0.017648599212288896\n",
      "p-value:  0.011988011988011988\n",
      "(200, 30)\n",
      "(200,)\n",
      "Fitted\n"
     ]
    },
    {
     "name": "stderr",
     "output_type": "stream",
     "text": [
      "\n",
      " 34%|███████████████████████████▌                                                     | 34/100 [16:47<32:43, 29.75s/it]\u001b[A"
     ]
    },
    {
     "name": "stdout",
     "output_type": "stream",
     "text": [
      "Test Statistic:  0.0035131942106734204\n",
      "p-value:  1.0\n",
      "(200, 30)\n",
      "(200,)\n",
      "Fitted\n"
     ]
    },
    {
     "name": "stderr",
     "output_type": "stream",
     "text": [
      "\n",
      " 35%|████████████████████████████▎                                                    | 35/100 [17:17<32:07, 29.65s/it]\u001b[A"
     ]
    },
    {
     "name": "stdout",
     "output_type": "stream",
     "text": [
      "Test Statistic:  0.02118985524014616\n",
      "p-value:  0.000999000999000999\n",
      "(200, 30)\n",
      "(200,)\n",
      "Fitted\n"
     ]
    },
    {
     "name": "stderr",
     "output_type": "stream",
     "text": [
      "\n",
      " 36%|█████████████████████████████▏                                                   | 36/100 [17:48<32:10, 30.16s/it]\u001b[A"
     ]
    },
    {
     "name": "stdout",
     "output_type": "stream",
     "text": [
      "Test Statistic:  0.0024016273554714473\n",
      "p-value:  1.0\n",
      "(200, 30)\n",
      "(200,)\n",
      "Fitted\n"
     ]
    },
    {
     "name": "stderr",
     "output_type": "stream",
     "text": [
      "\n",
      " 37%|█████████████████████████████▉                                                   | 37/100 [18:22<32:43, 31.17s/it]\u001b[A"
     ]
    },
    {
     "name": "stdout",
     "output_type": "stream",
     "text": [
      "Test Statistic:  0.0076379396416630385\n",
      "p-value:  0.7412587412587412\n",
      "(200, 30)\n",
      "(200,)\n",
      "Fitted\n"
     ]
    },
    {
     "name": "stderr",
     "output_type": "stream",
     "text": [
      "\n",
      " 38%|██████████████████████████████▊                                                  | 38/100 [18:51<31:43, 30.70s/it]\u001b[A"
     ]
    },
    {
     "name": "stdout",
     "output_type": "stream",
     "text": [
      "Test Statistic:  0.007359973034797185\n",
      "p-value:  0.8021978021978022\n",
      "(200, 30)\n",
      "(200,)\n",
      "Fitted\n"
     ]
    },
    {
     "name": "stderr",
     "output_type": "stream",
     "text": [
      "\n",
      " 39%|███████████████████████████████▌                                                 | 39/100 [19:21<30:55, 30.42s/it]\u001b[A"
     ]
    },
    {
     "name": "stdout",
     "output_type": "stream",
     "text": [
      "Test Statistic:  0.024146556031494515\n",
      "p-value:  0.002997002997002997\n",
      "(200, 30)\n",
      "(200,)\n",
      "Fitted\n"
     ]
    },
    {
     "name": "stderr",
     "output_type": "stream",
     "text": [
      "\n",
      " 40%|████████████████████████████████▍                                                | 40/100 [19:50<30:09, 30.15s/it]\u001b[A"
     ]
    },
    {
     "name": "stdout",
     "output_type": "stream",
     "text": [
      "Test Statistic:  0.005361820764099301\n",
      "p-value:  0.999000999000999\n",
      "(200, 30)\n",
      "(200,)\n",
      "Fitted\n"
     ]
    },
    {
     "name": "stderr",
     "output_type": "stream",
     "text": [
      "\n",
      " 41%|█████████████████████████████████▏                                               | 41/100 [20:20<29:26, 29.93s/it]\u001b[A"
     ]
    },
    {
     "name": "stdout",
     "output_type": "stream",
     "text": [
      "Test Statistic:  0.006946901336542632\n",
      "p-value:  0.9090909090909091\n",
      "(200, 30)\n",
      "(200,)\n",
      "Fitted\n"
     ]
    },
    {
     "name": "stderr",
     "output_type": "stream",
     "text": [
      "\n",
      " 42%|██████████████████████████████████                                               | 42/100 [20:49<28:45, 29.75s/it]\u001b[A"
     ]
    },
    {
     "name": "stdout",
     "output_type": "stream",
     "text": [
      "Test Statistic:  0.006309273641574076\n",
      "p-value:  0.981018981018981\n",
      "(200, 30)\n",
      "(200,)\n",
      "Fitted\n"
     ]
    },
    {
     "name": "stderr",
     "output_type": "stream",
     "text": [
      "\n",
      " 43%|██████████████████████████████████▊                                              | 43/100 [21:19<28:13, 29.71s/it]\u001b[A"
     ]
    },
    {
     "name": "stdout",
     "output_type": "stream",
     "text": [
      "Test Statistic:  0.02726285395817607\n",
      "p-value:  0.000999000999000999\n",
      "(200, 30)\n",
      "(200,)\n",
      "Fitted\n"
     ]
    },
    {
     "name": "stderr",
     "output_type": "stream",
     "text": [
      "\n",
      " 44%|███████████████████████████████████▋                                             | 44/100 [21:48<27:36, 29.57s/it]\u001b[A"
     ]
    },
    {
     "name": "stdout",
     "output_type": "stream",
     "text": [
      "Test Statistic:  0.02600130203053519\n",
      "p-value:  0.000999000999000999\n",
      "(200, 30)\n",
      "(200,)\n",
      "Fitted\n"
     ]
    },
    {
     "name": "stderr",
     "output_type": "stream",
     "text": [
      "\n",
      " 45%|████████████████████████████████████▍                                            | 45/100 [22:17<27:01, 29.48s/it]\u001b[A"
     ]
    },
    {
     "name": "stdout",
     "output_type": "stream",
     "text": [
      "Test Statistic:  0.028609568385811968\n",
      "p-value:  0.000999000999000999\n",
      "(200, 30)\n",
      "(200,)\n",
      "Fitted\n"
     ]
    },
    {
     "name": "stderr",
     "output_type": "stream",
     "text": [
      "\n",
      " 46%|█████████████████████████████████████▎                                           | 46/100 [22:46<26:19, 29.24s/it]\u001b[A"
     ]
    },
    {
     "name": "stdout",
     "output_type": "stream",
     "text": [
      "Test Statistic:  0.003783769141965765\n",
      "p-value:  1.0\n",
      "(200, 30)\n",
      "(200,)\n",
      "Fitted\n"
     ]
    },
    {
     "name": "stderr",
     "output_type": "stream",
     "text": [
      "\n",
      " 47%|██████████████████████████████████████                                           | 47/100 [23:16<25:58, 29.41s/it]\u001b[A"
     ]
    },
    {
     "name": "stdout",
     "output_type": "stream",
     "text": [
      "Test Statistic:  0.004163856887710593\n",
      "p-value:  1.0\n",
      "(200, 30)\n",
      "(200,)\n",
      "Fitted\n"
     ]
    },
    {
     "name": "stderr",
     "output_type": "stream",
     "text": [
      "\n",
      " 48%|██████████████████████████████████████▉                                          | 48/100 [23:45<25:20, 29.24s/it]\u001b[A"
     ]
    },
    {
     "name": "stdout",
     "output_type": "stream",
     "text": [
      "Test Statistic:  0.011388667447139511\n",
      "p-value:  0.11988011988011989\n",
      "(200, 30)\n",
      "(200,)\n",
      "Fitted\n"
     ]
    },
    {
     "name": "stderr",
     "output_type": "stream",
     "text": [
      "\n",
      " 49%|███████████████████████████████████████▋                                         | 49/100 [24:14<24:50, 29.22s/it]\u001b[A"
     ]
    },
    {
     "name": "stdout",
     "output_type": "stream",
     "text": [
      "Test Statistic:  0.001835270531581834\n",
      "p-value:  1.0\n",
      "(200, 30)\n",
      "(200,)\n",
      "Fitted\n"
     ]
    },
    {
     "name": "stderr",
     "output_type": "stream",
     "text": [
      "\n",
      " 50%|████████████████████████████████████████▌                                        | 50/100 [24:43<24:22, 29.26s/it]\u001b[A"
     ]
    },
    {
     "name": "stdout",
     "output_type": "stream",
     "text": [
      "Test Statistic:  0.01454192258970477\n",
      "p-value:  0.02097902097902098\n",
      "(200, 30)\n",
      "(200,)\n",
      "Fitted\n"
     ]
    },
    {
     "name": "stderr",
     "output_type": "stream",
     "text": [
      "\n",
      " 51%|█████████████████████████████████████████▎                                       | 51/100 [25:13<24:00, 29.40s/it]\u001b[A"
     ]
    },
    {
     "name": "stdout",
     "output_type": "stream",
     "text": [
      "Test Statistic:  0.0016401436201530784\n",
      "p-value:  1.0\n",
      "(200, 30)\n",
      "(200,)\n",
      "Fitted\n"
     ]
    },
    {
     "name": "stderr",
     "output_type": "stream",
     "text": [
      "\n",
      " 52%|██████████████████████████████████████████                                       | 52/100 [25:42<23:26, 29.31s/it]\u001b[A"
     ]
    },
    {
     "name": "stdout",
     "output_type": "stream",
     "text": [
      "Test Statistic:  0.009116532922509468\n",
      "p-value:  0.3956043956043956\n",
      "(200, 30)\n",
      "(200,)\n",
      "Fitted\n"
     ]
    },
    {
     "name": "stderr",
     "output_type": "stream",
     "text": [
      "\n",
      " 53%|██████████████████████████████████████████▉                                      | 53/100 [26:11<22:57, 29.30s/it]\u001b[A"
     ]
    },
    {
     "name": "stdout",
     "output_type": "stream",
     "text": [
      "Test Statistic:  0.004392114993401086\n",
      "p-value:  1.0\n",
      "(200, 30)\n",
      "(200,)\n",
      "Fitted\n"
     ]
    },
    {
     "name": "stderr",
     "output_type": "stream",
     "text": [
      "\n",
      " 54%|███████████████████████████████████████████▋                                     | 54/100 [26:41<22:33, 29.43s/it]\u001b[A"
     ]
    },
    {
     "name": "stdout",
     "output_type": "stream",
     "text": [
      "Test Statistic:  0.002076589307742016\n",
      "p-value:  1.0\n",
      "(200, 30)\n",
      "(200,)\n",
      "Fitted\n"
     ]
    },
    {
     "name": "stderr",
     "output_type": "stream",
     "text": [
      "\n",
      " 55%|████████████████████████████████████████████▌                                    | 55/100 [27:10<22:02, 29.38s/it]\u001b[A"
     ]
    },
    {
     "name": "stdout",
     "output_type": "stream",
     "text": [
      "Test Statistic:  0.006539002193584165\n",
      "p-value:  0.8701298701298701\n",
      "(200, 30)\n",
      "(200,)\n",
      "Fitted\n"
     ]
    },
    {
     "name": "stderr",
     "output_type": "stream",
     "text": [
      "\n",
      " 56%|█████████████████████████████████████████████▎                                   | 56/100 [27:39<21:23, 29.18s/it]\u001b[A"
     ]
    },
    {
     "name": "stdout",
     "output_type": "stream",
     "text": [
      "Test Statistic:  0.0034178481323533516\n",
      "p-value:  1.0\n",
      "(200, 30)\n",
      "(200,)\n",
      "Fitted\n"
     ]
    },
    {
     "name": "stderr",
     "output_type": "stream",
     "text": [
      "\n",
      " 57%|██████████████████████████████████████████████▏                                  | 57/100 [28:17<22:55, 31.98s/it]\u001b[A"
     ]
    },
    {
     "name": "stdout",
     "output_type": "stream",
     "text": [
      "Test Statistic:  0.005428516595605393\n",
      "p-value:  0.999000999000999\n",
      "(200, 30)\n",
      "(200,)\n",
      "Fitted\n"
     ]
    },
    {
     "name": "stderr",
     "output_type": "stream",
     "text": [
      "\n",
      " 58%|██████████████████████████████████████████████▉                                  | 58/100 [28:47<21:54, 31.30s/it]\u001b[A"
     ]
    },
    {
     "name": "stdout",
     "output_type": "stream",
     "text": [
      "Test Statistic:  0.0034014781127872373\n",
      "p-value:  1.0\n",
      "(200, 30)\n",
      "(200,)\n",
      "Fitted\n"
     ]
    },
    {
     "name": "stderr",
     "output_type": "stream",
     "text": [
      "\n",
      " 59%|███████████████████████████████████████████████▊                                 | 59/100 [29:16<20:55, 30.62s/it]\u001b[A"
     ]
    },
    {
     "name": "stdout",
     "output_type": "stream",
     "text": [
      "Test Statistic:  0.004405488827795345\n",
      "p-value:  1.0\n",
      "(200, 30)\n",
      "(200,)\n",
      "Fitted\n"
     ]
    },
    {
     "name": "stderr",
     "output_type": "stream",
     "text": [
      "\n",
      " 60%|████████████████████████████████████████████████▌                                | 60/100 [29:46<20:09, 30.23s/it]\u001b[A"
     ]
    },
    {
     "name": "stdout",
     "output_type": "stream",
     "text": [
      "Test Statistic:  0.006913667438436244\n",
      "p-value:  0.942057942057942\n",
      "(200, 30)\n",
      "(200,)\n",
      "Fitted\n"
     ]
    },
    {
     "name": "stderr",
     "output_type": "stream",
     "text": [
      "\n",
      " 61%|█████████████████████████████████████████████████▍                               | 61/100 [30:15<19:28, 29.97s/it]\u001b[A"
     ]
    },
    {
     "name": "stdout",
     "output_type": "stream",
     "text": [
      "Test Statistic:  0.003869497087413354\n",
      "p-value:  1.0\n",
      "(200, 30)\n",
      "(200,)\n",
      "Fitted\n"
     ]
    },
    {
     "name": "stderr",
     "output_type": "stream",
     "text": [
      "\n",
      " 62%|██████████████████████████████████████████████████▏                              | 62/100 [30:44<18:48, 29.71s/it]\u001b[A"
     ]
    },
    {
     "name": "stdout",
     "output_type": "stream",
     "text": [
      "Test Statistic:  0.005985585676880678\n",
      "p-value:  0.998001998001998\n",
      "(200, 30)\n",
      "(200,)\n",
      "Fitted\n"
     ]
    },
    {
     "name": "stderr",
     "output_type": "stream",
     "text": [
      "\n",
      " 63%|███████████████████████████████████████████████████                              | 63/100 [31:13<18:11, 29.51s/it]\u001b[A"
     ]
    },
    {
     "name": "stdout",
     "output_type": "stream",
     "text": [
      "Test Statistic:  0.013441399758132633\n",
      "p-value:  0.06393606393606394\n",
      "(200, 30)\n",
      "(200,)\n",
      "Fitted\n"
     ]
    },
    {
     "name": "stderr",
     "output_type": "stream",
     "text": [
      "\n",
      " 64%|███████████████████████████████████████████████████▊                             | 64/100 [31:43<17:42, 29.50s/it]\u001b[A"
     ]
    },
    {
     "name": "stdout",
     "output_type": "stream",
     "text": [
      "Test Statistic:  0.0504208976559104\n",
      "p-value:  0.000999000999000999\n",
      "(200, 30)\n",
      "(200,)\n",
      "Fitted\n"
     ]
    },
    {
     "name": "stderr",
     "output_type": "stream",
     "text": [
      "\n",
      " 65%|████████████████████████████████████████████████████▋                            | 65/100 [32:13<17:22, 29.79s/it]\u001b[A"
     ]
    },
    {
     "name": "stdout",
     "output_type": "stream",
     "text": [
      "Test Statistic:  0.011241420243853883\n",
      "p-value:  0.12087912087912088\n",
      "(200, 30)\n",
      "(200,)\n",
      "Fitted\n"
     ]
    },
    {
     "name": "stderr",
     "output_type": "stream",
     "text": [
      "\n",
      " 66%|█████████████████████████████████████████████████████▍                           | 66/100 [32:44<17:09, 30.26s/it]\u001b[A"
     ]
    },
    {
     "name": "stdout",
     "output_type": "stream",
     "text": [
      "Test Statistic:  0.0020130064983399087\n",
      "p-value:  1.0\n",
      "(200, 30)\n",
      "(200,)\n",
      "Fitted\n"
     ]
    },
    {
     "name": "stderr",
     "output_type": "stream",
     "text": [
      "\n",
      " 67%|██████████████████████████████████████████████████████▎                          | 67/100 [33:15<16:38, 30.26s/it]\u001b[A"
     ]
    },
    {
     "name": "stdout",
     "output_type": "stream",
     "text": [
      "Test Statistic:  0.0030963205034996166\n",
      "p-value:  1.0\n",
      "(200, 30)\n",
      "(200,)\n",
      "Fitted\n"
     ]
    },
    {
     "name": "stderr",
     "output_type": "stream",
     "text": [
      "\n",
      " 68%|███████████████████████████████████████████████████████                          | 68/100 [33:44<16:01, 30.03s/it]\u001b[A"
     ]
    },
    {
     "name": "stdout",
     "output_type": "stream",
     "text": [
      "Test Statistic:  0.004975766572762219\n",
      "p-value:  0.999000999000999\n",
      "(200, 30)\n",
      "(200,)\n",
      "Fitted\n"
     ]
    },
    {
     "name": "stderr",
     "output_type": "stream",
     "text": [
      "\n",
      " 69%|███████████████████████████████████████████████████████▉                         | 69/100 [34:13<15:19, 29.66s/it]\u001b[A"
     ]
    },
    {
     "name": "stdout",
     "output_type": "stream",
     "text": [
      "Test Statistic:  0.007003199896679302\n",
      "p-value:  0.7442557442557443\n",
      "(200, 30)\n",
      "(200,)\n",
      "Fitted\n"
     ]
    },
    {
     "name": "stderr",
     "output_type": "stream",
     "text": [
      "\n",
      " 70%|████████████████████████████████████████████████████████▋                        | 70/100 [34:43<14:54, 29.82s/it]\u001b[A"
     ]
    },
    {
     "name": "stdout",
     "output_type": "stream",
     "text": [
      "Test Statistic:  0.00461480454059815\n",
      "p-value:  1.0\n",
      "(200, 30)\n",
      "(200,)\n",
      "Fitted\n"
     ]
    },
    {
     "name": "stderr",
     "output_type": "stream",
     "text": [
      "\n",
      " 71%|█████████████████████████████████████████████████████████▌                       | 71/100 [35:13<14:25, 29.85s/it]\u001b[A"
     ]
    },
    {
     "name": "stdout",
     "output_type": "stream",
     "text": [
      "Test Statistic:  0.0024805051298175673\n",
      "p-value:  1.0\n",
      "(200, 30)\n",
      "(200,)\n",
      "Fitted\n"
     ]
    },
    {
     "name": "stderr",
     "output_type": "stream",
     "text": [
      "\n",
      " 72%|██████████████████████████████████████████████████████████▎                      | 72/100 [35:42<13:51, 29.70s/it]\u001b[A"
     ]
    },
    {
     "name": "stdout",
     "output_type": "stream",
     "text": [
      "Test Statistic:  0.004018465996880272\n",
      "p-value:  1.0\n",
      "(200, 30)\n",
      "(200,)\n",
      "Fitted\n"
     ]
    },
    {
     "name": "stderr",
     "output_type": "stream",
     "text": [
      "\n",
      " 73%|███████████████████████████████████████████████████████████▏                     | 73/100 [36:12<13:22, 29.71s/it]\u001b[A"
     ]
    },
    {
     "name": "stdout",
     "output_type": "stream",
     "text": [
      "Test Statistic:  0.005379864820920788\n",
      "p-value:  1.0\n",
      "(200, 30)\n",
      "(200,)\n",
      "Fitted\n"
     ]
    },
    {
     "name": "stderr",
     "output_type": "stream",
     "text": [
      "\n",
      " 74%|███████████████████████████████████████████████████████████▉                     | 74/100 [36:41<12:46, 29.49s/it]\u001b[A"
     ]
    },
    {
     "name": "stdout",
     "output_type": "stream",
     "text": [
      "Test Statistic:  0.0254791522632426\n",
      "p-value:  0.003996003996003996\n",
      "(200, 30)\n",
      "(200,)\n",
      "Fitted\n"
     ]
    },
    {
     "name": "stderr",
     "output_type": "stream",
     "text": [
      "\n",
      " 75%|████████████████████████████████████████████████████████████▊                    | 75/100 [37:10<12:14, 29.39s/it]\u001b[A"
     ]
    },
    {
     "name": "stdout",
     "output_type": "stream",
     "text": [
      "Test Statistic:  0.006371956313037774\n",
      "p-value:  0.961038961038961\n",
      "(200, 30)\n",
      "(200,)\n",
      "Fitted\n"
     ]
    },
    {
     "name": "stderr",
     "output_type": "stream",
     "text": [
      "\n",
      " 76%|█████████████████████████████████████████████████████████████▌                   | 76/100 [37:40<11:45, 29.41s/it]\u001b[A"
     ]
    },
    {
     "name": "stdout",
     "output_type": "stream",
     "text": [
      "Test Statistic:  0.0029909464569056743\n",
      "p-value:  1.0\n",
      "(200, 30)\n",
      "(200,)\n",
      "Fitted\n"
     ]
    },
    {
     "name": "stderr",
     "output_type": "stream",
     "text": [
      "\n",
      " 77%|██████████████████████████████████████████████████████████████▎                  | 77/100 [38:13<11:40, 30.45s/it]\u001b[A"
     ]
    },
    {
     "name": "stdout",
     "output_type": "stream",
     "text": [
      "Test Statistic:  0.004461067071896863\n",
      "p-value:  1.0\n",
      "(200, 30)\n",
      "(200,)\n",
      "Fitted\n"
     ]
    },
    {
     "name": "stderr",
     "output_type": "stream",
     "text": [
      "\n",
      " 78%|███████████████████████████████████████████████████████████████▏                 | 78/100 [38:41<10:59, 29.97s/it]\u001b[A"
     ]
    },
    {
     "name": "stdout",
     "output_type": "stream",
     "text": [
      "Test Statistic:  0.005036553628099072\n",
      "p-value:  0.996003996003996\n",
      "(200, 30)\n",
      "(200,)\n",
      "Fitted\n"
     ]
    },
    {
     "name": "stderr",
     "output_type": "stream",
     "text": [
      "\n",
      " 79%|███████████████████████████████████████████████████████████████▉                 | 79/100 [39:11<10:26, 29.85s/it]\u001b[A"
     ]
    },
    {
     "name": "stdout",
     "output_type": "stream",
     "text": [
      "Test Statistic:  0.002912019493206297\n",
      "p-value:  1.0\n",
      "(200, 30)\n",
      "(200,)\n",
      "Fitted\n"
     ]
    },
    {
     "name": "stderr",
     "output_type": "stream",
     "text": [
      "\n",
      " 80%|████████████████████████████████████████████████████████████████▊                | 80/100 [39:40<09:54, 29.73s/it]\u001b[A"
     ]
    },
    {
     "name": "stdout",
     "output_type": "stream",
     "text": [
      "Test Statistic:  0.018421361856012064\n",
      "p-value:  0.006993006993006993\n",
      "(200, 30)\n",
      "(200,)\n",
      "Fitted\n"
     ]
    },
    {
     "name": "stderr",
     "output_type": "stream",
     "text": [
      "\n",
      " 81%|█████████████████████████████████████████████████████████████████▌               | 81/100 [40:10<09:24, 29.72s/it]\u001b[A"
     ]
    },
    {
     "name": "stdout",
     "output_type": "stream",
     "text": [
      "Test Statistic:  0.0020855876848207\n",
      "p-value:  1.0\n",
      "(200, 30)\n",
      "(200,)\n",
      "Fitted\n"
     ]
    },
    {
     "name": "stderr",
     "output_type": "stream",
     "text": [
      "\n",
      " 82%|██████████████████████████████████████████████████████████████████▍              | 82/100 [40:44<09:16, 30.92s/it]\u001b[A"
     ]
    },
    {
     "name": "stdout",
     "output_type": "stream",
     "text": [
      "Test Statistic:  0.005769700715764103\n",
      "p-value:  1.0\n",
      "(200, 30)\n",
      "(200,)\n",
      "Fitted\n"
     ]
    },
    {
     "name": "stderr",
     "output_type": "stream",
     "text": [
      "\n",
      " 83%|███████████████████████████████████████████████████████████████████▏             | 83/100 [41:14<08:39, 30.54s/it]\u001b[A"
     ]
    },
    {
     "name": "stdout",
     "output_type": "stream",
     "text": [
      "Test Statistic:  0.002385734980578813\n",
      "p-value:  1.0\n",
      "(200, 30)\n",
      "(200,)\n",
      "Fitted\n"
     ]
    },
    {
     "name": "stderr",
     "output_type": "stream",
     "text": [
      "\n",
      " 84%|████████████████████████████████████████████████████████████████████             | 84/100 [41:43<08:03, 30.20s/it]\u001b[A"
     ]
    },
    {
     "name": "stdout",
     "output_type": "stream",
     "text": [
      "Test Statistic:  0.00505623890208351\n",
      "p-value:  1.0\n",
      "(200, 30)\n",
      "(200,)\n",
      "Fitted\n"
     ]
    },
    {
     "name": "stderr",
     "output_type": "stream",
     "text": [
      "\n",
      " 85%|████████████████████████████████████████████████████████████████████▊            | 85/100 [42:13<07:30, 30.05s/it]\u001b[A"
     ]
    },
    {
     "name": "stdout",
     "output_type": "stream",
     "text": [
      "Test Statistic:  0.003099330413660728\n",
      "p-value:  1.0\n",
      "(200, 30)\n",
      "(200,)\n",
      "Fitted\n"
     ]
    },
    {
     "name": "stderr",
     "output_type": "stream",
     "text": [
      "\n",
      " 86%|█████████████████████████████████████████████████████████████████████▋           | 86/100 [42:42<06:58, 29.88s/it]\u001b[A"
     ]
    },
    {
     "name": "stdout",
     "output_type": "stream",
     "text": [
      "Test Statistic:  0.007040566666393744\n",
      "p-value:  0.903096903096903\n",
      "(200, 30)\n",
      "(200,)\n",
      "Fitted\n"
     ]
    },
    {
     "name": "stderr",
     "output_type": "stream",
     "text": [
      "\n",
      " 87%|██████████████████████████████████████████████████████████████████████▍          | 87/100 [43:11<06:26, 29.73s/it]\u001b[A"
     ]
    },
    {
     "name": "stdout",
     "output_type": "stream",
     "text": [
      "Test Statistic:  0.008179607145006429\n",
      "p-value:  0.5394605394605395\n",
      "(200, 30)\n",
      "(200,)\n",
      "Fitted\n"
     ]
    },
    {
     "name": "stderr",
     "output_type": "stream",
     "text": [
      "\n",
      " 88%|███████████████████████████████████████████████████████████████████████▎         | 88/100 [43:41<05:57, 29.75s/it]\u001b[A"
     ]
    },
    {
     "name": "stdout",
     "output_type": "stream",
     "text": [
      "Test Statistic:  0.0021304072037180433\n",
      "p-value:  1.0\n",
      "(200, 30)\n",
      "(200,)\n",
      "Fitted\n"
     ]
    },
    {
     "name": "stderr",
     "output_type": "stream",
     "text": [
      "\n",
      " 89%|████████████████████████████████████████████████████████████████████████         | 89/100 [44:11<05:26, 29.73s/it]\u001b[A"
     ]
    },
    {
     "name": "stdout",
     "output_type": "stream",
     "text": [
      "Test Statistic:  0.003886007326179386\n",
      "p-value:  1.0\n",
      "(200, 30)\n",
      "(200,)\n",
      "Fitted\n"
     ]
    },
    {
     "name": "stderr",
     "output_type": "stream",
     "text": [
      "\n",
      " 90%|████████████████████████████████████████████████████████████████████████▉        | 90/100 [44:40<04:55, 29.58s/it]\u001b[A"
     ]
    },
    {
     "name": "stdout",
     "output_type": "stream",
     "text": [
      "Test Statistic:  0.0029531363249100107\n",
      "p-value:  1.0\n",
      "(200, 30)\n",
      "(200,)\n",
      "Fitted\n"
     ]
    },
    {
     "name": "stderr",
     "output_type": "stream",
     "text": [
      "\n",
      " 91%|█████████████████████████████████████████████████████████████████████████▋       | 91/100 [45:11<04:29, 29.99s/it]\u001b[A"
     ]
    },
    {
     "name": "stdout",
     "output_type": "stream",
     "text": [
      "Test Statistic:  0.005264999113537727\n",
      "p-value:  1.0\n",
      "(200, 30)\n",
      "(200,)\n",
      "Fitted\n"
     ]
    },
    {
     "name": "stderr",
     "output_type": "stream",
     "text": [
      "\n",
      " 92%|██████████████████████████████████████████████████████████████████████████▌      | 92/100 [45:41<03:59, 29.91s/it]\u001b[A"
     ]
    },
    {
     "name": "stdout",
     "output_type": "stream",
     "text": [
      "Test Statistic:  0.0042287645253215045\n",
      "p-value:  1.0\n",
      "(200, 30)\n",
      "(200,)\n",
      "Fitted\n"
     ]
    },
    {
     "name": "stderr",
     "output_type": "stream",
     "text": [
      "\n",
      " 93%|███████████████████████████████████████████████████████████████████████████▎     | 93/100 [46:10<03:28, 29.82s/it]\u001b[A"
     ]
    },
    {
     "name": "stdout",
     "output_type": "stream",
     "text": [
      "Test Statistic:  0.005133061243124182\n",
      "p-value:  1.0\n",
      "(200, 30)\n",
      "(200,)\n",
      "Fitted\n"
     ]
    },
    {
     "name": "stderr",
     "output_type": "stream",
     "text": [
      "\n",
      " 94%|████████████████████████████████████████████████████████████████████████████▏    | 94/100 [46:40<02:58, 29.75s/it]\u001b[A"
     ]
    },
    {
     "name": "stdout",
     "output_type": "stream",
     "text": [
      "Test Statistic:  0.003545615386616574\n",
      "p-value:  1.0\n",
      "(200, 30)\n",
      "(200,)\n",
      "Fitted\n"
     ]
    },
    {
     "name": "stderr",
     "output_type": "stream",
     "text": [
      "\n",
      " 95%|████████████████████████████████████████████████████████████████████████████▉    | 95/100 [47:10<02:28, 29.79s/it]\u001b[A"
     ]
    },
    {
     "name": "stdout",
     "output_type": "stream",
     "text": [
      "Test Statistic:  0.00536646046388789\n",
      "p-value:  0.987012987012987\n",
      "(200, 30)\n",
      "(200,)\n",
      "Fitted\n"
     ]
    },
    {
     "name": "stderr",
     "output_type": "stream",
     "text": [
      "\n",
      " 96%|█████████████████████████████████████████████████████████████████████████████▊   | 96/100 [47:40<01:58, 29.75s/it]\u001b[A"
     ]
    },
    {
     "name": "stdout",
     "output_type": "stream",
     "text": [
      "Test Statistic:  0.008147972576798557\n",
      "p-value:  0.7562437562437563\n",
      "(200, 30)\n",
      "(200,)\n",
      "Fitted\n"
     ]
    },
    {
     "name": "stderr",
     "output_type": "stream",
     "text": [
      "\n",
      " 97%|██████████████████████████████████████████████████████████████████████████████▌  | 97/100 [48:13<01:32, 30.72s/it]\u001b[A"
     ]
    },
    {
     "name": "stdout",
     "output_type": "stream",
     "text": [
      "Test Statistic:  0.002590887750397508\n",
      "p-value:  1.0\n",
      "(200, 30)\n",
      "(200,)\n",
      "Fitted\n"
     ]
    },
    {
     "name": "stderr",
     "output_type": "stream",
     "text": [
      "\n",
      " 98%|███████████████████████████████████████████████████████████████████████████████▍ | 98/100 [48:42<01:00, 30.32s/it]\u001b[A"
     ]
    },
    {
     "name": "stdout",
     "output_type": "stream",
     "text": [
      "Test Statistic:  0.002033994081730328\n",
      "p-value:  1.0\n",
      "(200, 30)\n",
      "(200,)\n",
      "Fitted\n"
     ]
    },
    {
     "name": "stderr",
     "output_type": "stream",
     "text": [
      "\n",
      " 99%|████████████████████████████████████████████████████████████████████████████████▏| 99/100 [49:12<00:30, 30.09s/it]\u001b[A"
     ]
    },
    {
     "name": "stdout",
     "output_type": "stream",
     "text": [
      "Test Statistic:  0.01107275670873853\n",
      "p-value:  0.2007992007992008\n",
      "(200, 30)\n",
      "(200,)\n",
      "Fitted\n"
     ]
    },
    {
     "name": "stderr",
     "output_type": "stream",
     "text": [
      "\n",
      "100%|████████████████████████████████████████████████████████████████████████████████| 100/100 [49:41<00:00, 29.81s/it]\u001b[A\n",
      " 75%|████████████████████████████████████████████████████████▎                  | 15/20 [13:15:10<4:18:46, 3105.33s/it]\n",
      "  0%|                                                                                          | 0/100 [00:00<?, ?it/s]\u001b[A"
     ]
    },
    {
     "name": "stdout",
     "output_type": "stream",
     "text": [
      "Test Statistic:  0.028131438905471762\n",
      "p-value:  0.001998001998001998\n",
      "dimension 16\n",
      "circle\n",
      "(200, 32)\n",
      "(200,)\n",
      "Fitted\n"
     ]
    },
    {
     "name": "stderr",
     "output_type": "stream",
     "text": [
      "\n",
      "  1%|▊                                                                                 | 1/100 [00:29<49:13, 29.83s/it]\u001b[A"
     ]
    },
    {
     "name": "stdout",
     "output_type": "stream",
     "text": [
      "Test Statistic:  0.005402099552141104\n",
      "p-value:  1.0\n",
      "(200, 32)\n",
      "(200,)\n",
      "Fitted\n"
     ]
    },
    {
     "name": "stderr",
     "output_type": "stream",
     "text": [
      "\n",
      "  2%|█▋                                                                                | 2/100 [00:59<48:33, 29.73s/it]\u001b[A"
     ]
    },
    {
     "name": "stdout",
     "output_type": "stream",
     "text": [
      "Test Statistic:  0.014516331417707695\n",
      "p-value:  0.04395604395604396\n",
      "(200, 32)\n",
      "(200,)\n",
      "Fitted\n"
     ]
    },
    {
     "name": "stderr",
     "output_type": "stream",
     "text": [
      "\n",
      "  3%|██▍                                                                               | 3/100 [01:30<48:51, 30.23s/it]\u001b[A"
     ]
    },
    {
     "name": "stdout",
     "output_type": "stream",
     "text": [
      "Test Statistic:  0.006300073148604368\n",
      "p-value:  0.971028971028971\n",
      "(200, 32)\n",
      "(200,)\n",
      "Fitted\n"
     ]
    },
    {
     "name": "stderr",
     "output_type": "stream",
     "text": [
      "\n",
      "  4%|███▎                                                                              | 4/100 [02:01<48:32, 30.34s/it]\u001b[A"
     ]
    },
    {
     "name": "stdout",
     "output_type": "stream",
     "text": [
      "Test Statistic:  0.010341588292623771\n",
      "p-value:  0.1798201798201798\n",
      "(200, 32)\n",
      "(200,)\n",
      "Fitted\n"
     ]
    },
    {
     "name": "stderr",
     "output_type": "stream",
     "text": [
      "\n",
      "  5%|████                                                                              | 5/100 [02:32<48:38, 30.72s/it]\u001b[A"
     ]
    },
    {
     "name": "stdout",
     "output_type": "stream",
     "text": [
      "Test Statistic:  0.008154221123716998\n",
      "p-value:  0.6373626373626373\n",
      "(200, 32)\n",
      "(200,)\n",
      "Fitted\n"
     ]
    },
    {
     "name": "stderr",
     "output_type": "stream",
     "text": [
      "\n",
      "  6%|████▉                                                                             | 6/100 [03:02<47:39, 30.42s/it]\u001b[A"
     ]
    },
    {
     "name": "stdout",
     "output_type": "stream",
     "text": [
      "Test Statistic:  0.0020752746544369094\n",
      "p-value:  1.0\n",
      "(200, 32)\n",
      "(200,)\n",
      "Fitted\n"
     ]
    },
    {
     "name": "stderr",
     "output_type": "stream",
     "text": [
      "\n",
      "  7%|█████▋                                                                            | 7/100 [03:31<46:37, 30.08s/it]\u001b[A"
     ]
    },
    {
     "name": "stdout",
     "output_type": "stream",
     "text": [
      "Test Statistic:  0.002857034258071045\n",
      "p-value:  1.0\n",
      "(200, 32)\n",
      "(200,)\n",
      "Fitted\n"
     ]
    },
    {
     "name": "stderr",
     "output_type": "stream",
     "text": [
      "\n",
      "  8%|██████▌                                                                           | 8/100 [04:01<45:57, 29.97s/it]\u001b[A"
     ]
    },
    {
     "name": "stdout",
     "output_type": "stream",
     "text": [
      "Test Statistic:  0.0054141840558308285\n",
      "p-value:  0.997002997002997\n",
      "(200, 32)\n",
      "(200,)\n",
      "Fitted\n"
     ]
    },
    {
     "name": "stderr",
     "output_type": "stream",
     "text": [
      "\n",
      "  9%|███████▍                                                                          | 9/100 [04:31<45:17, 29.86s/it]\u001b[A"
     ]
    },
    {
     "name": "stdout",
     "output_type": "stream",
     "text": [
      "Test Statistic:  0.005899576594713185\n",
      "p-value:  0.999000999000999\n",
      "(200, 32)\n",
      "(200,)\n",
      "Fitted\n"
     ]
    },
    {
     "name": "stderr",
     "output_type": "stream",
     "text": [
      "\n",
      " 10%|████████                                                                         | 10/100 [05:00<44:38, 29.76s/it]\u001b[A"
     ]
    },
    {
     "name": "stdout",
     "output_type": "stream",
     "text": [
      "Test Statistic:  0.002207808279263257\n",
      "p-value:  1.0\n",
      "(200, 32)\n",
      "(200,)\n",
      "Fitted\n"
     ]
    },
    {
     "name": "stderr",
     "output_type": "stream",
     "text": [
      "\n",
      " 11%|████████▉                                                                        | 11/100 [05:31<44:24, 29.93s/it]\u001b[A"
     ]
    },
    {
     "name": "stdout",
     "output_type": "stream",
     "text": [
      "Test Statistic:  0.010725534548825855\n",
      "p-value:  0.0969030969030969\n",
      "(200, 32)\n",
      "(200,)\n",
      "Fitted\n"
     ]
    },
    {
     "name": "stderr",
     "output_type": "stream",
     "text": [
      "\n",
      " 12%|█████████▋                                                                       | 12/100 [06:00<43:31, 29.67s/it]\u001b[A"
     ]
    },
    {
     "name": "stdout",
     "output_type": "stream",
     "text": [
      "Test Statistic:  0.020029683010957422\n",
      "p-value:  0.00999000999000999\n",
      "(200, 32)\n",
      "(200,)\n",
      "Fitted\n"
     ]
    },
    {
     "name": "stderr",
     "output_type": "stream",
     "text": [
      "\n",
      " 13%|██████████▌                                                                      | 13/100 [06:29<43:02, 29.68s/it]\u001b[A"
     ]
    },
    {
     "name": "stdout",
     "output_type": "stream",
     "text": [
      "Test Statistic:  0.016156300293237447\n",
      "p-value:  0.016983016983016984\n",
      "(200, 32)\n",
      "(200,)\n",
      "Fitted\n"
     ]
    },
    {
     "name": "stderr",
     "output_type": "stream",
     "text": [
      "\n",
      " 14%|███████████▎                                                                     | 14/100 [06:59<42:29, 29.64s/it]\u001b[A"
     ]
    },
    {
     "name": "stdout",
     "output_type": "stream",
     "text": [
      "Test Statistic:  0.005544957215766533\n",
      "p-value:  0.996003996003996\n",
      "(200, 32)\n",
      "(200,)\n",
      "Fitted\n"
     ]
    },
    {
     "name": "stderr",
     "output_type": "stream",
     "text": [
      "\n",
      " 15%|████████████▏                                                                    | 15/100 [07:29<42:04, 29.70s/it]\u001b[A"
     ]
    },
    {
     "name": "stdout",
     "output_type": "stream",
     "text": [
      "Test Statistic:  0.0029980250147125798\n",
      "p-value:  1.0\n",
      "(200, 32)\n",
      "(200,)\n",
      "Fitted\n"
     ]
    },
    {
     "name": "stderr",
     "output_type": "stream",
     "text": [
      "\n",
      " 16%|████████████▉                                                                    | 16/100 [07:58<41:20, 29.53s/it]\u001b[A"
     ]
    },
    {
     "name": "stdout",
     "output_type": "stream",
     "text": [
      "Test Statistic:  0.0021989525579472202\n",
      "p-value:  1.0\n",
      "(200, 32)\n",
      "(200,)\n",
      "Fitted\n"
     ]
    },
    {
     "name": "stderr",
     "output_type": "stream",
     "text": [
      "\n",
      " 17%|█████████████▊                                                                   | 17/100 [08:35<44:11, 31.95s/it]\u001b[A"
     ]
    },
    {
     "name": "stdout",
     "output_type": "stream",
     "text": [
      "Test Statistic:  0.00869768682268457\n",
      "p-value:  0.5444555444555444\n",
      "(200, 32)\n",
      "(200,)\n",
      "Fitted\n"
     ]
    },
    {
     "name": "stderr",
     "output_type": "stream",
     "text": [
      "\n",
      " 18%|██████████████▌                                                                  | 18/100 [09:06<42:59, 31.46s/it]\u001b[A"
     ]
    },
    {
     "name": "stdout",
     "output_type": "stream",
     "text": [
      "Test Statistic:  0.007451960099817967\n",
      "p-value:  0.6973026973026973\n",
      "(200, 32)\n",
      "(200,)\n",
      "Fitted\n"
     ]
    },
    {
     "name": "stderr",
     "output_type": "stream",
     "text": [
      "\n",
      " 19%|███████████████▍                                                                 | 19/100 [09:35<41:33, 30.78s/it]\u001b[A"
     ]
    },
    {
     "name": "stdout",
     "output_type": "stream",
     "text": [
      "Test Statistic:  0.00350868833817497\n",
      "p-value:  1.0\n",
      "(200, 32)\n",
      "(200,)\n",
      "Fitted\n"
     ]
    },
    {
     "name": "stderr",
     "output_type": "stream",
     "text": [
      "\n",
      " 20%|████████████████▏                                                                | 20/100 [10:05<40:40, 30.51s/it]\u001b[A"
     ]
    },
    {
     "name": "stdout",
     "output_type": "stream",
     "text": [
      "Test Statistic:  0.00315533351473829\n",
      "p-value:  1.0\n",
      "(200, 32)\n",
      "(200,)\n",
      "Fitted\n"
     ]
    },
    {
     "name": "stderr",
     "output_type": "stream",
     "text": [
      "\n",
      " 21%|█████████████████                                                                | 21/100 [10:34<39:32, 30.03s/it]\u001b[A"
     ]
    },
    {
     "name": "stdout",
     "output_type": "stream",
     "text": [
      "Test Statistic:  0.002725238101468852\n",
      "p-value:  1.0\n",
      "(200, 32)\n",
      "(200,)\n",
      "Fitted\n"
     ]
    },
    {
     "name": "stderr",
     "output_type": "stream",
     "text": [
      "\n",
      " 22%|█████████████████▊                                                               | 22/100 [11:03<38:40, 29.75s/it]\u001b[A"
     ]
    },
    {
     "name": "stdout",
     "output_type": "stream",
     "text": [
      "Test Statistic:  0.003560730176679683\n",
      "p-value:  1.0\n",
      "(200, 32)\n",
      "(200,)\n",
      "Fitted\n"
     ]
    },
    {
     "name": "stderr",
     "output_type": "stream",
     "text": [
      "\n",
      " 23%|██████████████████▋                                                              | 23/100 [11:32<37:54, 29.53s/it]\u001b[A"
     ]
    },
    {
     "name": "stdout",
     "output_type": "stream",
     "text": [
      "Test Statistic:  0.01638088845053609\n",
      "p-value:  0.012987012987012988\n",
      "(200, 32)\n",
      "(200,)\n",
      "Fitted\n"
     ]
    },
    {
     "name": "stderr",
     "output_type": "stream",
     "text": [
      "\n",
      " 24%|███████████████████▍                                                             | 24/100 [12:01<37:17, 29.44s/it]\u001b[A"
     ]
    },
    {
     "name": "stdout",
     "output_type": "stream",
     "text": [
      "Test Statistic:  0.015302255064147618\n",
      "p-value:  0.04995004995004995\n",
      "(200, 32)\n",
      "(200,)\n",
      "Fitted\n"
     ]
    },
    {
     "name": "stderr",
     "output_type": "stream",
     "text": [
      "\n",
      " 25%|████████████████████▎                                                            | 25/100 [12:31<36:50, 29.47s/it]\u001b[A"
     ]
    },
    {
     "name": "stdout",
     "output_type": "stream",
     "text": [
      "Test Statistic:  0.0077627606239002445\n",
      "p-value:  0.6173826173826173\n",
      "(200, 32)\n",
      "(200,)\n",
      "Fitted\n"
     ]
    },
    {
     "name": "stderr",
     "output_type": "stream",
     "text": [
      "\n",
      " 26%|█████████████████████                                                            | 26/100 [13:01<36:32, 29.62s/it]\u001b[A"
     ]
    },
    {
     "name": "stdout",
     "output_type": "stream",
     "text": [
      "Test Statistic:  0.004941117656379723\n",
      "p-value:  0.998001998001998\n",
      "(200, 32)\n",
      "(200,)\n",
      "Fitted\n"
     ]
    },
    {
     "name": "stderr",
     "output_type": "stream",
     "text": [
      "\n",
      " 27%|█████████████████████▊                                                           | 27/100 [13:29<35:41, 29.34s/it]\u001b[A"
     ]
    },
    {
     "name": "stdout",
     "output_type": "stream",
     "text": [
      "Test Statistic:  0.009332882966606726\n",
      "p-value:  0.4145854145854146\n",
      "(200, 32)\n",
      "(200,)\n",
      "Fitted\n"
     ]
    },
    {
     "name": "stderr",
     "output_type": "stream",
     "text": [
      "\n",
      " 28%|██████████████████████▋                                                          | 28/100 [13:59<35:13, 29.35s/it]\u001b[A"
     ]
    },
    {
     "name": "stdout",
     "output_type": "stream",
     "text": [
      "Test Statistic:  0.011810585203821389\n",
      "p-value:  0.11988011988011989\n",
      "(200, 32)\n",
      "(200,)\n",
      "Fitted\n"
     ]
    },
    {
     "name": "stderr",
     "output_type": "stream",
     "text": [
      "\n",
      " 29%|███████████████████████▍                                                         | 29/100 [14:29<34:54, 29.50s/it]\u001b[A"
     ]
    },
    {
     "name": "stdout",
     "output_type": "stream",
     "text": [
      "Test Statistic:  0.009106805474132007\n",
      "p-value:  0.36563436563436563\n",
      "(200, 32)\n",
      "(200,)\n",
      "Fitted\n"
     ]
    },
    {
     "name": "stderr",
     "output_type": "stream",
     "text": [
      "\n",
      " 30%|████████████████████████▎                                                        | 30/100 [14:58<34:30, 29.57s/it]\u001b[A"
     ]
    },
    {
     "name": "stdout",
     "output_type": "stream",
     "text": [
      "Test Statistic:  0.0024915866525274666\n",
      "p-value:  1.0\n",
      "(200, 32)\n",
      "(200,)\n",
      "Fitted\n"
     ]
    },
    {
     "name": "stderr",
     "output_type": "stream",
     "text": [
      "\n",
      " 31%|█████████████████████████                                                        | 31/100 [15:29<34:27, 29.96s/it]\u001b[A"
     ]
    },
    {
     "name": "stdout",
     "output_type": "stream",
     "text": [
      "Test Statistic:  0.016523347446288583\n",
      "p-value:  0.017982017982017984\n",
      "(200, 32)\n",
      "(200,)\n",
      "Fitted\n"
     ]
    },
    {
     "name": "stderr",
     "output_type": "stream",
     "text": [
      "\n",
      " 32%|█████████████████████████▉                                                       | 32/100 [15:58<33:40, 29.72s/it]\u001b[A"
     ]
    },
    {
     "name": "stdout",
     "output_type": "stream",
     "text": [
      "Test Statistic:  0.008461920698990877\n",
      "p-value:  0.5544455544455544\n",
      "(200, 32)\n",
      "(200,)\n",
      "Fitted\n"
     ]
    },
    {
     "name": "stderr",
     "output_type": "stream",
     "text": [
      "\n",
      " 33%|██████████████████████████▋                                                      | 33/100 [16:28<33:08, 29.68s/it]\u001b[A"
     ]
    },
    {
     "name": "stdout",
     "output_type": "stream",
     "text": [
      "Test Statistic:  0.004079237526839696\n",
      "p-value:  1.0\n",
      "(200, 32)\n",
      "(200,)\n",
      "Fitted\n"
     ]
    },
    {
     "name": "stderr",
     "output_type": "stream",
     "text": [
      "\n",
      " 34%|███████████████████████████▌                                                     | 34/100 [16:57<32:19, 29.39s/it]\u001b[A"
     ]
    },
    {
     "name": "stdout",
     "output_type": "stream",
     "text": [
      "Test Statistic:  0.004775009809695141\n",
      "p-value:  1.0\n",
      "(200, 32)\n",
      "(200,)\n",
      "Fitted\n"
     ]
    },
    {
     "name": "stderr",
     "output_type": "stream",
     "text": [
      "\n",
      " 35%|████████████████████████████▎                                                    | 35/100 [17:25<31:30, 29.08s/it]\u001b[A"
     ]
    },
    {
     "name": "stdout",
     "output_type": "stream",
     "text": [
      "Test Statistic:  0.004475121891842071\n",
      "p-value:  1.0\n",
      "(200, 32)\n",
      "(200,)\n",
      "Fitted\n"
     ]
    },
    {
     "name": "stderr",
     "output_type": "stream",
     "text": [
      "\n",
      " 36%|█████████████████████████████▏                                                   | 36/100 [17:54<30:58, 29.04s/it]\u001b[A"
     ]
    },
    {
     "name": "stdout",
     "output_type": "stream",
     "text": [
      "Test Statistic:  0.01679839367993352\n",
      "p-value:  0.004995004995004995\n",
      "(200, 32)\n",
      "(200,)\n",
      "Fitted\n"
     ]
    },
    {
     "name": "stderr",
     "output_type": "stream",
     "text": [
      "\n",
      " 37%|█████████████████████████████▉                                                   | 37/100 [18:26<31:27, 29.96s/it]\u001b[A"
     ]
    },
    {
     "name": "stdout",
     "output_type": "stream",
     "text": [
      "Test Statistic:  0.018900435767252866\n",
      "p-value:  0.005994005994005994\n",
      "(200, 32)\n",
      "(200,)\n",
      "Fitted\n"
     ]
    },
    {
     "name": "stderr",
     "output_type": "stream",
     "text": [
      "\n",
      " 38%|██████████████████████████████▊                                                  | 38/100 [18:56<30:49, 29.83s/it]\u001b[A"
     ]
    },
    {
     "name": "stdout",
     "output_type": "stream",
     "text": [
      "Test Statistic:  0.0050804980931346\n",
      "p-value:  1.0\n",
      "(200, 32)\n",
      "(200,)\n",
      "Fitted\n"
     ]
    },
    {
     "name": "stderr",
     "output_type": "stream",
     "text": [
      "\n",
      " 39%|███████████████████████████████▌                                                 | 39/100 [19:25<30:10, 29.68s/it]\u001b[A"
     ]
    },
    {
     "name": "stdout",
     "output_type": "stream",
     "text": [
      "Test Statistic:  0.0025908931417192305\n",
      "p-value:  1.0\n",
      "(200, 32)\n",
      "(200,)\n",
      "Fitted\n"
     ]
    },
    {
     "name": "stderr",
     "output_type": "stream",
     "text": [
      "\n",
      " 40%|████████████████████████████████▍                                                | 40/100 [19:54<29:26, 29.44s/it]\u001b[A"
     ]
    },
    {
     "name": "stdout",
     "output_type": "stream",
     "text": [
      "Test Statistic:  0.004068952511998569\n",
      "p-value:  1.0\n",
      "(200, 32)\n",
      "(200,)\n",
      "Fitted\n"
     ]
    },
    {
     "name": "stderr",
     "output_type": "stream",
     "text": [
      "\n",
      " 41%|█████████████████████████████████▏                                               | 41/100 [20:23<28:46, 29.26s/it]\u001b[A"
     ]
    },
    {
     "name": "stdout",
     "output_type": "stream",
     "text": [
      "Test Statistic:  0.006640440820345872\n",
      "p-value:  0.972027972027972\n",
      "(200, 32)\n",
      "(200,)\n",
      "Fitted\n"
     ]
    },
    {
     "name": "stderr",
     "output_type": "stream",
     "text": [
      "\n",
      " 42%|██████████████████████████████████                                               | 42/100 [20:51<28:07, 29.10s/it]\u001b[A"
     ]
    },
    {
     "name": "stdout",
     "output_type": "stream",
     "text": [
      "Test Statistic:  0.0069335536268199105\n",
      "p-value:  0.8591408591408591\n",
      "(200, 32)\n",
      "(200,)\n",
      "Fitted\n"
     ]
    },
    {
     "name": "stderr",
     "output_type": "stream",
     "text": [
      "\n",
      " 43%|██████████████████████████████████▊                                              | 43/100 [21:20<27:36, 29.06s/it]\u001b[A"
     ]
    },
    {
     "name": "stdout",
     "output_type": "stream",
     "text": [
      "Test Statistic:  0.0022978935540676204\n",
      "p-value:  1.0\n",
      "(200, 32)\n",
      "(200,)\n",
      "Fitted\n"
     ]
    },
    {
     "name": "stderr",
     "output_type": "stream",
     "text": [
      "\n",
      " 44%|███████████████████████████████████▋                                             | 44/100 [21:50<27:11, 29.13s/it]\u001b[A"
     ]
    },
    {
     "name": "stdout",
     "output_type": "stream",
     "text": [
      "Test Statistic:  0.005507863094626808\n",
      "p-value:  0.996003996003996\n",
      "(200, 32)\n",
      "(200,)\n",
      "Fitted\n"
     ]
    },
    {
     "name": "stderr",
     "output_type": "stream",
     "text": [
      "\n",
      " 45%|████████████████████████████████████▍                                            | 45/100 [22:19<26:49, 29.25s/it]\u001b[A"
     ]
    },
    {
     "name": "stdout",
     "output_type": "stream",
     "text": [
      "Test Statistic:  0.014061368279294717\n",
      "p-value:  0.03396603396603397\n",
      "(200, 32)\n",
      "(200,)\n",
      "Fitted\n"
     ]
    },
    {
     "name": "stderr",
     "output_type": "stream",
     "text": [
      "\n",
      " 46%|█████████████████████████████████████▎                                           | 46/100 [22:49<26:22, 29.30s/it]\u001b[A"
     ]
    },
    {
     "name": "stdout",
     "output_type": "stream",
     "text": [
      "Test Statistic:  0.004035475789154086\n",
      "p-value:  1.0\n",
      "(200, 32)\n",
      "(200,)\n",
      "Fitted\n"
     ]
    },
    {
     "name": "stderr",
     "output_type": "stream",
     "text": [
      "\n",
      " 47%|██████████████████████████████████████                                           | 47/100 [23:20<26:29, 29.98s/it]\u001b[A"
     ]
    },
    {
     "name": "stdout",
     "output_type": "stream",
     "text": [
      "Test Statistic:  0.0025813326459975805\n",
      "p-value:  1.0\n",
      "(200, 32)\n",
      "(200,)\n",
      "Fitted\n"
     ]
    },
    {
     "name": "stderr",
     "output_type": "stream",
     "text": [
      "\n",
      " 48%|██████████████████████████████████████▉                                          | 48/100 [23:50<25:52, 29.86s/it]\u001b[A"
     ]
    },
    {
     "name": "stdout",
     "output_type": "stream",
     "text": [
      "Test Statistic:  0.006684790391642603\n",
      "p-value:  0.9430569430569431\n",
      "(200, 32)\n",
      "(200,)\n",
      "Fitted\n"
     ]
    },
    {
     "name": "stderr",
     "output_type": "stream",
     "text": [
      "\n",
      " 49%|███████████████████████████████████████▋                                         | 49/100 [24:19<25:21, 29.84s/it]\u001b[A"
     ]
    },
    {
     "name": "stdout",
     "output_type": "stream",
     "text": [
      "Test Statistic:  0.006608988728311949\n",
      "p-value:  0.8971028971028971\n",
      "(200, 32)\n",
      "(200,)\n",
      "Fitted\n"
     ]
    },
    {
     "name": "stderr",
     "output_type": "stream",
     "text": [
      "\n",
      " 50%|████████████████████████████████████████▌                                        | 50/100 [24:49<24:48, 29.77s/it]\u001b[A"
     ]
    },
    {
     "name": "stdout",
     "output_type": "stream",
     "text": [
      "Test Statistic:  0.013063706927248897\n",
      "p-value:  0.07992007992007992\n",
      "(200, 32)\n",
      "(200,)\n",
      "Fitted\n"
     ]
    },
    {
     "name": "stderr",
     "output_type": "stream",
     "text": [
      "\n",
      " 51%|█████████████████████████████████████████▎                                       | 51/100 [25:19<24:19, 29.78s/it]\u001b[A"
     ]
    },
    {
     "name": "stdout",
     "output_type": "stream",
     "text": [
      "Test Statistic:  0.020902729131628717\n",
      "p-value:  0.001998001998001998\n",
      "(200, 32)\n",
      "(200,)\n",
      "Fitted\n"
     ]
    },
    {
     "name": "stderr",
     "output_type": "stream",
     "text": [
      "\n",
      " 52%|██████████████████████████████████████████                                       | 52/100 [25:48<23:43, 29.66s/it]\u001b[A"
     ]
    },
    {
     "name": "stdout",
     "output_type": "stream",
     "text": [
      "Test Statistic:  0.009703261854239198\n",
      "p-value:  0.27172827172827174\n",
      "(200, 32)\n",
      "(200,)\n",
      "Fitted\n"
     ]
    },
    {
     "name": "stderr",
     "output_type": "stream",
     "text": [
      "\n",
      " 53%|██████████████████████████████████████████▉                                      | 53/100 [26:18<23:13, 29.64s/it]\u001b[A"
     ]
    },
    {
     "name": "stdout",
     "output_type": "stream",
     "text": [
      "Test Statistic:  0.014026189900291808\n",
      "p-value:  0.04595404595404595\n",
      "(200, 32)\n",
      "(200,)\n",
      "Fitted\n"
     ]
    },
    {
     "name": "stderr",
     "output_type": "stream",
     "text": [
      "\n",
      " 54%|███████████████████████████████████████████▋                                     | 54/100 [26:47<22:39, 29.56s/it]\u001b[A"
     ]
    },
    {
     "name": "stdout",
     "output_type": "stream",
     "text": [
      "Test Statistic:  0.001934350609551161\n",
      "p-value:  1.0\n",
      "(200, 32)\n",
      "(200,)\n",
      "Fitted\n"
     ]
    },
    {
     "name": "stderr",
     "output_type": "stream",
     "text": [
      "\n",
      " 55%|████████████████████████████████████████████▌                                    | 55/100 [27:17<22:11, 29.59s/it]\u001b[A"
     ]
    },
    {
     "name": "stdout",
     "output_type": "stream",
     "text": [
      "Test Statistic:  0.0037695449590854357\n",
      "p-value:  1.0\n",
      "(200, 32)\n",
      "(200,)\n",
      "Fitted\n"
     ]
    },
    {
     "name": "stderr",
     "output_type": "stream",
     "text": [
      "\n",
      " 56%|█████████████████████████████████████████████▎                                   | 56/100 [27:47<21:43, 29.64s/it]\u001b[A"
     ]
    },
    {
     "name": "stdout",
     "output_type": "stream",
     "text": [
      "Test Statistic:  0.003055946326565917\n",
      "p-value:  1.0\n",
      "(200, 32)\n",
      "(200,)\n",
      "Fitted\n"
     ]
    },
    {
     "name": "stderr",
     "output_type": "stream",
     "text": [
      "\n",
      " 57%|██████████████████████████████████████████████▏                                  | 57/100 [28:20<22:02, 30.75s/it]\u001b[A"
     ]
    },
    {
     "name": "stdout",
     "output_type": "stream",
     "text": [
      "Test Statistic:  0.018521447678343295\n",
      "p-value:  0.006993006993006993\n",
      "(200, 32)\n",
      "(200,)\n",
      "Fitted\n"
     ]
    },
    {
     "name": "stderr",
     "output_type": "stream",
     "text": [
      "\n",
      " 58%|██████████████████████████████████████████████▉                                  | 58/100 [28:50<21:16, 30.40s/it]\u001b[A"
     ]
    },
    {
     "name": "stdout",
     "output_type": "stream",
     "text": [
      "Test Statistic:  0.007068920781305721\n",
      "p-value:  0.8091908091908092\n",
      "(200, 32)\n",
      "(200,)\n",
      "Fitted\n"
     ]
    },
    {
     "name": "stderr",
     "output_type": "stream",
     "text": [
      "\n",
      " 59%|███████████████████████████████████████████████▊                                 | 59/100 [29:19<20:34, 30.11s/it]\u001b[A"
     ]
    },
    {
     "name": "stdout",
     "output_type": "stream",
     "text": [
      "Test Statistic:  0.008373106381444284\n",
      "p-value:  0.5204795204795205\n",
      "(200, 32)\n",
      "(200,)\n",
      "Fitted\n"
     ]
    },
    {
     "name": "stderr",
     "output_type": "stream",
     "text": [
      "\n",
      " 60%|████████████████████████████████████████████████▌                                | 60/100 [29:50<20:13, 30.34s/it]\u001b[A"
     ]
    },
    {
     "name": "stdout",
     "output_type": "stream",
     "text": [
      "Test Statistic:  0.02823712800689193\n",
      "p-value:  0.000999000999000999\n",
      "(200, 32)\n",
      "(200,)\n",
      "Fitted\n"
     ]
    },
    {
     "name": "stderr",
     "output_type": "stream",
     "text": [
      "\n",
      " 61%|█████████████████████████████████████████████████▍                               | 61/100 [30:22<20:02, 30.84s/it]\u001b[A"
     ]
    },
    {
     "name": "stdout",
     "output_type": "stream",
     "text": [
      "Test Statistic:  0.0023342029212430893\n",
      "p-value:  1.0\n",
      "(200, 32)\n",
      "(200,)\n",
      "Fitted\n"
     ]
    },
    {
     "name": "stderr",
     "output_type": "stream",
     "text": [
      "\n",
      " 62%|██████████████████████████████████████████████████▏                              | 62/100 [30:52<19:20, 30.54s/it]\u001b[A"
     ]
    },
    {
     "name": "stdout",
     "output_type": "stream",
     "text": [
      "Test Statistic:  0.003259525204587943\n",
      "p-value:  1.0\n",
      "(200, 32)\n",
      "(200,)\n",
      "Fitted\n"
     ]
    },
    {
     "name": "stderr",
     "output_type": "stream",
     "text": [
      "\n",
      " 63%|███████████████████████████████████████████████████                              | 63/100 [31:21<18:37, 30.21s/it]\u001b[A"
     ]
    },
    {
     "name": "stdout",
     "output_type": "stream",
     "text": [
      "Test Statistic:  0.00812371110343646\n",
      "p-value:  0.5084915084915085\n",
      "(200, 32)\n",
      "(200,)\n",
      "Fitted\n"
     ]
    },
    {
     "name": "stderr",
     "output_type": "stream",
     "text": [
      "\n",
      " 64%|███████████████████████████████████████████████████▊                             | 64/100 [31:51<18:00, 30.02s/it]\u001b[A"
     ]
    },
    {
     "name": "stdout",
     "output_type": "stream",
     "text": [
      "Test Statistic:  0.007909871905993793\n",
      "p-value:  0.5934065934065934\n",
      "(200, 32)\n",
      "(200,)\n",
      "Fitted\n"
     ]
    },
    {
     "name": "stderr",
     "output_type": "stream",
     "text": [
      "\n",
      " 65%|████████████████████████████████████████████████████▋                            | 65/100 [32:20<17:26, 29.90s/it]\u001b[A"
     ]
    },
    {
     "name": "stdout",
     "output_type": "stream",
     "text": [
      "Test Statistic:  0.0026999952925648163\n",
      "p-value:  1.0\n",
      "(200, 32)\n",
      "(200,)\n",
      "Fitted\n"
     ]
    },
    {
     "name": "stderr",
     "output_type": "stream",
     "text": [
      "\n",
      " 66%|█████████████████████████████████████████████████████▍                           | 66/100 [32:50<16:52, 29.79s/it]\u001b[A"
     ]
    },
    {
     "name": "stdout",
     "output_type": "stream",
     "text": [
      "Test Statistic:  0.010937618154154727\n",
      "p-value:  0.15184815184815184\n",
      "(200, 32)\n",
      "(200,)\n",
      "Fitted\n"
     ]
    },
    {
     "name": "stderr",
     "output_type": "stream",
     "text": [
      "\n",
      " 67%|██████████████████████████████████████████████████████▎                          | 67/100 [33:19<16:21, 29.73s/it]\u001b[A"
     ]
    },
    {
     "name": "stdout",
     "output_type": "stream",
     "text": [
      "Test Statistic:  0.0033419991687951844\n",
      "p-value:  1.0\n",
      "(200, 32)\n",
      "(200,)\n",
      "Fitted\n"
     ]
    },
    {
     "name": "stderr",
     "output_type": "stream",
     "text": [
      "\n",
      " 68%|███████████████████████████████████████████████████████                          | 68/100 [33:49<15:48, 29.64s/it]\u001b[A"
     ]
    },
    {
     "name": "stdout",
     "output_type": "stream",
     "text": [
      "Test Statistic:  0.007624504546497213\n",
      "p-value:  0.6443556443556444\n",
      "(200, 32)\n",
      "(200,)\n",
      "Fitted\n"
     ]
    },
    {
     "name": "stderr",
     "output_type": "stream",
     "text": [
      "\n",
      " 69%|███████████████████████████████████████████████████████▉                         | 69/100 [34:18<15:14, 29.50s/it]\u001b[A"
     ]
    },
    {
     "name": "stdout",
     "output_type": "stream",
     "text": [
      "Test Statistic:  0.003644976467003347\n",
      "p-value:  1.0\n",
      "(200, 32)\n",
      "(200,)\n",
      "Fitted\n"
     ]
    },
    {
     "name": "stderr",
     "output_type": "stream",
     "text": [
      "\n",
      " 70%|████████████████████████████████████████████████████████▋                        | 70/100 [34:47<14:43, 29.46s/it]\u001b[A"
     ]
    },
    {
     "name": "stdout",
     "output_type": "stream",
     "text": [
      "Test Statistic:  0.007842023996015968\n",
      "p-value:  0.7042957042957043\n",
      "(200, 32)\n",
      "(200,)\n",
      "Fitted\n"
     ]
    },
    {
     "name": "stderr",
     "output_type": "stream",
     "text": [
      "\n",
      " 71%|█████████████████████████████████████████████████████████▌                       | 71/100 [35:18<14:27, 29.91s/it]\u001b[A"
     ]
    },
    {
     "name": "stdout",
     "output_type": "stream",
     "text": [
      "Test Statistic:  0.0041658675350524366\n",
      "p-value:  1.0\n",
      "(200, 32)\n",
      "(200,)\n",
      "Fitted\n"
     ]
    },
    {
     "name": "stderr",
     "output_type": "stream",
     "text": [
      "\n",
      " 72%|██████████████████████████████████████████████████████████▎                      | 72/100 [35:47<13:49, 29.61s/it]\u001b[A"
     ]
    },
    {
     "name": "stdout",
     "output_type": "stream",
     "text": [
      "Test Statistic:  0.004810403958725895\n",
      "p-value:  0.999000999000999\n",
      "(200, 32)\n",
      "(200,)\n",
      "Fitted\n"
     ]
    },
    {
     "name": "stderr",
     "output_type": "stream",
     "text": [
      "\n",
      " 73%|███████████████████████████████████████████████████████████▏                     | 73/100 [36:17<13:16, 29.52s/it]\u001b[A"
     ]
    },
    {
     "name": "stdout",
     "output_type": "stream",
     "text": [
      "Test Statistic:  0.020549841446843242\n",
      "p-value:  0.006993006993006993\n",
      "(200, 32)\n",
      "(200,)\n",
      "Fitted\n"
     ]
    },
    {
     "name": "stderr",
     "output_type": "stream",
     "text": [
      "\n",
      " 74%|███████████████████████████████████████████████████████████▉                     | 74/100 [36:46<12:43, 29.35s/it]\u001b[A"
     ]
    },
    {
     "name": "stdout",
     "output_type": "stream",
     "text": [
      "Test Statistic:  0.003159592226418151\n",
      "p-value:  1.0\n",
      "(200, 32)\n",
      "(200,)\n",
      "Fitted\n"
     ]
    },
    {
     "name": "stderr",
     "output_type": "stream",
     "text": [
      "\n",
      " 75%|████████████████████████████████████████████████████████████▊                    | 75/100 [37:16<12:18, 29.54s/it]\u001b[A"
     ]
    },
    {
     "name": "stdout",
     "output_type": "stream",
     "text": [
      "Test Statistic:  0.010295155231761832\n",
      "p-value:  0.1928071928071928\n",
      "(200, 32)\n",
      "(200,)\n",
      "Fitted\n"
     ]
    },
    {
     "name": "stderr",
     "output_type": "stream",
     "text": [
      "\n",
      " 76%|█████████████████████████████████████████████████████████████▌                   | 76/100 [37:45<11:47, 29.48s/it]\u001b[A"
     ]
    },
    {
     "name": "stdout",
     "output_type": "stream",
     "text": [
      "Test Statistic:  0.0026941209243681596\n",
      "p-value:  1.0\n",
      "(200, 32)\n",
      "(200,)\n",
      "Fitted\n"
     ]
    },
    {
     "name": "stderr",
     "output_type": "stream",
     "text": [
      "\n",
      " 77%|██████████████████████████████████████████████████████████████▎                  | 77/100 [38:24<12:26, 32.46s/it]\u001b[A"
     ]
    },
    {
     "name": "stdout",
     "output_type": "stream",
     "text": [
      "Test Statistic:  0.00563394878443757\n",
      "p-value:  0.984015984015984\n",
      "(200, 32)\n",
      "(200,)\n",
      "Fitted\n"
     ]
    },
    {
     "name": "stderr",
     "output_type": "stream",
     "text": [
      "\n",
      " 78%|███████████████████████████████████████████████████████████████▏                 | 78/100 [38:55<11:41, 31.90s/it]\u001b[A"
     ]
    },
    {
     "name": "stdout",
     "output_type": "stream",
     "text": [
      "Test Statistic:  0.003632091455049502\n",
      "p-value:  1.0\n",
      "(200, 32)\n",
      "(200,)\n",
      "Fitted\n"
     ]
    },
    {
     "name": "stderr",
     "output_type": "stream",
     "text": [
      "\n",
      " 79%|███████████████████████████████████████████████████████████████▉                 | 79/100 [39:24<10:54, 31.18s/it]\u001b[A"
     ]
    },
    {
     "name": "stdout",
     "output_type": "stream",
     "text": [
      "Test Statistic:  0.006171822661410253\n",
      "p-value:  0.919080919080919\n",
      "(200, 32)\n",
      "(200,)\n",
      "Fitted\n"
     ]
    },
    {
     "name": "stderr",
     "output_type": "stream",
     "text": [
      "\n",
      " 80%|████████████████████████████████████████████████████████████████▊                | 80/100 [39:54<10:14, 30.73s/it]\u001b[A"
     ]
    },
    {
     "name": "stdout",
     "output_type": "stream",
     "text": [
      "Test Statistic:  0.0021920807203593684\n",
      "p-value:  1.0\n",
      "(200, 32)\n",
      "(200,)\n",
      "Fitted\n"
     ]
    },
    {
     "name": "stderr",
     "output_type": "stream",
     "text": [
      "\n",
      " 81%|█████████████████████████████████████████████████████████████████▌               | 81/100 [40:24<09:36, 30.36s/it]\u001b[A"
     ]
    },
    {
     "name": "stdout",
     "output_type": "stream",
     "text": [
      "Test Statistic:  0.02705423082397318\n",
      "p-value:  0.004995004995004995\n",
      "(200, 32)\n",
      "(200,)\n",
      "Fitted\n"
     ]
    },
    {
     "name": "stderr",
     "output_type": "stream",
     "text": [
      "\n",
      " 82%|██████████████████████████████████████████████████████████████████▍              | 82/100 [40:54<09:04, 30.24s/it]\u001b[A"
     ]
    },
    {
     "name": "stdout",
     "output_type": "stream",
     "text": [
      "Test Statistic:  0.0038312297238404236\n",
      "p-value:  1.0\n",
      "(200, 32)\n",
      "(200,)\n",
      "Fitted\n"
     ]
    },
    {
     "name": "stderr",
     "output_type": "stream",
     "text": [
      "\n",
      " 83%|███████████████████████████████████████████████████████████████████▏             | 83/100 [41:23<08:29, 29.99s/it]\u001b[A"
     ]
    },
    {
     "name": "stdout",
     "output_type": "stream",
     "text": [
      "Test Statistic:  0.003607536613119189\n",
      "p-value:  1.0\n",
      "(200, 32)\n",
      "(200,)\n",
      "Fitted\n"
     ]
    },
    {
     "name": "stderr",
     "output_type": "stream",
     "text": [
      "\n",
      " 84%|████████████████████████████████████████████████████████████████████             | 84/100 [41:52<07:57, 29.82s/it]\u001b[A"
     ]
    },
    {
     "name": "stdout",
     "output_type": "stream",
     "text": [
      "Test Statistic:  0.0034728239900222446\n",
      "p-value:  1.0\n",
      "(200, 32)\n",
      "(200,)\n",
      "Fitted\n"
     ]
    },
    {
     "name": "stderr",
     "output_type": "stream",
     "text": [
      "\n",
      " 85%|████████████████████████████████████████████████████████████████████▊            | 85/100 [42:22<07:27, 29.83s/it]\u001b[A"
     ]
    },
    {
     "name": "stdout",
     "output_type": "stream",
     "text": [
      "Test Statistic:  0.0036398214250848993\n",
      "p-value:  1.0\n",
      "(200, 32)\n",
      "(200,)\n",
      "Fitted\n"
     ]
    },
    {
     "name": "stderr",
     "output_type": "stream",
     "text": [
      "\n",
      " 86%|█████████████████████████████████████████████████████████████████████▋           | 86/100 [42:52<06:56, 29.72s/it]\u001b[A"
     ]
    },
    {
     "name": "stdout",
     "output_type": "stream",
     "text": [
      "Test Statistic:  0.006949153011864606\n",
      "p-value:  0.7242757242757243\n",
      "(200, 32)\n",
      "(200,)\n",
      "Fitted\n"
     ]
    },
    {
     "name": "stderr",
     "output_type": "stream",
     "text": [
      "\n",
      " 87%|██████████████████████████████████████████████████████████████████████▍          | 87/100 [43:21<06:24, 29.61s/it]\u001b[A"
     ]
    },
    {
     "name": "stdout",
     "output_type": "stream",
     "text": [
      "Test Statistic:  0.009127414077895635\n",
      "p-value:  0.5404595404595405\n",
      "(200, 32)\n",
      "(200,)\n",
      "Fitted\n"
     ]
    },
    {
     "name": "stderr",
     "output_type": "stream",
     "text": [
      "\n",
      " 88%|███████████████████████████████████████████████████████████████████████▎         | 88/100 [43:51<05:55, 29.60s/it]\u001b[A"
     ]
    },
    {
     "name": "stdout",
     "output_type": "stream",
     "text": [
      "Test Statistic:  0.008905597581582714\n",
      "p-value:  0.34265734265734266\n",
      "(200, 32)\n",
      "(200,)\n",
      "Fitted\n"
     ]
    },
    {
     "name": "stderr",
     "output_type": "stream",
     "text": [
      "\n",
      " 89%|████████████████████████████████████████████████████████████████████████         | 89/100 [44:20<05:26, 29.66s/it]\u001b[A"
     ]
    },
    {
     "name": "stdout",
     "output_type": "stream",
     "text": [
      "Test Statistic:  0.005974790265138807\n",
      "p-value:  0.991008991008991\n",
      "(200, 32)\n",
      "(200,)\n",
      "Fitted\n"
     ]
    },
    {
     "name": "stderr",
     "output_type": "stream",
     "text": [
      "\n",
      " 90%|████████████████████████████████████████████████████████████████████████▉        | 90/100 [44:50<04:55, 29.53s/it]\u001b[A"
     ]
    },
    {
     "name": "stdout",
     "output_type": "stream",
     "text": [
      "Test Statistic:  0.0039190774181292465\n",
      "p-value:  1.0\n",
      "(200, 32)\n",
      "(200,)\n",
      "Fitted\n"
     ]
    },
    {
     "name": "stderr",
     "output_type": "stream",
     "text": [
      "\n",
      " 91%|█████████████████████████████████████████████████████████████████████████▋       | 91/100 [45:20<04:29, 29.91s/it]\u001b[A"
     ]
    },
    {
     "name": "stdout",
     "output_type": "stream",
     "text": [
      "Test Statistic:  0.008340339282312925\n",
      "p-value:  0.37662337662337664\n",
      "(200, 32)\n",
      "(200,)\n",
      "Fitted\n"
     ]
    },
    {
     "name": "stderr",
     "output_type": "stream",
     "text": [
      "\n",
      " 92%|██████████████████████████████████████████████████████████████████████████▌      | 92/100 [45:50<03:58, 29.76s/it]\u001b[A"
     ]
    },
    {
     "name": "stdout",
     "output_type": "stream",
     "text": [
      "Test Statistic:  0.005850808351872572\n",
      "p-value:  0.9760239760239761\n",
      "(200, 32)\n",
      "(200,)\n",
      "Fitted\n"
     ]
    },
    {
     "name": "stderr",
     "output_type": "stream",
     "text": [
      "\n",
      " 93%|███████████████████████████████████████████████████████████████████████████▎     | 93/100 [46:20<03:28, 29.76s/it]\u001b[A"
     ]
    },
    {
     "name": "stdout",
     "output_type": "stream",
     "text": [
      "Test Statistic:  0.0015535454981668861\n",
      "p-value:  1.0\n",
      "(200, 32)\n",
      "(200,)\n",
      "Fitted\n"
     ]
    },
    {
     "name": "stderr",
     "output_type": "stream",
     "text": [
      "\n",
      " 94%|████████████████████████████████████████████████████████████████████████████▏    | 94/100 [46:51<03:00, 30.09s/it]\u001b[A"
     ]
    },
    {
     "name": "stdout",
     "output_type": "stream",
     "text": [
      "Test Statistic:  0.010293945471212762\n",
      "p-value:  0.18981018981018982\n",
      "(200, 32)\n",
      "(200,)\n",
      "Fitted\n"
     ]
    },
    {
     "name": "stderr",
     "output_type": "stream",
     "text": [
      "\n",
      " 95%|████████████████████████████████████████████████████████████████████████████▉    | 95/100 [47:22<02:32, 30.44s/it]\u001b[A"
     ]
    },
    {
     "name": "stdout",
     "output_type": "stream",
     "text": [
      "Test Statistic:  0.010660521305460802\n",
      "p-value:  0.15384615384615385\n",
      "(200, 32)\n",
      "(200,)\n",
      "Fitted\n"
     ]
    },
    {
     "name": "stderr",
     "output_type": "stream",
     "text": [
      "\n",
      " 96%|█████████████████████████████████████████████████████████████████████████████▊   | 96/100 [47:51<02:00, 30.04s/it]\u001b[A"
     ]
    },
    {
     "name": "stdout",
     "output_type": "stream",
     "text": [
      "Test Statistic:  0.005806347063609496\n",
      "p-value:  0.997002997002997\n",
      "(200, 32)\n",
      "(200,)\n",
      "Fitted\n"
     ]
    },
    {
     "name": "stderr",
     "output_type": "stream",
     "text": [
      "\n",
      " 97%|██████████████████████████████████████████████████████████████████████████████▌  | 97/100 [48:23<01:32, 30.77s/it]\u001b[A"
     ]
    },
    {
     "name": "stdout",
     "output_type": "stream",
     "text": [
      "Test Statistic:  0.003587965395552506\n",
      "p-value:  1.0\n",
      "(200, 32)\n",
      "(200,)\n",
      "Fitted\n"
     ]
    },
    {
     "name": "stderr",
     "output_type": "stream",
     "text": [
      "\n",
      " 98%|███████████████████████████████████████████████████████████████████████████████▍ | 98/100 [48:53<01:00, 30.36s/it]\u001b[A"
     ]
    },
    {
     "name": "stdout",
     "output_type": "stream",
     "text": [
      "Test Statistic:  0.009521283089796606\n",
      "p-value:  0.2707292707292707\n",
      "(200, 32)\n",
      "(200,)\n",
      "Fitted\n"
     ]
    },
    {
     "name": "stderr",
     "output_type": "stream",
     "text": [
      "\n",
      " 99%|████████████████████████████████████████████████████████████████████████████████▏| 99/100 [49:21<00:29, 29.82s/it]\u001b[A"
     ]
    },
    {
     "name": "stdout",
     "output_type": "stream",
     "text": [
      "Test Statistic:  0.010884425611589643\n",
      "p-value:  0.0979020979020979\n",
      "(200, 32)\n",
      "(200,)\n",
      "Fitted\n"
     ]
    },
    {
     "name": "stderr",
     "output_type": "stream",
     "text": [
      "\n",
      "100%|████████████████████████████████████████████████████████████████████████████████| 100/100 [49:50<00:00, 29.91s/it]\u001b[A\n",
      " 80%|████████████████████████████████████████████████████████████               | 16/20 [14:05:01<3:24:43, 3070.97s/it]\n",
      "  0%|                                                                                          | 0/100 [00:00<?, ?it/s]\u001b[A"
     ]
    },
    {
     "name": "stdout",
     "output_type": "stream",
     "text": [
      "Test Statistic:  0.00576588412946244\n",
      "p-value:  0.984015984015984\n",
      "dimension 17\n",
      "circle\n",
      "(200, 34)\n",
      "(200,)\n",
      "Fitted\n"
     ]
    },
    {
     "name": "stderr",
     "output_type": "stream",
     "text": [
      "\n",
      "  1%|▊                                                                                 | 1/100 [00:28<47:45, 28.95s/it]\u001b[A"
     ]
    },
    {
     "name": "stdout",
     "output_type": "stream",
     "text": [
      "Test Statistic:  0.012683071831315673\n",
      "p-value:  0.03996003996003996\n",
      "(200, 34)\n",
      "(200,)\n",
      "Fitted\n"
     ]
    },
    {
     "name": "stderr",
     "output_type": "stream",
     "text": [
      "\n",
      "  2%|█▋                                                                                | 2/100 [00:58<47:28, 29.07s/it]\u001b[A"
     ]
    },
    {
     "name": "stdout",
     "output_type": "stream",
     "text": [
      "Test Statistic:  0.006039428742980468\n",
      "p-value:  0.972027972027972\n",
      "(200, 34)\n",
      "(200,)\n",
      "Fitted\n"
     ]
    },
    {
     "name": "stderr",
     "output_type": "stream",
     "text": [
      "\n",
      "  3%|██▍                                                                               | 3/100 [01:27<47:12, 29.20s/it]\u001b[A"
     ]
    },
    {
     "name": "stdout",
     "output_type": "stream",
     "text": [
      "Test Statistic:  0.005856271331098006\n",
      "p-value:  0.9070929070929071\n",
      "(200, 34)\n",
      "(200,)\n",
      "Fitted\n"
     ]
    },
    {
     "name": "stderr",
     "output_type": "stream",
     "text": [
      "\n",
      "  4%|███▎                                                                              | 4/100 [01:56<46:32, 29.09s/it]\u001b[A"
     ]
    },
    {
     "name": "stdout",
     "output_type": "stream",
     "text": [
      "Test Statistic:  0.006475594957612962\n",
      "p-value:  0.9440559440559441\n",
      "(200, 34)\n",
      "(200,)\n",
      "Fitted\n"
     ]
    },
    {
     "name": "stderr",
     "output_type": "stream",
     "text": [
      "\n",
      "  5%|████                                                                              | 5/100 [02:25<46:00, 29.06s/it]\u001b[A"
     ]
    },
    {
     "name": "stdout",
     "output_type": "stream",
     "text": [
      "Test Statistic:  0.0025660549838378843\n",
      "p-value:  1.0\n",
      "(200, 34)\n",
      "(200,)\n",
      "Fitted\n"
     ]
    },
    {
     "name": "stderr",
     "output_type": "stream",
     "text": [
      "\n",
      "  6%|████▉                                                                             | 6/100 [02:54<45:36, 29.12s/it]\u001b[A"
     ]
    },
    {
     "name": "stdout",
     "output_type": "stream",
     "text": [
      "Test Statistic:  0.005269244691474273\n",
      "p-value:  1.0\n",
      "(200, 34)\n",
      "(200,)\n",
      "Fitted\n"
     ]
    },
    {
     "name": "stderr",
     "output_type": "stream",
     "text": [
      "\n",
      "  7%|█████▋                                                                            | 7/100 [03:25<45:38, 29.44s/it]\u001b[A"
     ]
    },
    {
     "name": "stdout",
     "output_type": "stream",
     "text": [
      "Test Statistic:  0.004874956099107153\n",
      "p-value:  1.0\n",
      "(200, 34)\n",
      "(200,)\n",
      "Fitted\n"
     ]
    },
    {
     "name": "stderr",
     "output_type": "stream",
     "text": [
      "\n",
      "  8%|██████▌                                                                           | 8/100 [03:54<45:12, 29.48s/it]\u001b[A"
     ]
    },
    {
     "name": "stdout",
     "output_type": "stream",
     "text": [
      "Test Statistic:  0.004303805056264376\n",
      "p-value:  1.0\n",
      "(200, 34)\n",
      "(200,)\n",
      "Fitted\n"
     ]
    },
    {
     "name": "stderr",
     "output_type": "stream",
     "text": [
      "\n",
      "  9%|███████▍                                                                          | 9/100 [04:24<45:00, 29.67s/it]\u001b[A"
     ]
    },
    {
     "name": "stdout",
     "output_type": "stream",
     "text": [
      "Test Statistic:  0.0033013813634319433\n",
      "p-value:  1.0\n",
      "(200, 34)\n",
      "(200,)\n",
      "Fitted\n"
     ]
    },
    {
     "name": "stderr",
     "output_type": "stream",
     "text": [
      "\n",
      " 10%|████████                                                                         | 10/100 [04:53<44:10, 29.45s/it]\u001b[A"
     ]
    },
    {
     "name": "stdout",
     "output_type": "stream",
     "text": [
      "Test Statistic:  0.011943634004791148\n",
      "p-value:  0.054945054945054944\n",
      "(200, 34)\n",
      "(200,)\n",
      "Fitted\n"
     ]
    },
    {
     "name": "stderr",
     "output_type": "stream",
     "text": [
      "\n",
      " 11%|████████▉                                                                        | 11/100 [05:24<44:22, 29.92s/it]\u001b[A"
     ]
    },
    {
     "name": "stdout",
     "output_type": "stream",
     "text": [
      "Test Statistic:  0.008072985359243168\n",
      "p-value:  0.5434565434565435\n",
      "(200, 34)\n",
      "(200,)\n",
      "Fitted\n"
     ]
    },
    {
     "name": "stderr",
     "output_type": "stream",
     "text": [
      "\n",
      " 12%|█████████▋                                                                       | 12/100 [05:54<43:37, 29.75s/it]\u001b[A"
     ]
    },
    {
     "name": "stdout",
     "output_type": "stream",
     "text": [
      "Test Statistic:  0.004772974301047395\n",
      "p-value:  0.998001998001998\n",
      "(200, 34)\n",
      "(200,)\n",
      "Fitted\n"
     ]
    },
    {
     "name": "stderr",
     "output_type": "stream",
     "text": [
      "\n",
      " 13%|██████████▌                                                                      | 13/100 [06:23<42:47, 29.51s/it]\u001b[A"
     ]
    },
    {
     "name": "stdout",
     "output_type": "stream",
     "text": [
      "Test Statistic:  0.011982714810294004\n",
      "p-value:  0.04195804195804196\n",
      "(200, 34)\n",
      "(200,)\n",
      "Fitted\n"
     ]
    },
    {
     "name": "stderr",
     "output_type": "stream",
     "text": [
      "\n",
      " 14%|███████████▎                                                                     | 14/100 [06:52<42:10, 29.43s/it]\u001b[A"
     ]
    },
    {
     "name": "stdout",
     "output_type": "stream",
     "text": [
      "Test Statistic:  0.005303661154259842\n",
      "p-value:  0.999000999000999\n",
      "(200, 34)\n",
      "(200,)\n",
      "Fitted\n"
     ]
    },
    {
     "name": "stderr",
     "output_type": "stream",
     "text": [
      "\n",
      " 15%|████████████▏                                                                    | 15/100 [07:21<41:44, 29.46s/it]\u001b[A"
     ]
    },
    {
     "name": "stdout",
     "output_type": "stream",
     "text": [
      "Test Statistic:  0.01591433899449035\n",
      "p-value:  0.017982017982017984\n",
      "(200, 34)\n",
      "(200,)\n",
      "Fitted\n"
     ]
    },
    {
     "name": "stderr",
     "output_type": "stream",
     "text": [
      "\n",
      " 16%|████████████▉                                                                    | 16/100 [07:51<41:29, 29.64s/it]\u001b[A"
     ]
    },
    {
     "name": "stdout",
     "output_type": "stream",
     "text": [
      "Test Statistic:  0.010651493117172284\n",
      "p-value:  0.0999000999000999\n",
      "(200, 34)\n",
      "(200,)\n",
      "Fitted\n"
     ]
    },
    {
     "name": "stderr",
     "output_type": "stream",
     "text": [
      "\n",
      " 17%|█████████████▊                                                                   | 17/100 [08:23<41:46, 30.20s/it]\u001b[A"
     ]
    },
    {
     "name": "stdout",
     "output_type": "stream",
     "text": [
      "Test Statistic:  0.0052922772884299585\n",
      "p-value:  0.998001998001998\n",
      "(200, 34)\n",
      "(200,)\n",
      "Fitted\n"
     ]
    },
    {
     "name": "stderr",
     "output_type": "stream",
     "text": [
      "\n",
      " 18%|██████████████▌                                                                  | 18/100 [08:53<41:17, 30.21s/it]\u001b[A"
     ]
    },
    {
     "name": "stdout",
     "output_type": "stream",
     "text": [
      "Test Statistic:  0.0030837317898825267\n",
      "p-value:  1.0\n",
      "(200, 34)\n",
      "(200,)\n",
      "Fitted\n"
     ]
    },
    {
     "name": "stderr",
     "output_type": "stream",
     "text": [
      "\n",
      " 19%|███████████████▍                                                                 | 19/100 [09:23<40:28, 29.99s/it]\u001b[A"
     ]
    },
    {
     "name": "stdout",
     "output_type": "stream",
     "text": [
      "Test Statistic:  0.0032398659936578866\n",
      "p-value:  1.0\n",
      "(200, 34)\n",
      "(200,)\n",
      "Fitted\n"
     ]
    },
    {
     "name": "stderr",
     "output_type": "stream",
     "text": [
      "\n",
      " 20%|████████████████▏                                                                | 20/100 [09:52<39:43, 29.79s/it]\u001b[A"
     ]
    },
    {
     "name": "stdout",
     "output_type": "stream",
     "text": [
      "Test Statistic:  0.007072260396227326\n",
      "p-value:  0.7882117882117882\n",
      "(200, 34)\n",
      "(200,)\n",
      "Fitted\n"
     ]
    },
    {
     "name": "stderr",
     "output_type": "stream",
     "text": [
      "\n",
      " 21%|█████████████████                                                                | 21/100 [10:21<38:58, 29.60s/it]\u001b[A"
     ]
    },
    {
     "name": "stdout",
     "output_type": "stream",
     "text": [
      "Test Statistic:  0.007864958772695885\n",
      "p-value:  0.5914085914085914\n",
      "(200, 34)\n",
      "(200,)\n",
      "Fitted\n"
     ]
    },
    {
     "name": "stderr",
     "output_type": "stream",
     "text": [
      "\n",
      " 22%|█████████████████▊                                                               | 22/100 [10:50<38:23, 29.53s/it]\u001b[A"
     ]
    },
    {
     "name": "stdout",
     "output_type": "stream",
     "text": [
      "Test Statistic:  0.004070747029306543\n",
      "p-value:  1.0\n",
      "(200, 34)\n",
      "(200,)\n",
      "Fitted\n"
     ]
    },
    {
     "name": "stderr",
     "output_type": "stream",
     "text": [
      "\n",
      " 23%|██████████████████▋                                                              | 23/100 [11:20<37:56, 29.57s/it]\u001b[A"
     ]
    },
    {
     "name": "stdout",
     "output_type": "stream",
     "text": [
      "Test Statistic:  0.004029502163001464\n",
      "p-value:  1.0\n",
      "(200, 34)\n",
      "(200,)\n",
      "Fitted\n"
     ]
    },
    {
     "name": "stderr",
     "output_type": "stream",
     "text": [
      "\n",
      " 24%|███████████████████▍                                                             | 24/100 [11:50<37:25, 29.55s/it]\u001b[A"
     ]
    },
    {
     "name": "stdout",
     "output_type": "stream",
     "text": [
      "Test Statistic:  0.008162404511627752\n",
      "p-value:  0.6003996003996004\n",
      "(200, 34)\n",
      "(200,)\n",
      "Fitted\n"
     ]
    },
    {
     "name": "stderr",
     "output_type": "stream",
     "text": [
      "\n",
      " 25%|████████████████████▎                                                            | 25/100 [12:18<36:38, 29.31s/it]\u001b[A"
     ]
    },
    {
     "name": "stdout",
     "output_type": "stream",
     "text": [
      "Test Statistic:  0.025970559047610697\n",
      "p-value:  0.003996003996003996\n",
      "(200, 34)\n",
      "(200,)\n",
      "Fitted\n"
     ]
    },
    {
     "name": "stderr",
     "output_type": "stream",
     "text": [
      "\n",
      " 26%|█████████████████████                                                            | 26/100 [12:50<36:51, 29.88s/it]\u001b[A"
     ]
    },
    {
     "name": "stdout",
     "output_type": "stream",
     "text": [
      "Test Statistic:  0.0024763439167777568\n",
      "p-value:  1.0\n",
      "(200, 34)\n",
      "(200,)\n",
      "Fitted\n"
     ]
    },
    {
     "name": "stderr",
     "output_type": "stream",
     "text": [
      "\n",
      " 27%|█████████████████████▊                                                           | 27/100 [13:18<35:54, 29.51s/it]\u001b[A"
     ]
    },
    {
     "name": "stdout",
     "output_type": "stream",
     "text": [
      "Test Statistic:  0.009056053246390805\n",
      "p-value:  0.43756243756243757\n",
      "(200, 34)\n",
      "(200,)\n",
      "Fitted\n"
     ]
    },
    {
     "name": "stderr",
     "output_type": "stream",
     "text": [
      "\n",
      " 28%|██████████████████████▋                                                          | 28/100 [13:47<35:12, 29.35s/it]\u001b[A"
     ]
    },
    {
     "name": "stdout",
     "output_type": "stream",
     "text": [
      "Test Statistic:  0.0130564167318995\n",
      "p-value:  0.06293706293706294\n",
      "(200, 34)\n",
      "(200,)\n",
      "Fitted\n"
     ]
    },
    {
     "name": "stderr",
     "output_type": "stream",
     "text": [
      "\n",
      " 29%|███████████████████████▍                                                         | 29/100 [14:16<34:31, 29.17s/it]\u001b[A"
     ]
    },
    {
     "name": "stdout",
     "output_type": "stream",
     "text": [
      "Test Statistic:  0.0019422192521822979\n",
      "p-value:  1.0\n",
      "(200, 34)\n",
      "(200,)\n",
      "Fitted\n"
     ]
    },
    {
     "name": "stderr",
     "output_type": "stream",
     "text": [
      "\n",
      " 30%|████████████████████████▎                                                        | 30/100 [14:45<34:03, 29.19s/it]\u001b[A"
     ]
    },
    {
     "name": "stdout",
     "output_type": "stream",
     "text": [
      "Test Statistic:  0.005267174316519574\n",
      "p-value:  0.994005994005994\n",
      "(200, 34)\n",
      "(200,)\n",
      "Fitted\n"
     ]
    },
    {
     "name": "stderr",
     "output_type": "stream",
     "text": [
      "\n",
      " 31%|█████████████████████████                                                        | 31/100 [15:16<33:58, 29.55s/it]\u001b[A"
     ]
    },
    {
     "name": "stdout",
     "output_type": "stream",
     "text": [
      "Test Statistic:  0.019314660456201782\n",
      "p-value:  0.002997002997002997\n",
      "(200, 34)\n",
      "(200,)\n",
      "Fitted\n"
     ]
    },
    {
     "name": "stderr",
     "output_type": "stream",
     "text": [
      "\n",
      " 32%|█████████████████████████▉                                                       | 32/100 [15:45<33:28, 29.54s/it]\u001b[A"
     ]
    },
    {
     "name": "stdout",
     "output_type": "stream",
     "text": [
      "Test Statistic:  0.010161860669430367\n",
      "p-value:  0.24775224775224775\n",
      "(200, 34)\n",
      "(200,)\n",
      "Fitted\n"
     ]
    },
    {
     "name": "stderr",
     "output_type": "stream",
     "text": [
      "\n",
      " 33%|██████████████████████████▋                                                      | 33/100 [16:14<32:42, 29.29s/it]\u001b[A"
     ]
    },
    {
     "name": "stdout",
     "output_type": "stream",
     "text": [
      "Test Statistic:  0.0029042828988756764\n",
      "p-value:  1.0\n",
      "(200, 34)\n",
      "(200,)\n",
      "Fitted\n"
     ]
    },
    {
     "name": "stderr",
     "output_type": "stream",
     "text": [
      "\n",
      " 34%|███████████████████████████▌                                                     | 34/100 [16:43<32:09, 29.24s/it]\u001b[A"
     ]
    },
    {
     "name": "stdout",
     "output_type": "stream",
     "text": [
      "Test Statistic:  0.03249510253318655\n",
      "p-value:  0.000999000999000999\n",
      "(200, 34)\n",
      "(200,)\n",
      "Fitted\n"
     ]
    },
    {
     "name": "stderr",
     "output_type": "stream",
     "text": [
      "\n",
      " 35%|████████████████████████████▎                                                    | 35/100 [17:12<31:36, 29.17s/it]\u001b[A"
     ]
    },
    {
     "name": "stdout",
     "output_type": "stream",
     "text": [
      "Test Statistic:  0.0021206524555746897\n",
      "p-value:  1.0\n",
      "(200, 34)\n",
      "(200,)\n",
      "Fitted\n"
     ]
    },
    {
     "name": "stderr",
     "output_type": "stream",
     "text": [
      "\n",
      " 36%|█████████████████████████████▏                                                   | 36/100 [17:42<31:16, 29.33s/it]\u001b[A"
     ]
    },
    {
     "name": "stdout",
     "output_type": "stream",
     "text": [
      "Test Statistic:  0.002835526100298247\n",
      "p-value:  1.0\n",
      "(200, 34)\n",
      "(200,)\n",
      "Fitted\n"
     ]
    },
    {
     "name": "stderr",
     "output_type": "stream",
     "text": [
      "\n",
      " 37%|█████████████████████████████▉                                                   | 37/100 [18:11<30:50, 29.37s/it]\u001b[A"
     ]
    },
    {
     "name": "stdout",
     "output_type": "stream",
     "text": [
      "Test Statistic:  0.014381747130426503\n",
      "p-value:  0.017982017982017984\n",
      "(200, 34)\n",
      "(200,)\n",
      "Fitted\n"
     ]
    },
    {
     "name": "stderr",
     "output_type": "stream",
     "text": [
      "\n",
      " 38%|██████████████████████████████▊                                                  | 38/100 [18:49<33:07, 32.05s/it]\u001b[A"
     ]
    },
    {
     "name": "stdout",
     "output_type": "stream",
     "text": [
      "Test Statistic:  0.0026940881449293297\n",
      "p-value:  1.0\n",
      "(200, 34)\n",
      "(200,)\n",
      "Fitted\n"
     ]
    },
    {
     "name": "stderr",
     "output_type": "stream",
     "text": [
      "\n",
      " 39%|███████████████████████████████▌                                                 | 39/100 [19:19<31:59, 31.46s/it]\u001b[A"
     ]
    },
    {
     "name": "stdout",
     "output_type": "stream",
     "text": [
      "Test Statistic:  0.00643962120801389\n",
      "p-value:  0.981018981018981\n",
      "(200, 34)\n",
      "(200,)\n",
      "Fitted\n"
     ]
    },
    {
     "name": "stderr",
     "output_type": "stream",
     "text": [
      "\n",
      " 40%|████████████████████████████████▍                                                | 40/100 [19:49<30:57, 30.95s/it]\u001b[A"
     ]
    },
    {
     "name": "stdout",
     "output_type": "stream",
     "text": [
      "Test Statistic:  0.025262252818950004\n",
      "p-value:  0.000999000999000999\n",
      "(200, 34)\n",
      "(200,)\n",
      "Fitted\n"
     ]
    },
    {
     "name": "stderr",
     "output_type": "stream",
     "text": [
      "\n",
      " 41%|█████████████████████████████████▏                                               | 41/100 [20:18<29:55, 30.44s/it]\u001b[A"
     ]
    },
    {
     "name": "stdout",
     "output_type": "stream",
     "text": [
      "Test Statistic:  0.0044393739183257175\n",
      "p-value:  1.0\n",
      "(200, 34)\n",
      "(200,)\n",
      "Fitted\n"
     ]
    },
    {
     "name": "stderr",
     "output_type": "stream",
     "text": [
      "\n",
      " 42%|██████████████████████████████████                                               | 42/100 [20:48<29:15, 30.27s/it]\u001b[A"
     ]
    },
    {
     "name": "stdout",
     "output_type": "stream",
     "text": [
      "Test Statistic:  0.026242287408098086\n",
      "p-value:  0.000999000999000999\n",
      "(200, 34)\n",
      "(200,)\n",
      "Fitted\n"
     ]
    },
    {
     "name": "stderr",
     "output_type": "stream",
     "text": [
      "\n",
      " 43%|██████████████████████████████████▊                                              | 43/100 [21:19<28:55, 30.45s/it]\u001b[A"
     ]
    },
    {
     "name": "stdout",
     "output_type": "stream",
     "text": [
      "Test Statistic:  0.0018396262911607453\n",
      "p-value:  1.0\n",
      "(200, 34)\n",
      "(200,)\n",
      "Fitted\n"
     ]
    },
    {
     "name": "stderr",
     "output_type": "stream",
     "text": [
      "\n",
      " 44%|███████████████████████████████████▋                                             | 44/100 [21:50<28:33, 30.60s/it]\u001b[A"
     ]
    },
    {
     "name": "stdout",
     "output_type": "stream",
     "text": [
      "Test Statistic:  0.002050490709564201\n",
      "p-value:  1.0\n",
      "(200, 34)\n",
      "(200,)\n",
      "Fitted\n"
     ]
    },
    {
     "name": "stderr",
     "output_type": "stream",
     "text": [
      "\n",
      " 45%|████████████████████████████████████▍                                            | 45/100 [22:21<28:07, 30.69s/it]\u001b[A"
     ]
    },
    {
     "name": "stdout",
     "output_type": "stream",
     "text": [
      "Test Statistic:  0.0028142886754535246\n",
      "p-value:  1.0\n",
      "(200, 34)\n",
      "(200,)\n",
      "Fitted\n"
     ]
    },
    {
     "name": "stderr",
     "output_type": "stream",
     "text": [
      "\n",
      " 46%|█████████████████████████████████████▎                                           | 46/100 [22:52<27:36, 30.67s/it]\u001b[A"
     ]
    },
    {
     "name": "stdout",
     "output_type": "stream",
     "text": [
      "Test Statistic:  0.03588598872262494\n",
      "p-value:  0.000999000999000999\n",
      "(200, 34)\n",
      "(200,)\n",
      "Fitted\n"
     ]
    },
    {
     "name": "stderr",
     "output_type": "stream",
     "text": [
      "\n",
      " 47%|██████████████████████████████████████                                           | 47/100 [23:23<27:12, 30.80s/it]\u001b[A"
     ]
    },
    {
     "name": "stdout",
     "output_type": "stream",
     "text": [
      "Test Statistic:  0.00578153895686917\n",
      "p-value:  0.978021978021978\n",
      "(200, 34)\n",
      "(200,)\n",
      "Fitted\n"
     ]
    },
    {
     "name": "stderr",
     "output_type": "stream",
     "text": [
      "\n",
      " 48%|██████████████████████████████████████▉                                          | 48/100 [23:52<26:22, 30.43s/it]\u001b[A"
     ]
    },
    {
     "name": "stdout",
     "output_type": "stream",
     "text": [
      "Test Statistic:  0.004709098241647336\n",
      "p-value:  1.0\n",
      "(200, 34)\n",
      "(200,)\n",
      "Fitted\n"
     ]
    },
    {
     "name": "stderr",
     "output_type": "stream",
     "text": [
      "\n",
      " 49%|███████████████████████████████████████▋                                         | 49/100 [24:22<25:33, 30.07s/it]\u001b[A"
     ]
    },
    {
     "name": "stdout",
     "output_type": "stream",
     "text": [
      "Test Statistic:  0.0034076675559813197\n",
      "p-value:  1.0\n",
      "(200, 34)\n",
      "(200,)\n",
      "Fitted\n"
     ]
    },
    {
     "name": "stderr",
     "output_type": "stream",
     "text": [
      "\n",
      " 50%|████████████████████████████████████████▌                                        | 50/100 [24:51<24:50, 29.80s/it]\u001b[A"
     ]
    },
    {
     "name": "stdout",
     "output_type": "stream",
     "text": [
      "Test Statistic:  0.0023473596001090113\n",
      "p-value:  1.0\n",
      "(200, 34)\n",
      "(200,)\n",
      "Fitted\n"
     ]
    },
    {
     "name": "stderr",
     "output_type": "stream",
     "text": [
      "\n",
      " 51%|█████████████████████████████████████████▎                                       | 51/100 [25:20<24:11, 29.62s/it]\u001b[A"
     ]
    },
    {
     "name": "stdout",
     "output_type": "stream",
     "text": [
      "Test Statistic:  0.0062430184659283405\n",
      "p-value:  0.958041958041958\n",
      "(200, 34)\n",
      "(200,)\n",
      "Fitted\n"
     ]
    },
    {
     "name": "stderr",
     "output_type": "stream",
     "text": [
      "\n",
      " 52%|██████████████████████████████████████████                                       | 52/100 [25:49<23:31, 29.41s/it]\u001b[A"
     ]
    },
    {
     "name": "stdout",
     "output_type": "stream",
     "text": [
      "Test Statistic:  0.004780632475582691\n",
      "p-value:  1.0\n",
      "(200, 34)\n",
      "(200,)\n",
      "Fitted\n"
     ]
    },
    {
     "name": "stderr",
     "output_type": "stream",
     "text": [
      "\n",
      " 53%|██████████████████████████████████████████▉                                      | 53/100 [26:19<23:06, 29.50s/it]\u001b[A"
     ]
    },
    {
     "name": "stdout",
     "output_type": "stream",
     "text": [
      "Test Statistic:  0.008367326664372343\n",
      "p-value:  0.5564435564435565\n",
      "(200, 34)\n",
      "(200,)\n",
      "Fitted\n"
     ]
    },
    {
     "name": "stderr",
     "output_type": "stream",
     "text": [
      "\n",
      " 54%|███████████████████████████████████████████▋                                     | 54/100 [26:48<22:35, 29.46s/it]\u001b[A"
     ]
    },
    {
     "name": "stdout",
     "output_type": "stream",
     "text": [
      "Test Statistic:  0.0062262103326453655\n",
      "p-value:  0.984015984015984\n",
      "(200, 34)\n",
      "(200,)\n",
      "Fitted\n"
     ]
    },
    {
     "name": "stderr",
     "output_type": "stream",
     "text": [
      "\n",
      " 55%|████████████████████████████████████████████▌                                    | 55/100 [27:18<22:08, 29.53s/it]\u001b[A"
     ]
    },
    {
     "name": "stdout",
     "output_type": "stream",
     "text": [
      "Test Statistic:  0.007254189344681361\n",
      "p-value:  0.7922077922077922\n",
      "(200, 34)\n",
      "(200,)\n",
      "Fitted\n"
     ]
    },
    {
     "name": "stderr",
     "output_type": "stream",
     "text": [
      "\n",
      " 56%|█████████████████████████████████████████████▎                                   | 56/100 [27:47<21:36, 29.46s/it]\u001b[A"
     ]
    },
    {
     "name": "stdout",
     "output_type": "stream",
     "text": [
      "Test Statistic:  0.0020796070802722166\n",
      "p-value:  1.0\n",
      "(200, 34)\n",
      "(200,)\n",
      "Fitted\n"
     ]
    },
    {
     "name": "stderr",
     "output_type": "stream",
     "text": [
      "\n",
      " 57%|██████████████████████████████████████████████▏                                  | 57/100 [28:16<21:05, 29.43s/it]\u001b[A"
     ]
    },
    {
     "name": "stdout",
     "output_type": "stream",
     "text": [
      "Test Statistic:  0.006679842850168205\n",
      "p-value:  0.942057942057942\n",
      "(200, 34)\n",
      "(200,)\n",
      "Fitted\n"
     ]
    },
    {
     "name": "stderr",
     "output_type": "stream",
     "text": [
      "\n",
      " 58%|██████████████████████████████████████████████▉                                  | 58/100 [28:50<21:24, 30.57s/it]\u001b[A"
     ]
    },
    {
     "name": "stdout",
     "output_type": "stream",
     "text": [
      "Test Statistic:  0.011135580115798183\n",
      "p-value:  0.1108891108891109\n",
      "(200, 34)\n",
      "(200,)\n",
      "Fitted\n"
     ]
    },
    {
     "name": "stderr",
     "output_type": "stream",
     "text": [
      "\n",
      " 59%|███████████████████████████████████████████████▊                                 | 59/100 [29:19<20:35, 30.13s/it]\u001b[A"
     ]
    },
    {
     "name": "stdout",
     "output_type": "stream",
     "text": [
      "Test Statistic:  0.005831528226559302\n",
      "p-value:  0.9690309690309691\n",
      "(200, 34)\n",
      "(200,)\n",
      "Fitted\n"
     ]
    },
    {
     "name": "stderr",
     "output_type": "stream",
     "text": [
      "\n",
      " 60%|████████████████████████████████████████████████▌                                | 60/100 [29:48<19:52, 29.80s/it]\u001b[A"
     ]
    },
    {
     "name": "stdout",
     "output_type": "stream",
     "text": [
      "Test Statistic:  0.017910909076774728\n",
      "p-value:  0.013986013986013986\n",
      "(200, 34)\n",
      "(200,)\n",
      "Fitted\n"
     ]
    },
    {
     "name": "stderr",
     "output_type": "stream",
     "text": [
      "\n",
      " 61%|█████████████████████████████████████████████████▍                               | 61/100 [30:17<19:17, 29.69s/it]\u001b[A"
     ]
    },
    {
     "name": "stdout",
     "output_type": "stream",
     "text": [
      "Test Statistic:  0.004035769854603299\n",
      "p-value:  1.0\n",
      "(200, 34)\n",
      "(200,)\n",
      "Fitted\n"
     ]
    },
    {
     "name": "stderr",
     "output_type": "stream",
     "text": [
      "\n",
      " 62%|██████████████████████████████████████████████████▏                              | 62/100 [30:46<18:38, 29.43s/it]\u001b[A"
     ]
    },
    {
     "name": "stdout",
     "output_type": "stream",
     "text": [
      "Test Statistic:  0.0034622932442677223\n",
      "p-value:  1.0\n",
      "(200, 34)\n",
      "(200,)\n",
      "Fitted\n"
     ]
    },
    {
     "name": "stderr",
     "output_type": "stream",
     "text": [
      "\n",
      " 63%|███████████████████████████████████████████████████                              | 63/100 [31:16<18:12, 29.54s/it]\u001b[A"
     ]
    },
    {
     "name": "stdout",
     "output_type": "stream",
     "text": [
      "Test Statistic:  0.012319261691494665\n",
      "p-value:  0.04695304695304695\n",
      "(200, 34)\n",
      "(200,)\n",
      "Fitted\n"
     ]
    },
    {
     "name": "stderr",
     "output_type": "stream",
     "text": [
      "\n",
      " 64%|███████████████████████████████████████████████████▊                             | 64/100 [31:45<17:42, 29.50s/it]\u001b[A"
     ]
    },
    {
     "name": "stdout",
     "output_type": "stream",
     "text": [
      "Test Statistic:  0.0020641875699423107\n",
      "p-value:  1.0\n",
      "(200, 34)\n",
      "(200,)\n",
      "Fitted\n"
     ]
    },
    {
     "name": "stderr",
     "output_type": "stream",
     "text": [
      "\n",
      " 65%|████████████████████████████████████████████████████▋                            | 65/100 [32:14<17:07, 29.37s/it]\u001b[A"
     ]
    },
    {
     "name": "stdout",
     "output_type": "stream",
     "text": [
      "Test Statistic:  0.0022506504579241637\n",
      "p-value:  1.0\n",
      "(200, 34)\n",
      "(200,)\n",
      "Fitted\n"
     ]
    },
    {
     "name": "stderr",
     "output_type": "stream",
     "text": [
      "\n",
      " 66%|█████████████████████████████████████████████████████▍                           | 66/100 [32:43<16:37, 29.33s/it]\u001b[A"
     ]
    },
    {
     "name": "stdout",
     "output_type": "stream",
     "text": [
      "Test Statistic:  0.0022120637937426135\n",
      "p-value:  1.0\n",
      "(200, 34)\n",
      "(200,)\n",
      "Fitted\n"
     ]
    },
    {
     "name": "stderr",
     "output_type": "stream",
     "text": [
      "\n",
      " 67%|██████████████████████████████████████████████████████▎                          | 67/100 [33:13<16:11, 29.44s/it]\u001b[A"
     ]
    },
    {
     "name": "stdout",
     "output_type": "stream",
     "text": [
      "Test Statistic:  0.005563657334322292\n",
      "p-value:  0.999000999000999\n",
      "(200, 34)\n",
      "(200,)\n",
      "Fitted\n"
     ]
    },
    {
     "name": "stderr",
     "output_type": "stream",
     "text": [
      "\n",
      " 68%|███████████████████████████████████████████████████████                          | 68/100 [33:42<15:41, 29.41s/it]\u001b[A"
     ]
    },
    {
     "name": "stdout",
     "output_type": "stream",
     "text": [
      "Test Statistic:  0.006777881126742935\n",
      "p-value:  0.8531468531468531\n",
      "(200, 34)\n",
      "(200,)\n",
      "Fitted\n"
     ]
    },
    {
     "name": "stderr",
     "output_type": "stream",
     "text": [
      "\n",
      " 69%|███████████████████████████████████████████████████████▉                         | 69/100 [34:12<15:10, 29.38s/it]\u001b[A"
     ]
    },
    {
     "name": "stdout",
     "output_type": "stream",
     "text": [
      "Test Statistic:  0.0034074959855181497\n",
      "p-value:  1.0\n",
      "(200, 34)\n",
      "(200,)\n",
      "Fitted\n"
     ]
    },
    {
     "name": "stderr",
     "output_type": "stream",
     "text": [
      "\n",
      " 70%|████████████████████████████████████████████████████████▋                        | 70/100 [34:41<14:43, 29.46s/it]\u001b[A"
     ]
    },
    {
     "name": "stdout",
     "output_type": "stream",
     "text": [
      "Test Statistic:  0.004479438791822887\n",
      "p-value:  1.0\n",
      "(200, 34)\n",
      "(200,)\n",
      "Fitted\n"
     ]
    },
    {
     "name": "stderr",
     "output_type": "stream",
     "text": [
      "\n",
      " 71%|█████████████████████████████████████████████████████████▌                       | 71/100 [35:11<14:16, 29.54s/it]\u001b[A"
     ]
    },
    {
     "name": "stdout",
     "output_type": "stream",
     "text": [
      "Test Statistic:  0.015256233474707948\n",
      "p-value:  0.01098901098901099\n",
      "(200, 34)\n",
      "(200,)\n",
      "Fitted\n"
     ]
    },
    {
     "name": "stderr",
     "output_type": "stream",
     "text": [
      "\n",
      " 72%|██████████████████████████████████████████████████████████▎                      | 72/100 [35:41<13:52, 29.75s/it]\u001b[A"
     ]
    },
    {
     "name": "stdout",
     "output_type": "stream",
     "text": [
      "Test Statistic:  0.0031665515200229866\n",
      "p-value:  1.0\n",
      "(200, 34)\n",
      "(200,)\n",
      "Fitted\n"
     ]
    },
    {
     "name": "stderr",
     "output_type": "stream",
     "text": [
      "\n",
      " 73%|███████████████████████████████████████████████████████████▏                     | 73/100 [36:11<13:19, 29.62s/it]\u001b[A"
     ]
    },
    {
     "name": "stdout",
     "output_type": "stream",
     "text": [
      "Test Statistic:  0.0026432542350166566\n",
      "p-value:  1.0\n",
      "(200, 34)\n",
      "(200,)\n",
      "Fitted\n"
     ]
    },
    {
     "name": "stderr",
     "output_type": "stream",
     "text": [
      "\n",
      " 74%|███████████████████████████████████████████████████████████▉                     | 74/100 [36:40<12:45, 29.45s/it]\u001b[A"
     ]
    },
    {
     "name": "stdout",
     "output_type": "stream",
     "text": [
      "Test Statistic:  0.002778123132280097\n",
      "p-value:  1.0\n",
      "(200, 34)\n",
      "(200,)\n",
      "Fitted\n"
     ]
    },
    {
     "name": "stderr",
     "output_type": "stream",
     "text": [
      "\n",
      " 75%|████████████████████████████████████████████████████████████▊                    | 75/100 [37:09<12:15, 29.42s/it]\u001b[A"
     ]
    },
    {
     "name": "stdout",
     "output_type": "stream",
     "text": [
      "Test Statistic:  0.003695005377376326\n",
      "p-value:  1.0\n",
      "(200, 34)\n",
      "(200,)\n",
      "Fitted\n"
     ]
    },
    {
     "name": "stderr",
     "output_type": "stream",
     "text": [
      "\n",
      " 76%|█████████████████████████████████████████████████████████████▌                   | 76/100 [37:39<11:46, 29.45s/it]\u001b[A"
     ]
    },
    {
     "name": "stdout",
     "output_type": "stream",
     "text": [
      "Test Statistic:  0.010423413251214209\n",
      "p-value:  0.2057942057942058\n",
      "(200, 34)\n",
      "(200,)\n",
      "Fitted\n"
     ]
    },
    {
     "name": "stderr",
     "output_type": "stream",
     "text": [
      "\n",
      " 77%|██████████████████████████████████████████████████████████████▎                  | 77/100 [38:08<11:13, 29.30s/it]\u001b[A"
     ]
    },
    {
     "name": "stdout",
     "output_type": "stream",
     "text": [
      "Test Statistic:  0.007092401373363422\n",
      "p-value:  0.7252747252747253\n",
      "(200, 34)\n",
      "(200,)\n",
      "Fitted\n"
     ]
    },
    {
     "name": "stderr",
     "output_type": "stream",
     "text": [
      "\n",
      " 78%|███████████████████████████████████████████████████████████████▏                 | 78/100 [38:40<11:04, 30.19s/it]\u001b[A"
     ]
    },
    {
     "name": "stdout",
     "output_type": "stream",
     "text": [
      "Test Statistic:  0.0027523869783004917\n",
      "p-value:  1.0\n",
      "(200, 34)\n",
      "(200,)\n",
      "Fitted\n"
     ]
    },
    {
     "name": "stderr",
     "output_type": "stream",
     "text": [
      "\n",
      " 79%|███████████████████████████████████████████████████████████████▉                 | 79/100 [39:10<10:34, 30.23s/it]\u001b[A"
     ]
    },
    {
     "name": "stdout",
     "output_type": "stream",
     "text": [
      "Test Statistic:  0.003249112889859962\n",
      "p-value:  1.0\n",
      "(200, 34)\n",
      "(200,)\n",
      "Fitted\n"
     ]
    },
    {
     "name": "stderr",
     "output_type": "stream",
     "text": [
      "\n",
      " 80%|████████████████████████████████████████████████████████████████▊                | 80/100 [39:46<10:35, 31.80s/it]\u001b[A"
     ]
    },
    {
     "name": "stdout",
     "output_type": "stream",
     "text": [
      "Test Statistic:  0.010205317156188665\n",
      "p-value:  0.25574425574425574\n",
      "(200, 34)\n",
      "(200,)\n",
      "Fitted\n"
     ]
    },
    {
     "name": "stderr",
     "output_type": "stream",
     "text": [
      "\n",
      " 81%|█████████████████████████████████████████████████████████████████▌               | 81/100 [40:15<09:47, 30.93s/it]\u001b[A"
     ]
    },
    {
     "name": "stdout",
     "output_type": "stream",
     "text": [
      "Test Statistic:  0.0022233177454312747\n",
      "p-value:  1.0\n",
      "(200, 34)\n",
      "(200,)\n",
      "Fitted\n"
     ]
    },
    {
     "name": "stderr",
     "output_type": "stream",
     "text": [
      "\n",
      " 82%|██████████████████████████████████████████████████████████████████▍              | 82/100 [40:44<09:06, 30.35s/it]\u001b[A"
     ]
    },
    {
     "name": "stdout",
     "output_type": "stream",
     "text": [
      "Test Statistic:  0.002984553052881811\n",
      "p-value:  1.0\n",
      "(200, 34)\n",
      "(200,)\n",
      "Fitted\n"
     ]
    },
    {
     "name": "stderr",
     "output_type": "stream",
     "text": [
      "\n",
      " 83%|███████████████████████████████████████████████████████████████████▏             | 83/100 [41:13<08:31, 30.10s/it]\u001b[A"
     ]
    },
    {
     "name": "stdout",
     "output_type": "stream",
     "text": [
      "Test Statistic:  0.0025938197289628873\n",
      "p-value:  1.0\n",
      "(200, 34)\n",
      "(200,)\n",
      "Fitted\n"
     ]
    },
    {
     "name": "stderr",
     "output_type": "stream",
     "text": [
      "\n",
      " 84%|████████████████████████████████████████████████████████████████████             | 84/100 [41:42<07:57, 29.87s/it]\u001b[A"
     ]
    },
    {
     "name": "stdout",
     "output_type": "stream",
     "text": [
      "Test Statistic:  0.007444431529639028\n",
      "p-value:  0.6983016983016983\n",
      "(200, 34)\n",
      "(200,)\n",
      "Fitted\n"
     ]
    },
    {
     "name": "stderr",
     "output_type": "stream",
     "text": [
      "\n",
      " 85%|████████████████████████████████████████████████████████████████████▊            | 85/100 [42:12<07:25, 29.69s/it]\u001b[A"
     ]
    },
    {
     "name": "stdout",
     "output_type": "stream",
     "text": [
      "Test Statistic:  0.00322666344706235\n",
      "p-value:  1.0\n",
      "(200, 34)\n",
      "(200,)\n",
      "Fitted\n"
     ]
    },
    {
     "name": "stderr",
     "output_type": "stream",
     "text": [
      "\n",
      " 86%|█████████████████████████████████████████████████████████████████████▋           | 86/100 [42:42<06:56, 29.75s/it]\u001b[A"
     ]
    },
    {
     "name": "stdout",
     "output_type": "stream",
     "text": [
      "Test Statistic:  0.006831994573464173\n",
      "p-value:  0.8631368631368631\n",
      "(200, 34)\n",
      "(200,)\n",
      "Fitted\n"
     ]
    },
    {
     "name": "stderr",
     "output_type": "stream",
     "text": [
      "\n",
      " 87%|██████████████████████████████████████████████████████████████████████▍          | 87/100 [43:11<06:24, 29.56s/it]\u001b[A"
     ]
    },
    {
     "name": "stdout",
     "output_type": "stream",
     "text": [
      "Test Statistic:  0.003870594847255937\n",
      "p-value:  1.0\n",
      "(200, 34)\n",
      "(200,)\n",
      "Fitted\n"
     ]
    },
    {
     "name": "stderr",
     "output_type": "stream",
     "text": [
      "\n",
      " 88%|███████████████████████████████████████████████████████████████████████▎         | 88/100 [43:40<05:55, 29.59s/it]\u001b[A"
     ]
    },
    {
     "name": "stdout",
     "output_type": "stream",
     "text": [
      "Test Statistic:  0.0032331206629109266\n",
      "p-value:  1.0\n",
      "(200, 34)\n",
      "(200,)\n",
      "Fitted\n"
     ]
    },
    {
     "name": "stderr",
     "output_type": "stream",
     "text": [
      "\n",
      " 89%|████████████████████████████████████████████████████████████████████████         | 89/100 [44:10<05:25, 29.61s/it]\u001b[A"
     ]
    },
    {
     "name": "stdout",
     "output_type": "stream",
     "text": [
      "Test Statistic:  0.008375516377458037\n",
      "p-value:  0.3866133866133866\n",
      "(200, 34)\n",
      "(200,)\n",
      "Fitted\n"
     ]
    },
    {
     "name": "stderr",
     "output_type": "stream",
     "text": [
      "\n",
      " 90%|████████████████████████████████████████████████████████████████████████▉        | 90/100 [44:40<04:57, 29.74s/it]\u001b[A"
     ]
    },
    {
     "name": "stdout",
     "output_type": "stream",
     "text": [
      "Test Statistic:  0.00451319733319433\n",
      "p-value:  1.0\n",
      "(200, 34)\n",
      "(200,)\n",
      "Fitted\n"
     ]
    },
    {
     "name": "stderr",
     "output_type": "stream",
     "text": [
      "\n",
      " 91%|█████████████████████████████████████████████████████████████████████████▋       | 91/100 [45:10<04:27, 29.71s/it]\u001b[A"
     ]
    },
    {
     "name": "stdout",
     "output_type": "stream",
     "text": [
      "Test Statistic:  0.01602742898964904\n",
      "p-value:  0.01898101898101898\n",
      "(200, 34)\n",
      "(200,)\n",
      "Fitted\n"
     ]
    },
    {
     "name": "stderr",
     "output_type": "stream",
     "text": [
      "\n",
      " 92%|██████████████████████████████████████████████████████████████████████████▌      | 92/100 [45:40<03:59, 29.96s/it]\u001b[A"
     ]
    },
    {
     "name": "stdout",
     "output_type": "stream",
     "text": [
      "Test Statistic:  0.004282262964220962\n",
      "p-value:  1.0\n",
      "(200, 34)\n",
      "(200,)\n",
      "Fitted\n"
     ]
    },
    {
     "name": "stderr",
     "output_type": "stream",
     "text": [
      "\n",
      " 93%|███████████████████████████████████████████████████████████████████████████▎     | 93/100 [46:10<03:30, 30.03s/it]\u001b[A"
     ]
    },
    {
     "name": "stdout",
     "output_type": "stream",
     "text": [
      "Test Statistic:  0.0029686912995666725\n",
      "p-value:  1.0\n",
      "(200, 34)\n",
      "(200,)\n",
      "Fitted\n"
     ]
    },
    {
     "name": "stderr",
     "output_type": "stream",
     "text": [
      "\n",
      " 94%|████████████████████████████████████████████████████████████████████████████▏    | 94/100 [46:40<02:59, 29.90s/it]\u001b[A"
     ]
    },
    {
     "name": "stdout",
     "output_type": "stream",
     "text": [
      "Test Statistic:  0.002902453214618239\n",
      "p-value:  1.0\n",
      "(200, 34)\n",
      "(200,)\n",
      "Fitted\n"
     ]
    },
    {
     "name": "stderr",
     "output_type": "stream",
     "text": [
      "\n",
      " 95%|████████████████████████████████████████████████████████████████████████████▉    | 95/100 [47:09<02:28, 29.76s/it]\u001b[A"
     ]
    },
    {
     "name": "stdout",
     "output_type": "stream",
     "text": [
      "Test Statistic:  0.002974523719934785\n",
      "p-value:  1.0\n",
      "(200, 34)\n",
      "(200,)\n",
      "Fitted\n"
     ]
    },
    {
     "name": "stderr",
     "output_type": "stream",
     "text": [
      "\n",
      " 96%|█████████████████████████████████████████████████████████████████████████████▊   | 96/100 [47:39<01:58, 29.64s/it]\u001b[A"
     ]
    },
    {
     "name": "stdout",
     "output_type": "stream",
     "text": [
      "Test Statistic:  0.002803639868157015\n",
      "p-value:  1.0\n",
      "(200, 34)\n",
      "(200,)\n",
      "Fitted\n"
     ]
    },
    {
     "name": "stderr",
     "output_type": "stream",
     "text": [
      "\n",
      " 97%|██████████████████████████████████████████████████████████████████████████████▌  | 97/100 [48:08<01:28, 29.63s/it]\u001b[A"
     ]
    },
    {
     "name": "stdout",
     "output_type": "stream",
     "text": [
      "Test Statistic:  0.0047480112862522406\n",
      "p-value:  1.0\n",
      "(200, 34)\n",
      "(200,)\n",
      "Fitted\n"
     ]
    },
    {
     "name": "stderr",
     "output_type": "stream",
     "text": [
      "\n",
      " 98%|███████████████████████████████████████████████████████████████████████████████▍ | 98/100 [48:47<01:04, 32.43s/it]\u001b[A"
     ]
    },
    {
     "name": "stdout",
     "output_type": "stream",
     "text": [
      "Test Statistic:  0.019257764117008525\n",
      "p-value:  0.00999000999000999\n",
      "(200, 34)\n",
      "(200,)\n",
      "Fitted\n"
     ]
    },
    {
     "name": "stderr",
     "output_type": "stream",
     "text": [
      "\n",
      " 99%|████████████████████████████████████████████████████████████████████████████████▏| 99/100 [49:17<00:31, 31.62s/it]\u001b[A"
     ]
    },
    {
     "name": "stdout",
     "output_type": "stream",
     "text": [
      "Test Statistic:  0.003162447261019663\n",
      "p-value:  1.0\n",
      "(200, 34)\n",
      "(200,)\n",
      "Fitted\n"
     ]
    },
    {
     "name": "stderr",
     "output_type": "stream",
     "text": [
      "\n",
      "100%|████████████████████████████████████████████████████████████████████████████████| 100/100 [49:47<00:00, 29.87s/it]\u001b[A\n",
      " 85%|███████████████████████████████████████████████████████████████▊           | 17/20 [14:54:48<2:32:17, 3045.89s/it]\n",
      "  0%|                                                                                          | 0/100 [00:00<?, ?it/s]\u001b[A"
     ]
    },
    {
     "name": "stdout",
     "output_type": "stream",
     "text": [
      "Test Statistic:  0.0068226580441377305\n",
      "p-value:  0.8021978021978022\n",
      "dimension 18\n",
      "circle\n",
      "(200, 36)\n",
      "(200,)\n",
      "Fitted\n"
     ]
    },
    {
     "name": "stderr",
     "output_type": "stream",
     "text": [
      "\n",
      "  1%|▊                                                                                 | 1/100 [00:29<49:06, 29.77s/it]\u001b[A"
     ]
    },
    {
     "name": "stdout",
     "output_type": "stream",
     "text": [
      "Test Statistic:  0.007100288003726751\n",
      "p-value:  0.7602397602397603\n",
      "(200, 36)\n",
      "(200,)\n",
      "Fitted\n"
     ]
    },
    {
     "name": "stderr",
     "output_type": "stream",
     "text": [
      "\n",
      "  2%|█▋                                                                                | 2/100 [00:59<48:24, 29.64s/it]\u001b[A"
     ]
    },
    {
     "name": "stdout",
     "output_type": "stream",
     "text": [
      "Test Statistic:  0.015356699673025775\n",
      "p-value:  0.013986013986013986\n",
      "(200, 36)\n",
      "(200,)\n",
      "Fitted\n"
     ]
    },
    {
     "name": "stderr",
     "output_type": "stream",
     "text": [
      "\n",
      "  3%|██▍                                                                               | 3/100 [01:28<47:45, 29.54s/it]\u001b[A"
     ]
    },
    {
     "name": "stdout",
     "output_type": "stream",
     "text": [
      "Test Statistic:  0.005560718923464325\n",
      "p-value:  0.991008991008991\n",
      "(200, 36)\n",
      "(200,)\n",
      "Fitted\n"
     ]
    },
    {
     "name": "stderr",
     "output_type": "stream",
     "text": [
      "\n",
      "  4%|███▎                                                                              | 4/100 [01:57<47:04, 29.43s/it]\u001b[A"
     ]
    },
    {
     "name": "stdout",
     "output_type": "stream",
     "text": [
      "Test Statistic:  0.009628471418681395\n",
      "p-value:  0.24275724275724275\n",
      "(200, 36)\n",
      "(200,)\n",
      "Fitted\n"
     ]
    },
    {
     "name": "stderr",
     "output_type": "stream",
     "text": [
      "\n",
      "  5%|████                                                                              | 5/100 [02:26<46:34, 29.41s/it]\u001b[A"
     ]
    },
    {
     "name": "stdout",
     "output_type": "stream",
     "text": [
      "Test Statistic:  0.003307467337422154\n",
      "p-value:  1.0\n",
      "(200, 36)\n",
      "(200,)\n",
      "Fitted\n"
     ]
    },
    {
     "name": "stderr",
     "output_type": "stream",
     "text": [
      "\n",
      "  6%|████▉                                                                             | 6/100 [02:56<46:05, 29.42s/it]\u001b[A"
     ]
    },
    {
     "name": "stdout",
     "output_type": "stream",
     "text": [
      "Test Statistic:  0.002366683352815202\n",
      "p-value:  1.0\n",
      "(200, 36)\n",
      "(200,)\n",
      "Fitted\n"
     ]
    },
    {
     "name": "stderr",
     "output_type": "stream",
     "text": [
      "\n",
      "  7%|█████▋                                                                            | 7/100 [03:25<45:38, 29.44s/it]\u001b[A"
     ]
    },
    {
     "name": "stdout",
     "output_type": "stream",
     "text": [
      "Test Statistic:  0.00291157553489807\n",
      "p-value:  1.0\n",
      "(200, 36)\n",
      "(200,)\n",
      "Fitted\n"
     ]
    },
    {
     "name": "stderr",
     "output_type": "stream",
     "text": [
      "\n",
      "  8%|██████▌                                                                           | 8/100 [03:54<44:55, 29.30s/it]\u001b[A"
     ]
    },
    {
     "name": "stdout",
     "output_type": "stream",
     "text": [
      "Test Statistic:  0.003428006572134934\n",
      "p-value:  1.0\n",
      "(200, 36)\n",
      "(200,)\n",
      "Fitted\n"
     ]
    },
    {
     "name": "stderr",
     "output_type": "stream",
     "text": [
      "\n",
      "  9%|███████▍                                                                          | 9/100 [04:23<44:14, 29.17s/it]\u001b[A"
     ]
    },
    {
     "name": "stdout",
     "output_type": "stream",
     "text": [
      "Test Statistic:  0.005908019304611378\n",
      "p-value:  0.8951048951048951\n",
      "(200, 36)\n",
      "(200,)\n",
      "Fitted\n"
     ]
    },
    {
     "name": "stderr",
     "output_type": "stream",
     "text": [
      "\n",
      " 10%|████████                                                                         | 10/100 [04:53<43:58, 29.32s/it]\u001b[A"
     ]
    },
    {
     "name": "stdout",
     "output_type": "stream",
     "text": [
      "Test Statistic:  0.004355292175810543\n",
      "p-value:  1.0\n",
      "(200, 36)\n",
      "(200,)\n",
      "Fitted\n"
     ]
    },
    {
     "name": "stderr",
     "output_type": "stream",
     "text": [
      "\n",
      " 11%|████████▉                                                                        | 11/100 [05:23<43:57, 29.63s/it]\u001b[A"
     ]
    },
    {
     "name": "stdout",
     "output_type": "stream",
     "text": [
      "Test Statistic:  0.003953382256246751\n",
      "p-value:  1.0\n",
      "(200, 36)\n",
      "(200,)\n",
      "Fitted\n"
     ]
    },
    {
     "name": "stderr",
     "output_type": "stream",
     "text": [
      "\n",
      " 12%|█████████▋                                                                       | 12/100 [05:54<43:45, 29.83s/it]\u001b[A"
     ]
    },
    {
     "name": "stdout",
     "output_type": "stream",
     "text": [
      "Test Statistic:  0.008459907590593452\n",
      "p-value:  0.3356643356643357\n",
      "(200, 36)\n",
      "(200,)\n",
      "Fitted\n"
     ]
    },
    {
     "name": "stderr",
     "output_type": "stream",
     "text": [
      "\n",
      " 13%|██████████▌                                                                      | 13/100 [06:23<43:00, 29.66s/it]\u001b[A"
     ]
    },
    {
     "name": "stdout",
     "output_type": "stream",
     "text": [
      "Test Statistic:  0.00251721710219599\n",
      "p-value:  1.0\n",
      "(200, 36)\n",
      "(200,)\n",
      "Fitted\n"
     ]
    },
    {
     "name": "stderr",
     "output_type": "stream",
     "text": [
      "\n",
      " 14%|███████████▎                                                                     | 14/100 [06:52<42:20, 29.54s/it]\u001b[A"
     ]
    },
    {
     "name": "stdout",
     "output_type": "stream",
     "text": [
      "Test Statistic:  0.004608785609127253\n",
      "p-value:  1.0\n",
      "(200, 36)\n",
      "(200,)\n",
      "Fitted\n"
     ]
    },
    {
     "name": "stderr",
     "output_type": "stream",
     "text": [
      "\n",
      " 15%|████████████▏                                                                    | 15/100 [07:21<41:40, 29.42s/it]\u001b[A"
     ]
    },
    {
     "name": "stdout",
     "output_type": "stream",
     "text": [
      "Test Statistic:  0.011858799803377562\n",
      "p-value:  0.056943056943056944\n",
      "(200, 36)\n",
      "(200,)\n",
      "Fitted\n"
     ]
    },
    {
     "name": "stderr",
     "output_type": "stream",
     "text": [
      "\n",
      " 16%|████████████▉                                                                    | 16/100 [07:50<40:53, 29.21s/it]\u001b[A"
     ]
    },
    {
     "name": "stdout",
     "output_type": "stream",
     "text": [
      "Test Statistic:  0.004691629262614905\n",
      "p-value:  1.0\n",
      "(200, 36)\n",
      "(200,)\n",
      "Fitted\n"
     ]
    },
    {
     "name": "stderr",
     "output_type": "stream",
     "text": [
      "\n",
      " 17%|█████████████▊                                                                   | 17/100 [08:19<40:20, 29.16s/it]\u001b[A"
     ]
    },
    {
     "name": "stdout",
     "output_type": "stream",
     "text": [
      "Test Statistic:  0.010283220106641178\n",
      "p-value:  0.2957042957042957\n",
      "(200, 36)\n",
      "(200,)\n",
      "Fitted\n"
     ]
    },
    {
     "name": "stderr",
     "output_type": "stream",
     "text": [
      "\n",
      " 18%|██████████████▌                                                                  | 18/100 [08:51<41:11, 30.14s/it]\u001b[A"
     ]
    },
    {
     "name": "stdout",
     "output_type": "stream",
     "text": [
      "Test Statistic:  0.0025173445702781905\n",
      "p-value:  1.0\n",
      "(200, 36)\n",
      "(200,)\n",
      "Fitted\n"
     ]
    },
    {
     "name": "stderr",
     "output_type": "stream",
     "text": [
      "\n",
      " 19%|███████████████▍                                                                 | 19/100 [09:21<40:34, 30.05s/it]\u001b[A"
     ]
    },
    {
     "name": "stdout",
     "output_type": "stream",
     "text": [
      "Test Statistic:  0.003000490573462522\n",
      "p-value:  1.0\n",
      "(200, 36)\n",
      "(200,)\n",
      "Fitted\n"
     ]
    },
    {
     "name": "stderr",
     "output_type": "stream",
     "text": [
      "\n",
      " 20%|████████████████▏                                                                | 20/100 [09:51<40:03, 30.05s/it]\u001b[A"
     ]
    },
    {
     "name": "stdout",
     "output_type": "stream",
     "text": [
      "Test Statistic:  0.0025406612665942463\n",
      "p-value:  1.0\n",
      "(200, 36)\n",
      "(200,)\n",
      "Fitted\n"
     ]
    },
    {
     "name": "stderr",
     "output_type": "stream",
     "text": [
      "\n",
      " 21%|█████████████████                                                                | 21/100 [10:21<39:26, 29.96s/it]\u001b[A"
     ]
    },
    {
     "name": "stdout",
     "output_type": "stream",
     "text": [
      "Test Statistic:  0.0031358761825232007\n",
      "p-value:  1.0\n",
      "(200, 36)\n",
      "(200,)\n",
      "Fitted\n"
     ]
    },
    {
     "name": "stderr",
     "output_type": "stream",
     "text": [
      "\n",
      " 22%|█████████████████▊                                                               | 22/100 [10:50<38:39, 29.73s/it]\u001b[A"
     ]
    },
    {
     "name": "stdout",
     "output_type": "stream",
     "text": [
      "Test Statistic:  0.00302368067586245\n",
      "p-value:  1.0\n",
      "(200, 36)\n",
      "(200,)\n",
      "Fitted\n"
     ]
    },
    {
     "name": "stderr",
     "output_type": "stream",
     "text": [
      "\n",
      " 23%|██████████████████▋                                                              | 23/100 [11:20<38:12, 29.77s/it]\u001b[A"
     ]
    },
    {
     "name": "stdout",
     "output_type": "stream",
     "text": [
      "Test Statistic:  0.0018784349715690318\n",
      "p-value:  1.0\n",
      "(200, 36)\n",
      "(200,)\n",
      "Fitted\n"
     ]
    },
    {
     "name": "stderr",
     "output_type": "stream",
     "text": [
      "\n",
      " 24%|███████████████████▍                                                             | 24/100 [11:50<37:38, 29.72s/it]\u001b[A"
     ]
    },
    {
     "name": "stdout",
     "output_type": "stream",
     "text": [
      "Test Statistic:  0.01275252167288965\n",
      "p-value:  0.07192807192807193\n",
      "(200, 36)\n",
      "(200,)\n",
      "Fitted\n"
     ]
    },
    {
     "name": "stderr",
     "output_type": "stream",
     "text": [
      "\n",
      " 25%|████████████████████▎                                                            | 25/100 [12:19<36:58, 29.58s/it]\u001b[A"
     ]
    },
    {
     "name": "stdout",
     "output_type": "stream",
     "text": [
      "Test Statistic:  0.005282005570722448\n",
      "p-value:  0.995004995004995\n",
      "(200, 36)\n",
      "(200,)\n",
      "Fitted\n"
     ]
    },
    {
     "name": "stderr",
     "output_type": "stream",
     "text": [
      "\n",
      " 26%|█████████████████████                                                            | 26/100 [12:48<36:12, 29.36s/it]\u001b[A"
     ]
    },
    {
     "name": "stdout",
     "output_type": "stream",
     "text": [
      "Test Statistic:  0.005057598231105076\n",
      "p-value:  0.999000999000999\n",
      "(200, 36)\n",
      "(200,)\n",
      "Fitted\n"
     ]
    },
    {
     "name": "stderr",
     "output_type": "stream",
     "text": [
      "\n",
      " 27%|█████████████████████▊                                                           | 27/100 [13:17<35:41, 29.34s/it]\u001b[A"
     ]
    },
    {
     "name": "stdout",
     "output_type": "stream",
     "text": [
      "Test Statistic:  0.005611694207899753\n",
      "p-value:  0.989010989010989\n",
      "(200, 36)\n",
      "(200,)\n",
      "Fitted\n"
     ]
    },
    {
     "name": "stderr",
     "output_type": "stream",
     "text": [
      "\n",
      " 28%|██████████████████████▋                                                          | 28/100 [13:47<35:19, 29.44s/it]\u001b[A"
     ]
    },
    {
     "name": "stdout",
     "output_type": "stream",
     "text": [
      "Test Statistic:  0.0038585072013047617\n",
      "p-value:  1.0\n",
      "(200, 36)\n",
      "(200,)\n",
      "Fitted\n"
     ]
    },
    {
     "name": "stderr",
     "output_type": "stream",
     "text": [
      "\n",
      " 29%|███████████████████████▍                                                         | 29/100 [14:16<34:48, 29.42s/it]\u001b[A"
     ]
    },
    {
     "name": "stdout",
     "output_type": "stream",
     "text": [
      "Test Statistic:  0.012516309654963087\n",
      "p-value:  0.03196803196803197\n",
      "(200, 36)\n",
      "(200,)\n",
      "Fitted\n"
     ]
    },
    {
     "name": "stderr",
     "output_type": "stream",
     "text": [
      "\n",
      " 30%|████████████████████████▎                                                        | 30/100 [14:45<34:17, 29.39s/it]\u001b[A"
     ]
    },
    {
     "name": "stdout",
     "output_type": "stream",
     "text": [
      "Test Statistic:  0.011194059641391751\n",
      "p-value:  0.1018981018981019\n",
      "(200, 36)\n",
      "(200,)\n",
      "Fitted\n"
     ]
    },
    {
     "name": "stderr",
     "output_type": "stream",
     "text": [
      "\n",
      " 31%|█████████████████████████                                                        | 31/100 [15:14<33:36, 29.22s/it]\u001b[A"
     ]
    },
    {
     "name": "stdout",
     "output_type": "stream",
     "text": [
      "Test Statistic:  0.002440096702383765\n",
      "p-value:  1.0\n",
      "(200, 36)\n",
      "(200,)\n",
      "Fitted\n"
     ]
    },
    {
     "name": "stderr",
     "output_type": "stream",
     "text": [
      "\n",
      " 32%|█████████████████████████▉                                                       | 32/100 [15:43<33:06, 29.21s/it]\u001b[A"
     ]
    },
    {
     "name": "stdout",
     "output_type": "stream",
     "text": [
      "Test Statistic:  0.004096868134447873\n",
      "p-value:  1.0\n",
      "(200, 36)\n",
      "(200,)\n",
      "Fitted\n"
     ]
    },
    {
     "name": "stderr",
     "output_type": "stream",
     "text": [
      "\n",
      " 33%|██████████████████████████▋                                                      | 33/100 [16:13<32:42, 29.29s/it]\u001b[A"
     ]
    },
    {
     "name": "stdout",
     "output_type": "stream",
     "text": [
      "Test Statistic:  0.01555806530144721\n",
      "p-value:  0.011988011988011988\n",
      "(200, 36)\n",
      "(200,)\n",
      "Fitted\n"
     ]
    },
    {
     "name": "stderr",
     "output_type": "stream",
     "text": [
      "\n",
      " 34%|███████████████████████████▌                                                     | 34/100 [16:42<32:17, 29.35s/it]\u001b[A"
     ]
    },
    {
     "name": "stdout",
     "output_type": "stream",
     "text": [
      "Test Statistic:  0.0024368863900061655\n",
      "p-value:  1.0\n",
      "(200, 36)\n",
      "(200,)\n",
      "Fitted\n"
     ]
    },
    {
     "name": "stderr",
     "output_type": "stream",
     "text": [
      "\n",
      " 35%|████████████████████████████▎                                                    | 35/100 [17:12<31:48, 29.37s/it]\u001b[A"
     ]
    },
    {
     "name": "stdout",
     "output_type": "stream",
     "text": [
      "Test Statistic:  0.0035116439357475437\n",
      "p-value:  1.0\n",
      "(200, 36)\n",
      "(200,)\n",
      "Fitted\n"
     ]
    },
    {
     "name": "stderr",
     "output_type": "stream",
     "text": [
      "\n",
      " 36%|█████████████████████████████▏                                                   | 36/100 [17:42<31:33, 29.58s/it]\u001b[A"
     ]
    },
    {
     "name": "stdout",
     "output_type": "stream",
     "text": [
      "Test Statistic:  0.007220146310820019\n",
      "p-value:  0.8471528471528471\n",
      "(200, 36)\n",
      "(200,)\n",
      "Fitted\n"
     ]
    },
    {
     "name": "stderr",
     "output_type": "stream",
     "text": [
      "\n",
      " 37%|█████████████████████████████▉                                                   | 37/100 [18:12<31:06, 29.63s/it]\u001b[A"
     ]
    },
    {
     "name": "stdout",
     "output_type": "stream",
     "text": [
      "Test Statistic:  0.002264848160798527\n",
      "p-value:  1.0\n",
      "(200, 36)\n",
      "(200,)\n",
      "Fitted\n"
     ]
    },
    {
     "name": "stderr",
     "output_type": "stream",
     "text": [
      "\n",
      " 38%|██████████████████████████████▊                                                  | 38/100 [18:44<31:28, 30.45s/it]\u001b[A"
     ]
    },
    {
     "name": "stdout",
     "output_type": "stream",
     "text": [
      "Test Statistic:  0.0025999800818744534\n",
      "p-value:  1.0\n",
      "(200, 36)\n",
      "(200,)\n",
      "Fitted\n"
     ]
    },
    {
     "name": "stderr",
     "output_type": "stream",
     "text": [
      "\n",
      " 39%|███████████████████████████████▌                                                 | 39/100 [19:13<30:36, 30.11s/it]\u001b[A"
     ]
    },
    {
     "name": "stdout",
     "output_type": "stream",
     "text": [
      "Test Statistic:  0.006333205133749353\n",
      "p-value:  0.8461538461538461\n",
      "(200, 36)\n",
      "(200,)\n",
      "Fitted\n"
     ]
    },
    {
     "name": "stderr",
     "output_type": "stream",
     "text": [
      "\n",
      " 40%|████████████████████████████████▍                                                | 40/100 [19:43<29:58, 29.97s/it]\u001b[A"
     ]
    },
    {
     "name": "stdout",
     "output_type": "stream",
     "text": [
      "Test Statistic:  0.0017588739706065892\n",
      "p-value:  1.0\n",
      "(200, 36)\n",
      "(200,)\n",
      "Fitted\n"
     ]
    },
    {
     "name": "stderr",
     "output_type": "stream",
     "text": [
      "\n",
      " 41%|█████████████████████████████████▏                                               | 41/100 [20:12<29:12, 29.70s/it]\u001b[A"
     ]
    },
    {
     "name": "stdout",
     "output_type": "stream",
     "text": [
      "Test Statistic:  0.03202992546320227\n",
      "p-value:  0.000999000999000999\n",
      "(200, 36)\n",
      "(200,)\n",
      "Fitted\n"
     ]
    },
    {
     "name": "stderr",
     "output_type": "stream",
     "text": [
      "\n",
      " 42%|██████████████████████████████████                                               | 42/100 [20:41<28:37, 29.61s/it]\u001b[A"
     ]
    },
    {
     "name": "stdout",
     "output_type": "stream",
     "text": [
      "Test Statistic:  0.003432468513323239\n",
      "p-value:  1.0\n",
      "(200, 36)\n",
      "(200,)\n",
      "Fitted\n"
     ]
    },
    {
     "name": "stderr",
     "output_type": "stream",
     "text": [
      "\n",
      " 43%|██████████████████████████████████▊                                              | 43/100 [21:10<27:56, 29.42s/it]\u001b[A"
     ]
    },
    {
     "name": "stdout",
     "output_type": "stream",
     "text": [
      "Test Statistic:  0.0050732451277459845\n",
      "p-value:  0.994005994005994\n",
      "(200, 36)\n",
      "(200,)\n",
      "Fitted\n"
     ]
    },
    {
     "name": "stderr",
     "output_type": "stream",
     "text": [
      "\n",
      " 44%|███████████████████████████████████▋                                             | 44/100 [21:40<27:25, 29.39s/it]\u001b[A"
     ]
    },
    {
     "name": "stdout",
     "output_type": "stream",
     "text": [
      "Test Statistic:  0.011954186199345407\n",
      "p-value:  0.07092907092907093\n",
      "(200, 36)\n",
      "(200,)\n",
      "Fitted\n"
     ]
    },
    {
     "name": "stderr",
     "output_type": "stream",
     "text": [
      "\n",
      " 45%|████████████████████████████████████▍                                            | 45/100 [22:09<26:53, 29.33s/it]\u001b[A"
     ]
    },
    {
     "name": "stdout",
     "output_type": "stream",
     "text": [
      "Test Statistic:  0.0026860240162024374\n",
      "p-value:  1.0\n",
      "(200, 36)\n",
      "(200,)\n",
      "Fitted\n"
     ]
    },
    {
     "name": "stderr",
     "output_type": "stream",
     "text": [
      "\n",
      " 46%|█████████████████████████████████████▎                                           | 46/100 [22:38<26:23, 29.32s/it]\u001b[A"
     ]
    },
    {
     "name": "stdout",
     "output_type": "stream",
     "text": [
      "Test Statistic:  0.014730404362336524\n",
      "p-value:  0.03696303696303696\n",
      "(200, 36)\n",
      "(200,)\n",
      "Fitted\n"
     ]
    },
    {
     "name": "stderr",
     "output_type": "stream",
     "text": [
      "\n",
      " 47%|██████████████████████████████████████                                           | 47/100 [23:10<26:40, 30.20s/it]\u001b[A"
     ]
    },
    {
     "name": "stdout",
     "output_type": "stream",
     "text": [
      "Test Statistic:  0.005319156056621921\n",
      "p-value:  0.9920079920079921\n",
      "(200, 36)\n",
      "(200,)\n",
      "Fitted\n"
     ]
    },
    {
     "name": "stderr",
     "output_type": "stream",
     "text": [
      "\n",
      " 48%|██████████████████████████████████████▉                                          | 48/100 [23:41<26:14, 30.29s/it]\u001b[A"
     ]
    },
    {
     "name": "stdout",
     "output_type": "stream",
     "text": [
      "Test Statistic:  0.02504582385600662\n",
      "p-value:  0.001998001998001998\n",
      "(200, 36)\n",
      "(200,)\n",
      "Fitted\n"
     ]
    },
    {
     "name": "stderr",
     "output_type": "stream",
     "text": [
      "\n",
      " 49%|███████████████████████████████████████▋                                         | 49/100 [24:10<25:30, 30.01s/it]\u001b[A"
     ]
    },
    {
     "name": "stdout",
     "output_type": "stream",
     "text": [
      "Test Statistic:  0.00490787680200655\n",
      "p-value:  1.0\n",
      "(200, 36)\n",
      "(200,)\n",
      "Fitted\n"
     ]
    },
    {
     "name": "stderr",
     "output_type": "stream",
     "text": [
      "\n",
      " 50%|████████████████████████████████████████▌                                        | 50/100 [24:40<24:56, 29.93s/it]\u001b[A"
     ]
    },
    {
     "name": "stdout",
     "output_type": "stream",
     "text": [
      "Test Statistic:  0.00349609788365135\n",
      "p-value:  1.0\n",
      "(200, 36)\n",
      "(200,)\n",
      "Fitted\n"
     ]
    },
    {
     "name": "stderr",
     "output_type": "stream",
     "text": [
      "\n",
      " 51%|█████████████████████████████████████████▎                                       | 51/100 [25:09<24:10, 29.61s/it]\u001b[A"
     ]
    },
    {
     "name": "stdout",
     "output_type": "stream",
     "text": [
      "Test Statistic:  0.003936957675688801\n",
      "p-value:  1.0\n",
      "(200, 36)\n",
      "(200,)\n",
      "Fitted\n"
     ]
    },
    {
     "name": "stderr",
     "output_type": "stream",
     "text": [
      "\n",
      " 52%|██████████████████████████████████████████                                       | 52/100 [25:39<23:50, 29.80s/it]\u001b[A"
     ]
    },
    {
     "name": "stdout",
     "output_type": "stream",
     "text": [
      "Test Statistic:  0.00525755911469683\n",
      "p-value:  1.0\n",
      "(200, 36)\n",
      "(200,)\n",
      "Fitted\n"
     ]
    },
    {
     "name": "stderr",
     "output_type": "stream",
     "text": [
      "\n",
      " 53%|██████████████████████████████████████████▉                                      | 53/100 [26:08<23:02, 29.42s/it]\u001b[A"
     ]
    },
    {
     "name": "stdout",
     "output_type": "stream",
     "text": [
      "Test Statistic:  0.0070001450706247415\n",
      "p-value:  0.6763236763236763\n",
      "(200, 36)\n",
      "(200,)\n",
      "Fitted\n"
     ]
    },
    {
     "name": "stderr",
     "output_type": "stream",
     "text": [
      "\n",
      " 54%|███████████████████████████████████████████▋                                     | 54/100 [26:36<22:22, 29.20s/it]\u001b[A"
     ]
    },
    {
     "name": "stdout",
     "output_type": "stream",
     "text": [
      "Test Statistic:  0.005680541098728953\n",
      "p-value:  0.996003996003996\n",
      "(200, 36)\n",
      "(200,)\n",
      "Fitted\n"
     ]
    },
    {
     "name": "stderr",
     "output_type": "stream",
     "text": [
      "\n",
      " 55%|████████████████████████████████████████████▌                                    | 55/100 [27:06<21:52, 29.17s/it]\u001b[A"
     ]
    },
    {
     "name": "stdout",
     "output_type": "stream",
     "text": [
      "Test Statistic:  0.007999311951462529\n",
      "p-value:  0.37162837162837165\n",
      "(200, 36)\n",
      "(200,)\n",
      "Fitted\n"
     ]
    },
    {
     "name": "stderr",
     "output_type": "stream",
     "text": [
      "\n",
      " 56%|█████████████████████████████████████████████▎                                   | 56/100 [27:35<21:23, 29.17s/it]\u001b[A"
     ]
    },
    {
     "name": "stdout",
     "output_type": "stream",
     "text": [
      "Test Statistic:  0.0033631274845361547\n",
      "p-value:  1.0\n",
      "(200, 36)\n",
      "(200,)\n",
      "Fitted\n"
     ]
    },
    {
     "name": "stderr",
     "output_type": "stream",
     "text": [
      "\n",
      " 57%|██████████████████████████████████████████████▏                                  | 57/100 [28:04<20:53, 29.15s/it]\u001b[A"
     ]
    },
    {
     "name": "stdout",
     "output_type": "stream",
     "text": [
      "Test Statistic:  0.011627902488778541\n",
      "p-value:  0.07592407592407592\n",
      "(200, 36)\n",
      "(200,)\n",
      "Fitted\n"
     ]
    },
    {
     "name": "stderr",
     "output_type": "stream",
     "text": [
      "\n",
      " 58%|██████████████████████████████████████████████▉                                  | 58/100 [28:35<20:53, 29.84s/it]\u001b[A"
     ]
    },
    {
     "name": "stdout",
     "output_type": "stream",
     "text": [
      "Test Statistic:  0.004977039138607142\n",
      "p-value:  0.999000999000999\n",
      "(200, 36)\n",
      "(200,)\n",
      "Fitted\n"
     ]
    },
    {
     "name": "stderr",
     "output_type": "stream",
     "text": [
      "\n",
      " 59%|███████████████████████████████████████████████▊                                 | 59/100 [29:12<21:46, 31.86s/it]\u001b[A"
     ]
    },
    {
     "name": "stdout",
     "output_type": "stream",
     "text": [
      "Test Statistic:  0.007878110479832223\n",
      "p-value:  0.6313686313686314\n",
      "(200, 36)\n",
      "(200,)\n",
      "Fitted\n"
     ]
    },
    {
     "name": "stderr",
     "output_type": "stream",
     "text": [
      "\n",
      " 60%|████████████████████████████████████████████████▌                                | 60/100 [29:42<20:50, 31.27s/it]\u001b[A"
     ]
    },
    {
     "name": "stdout",
     "output_type": "stream",
     "text": [
      "Test Statistic:  0.0036712553304520945\n",
      "p-value:  1.0\n",
      "(200, 36)\n",
      "(200,)\n",
      "Fitted\n"
     ]
    },
    {
     "name": "stderr",
     "output_type": "stream",
     "text": [
      "\n",
      " 61%|█████████████████████████████████████████████████▍                               | 61/100 [30:11<19:57, 30.70s/it]\u001b[A"
     ]
    },
    {
     "name": "stdout",
     "output_type": "stream",
     "text": [
      "Test Statistic:  0.006399554575075794\n",
      "p-value:  0.964035964035964\n",
      "(200, 36)\n",
      "(200,)\n",
      "Fitted\n"
     ]
    },
    {
     "name": "stderr",
     "output_type": "stream",
     "text": [
      "\n",
      " 62%|██████████████████████████████████████████████████▏                              | 62/100 [30:41<19:12, 30.33s/it]\u001b[A"
     ]
    },
    {
     "name": "stdout",
     "output_type": "stream",
     "text": [
      "Test Statistic:  0.00850927935873913\n",
      "p-value:  0.45754245754245754\n",
      "(200, 36)\n",
      "(200,)\n",
      "Fitted\n"
     ]
    },
    {
     "name": "stderr",
     "output_type": "stream",
     "text": [
      "\n",
      " 63%|███████████████████████████████████████████████████                              | 63/100 [31:09<18:24, 29.85s/it]\u001b[A"
     ]
    },
    {
     "name": "stdout",
     "output_type": "stream",
     "text": [
      "Test Statistic:  0.006087366745920364\n",
      "p-value:  0.9330669330669331\n",
      "(200, 36)\n",
      "(200,)\n",
      "Fitted\n"
     ]
    },
    {
     "name": "stderr",
     "output_type": "stream",
     "text": [
      "\n",
      " 64%|███████████████████████████████████████████████████▊                             | 64/100 [31:38<17:47, 29.65s/it]\u001b[A"
     ]
    },
    {
     "name": "stdout",
     "output_type": "stream",
     "text": [
      "Test Statistic:  0.01755930820692919\n",
      "p-value:  0.00999000999000999\n",
      "(200, 36)\n",
      "(200,)\n",
      "Fitted\n"
     ]
    },
    {
     "name": "stderr",
     "output_type": "stream",
     "text": [
      "\n",
      " 65%|████████████████████████████████████████████████████▋                            | 65/100 [32:08<17:11, 29.48s/it]\u001b[A"
     ]
    },
    {
     "name": "stdout",
     "output_type": "stream",
     "text": [
      "Test Statistic:  0.004577596406250772\n",
      "p-value:  1.0\n",
      "(200, 36)\n",
      "(200,)\n",
      "Fitted\n"
     ]
    },
    {
     "name": "stderr",
     "output_type": "stream",
     "text": [
      "\n",
      " 66%|█████████████████████████████████████████████████████▍                           | 66/100 [32:36<16:36, 29.31s/it]\u001b[A"
     ]
    },
    {
     "name": "stdout",
     "output_type": "stream",
     "text": [
      "Test Statistic:  0.018369283780714896\n",
      "p-value:  0.005994005994005994\n",
      "(200, 36)\n",
      "(200,)\n",
      "Fitted\n"
     ]
    },
    {
     "name": "stderr",
     "output_type": "stream",
     "text": [
      "\n",
      " 67%|██████████████████████████████████████████████████████▎                          | 67/100 [33:06<16:09, 29.38s/it]\u001b[A"
     ]
    },
    {
     "name": "stdout",
     "output_type": "stream",
     "text": [
      "Test Statistic:  0.003519571175774394\n",
      "p-value:  1.0\n",
      "(200, 36)\n",
      "(200,)\n",
      "Fitted\n"
     ]
    },
    {
     "name": "stderr",
     "output_type": "stream",
     "text": [
      "\n",
      " 68%|███████████████████████████████████████████████████████                          | 68/100 [33:35<15:40, 29.39s/it]\u001b[A"
     ]
    },
    {
     "name": "stdout",
     "output_type": "stream",
     "text": [
      "Test Statistic:  0.007301981176619066\n",
      "p-value:  0.7992007992007992\n",
      "(200, 36)\n",
      "(200,)\n",
      "Fitted\n"
     ]
    },
    {
     "name": "stderr",
     "output_type": "stream",
     "text": [
      "\n",
      " 69%|███████████████████████████████████████████████████████▉                         | 69/100 [34:05<15:11, 29.39s/it]\u001b[A"
     ]
    },
    {
     "name": "stdout",
     "output_type": "stream",
     "text": [
      "Test Statistic:  0.0018269417204573868\n",
      "p-value:  1.0\n",
      "(200, 36)\n",
      "(200,)\n",
      "Fitted\n"
     ]
    },
    {
     "name": "stderr",
     "output_type": "stream",
     "text": [
      "\n",
      " 70%|████████████████████████████████████████████████████████▋                        | 70/100 [34:34<14:37, 29.24s/it]\u001b[A"
     ]
    },
    {
     "name": "stdout",
     "output_type": "stream",
     "text": [
      "Test Statistic:  0.002192469454259216\n",
      "p-value:  1.0\n",
      "(200, 36)\n",
      "(200,)\n",
      "Fitted\n"
     ]
    },
    {
     "name": "stderr",
     "output_type": "stream",
     "text": [
      "\n",
      " 71%|█████████████████████████████████████████████████████████▌                       | 71/100 [35:04<14:14, 29.48s/it]\u001b[A"
     ]
    },
    {
     "name": "stdout",
     "output_type": "stream",
     "text": [
      "Test Statistic:  0.004090216371188782\n",
      "p-value:  1.0\n",
      "(200, 36)\n",
      "(200,)\n",
      "Fitted\n"
     ]
    },
    {
     "name": "stderr",
     "output_type": "stream",
     "text": [
      "\n",
      " 72%|██████████████████████████████████████████████████████████▎                      | 72/100 [35:34<13:53, 29.78s/it]\u001b[A"
     ]
    },
    {
     "name": "stdout",
     "output_type": "stream",
     "text": [
      "Test Statistic:  0.00827197753291764\n",
      "p-value:  0.5054945054945055\n",
      "(200, 36)\n",
      "(200,)\n",
      "Fitted\n"
     ]
    },
    {
     "name": "stderr",
     "output_type": "stream",
     "text": [
      "\n",
      " 73%|███████████████████████████████████████████████████████████▏                     | 73/100 [36:03<13:16, 29.51s/it]\u001b[A"
     ]
    },
    {
     "name": "stdout",
     "output_type": "stream",
     "text": [
      "Test Statistic:  0.0062589841082102415\n",
      "p-value:  0.98001998001998\n",
      "(200, 36)\n",
      "(200,)\n",
      "Fitted\n"
     ]
    },
    {
     "name": "stderr",
     "output_type": "stream",
     "text": [
      "\n",
      " 74%|███████████████████████████████████████████████████████████▉                     | 74/100 [36:32<12:45, 29.44s/it]\u001b[A"
     ]
    },
    {
     "name": "stdout",
     "output_type": "stream",
     "text": [
      "Test Statistic:  0.0029469940007054163\n",
      "p-value:  1.0\n",
      "(200, 36)\n",
      "(200,)\n",
      "Fitted\n"
     ]
    },
    {
     "name": "stderr",
     "output_type": "stream",
     "text": [
      "\n",
      " 75%|████████████████████████████████████████████████████████████▊                    | 75/100 [37:02<12:15, 29.44s/it]\u001b[A"
     ]
    },
    {
     "name": "stdout",
     "output_type": "stream",
     "text": [
      "Test Statistic:  0.0024789864378702564\n",
      "p-value:  1.0\n",
      "(200, 36)\n",
      "(200,)\n",
      "Fitted\n"
     ]
    },
    {
     "name": "stderr",
     "output_type": "stream",
     "text": [
      "\n",
      " 76%|█████████████████████████████████████████████████████████████▌                   | 76/100 [37:31<11:45, 29.38s/it]\u001b[A"
     ]
    },
    {
     "name": "stdout",
     "output_type": "stream",
     "text": [
      "Test Statistic:  0.00943895026829844\n",
      "p-value:  0.3016983016983017\n",
      "(200, 36)\n",
      "(200,)\n",
      "Fitted\n"
     ]
    },
    {
     "name": "stderr",
     "output_type": "stream",
     "text": [
      "\n",
      " 77%|██████████████████████████████████████████████████████████████▎                  | 77/100 [38:00<11:15, 29.39s/it]\u001b[A"
     ]
    },
    {
     "name": "stdout",
     "output_type": "stream",
     "text": [
      "Test Statistic:  0.009438264784344286\n",
      "p-value:  0.21478521478521478\n",
      "(200, 36)\n",
      "(200,)\n",
      "Fitted\n"
     ]
    },
    {
     "name": "stderr",
     "output_type": "stream",
     "text": [
      "\n",
      " 78%|███████████████████████████████████████████████████████████████▏                 | 78/100 [38:30<10:50, 29.59s/it]\u001b[A"
     ]
    },
    {
     "name": "stdout",
     "output_type": "stream",
     "text": [
      "Test Statistic:  0.01391825231707633\n",
      "p-value:  0.058941058941058944\n",
      "(200, 36)\n",
      "(200,)\n",
      "Fitted\n"
     ]
    },
    {
     "name": "stderr",
     "output_type": "stream",
     "text": [
      "\n",
      " 79%|███████████████████████████████████████████████████████████████▉                 | 79/100 [39:03<10:37, 30.37s/it]\u001b[A"
     ]
    },
    {
     "name": "stdout",
     "output_type": "stream",
     "text": [
      "Test Statistic:  0.0023175729623384766\n",
      "p-value:  1.0\n",
      "(200, 36)\n",
      "(200,)\n",
      "Fitted\n"
     ]
    },
    {
     "name": "stderr",
     "output_type": "stream",
     "text": [
      "\n",
      " 80%|████████████████████████████████████████████████████████████████▊                | 80/100 [39:32<10:01, 30.07s/it]\u001b[A"
     ]
    },
    {
     "name": "stdout",
     "output_type": "stream",
     "text": [
      "Test Statistic:  0.005822828452414441\n",
      "p-value:  0.971028971028971\n",
      "(200, 36)\n",
      "(200,)\n",
      "Fitted\n"
     ]
    },
    {
     "name": "stderr",
     "output_type": "stream",
     "text": [
      "\n",
      " 81%|█████████████████████████████████████████████████████████████████▌               | 81/100 [40:02<09:27, 29.89s/it]\u001b[A"
     ]
    },
    {
     "name": "stdout",
     "output_type": "stream",
     "text": [
      "Test Statistic:  0.0067251840814172015\n",
      "p-value:  0.9110889110889111\n",
      "(200, 36)\n",
      "(200,)\n",
      "Fitted\n"
     ]
    },
    {
     "name": "stderr",
     "output_type": "stream",
     "text": [
      "\n",
      " 82%|██████████████████████████████████████████████████████████████████▍              | 82/100 [40:31<08:54, 29.72s/it]\u001b[A"
     ]
    },
    {
     "name": "stdout",
     "output_type": "stream",
     "text": [
      "Test Statistic:  0.021122111660403342\n",
      "p-value:  0.001998001998001998\n",
      "(200, 36)\n",
      "(200,)\n",
      "Fitted\n"
     ]
    },
    {
     "name": "stderr",
     "output_type": "stream",
     "text": [
      "\n",
      " 83%|███████████████████████████████████████████████████████████████████▏             | 83/100 [41:00<08:22, 29.56s/it]\u001b[A"
     ]
    },
    {
     "name": "stdout",
     "output_type": "stream",
     "text": [
      "Test Statistic:  0.002953855898761959\n",
      "p-value:  1.0\n",
      "(200, 36)\n",
      "(200,)\n",
      "Fitted\n"
     ]
    },
    {
     "name": "stderr",
     "output_type": "stream",
     "text": [
      "\n",
      " 84%|████████████████████████████████████████████████████████████████████             | 84/100 [41:29<07:51, 29.46s/it]\u001b[A"
     ]
    },
    {
     "name": "stdout",
     "output_type": "stream",
     "text": [
      "Test Statistic:  0.02262099965870057\n",
      "p-value:  0.002997002997002997\n",
      "(200, 36)\n",
      "(200,)\n",
      "Fitted\n"
     ]
    },
    {
     "name": "stderr",
     "output_type": "stream",
     "text": [
      "\n",
      " 85%|████████████████████████████████████████████████████████████████████▊            | 85/100 [41:59<07:21, 29.43s/it]\u001b[A"
     ]
    },
    {
     "name": "stdout",
     "output_type": "stream",
     "text": [
      "Test Statistic:  0.002699355585546459\n",
      "p-value:  1.0\n",
      "(200, 36)\n",
      "(200,)\n",
      "Fitted\n"
     ]
    },
    {
     "name": "stderr",
     "output_type": "stream",
     "text": [
      "\n",
      " 86%|█████████████████████████████████████████████████████████████████████▋           | 86/100 [42:28<06:49, 29.27s/it]\u001b[A"
     ]
    },
    {
     "name": "stdout",
     "output_type": "stream",
     "text": [
      "Test Statistic:  0.005081212929444523\n",
      "p-value:  1.0\n",
      "(200, 36)\n",
      "(200,)\n",
      "Fitted\n"
     ]
    },
    {
     "name": "stderr",
     "output_type": "stream",
     "text": [
      "\n",
      " 87%|██████████████████████████████████████████████████████████████████████▍          | 87/100 [42:57<06:21, 29.32s/it]\u001b[A"
     ]
    },
    {
     "name": "stdout",
     "output_type": "stream",
     "text": [
      "Test Statistic:  0.0023103017121238745\n",
      "p-value:  1.0\n",
      "(200, 36)\n",
      "(200,)\n",
      "Fitted\n"
     ]
    },
    {
     "name": "stderr",
     "output_type": "stream",
     "text": [
      "\n",
      " 88%|███████████████████████████████████████████████████████████████████████▎         | 88/100 [43:26<05:51, 29.33s/it]\u001b[A"
     ]
    },
    {
     "name": "stdout",
     "output_type": "stream",
     "text": [
      "Test Statistic:  0.004172983865948776\n",
      "p-value:  1.0\n",
      "(200, 36)\n",
      "(200,)\n",
      "Fitted\n"
     ]
    },
    {
     "name": "stderr",
     "output_type": "stream",
     "text": [
      "\n",
      " 89%|████████████████████████████████████████████████████████████████████████         | 89/100 [43:56<05:22, 29.35s/it]\u001b[A"
     ]
    },
    {
     "name": "stdout",
     "output_type": "stream",
     "text": [
      "Test Statistic:  0.0054303909361888\n",
      "p-value:  0.999000999000999\n",
      "(200, 36)\n",
      "(200,)\n",
      "Fitted\n"
     ]
    },
    {
     "name": "stderr",
     "output_type": "stream",
     "text": [
      "\n",
      " 90%|████████████████████████████████████████████████████████████████████████▉        | 90/100 [44:25<04:54, 29.43s/it]\u001b[A"
     ]
    },
    {
     "name": "stdout",
     "output_type": "stream",
     "text": [
      "Test Statistic:  0.013657650965444135\n",
      "p-value:  0.01998001998001998\n",
      "(200, 36)\n",
      "(200,)\n",
      "Fitted\n"
     ]
    },
    {
     "name": "stderr",
     "output_type": "stream",
     "text": [
      "\n",
      " 91%|█████████████████████████████████████████████████████████████████████████▋       | 91/100 [44:55<04:25, 29.46s/it]\u001b[A"
     ]
    },
    {
     "name": "stdout",
     "output_type": "stream",
     "text": [
      "Test Statistic:  0.006137568441600849\n",
      "p-value:  0.9250749250749251\n",
      "(200, 36)\n",
      "(200,)\n",
      "Fitted\n"
     ]
    },
    {
     "name": "stderr",
     "output_type": "stream",
     "text": [
      "\n",
      " 92%|██████████████████████████████████████████████████████████████████████████▌      | 92/100 [45:24<03:55, 29.48s/it]\u001b[A"
     ]
    },
    {
     "name": "stdout",
     "output_type": "stream",
     "text": [
      "Test Statistic:  0.007178485750990338\n",
      "p-value:  0.6723276723276723\n",
      "(200, 36)\n",
      "(200,)\n",
      "Fitted\n"
     ]
    },
    {
     "name": "stderr",
     "output_type": "stream",
     "text": [
      "\n",
      " 93%|███████████████████████████████████████████████████████████████████████████▎     | 93/100 [45:55<03:27, 29.69s/it]\u001b[A"
     ]
    },
    {
     "name": "stdout",
     "output_type": "stream",
     "text": [
      "Test Statistic:  0.007947698244965218\n",
      "p-value:  0.4065934065934066\n",
      "(200, 36)\n",
      "(200,)\n",
      "Fitted\n"
     ]
    },
    {
     "name": "stderr",
     "output_type": "stream",
     "text": [
      "\n",
      " 94%|████████████████████████████████████████████████████████████████████████████▏    | 94/100 [46:24<02:57, 29.54s/it]\u001b[A"
     ]
    },
    {
     "name": "stdout",
     "output_type": "stream",
     "text": [
      "Test Statistic:  0.00918057326996391\n",
      "p-value:  0.25674325674325676\n",
      "(200, 36)\n",
      "(200,)\n",
      "Fitted\n"
     ]
    },
    {
     "name": "stderr",
     "output_type": "stream",
     "text": [
      "\n",
      " 95%|████████████████████████████████████████████████████████████████████████████▉    | 95/100 [46:53<02:27, 29.60s/it]\u001b[A"
     ]
    },
    {
     "name": "stdout",
     "output_type": "stream",
     "text": [
      "Test Statistic:  0.0048189768896937935\n",
      "p-value:  1.0\n",
      "(200, 36)\n",
      "(200,)\n",
      "Fitted\n"
     ]
    },
    {
     "name": "stderr",
     "output_type": "stream",
     "text": [
      "\n",
      " 96%|█████████████████████████████████████████████████████████████████████████████▊   | 96/100 [47:23<01:58, 29.58s/it]\u001b[A"
     ]
    },
    {
     "name": "stdout",
     "output_type": "stream",
     "text": [
      "Test Statistic:  0.0028400475278245185\n",
      "p-value:  1.0\n",
      "(200, 36)\n",
      "(200,)\n",
      "Fitted\n"
     ]
    },
    {
     "name": "stderr",
     "output_type": "stream",
     "text": [
      "\n",
      " 97%|██████████████████████████████████████████████████████████████████████████████▌  | 97/100 [47:54<01:30, 30.00s/it]\u001b[A"
     ]
    },
    {
     "name": "stdout",
     "output_type": "stream",
     "text": [
      "Test Statistic:  0.00184275137644474\n",
      "p-value:  1.0\n",
      "(200, 36)\n",
      "(200,)\n",
      "Fitted\n"
     ]
    },
    {
     "name": "stderr",
     "output_type": "stream",
     "text": [
      "\n",
      " 98%|███████████████████████████████████████████████████████████████████████████████▍ | 98/100 [48:27<01:01, 30.76s/it]\u001b[A"
     ]
    },
    {
     "name": "stdout",
     "output_type": "stream",
     "text": [
      "Test Statistic:  0.0037136353977211822\n",
      "p-value:  1.0\n",
      "(200, 36)\n",
      "(200,)\n",
      "Fitted\n"
     ]
    },
    {
     "name": "stderr",
     "output_type": "stream",
     "text": [
      "\n",
      " 99%|████████████████████████████████████████████████████████████████████████████████▏| 99/100 [49:01<00:31, 31.91s/it]\u001b[A"
     ]
    },
    {
     "name": "stdout",
     "output_type": "stream",
     "text": [
      "Test Statistic:  0.0015785478627317051\n",
      "p-value:  1.0\n",
      "(200, 36)\n",
      "(200,)\n",
      "Fitted\n"
     ]
    },
    {
     "name": "stderr",
     "output_type": "stream",
     "text": [
      "\n",
      "100%|████████████████████████████████████████████████████████████████████████████████| 100/100 [49:33<00:00, 29.74s/it]\u001b[A\n",
      " 90%|███████████████████████████████████████████████████████████████████▌       | 18/20 [15:44:22<1:40:48, 3024.19s/it]\n",
      "  0%|                                                                                          | 0/100 [00:00<?, ?it/s]\u001b[A"
     ]
    },
    {
     "name": "stdout",
     "output_type": "stream",
     "text": [
      "Test Statistic:  0.0085164509320238\n",
      "p-value:  0.45054945054945056\n",
      "dimension 19\n",
      "circle\n",
      "(200, 38)\n",
      "(200,)\n",
      "Fitted\n"
     ]
    },
    {
     "name": "stderr",
     "output_type": "stream",
     "text": [
      "\n",
      "  1%|▊                                                                                 | 1/100 [00:29<48:49, 29.59s/it]\u001b[A"
     ]
    },
    {
     "name": "stdout",
     "output_type": "stream",
     "text": [
      "Test Statistic:  0.013715540643538304\n",
      "p-value:  0.03396603396603397\n",
      "(200, 38)\n",
      "(200,)\n",
      "Fitted\n"
     ]
    },
    {
     "name": "stderr",
     "output_type": "stream",
     "text": [
      "\n",
      "  2%|█▋                                                                                | 2/100 [01:00<48:52, 29.93s/it]\u001b[A"
     ]
    },
    {
     "name": "stdout",
     "output_type": "stream",
     "text": [
      "Test Statistic:  0.0060247967304614125\n",
      "p-value:  0.9760239760239761\n",
      "(200, 38)\n",
      "(200,)\n",
      "Fitted\n"
     ]
    },
    {
     "name": "stderr",
     "output_type": "stream",
     "text": [
      "\n",
      "  3%|██▍                                                                               | 3/100 [01:30<48:19, 29.89s/it]\u001b[A"
     ]
    },
    {
     "name": "stdout",
     "output_type": "stream",
     "text": [
      "Test Statistic:  0.0029287166482115934\n",
      "p-value:  1.0\n",
      "(200, 38)\n",
      "(200,)\n",
      "Fitted\n"
     ]
    },
    {
     "name": "stderr",
     "output_type": "stream",
     "text": [
      "\n",
      "  4%|███▎                                                                              | 4/100 [01:59<47:31, 29.71s/it]\u001b[A"
     ]
    },
    {
     "name": "stdout",
     "output_type": "stream",
     "text": [
      "Test Statistic:  0.0033464996811839454\n",
      "p-value:  1.0\n",
      "(200, 38)\n",
      "(200,)\n",
      "Fitted\n"
     ]
    },
    {
     "name": "stderr",
     "output_type": "stream",
     "text": [
      "\n",
      "  5%|████                                                                              | 5/100 [02:28<46:39, 29.47s/it]\u001b[A"
     ]
    },
    {
     "name": "stdout",
     "output_type": "stream",
     "text": [
      "Test Statistic:  0.008962398670369964\n",
      "p-value:  0.34665334665334663\n",
      "(200, 38)\n",
      "(200,)\n",
      "Fitted\n"
     ]
    },
    {
     "name": "stderr",
     "output_type": "stream",
     "text": [
      "\n",
      "  6%|████▉                                                                             | 6/100 [02:57<46:07, 29.45s/it]\u001b[A"
     ]
    },
    {
     "name": "stdout",
     "output_type": "stream",
     "text": [
      "Test Statistic:  0.0068715051806801375\n",
      "p-value:  0.7882117882117882\n",
      "(200, 38)\n",
      "(200,)\n",
      "Fitted\n"
     ]
    },
    {
     "name": "stderr",
     "output_type": "stream",
     "text": [
      "\n",
      "  7%|█████▋                                                                            | 7/100 [03:26<45:30, 29.36s/it]\u001b[A"
     ]
    },
    {
     "name": "stdout",
     "output_type": "stream",
     "text": [
      "Test Statistic:  0.003689641875101235\n",
      "p-value:  1.0\n",
      "(200, 38)\n",
      "(200,)\n",
      "Fitted\n"
     ]
    },
    {
     "name": "stderr",
     "output_type": "stream",
     "text": [
      "\n",
      "  8%|██████▌                                                                           | 8/100 [03:56<45:15, 29.51s/it]\u001b[A"
     ]
    },
    {
     "name": "stdout",
     "output_type": "stream",
     "text": [
      "Test Statistic:  0.004992116759435783\n",
      "p-value:  0.998001998001998\n",
      "(200, 38)\n",
      "(200,)\n",
      "Fitted\n"
     ]
    },
    {
     "name": "stderr",
     "output_type": "stream",
     "text": [
      "\n",
      "  9%|███████▍                                                                          | 9/100 [04:26<44:55, 29.62s/it]\u001b[A"
     ]
    },
    {
     "name": "stdout",
     "output_type": "stream",
     "text": [
      "Test Statistic:  0.002989647243333171\n",
      "p-value:  1.0\n",
      "(200, 38)\n",
      "(200,)\n",
      "Fitted\n"
     ]
    },
    {
     "name": "stderr",
     "output_type": "stream",
     "text": [
      "\n",
      " 10%|████████                                                                         | 10/100 [04:58<45:17, 30.19s/it]\u001b[A"
     ]
    },
    {
     "name": "stdout",
     "output_type": "stream",
     "text": [
      "Test Statistic:  0.008330514005052914\n",
      "p-value:  0.5624375624375625\n",
      "(200, 38)\n",
      "(200,)\n",
      "Fitted\n"
     ]
    },
    {
     "name": "stderr",
     "output_type": "stream",
     "text": [
      "\n",
      " 11%|████████▉                                                                        | 11/100 [05:28<44:51, 30.24s/it]\u001b[A"
     ]
    },
    {
     "name": "stdout",
     "output_type": "stream",
     "text": [
      "Test Statistic:  0.01785312051934207\n",
      "p-value:  0.013986013986013986\n",
      "(200, 38)\n",
      "(200,)\n",
      "Fitted\n"
     ]
    },
    {
     "name": "stderr",
     "output_type": "stream",
     "text": [
      "\n",
      " 12%|█████████▋                                                                       | 12/100 [05:58<44:23, 30.27s/it]\u001b[A"
     ]
    },
    {
     "name": "stdout",
     "output_type": "stream",
     "text": [
      "Test Statistic:  0.008634313633867019\n",
      "p-value:  0.45254745254745254\n",
      "(200, 38)\n",
      "(200,)\n",
      "Fitted\n"
     ]
    },
    {
     "name": "stderr",
     "output_type": "stream",
     "text": [
      "\n",
      " 13%|██████████▌                                                                      | 13/100 [06:27<43:22, 29.91s/it]\u001b[A"
     ]
    },
    {
     "name": "stdout",
     "output_type": "stream",
     "text": [
      "Test Statistic:  0.00508332801597966\n",
      "p-value:  0.993006993006993\n",
      "(200, 38)\n",
      "(200,)\n",
      "Fitted\n"
     ]
    },
    {
     "name": "stderr",
     "output_type": "stream",
     "text": [
      "\n",
      " 14%|███████████▎                                                                     | 14/100 [06:56<42:25, 29.59s/it]\u001b[A"
     ]
    },
    {
     "name": "stdout",
     "output_type": "stream",
     "text": [
      "Test Statistic:  0.0017559724565102686\n",
      "p-value:  1.0\n",
      "(200, 38)\n",
      "(200,)\n",
      "Fitted\n"
     ]
    },
    {
     "name": "stderr",
     "output_type": "stream",
     "text": [
      "\n",
      " 15%|████████████▏                                                                    | 15/100 [07:25<41:44, 29.46s/it]\u001b[A"
     ]
    },
    {
     "name": "stdout",
     "output_type": "stream",
     "text": [
      "Test Statistic:  0.004766891070276058\n",
      "p-value:  1.0\n",
      "(200, 38)\n",
      "(200,)\n",
      "Fitted\n"
     ]
    },
    {
     "name": "stderr",
     "output_type": "stream",
     "text": [
      "\n",
      " 16%|████████████▉                                                                    | 16/100 [07:55<41:23, 29.57s/it]\u001b[A"
     ]
    },
    {
     "name": "stdout",
     "output_type": "stream",
     "text": [
      "Test Statistic:  0.003978492066056827\n",
      "p-value:  1.0\n",
      "(200, 38)\n",
      "(200,)\n",
      "Fitted\n"
     ]
    },
    {
     "name": "stderr",
     "output_type": "stream",
     "text": [
      "\n",
      " 17%|█████████████▊                                                                   | 17/100 [08:25<40:52, 29.54s/it]\u001b[A"
     ]
    },
    {
     "name": "stdout",
     "output_type": "stream",
     "text": [
      "Test Statistic:  0.005401863293406639\n",
      "p-value:  0.998001998001998\n",
      "(200, 38)\n",
      "(200,)\n",
      "Fitted\n"
     ]
    },
    {
     "name": "stderr",
     "output_type": "stream",
     "text": [
      "\n",
      " 18%|██████████████▌                                                                  | 18/100 [08:54<40:26, 29.59s/it]\u001b[A"
     ]
    },
    {
     "name": "stdout",
     "output_type": "stream",
     "text": [
      "Test Statistic:  0.012481940921532986\n",
      "p-value:  0.06293706293706294\n",
      "(200, 38)\n",
      "(200,)\n",
      "Fitted\n"
     ]
    },
    {
     "name": "stderr",
     "output_type": "stream",
     "text": [
      "\n",
      " 19%|███████████████▍                                                                 | 19/100 [09:33<43:41, 32.37s/it]\u001b[A"
     ]
    },
    {
     "name": "stdout",
     "output_type": "stream",
     "text": [
      "Test Statistic:  0.0059162437857332995\n",
      "p-value:  0.985014985014985\n",
      "(200, 38)\n",
      "(200,)\n",
      "Fitted\n"
     ]
    },
    {
     "name": "stderr",
     "output_type": "stream",
     "text": [
      "\n",
      " 20%|████████████████▏                                                                | 20/100 [10:03<42:08, 31.61s/it]\u001b[A"
     ]
    },
    {
     "name": "stdout",
     "output_type": "stream",
     "text": [
      "Test Statistic:  0.0032127502232940364\n",
      "p-value:  1.0\n",
      "(200, 38)\n",
      "(200,)\n",
      "Fitted\n"
     ]
    },
    {
     "name": "stderr",
     "output_type": "stream",
     "text": [
      "\n",
      " 21%|█████████████████                                                                | 21/100 [10:32<40:38, 30.87s/it]\u001b[A"
     ]
    },
    {
     "name": "stdout",
     "output_type": "stream",
     "text": [
      "Test Statistic:  0.002493923577339907\n",
      "p-value:  1.0\n",
      "(200, 38)\n",
      "(200,)\n",
      "Fitted\n"
     ]
    },
    {
     "name": "stderr",
     "output_type": "stream",
     "text": [
      "\n",
      " 22%|█████████████████▊                                                               | 22/100 [11:02<39:40, 30.52s/it]\u001b[A"
     ]
    },
    {
     "name": "stdout",
     "output_type": "stream",
     "text": [
      "Test Statistic:  0.02123399734742404\n",
      "p-value:  0.002997002997002997\n",
      "(200, 38)\n",
      "(200,)\n",
      "Fitted\n"
     ]
    },
    {
     "name": "stderr",
     "output_type": "stream",
     "text": [
      "\n",
      " 23%|██████████████████▋                                                              | 23/100 [11:31<38:36, 30.08s/it]\u001b[A"
     ]
    },
    {
     "name": "stdout",
     "output_type": "stream",
     "text": [
      "Test Statistic:  0.002599371716345389\n",
      "p-value:  1.0\n",
      "(200, 38)\n",
      "(200,)\n",
      "Fitted\n"
     ]
    },
    {
     "name": "stderr",
     "output_type": "stream",
     "text": [
      "\n",
      " 24%|███████████████████▍                                                             | 24/100 [12:00<37:44, 29.79s/it]\u001b[A"
     ]
    },
    {
     "name": "stdout",
     "output_type": "stream",
     "text": [
      "Test Statistic:  0.011394573148265641\n",
      "p-value:  0.09290709290709291\n",
      "(200, 38)\n",
      "(200,)\n",
      "Fitted\n"
     ]
    },
    {
     "name": "stderr",
     "output_type": "stream",
     "text": [
      "\n",
      " 25%|████████████████████▎                                                            | 25/100 [12:29<37:00, 29.60s/it]\u001b[A"
     ]
    },
    {
     "name": "stdout",
     "output_type": "stream",
     "text": [
      "Test Statistic:  0.003982367931968711\n",
      "p-value:  1.0\n",
      "(200, 38)\n",
      "(200,)\n",
      "Fitted\n"
     ]
    },
    {
     "name": "stderr",
     "output_type": "stream",
     "text": [
      "\n",
      " 26%|█████████████████████                                                            | 26/100 [12:59<36:32, 29.63s/it]\u001b[A"
     ]
    },
    {
     "name": "stdout",
     "output_type": "stream",
     "text": [
      "Test Statistic:  0.003202160039641133\n",
      "p-value:  1.0\n",
      "(200, 38)\n",
      "(200,)\n",
      "Fitted\n"
     ]
    },
    {
     "name": "stderr",
     "output_type": "stream",
     "text": [
      "\n",
      " 27%|█████████████████████▊                                                           | 27/100 [13:28<35:52, 29.48s/it]\u001b[A"
     ]
    },
    {
     "name": "stdout",
     "output_type": "stream",
     "text": [
      "Test Statistic:  0.0062412032602191525\n",
      "p-value:  0.932067932067932\n",
      "(200, 38)\n",
      "(200,)\n",
      "Fitted\n"
     ]
    },
    {
     "name": "stderr",
     "output_type": "stream",
     "text": [
      "\n",
      " 28%|██████████████████████▋                                                          | 28/100 [13:58<35:36, 29.68s/it]\u001b[A"
     ]
    },
    {
     "name": "stdout",
     "output_type": "stream",
     "text": [
      "Test Statistic:  0.0017245663966231062\n",
      "p-value:  1.0\n",
      "(200, 38)\n",
      "(200,)\n",
      "Fitted\n"
     ]
    },
    {
     "name": "stderr",
     "output_type": "stream",
     "text": [
      "\n",
      " 29%|███████████████████████▍                                                         | 29/100 [14:27<34:44, 29.37s/it]\u001b[A"
     ]
    },
    {
     "name": "stdout",
     "output_type": "stream",
     "text": [
      "Test Statistic:  0.004375383269429434\n",
      "p-value:  1.0\n",
      "(200, 38)\n",
      "(200,)\n",
      "Fitted\n"
     ]
    },
    {
     "name": "stderr",
     "output_type": "stream",
     "text": [
      "\n",
      " 30%|████████████████████████▎                                                        | 30/100 [14:56<34:18, 29.40s/it]\u001b[A"
     ]
    },
    {
     "name": "stdout",
     "output_type": "stream",
     "text": [
      "Test Statistic:  0.0025586488069245794\n",
      "p-value:  1.0\n",
      "(200, 38)\n",
      "(200,)\n",
      "Fitted\n"
     ]
    },
    {
     "name": "stderr",
     "output_type": "stream",
     "text": [
      "\n",
      " 31%|█████████████████████████                                                        | 31/100 [15:25<33:34, 29.20s/it]\u001b[A"
     ]
    },
    {
     "name": "stdout",
     "output_type": "stream",
     "text": [
      "Test Statistic:  0.002915084128568557\n",
      "p-value:  1.0\n",
      "(200, 38)\n",
      "(200,)\n",
      "Fitted\n"
     ]
    },
    {
     "name": "stderr",
     "output_type": "stream",
     "text": [
      "\n",
      " 32%|█████████████████████████▉                                                       | 32/100 [15:55<33:17, 29.37s/it]\u001b[A"
     ]
    },
    {
     "name": "stdout",
     "output_type": "stream",
     "text": [
      "Test Statistic:  0.00296194037643005\n",
      "p-value:  1.0\n",
      "(200, 38)\n",
      "(200,)\n",
      "Fitted\n"
     ]
    },
    {
     "name": "stderr",
     "output_type": "stream",
     "text": [
      "\n",
      " 33%|██████████████████████████▋                                                      | 33/100 [16:25<32:53, 29.46s/it]\u001b[A"
     ]
    },
    {
     "name": "stdout",
     "output_type": "stream",
     "text": [
      "Test Statistic:  0.007643145026945408\n",
      "p-value:  0.4835164835164835\n",
      "(200, 38)\n",
      "(200,)\n",
      "Fitted\n"
     ]
    },
    {
     "name": "stderr",
     "output_type": "stream",
     "text": [
      "\n",
      " 34%|███████████████████████████▌                                                     | 34/100 [16:54<32:17, 29.35s/it]\u001b[A"
     ]
    },
    {
     "name": "stdout",
     "output_type": "stream",
     "text": [
      "Test Statistic:  0.006015824852699914\n",
      "p-value:  0.968031968031968\n",
      "(200, 38)\n",
      "(200,)\n",
      "Fitted\n"
     ]
    },
    {
     "name": "stderr",
     "output_type": "stream",
     "text": [
      "\n",
      " 35%|████████████████████████████▎                                                    | 35/100 [17:23<31:40, 29.24s/it]\u001b[A"
     ]
    },
    {
     "name": "stdout",
     "output_type": "stream",
     "text": [
      "Test Statistic:  0.003342838083955968\n",
      "p-value:  1.0\n",
      "(200, 38)\n",
      "(200,)\n",
      "Fitted\n"
     ]
    },
    {
     "name": "stderr",
     "output_type": "stream",
     "text": [
      "\n",
      " 36%|█████████████████████████████▏                                                   | 36/100 [17:52<31:09, 29.21s/it]\u001b[A"
     ]
    },
    {
     "name": "stdout",
     "output_type": "stream",
     "text": [
      "Test Statistic:  0.006466630437617749\n",
      "p-value:  0.8451548451548452\n",
      "(200, 38)\n",
      "(200,)\n",
      "Fitted\n"
     ]
    },
    {
     "name": "stderr",
     "output_type": "stream",
     "text": [
      "\n",
      " 37%|█████████████████████████████▉                                                   | 37/100 [18:21<30:38, 29.18s/it]\u001b[A"
     ]
    },
    {
     "name": "stdout",
     "output_type": "stream",
     "text": [
      "Test Statistic:  0.004251331313642859\n",
      "p-value:  1.0\n",
      "(200, 38)\n",
      "(200,)\n",
      "Fitted\n"
     ]
    },
    {
     "name": "stderr",
     "output_type": "stream",
     "text": [
      "\n",
      " 38%|██████████████████████████████▊                                                  | 38/100 [18:50<30:07, 29.15s/it]\u001b[A"
     ]
    },
    {
     "name": "stdout",
     "output_type": "stream",
     "text": [
      "Test Statistic:  0.017310534939670164\n",
      "p-value:  0.005994005994005994\n",
      "(200, 38)\n",
      "(200,)\n",
      "Fitted\n"
     ]
    },
    {
     "name": "stderr",
     "output_type": "stream",
     "text": [
      "\n",
      " 39%|███████████████████████████████▌                                                 | 39/100 [19:24<30:59, 30.49s/it]\u001b[A"
     ]
    },
    {
     "name": "stdout",
     "output_type": "stream",
     "text": [
      "Test Statistic:  0.006513152459483584\n",
      "p-value:  0.9170829170829171\n",
      "(200, 38)\n",
      "(200,)\n",
      "Fitted\n"
     ]
    },
    {
     "name": "stderr",
     "output_type": "stream",
     "text": [
      "\n",
      " 40%|████████████████████████████████▍                                                | 40/100 [19:53<30:18, 30.31s/it]\u001b[A"
     ]
    },
    {
     "name": "stdout",
     "output_type": "stream",
     "text": [
      "Test Statistic:  0.009398217252118979\n",
      "p-value:  0.2987012987012987\n",
      "(200, 38)\n",
      "(200,)\n",
      "Fitted\n"
     ]
    },
    {
     "name": "stderr",
     "output_type": "stream",
     "text": [
      "\n",
      " 41%|█████████████████████████████████▏                                               | 41/100 [20:23<29:36, 30.12s/it]\u001b[A"
     ]
    },
    {
     "name": "stdout",
     "output_type": "stream",
     "text": [
      "Test Statistic:  0.012336610330499043\n",
      "p-value:  0.05194805194805195\n",
      "(200, 38)\n",
      "(200,)\n",
      "Fitted\n"
     ]
    },
    {
     "name": "stderr",
     "output_type": "stream",
     "text": [
      "\n",
      " 42%|██████████████████████████████████                                               | 42/100 [20:56<29:54, 30.94s/it]\u001b[A"
     ]
    },
    {
     "name": "stdout",
     "output_type": "stream",
     "text": [
      "Test Statistic:  0.004052812066570488\n",
      "p-value:  1.0\n",
      "(200, 38)\n",
      "(200,)\n",
      "Fitted\n"
     ]
    },
    {
     "name": "stderr",
     "output_type": "stream",
     "text": [
      "\n",
      " 43%|██████████████████████████████████▊                                              | 43/100 [21:25<28:45, 30.28s/it]\u001b[A"
     ]
    },
    {
     "name": "stdout",
     "output_type": "stream",
     "text": [
      "Test Statistic:  0.006603401343903803\n",
      "p-value:  0.8981018981018981\n",
      "(200, 38)\n",
      "(200,)\n",
      "Fitted\n"
     ]
    },
    {
     "name": "stderr",
     "output_type": "stream",
     "text": [
      "\n",
      " 44%|███████████████████████████████████▋                                             | 44/100 [21:54<28:07, 30.13s/it]\u001b[A"
     ]
    },
    {
     "name": "stdout",
     "output_type": "stream",
     "text": [
      "Test Statistic:  0.002020092328662959\n",
      "p-value:  1.0\n",
      "(200, 38)\n",
      "(200,)\n",
      "Fitted\n"
     ]
    },
    {
     "name": "stderr",
     "output_type": "stream",
     "text": [
      "\n",
      " 45%|████████████████████████████████████▍                                            | 45/100 [22:24<27:25, 29.91s/it]\u001b[A"
     ]
    },
    {
     "name": "stdout",
     "output_type": "stream",
     "text": [
      "Test Statistic:  0.003405467704460041\n",
      "p-value:  1.0\n",
      "(200, 38)\n",
      "(200,)\n",
      "Fitted\n"
     ]
    },
    {
     "name": "stderr",
     "output_type": "stream",
     "text": [
      "\n",
      " 46%|█████████████████████████████████████▎                                           | 46/100 [22:53<26:42, 29.68s/it]\u001b[A"
     ]
    },
    {
     "name": "stdout",
     "output_type": "stream",
     "text": [
      "Test Statistic:  0.02668161868286556\n",
      "p-value:  0.000999000999000999\n",
      "(200, 38)\n",
      "(200,)\n",
      "Fitted\n"
     ]
    },
    {
     "name": "stderr",
     "output_type": "stream",
     "text": [
      "\n",
      " 47%|██████████████████████████████████████                                           | 47/100 [23:22<26:08, 29.60s/it]\u001b[A"
     ]
    },
    {
     "name": "stdout",
     "output_type": "stream",
     "text": [
      "Test Statistic:  0.01152740936795238\n",
      "p-value:  0.054945054945054944\n",
      "(200, 38)\n",
      "(200,)\n",
      "Fitted\n"
     ]
    },
    {
     "name": "stderr",
     "output_type": "stream",
     "text": [
      "\n",
      " 48%|██████████████████████████████████████▉                                          | 48/100 [23:52<25:33, 29.48s/it]\u001b[A"
     ]
    },
    {
     "name": "stdout",
     "output_type": "stream",
     "text": [
      "Test Statistic:  0.003592611541576307\n",
      "p-value:  1.0\n",
      "(200, 38)\n",
      "(200,)\n",
      "Fitted\n"
     ]
    },
    {
     "name": "stderr",
     "output_type": "stream",
     "text": [
      "\n",
      " 49%|███████████████████████████████████████▋                                         | 49/100 [24:22<25:12, 29.65s/it]\u001b[A"
     ]
    },
    {
     "name": "stdout",
     "output_type": "stream",
     "text": [
      "Test Statistic:  0.0022777847209812796\n",
      "p-value:  1.0\n",
      "(200, 38)\n",
      "(200,)\n",
      "Fitted\n"
     ]
    },
    {
     "name": "stderr",
     "output_type": "stream",
     "text": [
      "\n",
      " 50%|████████████████████████████████████████▌                                        | 50/100 [24:51<24:37, 29.55s/it]\u001b[A"
     ]
    },
    {
     "name": "stdout",
     "output_type": "stream",
     "text": [
      "Test Statistic:  0.029312543867641594\n",
      "p-value:  0.000999000999000999\n",
      "(200, 38)\n",
      "(200,)\n",
      "Fitted\n"
     ]
    },
    {
     "name": "stderr",
     "output_type": "stream",
     "text": [
      "\n",
      " 51%|█████████████████████████████████████████▎                                       | 51/100 [25:20<24:01, 29.42s/it]\u001b[A"
     ]
    },
    {
     "name": "stdout",
     "output_type": "stream",
     "text": [
      "Test Statistic:  0.007520926335070843\n",
      "p-value:  0.7482517482517482\n",
      "(200, 38)\n",
      "(200,)\n",
      "Fitted\n"
     ]
    },
    {
     "name": "stderr",
     "output_type": "stream",
     "text": [
      "\n",
      " 52%|██████████████████████████████████████████                                       | 52/100 [25:50<23:34, 29.47s/it]\u001b[A"
     ]
    },
    {
     "name": "stdout",
     "output_type": "stream",
     "text": [
      "Test Statistic:  0.010380721278984817\n",
      "p-value:  0.13186813186813187\n",
      "(200, 38)\n",
      "(200,)\n",
      "Fitted\n"
     ]
    },
    {
     "name": "stderr",
     "output_type": "stream",
     "text": [
      "\n",
      " 53%|██████████████████████████████████████████▉                                      | 53/100 [26:19<23:07, 29.52s/it]\u001b[A"
     ]
    },
    {
     "name": "stdout",
     "output_type": "stream",
     "text": [
      "Test Statistic:  0.016030636166044943\n",
      "p-value:  0.016983016983016984\n",
      "(200, 38)\n",
      "(200,)\n",
      "Fitted\n"
     ]
    },
    {
     "name": "stderr",
     "output_type": "stream",
     "text": [
      "\n",
      " 54%|███████████████████████████████████████████▋                                     | 54/100 [26:49<22:36, 29.50s/it]\u001b[A"
     ]
    },
    {
     "name": "stdout",
     "output_type": "stream",
     "text": [
      "Test Statistic:  0.031700329686161544\n",
      "p-value:  0.000999000999000999\n",
      "(200, 38)\n",
      "(200,)\n",
      "Fitted\n"
     ]
    },
    {
     "name": "stderr",
     "output_type": "stream",
     "text": [
      "\n",
      " 55%|████████████████████████████████████████████▌                                    | 55/100 [27:19<22:15, 29.67s/it]\u001b[A"
     ]
    },
    {
     "name": "stdout",
     "output_type": "stream",
     "text": [
      "Test Statistic:  0.0028121115628968463\n",
      "p-value:  1.0\n",
      "(200, 38)\n",
      "(200,)\n",
      "Fitted\n"
     ]
    },
    {
     "name": "stderr",
     "output_type": "stream",
     "text": [
      "\n",
      " 56%|█████████████████████████████████████████████▎                                   | 56/100 [27:48<21:37, 29.49s/it]\u001b[A"
     ]
    },
    {
     "name": "stdout",
     "output_type": "stream",
     "text": [
      "Test Statistic:  0.008912916840091545\n",
      "p-value:  0.35564435564435565\n",
      "(200, 38)\n",
      "(200,)\n",
      "Fitted\n"
     ]
    },
    {
     "name": "stderr",
     "output_type": "stream",
     "text": [
      "\n",
      " 57%|██████████████████████████████████████████████▏                                  | 57/100 [28:17<21:06, 29.46s/it]\u001b[A"
     ]
    },
    {
     "name": "stdout",
     "output_type": "stream",
     "text": [
      "Test Statistic:  0.002912540277895448\n",
      "p-value:  1.0\n",
      "(200, 38)\n",
      "(200,)\n",
      "Fitted\n"
     ]
    },
    {
     "name": "stderr",
     "output_type": "stream",
     "text": [
      "\n",
      " 58%|██████████████████████████████████████████████▉                                  | 58/100 [28:47<20:43, 29.61s/it]\u001b[A"
     ]
    },
    {
     "name": "stdout",
     "output_type": "stream",
     "text": [
      "Test Statistic:  0.02931406882064247\n",
      "p-value:  0.000999000999000999\n",
      "(200, 38)\n",
      "(200,)\n",
      "Fitted\n"
     ]
    },
    {
     "name": "stderr",
     "output_type": "stream",
     "text": [
      "\n",
      " 59%|███████████████████████████████████████████████▊                                 | 59/100 [29:20<20:54, 30.59s/it]\u001b[A"
     ]
    },
    {
     "name": "stdout",
     "output_type": "stream",
     "text": [
      "Test Statistic:  0.0069948897892037065\n",
      "p-value:  0.9400599400599401\n",
      "(200, 38)\n",
      "(200,)\n",
      "Fitted\n"
     ]
    },
    {
     "name": "stderr",
     "output_type": "stream",
     "text": [
      "\n",
      " 60%|████████████████████████████████████████████████▌                                | 60/100 [29:49<20:07, 30.19s/it]\u001b[A"
     ]
    },
    {
     "name": "stdout",
     "output_type": "stream",
     "text": [
      "Test Statistic:  0.007049097755058353\n",
      "p-value:  0.7142857142857143\n",
      "(200, 38)\n",
      "(200,)\n",
      "Fitted\n"
     ]
    },
    {
     "name": "stderr",
     "output_type": "stream",
     "text": [
      "\n",
      " 61%|█████████████████████████████████████████████████▍                               | 61/100 [30:19<19:27, 29.92s/it]\u001b[A"
     ]
    },
    {
     "name": "stdout",
     "output_type": "stream",
     "text": [
      "Test Statistic:  0.011501665456285615\n",
      "p-value:  0.0979020979020979\n",
      "(200, 38)\n",
      "(200,)\n",
      "Fitted\n"
     ]
    },
    {
     "name": "stderr",
     "output_type": "stream",
     "text": [
      "\n",
      " 62%|██████████████████████████████████████████████████▏                              | 62/100 [30:48<18:43, 29.57s/it]\u001b[A"
     ]
    },
    {
     "name": "stdout",
     "output_type": "stream",
     "text": [
      "Test Statistic:  0.00716793032511831\n",
      "p-value:  0.6633366633366633\n",
      "(200, 38)\n",
      "(200,)\n",
      "Fitted\n"
     ]
    },
    {
     "name": "stderr",
     "output_type": "stream",
     "text": [
      "\n",
      " 63%|███████████████████████████████████████████████████                              | 63/100 [31:17<18:13, 29.55s/it]\u001b[A"
     ]
    },
    {
     "name": "stdout",
     "output_type": "stream",
     "text": [
      "Test Statistic:  0.0021540598519431686\n",
      "p-value:  1.0\n",
      "(200, 38)\n",
      "(200,)\n",
      "Fitted\n"
     ]
    },
    {
     "name": "stderr",
     "output_type": "stream",
     "text": [
      "\n",
      " 64%|███████████████████████████████████████████████████▊                             | 64/100 [31:46<17:42, 29.51s/it]\u001b[A"
     ]
    },
    {
     "name": "stdout",
     "output_type": "stream",
     "text": [
      "Test Statistic:  0.005893973301198563\n",
      "p-value:  0.9330669330669331\n",
      "(200, 38)\n",
      "(200,)\n",
      "Fitted\n"
     ]
    },
    {
     "name": "stderr",
     "output_type": "stream",
     "text": [
      "\n",
      " 65%|████████████████████████████████████████████████████▋                            | 65/100 [32:15<17:07, 29.36s/it]\u001b[A"
     ]
    },
    {
     "name": "stdout",
     "output_type": "stream",
     "text": [
      "Test Statistic:  0.004550598025926278\n",
      "p-value:  1.0\n",
      "(200, 38)\n",
      "(200,)\n",
      "Fitted\n"
     ]
    },
    {
     "name": "stderr",
     "output_type": "stream",
     "text": [
      "\n",
      " 66%|█████████████████████████████████████████████████████▍                           | 66/100 [32:45<16:35, 29.28s/it]\u001b[A"
     ]
    },
    {
     "name": "stdout",
     "output_type": "stream",
     "text": [
      "Test Statistic:  0.008173428108427472\n",
      "p-value:  0.6283716283716284\n",
      "(200, 38)\n",
      "(200,)\n",
      "Fitted\n"
     ]
    },
    {
     "name": "stderr",
     "output_type": "stream",
     "text": [
      "\n",
      " 67%|██████████████████████████████████████████████████████▎                          | 67/100 [33:14<16:06, 29.30s/it]\u001b[A"
     ]
    },
    {
     "name": "stdout",
     "output_type": "stream",
     "text": [
      "Test Statistic:  0.010497643344610674\n",
      "p-value:  0.16383616383616384\n",
      "(200, 38)\n",
      "(200,)\n",
      "Fitted\n"
     ]
    },
    {
     "name": "stderr",
     "output_type": "stream",
     "text": [
      "\n",
      " 68%|███████████████████████████████████████████████████████                          | 68/100 [33:45<15:51, 29.73s/it]\u001b[A"
     ]
    },
    {
     "name": "stdout",
     "output_type": "stream",
     "text": [
      "Test Statistic:  0.011707326090907855\n",
      "p-value:  0.13786213786213786\n",
      "(200, 38)\n",
      "(200,)\n",
      "Fitted\n"
     ]
    },
    {
     "name": "stderr",
     "output_type": "stream",
     "text": [
      "\n",
      " 69%|███████████████████████████████████████████████████████▉                         | 69/100 [34:15<15:24, 29.82s/it]\u001b[A"
     ]
    },
    {
     "name": "stdout",
     "output_type": "stream",
     "text": [
      "Test Statistic:  0.00459539654529062\n",
      "p-value:  1.0\n",
      "(200, 38)\n",
      "(200,)\n",
      "Fitted\n"
     ]
    },
    {
     "name": "stderr",
     "output_type": "stream",
     "text": [
      "\n",
      " 70%|████████████████████████████████████████████████████████▋                        | 70/100 [34:44<14:50, 29.69s/it]\u001b[A"
     ]
    },
    {
     "name": "stdout",
     "output_type": "stream",
     "text": [
      "Test Statistic:  0.005010668453477307\n",
      "p-value:  0.999000999000999\n",
      "(200, 38)\n",
      "(200,)\n",
      "Fitted\n"
     ]
    },
    {
     "name": "stderr",
     "output_type": "stream",
     "text": [
      "\n",
      " 71%|█████████████████████████████████████████████████████████▌                       | 71/100 [35:14<14:21, 29.71s/it]\u001b[A"
     ]
    },
    {
     "name": "stdout",
     "output_type": "stream",
     "text": [
      "Test Statistic:  0.002050617380540798\n",
      "p-value:  1.0\n",
      "(200, 38)\n",
      "(200,)\n",
      "Fitted\n"
     ]
    },
    {
     "name": "stderr",
     "output_type": "stream",
     "text": [
      "\n",
      " 72%|██████████████████████████████████████████████████████████▎                      | 72/100 [35:43<13:51, 29.69s/it]\u001b[A"
     ]
    },
    {
     "name": "stdout",
     "output_type": "stream",
     "text": [
      "Test Statistic:  0.005639934607392205\n",
      "p-value:  0.986013986013986\n",
      "(200, 38)\n",
      "(200,)\n",
      "Fitted\n"
     ]
    },
    {
     "name": "stderr",
     "output_type": "stream",
     "text": [
      "\n",
      " 73%|███████████████████████████████████████████████████████████▏                     | 73/100 [36:14<13:28, 29.96s/it]\u001b[A"
     ]
    },
    {
     "name": "stdout",
     "output_type": "stream",
     "text": [
      "Test Statistic:  0.003722100350624147\n",
      "p-value:  1.0\n",
      "(200, 38)\n",
      "(200,)\n",
      "Fitted\n"
     ]
    },
    {
     "name": "stderr",
     "output_type": "stream",
     "text": [
      "\n",
      " 74%|███████████████████████████████████████████████████████████▉                     | 74/100 [36:43<12:48, 29.56s/it]\u001b[A"
     ]
    },
    {
     "name": "stdout",
     "output_type": "stream",
     "text": [
      "Test Statistic:  0.005757651742781089\n",
      "p-value:  0.945054945054945\n",
      "(200, 38)\n",
      "(200,)\n",
      "Fitted\n"
     ]
    },
    {
     "name": "stderr",
     "output_type": "stream",
     "text": [
      "\n",
      " 75%|████████████████████████████████████████████████████████████▊                    | 75/100 [37:12<12:18, 29.55s/it]\u001b[A"
     ]
    },
    {
     "name": "stdout",
     "output_type": "stream",
     "text": [
      "Test Statistic:  0.0020512700119870164\n",
      "p-value:  1.0\n",
      "(200, 38)\n",
      "(200,)\n",
      "Fitted\n"
     ]
    },
    {
     "name": "stderr",
     "output_type": "stream",
     "text": [
      "\n",
      " 76%|█████████████████████████████████████████████████████████████▌                   | 76/100 [37:42<11:51, 29.63s/it]\u001b[A"
     ]
    },
    {
     "name": "stdout",
     "output_type": "stream",
     "text": [
      "Test Statistic:  0.004436486332939249\n",
      "p-value:  1.0\n",
      "(200, 38)\n",
      "(200,)\n",
      "Fitted\n"
     ]
    },
    {
     "name": "stderr",
     "output_type": "stream",
     "text": [
      "\n",
      " 77%|██████████████████████████████████████████████████████████████▎                  | 77/100 [38:12<11:21, 29.65s/it]\u001b[A"
     ]
    },
    {
     "name": "stdout",
     "output_type": "stream",
     "text": [
      "Test Statistic:  0.0018732796627108916\n",
      "p-value:  1.0\n",
      "(200, 38)\n",
      "(200,)\n",
      "Fitted\n"
     ]
    },
    {
     "name": "stderr",
     "output_type": "stream",
     "text": [
      "\n",
      " 78%|███████████████████████████████████████████████████████████████▏                 | 78/100 [38:41<10:50, 29.57s/it]\u001b[A"
     ]
    },
    {
     "name": "stdout",
     "output_type": "stream",
     "text": [
      "Test Statistic:  0.002292854732422911\n",
      "p-value:  1.0\n",
      "(200, 38)\n",
      "(200,)\n",
      "Fitted\n"
     ]
    },
    {
     "name": "stderr",
     "output_type": "stream",
     "text": [
      "\n",
      " 79%|███████████████████████████████████████████████████████████████▉                 | 79/100 [39:19<11:14, 32.14s/it]\u001b[A"
     ]
    },
    {
     "name": "stdout",
     "output_type": "stream",
     "text": [
      "Test Statistic:  0.002371645279063528\n",
      "p-value:  1.0\n",
      "(200, 38)\n",
      "(200,)\n",
      "Fitted\n"
     ]
    },
    {
     "name": "stderr",
     "output_type": "stream",
     "text": [
      "\n",
      " 80%|████████████████████████████████████████████████████████████████▊                | 80/100 [39:49<10:27, 31.36s/it]\u001b[A"
     ]
    },
    {
     "name": "stdout",
     "output_type": "stream",
     "text": [
      "Test Statistic:  0.002266919345621621\n",
      "p-value:  1.0\n",
      "(200, 38)\n",
      "(200,)\n",
      "Fitted\n"
     ]
    },
    {
     "name": "stderr",
     "output_type": "stream",
     "text": [
      "\n",
      " 81%|█████████████████████████████████████████████████████████████████▌               | 81/100 [40:18<09:45, 30.81s/it]\u001b[A"
     ]
    },
    {
     "name": "stdout",
     "output_type": "stream",
     "text": [
      "Test Statistic:  0.020366259000906606\n",
      "p-value:  0.000999000999000999\n",
      "(200, 38)\n",
      "(200,)\n",
      "Fitted\n"
     ]
    },
    {
     "name": "stderr",
     "output_type": "stream",
     "text": [
      "\n",
      " 82%|██████████████████████████████████████████████████████████████████▍              | 82/100 [40:47<09:02, 30.12s/it]\u001b[A"
     ]
    },
    {
     "name": "stdout",
     "output_type": "stream",
     "text": [
      "Test Statistic:  0.0030236924806763543\n",
      "p-value:  1.0\n",
      "(200, 38)\n",
      "(200,)\n",
      "Fitted\n"
     ]
    },
    {
     "name": "stderr",
     "output_type": "stream",
     "text": [
      "\n",
      " 83%|███████████████████████████████████████████████████████████████████▏             | 83/100 [41:16<08:27, 29.86s/it]\u001b[A"
     ]
    },
    {
     "name": "stdout",
     "output_type": "stream",
     "text": [
      "Test Statistic:  0.006078040042198918\n",
      "p-value:  0.983016983016983\n",
      "(200, 38)\n",
      "(200,)\n",
      "Fitted\n"
     ]
    },
    {
     "name": "stderr",
     "output_type": "stream",
     "text": [
      "\n",
      " 84%|████████████████████████████████████████████████████████████████████             | 84/100 [41:45<07:52, 29.51s/it]\u001b[A"
     ]
    },
    {
     "name": "stdout",
     "output_type": "stream",
     "text": [
      "Test Statistic:  0.005122804281134763\n",
      "p-value:  0.996003996003996\n",
      "(200, 38)\n",
      "(200,)\n",
      "Fitted\n"
     ]
    },
    {
     "name": "stderr",
     "output_type": "stream",
     "text": [
      "\n",
      " 85%|████████████████████████████████████████████████████████████████████▊            | 85/100 [42:14<07:23, 29.56s/it]\u001b[A"
     ]
    },
    {
     "name": "stdout",
     "output_type": "stream",
     "text": [
      "Test Statistic:  0.0023368912069066106\n",
      "p-value:  1.0\n",
      "(200, 38)\n",
      "(200,)\n",
      "Fitted\n"
     ]
    },
    {
     "name": "stderr",
     "output_type": "stream",
     "text": [
      "\n",
      " 86%|█████████████████████████████████████████████████████████████████████▋           | 86/100 [42:43<06:51, 29.41s/it]\u001b[A"
     ]
    },
    {
     "name": "stdout",
     "output_type": "stream",
     "text": [
      "Test Statistic:  0.004226328537783819\n",
      "p-value:  1.0\n",
      "(200, 38)\n",
      "(200,)\n",
      "Fitted\n"
     ]
    },
    {
     "name": "stderr",
     "output_type": "stream",
     "text": [
      "\n",
      " 87%|██████████████████████████████████████████████████████████████████████▍          | 87/100 [43:13<06:23, 29.49s/it]\u001b[A"
     ]
    },
    {
     "name": "stdout",
     "output_type": "stream",
     "text": [
      "Test Statistic:  0.010228458619321201\n",
      "p-value:  0.2007992007992008\n",
      "(200, 38)\n",
      "(200,)\n",
      "Fitted\n"
     ]
    },
    {
     "name": "stderr",
     "output_type": "stream",
     "text": [
      "\n",
      " 88%|███████████████████████████████████████████████████████████████████████▎         | 88/100 [43:42<05:52, 29.38s/it]\u001b[A"
     ]
    },
    {
     "name": "stdout",
     "output_type": "stream",
     "text": [
      "Test Statistic:  0.0036172122610419466\n",
      "p-value:  1.0\n",
      "(200, 38)\n",
      "(200,)\n",
      "Fitted\n"
     ]
    },
    {
     "name": "stderr",
     "output_type": "stream",
     "text": [
      "\n",
      " 89%|████████████████████████████████████████████████████████████████████████         | 89/100 [44:12<05:23, 29.44s/it]\u001b[A"
     ]
    },
    {
     "name": "stdout",
     "output_type": "stream",
     "text": [
      "Test Statistic:  0.0032963435633478477\n",
      "p-value:  1.0\n",
      "(200, 38)\n",
      "(200,)\n",
      "Fitted\n"
     ]
    },
    {
     "name": "stderr",
     "output_type": "stream",
     "text": [
      "\n",
      " 90%|████████████████████████████████████████████████████████████████████████▉        | 90/100 [44:41<04:54, 29.46s/it]\u001b[A"
     ]
    },
    {
     "name": "stdout",
     "output_type": "stream",
     "text": [
      "Test Statistic:  0.016255591117834256\n",
      "p-value:  0.02197802197802198\n",
      "(200, 38)\n",
      "(200,)\n",
      "Fitted\n"
     ]
    },
    {
     "name": "stderr",
     "output_type": "stream",
     "text": [
      "\n",
      " 91%|█████████████████████████████████████████████████████████████████████████▋       | 91/100 [45:11<04:24, 29.41s/it]\u001b[A"
     ]
    },
    {
     "name": "stdout",
     "output_type": "stream",
     "text": [
      "Test Statistic:  0.007458767972256752\n",
      "p-value:  0.6993006993006993\n",
      "(200, 38)\n",
      "(200,)\n",
      "Fitted\n"
     ]
    },
    {
     "name": "stderr",
     "output_type": "stream",
     "text": [
      "\n",
      " 92%|██████████████████████████████████████████████████████████████████████████▌      | 92/100 [45:40<03:55, 29.48s/it]\u001b[A"
     ]
    },
    {
     "name": "stdout",
     "output_type": "stream",
     "text": [
      "Test Statistic:  0.013768012662415563\n",
      "p-value:  0.030969030969030968\n",
      "(200, 38)\n",
      "(200,)\n",
      "Fitted\n"
     ]
    },
    {
     "name": "stderr",
     "output_type": "stream",
     "text": [
      "\n",
      " 93%|███████████████████████████████████████████████████████████████████████████▎     | 93/100 [46:10<03:26, 29.49s/it]\u001b[A"
     ]
    },
    {
     "name": "stdout",
     "output_type": "stream",
     "text": [
      "Test Statistic:  0.005554920862745227\n",
      "p-value:  0.99000999000999\n",
      "(200, 38)\n",
      "(200,)\n",
      "Fitted\n"
     ]
    },
    {
     "name": "stderr",
     "output_type": "stream",
     "text": [
      "\n",
      " 94%|████████████████████████████████████████████████████████████████████████████▏    | 94/100 [46:38<02:55, 29.25s/it]\u001b[A"
     ]
    },
    {
     "name": "stdout",
     "output_type": "stream",
     "text": [
      "Test Statistic:  0.01869918150105554\n",
      "p-value:  0.002997002997002997\n",
      "(200, 38)\n",
      "(200,)\n",
      "Fitted\n"
     ]
    },
    {
     "name": "stderr",
     "output_type": "stream",
     "text": [
      "\n",
      " 95%|████████████████████████████████████████████████████████████████████████████▉    | 95/100 [47:07<02:25, 29.12s/it]\u001b[A"
     ]
    },
    {
     "name": "stdout",
     "output_type": "stream",
     "text": [
      "Test Statistic:  0.003210322535556198\n",
      "p-value:  1.0\n",
      "(200, 38)\n",
      "(200,)\n",
      "Fitted\n"
     ]
    },
    {
     "name": "stderr",
     "output_type": "stream",
     "text": [
      "\n",
      " 96%|█████████████████████████████████████████████████████████████████████████████▊   | 96/100 [47:36<01:56, 29.04s/it]\u001b[A"
     ]
    },
    {
     "name": "stdout",
     "output_type": "stream",
     "text": [
      "Test Statistic:  0.026015652896769992\n",
      "p-value:  0.001998001998001998\n",
      "(200, 38)\n",
      "(200,)\n",
      "Fitted\n"
     ]
    },
    {
     "name": "stderr",
     "output_type": "stream",
     "text": [
      "\n",
      " 97%|██████████████████████████████████████████████████████████████████████████████▌  | 97/100 [48:05<01:27, 29.14s/it]\u001b[A"
     ]
    },
    {
     "name": "stdout",
     "output_type": "stream",
     "text": [
      "Test Statistic:  0.010422291527403704\n",
      "p-value:  0.14385614385614387\n",
      "(200, 38)\n",
      "(200,)\n",
      "Fitted\n"
     ]
    },
    {
     "name": "stderr",
     "output_type": "stream",
     "text": [
      "\n",
      " 98%|███████████████████████████████████████████████████████████████████████████████▍ | 98/100 [48:34<00:58, 29.02s/it]\u001b[A"
     ]
    },
    {
     "name": "stdout",
     "output_type": "stream",
     "text": [
      "Test Statistic:  0.003399239418365285\n",
      "p-value:  1.0\n",
      "(200, 38)\n",
      "(200,)\n",
      "Fitted\n"
     ]
    },
    {
     "name": "stderr",
     "output_type": "stream",
     "text": [
      "\n",
      " 99%|████████████████████████████████████████████████████████████████████████████████▏| 99/100 [49:06<00:29, 29.85s/it]\u001b[A"
     ]
    },
    {
     "name": "stdout",
     "output_type": "stream",
     "text": [
      "Test Statistic:  0.0033731674200817574\n",
      "p-value:  1.0\n",
      "(200, 38)\n",
      "(200,)\n",
      "Fitted\n"
     ]
    },
    {
     "name": "stderr",
     "output_type": "stream",
     "text": [
      "\n",
      "100%|████████████████████████████████████████████████████████████████████████████████| 100/100 [49:36<00:00, 29.76s/it]\u001b[A\n",
      " 95%|█████████████████████████████████████████████████████████████████████████▏   | 19/20 [16:33:58<50:09, 3009.81s/it]\n",
      "  0%|                                                                                          | 0/100 [00:00<?, ?it/s]\u001b[A"
     ]
    },
    {
     "name": "stdout",
     "output_type": "stream",
     "text": [
      "Test Statistic:  0.0022595359284732774\n",
      "p-value:  1.0\n",
      "dimension 20\n",
      "circle\n",
      "(200, 40)\n",
      "(200,)\n",
      "Fitted\n"
     ]
    },
    {
     "name": "stderr",
     "output_type": "stream",
     "text": [
      "\n",
      "  1%|▊                                                                                 | 1/100 [00:29<48:29, 29.38s/it]\u001b[A"
     ]
    },
    {
     "name": "stdout",
     "output_type": "stream",
     "text": [
      "Test Statistic:  0.006438332950949421\n",
      "p-value:  0.8951048951048951\n",
      "(200, 40)\n",
      "(200,)\n",
      "Fitted\n"
     ]
    },
    {
     "name": "stderr",
     "output_type": "stream",
     "text": [
      "\n",
      "  2%|█▋                                                                                | 2/100 [00:58<47:51, 29.30s/it]\u001b[A"
     ]
    },
    {
     "name": "stdout",
     "output_type": "stream",
     "text": [
      "Test Statistic:  0.001918556897376078\n",
      "p-value:  1.0\n",
      "(200, 40)\n",
      "(200,)\n",
      "Fitted\n"
     ]
    },
    {
     "name": "stderr",
     "output_type": "stream",
     "text": [
      "\n",
      "  3%|██▍                                                                               | 3/100 [01:28<47:49, 29.58s/it]\u001b[A"
     ]
    },
    {
     "name": "stdout",
     "output_type": "stream",
     "text": [
      "Test Statistic:  0.003414668109289476\n",
      "p-value:  1.0\n",
      "(200, 40)\n",
      "(200,)\n",
      "Fitted\n"
     ]
    },
    {
     "name": "stderr",
     "output_type": "stream",
     "text": [
      "\n",
      "  4%|███▎                                                                              | 4/100 [01:58<47:11, 29.50s/it]\u001b[A"
     ]
    },
    {
     "name": "stdout",
     "output_type": "stream",
     "text": [
      "Test Statistic:  0.0030568863553308567\n",
      "p-value:  1.0\n",
      "(200, 40)\n",
      "(200,)\n",
      "Fitted\n"
     ]
    },
    {
     "name": "stderr",
     "output_type": "stream",
     "text": [
      "\n",
      "  5%|████                                                                              | 5/100 [02:27<46:36, 29.44s/it]\u001b[A"
     ]
    },
    {
     "name": "stdout",
     "output_type": "stream",
     "text": [
      "Test Statistic:  0.004137662519038909\n",
      "p-value:  1.0\n",
      "(200, 40)\n",
      "(200,)\n",
      "Fitted\n"
     ]
    },
    {
     "name": "stderr",
     "output_type": "stream",
     "text": [
      "\n",
      "  6%|████▉                                                                             | 6/100 [02:56<46:10, 29.48s/it]\u001b[A"
     ]
    },
    {
     "name": "stdout",
     "output_type": "stream",
     "text": [
      "Test Statistic:  0.007134938805346214\n",
      "p-value:  0.5564435564435565\n",
      "(200, 40)\n",
      "(200,)\n",
      "Fitted\n"
     ]
    },
    {
     "name": "stderr",
     "output_type": "stream",
     "text": [
      "\n",
      "  7%|█████▋                                                                            | 7/100 [03:26<45:31, 29.37s/it]\u001b[A"
     ]
    },
    {
     "name": "stdout",
     "output_type": "stream",
     "text": [
      "Test Statistic:  0.0032790348983786632\n",
      "p-value:  1.0\n",
      "(200, 40)\n",
      "(200,)\n",
      "Fitted\n"
     ]
    },
    {
     "name": "stderr",
     "output_type": "stream",
     "text": [
      "\n",
      "  8%|██████▌                                                                           | 8/100 [03:54<44:44, 29.18s/it]\u001b[A"
     ]
    },
    {
     "name": "stdout",
     "output_type": "stream",
     "text": [
      "Test Statistic:  0.011664540271347001\n",
      "p-value:  0.04495504495504495\n",
      "(200, 40)\n",
      "(200,)\n",
      "Fitted\n"
     ]
    },
    {
     "name": "stderr",
     "output_type": "stream",
     "text": [
      "\n",
      "  9%|███████▍                                                                          | 9/100 [04:24<44:32, 29.37s/it]\u001b[A"
     ]
    },
    {
     "name": "stdout",
     "output_type": "stream",
     "text": [
      "Test Statistic:  0.003864801828267539\n",
      "p-value:  1.0\n",
      "(200, 40)\n",
      "(200,)\n",
      "Fitted\n"
     ]
    },
    {
     "name": "stderr",
     "output_type": "stream",
     "text": [
      "\n",
      " 10%|████████                                                                         | 10/100 [04:53<44:00, 29.34s/it]\u001b[A"
     ]
    },
    {
     "name": "stdout",
     "output_type": "stream",
     "text": [
      "Test Statistic:  0.00488073691324753\n",
      "p-value:  1.0\n",
      "(200, 40)\n",
      "(200,)\n",
      "Fitted\n"
     ]
    },
    {
     "name": "stderr",
     "output_type": "stream",
     "text": [
      "\n",
      " 11%|████████▉                                                                        | 11/100 [05:23<43:42, 29.47s/it]\u001b[A"
     ]
    },
    {
     "name": "stdout",
     "output_type": "stream",
     "text": [
      "Test Statistic:  0.006326172769518856\n",
      "p-value:  0.9170829170829171\n",
      "(200, 40)\n",
      "(200,)\n",
      "Fitted\n"
     ]
    },
    {
     "name": "stderr",
     "output_type": "stream",
     "text": [
      "\n",
      " 12%|█████████▋                                                                       | 12/100 [05:52<42:54, 29.26s/it]\u001b[A"
     ]
    },
    {
     "name": "stdout",
     "output_type": "stream",
     "text": [
      "Test Statistic:  0.006154874436040014\n",
      "p-value:  0.9120879120879121\n",
      "(200, 40)\n",
      "(200,)\n",
      "Fitted\n"
     ]
    },
    {
     "name": "stderr",
     "output_type": "stream",
     "text": [
      "\n",
      " 13%|██████████▌                                                                      | 13/100 [06:23<43:11, 29.79s/it]\u001b[A"
     ]
    },
    {
     "name": "stdout",
     "output_type": "stream",
     "text": [
      "Test Statistic:  0.006830091360180424\n",
      "p-value:  0.8491508491508492\n",
      "(200, 40)\n",
      "(200,)\n",
      "Fitted\n"
     ]
    },
    {
     "name": "stderr",
     "output_type": "stream",
     "text": [
      "\n",
      " 14%|███████████▎                                                                     | 14/100 [06:52<42:22, 29.56s/it]\u001b[A"
     ]
    },
    {
     "name": "stdout",
     "output_type": "stream",
     "text": [
      "Test Statistic:  0.003993620088492467\n",
      "p-value:  1.0\n",
      "(200, 40)\n",
      "(200,)\n",
      "Fitted\n"
     ]
    },
    {
     "name": "stderr",
     "output_type": "stream",
     "text": [
      "\n",
      " 15%|████████████▏                                                                    | 15/100 [07:21<41:52, 29.56s/it]\u001b[A"
     ]
    },
    {
     "name": "stdout",
     "output_type": "stream",
     "text": [
      "Test Statistic:  0.012056612853961868\n",
      "p-value:  0.04495504495504495\n",
      "(200, 40)\n",
      "(200,)\n",
      "Fitted\n"
     ]
    },
    {
     "name": "stderr",
     "output_type": "stream",
     "text": [
      "\n",
      " 16%|████████████▉                                                                    | 16/100 [07:51<41:12, 29.43s/it]\u001b[A"
     ]
    },
    {
     "name": "stdout",
     "output_type": "stream",
     "text": [
      "Test Statistic:  0.005587127869254527\n",
      "p-value:  0.986013986013986\n",
      "(200, 40)\n",
      "(200,)\n",
      "Fitted\n"
     ]
    },
    {
     "name": "stderr",
     "output_type": "stream",
     "text": [
      "\n",
      " 17%|█████████████▊                                                                   | 17/100 [08:19<40:26, 29.23s/it]\u001b[A"
     ]
    },
    {
     "name": "stdout",
     "output_type": "stream",
     "text": [
      "Test Statistic:  0.005172154530762585\n",
      "p-value:  0.987012987012987\n",
      "(200, 40)\n",
      "(200,)\n",
      "Fitted\n"
     ]
    },
    {
     "name": "stderr",
     "output_type": "stream",
     "text": [
      "\n",
      " 18%|██████████████▌                                                                  | 18/100 [08:49<40:08, 29.37s/it]\u001b[A"
     ]
    },
    {
     "name": "stdout",
     "output_type": "stream",
     "text": [
      "Test Statistic:  0.010817969392790228\n",
      "p-value:  0.08891108891108891\n",
      "(200, 40)\n",
      "(200,)\n",
      "Fitted\n"
     ]
    },
    {
     "name": "stderr",
     "output_type": "stream",
     "text": [
      "\n",
      " 19%|███████████████▍                                                                 | 19/100 [09:19<39:49, 29.50s/it]\u001b[A"
     ]
    },
    {
     "name": "stdout",
     "output_type": "stream",
     "text": [
      "Test Statistic:  0.02488393156809543\n",
      "p-value:  0.001998001998001998\n",
      "(200, 40)\n",
      "(200,)\n",
      "Fitted\n"
     ]
    },
    {
     "name": "stderr",
     "output_type": "stream",
     "text": [
      "\n",
      " 20%|████████████████▏                                                                | 20/100 [09:53<41:01, 30.77s/it]\u001b[A"
     ]
    },
    {
     "name": "stdout",
     "output_type": "stream",
     "text": [
      "Test Statistic:  0.0034499479451177706\n",
      "p-value:  1.0\n",
      "(200, 40)\n",
      "(200,)\n",
      "Fitted\n"
     ]
    },
    {
     "name": "stderr",
     "output_type": "stream",
     "text": [
      "\n",
      " 21%|█████████████████                                                                | 21/100 [10:23<40:30, 30.77s/it]\u001b[A"
     ]
    },
    {
     "name": "stdout",
     "output_type": "stream",
     "text": [
      "Test Statistic:  0.023612572613159966\n",
      "p-value:  0.002997002997002997\n",
      "(200, 40)\n",
      "(200,)\n",
      "Fitted\n"
     ]
    },
    {
     "name": "stderr",
     "output_type": "stream",
     "text": [
      "\n",
      " 22%|█████████████████▊                                                               | 22/100 [10:54<39:47, 30.61s/it]\u001b[A"
     ]
    },
    {
     "name": "stdout",
     "output_type": "stream",
     "text": [
      "Test Statistic:  0.010120931330402039\n",
      "p-value:  0.11788211788211789\n",
      "(200, 40)\n",
      "(200,)\n",
      "Fitted\n"
     ]
    },
    {
     "name": "stderr",
     "output_type": "stream",
     "text": [
      "\n",
      " 23%|██████████████████▋                                                              | 23/100 [11:23<38:56, 30.35s/it]\u001b[A"
     ]
    },
    {
     "name": "stdout",
     "output_type": "stream",
     "text": [
      "Test Statistic:  0.005833902167756255\n",
      "p-value:  0.99000999000999\n",
      "(200, 40)\n",
      "(200,)\n",
      "Fitted\n"
     ]
    },
    {
     "name": "stderr",
     "output_type": "stream",
     "text": [
      "\n",
      " 24%|███████████████████▍                                                             | 24/100 [11:53<38:00, 30.00s/it]\u001b[A"
     ]
    },
    {
     "name": "stdout",
     "output_type": "stream",
     "text": [
      "Test Statistic:  0.005409736517415387\n",
      "p-value:  0.991008991008991\n",
      "(200, 40)\n",
      "(200,)\n",
      "Fitted\n"
     ]
    },
    {
     "name": "stderr",
     "output_type": "stream",
     "text": [
      "\n",
      " 25%|████████████████████▎                                                            | 25/100 [12:21<36:59, 29.59s/it]\u001b[A"
     ]
    },
    {
     "name": "stdout",
     "output_type": "stream",
     "text": [
      "Test Statistic:  0.005005069960348663\n",
      "p-value:  1.0\n",
      "(200, 40)\n",
      "(200,)\n",
      "Fitted\n"
     ]
    },
    {
     "name": "stderr",
     "output_type": "stream",
     "text": [
      "\n",
      " 26%|█████████████████████                                                            | 26/100 [12:50<36:12, 29.35s/it]\u001b[A"
     ]
    },
    {
     "name": "stdout",
     "output_type": "stream",
     "text": [
      "Test Statistic:  0.010112841554724583\n",
      "p-value:  0.14185814185814186\n",
      "(200, 40)\n",
      "(200,)\n",
      "Fitted\n"
     ]
    },
    {
     "name": "stderr",
     "output_type": "stream",
     "text": [
      "\n",
      " 27%|█████████████████████▊                                                           | 27/100 [13:19<35:34, 29.23s/it]\u001b[A"
     ]
    },
    {
     "name": "stdout",
     "output_type": "stream",
     "text": [
      "Test Statistic:  0.012735039782713509\n",
      "p-value:  0.04895104895104895\n",
      "(200, 40)\n",
      "(200,)\n",
      "Fitted\n"
     ]
    },
    {
     "name": "stderr",
     "output_type": "stream",
     "text": [
      "\n",
      " 28%|██████████████████████▋                                                          | 28/100 [13:48<35:08, 29.29s/it]\u001b[A"
     ]
    },
    {
     "name": "stdout",
     "output_type": "stream",
     "text": [
      "Test Statistic:  0.005485530762019519\n",
      "p-value:  0.999000999000999\n",
      "(200, 40)\n",
      "(200,)\n",
      "Fitted\n"
     ]
    },
    {
     "name": "stderr",
     "output_type": "stream",
     "text": [
      "\n",
      " 29%|███████████████████████▍                                                         | 29/100 [14:18<34:39, 29.29s/it]\u001b[A"
     ]
    },
    {
     "name": "stdout",
     "output_type": "stream",
     "text": [
      "Test Statistic:  0.008293597056784008\n",
      "p-value:  0.5234765234765235\n",
      "(200, 40)\n",
      "(200,)\n",
      "Fitted\n"
     ]
    },
    {
     "name": "stderr",
     "output_type": "stream",
     "text": [
      "\n",
      " 30%|████████████████████████▎                                                        | 30/100 [14:48<34:29, 29.57s/it]\u001b[A"
     ]
    },
    {
     "name": "stdout",
     "output_type": "stream",
     "text": [
      "Test Statistic:  0.0032918283428473583\n",
      "p-value:  1.0\n",
      "(200, 40)\n",
      "(200,)\n",
      "Fitted\n"
     ]
    },
    {
     "name": "stderr",
     "output_type": "stream",
     "text": [
      "\n",
      " 31%|█████████████████████████                                                        | 31/100 [15:19<34:31, 30.02s/it]\u001b[A"
     ]
    },
    {
     "name": "stdout",
     "output_type": "stream",
     "text": [
      "Test Statistic:  0.003026002006573658\n",
      "p-value:  1.0\n",
      "(200, 40)\n",
      "(200,)\n",
      "Fitted\n"
     ]
    },
    {
     "name": "stderr",
     "output_type": "stream",
     "text": [
      "\n",
      " 32%|█████████████████████████▉                                                       | 32/100 [15:49<33:55, 29.93s/it]\u001b[A"
     ]
    },
    {
     "name": "stdout",
     "output_type": "stream",
     "text": [
      "Test Statistic:  0.004726477605504598\n",
      "p-value:  1.0\n",
      "(200, 40)\n",
      "(200,)\n",
      "Fitted\n"
     ]
    },
    {
     "name": "stderr",
     "output_type": "stream",
     "text": [
      "\n",
      " 33%|██████████████████████████▋                                                      | 33/100 [16:19<33:24, 29.92s/it]\u001b[A"
     ]
    },
    {
     "name": "stdout",
     "output_type": "stream",
     "text": [
      "Test Statistic:  0.010079878066035941\n",
      "p-value:  0.1938061938061938\n",
      "(200, 40)\n",
      "(200,)\n",
      "Fitted\n"
     ]
    },
    {
     "name": "stderr",
     "output_type": "stream",
     "text": [
      "\n",
      " 34%|███████████████████████████▌                                                     | 34/100 [16:50<33:15, 30.23s/it]\u001b[A"
     ]
    },
    {
     "name": "stdout",
     "output_type": "stream",
     "text": [
      "Test Statistic:  0.004009517909870586\n",
      "p-value:  1.0\n",
      "(200, 40)\n",
      "(200,)\n",
      "Fitted\n"
     ]
    },
    {
     "name": "stderr",
     "output_type": "stream",
     "text": [
      "\n",
      " 35%|████████████████████████████▎                                                    | 35/100 [17:21<33:03, 30.52s/it]\u001b[A"
     ]
    },
    {
     "name": "stdout",
     "output_type": "stream",
     "text": [
      "Test Statistic:  0.0040687228990042845\n",
      "p-value:  1.0\n",
      "(200, 40)\n",
      "(200,)\n",
      "Fitted\n"
     ]
    },
    {
     "name": "stderr",
     "output_type": "stream",
     "text": [
      "\n",
      " 36%|█████████████████████████████▏                                                   | 36/100 [17:51<32:25, 30.40s/it]\u001b[A"
     ]
    },
    {
     "name": "stdout",
     "output_type": "stream",
     "text": [
      "Test Statistic:  0.001986880536531843\n",
      "p-value:  1.0\n",
      "(200, 40)\n",
      "(200,)\n",
      "Fitted\n"
     ]
    },
    {
     "name": "stderr",
     "output_type": "stream",
     "text": [
      "\n",
      " 37%|█████████████████████████████▉                                                   | 37/100 [18:20<31:40, 30.17s/it]\u001b[A"
     ]
    },
    {
     "name": "stdout",
     "output_type": "stream",
     "text": [
      "Test Statistic:  0.020886822506101965\n",
      "p-value:  0.001998001998001998\n",
      "(200, 40)\n",
      "(200,)\n",
      "Fitted\n"
     ]
    },
    {
     "name": "stderr",
     "output_type": "stream",
     "text": [
      "\n",
      " 38%|██████████████████████████████▊                                                  | 38/100 [18:50<31:04, 30.08s/it]\u001b[A"
     ]
    },
    {
     "name": "stdout",
     "output_type": "stream",
     "text": [
      "Test Statistic:  0.007164009511642089\n",
      "p-value:  0.7652347652347652\n",
      "(200, 40)\n",
      "(200,)\n",
      "Fitted\n"
     ]
    },
    {
     "name": "stderr",
     "output_type": "stream",
     "text": [
      "\n",
      " 39%|███████████████████████████████▌                                                 | 39/100 [19:21<30:39, 30.15s/it]\u001b[A"
     ]
    },
    {
     "name": "stdout",
     "output_type": "stream",
     "text": [
      "Test Statistic:  0.0031495220945895186\n",
      "p-value:  1.0\n",
      "(200, 40)\n",
      "(200,)\n",
      "Fitted\n"
     ]
    },
    {
     "name": "stderr",
     "output_type": "stream",
     "text": [
      "\n",
      " 40%|████████████████████████████████▍                                                | 40/100 [20:00<32:47, 32.79s/it]\u001b[A"
     ]
    },
    {
     "name": "stdout",
     "output_type": "stream",
     "text": [
      "Test Statistic:  0.002071518483804269\n",
      "p-value:  1.0\n",
      "(200, 40)\n",
      "(200,)\n",
      "Fitted\n"
     ]
    },
    {
     "name": "stderr",
     "output_type": "stream",
     "text": [
      "\n",
      " 41%|█████████████████████████████████▏                                               | 41/100 [20:29<31:18, 31.84s/it]\u001b[A"
     ]
    },
    {
     "name": "stdout",
     "output_type": "stream",
     "text": [
      "Test Statistic:  0.010393591715826322\n",
      "p-value:  0.15084915084915085\n",
      "(200, 40)\n",
      "(200,)\n",
      "Fitted\n"
     ]
    },
    {
     "name": "stderr",
     "output_type": "stream",
     "text": [
      "\n",
      " 42%|██████████████████████████████████                                               | 42/100 [20:59<30:09, 31.20s/it]\u001b[A"
     ]
    },
    {
     "name": "stdout",
     "output_type": "stream",
     "text": [
      "Test Statistic:  0.0030188322929138867\n",
      "p-value:  1.0\n",
      "(200, 40)\n",
      "(200,)\n",
      "Fitted\n"
     ]
    },
    {
     "name": "stderr",
     "output_type": "stream",
     "text": [
      "\n",
      " 43%|██████████████████████████████████▊                                              | 43/100 [21:29<29:16, 30.82s/it]\u001b[A"
     ]
    },
    {
     "name": "stdout",
     "output_type": "stream",
     "text": [
      "Test Statistic:  0.021950085490003768\n",
      "p-value:  0.001998001998001998\n",
      "(200, 40)\n",
      "(200,)\n",
      "Fitted\n"
     ]
    },
    {
     "name": "stderr",
     "output_type": "stream",
     "text": [
      "\n",
      " 44%|███████████████████████████████████▋                                             | 44/100 [21:58<28:17, 30.32s/it]\u001b[A"
     ]
    },
    {
     "name": "stdout",
     "output_type": "stream",
     "text": [
      "Test Statistic:  0.015036679104711848\n",
      "p-value:  0.027972027972027972\n",
      "(200, 40)\n",
      "(200,)\n",
      "Fitted\n"
     ]
    },
    {
     "name": "stderr",
     "output_type": "stream",
     "text": [
      "\n",
      " 45%|████████████████████████████████████▍                                            | 45/100 [22:28<27:42, 30.22s/it]\u001b[A"
     ]
    },
    {
     "name": "stdout",
     "output_type": "stream",
     "text": [
      "Test Statistic:  0.0092798183607129\n",
      "p-value:  0.2087912087912088\n",
      "(200, 40)\n",
      "(200,)\n",
      "Fitted\n"
     ]
    },
    {
     "name": "stderr",
     "output_type": "stream",
     "text": [
      "\n",
      " 46%|█████████████████████████████████████▎                                           | 46/100 [22:57<26:57, 29.96s/it]\u001b[A"
     ]
    },
    {
     "name": "stdout",
     "output_type": "stream",
     "text": [
      "Test Statistic:  0.0028329737025530877\n",
      "p-value:  1.0\n",
      "(200, 40)\n",
      "(200,)\n",
      "Fitted\n"
     ]
    },
    {
     "name": "stderr",
     "output_type": "stream",
     "text": [
      "\n",
      " 47%|██████████████████████████████████████                                           | 47/100 [23:27<26:20, 29.81s/it]\u001b[A"
     ]
    },
    {
     "name": "stdout",
     "output_type": "stream",
     "text": [
      "Test Statistic:  0.0023771076015765003\n",
      "p-value:  1.0\n",
      "(200, 40)\n",
      "(200,)\n",
      "Fitted\n"
     ]
    },
    {
     "name": "stderr",
     "output_type": "stream",
     "text": [
      "\n",
      " 48%|██████████████████████████████████████▉                                          | 48/100 [23:56<25:33, 29.50s/it]\u001b[A"
     ]
    },
    {
     "name": "stdout",
     "output_type": "stream",
     "text": [
      "Test Statistic:  0.0021393653623682507\n",
      "p-value:  1.0\n",
      "(200, 40)\n",
      "(200,)\n",
      "Fitted\n"
     ]
    },
    {
     "name": "stderr",
     "output_type": "stream",
     "text": [
      "\n",
      " 49%|███████████████████████████████████████▋                                         | 49/100 [24:25<25:05, 29.52s/it]\u001b[A"
     ]
    },
    {
     "name": "stdout",
     "output_type": "stream",
     "text": [
      "Test Statistic:  0.006422970787768989\n",
      "p-value:  0.8471528471528471\n",
      "(200, 40)\n",
      "(200,)\n",
      "Fitted\n"
     ]
    },
    {
     "name": "stderr",
     "output_type": "stream",
     "text": [
      "\n",
      " 50%|████████████████████████████████████████▌                                        | 50/100 [24:54<24:26, 29.32s/it]\u001b[A"
     ]
    },
    {
     "name": "stdout",
     "output_type": "stream",
     "text": [
      "Test Statistic:  0.010857344297011462\n",
      "p-value:  0.16283716283716285\n",
      "(200, 40)\n",
      "(200,)\n",
      "Fitted\n"
     ]
    },
    {
     "name": "stderr",
     "output_type": "stream",
     "text": [
      "\n",
      " 51%|█████████████████████████████████████████▎                                       | 51/100 [25:24<24:00, 29.40s/it]\u001b[A"
     ]
    },
    {
     "name": "stdout",
     "output_type": "stream",
     "text": [
      "Test Statistic:  0.0062037559004486376\n",
      "p-value:  0.8471528471528471\n",
      "(200, 40)\n",
      "(200,)\n",
      "Fitted\n"
     ]
    },
    {
     "name": "stderr",
     "output_type": "stream",
     "text": [
      "\n",
      " 52%|██████████████████████████████████████████                                       | 52/100 [25:53<23:29, 29.36s/it]\u001b[A"
     ]
    },
    {
     "name": "stdout",
     "output_type": "stream",
     "text": [
      "Test Statistic:  0.011685666181135312\n",
      "p-value:  0.09490509490509491\n",
      "(200, 40)\n",
      "(200,)\n",
      "Fitted\n"
     ]
    },
    {
     "name": "stderr",
     "output_type": "stream",
     "text": [
      "\n",
      " 53%|██████████████████████████████████████████▉                                      | 53/100 [26:23<23:06, 29.50s/it]\u001b[A"
     ]
    },
    {
     "name": "stdout",
     "output_type": "stream",
     "text": [
      "Test Statistic:  0.0023210287597460466\n",
      "p-value:  1.0\n",
      "(200, 40)\n",
      "(200,)\n",
      "Fitted\n"
     ]
    },
    {
     "name": "stderr",
     "output_type": "stream",
     "text": [
      "\n",
      " 54%|███████████████████████████████████████████▋                                     | 54/100 [26:52<22:36, 29.48s/it]\u001b[A"
     ]
    },
    {
     "name": "stdout",
     "output_type": "stream",
     "text": [
      "Test Statistic:  0.0019072564047801777\n",
      "p-value:  1.0\n",
      "(200, 40)\n",
      "(200,)\n",
      "Fitted\n"
     ]
    },
    {
     "name": "stderr",
     "output_type": "stream",
     "text": [
      "\n",
      " 55%|████████████████████████████████████████████▌                                    | 55/100 [27:21<21:55, 29.23s/it]\u001b[A"
     ]
    },
    {
     "name": "stdout",
     "output_type": "stream",
     "text": [
      "Test Statistic:  0.0104689812681662\n",
      "p-value:  0.14385614385614387\n",
      "(200, 40)\n",
      "(200,)\n",
      "Fitted\n"
     ]
    },
    {
     "name": "stderr",
     "output_type": "stream",
     "text": [
      "\n",
      " 56%|█████████████████████████████████████████████▎                                   | 56/100 [27:51<21:34, 29.42s/it]\u001b[A"
     ]
    },
    {
     "name": "stdout",
     "output_type": "stream",
     "text": [
      "Test Statistic:  0.011950024290686145\n",
      "p-value:  0.0899100899100899\n",
      "(200, 40)\n",
      "(200,)\n",
      "Fitted\n"
     ]
    },
    {
     "name": "stderr",
     "output_type": "stream",
     "text": [
      "\n",
      " 57%|██████████████████████████████████████████████▏                                  | 57/100 [28:20<21:06, 29.46s/it]\u001b[A"
     ]
    },
    {
     "name": "stdout",
     "output_type": "stream",
     "text": [
      "Test Statistic:  0.00324858830194652\n",
      "p-value:  1.0\n",
      "(200, 40)\n",
      "(200,)\n",
      "Fitted\n"
     ]
    },
    {
     "name": "stderr",
     "output_type": "stream",
     "text": [
      "\n",
      " 58%|██████████████████████████████████████████████▉                                  | 58/100 [28:49<20:35, 29.41s/it]\u001b[A"
     ]
    },
    {
     "name": "stdout",
     "output_type": "stream",
     "text": [
      "Test Statistic:  0.002203317020416762\n",
      "p-value:  1.0\n",
      "(200, 40)\n",
      "(200,)\n",
      "Fitted\n"
     ]
    },
    {
     "name": "stderr",
     "output_type": "stream",
     "text": [
      "\n",
      " 59%|███████████████████████████████████████████████▊                                 | 59/100 [29:19<20:11, 29.54s/it]\u001b[A"
     ]
    },
    {
     "name": "stdout",
     "output_type": "stream",
     "text": [
      "Test Statistic:  0.009301659077961433\n",
      "p-value:  0.2217782217782218\n",
      "(200, 40)\n",
      "(200,)\n",
      "Fitted\n"
     ]
    },
    {
     "name": "stderr",
     "output_type": "stream",
     "text": [
      "\n",
      " 60%|████████████████████████████████████████████████▌                                | 60/100 [29:52<20:23, 30.58s/it]\u001b[A"
     ]
    },
    {
     "name": "stdout",
     "output_type": "stream",
     "text": [
      "Test Statistic:  0.012526606188451472\n",
      "p-value:  0.061938061938061936\n",
      "(200, 40)\n",
      "(200,)\n",
      "Fitted\n"
     ]
    },
    {
     "name": "stderr",
     "output_type": "stream",
     "text": [
      "\n",
      " 61%|█████████████████████████████████████████████████▍                               | 61/100 [30:22<19:42, 30.32s/it]\u001b[A"
     ]
    },
    {
     "name": "stdout",
     "output_type": "stream",
     "text": [
      "Test Statistic:  0.0070589389209301245\n",
      "p-value:  0.7162837162837162\n",
      "(200, 40)\n",
      "(200,)\n",
      "Fitted\n"
     ]
    },
    {
     "name": "stderr",
     "output_type": "stream",
     "text": [
      "\n",
      " 62%|██████████████████████████████████████████████████▏                              | 62/100 [30:51<18:58, 29.97s/it]\u001b[A"
     ]
    },
    {
     "name": "stdout",
     "output_type": "stream",
     "text": [
      "Test Statistic:  0.006256185091244704\n",
      "p-value:  0.9210789210789211\n",
      "(200, 40)\n",
      "(200,)\n",
      "Fitted\n"
     ]
    },
    {
     "name": "stderr",
     "output_type": "stream",
     "text": [
      "\n",
      " 63%|███████████████████████████████████████████████████                              | 63/100 [31:21<18:23, 29.82s/it]\u001b[A"
     ]
    },
    {
     "name": "stdout",
     "output_type": "stream",
     "text": [
      "Test Statistic:  0.005847200335045155\n",
      "p-value:  0.9590409590409591\n",
      "(200, 40)\n",
      "(200,)\n",
      "Fitted\n"
     ]
    },
    {
     "name": "stderr",
     "output_type": "stream",
     "text": [
      "\n",
      " 64%|███████████████████████████████████████████████████▊                             | 64/100 [31:50<17:45, 29.60s/it]\u001b[A"
     ]
    },
    {
     "name": "stdout",
     "output_type": "stream",
     "text": [
      "Test Statistic:  0.002643476644009657\n",
      "p-value:  1.0\n",
      "(200, 40)\n",
      "(200,)\n",
      "Fitted\n"
     ]
    },
    {
     "name": "stderr",
     "output_type": "stream",
     "text": [
      "\n",
      " 65%|████████████████████████████████████████████████████▋                            | 65/100 [32:19<17:14, 29.54s/it]\u001b[A"
     ]
    },
    {
     "name": "stdout",
     "output_type": "stream",
     "text": [
      "Test Statistic:  0.005277515932684329\n",
      "p-value:  0.993006993006993\n",
      "(200, 40)\n",
      "(200,)\n",
      "Fitted\n"
     ]
    },
    {
     "name": "stderr",
     "output_type": "stream",
     "text": [
      "\n",
      " 66%|█████████████████████████████████████████████████████▍                           | 66/100 [32:49<16:43, 29.50s/it]\u001b[A"
     ]
    },
    {
     "name": "stdout",
     "output_type": "stream",
     "text": [
      "Test Statistic:  0.018107088354723078\n",
      "p-value:  0.001998001998001998\n",
      "(200, 40)\n",
      "(200,)\n",
      "Fitted\n"
     ]
    },
    {
     "name": "stderr",
     "output_type": "stream",
     "text": [
      "\n",
      " 67%|██████████████████████████████████████████████████████▎                          | 67/100 [33:17<16:05, 29.27s/it]\u001b[A"
     ]
    },
    {
     "name": "stdout",
     "output_type": "stream",
     "text": [
      "Test Statistic:  0.008134931671824996\n",
      "p-value:  0.4935064935064935\n",
      "(200, 40)\n",
      "(200,)\n",
      "Fitted\n"
     ]
    },
    {
     "name": "stderr",
     "output_type": "stream",
     "text": [
      "\n",
      " 68%|███████████████████████████████████████████████████████                          | 68/100 [33:47<15:36, 29.27s/it]\u001b[A"
     ]
    },
    {
     "name": "stdout",
     "output_type": "stream",
     "text": [
      "Test Statistic:  0.004267970807110832\n",
      "p-value:  1.0\n",
      "(200, 40)\n",
      "(200,)\n",
      "Fitted\n"
     ]
    },
    {
     "name": "stderr",
     "output_type": "stream",
     "text": [
      "\n",
      " 69%|███████████████████████████████████████████████████████▉                         | 69/100 [34:16<15:09, 29.35s/it]\u001b[A"
     ]
    },
    {
     "name": "stdout",
     "output_type": "stream",
     "text": [
      "Test Statistic:  0.003949861016460887\n",
      "p-value:  1.0\n",
      "(200, 40)\n",
      "(200,)\n",
      "Fitted\n"
     ]
    },
    {
     "name": "stderr",
     "output_type": "stream",
     "text": [
      "\n",
      " 70%|████████████████████████████████████████████████████████▋                        | 70/100 [34:46<14:46, 29.54s/it]\u001b[A"
     ]
    },
    {
     "name": "stdout",
     "output_type": "stream",
     "text": [
      "Test Statistic:  0.009621662833565248\n",
      "p-value:  0.16683316683316685\n",
      "(200, 40)\n",
      "(200,)\n",
      "Fitted\n"
     ]
    },
    {
     "name": "stderr",
     "output_type": "stream",
     "text": [
      "\n",
      " 71%|█████████████████████████████████████████████████████████▌                       | 71/100 [35:15<14:15, 29.50s/it]\u001b[A"
     ]
    },
    {
     "name": "stdout",
     "output_type": "stream",
     "text": [
      "Test Statistic:  0.003388823168683608\n",
      "p-value:  1.0\n",
      "(200, 40)\n",
      "(200,)\n",
      "Fitted\n"
     ]
    },
    {
     "name": "stderr",
     "output_type": "stream",
     "text": [
      "\n",
      " 72%|██████████████████████████████████████████████████████████▎                      | 72/100 [35:44<13:39, 29.26s/it]\u001b[A"
     ]
    },
    {
     "name": "stdout",
     "output_type": "stream",
     "text": [
      "Test Statistic:  0.05658600379352363\n",
      "p-value:  0.000999000999000999\n",
      "(200, 40)\n",
      "(200,)\n",
      "Fitted\n"
     ]
    },
    {
     "name": "stderr",
     "output_type": "stream",
     "text": [
      "\n",
      " 73%|███████████████████████████████████████████████████████████▏                     | 73/100 [36:14<13:16, 29.49s/it]\u001b[A"
     ]
    },
    {
     "name": "stdout",
     "output_type": "stream",
     "text": [
      "Test Statistic:  0.0017241401896187503\n",
      "p-value:  1.0\n",
      "(200, 40)\n",
      "(200,)\n",
      "Fitted\n"
     ]
    },
    {
     "name": "stderr",
     "output_type": "stream",
     "text": [
      "\n",
      " 74%|███████████████████████████████████████████████████████████▉                     | 74/100 [36:45<12:53, 29.73s/it]\u001b[A"
     ]
    },
    {
     "name": "stdout",
     "output_type": "stream",
     "text": [
      "Test Statistic:  0.007063749422575372\n",
      "p-value:  0.7972027972027972\n",
      "(200, 40)\n",
      "(200,)\n",
      "Fitted\n"
     ]
    },
    {
     "name": "stderr",
     "output_type": "stream",
     "text": [
      "\n",
      " 75%|████████████████████████████████████████████████████████████▊                    | 75/100 [37:14<12:20, 29.62s/it]\u001b[A"
     ]
    },
    {
     "name": "stdout",
     "output_type": "stream",
     "text": [
      "Test Statistic:  0.004045317520791292\n",
      "p-value:  1.0\n",
      "(200, 40)\n",
      "(200,)\n",
      "Fitted\n"
     ]
    },
    {
     "name": "stderr",
     "output_type": "stream",
     "text": [
      "\n",
      " 76%|█████████████████████████████████████████████████████████████▌                   | 76/100 [37:43<11:50, 29.61s/it]\u001b[A"
     ]
    },
    {
     "name": "stdout",
     "output_type": "stream",
     "text": [
      "Test Statistic:  0.02260751309801934\n",
      "p-value:  0.000999000999000999\n",
      "(200, 40)\n",
      "(200,)\n",
      "Fitted\n"
     ]
    },
    {
     "name": "stderr",
     "output_type": "stream",
     "text": [
      "\n",
      " 77%|██████████████████████████████████████████████████████████████▎                  | 77/100 [38:13<11:23, 29.71s/it]\u001b[A"
     ]
    },
    {
     "name": "stdout",
     "output_type": "stream",
     "text": [
      "Test Statistic:  0.004536226037275659\n",
      "p-value:  0.999000999000999\n",
      "(200, 40)\n",
      "(200,)\n",
      "Fitted\n"
     ]
    },
    {
     "name": "stderr",
     "output_type": "stream",
     "text": [
      "\n",
      " 78%|███████████████████████████████████████████████████████████████▏                 | 78/100 [38:43<10:52, 29.67s/it]\u001b[A"
     ]
    },
    {
     "name": "stdout",
     "output_type": "stream",
     "text": [
      "Test Statistic:  0.004254079149954237\n",
      "p-value:  1.0\n",
      "(200, 40)\n",
      "(200,)\n",
      "Fitted\n"
     ]
    },
    {
     "name": "stderr",
     "output_type": "stream",
     "text": [
      "\n",
      " 79%|███████████████████████████████████████████████████████████████▉                 | 79/100 [39:13<10:25, 29.78s/it]\u001b[A"
     ]
    },
    {
     "name": "stdout",
     "output_type": "stream",
     "text": [
      "Test Statistic:  0.004589399162916341\n",
      "p-value:  1.0\n",
      "(200, 40)\n",
      "(200,)\n",
      "Fitted\n"
     ]
    },
    {
     "name": "stderr",
     "output_type": "stream",
     "text": [
      "\n",
      " 80%|████████████████████████████████████████████████████████████████▊                | 80/100 [39:47<10:18, 30.92s/it]\u001b[A"
     ]
    },
    {
     "name": "stdout",
     "output_type": "stream",
     "text": [
      "Test Statistic:  0.004027478828172226\n",
      "p-value:  1.0\n",
      "(200, 40)\n",
      "(200,)\n",
      "Fitted\n"
     ]
    },
    {
     "name": "stderr",
     "output_type": "stream",
     "text": [
      "\n",
      " 81%|█████████████████████████████████████████████████████████████████▌               | 81/100 [40:16<09:36, 30.33s/it]\u001b[A"
     ]
    },
    {
     "name": "stdout",
     "output_type": "stream",
     "text": [
      "Test Statistic:  0.014671321722683928\n",
      "p-value:  0.01098901098901099\n",
      "(200, 40)\n",
      "(200,)\n",
      "Fitted\n"
     ]
    },
    {
     "name": "stderr",
     "output_type": "stream",
     "text": [
      "\n",
      " 82%|██████████████████████████████████████████████████████████████████▍              | 82/100 [40:45<09:00, 30.00s/it]\u001b[A"
     ]
    },
    {
     "name": "stdout",
     "output_type": "stream",
     "text": [
      "Test Statistic:  0.006610447629062821\n",
      "p-value:  0.8941058941058941\n",
      "(200, 40)\n",
      "(200,)\n",
      "Fitted\n"
     ]
    },
    {
     "name": "stderr",
     "output_type": "stream",
     "text": [
      "\n",
      " 83%|███████████████████████████████████████████████████████████████████▏             | 83/100 [41:17<08:40, 30.60s/it]\u001b[A"
     ]
    },
    {
     "name": "stdout",
     "output_type": "stream",
     "text": [
      "Test Statistic:  0.0036434798350951647\n",
      "p-value:  1.0\n",
      "(200, 40)\n",
      "(200,)\n",
      "Fitted\n"
     ]
    },
    {
     "name": "stderr",
     "output_type": "stream",
     "text": [
      "\n",
      " 84%|████████████████████████████████████████████████████████████████████             | 84/100 [41:53<08:37, 32.32s/it]\u001b[A"
     ]
    },
    {
     "name": "stdout",
     "output_type": "stream",
     "text": [
      "Test Statistic:  0.00347579866138481\n",
      "p-value:  1.0\n",
      "(200, 40)\n",
      "(200,)\n",
      "Fitted\n"
     ]
    },
    {
     "name": "stderr",
     "output_type": "stream",
     "text": [
      "\n",
      " 85%|████████████████████████████████████████████████████████████████████▊            | 85/100 [42:32<08:33, 34.20s/it]\u001b[A"
     ]
    },
    {
     "name": "stdout",
     "output_type": "stream",
     "text": [
      "Test Statistic:  0.008813320283689419\n",
      "p-value:  0.21178821178821178\n",
      "(200, 40)\n",
      "(200,)\n",
      "Fitted\n"
     ]
    },
    {
     "name": "stderr",
     "output_type": "stream",
     "text": [
      "\n",
      " 86%|█████████████████████████████████████████████████████████████████████▋           | 86/100 [43:20<08:56, 38.30s/it]\u001b[A"
     ]
    },
    {
     "name": "stdout",
     "output_type": "stream",
     "text": [
      "Test Statistic:  0.009201612352565003\n",
      "p-value:  0.20279720279720279\n",
      "(200, 40)\n",
      "(200,)\n",
      "Fitted\n"
     ]
    },
    {
     "name": "stderr",
     "output_type": "stream",
     "text": [
      "\n",
      " 87%|██████████████████████████████████████████████████████████████████████▍          | 87/100 [43:50<07:45, 35.81s/it]\u001b[A"
     ]
    },
    {
     "name": "stdout",
     "output_type": "stream",
     "text": [
      "Test Statistic:  0.005924956738425968\n",
      "p-value:  0.9410589410589411\n",
      "(200, 40)\n",
      "(200,)\n",
      "Fitted\n"
     ]
    },
    {
     "name": "stderr",
     "output_type": "stream",
     "text": [
      "\n",
      " 88%|███████████████████████████████████████████████████████████████████████▎         | 88/100 [44:20<06:48, 34.08s/it]\u001b[A"
     ]
    },
    {
     "name": "stdout",
     "output_type": "stream",
     "text": [
      "Test Statistic:  0.004796999357683185\n",
      "p-value:  1.0\n",
      "(200, 40)\n",
      "(200,)\n",
      "Fitted\n"
     ]
    },
    {
     "name": "stderr",
     "output_type": "stream",
     "text": [
      "\n",
      " 89%|████████████████████████████████████████████████████████████████████████         | 89/100 [44:50<06:03, 33.08s/it]\u001b[A"
     ]
    },
    {
     "name": "stdout",
     "output_type": "stream",
     "text": [
      "Test Statistic:  0.01489598896462141\n",
      "p-value:  0.01998001998001998\n",
      "(200, 40)\n",
      "(200,)\n",
      "Fitted\n"
     ]
    },
    {
     "name": "stderr",
     "output_type": "stream",
     "text": [
      "\n",
      " 90%|████████████████████████████████████████████████████████████████████████▉        | 90/100 [45:19<05:18, 31.87s/it]\u001b[A"
     ]
    },
    {
     "name": "stdout",
     "output_type": "stream",
     "text": [
      "Test Statistic:  0.004243960924495638\n",
      "p-value:  1.0\n",
      "(200, 40)\n",
      "(200,)\n",
      "Fitted\n"
     ]
    },
    {
     "name": "stderr",
     "output_type": "stream",
     "text": [
      "\n",
      " 91%|█████████████████████████████████████████████████████████████████████████▋       | 91/100 [45:49<04:39, 31.08s/it]\u001b[A"
     ]
    },
    {
     "name": "stdout",
     "output_type": "stream",
     "text": [
      "Test Statistic:  0.004520402623868103\n",
      "p-value:  1.0\n",
      "(200, 40)\n",
      "(200,)\n",
      "Fitted\n"
     ]
    },
    {
     "name": "stderr",
     "output_type": "stream",
     "text": [
      "\n",
      " 92%|██████████████████████████████████████████████████████████████████████████▌      | 92/100 [46:19<04:05, 30.74s/it]\u001b[A"
     ]
    },
    {
     "name": "stdout",
     "output_type": "stream",
     "text": [
      "Test Statistic:  0.010090816203631614\n",
      "p-value:  0.1938061938061938\n",
      "(200, 40)\n",
      "(200,)\n",
      "Fitted\n"
     ]
    },
    {
     "name": "stderr",
     "output_type": "stream",
     "text": [
      "\n",
      " 93%|███████████████████████████████████████████████████████████████████████████▎     | 93/100 [46:48<03:32, 30.39s/it]\u001b[A"
     ]
    },
    {
     "name": "stdout",
     "output_type": "stream",
     "text": [
      "Test Statistic:  0.007633990046030714\n",
      "p-value:  0.5364635364635365\n",
      "(200, 40)\n",
      "(200,)\n",
      "Fitted\n"
     ]
    },
    {
     "name": "stderr",
     "output_type": "stream",
     "text": [
      "\n",
      " 94%|████████████████████████████████████████████████████████████████████████████▏    | 94/100 [47:17<02:59, 29.93s/it]\u001b[A"
     ]
    },
    {
     "name": "stdout",
     "output_type": "stream",
     "text": [
      "Test Statistic:  0.002367956225794776\n",
      "p-value:  1.0\n",
      "(200, 40)\n",
      "(200,)\n",
      "Fitted\n"
     ]
    },
    {
     "name": "stderr",
     "output_type": "stream",
     "text": [
      "\n",
      " 95%|████████████████████████████████████████████████████████████████████████████▉    | 95/100 [47:46<02:28, 29.79s/it]\u001b[A"
     ]
    },
    {
     "name": "stdout",
     "output_type": "stream",
     "text": [
      "Test Statistic:  0.007335839903118813\n",
      "p-value:  0.5584415584415584\n",
      "(200, 40)\n",
      "(200,)\n",
      "Fitted\n"
     ]
    },
    {
     "name": "stderr",
     "output_type": "stream",
     "text": [
      "\n",
      " 96%|█████████████████████████████████████████████████████████████████████████████▊   | 96/100 [48:16<01:59, 29.76s/it]\u001b[A"
     ]
    },
    {
     "name": "stdout",
     "output_type": "stream",
     "text": [
      "Test Statistic:  0.012312880619337885\n",
      "p-value:  0.07692307692307693\n",
      "(200, 40)\n",
      "(200,)\n",
      "Fitted\n"
     ]
    },
    {
     "name": "stderr",
     "output_type": "stream",
     "text": [
      "\n",
      " 97%|██████████████████████████████████████████████████████████████████████████████▌  | 97/100 [48:46<01:29, 29.92s/it]\u001b[A"
     ]
    },
    {
     "name": "stdout",
     "output_type": "stream",
     "text": [
      "Test Statistic:  0.005590250448042067\n",
      "p-value:  0.996003996003996\n",
      "(200, 40)\n",
      "(200,)\n",
      "Fitted\n"
     ]
    },
    {
     "name": "stderr",
     "output_type": "stream",
     "text": [
      "\n",
      " 98%|███████████████████████████████████████████████████████████████████████████████▍ | 98/100 [49:18<01:00, 30.37s/it]\u001b[A"
     ]
    },
    {
     "name": "stdout",
     "output_type": "stream",
     "text": [
      "Test Statistic:  0.008435759072972893\n",
      "p-value:  0.37962037962037964\n",
      "(200, 40)\n",
      "(200,)\n",
      "Fitted\n"
     ]
    },
    {
     "name": "stderr",
     "output_type": "stream",
     "text": [
      "\n",
      " 99%|████████████████████████████████████████████████████████████████████████████████▏| 99/100 [49:56<00:32, 32.81s/it]\u001b[A"
     ]
    },
    {
     "name": "stdout",
     "output_type": "stream",
     "text": [
      "Test Statistic:  0.0034880344032354182\n",
      "p-value:  1.0\n",
      "(200, 40)\n",
      "(200,)\n",
      "Fitted\n"
     ]
    },
    {
     "name": "stderr",
     "output_type": "stream",
     "text": [
      "\n",
      "100%|████████████████████████████████████████████████████████████████████████████████| 100/100 [50:26<00:00, 30.27s/it]\u001b[A\n",
      "100%|█████████████████████████████████████████████████████████████████████████████| 20/20 [17:24:25<00:00, 3133.25s/it]"
     ]
    },
    {
     "name": "stdout",
     "output_type": "stream",
     "text": [
      "Test Statistic:  0.012324810661255126\n",
      "p-value:  0.06993006993006994\n",
      "[1.0, 0.09900990099009901, 0.19801980198019803, 0.15841584158415842, 0.21782178217821782, 0.18811881188118812, 0.1485148514851485, 0.2376237623762376, 0.21782178217821782, 0.2376237623762376, 0.18811881188118812, 0.1485148514851485, 0.13861386138613863, 0.16831683168316833, 0.1485148514851485, 0.15841584158415842, 0.15841584158415842, 0.1188118811881188, 0.1485148514851485, 0.13861386138613863]\n",
      "circle done\n"
     ]
    },
    {
     "name": "stderr",
     "output_type": "stream",
     "text": [
      "\n"
     ]
    },
    {
     "data": {
      "text/plain": [
       "[1.0,\n",
       " 0.09900990099009901,\n",
       " 0.19801980198019803,\n",
       " 0.15841584158415842,\n",
       " 0.21782178217821782,\n",
       " 0.18811881188118812,\n",
       " 0.1485148514851485,\n",
       " 0.2376237623762376,\n",
       " 0.21782178217821782,\n",
       " 0.2376237623762376,\n",
       " 0.18811881188118812,\n",
       " 0.1485148514851485,\n",
       " 0.13861386138613863,\n",
       " 0.16831683168316833,\n",
       " 0.1485148514851485,\n",
       " 0.15841584158415842,\n",
       " 0.15841584158415842,\n",
       " 0.1188118811881188,\n",
       " 0.1485148514851485,\n",
       " 0.13861386138613863]"
      ]
     },
     "execution_count": 8,
     "metadata": {},
     "output_type": "execute_result"
    }
   ],
   "source": [
    "estimate_power(\"circle\", \"UF\")"
   ]
  },
  {
   "cell_type": "code",
   "execution_count": null,
   "metadata": {},
   "outputs": [],
   "source": [
    "sim = 'linear'\n",
    "\n",
    "est_power = np.genfromtxt('C:/Users/siptest/Desktop/NDD/{}_{}_vs_Dimension_HonestSampling_5_16.csv'.format(sim, \"UF\"),\n",
    "delimiter=\",\")\n",
    "\n",
    "dim_range = find_dim_range(find_dim(sim))\n",
    "\n",
    "col.plot(dim_range, est_power, label=INDEP_TESTS[test].__name__, lw=2)\n",
    "col.set_xticks([])\n",
    "if i == 3:\n",
    "col.set_xticks([dim_range[0], dim_range[-1]])\n",
    "col.set_ylim(-0.05, 1.05)\n",
    "col.set_yticks([])\n",
    "if j == 0:\n",
    "col.set_yticks([0, 1])\n",
    "col.set_title(SIM_TITLES[count])"
   ]
  },
  {
   "cell_type": "code",
   "execution_count": null,
   "metadata": {},
   "outputs": [],
   "source": [
    "import seaborn as sns\n",
    "import matplotlib.pyplot as plt\n",
    "sns.set(color_codes=True, style='white', context='talk', font_scale=2)\n",
    "PALETTE = sns.color_palette(\"Set1\")\n",
    "sns.set_palette(PALETTE[1:], n_colors=9)\n",
    "\n",
    "from hyppo.tools import INDEP_TESTS\n",
    "\n",
    "SIM_TITLES = [\n",
    "    \"Linear\",\n",
    "    \"Exponential\",\n",
    "    \"Cubic\",\n",
    "    \"Joint Normal\",\n",
    "    \"Step\",\n",
    "    \"Quadratic\",\n",
    "    \"W-Shaped\",\n",
    "    \"Spiral\",\n",
    "    \"Bernoulli\",\n",
    "    \"Logarithmic\",\n",
    "    \"Fourth Root\",\n",
    "    \"Sine 4\\u03C0\",\n",
    "    \"Sine 16\\u03C0\",\n",
    "    \"Square\",\n",
    "    \"Two Parabolas\",\n",
    "    \"Circle\",\n",
    "    \"Ellipse\",\n",
    "    \"Diamond\",\n",
    "    \"Noise\",\n",
    "    \"Independence\",\n",
    "]\n",
    "\n",
    "def plot_power_all():\n",
    "    fig, ax = plt.subplots(nrows=4, ncols=5, figsize=(25, 20))\n",
    "    plt.suptitle(\n",
    "        \"Multivariate Independence Testing (Increasing Dimension)\",\n",
    "        y=0.93,\n",
    "        va=\"baseline\",\n",
    "    )\n",
    "    \n",
    "    for i, row in enumerate(ax):\n",
    "        for j, col in enumerate(row):\n",
    "            count = 5 * i + j\n",
    "            sim = list(SIMULATIONS.keys())[count]\n",
    "\n",
    "            for test in INDEP_TESTS.keys():\n",
    "                if test == 'kmerf' or test == 'maxmargin':\n",
    "                    continue\n",
    "                \n",
    "                est_power = np.genfromtxt(\n",
    "                    \"C:/Users/siptest/hyppo/benchmarks/vs_dimension/{}_{}.csv\".format(sim, test),\n",
    "                    delimiter=\",\")\n",
    "                \n",
    "                dim_range = find_dim_range(find_dim(sim))\n",
    "\n",
    "                col.plot(dim_range, est_power, label=INDEP_TESTS[test].__name__, lw=2)\n",
    "                col.set_xticks([])\n",
    "                if i == 3:\n",
    "                    col.set_xticks([dim_range[0], dim_range[-1]])\n",
    "                col.set_ylim(-0.05, 1.05)\n",
    "                col.set_yticks([])\n",
    "                if j == 0:\n",
    "                    col.set_yticks([0, 1])\n",
    "                col.set_title(SIM_TITLES[count])\n",
    "                \n",
    "            if sim == \"linear\":\n",
    "                est_power = np.genfromtxt('C:/Users/siptest/Desktop/NDD/{}_{}_vs_Dimension_HonestSampling_5_2.csv'.format(sim, \"UF\"),\n",
    "                                  delimiter=',')\n",
    "            else:\n",
    "                est_power = np.genfromtxt('C:/Users/siptest/Desktop/NDD/{}_{}_vs_Dimension_HonestSampling_5_2.csv'.format(sim, \"UF\"),\n",
    "                                      delimiter=',')\n",
    "            dim_range = find_dim_range(find_dim(sim))\n",
    "\n",
    "            col.plot(dim_range, est_power, label=\"UF\", lw=2)\n",
    "            col.set_xticks([])\n",
    "            if i == 3:\n",
    "                col.set_xticks([dim_range[0], dim_range[-1]])\n",
    "            col.set_ylim(-0.05, 1.05)\n",
    "            col.set_yticks([])\n",
    "            if j == 0:\n",
    "                col.set_yticks([0, 1])\n",
    "            col.set_title(SIM_TITLES[count])\n",
    "            \n",
    "    fig.text(0.5, 0.05, \"Dimension\", ha=\"center\")\n",
    "    fig.text(\n",
    "        0.07,\n",
    "        0.5,\n",
    "        \"Statistical Power\",\n",
    "        va=\"center\",\n",
    "        rotation=\"vertical\",\n",
    "    )\n",
    "    leg = plt.legend(\n",
    "        bbox_to_anchor=(0.5, 0.05),\n",
    "        bbox_transform=plt.gcf().transFigure,\n",
    "        ncol=len(INDEP_TESTS.keys()),\n",
    "        loc=\"upper center\",\n",
    "    )\n",
    "    leg.get_frame().set_linewidth(0.0)\n",
    "    for legobj in leg.legendHandles:\n",
    "        legobj.set_linewidth(5.0)\n",
    "    plt.subplots_adjust(hspace=0.50)\n",
    "    plt.savefig('C:/Users/siptest/Desktop/NDD/indep_power_dimension_allSim_HonestUF_5_23.png', box_inches='tight')\n",
    "    #, box_inches='tight'\n"
   ]
  },
  {
   "cell_type": "code",
   "execution_count": null,
   "metadata": {},
   "outputs": [],
   "source": [
    "plot_power_all()"
   ]
  }
 ],
 "metadata": {
  "kernelspec": {
   "display_name": "py36",
   "language": "python",
   "name": "py36"
  },
  "language_info": {
   "codemirror_mode": {
    "name": "ipython",
    "version": 3
   },
   "file_extension": ".py",
   "mimetype": "text/x-python",
   "name": "python",
   "nbconvert_exporter": "python",
   "pygments_lexer": "ipython3",
   "version": "3.6.10"
  }
 },
 "nbformat": 4,
 "nbformat_minor": 4
}
