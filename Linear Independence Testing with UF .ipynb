{
 "cells": [
  {
   "cell_type": "code",
   "execution_count": 1,
   "metadata": {},
   "outputs": [],
   "source": [
    "import hyppo\n",
    "import numpy as np\n",
    "from numba import njit\n",
    "from hyppo.independence.base import IndependenceTest\n",
    "from hyppo._utils import perm_test\n",
    "import seaborn as sns\n",
    "import matplotlib.pyplot as plt\n",
    "import pickle\n",
    "import copy \n",
    "from sklearn.ensemble import RandomForestClassifier\n",
    "from sklearn.calibration import CalibratedClassifierCV\n",
    "from sklearn.model_selection import train_test_split\n",
    "from sklearn.ensemble import BaggingClassifier\n",
    "from sklearn.tree._classes import DecisionTreeClassifier\n",
    "from joblib import Parallel, delayed\n",
    "from scipy.stats import entropy, multivariate_normal\n",
    "from scipy.integrate import nquad"
   ]
  },
  {
   "cell_type": "code",
   "execution_count": null,
   "metadata": {},
   "outputs": [],
   "source": [
    "import sys\n",
    "sys.executable\n",
    "sys.path\n",
    "sys.path.append('C:\\\\Users\\\\siptest\\\\AppData\\\\Roaming\\\\Python\\\\Python36\\\\Scripts')"
   ]
  },
  {
   "cell_type": "code",
   "execution_count": null,
   "metadata": {},
   "outputs": [],
   "source": [
    "def uf(X, y, n_estimators = 300, max_samples = .4, base = np.exp(1), kappa = 3):\n",
    "    \n",
    "    # Build forest with default parameters.\n",
    "    model = BaggingClassifier(DecisionTreeClassifier(), \n",
    "                              n_estimators=n_estimators, \n",
    "                              max_samples=max_samples, \n",
    "                              bootstrap=False)\n",
    "    model.fit(X, y)\n",
    "    n = X.shape[0]\n",
    "    K = model.n_classes_\n",
    "    _, y = np.unique(y, return_inverse=True)\n",
    "    \n",
    "    cond_entropy = 0\n",
    "    for tree_idx, tree in enumerate(model):\n",
    "        # Find the indices of the training set used for partition.\n",
    "        sampled_indices = model.estimators_samples_[tree_idx]\n",
    "        unsampled_indices = np.delete(np.arange(0,n), sampled_indices)\n",
    "        \n",
    "        # Randomly split the rest into voting and evaluation.\n",
    "        total_unsampled = len(unsampled_indices)\n",
    "        np.random.shuffle(unsampled_indices)\n",
    "        vote_indices = unsampled_indices[:total_unsampled//2]\n",
    "        eval_indices = unsampled_indices[total_unsampled//2:]\n",
    "        \n",
    "        # Store the posterior in a num_nodes-by-num_classes matrix.\n",
    "        # Posteriors in non-leaf cells will be zero everywhere\n",
    "        # and later changed to uniform.\n",
    "        node_counts = tree.tree_.n_node_samples\n",
    "        class_counts = np.zeros((len(node_counts), K))\n",
    "        est_nodes = tree.apply(X[vote_indices])\n",
    "        est_classes = y[vote_indices]\n",
    "        for i in range(len(est_nodes)):\n",
    "            class_counts[est_nodes[i], est_classes[i]] += 1\n",
    "        \n",
    "        row_sums = class_counts.sum(axis=1) # Total number of estimation points in each leaf.\n",
    "        row_sums[row_sums == 0] = 1 # Avoid divide by zero.\n",
    "        class_probs = class_counts / row_sums[:, None]\n",
    "        \n",
    "        # Make the nodes that have no estimation indices uniform.\n",
    "        # This includes non-leaf nodes, but that will not affect the estimate.\n",
    "        class_probs[np.argwhere(class_probs.sum(axis = 1) == 0)] = [1 / K]*K\n",
    "        \n",
    "        # Apply finite sample correction and renormalize.\n",
    "        where_0 = np.argwhere(class_probs == 0)\n",
    "        for elem in where_0:\n",
    "            class_probs[elem[0], elem[1]] = 1 / (kappa*class_counts.sum(axis = 1)[elem[0]])\n",
    "        row_sums = class_probs.sum(axis=1)\n",
    "        class_probs = class_probs / row_sums[:, None]\n",
    "        \n",
    "        # Place evaluation points in their corresponding leaf node.\n",
    "        # Store evaluation posterior in a num_eval-by-num_class matrix.\n",
    "        eval_class_probs = class_probs[tree.apply(X[eval_indices])]\n",
    "        # eval_class_probs = [class_probs[x] for x in tree.apply(X[eval_indices])]\n",
    "        eval_entropies = [entropy(posterior) for posterior in eval_class_probs]\n",
    "        cond_entropy += np.mean(eval_entropies)\n",
    "\n",
    "      \n",
    "    return cond_entropy / n_estimators\n",
    "        "
   ]
  },
  {
   "cell_type": "code",
   "execution_count": null,
   "metadata": {},
   "outputs": [],
   "source": [
    "#n = 20 used for csv 1, 2\n",
    "n = 50 \n",
    "#n = 6000\n",
    "mus = range(5)\n",
    "ds = range(1, 16)\n",
    "mu = 1\n",
    "num_trials = 10\n",
    "#reps = 1\n",
    "d = 2\n",
    "pis = [0.05 * i for i in range(1, 20)]"
   ]
  },
  {
   "cell_type": "code",
   "execution_count": null,
   "metadata": {},
   "outputs": [],
   "source": [
    "def _perm_stat(X, y, is_distsim = True, permuter = None): \n",
    "    if permuter is None: \n",
    "        order = np.random.permutation(y.shape[0])\n",
    "    else: \n",
    "        order = permuter()\n",
    "    \n",
    "    if is_distsim: \n",
    "        permy = y[order][:, order]\n",
    "    else: \n",
    "        permy = y[order]\n",
    "    \n",
    "    perm_stat = uf(X, permy, n, d, pis, num_trials)\n",
    "    \n",
    "    return perm_stat"
   ]
  },
  {
   "cell_type": "code",
   "execution_count": null,
   "metadata": {},
   "outputs": [],
   "source": [
    "def perm_test(X, y, workers = -1, is_distsim=True, perm_block = None, reps = 1000): \n",
    "\n",
    "    # calculate observed test statistic\n",
    "    stat = uf(X, y, n, d, pis, num_trials)\n",
    "    #print(stat) \n",
    "\n",
    "    # calculate null distribution\n",
    "    null_dist = np.array(\n",
    "        Parallel(n_jobs=-2)(\n",
    "            [\n",
    "                delayed(_perm_stat)(X, y, False) \n",
    "                for rep in range(reps)\n",
    "            ]\n",
    "        )\n",
    "    )\n",
    "            \n",
    "    pvalue = (null_dist >= stat).sum() / reps\n",
    "\n",
    "    # correct for a p-value of 0. This is because, with bootstrapping\n",
    "    # permutations, a p-value of 0 is incorrect\n",
    "    if pvalue == 0:\n",
    "        pvalue = 1 / reps\n",
    "\n",
    "    #return stat, pvalue, null_dist\n",
    "    print(stat, pvalue, null_dist)\n",
    "    return pvalue"
   ]
  },
  {
   "cell_type": "code",
   "execution_count": null,
   "metadata": {},
   "outputs": [],
   "source": [
    "from hyppo.sims import *\n",
    "from hyppo.ksample._utils import k_sample_transform\n",
    "pvalues = []\n",
    "for i in range(1, 100): \n",
    "    matrix1, matrix2 = hyppo.sims.trans_2samp(linear, 100, 1, noise=True, degree=90, trans=0.3)\n",
    "    x, y = k_sample_transform([matrix1, matrix2])\n",
    "    pval = perm_test(x, y)\n",
    "    pvalues.append(pval)\n",
    "np.savetxt('C:/Users/siptest/Desktop/NDD/UFLinearIndependencePvals.csv',\n",
    "               pvalues, delimiter=',')    "
   ]
  },
  {
   "cell_type": "code",
   "execution_count": 4,
   "metadata": {},
   "outputs": [
    {
     "data": {
      "image/png": "[encoded data removed]",
      "text/plain": [
       "<Figure size 432x288 with 1 Axes>"
      ]
     },
     "metadata": {
      "needs_background": "light"
     },
     "output_type": "display_data"
    }
   ],
   "source": [
    "from statsmodels.distributions.empirical_distribution import ECDF\n",
    "toPlot = np.genfromtxt('C:/Users/siptest/Desktop/NDD/UFLinearIndependencePvals.csv', delimiter=',')  \n",
    "plt.plot(ecdf.x, ecdf.y)\n",
    "plt.gca().set_aspect('equal', adjustable='box')\n",
    "plt.xlabel(\"p-value\")\n",
    "plt.xlim(0, 1)\n",
    "plt.ylim(0, 1)\n",
    "plt.ylabel(\"fraction of data\")\n",
    "plt.savefig('C:/Users/siptest/Desktop/NDD/UFLinearIndependenceECDF.png')\n",
    "plt.show()"
   ]
  }
 ],
 "metadata": {
  "kernelspec": {
   "display_name": "py36",
   "language": "python",
   "name": "py36"
  },
  "language_info": {
   "codemirror_mode": {
    "name": "ipython",
    "version": 3
   },
   "file_extension": ".py",
   "mimetype": "text/x-python",
   "name": "python",
   "nbconvert_exporter": "python",
   "pygments_lexer": "ipython3",
   "version": "3.6.10"
  }
 },
 "nbformat": 4,
 "nbformat_minor": 4
}
