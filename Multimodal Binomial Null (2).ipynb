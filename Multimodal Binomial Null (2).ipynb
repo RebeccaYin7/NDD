{
 "cells": [
  {
   "cell_type": "code",
   "execution_count": 1,
   "id": "automatic-transsexual",
   "metadata": {},
   "outputs": [],
   "source": [
    "import hyppo\n",
    "import numpy as np\n",
    "from numba import njit\n",
    "from hyppo.independence.base import IndependenceTest\n",
    "from hyppo._utils import perm_test\n",
    "import seaborn as sns\n",
    "import matplotlib.pyplot as plt\n",
    "import pickle\n",
    "import copy \n",
    "from sklearn.ensemble import RandomForestClassifier\n",
    "from sklearn.calibration import CalibratedClassifierCV\n",
    "from sklearn.model_selection import train_test_split\n",
    "from sklearn.ensemble import BaggingClassifier\n",
    "from sklearn.tree._classes import DecisionTreeClassifier\n",
    "from joblib import Parallel, delayed\n",
    "from scipy.stats import entropy, multivariate_normal\n",
    "from scipy.integrate import nquad"
   ]
  },
  {
   "cell_type": "code",
   "execution_count": null,
   "id": "specified-europe",
   "metadata": {},
   "outputs": [],
   "source": [
    "\n",
    "from hyppo.sims import ksample_sim\n",
    "from hyppo.ksample._utils import k_sample_transform\n",
    "from hyppo.sims import *"
   ]
  },
  {
   "cell_type": "code",
   "execution_count": null,
   "id": "greek-ethics",
   "metadata": {},
   "outputs": [],
   "source": [
    "import sys\n",
    "sys.executable\n",
    "sys.path\n",
    "sys.path.append('C:\\\\Users\\\\siptest\\\\AppData\\\\Roaming\\\\Python\\\\Python36\\\\Scripts')"
   ]
  },
  {
   "cell_type": "code",
   "execution_count": null,
   "id": "hungarian-playback",
   "metadata": {},
   "outputs": [],
   "source": [
    "def uf(X, y, n_estimators = 300, max_samples = .4, base = np.exp(1), kappa = 3):\n",
    "    \n",
    "    # Build forest with default parameters.\n",
    "    model = BaggingClassifier(DecisionTreeClassifier(), \n",
    "                              n_estimators=n_estimators, \n",
    "                              max_samples=max_samples, \n",
    "                              bootstrap=False)\n",
    "    model.fit(X, y)\n",
    "    n = X.shape[0]\n",
    "    K = model.n_classes_\n",
    "    _, y = np.unique(y, return_inverse=True)\n",
    "    \n",
    "    cond_entropy = 0\n",
    "    for tree_idx, tree in enumerate(model):\n",
    "        # Find the indices of the training set used for partition.\n",
    "        sampled_indices = model.estimators_samples_[tree_idx]\n",
    "        unsampled_indices = np.delete(np.arange(0,n), sampled_indices)\n",
    "        \n",
    "        # Randomly split the rest into voting and evaluation.\n",
    "        total_unsampled = len(unsampled_indices)\n",
    "        np.random.shuffle(unsampled_indices)\n",
    "        vote_indices = unsampled_indices[:total_unsampled//2]\n",
    "        eval_indices = unsampled_indices[total_unsampled//2:]\n",
    "        \n",
    "        # Store the posterior in a num_nodes-by-num_classes matrix.\n",
    "        # Posteriors in non-leaf cells will be zero everywhere\n",
    "        # and later changed to uniform.\n",
    "        node_counts = tree.tree_.n_node_samples\n",
    "        class_counts = np.zeros((len(node_counts), K))\n",
    "        est_nodes = tree.apply(X[vote_indices])\n",
    "        est_classes = y[vote_indices]\n",
    "        for i in range(len(est_nodes)):\n",
    "            class_counts[est_nodes[i], est_classes[i]] += 1\n",
    "        \n",
    "        row_sums = class_counts.sum(axis=1) # Total number of estimation points in each leaf.\n",
    "        row_sums[row_sums == 0] = 1 # Avoid divide by zero.\n",
    "        class_probs = class_counts / row_sums[:, None]\n",
    "        \n",
    "        # Make the nodes that have no estimation indices uniform.\n",
    "        # This includes non-leaf nodes, but that will not affect the estimate.\n",
    "        class_probs[np.argwhere(class_probs.sum(axis = 1) == 0)] = [1 / K]*K\n",
    "        \n",
    "        # Apply finite sample correction and renormalize.\n",
    "        where_0 = np.argwhere(class_probs == 0)\n",
    "        for elem in where_0:\n",
    "            class_probs[elem[0], elem[1]] = 1 / (kappa*class_counts.sum(axis = 1)[elem[0]])\n",
    "        row_sums = class_probs.sum(axis=1)\n",
    "        class_probs = class_probs / row_sums[:, None]\n",
    "        \n",
    "        # Place evaluation points in their corresponding leaf node.\n",
    "        # Store evaluation posterior in a num_eval-by-num_class matrix.\n",
    "        eval_class_probs = class_probs[tree.apply(X[eval_indices])]\n",
    "        # eval_class_probs = [class_probs[x] for x in tree.apply(X[eval_indices])]\n",
    "        eval_entropies = [entropy(posterior) for posterior in eval_class_probs]\n",
    "        cond_entropy += np.mean(eval_entropies)\n",
    "\n",
    "      \n",
    "    return cond_entropy / n_estimators"
   ]
  },
  {
   "cell_type": "code",
   "execution_count": null,
   "id": "resistant-compatibility",
   "metadata": {},
   "outputs": [],
   "source": [
    "\n",
    "MAX_SAMPLE_SIZE = 100\n",
    "#STEP_SIZE = 5\n",
    "STEP_SIZE = 20\n",
    "SAMP_SIZES = range(20, MAX_SAMPLE_SIZE + STEP_SIZE, STEP_SIZE)\n",
    "#SAMP_SIZES = range(5, MAX_SAMPLE_SIZE + STEP_SIZE, STEP_SIZE)\n",
    "POWER_REPS = 20"
   ]
  },
  {
   "cell_type": "code",
   "execution_count": null,
   "id": "heavy-creativity",
   "metadata": {},
   "outputs": [],
   "source": [
    "def test(): \n",
    "    nullDist = []\n",
    "    success= 0\n",
    "    for i in range(1000): \n",
    "        temp = []\n",
    "        success = np.random.binomial(1000, 0.5)\n",
    "        temp.append(success/1000)\n",
    "        temp.append((1000-success)/1000)\n",
    "        nullDist.append(entropy(temp, base = np.exp(1)))\n",
    "    #print(nullDist)\n",
    "    \n",
    "    matrix1, matrix2 = ksample_sim.trans_2samp(multimodal_independence, 500, 1, noise=True, trans=0.3)\n",
    "    x, y = k_sample_transform([matrix1, matrix2])\n",
    "    ce = uf(x, y)\n",
    "    #to calculate p-value, get proportion of null greater then ce from UF \n",
    "    pvalue = (nullDist >= ce).sum() / 1000\n",
    "    if pvalue == 0: \n",
    "        pvalue = 1/1000\n",
    "    \n",
    "    #print(ce, pvalue) \n",
    "    return nullDist, ce, pvalue"
   ]
  },
  {
   "cell_type": "code",
   "execution_count": null,
   "id": "happy-panel",
   "metadata": {},
   "outputs": [],
   "source": [
    "power = []\n",
    "for x in SAMP_SIZES:\n",
    "    pvalues = []\n",
    "    num = 0; \n",
    "    for p in range(POWER_REPS): \n",
    "        null_Dist, test_stat, p_val = test()\n",
    "        #pvalue = (null_Dist <= test_stat).sum() / 1000\n",
    "        pvalues.append(p_val)\n",
    "    for pval in pvalues: \n",
    "        if pval <= 0.05: \n",
    "            num=num+1\n",
    "    power.append(num/ POWER_REPS)\n",
    "    print(num / POWER_REPS)\n",
    "\n",
    "np.savetxt('C:/Users/Admin/Desktop/NDD/UFIndependenceBinomialNull2.csv',\n",
    "               power, delimiter=',')"
   ]
  },
  {
   "cell_type": "code",
   "execution_count": 4,
   "id": "gentle-allen",
   "metadata": {},
   "outputs": [
    {
     "data": {
      "image/png": "[encoded data removed]",
      "text/plain": [
       "<Figure size 432x288 with 1 Axes>"
      ]
     },
     "metadata": {
      "needs_background": "light"
     },
     "output_type": "display_data"
    },
    {
     "data": {
      "text/plain": [
       "'ecdf = ECDF(toPlot)\\nplt.gca().set_aspect(\\'equal\\', adjustable=\\'box\\')\\nplt.xlabel(\"p-value\")\\nplt.xlim(0, 1)\\nplt.ylim(0, 1)\\nplt.ylabel(\"fraction of data\")\\nplt.savefig(\\'C:/Users/Admin/Desktop/UFMultimodalBinomial.png\\')\\nplt.show()'"
      ]
     },
     "execution_count": 4,
     "metadata": {},
     "output_type": "execute_result"
    }
   ],
   "source": [
    "#np.savetxt('C:/Users/Admin/Desktop/UFIndependenceBinomialNull.csv', power, delimiter=',')\n",
    "import matplotlib.pyplot as plt\n",
    "from statsmodels.distributions.empirical_distribution import ECDF\n",
    "#np.savetxt('C:/Users/Admin/Desktop/UFIndependenceBinomialNull2.csv',\n",
    "               #power, delimiter=',')\n",
    "toPlot = np.genfromtxt('C:/Users/Admin/Desktop/UFIndependenceBinomialNull2.csv', delimiter=',')\n",
    "plt.plot(toPlot)\n",
    "plt.show()\n",
    "\"\"\"ecdf = ECDF(toPlot)\n",
    "plt.gca().set_aspect('equal', adjustable='box')\n",
    "plt.xlabel(\"p-value\")\n",
    "plt.xlim(0, 1)\n",
    "plt.ylim(0, 1)\n",
    "plt.ylabel(\"fraction of data\")\n",
    "plt.savefig('C:/Users/Admin/Desktop/UFMultimodalBinomial.png')\n",
    "plt.show()\"\"\""
   ]
  }
 ],
 "metadata": {
  "kernelspec": {
   "display_name": "Python 3",
   "language": "python",
   "name": "python3"
  },
  "language_info": {
   "codemirror_mode": {
    "name": "ipython",
    "version": 3
   },
   "file_extension": ".py",
   "mimetype": "text/x-python",
   "name": "python",
   "nbconvert_exporter": "python",
   "pygments_lexer": "ipython3",
   "version": "3.6.12"
  }
 },
 "nbformat": 4,
 "nbformat_minor": 5
}
