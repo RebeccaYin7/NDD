{
 "cells": [
  {
   "cell_type": "code",
   "execution_count": null,
   "metadata": {},
   "outputs": [],
   "source": [
    "from benchmarks import power_2samp_dimension\n",
    "from hyppo.independence import CCA, Dcorr, HHG, Hsic, RV, MGC\n",
    "from hyppo.sims import *\n",
    "\n",
    "#sys.path.append(os.path.realpath('..'))"
   ]
  },
  {
   "cell_type": "code",
   "execution_count": null,
   "metadata": {},
   "outputs": [],
   "source": [
    "import seaborn as sns\n",
    "sns.set(color_codes=True, style='white', context='talk', font_scale=2)\n",
    "PALETTE = sns.color_palette(\"Set1\")\n",
    "sns.set_palette(PALETTE[3:])"
   ]
  },
  {
   "cell_type": "code",
   "execution_count": null,
   "metadata": {},
   "outputs": [],
   "source": [
    "import rpy2\n",
    "from rpy2.robjects import Formula, numpy2ri\n",
    "from rpy2.robjects.packages import importr"
   ]
  },
  {
   "cell_type": "code",
   "execution_count": null,
   "metadata": {},
   "outputs": [],
   "source": [
    "MAX_DIMENSION = 2\n",
    "STEP_SIZE = 1\n",
    "DIMENSIONS = range(1, MAX_DIMENSION + STEP_SIZE, STEP_SIZE)\n",
    "POWER_REPS = 1\n",
    "simulations = [\n",
    "    linear,\n",
    "    exponential,\n",
    "    cubic,\n",
    "    joint_normal,\n",
    "    step,\n",
    "    quadratic,\n",
    "    w_shaped,\n",
    "    spiral,\n",
    "    uncorrelated_bernoulli,\n",
    "    logarithmic,\n",
    "    fourth_root,\n",
    "    sin_four_pi,\n",
    "    sin_sixteen_pi,\n",
    "    square,\n",
    "    two_parabolas,\n",
    "    circle,\n",
    "    ellipse,\n",
    "    diamond,\n",
    "    multiplicative_noise,\n",
    "    multimodal_independence\n",
    "]\n",
    "\n",
    "#test = perm_test(X,y)"
   ]
  },
  {
   "cell_type": "code",
   "execution_count": null,
   "metadata": {},
   "outputs": [],
   "source": [
    "#def estimate_power(sim, test):\n",
    "def estimate_power(sim):\n",
    "    est_power = np.array([np.mean([power_2samp_dimension(UF, trans_2samp, sim, p=i) for _ in range(POWER_REPS)])\n",
    "                          for i in DIMENSIONS])\n",
    "    np.savetxt('../benchmarks/2samp_vs_dimension/{}_{}.csv'.format(sim.__name__, \"UF\"),\n",
    "               est_power, delimiter=',')\n",
    "    \n",
    "    return est_power"
   ]
  },
  {
   "cell_type": "code",
   "execution_count": null,
   "metadata": {},
   "outputs": [],
   "source": [
    "outputs = Parallel(n_jobs=-1, verbose=100)(\n",
    "    #[delayed(estimate_power)(sim, perm_test(X, y)) for sim in simulations]\n",
    "    [delayed(estimate_power)(sim) for sim in simulations]\n",
    ")"
   ]
  },
  {
   "cell_type": "code",
   "execution_count": null,
   "metadata": {},
   "outputs": [],
   "source": [
    "def plot_power():\n",
    "    fig, ax = plt.subplots(nrows=4, ncols=5, figsize=(28,24))\n",
    "    \n",
    "    sim_title = [\n",
    "        \"Linear\",\n",
    "        \"Exponential\",\n",
    "        \"Cubic\",\n",
    "        \"Joint Normal\",\n",
    "        \"Step\",\n",
    "        \"Quadratic\",\n",
    "        \"W-Shaped\",\n",
    "        \"Spiral\",\n",
    "        \"Bernoulli\",\n",
    "        \"Logarithmic\",\n",
    "        \"Fourth Root\",\n",
    "        \"Sine 4\\u03C0\",\n",
    "        \"Sine 16\\u03C0\",\n",
    "        \"Square\",\n",
    "        \"Two Parabolas\",\n",
    "        \"Circle\",\n",
    "        \"Ellipse\",\n",
    "        \"Diamond\",\n",
    "        \"Multiplicative\",\n",
    "        \"Independence\"\n",
    "    ]\n",
    "\n",
    "    for i, row in enumerate(ax):\n",
    "        for j, col in enumerate(row): \n",
    "            count = 5*i + j\n",
    "            sim = simulations[count]\n",
    "            \n",
    "            power = np.genfromtxt('../benchmarks/2samp_vs_dimensions/{}_{}.csv',format(sim._name_, \"UF\"), delimiter= \",\")\n",
    "            \n",
    "            col.plot(DIMENSIONS, power, label=test._name_, lw=1)\n",
    "            col.set_xticks([])\n",
    "            if i == 3:\n",
    "                    col.set_xticks([DIMENSIONS[0], DIMENSIONS[-1]])\n",
    "            col.set_ylim(-1.05, 1.05)\n",
    "            if j==0: \n",
    "                col.set_yticks([-1, 0, 1])\n",
    "            col.set_title(sim_title[count])\n",
    "            \n",
    "    fig.text(0.5, 0.08, 'Dimension', ha='center')\n",
    "    fig.text(0.08, 0.5, 'Absolute Statistical Power', va='center', rotation='vertical')\n",
    "    leg = plt.legend(bbox_to_anchor=(0.5, 0.08), bbox_transform=plt.gcf().transFigure,\n",
    "                     ncol=5, loc='upper center')\n",
    "    leg.get_frame().set_linewidth(0.0)\n",
    "    for legobj in leg.legendHandles:\n",
    "        legobj.set_linewidth(5.0)\n",
    "    plt.subplots_adjust(hspace=.50)\n",
    "    plt.savefig('../benchmarks/figs/2samp_power_dimension.pdf', transparent=True, bbox_inches='tight')"
   ]
  },
  {
   "cell_type": "code",
   "execution_count": null,
   "metadata": {},
   "outputs": [],
   "source": [
    "plot_power()"
   ]
  }
 ],
 "metadata": {
  "kernelspec": {
   "display_name": "py36",
   "language": "python",
   "name": "py36"
  },
  "language_info": {
   "codemirror_mode": {
    "name": "ipython",
    "version": 3
   },
   "file_extension": ".py",
   "mimetype": "text/x-python",
   "name": "python",
   "nbconvert_exporter": "python",
   "pygments_lexer": "ipython3",
   "version": "3.6.10"
  }
 },
 "nbformat": 4,
 "nbformat_minor": 4
}
