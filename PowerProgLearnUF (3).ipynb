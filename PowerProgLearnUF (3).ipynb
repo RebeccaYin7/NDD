{
 "cells": [
  {
   "cell_type": "code",
   "execution_count": null,
   "metadata": {
    "scrolled": true
   },
   "outputs": [],
   "source": [
    "\n",
    "import sys\n",
    "sys.executable\n",
    "sys.path\n",
    "sys.path.append('C:\\\\Users\\\\siptest\\\\AppData\\\\Roaming\\\\Python\\\\Python36\\\\Scripts')\n",
    "sys.path.append('C:\\\\Users\\\\siptest\\\\AppData\\\\Roaming\\\\Python\\\\Python36\\\\Scripts\\\\site-packages')\n",
    "#C:\\Users\\siptest\\AppData\\Roaming\\Python\\Python36\\site-packages\n",
    "\n",
    "import numpy as np\n",
    "import seaborn as sns\n",
    "import matplotlib.pyplot as plt\n",
    "import pickle\n",
    "\n",
    "from sklearn.ensemble import RandomForestClassifier\n",
    "from sklearn.calibration import CalibratedClassifierCV\n",
    "from sklearn.model_selection import train_test_split\n",
    "from sklearn.ensemble import BaggingClassifier\n",
    "from sklearn.tree import DecisionTreeClassifier\n",
    "\n",
    "#from tqdm.notebook imporcd t tqdm\n",
    "from joblib import Parallel, delayed\n",
    "\n",
    "from scipy.stats import entropy, norm\n",
    "from scipy.integrate import quad\n",
    "\n",
    "from proglearn.proglearn.forest import UncertaintyForest\n",
    "\n"
   ]
  },
  {
   "cell_type": "code",
   "execution_count": null,
   "metadata": {},
   "outputs": [],
   "source": [
    "from hyppo.sims import ksample_sim\n",
    "from hyppo.ksample._utils import k_sample_transform\n",
    "from hyppo.sims import *\n"
   ]
  },
  {
   "cell_type": "code",
   "execution_count": null,
   "metadata": {},
   "outputs": [],
   "source": [
    "#modified code to use ProgLearn's UF \n",
    "def estimate_ce(X, y): \n",
    "    frac_eval = 0.3\n",
    "    uf = UncertaintyForest(n_estimators = 300, kappa = 3.0, tree_construction_proportion=0.4)\n",
    "    \n",
    "    X_train, X_eval, y_train, y_eval = train_test_split(X, y, test_size=frac_eval)\n",
    "    uf.fit(X_train, y_train.ravel())\n",
    "    p = uf.predict_proba(X_eval)\n",
    "    return np.mean(entropy(p.T, base = np.exp(1)))"
   ]
  },
  {
   "cell_type": "code",
   "execution_count": 4,
   "metadata": {},
   "outputs": [],
   "source": [
    "MAX_SAMPLE_SIZE = 100\n",
    "#STEP_SIZE = 5\n",
    "STEP_SIZE = 20\n",
    "SAMP_SIZES = range(20, MAX_SAMPLE_SIZE + STEP_SIZE, STEP_SIZE)\n",
    "#SAMP_SIZES = range(5, MAX_SAMPLE_SIZE + STEP_SIZE, STEP_SIZE)\n",
    "POWER_REPS = 20"
   ]
  },
  {
   "cell_type": "code",
   "execution_count": null,
   "metadata": {},
   "outputs": [],
   "source": [
    "def test(): \n",
    "    nullDist = []\n",
    "    success= 0\n",
    "    for i in range(1000): \n",
    "        temp = []\n",
    "        success = np.random.binomial(1000, 0.5)\n",
    "        temp.append(success/1000)\n",
    "        temp.append((1000-success)/1000)\n",
    "        nullDist.append(entropy(temp, base = np.exp(1)))\n",
    "    print(nullDist)\n",
    "    \n",
    "    matrix1, matrix2 = ksample_sim.trans_2samp(multimodal_independence, 500, 1, noise=False, trans=0.3)\n",
    "    x, y = k_sample_transform([matrix1, matrix2])\n",
    "    ce = estimate_ce(x, y)\n",
    "    #to calculate p-value, get proportion of null greater then ce from UF \n",
    "    pvalue = (nullDist >= ce).sum() / 1000\n",
    "    \n",
    "    return nullDist, ce, pvalue"
   ]
  },
  {
   "cell_type": "code",
   "execution_count": null,
   "metadata": {},
   "outputs": [],
   "source": [
    "power = []\n",
    "for x in SAMP_SIZES:\n",
    "    pvalues = []\n",
    "    num = 0; \n",
    "    for p in range(POWER_REPS): \n",
    "        null_Dist, test_stat, p_val = test()\n",
    "        pvalue = (null_Dist >= test_stat).sum() / 1000\n",
    "        pvalues.append(pvalue)\n",
    "    for pval in pvalues: \n",
    "        if pval >= 0.05: \n",
    "            num=num+1\n",
    "    power.append(num/ POWER_REPS)\n",
    "\n",
    "np.savetxt('C:/Users/siptest/Desktop/hyppo/benchmarks/2samp_vs_samplesize/UF_MultiModal_NotNull.csv',\n",
    "               power, delimiter=',')    \n"
   ]
  },
  {
   "cell_type": "code",
   "execution_count": 9,
   "metadata": {},
   "outputs": [
    {
     "data": {
      "text/plain": [
       "[<matplotlib.lines.Line2D at 0x20351c085f8>]"
      ]
     },
     "execution_count": 9,
     "metadata": {},
     "output_type": "execute_result"
    },
    {
     "data": {
      "image/png": "[encoded data removed]",
      "text/plain": [
       "<Figure size 432x288 with 1 Axes>"
      ]
     },
     "metadata": {
      "needs_background": "light"
     },
     "output_type": "display_data"
    }
   ],
   "source": [
    "import numpy as np\n",
    "import matplotlib.pyplot as plt\n",
    "plot = np.genfromtxt('C:/Users/siptest/Desktop/hyppo/benchmarks/2samp_vs_samplesize/UF_MultiModal_NotNull.csv', delimiter=',')    \n",
    "\n",
    "plt.plot(SAMP_SIZES, plot, lw=2)"
   ]
  }
 ],
 "metadata": {
  "kernelspec": {
   "display_name": "py36",
   "language": "python",
   "name": "py36"
  },
  "language_info": {
   "codemirror_mode": {
    "name": "ipython",
    "version": 3
   },
   "file_extension": ".py",
   "mimetype": "text/x-python",
   "name": "python",
   "nbconvert_exporter": "python",
   "pygments_lexer": "ipython3",
   "version": "3.6.10"
  }
 },
 "nbformat": 4,
 "nbformat_minor": 4
}
